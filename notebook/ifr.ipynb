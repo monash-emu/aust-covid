{
 "cells": [
  {
   "cell_type": "code",
   "execution_count": null,
   "id": "ece401f1-2bf9-4456-916f-1a4549b1346c",
   "metadata": {},
   "outputs": [],
   "source": [
    "import pandas as pd\n",
    "pd.options.plotting.backend = 'plotly'\n",
    "from plotly import graph_objects as go"
   ]
  },
  {
   "cell_type": "code",
   "execution_count": null,
   "id": "0669333d-d5bb-42d0-9d3c-8b9f6b31dc79",
   "metadata": {},
   "outputs": [],
   "source": [
    "odriscoll = pd.Series(\n",
    "    {\n",
    "        0: 0.003,\n",
    "        5: 0.001,\n",
    "        10: 0.001,\n",
    "        15: 0.003,\n",
    "        20: 0.006,\n",
    "        25: 0.013,\n",
    "        30: 0.024,\n",
    "        35: 0.04,\n",
    "        40: 0.075,\n",
    "        45: 0.121,\n",
    "        50: 0.207,\n",
    "        55: 0.323,\n",
    "        60: 0.456,\n",
    "        65: 1.075,\n",
    "        70: 1.674,\n",
    "        75: 3.203,\n",
    "        80: 8.292,\n",
    "    }\n",
    ") / 100.0\n",
    "odriscoll.index = odriscoll.index + 2.5"
   ]
  },
  {
   "cell_type": "code",
   "execution_count": null,
   "id": "aafb947c-e855-4fd9-8312-b34559c5a283",
   "metadata": {},
   "outputs": [],
   "source": [
    "erikstrup = pd.Series(\n",
    "    {\n",
    "        (17 + 36) / 2: 2.6,\n",
    "        (35 + 51) / 2: 5.8,\n",
    "        (51 + 61) / 2: 14.6,\n",
    "        (61 + 73) / 2: 24.6,\n",
    "    }\n",
    ") / 1e5"
   ]
  },
  {
   "cell_type": "code",
   "execution_count": null,
   "id": "e5ba8efd-a00e-418f-8528-076f09b6775b",
   "metadata": {},
   "outputs": [],
   "source": [
    "lower_ratio = erikstrup[26.5] / odriscoll[27.5]\n",
    "upper_ratio = erikstrup[67.0] / odriscoll[67.5]\n",
    "lower_adjusted = odriscoll[:17.5] * lower_ratio\n",
    "upper_adjusted = odriscoll[72.5:] * upper_ratio"
   ]
  },
  {
   "cell_type": "code",
   "execution_count": null,
   "id": "3e629a51-4439-4da9-8930-240570581219",
   "metadata": {},
   "outputs": [],
   "source": [
    "combined = pd.concat([lower_adjusted, erikstrup, upper_adjusted])"
   ]
  },
  {
   "cell_type": "code",
   "execution_count": null,
   "id": "dcc2f8b9-3dc3-4a21-beb6-7e278615078b",
   "metadata": {},
   "outputs": [],
   "source": [
    "scaling_factor = 0.04\n",
    "fig = go.Figure()\n",
    "fig.add_trace(go.Scatter(x=odriscoll.index, y=odriscoll, name=\"O'Driscoll\"))\n",
    "fig.add_trace(go.Scatter(x=erikstrup.index, y=erikstrup, name='Erikstrup'))\n",
    "fig.add_trace(go.Scatter(x=upper_adjusted.index, y=upper_adjusted, name=\"Upper adjusted O'Driscoll\"))\n",
    "fig.add_trace(go.Scatter(x=lower_adjusted.index, y=lower_adjusted, name=\"Lower adjusted O'Driscoll\"))\n",
    "fig.add_trace(go.Scatter(x=combined.index, y=combined, name=\"Combined Erikstrup/O'Driscoll\"))\n",
    "fig.update_yaxes(type='log')"
   ]
  }
 ],
 "metadata": {
  "kernelspec": {
   "display_name": "Python 3 (ipykernel)",
   "language": "python",
   "name": "python3"
  },
  "language_info": {
   "codemirror_mode": {
    "name": "ipython",
    "version": 3
   },
   "file_extension": ".py",
   "mimetype": "text/x-python",
   "name": "python",
   "nbconvert_exporter": "python",
   "pygments_lexer": "ipython3",
   "version": "3.10.11"
  }
 },
 "nbformat": 4,
 "nbformat_minor": 5
}
