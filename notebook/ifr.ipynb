{
 "cells": [
  {
   "cell_type": "code",
   "execution_count": null,
   "id": "ece401f1-2bf9-4456-916f-1a4549b1346c",
   "metadata": {},
   "outputs": [],
   "source": [
    "import pandas as pd\n",
    "from plotly import express as px\n",
    "pd.options.plotting.backend = 'plotly'"
   ]
  },
  {
   "cell_type": "code",
   "execution_count": null,
   "id": "722544c4-4c18-4d7e-ae08-9920e276ce6a",
   "metadata": {},
   "outputs": [],
   "source": [
    "from plotly import graph_objects as go"
   ]
  },
  {
   "cell_type": "code",
   "execution_count": null,
   "id": "2e370f87-3fe2-4c87-add3-7859b92d2191",
   "metadata": {},
   "outputs": [],
   "source": [
    "ifrs = {\n",
    "    'ifr_0': 0.0,\n",
    "    'ifr_5': 0.0,\n",
    "    'ifr_10': 0.0,\n",
    "    'ifr_15': 2.6e-5,\n",
    "    'ifr_20': 2.6e-5,\n",
    "    'ifr_25': 2.6e-5,\n",
    "    'ifr_30': 2.6e-5,\n",
    "    'ifr_35': 5.8e-5,\n",
    "    'ifr_40': 5.8e-5,\n",
    "    'ifr_45': 5.8e-5,\n",
    "    'ifr_50': 14.6e-5,\n",
    "    'ifr_55': 14.6e-5,\n",
    "    'ifr_60': 24.6e-5,\n",
    "    'ifr_65': 24.6e-5,\n",
    "    'ifr_70': 24.6e-5,\n",
    "    'ifr_75': 5e-3,\n",
    "}\n",
    "ifr_series = pd.Series({int(k[4:]): v for k, v in ifrs.items()})"
   ]
  },
  {
   "cell_type": "code",
   "execution_count": null,
   "id": "0669333d-d5bb-42d0-9d3c-8b9f6b31dc79",
   "metadata": {},
   "outputs": [],
   "source": [
    "odriscoll = pd.Series(\n",
    "    {\n",
    "        0: 0.003,\n",
    "        5: 0.001,\n",
    "        10: 0.001,\n",
    "        15: 0.003,\n",
    "        20: 0.006,\n",
    "        25: 0.013,\n",
    "        30: 0.024,\n",
    "        35: 0.04,\n",
    "        40: 0.075,\n",
    "        45: 0.121,\n",
    "        50: 0.207,\n",
    "        55: 0.323,\n",
    "        60: 0.456,\n",
    "        65: 1.075,\n",
    "        70: 1.674,\n",
    "        75: 3.203,\n",
    "        80: 8.292,\n",
    "    }\n",
    ") / 100.0"
   ]
  },
  {
   "cell_type": "code",
   "execution_count": null,
   "id": "aafb947c-e855-4fd9-8312-b34559c5a283",
   "metadata": {},
   "outputs": [],
   "source": [
    "erikstrup = pd.Series(\n",
    "    {\n",
    "        (17 + 36) / 2: 2.6,\n",
    "        (35 + 51) / 2: 5.8,\n",
    "        (51 + 61) / 2: 14.6,\n",
    "        (61 + 73) / 2: 24.6,\n",
    "    }\n",
    ") / 1e5"
   ]
  },
  {
   "cell_type": "code",
   "execution_count": null,
   "id": "dcc2f8b9-3dc3-4a21-beb6-7e278615078b",
   "metadata": {},
   "outputs": [],
   "source": [
    "fig = go.Figure()\n",
    "fig.add_trace(go.Scatter(x=odriscoll.index + 2.5, y=odriscoll))\n",
    "fig.add_trace(go.Scatter(x=erikstrup.index + 2.5, y=erikstrup))\n",
    "fig.update_yaxes(type='log')"
   ]
  }
 ],
 "metadata": {
  "kernelspec": {
   "display_name": "Python 3 (ipykernel)",
   "language": "python",
   "name": "python3"
  },
  "language_info": {
   "codemirror_mode": {
    "name": "ipython",
    "version": 3
   },
   "file_extension": ".py",
   "mimetype": "text/x-python",
   "name": "python",
   "nbconvert_exporter": "python",
   "pygments_lexer": "ipython3",
   "version": "3.10.11"
  }
 },
 "nbformat": 4,
 "nbformat_minor": 5
}
