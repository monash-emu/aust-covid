{
 "cells": [
  {
   "cell_type": "code",
   "execution_count": null,
   "id": "ece401f1-2bf9-4456-916f-1a4549b1346c",
   "metadata": {},
   "outputs": [],
   "source": [
    "from pathlib import Path\n",
    "import numpy as np\n",
    "import pandas as pd\n",
    "from copy import copy\n",
    "pd.options.plotting.backend = 'plotly'\n",
    "from plotly import graph_objects as go\n",
    "from aust_covid.inputs import load_raw_pop_data, get_ifrs\n",
    "from general_utils.tex_utils import StandardTexDoc\n",
    "PROJECT_PATH = Path().resolve().parent"
   ]
  },
  {
   "cell_type": "code",
   "execution_count": null,
   "id": "dcc2f8b9-3dc3-4a21-beb6-7e278615078b",
   "metadata": {},
   "outputs": [],
   "source": [
    "app_doc = StandardTexDoc(PROJECT_PATH / 'supplement', 'supplement', \"Australia's 2023 Omicron Waves Supplement\", 'austcovid')\n",
    "model_breakpoint_values = get_ifrs(app_doc)"
   ]
  },
  {
   "cell_type": "code",
   "execution_count": null,
   "id": "cca982fc-3055-477e-b9a2-4052d6385bf3",
   "metadata": {},
   "outputs": [],
   "source": [
    "adjust_str = lambda x: f'ifr_{int(x)}'"
   ]
  },
  {
   "cell_type": "code",
   "execution_count": null,
   "id": "1c94b783-a9a4-4975-a314-663d00a68d1a",
   "metadata": {},
   "outputs": [],
   "source": [
    "model_breakpoint_values.index = model_breakpoint_values.index.map(adjust_str)"
   ]
  },
  {
   "cell_type": "code",
   "execution_count": null,
   "id": "aeb4b474-ed63-4264-a5e1-ec72a1ed8e20",
   "metadata": {},
   "outputs": [],
   "source": [
    "model_breakpoint_values.to_dict()"
   ]
  },
  {
   "cell_type": "code",
   "execution_count": null,
   "id": "9ff2ff2a-456d-4750-bd66-3887dba86212",
   "metadata": {},
   "outputs": [],
   "source": [
    "model_breakpoint_values"
   ]
  }
 ],
 "metadata": {
  "kernelspec": {
   "display_name": "Python 3 (ipykernel)",
   "language": "python",
   "name": "python3"
  },
  "language_info": {
   "codemirror_mode": {
    "name": "ipython",
    "version": 3
   },
   "file_extension": ".py",
   "mimetype": "text/x-python",
   "name": "python",
   "nbconvert_exporter": "python",
   "pygments_lexer": "ipython3",
   "version": "3.10.0"
  }
 },
 "nbformat": 4,
 "nbformat_minor": 5
}
