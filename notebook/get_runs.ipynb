{
 "cells": [
  {
   "cell_type": "code",
   "execution_count": null,
   "id": "eec7d760-336e-42c0-b5a6-b3bb1fe768b5",
   "metadata": {},
   "outputs": [],
   "source": [
    "import s3fs\n",
    "from pathlib import PurePosixPath\n",
    "\n",
    "bucket = PurePosixPath('autumn-data')\n",
    "fs = s3fs.S3FileSystem()\n",
    "paths = fs.ls(bucket / 'projects' / 'aust_covid' / 'finalising_epi_model')\n",
    "[path[12:] for path in paths]"
   ]
  }
 ],
 "metadata": {
  "kernelspec": {
   "display_name": "Python 3 (ipykernel)",
   "language": "python",
   "name": "python3"
  },
  "language_info": {
   "codemirror_mode": {
    "name": "ipython",
    "version": 3
   },
   "file_extension": ".py",
   "mimetype": "text/x-python",
   "name": "python",
   "nbconvert_exporter": "python",
   "pygments_lexer": "ipython3",
   "version": "3.10.0"
  }
 },
 "nbformat": 4,
 "nbformat_minor": 5
}
