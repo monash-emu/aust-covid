{
 "cells": [
  {
   "cell_type": "code",
   "execution_count": null,
   "id": "639b229a-ae5c-4299-a28c-f727cd75a517",
   "metadata": {},
   "outputs": [],
   "source": [
    "from pathlib import Path\n",
    "from datetime import datetime\n",
    "import numpy as np\n",
    "import pandas as pd\n",
    "pd.options.plotting.backend = 'plotly'\n",
    "from plotly.subplots import make_subplots\n",
    "import plotly.graph_objects as go\n",
    "import pymc as pm\n",
    "import arviz as az\n",
    "import plotly.express as px\n",
    "from jax import numpy as jnp\n",
    "\n",
    "from estival.model import BayesianCompartmentalModel\n",
    "import estival.priors as esp\n",
    "import estival.targets as est\n",
    "from estival.wrappers import pymc as epm\n",
    "\n",
    "from autumn.infrastructure.remote import springboard\n",
    "from autumn.core.runs import ManagedRun\n",
    "\n",
    "from aust_covid.inputs import load_calibration_targets, load_who_data, load_serosurvey_data\n",
    "from aust_covid.model import MATRIX_LOCATIONS, build_model\n",
    "from general_utils.calibration_utils import param_table_to_tex\n",
    "from general_utils.tex_utils import StandardTexDoc\n",
    "from general_utils.parameter_utils import load_param_info\n",
    "from general_utils.calibration_utils import round_sigfig, sample_idata, get_sampled_outputs, melt_spaghetti, plot_param_progression, plot_param_posterior, tabulate_priors, tabulate_param_results\n",
    "PROJECT_PATH = Path().resolve().parent\n",
    "DATA_PATH = PROJECT_PATH / 'data'"
   ]
  },
  {
   "cell_type": "code",
   "execution_count": null,
   "id": "c196fdbb-4f02-414c-8941-855b60689d53",
   "metadata": {},
   "outputs": [],
   "source": [
    "analysis_start_date = datetime(2021, 7, 1)\n",
    "analysis_end_date = datetime(2022, 10, 1)\n",
    "plot_start_date = datetime(2021, 12, 1)\n",
    "reference_date = datetime(2019, 12, 31)"
   ]
  },
  {
   "cell_type": "code",
   "execution_count": null,
   "id": "4cfe6efa-3965-44f1-8487-384c4d42ab3d",
   "metadata": {},
   "outputs": [],
   "source": [
    "app_doc = StandardTexDoc(PROJECT_PATH / 'supplement', 'supplement', \"Australia's 2023 Omicron Waves Supplement\", 'austcovid')"
   ]
  },
  {
   "cell_type": "code",
   "execution_count": null,
   "id": "b7f27415-143f-4b70-805e-68ef0724425d",
   "metadata": {},
   "outputs": [],
   "source": [
    "targets_average_window = 7\n",
    "case_targets = load_calibration_targets(datetime(2021, 12, 15), targets_average_window, app_doc)\n",
    "death_targets = load_who_data(targets_average_window, app_doc)\n",
    "serosurvey_targets = load_serosurvey_data(14.0, app_doc)"
   ]
  },
  {
   "cell_type": "code",
   "execution_count": null,
   "id": "a21e186d-e686-4142-bd8a-a468c4d537d3",
   "metadata": {},
   "outputs": [],
   "source": [
    "parameters = {\n",
    "    'ba1_seed_time': 620.0,\n",
    "    'start_cdr': 0.3,\n",
    "    'contact_rate': 0.065,\n",
    "    'vacc_prop': 0.4,\n",
    "    'infectious_period': 2.5,\n",
    "    'natural_immunity_period': 60.0,\n",
    "    'ba2_seed_time': 660.0,\n",
    "    'ba2_escape': 0.4,\n",
    "    'ba5_seed_time': 715.0,\n",
    "    'ba5_escape': 0.54,\n",
    "    'latent_period': 1.8,\n",
    "    'seed_rate': 1.0,\n",
    "    'seed_duration': 10.0,\n",
    "    'notifs_shape': 2.0,\n",
    "    'notifs_mean': 4.0,\n",
    "    'vacc_infect_protect': 0.4,\n",
    "    'wa_reopen_period': 30.0,\n",
    "    'deaths_shape': 2.0,\n",
    "    'deaths_mean': 20.0,\n",
    "    'ifr_0': 0.0,\n",
    "    'ifr_5': 0.0,\n",
    "    'ifr_10': 0.0,\n",
    "    'ifr_15': 2.6e-5,\n",
    "    'ifr_20': 2.6e-5,\n",
    "    'ifr_25': 2.6e-5,\n",
    "    'ifr_30': 2.6e-5,\n",
    "    'ifr_35': 5.8e-5,\n",
    "    'ifr_40': 5.8e-5,\n",
    "    'ifr_45': 5.8e-5,\n",
    "    'ifr_50': 14.6e-5,\n",
    "    'ifr_55': 14.6e-5,\n",
    "    'ifr_60': 24.6e-5,\n",
    "    'ifr_65': 24.6e-5,\n",
    "    'ifr_70': 24.6e-5,\n",
    "    'ifr_75': 5e-3,\n",
    "    'ba2_rel_ifr': 0.5,\n",
    "}\n",
    "param_info = load_param_info(PROJECT_PATH / 'inputs' / 'parameters.yml', parameters)"
   ]
  },
  {
   "cell_type": "code",
   "execution_count": null,
   "id": "c4ee5821-390b-446a-8f37-ac5d23a62fb4",
   "metadata": {},
   "outputs": [],
   "source": [
    "aust_model = build_model(reference_date, analysis_start_date, analysis_end_date, app_doc)"
   ]
  },
  {
   "cell_type": "code",
   "execution_count": null,
   "id": "6949a79f-d09e-4f03-b58b-e4a03928e4ab",
   "metadata": {},
   "outputs": [],
   "source": [
    "aust_model.run(parameters=parameters)"
   ]
  },
  {
   "cell_type": "code",
   "execution_count": null,
   "id": "d4274b0f-5079-44c4-b4e8-e90fbf597939",
   "metadata": {},
   "outputs": [],
   "source": [
    "# Set up for calibration or optimisation\n",
    "def truncation_ceiling(modelled, obs, parameters, time_weights):\n",
    "    return jnp.where(modelled > obs, -1e11, 0.0)\n",
    "\n",
    "priors = [\n",
    "    esp.UniformPrior('ba1_seed_time', (600.0, 630.0)), \n",
    "    esp.UniformPrior('ba2_seed_time', (630.0, 660.0)),\n",
    "    esp.UniformPrior('ba5_seed_time', (660.0, 700.0)),\n",
    "    esp.UniformPrior('ba2_escape', (0.2, 0.8)),\n",
    "    esp.UniformPrior('ba5_escape', (0.2, 0.9)),    \n",
    "    esp.UniformPrior('contact_rate', (0.02, 0.1)),\n",
    "    esp.UniformPrior('infectious_period', (0.0, 5.0)),\n",
    "    esp.UniformPrior('start_cdr', (0.1, 0.5)),\n",
    "    esp.UniformPrior('latent_period', (1.0, 4.0)),\n",
    "    esp.UniformPrior('ba2_rel_ifr', (0.2, 1.2)),\n",
    "    esp.UniformPrior('vacc_prop', (0.0, 1.0)),\n",
    "    esp.UniformPrior('vacc_infect_protect', (0.0, 1.0)),\n",
    "    esp.UniformPrior('natural_immunity_period', (40.0, 100.0)),\n",
    "    esp.UniformPrior('ifr_75', (1e-4, 1e-2)),\n",
    "]\n",
    "targets = [\n",
    "    est.NegativeBinomialTarget('notifications', case_targets, dispersion_param=esp.UniformPrior('cases_dispersion', (60.0, 200.0))),\n",
    "    est.NegativeBinomialTarget('deaths', death_targets, dispersion_param=esp.UniformPrior('deaths_dispersion', (100.0, 240.0))),\n",
    "    est.BinomialTarget('adult_seropos_prop', serosurvey_targets, pd.Series([20] * 4, index=serosurvey_targets.index)),\n",
    "]\n",
    "targets.append(est.CustomTarget('adult_seropos_prop', pd.Series([0.15], index=[datetime(2022, 1, 1)]), truncation_ceiling))\n",
    "calibration_model = BayesianCompartmentalModel(aust_model, parameters, priors, targets)"
   ]
  },
  {
   "cell_type": "code",
   "execution_count": null,
   "id": "fb1ec7d5-3cde-4a75-88ca-7970f4793829",
   "metadata": {},
   "outputs": [],
   "source": [
    "# with pm.Model() as pmc_model:\n",
    "#     start_params = {k: np.clip(v, *calibration_model.priors[k].bounds(0.99)) for k, v in parameters.items() if k in calibration_model.priors}\n",
    "#     variables = epm.use_model(calibration_model)\n",
    "#     map_params = pm.find_MAP(start=start_params, vars=variables, include_transformed=False)\n",
    "#     map_params = {k: float(v) for k, v in map_params.items()}\n",
    "# print('Best calibration parameters found:')\n",
    "# for i_param, param in enumerate(map_params):\n",
    "#     print(f'   {param}: {round_sigfig(map_params[param], 4)} (within bound {priors[i_param].bounds()}')\n",
    "# parameters.update(map_params)\n",
    "# aust_model.run(parameters=parameters)"
   ]
  },
  {
   "cell_type": "code",
   "execution_count": null,
   "id": "383dc7e2-6b6d-4880-8a78-a9568edbb0a0",
   "metadata": {},
   "outputs": [],
   "source": [
    "app_doc.include_table(param_table_to_tex(param_info, [i.name for i in priors]), section='Parameters', widths=[3.0, 2.0, 1.5, 3.5], longtable=True)\n",
    "app_doc.include_table(tabulate_priors(priors, param_info), section='Calibration')"
   ]
  },
  {
   "cell_type": "code",
   "execution_count": null,
   "id": "fdac6914-00eb-4ec6-bb67-b975d8e4f3c7",
   "metadata": {},
   "outputs": [],
   "source": [
    "fig = make_subplots(rows=3, cols=2)\n",
    "derived_outputs = aust_model.get_derived_outputs_df()\n",
    "x_vals = derived_outputs.index\n",
    "fig.add_trace(go.Scatter(x=x_vals, y=derived_outputs['notifications'], name='modelled cases'), row=1, col=1)\n",
    "fig.add_trace(go.Scatter(x=case_targets.index, y=case_targets, name='reported cases'), row=1, col=1)\n",
    "fig.add_trace(go.Scatter(x=x_vals, y=derived_outputs['deaths'], name='deaths'), row=1, col=2)\n",
    "fig.add_trace(go.Scatter(x=death_targets.index, y=death_targets, name='reported deaths'), row=1, col=2)\n",
    "fig.add_trace(go.Scatter(x=x_vals, y=derived_outputs['adult_seropos_prop'], name='adult seropos'), row=2, col=1)\n",
    "fig.add_trace(go.Scatter(x=serosurvey_targets.index, y=serosurvey_targets, name='seropos estimates'), row=2, col=1)\n",
    "fig.add_trace(go.Scatter(x=x_vals, y=derived_outputs['reproduction_number'], name='reproduction number'), row=2, col=2)\n",
    "for agegroup in aust_model.stratifications['agegroup'].strata:\n",
    "    fig.add_trace(go.Scatter(x=x_vals, y=derived_outputs[f'deathsXagegroup_{agegroup}'], name=f'{agegroup} deaths'), row=3, col=1)\n",
    "fig.update_xaxes(range=(plot_start_date, analysis_end_date))\n",
    "fig.update_layout(height=600, width=1200)\n",
    "fig.show()"
   ]
  },
  {
   "cell_type": "code",
   "execution_count": null,
   "id": "bf9b6ba1-1c99-453a-a72c-6e94fab55178",
   "metadata": {},
   "outputs": [],
   "source": [
    "# def run_calibration(bridge: springboard.task.TaskBridge, calibration_model: BayesianCompartmentalModel):\n",
    "#     import multiprocessing as mp\n",
    "#     mp.set_start_method('forkserver')\n",
    "    \n",
    "#     with pm.Model() as pm_model:\n",
    "#         variables = epm.use_model(calibration_model)\n",
    "#         idata_raw = pm.sample(step=[pm.DEMetropolis(variables)], draws=20000, tune=0, cores=8, chains=8, progressbar=False)\n",
    "    \n",
    "#     idata_raw.to_netcdf(str(bridge.out_path / 'calibration_out.nc'))\n",
    "#     bridge.logger.info('Calibration complete')\n",
    "    \n",
    "# mspec = springboard.EC2MachineSpec(8, 2, 'compute')\n",
    "# tspec = springboard.TaskSpec(run_calibration, {'calibration_model': calibration_model})\n",
    "# run_path = springboard.launch.get_autumn_project_run_path('aust_covid', 'initial_exploration', 'fine_tune_priors_long_run')\n",
    "# run_path"
   ]
  },
  {
   "cell_type": "code",
   "execution_count": null,
   "id": "4db1b97e-7819-4ad2-baf7-8c24589e96dd",
   "metadata": {},
   "outputs": [],
   "source": [
    "# aust_covid_commands = [\n",
    "#     'git clone --branch main https://github.com/monash-emu/aust-covid',\n",
    "#     'pip install -e ./aust-covid',\n",
    "# ]\n",
    "# runner = springboard.launch.launch_synced_autumn_task(tspec, mspec, run_path, branch=None, extra_commands=aust_covid_commands)"
   ]
  },
  {
   "cell_type": "code",
   "execution_count": null,
   "id": "e89d9b01-1ba0-4cc6-9e25-fdf62db637ec",
   "metadata": {},
   "outputs": [],
   "source": [
    "run_path = 'projects/aust_covid/initial_exploration/2023-08-09T2216-fine_tune_priors_long_run'"
   ]
  },
  {
   "cell_type": "code",
   "execution_count": null,
   "id": "bd0255b4-3110-4cb4-af3f-c541faba315e",
   "metadata": {},
   "outputs": [],
   "source": [
    "mr = ManagedRun(run_path)\n",
    "mr.remote.download(mr.remote.list_contents()[-1])\n",
    "idata = az.from_netcdf(mr.list_local()[-1])"
   ]
  },
  {
   "cell_type": "code",
   "execution_count": null,
   "id": "e59c21c7-4f98-4140-bc51-ec3cce3335a5",
   "metadata": {},
   "outputs": [],
   "source": [
    "# Burn\n",
    "idata = idata.sel(draw=np.s_[7000:])"
   ]
  },
  {
   "cell_type": "code",
   "execution_count": null,
   "id": "7e852ea9-3135-4348-9070-599f93f201be",
   "metadata": {},
   "outputs": [],
   "source": [
    "app_doc.include_table(tabulate_param_results(idata, priors, param_info), section='Calibration', widths=[2.0, 1.2, 1.2, 1.0, 1.0, 1.0, 1.5])"
   ]
  },
  {
   "cell_type": "code",
   "execution_count": null,
   "id": "8fb5507d-ec38-4989-8e72-d2adc1d4467e",
   "metadata": {},
   "outputs": [],
   "source": [
    "plot_param_progression(idata, param_info, app_doc, True)"
   ]
  },
  {
   "cell_type": "code",
   "execution_count": null,
   "id": "7e1a0364-ca81-4460-b68c-d29afbcb8885",
   "metadata": {},
   "outputs": [],
   "source": [
    "plot_param_posterior(idata, param_info, app_doc)"
   ]
  },
  {
   "cell_type": "code",
   "execution_count": null,
   "id": "075aabc9-7539-498c-a9e7-e6796baaa08d",
   "metadata": {},
   "outputs": [],
   "source": [
    "section_order = [\n",
    "    'Model Structure', \n",
    "    'Population', \n",
    "    'Stratification', \n",
    "    'Mixing', \n",
    "    'Reinfection', \n",
    "    'Parameters',\n",
    "    'Outputs', \n",
    "    'Targets',\n",
    "    'Calibration',\n",
    "]"
   ]
  },
  {
   "cell_type": "code",
   "execution_count": null,
   "id": "b714b2b2-0885-4172-a6b2-15eb0b081028",
   "metadata": {},
   "outputs": [],
   "source": [
    "app_doc.write_doc(order=section_order)"
   ]
  },
  {
   "cell_type": "code",
   "execution_count": null,
   "id": "9241ac20-9bad-41c1-bae5-bdc1a44af8f9",
   "metadata": {},
   "outputs": [],
   "source": [
    "sampled_idata = sample_idata(idata, 25, calibration_model)\n",
    "req_outputs = ['notifications', 'adult_seropos_prop', 'deaths']\n",
    "output_results = get_sampled_outputs(calibration_model, sampled_idata, req_outputs, parameters)"
   ]
  },
  {
   "cell_type": "code",
   "execution_count": null,
   "id": "e210d5d9-47aa-4648-bef5-eb555ae5a619",
   "metadata": {},
   "outputs": [],
   "source": [
    "fig = make_subplots(rows=3, cols=1, subplot_titles=req_outputs)\n",
    "for i_out, out in enumerate(req_outputs):\n",
    "    spaghetti = melt_spaghetti(output_results, out, sampled_idata)\n",
    "    lines = px.line(spaghetti, y='value', color='chain', line_group='draw', hover_data=spaghetti.columns)\n",
    "    fig.add_traces(lines.data, rows=i_out + 1, cols=1)\n",
    "fig.add_trace(\n",
    "    go.Scatter(\n",
    "        x=case_targets.index, \n",
    "        y=case_targets, \n",
    "        name='reported cases',\n",
    "        mode='markers',\n",
    "        marker={'color': 'LightBlue', 'size': 4, 'line': {'color': 'black', 'width': 1}},\n",
    "    ), \n",
    "    row=1, \n",
    "    col=1,\n",
    ")\n",
    "fig.add_trace(\n",
    "    go.Scatter(\n",
    "        x=serosurvey_targets.index, \n",
    "        y=serosurvey_targets, \n",
    "        name='serosurveys',\n",
    "        mode='markers',\n",
    "        marker={'color': 'white', 'size': 20, 'line': {'color': 'black', 'width': 1}},\n",
    "    ), \n",
    "    row=2, \n",
    "    col=1,\n",
    ")\n",
    "fig.add_trace(\n",
    "    go.Scatter(\n",
    "        x=death_targets.index, \n",
    "        y=death_targets, \n",
    "        name='reported deaths', \n",
    "        mode='markers',\n",
    "        marker={'color': 'Pink', 'size': 4, 'line': {'color': 'black', 'width': 1}},\n",
    "    ),\n",
    "    row=3, \n",
    "    col=1,\n",
    ")\n",
    "fig.update_xaxes(range=(plot_start_date, analysis_end_date))\n",
    "fig.update_layout(height=1000, width=1000)\n",
    "fig"
   ]
  }
 ],
 "metadata": {
  "kernelspec": {
   "display_name": "Python 3 (ipykernel)",
   "language": "python",
   "name": "python3"
  },
  "language_info": {
   "codemirror_mode": {
    "name": "ipython",
    "version": 3
   },
   "file_extension": ".py",
   "mimetype": "text/x-python",
   "name": "python",
   "nbconvert_exporter": "python",
   "pygments_lexer": "ipython3",
   "version": "3.10.0"
  }
 },
 "nbformat": 4,
 "nbformat_minor": 5
}
