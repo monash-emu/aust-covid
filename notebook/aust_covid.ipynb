{
 "cells": [
  {
   "cell_type": "code",
   "execution_count": null,
   "id": "27dbd796",
   "metadata": {},
   "outputs": [],
   "source": [
    "from pathlib import Path"
   ]
  },
  {
   "cell_type": "code",
   "execution_count": null,
   "id": "56a8ea2c-c90f-4c5c-a2d3-4daee3a6bcab",
   "metadata": {},
   "outputs": [],
   "source": [
    "# Installation in case running over Colab\n",
    "try:\n",
    "    import google.colab\n",
    "    on_colab = True\n",
    "    %pip install estival\n",
    "    %pip install pylatex==1.4.1\n",
    "    %pip install kaleido\n",
    "    ! git clone https://github.com/monash-emu/aust-covid\n",
    "    %cd aust-covid\n",
    "    %pip install -e ./\n",
    "    PROJECT_PATH = Path().resolve()\n",
    "    import multiprocessing as mp\n",
    "    mp.set_start_method(\"forkserver\")\n",
    "except:\n",
    "    PROJECT_PATH = Path().resolve().parent\n",
    "    on_colab = False\n",
    "optimise_model = False\n",
    "new_calibration = False\n",
    "\n",
    "DATA_PATH = PROJECT_PATH / \"data\"\n",
    "OUTPUT_PATH = PROJECT_PATH / \"outputs\"\n",
    "SUPPLEMENT_PATH = PROJECT_PATH / \"supplement\"\n",
    "Path(OUTPUT_PATH).mkdir(parents=True, exist_ok=True)"
   ]
  },
  {
   "cell_type": "code",
   "execution_count": null,
   "id": "68bc1a4b-007d-40d2-90d5-f56b194751c9",
   "metadata": {},
   "outputs": [],
   "source": [
    "import pandas as pd\n",
    "pd.options.plotting.backend = \"plotly\"\n",
    "from datetime import datetime, date\n",
    "import pylatex as pl\n",
    "from pylatex.utils import NoEscape\n",
    "import pymc as pm\n",
    "import arviz as az\n",
    "import yaml\n",
    "import nevergrad as ng\n",
    "import plotly.express as px\n",
    "\n",
    "from estival.model import BayesianCompartmentalModel\n",
    "from estival.optimization.nevergrad import optimize_model\n",
    "from estival.priors import UniformPrior\n",
    "from estival.targets import NegativeBinomialTarget, CustomTarget\n",
    "from estival.calibration import pymc as epm\n",
    "\n",
    "from aust_covid import model\n",
    "from doc_utils import calib_doc_utils\n",
    "from aust_covid.inputs import load_param_info, load_calibration_targets\n",
    "from doc_utils.general_doc_utils import TextElement, TableElement, FigElement, add_element_to_document, \\\n",
    "    save_pyplot_add_to_doc, save_plotly_add_to_doc, compile_doc, generate_doc"
   ]
  },
  {
   "cell_type": "code",
   "execution_count": null,
   "id": "1bc0356b-c201-435b-a904-14a96c264d1a",
   "metadata": {},
   "outputs": [],
   "source": [
    "from summer2.functions.time import get_linear_interpolation_function, Function\n",
    "from summer2.parameters import Parameter"
   ]
  },
  {
   "cell_type": "code",
   "execution_count": null,
   "id": "b2eb4f7d-2f85-40ac-a84e-43d99a9088f2",
   "metadata": {},
   "outputs": [],
   "source": [
    "smoothed_composite_cases, targets_text = load_calibration_targets(datetime(2021, 12, 15))\n",
    "targets_text"
   ]
  },
  {
   "cell_type": "code",
   "execution_count": null,
   "id": "46382c88-c458-4ad2-989a-7e51be48af40",
   "metadata": {},
   "outputs": [],
   "source": [
    "# Times\n",
    "start_date = datetime(2021, 9, 1)  # Analysis start time\n",
    "end_date = datetime(2022, 10, 1)  # Analysis end time\n",
    "plot_start_date = datetime(2021, 12, 1)  # Left end for plots\n",
    "ref_date = datetime(2019, 12, 31)  # Arbitrary reference date"
   ]
  },
  {
   "cell_type": "code",
   "execution_count": null,
   "id": "feed367b-5480-4f22-ae7d-ef0fdd7141a8",
   "metadata": {},
   "outputs": [],
   "source": [
    "# Parameters\n",
    "parameters = {\n",
    "    'contact_rate': 0.0458, \n",
    "    'infectious_period': 6.898, \n",
    "    'start_cdr': 0.0997, \n",
    "    'ba1_seed_time': 657.4, \n",
    "    'natural_immunity_period': 23.5,\n",
    "    \"ba2_seed_time\": 700.0,\n",
    "    \"ba2_escape\": 0.8,\n",
    "    \"ba5_seed_time\": 765., \n",
    "    \"ba5_escape\": 1.0,\n",
    "    \"latent_period\": 2.0,\n",
    "    \"seed_rate\": 1.0,\n",
    "    \"seed_duration\": 1.0,\n",
    "    \"notifs_shape\": 2.0,\n",
    "    \"notifs_mean\": 4.0,\n",
    "}\n",
    "param_info = load_param_info(PROJECT_PATH / \"inputs/parameters.yml\", parameters)\n",
    "param_info"
   ]
  },
  {
   "cell_type": "code",
   "execution_count": null,
   "id": "f707a9f0-d1f9-4718-b5bd-3c3a0a100b97",
   "metadata": {},
   "outputs": [],
   "source": [
    "doc_sections = {}\n",
    "compartments = [\n",
    "    \"susceptible\",\n",
    "    \"latent\",\n",
    "    \"infectious\",\n",
    "    \"recovered\",\n",
    "    \"waned\",\n",
    "]\n",
    "aust_model, build_text = model.build_base_model(ref_date, compartments, start_date, end_date)\n",
    "add_element_to_document(\"Model construction\", TextElement(build_text), doc_sections)\n",
    "build_text"
   ]
  },
  {
   "cell_type": "code",
   "execution_count": null,
   "id": "d3481d86-ece7-4aff-bd5c-dc37dda1b136",
   "metadata": {},
   "outputs": [],
   "source": [
    "pop_data, pop_text = model.get_pop_data()\n",
    "add_element_to_document(\"Model construction\", TextElement(pop_text), doc_sections, subsection_name=\"Population\")\n",
    "pop_text"
   ]
  },
  {
   "cell_type": "code",
   "execution_count": null,
   "id": "998e7753-cdcf-4e84-8a95-e1f341c46978",
   "metadata": {},
   "outputs": [],
   "source": [
    "start_text = model.set_starting_conditions(aust_model, pop_data, adjuster=1.0)\n",
    "add_element_to_document(\"Model construction\", TextElement(start_text), doc_sections, subsection_name=\"Population\")\n",
    "start_text"
   ]
  },
  {
   "cell_type": "code",
   "execution_count": null,
   "id": "3c732c12-3b98-41ed-b211-c51a74078508",
   "metadata": {},
   "outputs": [],
   "source": [
    "infect_text = model.add_infection(aust_model)\n",
    "add_element_to_document(\"Model construction\", TextElement(infect_text), doc_sections)\n",
    "infect_text"
   ]
  },
  {
   "cell_type": "code",
   "execution_count": null,
   "id": "5d0ae421-4998-4141-8534-bbe5d14f241e",
   "metadata": {},
   "outputs": [],
   "source": [
    "prog_text = model.add_progression(aust_model)\n",
    "add_element_to_document(\"Model construction\", TextElement(prog_text), doc_sections)\n",
    "prog_text"
   ]
  },
  {
   "cell_type": "code",
   "execution_count": null,
   "id": "662b2ea5-1bee-4179-91a8-840fe96c6054",
   "metadata": {},
   "outputs": [],
   "source": [
    "rec_text = model.add_recovery(aust_model)\n",
    "add_element_to_document(\"Model construction\", TextElement(rec_text), doc_sections)\n",
    "rec_text"
   ]
  },
  {
   "cell_type": "code",
   "execution_count": null,
   "id": "e94fe381-ec99-471f-a763-43e600855ccc",
   "metadata": {},
   "outputs": [],
   "source": [
    "wane_text = model.add_waning(aust_model)\n",
    "add_element_to_document(\"Model construction\", TextElement(wane_text), doc_sections)\n",
    "wane_text"
   ]
  },
  {
   "cell_type": "code",
   "execution_count": null,
   "id": "473eee93-277e-4fc8-9335-ed3a0f38141a",
   "metadata": {},
   "outputs": [],
   "source": [
    "age_strata = list(range(0, 80, 5))\n",
    "# raw_matrix, age_text, raw_matrix_fig, raw_matrix_name, raw_matrix_caption = model.build_polymod_britain_matrix(age_strata)\n",
    "# add_element_to_document(\"Age stratification\", TextElement(age_text), doc_sections, subsection_name=\"Mixing\")\n",
    "# add_element_to_document(\"Age stratification\", FigElement(raw_matrix_name, caption=raw_matrix_caption), doc_sections, subsection_name=\"Mixing\")\n",
    "# age_text"
   ]
  },
  {
   "cell_type": "code",
   "execution_count": null,
   "id": "4f62f739-b534-4c18-bb8b-b88238ff30f5",
   "metadata": {},
   "outputs": [],
   "source": [
    "raw_mob_df, raw_mob_fig, raw_mob_filename, raw_mob_text = model.get_raw_mobility(plot_start_date, aust_model)\n",
    "add_element_to_document(\"Mobility\", TextElement(raw_mob_text), doc_sections)\n",
    "raw_mob_text"
   ]
  },
  {
   "cell_type": "code",
   "execution_count": null,
   "id": "6f79029d-3078-4422-b926-d0957502b619",
   "metadata": {},
   "outputs": [],
   "source": [
    "add_element_to_document(\"Mobility\", FigElement(raw_mob_filename), doc_sections)\n",
    "raw_mob_fig"
   ]
  },
  {
   "cell_type": "code",
   "execution_count": null,
   "id": "79f95c6b-b68a-4721-97c5-1059a913876f",
   "metadata": {},
   "outputs": [],
   "source": [
    "mean_smoothed_non_resi_mob, modelled_mob_fig, modelled_mob_filename = model.process_mobility(raw_mob_df, plot_start_date, aust_model)\n",
    "add_element_to_document(\"Mobility\", FigElement(modelled_mob_filename), doc_sections)\n",
    "modelled_mob_fig"
   ]
  },
  {
   "cell_type": "code",
   "execution_count": null,
   "id": "54c8f2a9-a37f-499f-addc-c43456198d2a",
   "metadata": {},
   "outputs": [],
   "source": [
    "mobility_adjuster, infection_func, mob_adj_text, mob_effect_fig, mob_effect_filename = model.calculate_mobility_effect(mean_smoothed_non_resi_mob, plot_start_date, aust_model)\n",
    "add_element_to_document(\"Mobility\", TextElement(mob_adj_text), doc_sections)\n",
    "mob_adj_text"
   ]
  },
  {
   "cell_type": "code",
   "execution_count": null,
   "id": "61101327-48c1-443d-aaaf-59f0b53e1c8a",
   "metadata": {},
   "outputs": [],
   "source": [
    "add_element_to_document(\"Mobility\", FigElement(mob_effect_filename), doc_sections)\n",
    "mob_effect_fig"
   ]
  },
  {
   "cell_type": "code",
   "execution_count": null,
   "id": "f5e7c42d-bfc3-45b7-9cb7-944ab0470210",
   "metadata": {},
   "outputs": [],
   "source": [
    "mobility_scaling, mob_map_text = model.get_mobility_mapper()\n",
    "add_element_to_document(\"Mobility\", TextElement(mob_map_text), doc_sections)\n",
    "mob_map_text"
   ]
  },
  {
   "cell_type": "code",
   "execution_count": null,
   "id": "3949e2e9-e869-4bc9-bff7-40631cdd1785",
   "metadata": {},
   "outputs": [],
   "source": [
    "locations = [\"school\", \"home\", \"work\", \"other_locations\"]\n",
    "raw_location_matrices = {i: pd.read_csv(DATA_PATH / f\"{i}.csv\", index_col=0).to_numpy() for i in locations}\n",
    "input_pop_fig, input_pop_caption, input_pop_filename, modelled_pop_fig, modelled_pop_caption, modelled_pop_filename, \\\n",
    "    matrix_ref_pop_fig, matrix_ref_pop_caption, matrix_ref_pop_filename, \\\n",
    "    adjusted_matrices, pop_splits = model.adapt_gb_matrices_to_aust(age_strata, raw_location_matrices, pop_data)\n",
    "mixing_matrix = Function(\n",
    "    mobility_scaling, \n",
    "    [\n",
    "        adjusted_matrices,\n",
    "        infection_func,\n",
    "    ]\n",
    ")"
   ]
  },
  {
   "cell_type": "code",
   "execution_count": null,
   "id": "0b1cd51b-e96c-44bb-afaf-35b4e51b8cd7",
   "metadata": {},
   "outputs": [],
   "source": [
    "input_pop_fig.layout.title.update({\"text\": input_pop_caption})\n",
    "input_pop_fig"
   ]
  },
  {
   "cell_type": "code",
   "execution_count": null,
   "id": "a7d4c557-2257-4016-80a3-86f7f4e0c9f5",
   "metadata": {},
   "outputs": [],
   "source": [
    "modelled_pop_fig.layout.title.update({\"text\": modelled_pop_caption})\n",
    "modelled_pop_fig"
   ]
  },
  {
   "cell_type": "code",
   "execution_count": null,
   "id": "914f611a-781b-42ee-9dcf-27ab703163e9",
   "metadata": {},
   "outputs": [],
   "source": [
    "matrix_ref_pop_fig.layout.title.update({\"text\": matrix_ref_pop_caption})\n",
    "matrix_ref_pop_fig"
   ]
  },
  {
   "cell_type": "code",
   "execution_count": null,
   "id": "c1612505-1599-417e-8b55-df2e8b3a752c",
   "metadata": {},
   "outputs": [],
   "source": [
    "import numpy as np\n"
   ]
  },
  {
   "cell_type": "code",
   "execution_count": null,
   "id": "c8ea68b3-c151-4f96-8d88-9baf422ea79c",
   "metadata": {},
   "outputs": [],
   "source": [
    "# from plotly.subplots import make_subplots\n",
    "# import plotly.graph_objects as go\n",
    "\n",
    "# def plot_mixing_matrices(matrices):\n",
    "#     matrix_figsize = 800\n",
    "#     fig = make_subplots(rows=2, cols=2, subplot_titles=locations)\n",
    "#     for i_loc, loc in enumerate(locations):\n",
    "#         fig.add_trace(\n",
    "#             go.Heatmap(x=age_strata, y=age_strata, z=matrices[loc], coloraxis = \"coloraxis\"), \n",
    "#             int(np.floor(i_loc / 2)) + 1, \n",
    "#             i_loc % 2 + 1,\n",
    "#         )\n",
    "#     fig.update_layout(width=matrix_figsize, height=matrix_figsize * 1.15)\n",
    "#     return fig"
   ]
  },
  {
   "cell_type": "code",
   "execution_count": null,
   "id": "239ae668-92b4-440a-97eb-08139fe2d29f",
   "metadata": {},
   "outputs": [],
   "source": [
    "model.plot_mixing_matrices(adjusted_matrices, locations, age_strata)"
   ]
  },
  {
   "cell_type": "code",
   "execution_count": null,
   "id": "1ac5de48-238f-4f43-b50d-2c55ad79b68a",
   "metadata": {},
   "outputs": [],
   "source": [
    "# input_pop_filename = \"input_population.jpg\"\n",
    "# input_pop_fig = px.bar(aust_pop_series, labels={\"value\": \"population\", \"Age (years)\": \"\"})\n",
    "# input_pop_fig.update_layout(showlegend=False)\n",
    "# input_pop_fig.write_image(SUPPLEMENT_PATH / input_pop_filename)\n",
    "# input_pop_caption = \"Australian population sizes by age group obtained from Australia Bureau of Statistics.\""
   ]
  },
  {
   "cell_type": "code",
   "execution_count": null,
   "id": "21624894-e3cf-4ad4-8552-48e6a868c778",
   "metadata": {},
   "outputs": [],
   "source": [
    "# adjusted_matrix, pop_splits, mat_adj_text, \\\n",
    "#     input_pop_filename, input_pop_caption, input_pop_fig, modelled_pop_filename, modelled_pop_caption, modelled_pop_fig, \\\n",
    "#     matrix_ref_pop_filename, matrix_ref_pop_caption, matrix_ref_pop_fig, \\\n",
    "#     adjusted_matrix_filename, adjusted_matrix_caption, adjusted_matrix_fig, modelled_pop = model.adapt_gb_matrix_to_aust(age_strata, raw_matrix, pop_data)\n",
    "# add_element_to_document(\"Age stratification\", TextElement(mat_adj_text), doc_sections, subsection_name=\"Mixing\")\n",
    "# add_element_to_document(\"Age stratification\", FigElement(input_pop_filename, caption=input_pop_caption), doc_sections, subsection_name=\"Mixing\")\n",
    "# add_element_to_document(\"Age stratification\", FigElement(modelled_pop_filename, caption=modelled_pop_caption), doc_sections, subsection_name=\"Mixing\")\n",
    "# add_element_to_document(\"Age stratification\", FigElement(matrix_ref_pop_filename, caption=matrix_ref_pop_caption), doc_sections, subsection_name=\"Mixing\")\n",
    "# add_element_to_document(\"Age stratification\", FigElement(adjusted_matrix_filename, caption=adjusted_matrix_caption), doc_sections, subsection_name=\"Mixing\")\n",
    "# mat_adj_text"
   ]
  },
  {
   "cell_type": "code",
   "execution_count": null,
   "id": "9cb3836d-11dc-40cc-b3fa-9bdf7d5b8461",
   "metadata": {},
   "outputs": [],
   "source": [
    "age_strat, agestrat_text = model.add_age_stratification(compartments, age_strata, pop_splits, mixing_matrix)\n",
    "aust_model.stratify_with(age_strat)\n",
    "add_element_to_document(\"Age stratification\", TextElement(agestrat_text), doc_sections)\n",
    "agestrat_text"
   ]
  },
  {
   "cell_type": "code",
   "execution_count": null,
   "id": "4b7efa28-aa0f-415a-bc9d-e2ec1760b26d",
   "metadata": {},
   "outputs": [],
   "source": [
    "strain_strata = [\"ba1\", \"ba2\", \"ba5\"]\n",
    "strain_strat, strainstrat_text = model.get_strain_stratification(compartments, strain_strata)\n",
    "aust_model.stratify_with(strain_strat)\n",
    "add_element_to_document(\"Strain stratification\", TextElement(strainstrat_text), doc_sections)\n",
    "strainstrat_text"
   ]
  },
  {
   "cell_type": "code",
   "execution_count": null,
   "id": "6e64cbd2-b801-48ce-ba79-92f1a496472a",
   "metadata": {},
   "outputs": [],
   "source": [
    "seed_text = model.seed_vocs(aust_model)\n",
    "add_element_to_document(\"Strain stratification\", TextElement(seed_text), doc_sections)\n",
    "seed_text"
   ]
  },
  {
   "cell_type": "code",
   "execution_count": null,
   "id": "3c45aade-f9b8-4e68-8719-007a58ae9343",
   "metadata": {},
   "outputs": [],
   "source": [
    "reinfect_text = model.add_reinfection(aust_model, strain_strata, infection_func)\n",
    "add_element_to_document(\"Strain stratification\", TextElement(reinfect_text), doc_sections)\n",
    "reinfect_text"
   ]
  },
  {
   "cell_type": "code",
   "execution_count": null,
   "id": "e2266724-0d41-4f11-961e-4011ad7a8c1c",
   "metadata": {},
   "outputs": [],
   "source": [
    "infection_processes = [\n",
    "    \"infection\", \n",
    "    \"early_reinfection\",\n",
    "    \"late_reinfection\",\n",
    "]\n",
    "inc_text = model.add_incidence_output(aust_model, infection_processes)\n",
    "add_element_to_document(\"Outputs\", TextElement(inc_text), doc_sections)\n",
    "inc_text"
   ]
  },
  {
   "cell_type": "code",
   "execution_count": null,
   "id": "a9c5db00-8236-4742-9bc2-1799ec6fd72d",
   "metadata": {},
   "outputs": [],
   "source": [
    "ratio_df, survey_fig, survey_fig_name, survey_fig_caption, ratio_fig, ratio_fig_name, ratio_fig_caption, cdr_description = model.add_notifications_output(aust_model)\n",
    "add_element_to_document(\"Outputs\", TextElement(cdr_description), doc_sections, subsection_name=\"Notifications\")\n",
    "add_element_to_document(\"Outputs\", FigElement(survey_fig_name, caption=survey_fig_caption), doc_sections, subsection_name=\"Notifications\")\n",
    "add_element_to_document(\"Outputs\", FigElement(ratio_fig_name, caption=ratio_fig_caption), doc_sections, subsection_name=\"Notifications\")\n",
    "cdr_description"
   ]
  },
  {
   "cell_type": "code",
   "execution_count": null,
   "id": "240ffdf3-09ad-43d6-9a40-06f27833cced",
   "metadata": {},
   "outputs": [],
   "source": [
    "survey_fig.layout.title.update({\"text\": survey_fig_caption})\n",
    "survey_fig"
   ]
  },
  {
   "cell_type": "code",
   "execution_count": null,
   "id": "261ca23c-08a7-4c7b-b313-b9ea04b26e0d",
   "metadata": {},
   "outputs": [],
   "source": [
    "ratio_fig.layout.title.update({\"text\": ratio_fig_caption})\n",
    "ratio_fig"
   ]
  },
  {
   "cell_type": "code",
   "execution_count": null,
   "id": "d33a0b93-7d8c-4fdd-98c9-5a40684881ce",
   "metadata": {},
   "outputs": [],
   "source": [
    "model.track_sero_prevalence(compartments, aust_model)"
   ]
  },
  {
   "cell_type": "code",
   "execution_count": null,
   "id": "466bbd67-2a6f-4154-8186-85c97bcb3ec0",
   "metadata": {},
   "outputs": [],
   "source": [
    "strain_prop_text = model.track_strain_prop(strain_strata, aust_model)\n",
    "add_element_to_document(\"Outputs\", TextElement(strain_prop_text), doc_sections, subsection_name=\"Other outputs\")\n",
    "strain_prop_text"
   ]
  },
  {
   "cell_type": "code",
   "execution_count": null,
   "id": "1579d9ac-43b3-4c3f-9f2a-f78041ded0fc",
   "metadata": {},
   "outputs": [],
   "source": [
    "# Calibration/optimisation settings\n",
    "priors = [\n",
    "    UniformPrior(\"contact_rate\", (0.035, 0.06)),\n",
    "    UniformPrior(\"infectious_period\", (4.0, 10.0)),\n",
    "    UniformPrior(\"start_cdr\", (0.05, 0.3)),\n",
    "    UniformPrior(\"ba2_escape\", (0.3, 1.0)),\n",
    "    UniformPrior(\"ba5_escape\", (0.3, 1.0)),\n",
    "    UniformPrior(\"ba1_seed_time\", (640.0, 670.0)),\n",
    "    UniformPrior(\"ba2_seed_time\", (680.0, 720.0)),\n",
    "    UniformPrior(\"ba5_seed_time\", (750.0, 800.0)),\n",
    "    UniformPrior(\"natural_immunity_period\", (20.0, 100.0)),\n",
    "]\n",
    "smoothed_composite_cases_intindex = smoothed_composite_cases.copy()\n",
    "smoothed_composite_cases_intindex.index=(smoothed_composite_cases.index - aust_model.ref_date).days\n",
    "def least_squares(modelled, obs, parameters, time_weights):\n",
    "    return 0.0 - (((modelled - obs) ** 2.0)).sum()\n",
    "targets = [\n",
    "    CustomTarget(\"notifications\", smoothed_composite_cases_intindex, least_squares),\n",
    "]\n",
    "binom_targets = [\n",
    "    NegativeBinomialTarget(\"notifications\", smoothed_composite_cases_intindex, 500.0),\n",
    "]\n",
    "calibration_model = BayesianCompartmentalModel(aust_model, parameters, priors, binom_targets)"
   ]
  },
  {
   "cell_type": "code",
   "execution_count": null,
   "id": "56321d96-808d-4d6a-80aa-a2d2b16f4c99",
   "metadata": {},
   "outputs": [],
   "source": [
    "if optimise_model:\n",
    "    print(\"Optimising with nevergrad \\n Progression of loss function values:\")\n",
    "    optim_runner = optimize_model(calibration_model)\n",
    "    for i in range(10):\n",
    "        rec = optim_runner.minimize(100)\n",
    "        print(rec.loss)\n",
    "    optim_params = rec.value[1]\n",
    "    parameters.update(optim_params)\n",
    "    aust_model.run(parameters=parameters)\n",
    "    print(\"Best calibration parameters found:\")\n",
    "    print(optim_params)"
   ]
  },
  {
   "cell_type": "markdown",
   "id": "8bbca422-5801-4f74-9a0e-b50e175b00de",
   "metadata": {},
   "source": [
    "# Single run point"
   ]
  },
  {
   "cell_type": "code",
   "execution_count": null,
   "id": "75b81cfb-7f3d-4b0d-9fa3-300518f94e04",
   "metadata": {},
   "outputs": [],
   "source": [
    "aust_model.run(parameters=parameters)\n",
    "axis_labels = {\"index\": \"time\", \"value\": \"cases\"}\n",
    "comparison_df = pd.concat((smoothed_composite_cases, aust_model.get_derived_outputs_df()[\"notifications\"]), axis=1)\n",
    "comparison_df.plot(labels=axis_labels, title=\"Optimised parameter outputs\")"
   ]
  },
  {
   "cell_type": "code",
   "execution_count": null,
   "id": "68d8b6d9-e6c8-418e-9f2c-99a2714f41d3",
   "metadata": {},
   "outputs": [],
   "source": [
    "assert False"
   ]
  },
  {
   "cell_type": "code",
   "execution_count": null,
   "id": "4bec1677-1ab7-4c7e-968b-2dcc338d4254",
   "metadata": {},
   "outputs": [],
   "source": [
    "strain_prop_fig, strain_prop_fig_name, strain_prop_fig_caption = model.show_strain_props(strain_strata, date(2021, 11, 1), aust_model)\n",
    "add_element_to_document(\"Outputs\", FigElement(strain_prop_fig_name, caption=strain_prop_fig_caption), doc_sections, subsection_name=\"Sub-variants\")\n",
    "strain_prop_fig.layout.title.update({\"text\": strain_prop_fig_caption})\n",
    "strain_prop_fig"
   ]
  },
  {
   "cell_type": "code",
   "execution_count": null,
   "id": "96597b79-e056-48c1-a2ad-d0881beb36cb",
   "metadata": {},
   "outputs": [],
   "source": [
    "# Main calibration loop\n",
    "iterations = 10000\n",
    "burn_in = 2000\n",
    "n_chains = 10\n",
    "if new_calibration:\n",
    "    with pm.Model() as pm_model:\n",
    "        variables = epm.use_model(calibration_model)\n",
    "        idata_raw = pm.sample(step=[pm.DEMetropolis(variables)], draws=iterations, tune=0, cores=8, chains=n_chains)\n",
    "    idata_raw.to_netcdf(OUTPUT_PATH / \"calibration_out.nc\")\n",
    "else:\n",
    "    idata_raw = az.from_netcdf(OUTPUT_PATH / \"calibration_out.nc\")\n",
    "\n",
    "idata = idata_raw.sel(draw=range(burn_in, iterations))  # Discard burn-in"
   ]
  },
  {
   "cell_type": "code",
   "execution_count": null,
   "id": "dbb2e1ac-0137-4a27-beea-3abedec79289",
   "metadata": {},
   "outputs": [],
   "source": [
    "# Check parameter starting points by chain\n",
    "idata_raw.posterior.isel(draw=0).to_dataframe()"
   ]
  },
  {
   "cell_type": "code",
   "execution_count": null,
   "id": "c023d2a5-6c79-4b1c-8717-8147e948dcc5",
   "metadata": {},
   "outputs": [],
   "source": [
    "# Report acceptance ratios by chain\n",
    "(idata.sample_stats.accepted.sum(axis=1) / idata.sample_stats.coords[\"draw\"].size).to_dataframe()"
   ]
  },
  {
   "cell_type": "code",
   "execution_count": null,
   "id": "c1ca766a-6cf5-44e4-90f5-333cfb0697f4",
   "metadata": {},
   "outputs": [],
   "source": [
    "priors_table = calib_doc_utils.tabulate_priors(priors, param_info)\n",
    "add_element_to_document(\"Calibration\", TableElement(priors_table), doc_sections)\n",
    "priors_table"
   ]
  },
  {
   "cell_type": "code",
   "execution_count": null,
   "id": "373a1512-7ccb-49f9-8b5a-ba933eae114f",
   "metadata": {},
   "outputs": [],
   "source": [
    "calib_table = calib_doc_utils.tabulate_param_results(idata, priors, param_info)\n",
    "add_element_to_document(\"Calibration\", TableElement(calib_table), doc_sections)\n",
    "calib_table"
   ]
  },
  {
   "cell_type": "code",
   "execution_count": null,
   "id": "96111168-276e-4d1a-aa65-1352fc88aef5",
   "metadata": {},
   "outputs": [],
   "source": [
    "param_table = calib_doc_utils.tabulate_parameters(parameters, priors, param_info)\n",
    "add_element_to_document(\"Parameters\", TableElement(param_table, col_requests=[0.25, 0.25, 0.5]), doc_sections)"
   ]
  },
  {
   "cell_type": "code",
   "execution_count": null,
   "id": "05694c74-98c9-4224-a293-e941e19bbe1b",
   "metadata": {},
   "outputs": [],
   "source": [
    "chains_plot = calib_doc_utils.plot_param_progression(idata, param_info)\n",
    "save_pyplot_add_to_doc(chains_plot, \"chains\", \"Calibration\", doc_sections, caption=\"Parameter progression and posterior by chain.\")"
   ]
  },
  {
   "cell_type": "code",
   "execution_count": null,
   "id": "f4bc7638-ceb8-45b5-9f4e-dfb5e2f1157a",
   "metadata": {},
   "outputs": [],
   "source": [
    "posterior_plot = calib_doc_utils.plot_param_posterior(idata, param_info)\n",
    "save_pyplot_add_to_doc(posterior_plot, \"posterior\", \"Calibration\", doc_sections, caption=\"Final estimated parameter posteriors.\")"
   ]
  },
  {
   "cell_type": "code",
   "execution_count": null,
   "id": "f626ae66-4244-42eb-b233-a612b8e41d29",
   "metadata": {},
   "outputs": [],
   "source": [
    "sample_plot, sampled_df = calib_doc_utils.plot_sampled_outputs(idata, 30, \"notifications\", calibration_model, smoothed_composite_cases, plot_start_date, end_date)\n",
    "save_plotly_add_to_doc(sample_plot, \"calibration_fit\", \"Calibration\", doc_sections, caption=\"Sampled model run fits to calibration targets\")\n",
    "sample_plot"
   ]
  },
  {
   "cell_type": "code",
   "execution_count": null,
   "id": "1c759fb0-9660-4690-a244-97c0f8bdac8b",
   "metadata": {},
   "outputs": [],
   "source": [
    "modelled_cdr_fig, modelled_cdr_fig_name, modelled_cdr_fig_caption = model.show_cdr_profiles(sampled_df[\"start_cdr\"], ratio_df)\n",
    "save_plotly_add_to_doc(modelled_cdr_fig, modelled_cdr_fig_name, \"Calibration\", doc_sections, caption=modelled_cdr_fig_caption)\n",
    "modelled_cdr_fig"
   ]
  },
  {
   "cell_type": "code",
   "execution_count": null,
   "id": "fbb8c72c-f804-42aa-8dd4-b0e5e9325119",
   "metadata": {},
   "outputs": [],
   "source": [
    "# Complete the documentation process\n",
    "supplement = generate_doc(\"Supplemental Appendix\", \"austcovid\")\n",
    "compile_doc(doc_sections, supplement)"
   ]
  },
  {
   "cell_type": "code",
   "execution_count": null,
   "id": "b4d277f6",
   "metadata": {},
   "outputs": [],
   "source": [
    "if on_colab:\n",
    "    # To build a PDF, we need the appropriate tex packages installed\n",
    "    ! apt-get -y install texlive-latex-base texlive-fonts-recommended texlive-fonts-extra texlive-latex-extra texlive-bibtex-extra biber\n",
    "    # To avoid clutter and navigate to the right directory\n",
    "    import os\n",
    "    os.chdir(\"supplement\")\n",
    "    # And finally build the formatted PDF, repeated commands are necessary\n",
    "    ! pdflatex supplement\n",
    "    ! biber supplement\n",
    "    ! pdflatex supplement\n",
    "    ! pdflatex supplement"
   ]
  }
 ],
 "metadata": {
  "kernelspec": {
   "display_name": "Python 3 (ipykernel)",
   "language": "python",
   "name": "python3"
  },
  "language_info": {
   "codemirror_mode": {
    "name": "ipython",
    "version": 3
   },
   "file_extension": ".py",
   "mimetype": "text/x-python",
   "name": "python",
   "nbconvert_exporter": "python",
   "pygments_lexer": "ipython3",
   "version": "3.10.11"
  }
 },
 "nbformat": 4,
 "nbformat_minor": 5
}
