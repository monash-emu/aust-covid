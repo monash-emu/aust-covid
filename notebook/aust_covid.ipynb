{
 "cells": [
  {
   "cell_type": "markdown",
   "id": "aaa7661f-3c91-478a-ade0-a791303cb197",
   "metadata": {},
   "source": [
    "List of outstanding tasks with this calibration:\n",
    "- Initialise parameters from different points\n",
    "- Consider whether to try reinstating mobility contact scaling\n",
    "- Get back running over Colab\n",
    "- Finish evidence review\n",
    "- Adapt sample_idata process to David's advice\n",
    "- Include WA reopen time in priors (and check no other ones need to go in)"
   ]
  },
  {
   "cell_type": "code",
   "execution_count": null,
   "id": "639b229a-ae5c-4299-a28c-f727cd75a517",
   "metadata": {},
   "outputs": [],
   "source": [
    "from pathlib import Path\n",
    "import re\n",
    "from datetime import datetime, timedelta\n",
    "import numpy as np\n",
    "import pandas as pd\n",
    "pd.options.plotting.backend = 'plotly'\n",
    "from plotly.subplots import make_subplots\n",
    "import plotly.graph_objects as go\n",
    "import pymc as pm\n",
    "import arviz as az\n",
    "import plotly.express as px\n",
    "from jax import numpy as jnp\n",
    "\n",
    "from estival.model import BayesianCompartmentalModel\n",
    "import estival.priors as esp\n",
    "import estival.targets as est\n",
    "from estival.wrappers import pymc as epm\n",
    "\n",
    "from autumn.infrastructure.remote import springboard\n",
    "from autumn.core.runs import ManagedRun\n",
    "from aust_covid.inputs import load_calibration_targets, load_who_data, load_serosurvey_data, get_ifrs\n",
    "from aust_covid.model import MATRIX_LOCATIONS, build_model\n",
    "from aust_covid.outputs import plot_key_outputs, plot_cdr_examples, plot_subvariant_props\n",
    "from general_utils.calibration_utils import param_table_to_tex\n",
    "from general_utils.tex_utils import StandardTexDoc\n",
    "from general_utils.parameter_utils import load_param_info\n",
    "from general_utils.calibration_utils import round_sigfig, sample_idata, get_sampled_outputs, melt_spaghetti, plot_param_progression, plot_param_posterior, tabulate_priors, tabulate_param_results, get_negbinom_target_widths\n",
    "PROJECT_PATH = Path().resolve().parent\n",
    "DATA_PATH = PROJECT_PATH / 'data'"
   ]
  },
  {
   "cell_type": "code",
   "execution_count": null,
   "id": "c196fdbb-4f02-414c-8941-855b60689d53",
   "metadata": {},
   "outputs": [],
   "source": [
    "analysis_start_date = datetime(2021, 7, 1)\n",
    "analysis_end_date = datetime(2022, 10, 1)\n",
    "plot_start_date = datetime(2021, 12, 1)\n",
    "reference_date = datetime(2019, 12, 31)\n",
    "targets_start_date = datetime(2022, 1, 1)"
   ]
  },
  {
   "cell_type": "code",
   "execution_count": null,
   "id": "4cfe6efa-3965-44f1-8487-384c4d42ab3d",
   "metadata": {},
   "outputs": [],
   "source": [
    "app_doc = StandardTexDoc(PROJECT_PATH / 'supplement', 'supplement', \"Australia's 2023 Omicron Waves Supplement\", 'austcovid')"
   ]
  },
  {
   "cell_type": "code",
   "execution_count": null,
   "id": "b7f27415-143f-4b70-805e-68ef0724425d",
   "metadata": {},
   "outputs": [],
   "source": [
    "targets_average_window = 7\n",
    "case_targets = load_calibration_targets(datetime(2021, 12, 15), targets_average_window, app_doc)[targets_start_date:]\n",
    "death_targets = load_who_data(targets_average_window, app_doc)[targets_start_date:]\n",
    "serosurvey_targets = load_serosurvey_data(14.0, app_doc)"
   ]
  },
  {
   "cell_type": "code",
   "execution_count": null,
   "id": "a21e186d-e686-4142-bd8a-a468c4d537d3",
   "metadata": {},
   "outputs": [],
   "source": [
    "parameters = {\n",
    "    'contact_rate': 0.065,\n",
    "    'latent_period': 1.8,\n",
    "    'infectious_period': 2.5,\n",
    "    'natural_immunity_period': 60.0,\n",
    "    'start_cdr': 0.3,\n",
    "    'vacc_prop': 0.4,\n",
    "    'vacc_infect_protect': 0.4,\n",
    "    'ifr_adjuster': 3.0,\n",
    "    'ba1_seed_time': 619.0,\n",
    "    'ba2_seed_time': 660.0,\n",
    "    'ba5_seed_time': 715.0,\n",
    "    'ba2_escape': 0.4,\n",
    "    'ba5_escape': 0.54,\n",
    "    'ba2_rel_ifr': 0.5,\n",
    "    'wa_reopen_period': 30.0,\n",
    "    'seed_rate': 1.0,\n",
    "    'seed_duration': 10.0,\n",
    "    'notifs_shape': 2.0,\n",
    "    'notifs_mean': 4.0,\n",
    "    'deaths_shape': 2.0,\n",
    "    'deaths_mean': 20.0,\n",
    "}\n",
    "ifrs = get_ifrs(app_doc)\n",
    "parameters.update(ifrs)"
   ]
  },
  {
   "cell_type": "code",
   "execution_count": null,
   "id": "0839a928-3ff8-4f11-8aa7-e591d335c1eb",
   "metadata": {},
   "outputs": [],
   "source": [
    "param_info = load_param_info(PROJECT_PATH / 'inputs' / 'parameters.yml', parameters | ifrs)"
   ]
  },
  {
   "cell_type": "code",
   "execution_count": null,
   "id": "c4ee5821-390b-446a-8f37-ac5d23a62fb4",
   "metadata": {},
   "outputs": [],
   "source": [
    "aust_model = build_model(reference_date, analysis_start_date, analysis_end_date, app_doc, targets_average_window)"
   ]
  },
  {
   "cell_type": "code",
   "execution_count": null,
   "id": "6949a79f-d09e-4f03-b58b-e4a03928e4ab",
   "metadata": {},
   "outputs": [],
   "source": [
    "aust_model.run(parameters=parameters)"
   ]
  },
  {
   "cell_type": "code",
   "execution_count": null,
   "id": "d4274b0f-5079-44c4-b4e8-e90fbf597939",
   "metadata": {},
   "outputs": [],
   "source": [
    "# Set up for calibration or optimisation\n",
    "def truncation_ceiling(modelled, obs, parameters, time_weights):\n",
    "    return jnp.where(modelled > obs, -1e11, 0.0)\n",
    "\n",
    "cases_dispersion = esp.UniformPrior('notifications_dispersion', (20.0, 140.0))\n",
    "\n",
    "priors = [\n",
    "    esp.UniformPrior('contact_rate', (0.02, 0.15)),\n",
    "    esp.GammaPrior.from_mode('latent_period', 2.5, 5.0),\n",
    "    esp.GammaPrior.from_mode('infectious_period', 3.5, 6.0),\n",
    "    esp.GammaPrior.from_mode('natural_immunity_period', 90.0, 250.0),\n",
    "    esp.UniformPrior('start_cdr', (0.1, 0.6)),\n",
    "    esp.UniformPrior('vacc_prop', (0.0, 1.0)),\n",
    "    esp.UniformPrior('vacc_infect_protect', (0.0, 1.0)),\n",
    "    esp.TruncNormalPrior('ifr_adjuster', 1.0, 2.0, (0.2, np.inf)),\n",
    "    esp.UniformPrior('ba1_seed_time', (580.0, 620.0)), \n",
    "    esp.UniformPrior('ba2_seed_time', (620.0, 660.0)),\n",
    "    esp.UniformPrior('ba5_seed_time', (660.0, 740.0)),\n",
    "    esp.UniformPrior('ba2_escape', (0.2, 0.8)),\n",
    "    esp.UniformPrior('ba5_escape', (0.2, 0.8)),    \n",
    "    esp.UniformPrior('ba2_rel_ifr', (0.2, 1.2)),\n",
    "]\n",
    "targets = [\n",
    "    est.NegativeBinomialTarget('notifications_ma', case_targets, dispersion_param=esp.UniformPrior('notifications_dispersion', (10.0, 140.0))),\n",
    "    est.NegativeBinomialTarget('deaths_ma', death_targets, dispersion_param=esp.UniformPrior('deaths_dispersion', (60.0, 200.0))),\n",
    "    est.BinomialTarget('adult_seropos_prop', serosurvey_targets, pd.Series([20] * 4, index=serosurvey_targets.index)),\n",
    "]\n",
    "targets.append(est.CustomTarget('adult_seropos_prop_copy', pd.Series([0.04], index=[datetime(2021, 12, 1)]), truncation_ceiling))\n",
    "calibration_model = BayesianCompartmentalModel(aust_model, parameters, priors, targets)"
   ]
  },
  {
   "cell_type": "code",
   "execution_count": null,
   "id": "230369da-aaca-4ce5-9e4d-acf1ae3035c9",
   "metadata": {},
   "outputs": [],
   "source": [
    "# from scipy.stats.qmc import LatinHypercube\n",
    "# from estival.utils.parallel import map_parallel\n",
    "\n",
    "# def constrain(bcm, sample, bounds=0.99):\n",
    "#     return {k:np.clip(sample[k], *bcm.priors[k].bounds(bounds)) for k,v in sample.items()}\n",
    "\n",
    "# lhs = LatinHypercube(len(calibration_model.priors))\n",
    "# n_chains = 8\n",
    "# lhs_samples = lhs.random(n_chains)\n",
    "# init_samples = []\n",
    "# for sample in lhs_samples:\n",
    "#     init_sample = {k: np.clip(v.ppf(sample[i]), *v.bounds(0.99)) for i, (k, v) in enumerate(calibration_model.priors.items())}\n",
    "#     init_samples.append(init_sample)\n",
    "\n",
    "# def find_MAP(start_params):\n",
    "#     with pm.Model() as pmc_model:\n",
    "#         variables = epm.use_model(calibration_model)\n",
    "#         map_params = pm.find_MAP(start=start_params, vars=variables, include_transformed=False, progressbar=False)\n",
    "#         map_params = {k: float(v) for k, v in map_params.items()}\n",
    "#     return map_params\n",
    "\n",
    "# map_iparams = map_parallel(find_MAP, init_samples, n_workers=8)\n",
    "# map_iparams_constrained = [constrain(calibration_model, pset) for pset in map_iparams]"
   ]
  },
  {
   "cell_type": "code",
   "execution_count": null,
   "id": "fb1ec7d5-3cde-4a75-88ca-7970f4793829",
   "metadata": {},
   "outputs": [],
   "source": [
    "with pm.Model() as pmc_model:\n",
    "    start_params = {k: np.clip(v, *calibration_model.priors[k].bounds(0.99)) for k, v in parameters.items() if k in calibration_model.priors}\n",
    "    variables = epm.use_model(calibration_model)\n",
    "    map_params = pm.find_MAP(start=start_params, vars=variables, include_transformed=False)\n",
    "    map_params = {k: float(v) for k, v in map_params.items()}\n",
    "print('Best calibration parameters found:')\n",
    "for i_param, param in enumerate([p for p in map_params if '_dispersion' not in p]):\n",
    "    print(f'   {param}: {round_sigfig(map_params[param], 4)} (within bound {priors[i_param].bounds()}')\n",
    "parameters.update(map_params)\n",
    "aust_model.run(parameters=parameters)"
   ]
  },
  {
   "cell_type": "code",
   "execution_count": null,
   "id": "fdac6914-00eb-4ec6-bb67-b975d8e4f3c7",
   "metadata": {},
   "outputs": [],
   "source": [
    "fig = make_subplots(rows=3, cols=2)\n",
    "derived_outputs = aust_model.get_derived_outputs_df()\n",
    "x_vals = derived_outputs.index\n",
    "fig.add_trace(go.Scatter(x=x_vals, y=derived_outputs['notifications_ma'], name='modelled cases'), row=1, col=1)\n",
    "fig.add_trace(go.Scatter(x=case_targets.index, y=case_targets, name='reported cases'), row=1, col=1)\n",
    "fig.add_trace(go.Scatter(x=x_vals, y=derived_outputs['deaths_ma'], name='deaths_ma'), row=1, col=2)\n",
    "fig.add_trace(go.Scatter(x=death_targets.index, y=death_targets, name='reported deaths ma'), row=1, col=2)\n",
    "fig.add_trace(go.Scatter(x=x_vals, y=derived_outputs['adult_seropos_prop'], name='adult seropos'), row=2, col=1)\n",
    "fig.add_trace(go.Scatter(x=serosurvey_targets.index, y=serosurvey_targets, name='seropos estimates'), row=2, col=1)\n",
    "fig.add_trace(go.Scatter(x=x_vals, y=derived_outputs['reproduction_number'], name='reproduction number'), row=2, col=2)\n",
    "for agegroup in aust_model.stratifications['agegroup'].strata:\n",
    "    fig.add_trace(go.Scatter(x=x_vals, y=derived_outputs[f'deathsXagegroup_{agegroup}'], name=f'{agegroup} deaths'), row=3, col=1)\n",
    "    fig.add_trace(go.Scatter(x=x_vals, y=derived_outputs[f'deathsXagegroup_{agegroup}'], name=f'{agegroup} deaths'), row=3, col=2)\n",
    "fig['layout']['yaxis6'].update(type='log', range=[-2.0, 2.0])\n",
    "fig.update_xaxes(range=(plot_start_date, analysis_end_date))\n",
    "fig.update_layout(height=600, width=1200)\n",
    "fig.show()"
   ]
  },
  {
   "cell_type": "code",
   "execution_count": null,
   "id": "383dc7e2-6b6d-4880-8a78-a9568edbb0a0",
   "metadata": {},
   "outputs": [],
   "source": [
    "prior_names = [p.name for p in priors]\n",
    "app_doc.include_table(param_table_to_tex(param_info, prior_names), section='Parameters', col_splits=[0.17, 0.15, 0.15, 0.53], longtable=True)\n",
    "app_doc.include_table(tabulate_priors(priors, param_info), section='Calibration', col_splits=[0.25] * 4)"
   ]
  },
  {
   "cell_type": "code",
   "execution_count": null,
   "id": "00a01865-bf5f-4523-87a0-043e731204ec",
   "metadata": {},
   "outputs": [],
   "source": [
    "# with pm.Model() as pm_model:\n",
    "#     variables = epm.use_model(calibration_model)\n",
    "#     idata_local = pm.sample(step=[pm.DEMetropolis(variables)], draws=100, tune=0, cores=9, chains=8, progressbar=False, initvals=map_iparams_constrained)\n",
    "# idata_local.to_netcdf('calibration_out.nc')"
   ]
  },
  {
   "cell_type": "code",
   "execution_count": null,
   "id": "bf9b6ba1-1c99-453a-a72c-6e94fab55178",
   "metadata": {},
   "outputs": [],
   "source": [
    "def run_calibration(bridge: springboard.task.TaskBridge, calibration_model: BayesianCompartmentalModel):\n",
    "    import multiprocessing as mp\n",
    "    mp.set_start_method('forkserver')\n",
    "    \n",
    "    with pm.Model() as pm_model:\n",
    "        variables = epm.use_model(calibration_model)\n",
    "        idata_raw = pm.sample(step=[pm.DEMetropolis(variables)], draws=1000, tune=0, cores=9, chains=18, progressbar=False)\n",
    "    \n",
    "    idata_raw.to_netcdf(str(bridge.out_path / 'calibration_out.nc'))\n",
    "    bridge.logger.info('Calibration complete')\n",
    "    \n",
    "mspec = springboard.EC2MachineSpec(8, 2, 'compute')\n",
    "tspec = springboard.TaskSpec(run_calibration, {'calibration_model': calibration_model})\n",
    "run_path = springboard.launch.get_autumn_project_run_path('aust_covid', 'finalising_epi_model', 'short_run_for_param_names')\n",
    "run_path"
   ]
  },
  {
   "cell_type": "code",
   "execution_count": null,
   "id": "4db1b97e-7819-4ad2-baf7-8c24589e96dd",
   "metadata": {},
   "outputs": [],
   "source": [
    "aust_covid_commands = [\n",
    "    'git clone --branch main https://github.com/monash-emu/aust-covid',\n",
    "    'pip install -e ./aust-covid',\n",
    "]\n",
    "runner = springboard.launch.launch_synced_autumn_task(tspec, mspec, run_path, branch=None, extra_commands=aust_covid_commands)"
   ]
  },
  {
   "cell_type": "code",
   "execution_count": null,
   "id": "e89d9b01-1ba0-4cc6-9e25-fdf62db637ec",
   "metadata": {},
   "outputs": [],
   "source": [
    "run_path = 'projects/aust_covid/finalising_epi_model/2023-08-23T1102-short_run_for_param_names'"
   ]
  },
  {
   "cell_type": "code",
   "execution_count": null,
   "id": "bd0255b4-3110-4cb4-af3f-c541faba315e",
   "metadata": {},
   "outputs": [],
   "source": [
    "mr = ManagedRun(run_path)\n",
    "mr.remote.download(mr.remote.list_contents()[-1])\n",
    "idata = az.from_netcdf(mr.list_local()[-1])"
   ]
  },
  {
   "cell_type": "code",
   "execution_count": null,
   "id": "e59c21c7-4f98-4140-bc51-ec3cce3335a5",
   "metadata": {},
   "outputs": [],
   "source": [
    "# Burn\n",
    "idata = idata.sel(draw=np.s_[200:])"
   ]
  },
  {
   "cell_type": "code",
   "execution_count": null,
   "id": "7e852ea9-3135-4348-9070-599f93f201be",
   "metadata": {},
   "outputs": [],
   "source": [
    "app_doc.include_table(tabulate_param_results(idata, priors, param_info), section='Calibration', col_splits=[0.142] * 7, table_width=12.0)"
   ]
  },
  {
   "cell_type": "code",
   "execution_count": null,
   "id": "5fad9675-e4e6-404b-aa08-cdddd32e35db",
   "metadata": {},
   "outputs": [],
   "source": [
    "plot_param_progression(idata, param_info, app_doc, True, request_vars=prior_names[:7], name_ext='_first')"
   ]
  },
  {
   "cell_type": "code",
   "execution_count": null,
   "id": "8fb5507d-ec38-4989-8e72-d2adc1d4467e",
   "metadata": {},
   "outputs": [],
   "source": [
    "plot_param_progression(idata, param_info, app_doc, True, request_vars=prior_names[7:], name_ext='_last')"
   ]
  },
  {
   "cell_type": "code",
   "execution_count": null,
   "id": "7e1a0364-ca81-4460-b68c-d29afbcb8885",
   "metadata": {},
   "outputs": [],
   "source": [
    "display_names = param_info['descriptions'].to_dict() | {'ba2_escape': 'BA.2 escape', 'ba5_escape': 'BA.5 escape', 'contact_rate': 'Contact rate'}\n",
    "plot_param_posterior(idata, display_names, app_doc, True, request_vars=prior_names[:7], name_ext='_first')"
   ]
  },
  {
   "cell_type": "code",
   "execution_count": null,
   "id": "97cee7a9-adef-4732-a1a0-eecd9e1640f6",
   "metadata": {},
   "outputs": [],
   "source": [
    "display_names = param_info['descriptions'].to_dict() | {'ba2_rel_ifr': 'BA.2 relative IFR', 'vacc_prop': 'Prop vaccinated', 'vacc_infect_protect': 'Vacc infection protection', 'ifr_adjuster': 'IFR adjuster'}\n",
    "plot_param_posterior(idata, display_names, app_doc, True, request_vars=prior_names[7:], name_ext='_last')"
   ]
  },
  {
   "cell_type": "code",
   "execution_count": null,
   "id": "9241ac20-9bad-41c1-bae5-bdc1a44af8f9",
   "metadata": {},
   "outputs": [],
   "source": [
    "sampled_idata = sample_idata(idata, 5, calibration_model)\n",
    "key_outputs = ['notifications_ma', 'adult_seropos_prop', 'deaths_ma']\n",
    "variant_prop_outputs = [i for i in aust_model.derived_outputs.keys() if re.fullmatch('ba[0-5]_prop', i)]\n",
    "req_outputs = key_outputs + variant_prop_outputs\n",
    "output_results = get_sampled_outputs(calibration_model, sampled_idata, req_outputs, parameters)"
   ]
  },
  {
   "cell_type": "code",
   "execution_count": null,
   "id": "8cb6b099-099d-49b5-963b-8b7b7bd7edac",
   "metadata": {},
   "outputs": [],
   "source": [
    "plot_subvariant_props(sampled_idata, output_results, plot_start_date, analysis_end_date, app_doc)"
   ]
  },
  {
   "cell_type": "code",
   "execution_count": null,
   "id": "21399c72-89a0-4c51-b934-2b91ac780e39",
   "metadata": {},
   "outputs": [],
   "source": [
    "plot_key_outputs(sampled_idata, output_results, plot_start_date, analysis_end_date, app_doc, key_outputs, case_targets, serosurvey_targets, death_targets, show_fig=True)"
   ]
  },
  {
   "cell_type": "code",
   "execution_count": null,
   "id": "f71414fd-6629-40ff-bc9f-47fc99b37c59",
   "metadata": {},
   "outputs": [],
   "source": [
    "plot_cdr_examples(sampled_idata['start_cdr'], app_doc)"
   ]
  },
  {
   "cell_type": "code",
   "execution_count": null,
   "id": "075aabc9-7539-498c-a9e7-e6796baaa08d",
   "metadata": {},
   "outputs": [],
   "source": [
    "section_order = [\n",
    "    'Model Structure', \n",
    "    'Population', \n",
    "    'Stratification', \n",
    "    'Mixing', \n",
    "    'Reinfection', \n",
    "    'Parameters',\n",
    "    'Outputs', \n",
    "    'Targets',\n",
    "    'Calibration',\n",
    "    'Results',\n",
    "]"
   ]
  },
  {
   "cell_type": "code",
   "execution_count": null,
   "id": "b714b2b2-0885-4172-a6b2-15eb0b081028",
   "metadata": {},
   "outputs": [],
   "source": [
    "app_doc.write_doc(order=section_order)"
   ]
  },
  {
   "cell_type": "code",
   "execution_count": null,
   "id": "80cc83e0-a7bd-458a-af1d-79bd8b4685f0",
   "metadata": {},
   "outputs": [],
   "source": [
    "n_samples = 4\n",
    "outputs = ['notifications', 'deaths']\n",
    "fig = go.Figure(layout=go.Layout(autosize=False, width=1000, height=1200))\n",
    "fig = make_subplots(rows=n_samples, cols=len(outputs), figure=fig, subplot_titles=['temp'] * n_samples * len(outputs))\n",
    "req_centiles = np.linspace(0.1, 0.9, 9)\n",
    "for i_sample in range(n_samples):\n",
    "    row = i_sample + 1\n",
    "    for i, o in enumerate(outputs):\n",
    "        target_extract = targets[i].data.loc[targets_start_date: analysis_end_date]\n",
    "        cis, disps = get_negbinom_target_widths(target_extract, idata, aust_model, parameters, o, f'{o}_dispersion', req_centiles, prior_names)\n",
    "        col = i + 1\n",
    "        bottom_trace = go.Scatter(x=cis.index, y=cis.iloc[:, 0], line=dict(width=0.0), name=round(cis.columns[0], 2))\n",
    "        fig.add_traces(bottom_trace, rows=row, cols=col)\n",
    "        for centile in cis.columns[1:]:\n",
    "            colour = f'rgba(50, 50, 50, {1.0 - abs(centile - 0.5)})'\n",
    "            middle_trace = go.Scatter(x=cis.index, y=cis[centile], fill='tonexty', line=dict(width=0.0), fillcolor=colour, name=round(centile, 2))\n",
    "            fig.add_traces(middle_trace, rows=row, cols=col)\n",
    "        target_trace = go.Scatter(x=target_extract.index, y=target_extract, name='reported', mode='markers', marker={'color': 'black', 'size': 4})\n",
    "        fig.add_trace(target_trace, row=row, col=col)\n",
    "        fig.layout.annotations[i_sample * 2 + i].update(text=f'{o}, dispersion: {round(float(disps.data))}')\n",
    "fig"
   ]
  }
 ],
 "metadata": {
  "kernelspec": {
   "display_name": "Python 3 (ipykernel)",
   "language": "python",
   "name": "python3"
  },
  "language_info": {
   "codemirror_mode": {
    "name": "ipython",
    "version": 3
   },
   "file_extension": ".py",
   "mimetype": "text/x-python",
   "name": "python",
   "nbconvert_exporter": "python",
   "pygments_lexer": "ipython3",
   "version": "3.10.11"
  }
 },
 "nbformat": 4,
 "nbformat_minor": 5
}
