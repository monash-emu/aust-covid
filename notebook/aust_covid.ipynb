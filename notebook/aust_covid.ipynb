{
 "cells": [
  {
   "cell_type": "code",
   "execution_count": null,
   "id": "639b229a-ae5c-4299-a28c-f727cd75a517",
   "metadata": {},
   "outputs": [],
   "source": [
    "from pathlib import Path\n",
    "from datetime import datetime\n",
    "import numpy as np\n",
    "import pandas as pd\n",
    "pd.options.plotting.backend = 'plotly'\n",
    "from plotly.subplots import make_subplots\n",
    "import plotly.graph_objects as go\n",
    "import pymc as pm\n",
    "\n",
    "from estival.model import BayesianCompartmentalModel\n",
    "import estival.priors as esp\n",
    "import estival.targets as est\n",
    "from estival.wrappers import pymc as epm\n",
    "\n",
    "from aust_covid.inputs import load_calibration_targets, load_who_data, load_serosurvey_data\n",
    "from aust_covid.model import MATRIX_LOCATIONS, build_model\n",
    "from general_utils.tex_utils import StandardTexDoc\n",
    "from general_utils.parameter_utils import load_param_info\n",
    "from general_utils.calibration_utils import round_sigfig\n",
    "\n",
    "PROJECT_PATH = Path().resolve().parent\n",
    "DATA_PATH = PROJECT_PATH / 'data'"
   ]
  },
  {
   "cell_type": "code",
   "execution_count": null,
   "id": "c196fdbb-4f02-414c-8941-855b60689d53",
   "metadata": {},
   "outputs": [],
   "source": [
    "analysis_start_date = datetime(2021, 7, 1)\n",
    "analysis_end_date = datetime(2022, 10, 1)\n",
    "plot_start_date = datetime(2021, 12, 1)\n",
    "reference_date = datetime(2019, 12, 31)"
   ]
  },
  {
   "cell_type": "code",
   "execution_count": null,
   "id": "4cfe6efa-3965-44f1-8487-384c4d42ab3d",
   "metadata": {},
   "outputs": [],
   "source": [
    "app_doc = StandardTexDoc(PROJECT_PATH / 'supplement', 'supplement', \"Australia's 2023 Omicron Waves Supplement\", 'austcovid')"
   ]
  },
  {
   "cell_type": "code",
   "execution_count": null,
   "id": "b7f27415-143f-4b70-805e-68ef0724425d",
   "metadata": {},
   "outputs": [],
   "source": [
    "targets_average_window = 7\n",
    "case_targets = load_calibration_targets(datetime(2021, 12, 15), targets_average_window, app_doc)\n",
    "death_targets = load_who_data(targets_average_window, app_doc)\n",
    "serosurvey_targets = load_serosurvey_data(14.0, app_doc)"
   ]
  },
  {
   "cell_type": "code",
   "execution_count": null,
   "id": "a21e186d-e686-4142-bd8a-a468c4d537d3",
   "metadata": {},
   "outputs": [],
   "source": [
    "parameters = {\n",
    "    'ba1_seed_time': 620.0,\n",
    "    'start_cdr': 0.3,\n",
    "    'contact_rate': 0.07,\n",
    "    'vacc_prop': 0.4,\n",
    "    'infectious_period': 2.5,\n",
    "    'natural_immunity_period': 60.0,\n",
    "    'ba2_seed_time': 660.0,\n",
    "    'ba2_escape': 0.4,\n",
    "    'ba5_seed_time': 715.0,\n",
    "    'ba5_escape': 0.54,\n",
    "    'latent_period': 1.8,\n",
    "    'seed_rate': 1.0,\n",
    "    'seed_duration': 10.0,\n",
    "    'notifs_shape': 2.0,\n",
    "    'notifs_mean': 4.0,\n",
    "    'vacc_infect_protect': 0.4,\n",
    "    'rural_susc_adj': 1.0,\n",
    "    'wa_reopen_period': 30.0,\n",
    "    'deaths_shape': 2.0,\n",
    "    'deaths_mean': 20.0,\n",
    "    'ifr_0': 0.0,\n",
    "    'ifr_5': 0.0,\n",
    "    'ifr_10': 0.0,\n",
    "    'ifr_15': 2.6e-5,\n",
    "    'ifr_20': 2.6e-5,\n",
    "    'ifr_25': 2.6e-5,\n",
    "    'ifr_30': 2.6e-5,\n",
    "    'ifr_35': 5.8e-5,\n",
    "    'ifr_40': 5.8e-5,\n",
    "    'ifr_45': 5.8e-5,\n",
    "    'ifr_50': 14.6e-5,\n",
    "    'ifr_55': 14.6e-5,\n",
    "    'ifr_60': 24.6e-5,\n",
    "    'ifr_65': 24.6e-5,\n",
    "    'ifr_70': 246e-5,\n",
    "    'ifr_75': 246e-5,\n",
    "}\n",
    "param_info = load_param_info(PROJECT_PATH / 'inputs' / 'parameters.yml', parameters)"
   ]
  },
  {
   "cell_type": "code",
   "execution_count": null,
   "id": "c4ee5821-390b-446a-8f37-ac5d23a62fb4",
   "metadata": {},
   "outputs": [],
   "source": [
    "aust_model = build_model(reference_date, analysis_start_date, analysis_end_date, app_doc)\n",
    "app_doc.write_doc()"
   ]
  },
  {
   "cell_type": "code",
   "execution_count": null,
   "id": "d4274b0f-5079-44c4-b4e8-e90fbf597939",
   "metadata": {},
   "outputs": [],
   "source": [
    "# Set up for calibration or optimisation\n",
    "priors = [\n",
    "    esp.UniformPrior('ba1_seed_time', (570.0, 670.0)), \n",
    "    esp.UniformPrior('contact_rate', (0.03, 0.1)),\n",
    "    esp.UniformPrior('infectious_period', (2.5, 7.0)),\n",
    "    esp.UniformPrior('start_cdr', (0.25, 0.5)),\n",
    "    esp.UniformPrior('latent_period', (1.5, 4.0)),\n",
    "]\n",
    "targets = [\n",
    "    est.TruncatedNormalTarget('notifications', case_targets, [0.0, np.inf], case_targets.max() * 0.1),\n",
    "    est.TruncatedNormalTarget('deaths', death_targets, [0.0, np.inf], death_targets.max() * 0.1),\n",
    "    est.BinomialTarget('adult_seropos_prop', serosurvey_targets, pd.Series([20] * 4, index=serosurvey_targets.index)),\n",
    "]\n",
    "calibration_model = BayesianCompartmentalModel(aust_model, parameters, priors, targets)"
   ]
  },
  {
   "cell_type": "code",
   "execution_count": null,
   "id": "fb1ec7d5-3cde-4a75-88ca-7970f4793829",
   "metadata": {},
   "outputs": [],
   "source": [
    "with pm.Model() as pmc_model:\n",
    "    start_params = {k: np.clip(v, *calibration_model.priors[k].bounds(0.99)) for k, v in parameters.items() if k in calibration_model.priors}\n",
    "    variables = epm.use_model(calibration_model)\n",
    "    map_params = pm.find_MAP(start=start_params, vars=variables, include_transformed=False)\n",
    "    map_params = {k: float(v) for k, v in map_params.items()}\n",
    "print('Best calibration parameters found:')\n",
    "for i_param, param in enumerate(map_params):\n",
    "    print(f'   {param}: {round_sigfig(map_params[param], 4)} (within bound {priors[i_param].bounds()}')"
   ]
  },
  {
   "cell_type": "code",
   "execution_count": null,
   "id": "51011545-91d7-4fb2-8d93-a06b12ea3af7",
   "metadata": {},
   "outputs": [],
   "source": [
    "# Run with optimised parameters\n",
    "parameters.update(map_params)\n",
    "aust_model.run(parameters=parameters)"
   ]
  },
  {
   "cell_type": "code",
   "execution_count": null,
   "id": "fdac6914-00eb-4ec6-bb67-b975d8e4f3c7",
   "metadata": {},
   "outputs": [],
   "source": [
    "fig = make_subplots(rows=3, cols=2)\n",
    "derived_outputs = aust_model.get_derived_outputs_df()\n",
    "x_vals = derived_outputs.index\n",
    "fig.add_trace(go.Scatter(x=x_vals, y=derived_outputs['notifications'], name='modelled cases'), row=1, col=1)\n",
    "fig.add_trace(go.Scatter(x=case_targets.index, y=case_targets, name='reported cases'), row=1, col=1)\n",
    "fig.add_trace(go.Scatter(x=x_vals, y=derived_outputs['deaths'], name='deaths'), row=1, col=2)\n",
    "fig.add_trace(go.Scatter(x=death_targets.index, y=death_targets, name='reported deaths'), row=1, col=2)\n",
    "fig.add_trace(go.Scatter(x=x_vals, y=derived_outputs['adult_seropos_prop'], name='adult seropos'), row=2, col=1)\n",
    "fig.add_trace(go.Scatter(x=serosurvey_targets.index, y=serosurvey_targets, name='seropos estimates'), row=2, col=1)\n",
    "fig.add_trace(go.Scatter(x=x_vals, y=derived_outputs['reproduction_number'], name='reproduction number'), row=2, col=2)\n",
    "for agegroup in aust_model.stratifications['agegroup'].strata:\n",
    "    fig.add_trace(go.Scatter(x=x_vals, y=derived_outputs[f'deathsXagegroup_{agegroup}'], name=f'{agegroup} deaths'), row=3, col=1)\n",
    "fig.update_xaxes(range=(plot_start_date, analysis_end_date))\n",
    "fig.update_layout(height=600, width=1200)\n",
    "fig.show()"
   ]
  }
 ],
 "metadata": {
  "kernelspec": {
   "display_name": "Python 3 (ipykernel)",
   "language": "python",
   "name": "python3"
  },
  "language_info": {
   "codemirror_mode": {
    "name": "ipython",
    "version": 3
   },
   "file_extension": ".py",
   "mimetype": "text/x-python",
   "name": "python",
   "nbconvert_exporter": "python",
   "pygments_lexer": "ipython3",
   "version": "3.10.11"
  }
 },
 "nbformat": 4,
 "nbformat_minor": 5
}
