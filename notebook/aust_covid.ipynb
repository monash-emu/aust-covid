{
 "cells": [
  {
   "cell_type": "code",
   "execution_count": null,
   "id": "639b229a-ae5c-4299-a28c-f727cd75a517",
   "metadata": {},
   "outputs": [],
   "source": [
    "from pathlib import Path\n",
    "from datetime import datetime\n",
    "import pandas as pd\n",
    "pd.options.plotting.backend = 'plotly'\n",
    "\n",
    "from aust_covid.inputs import load_calibration_targets, load_who_data, load_serosurvey_data, load_pop_data, load_uk_pop_data\n",
    "from aust_covid.model import MATRIX_LOCATIONS, build_model\n",
    "from general_utils.tex_utils import StandardTexDoc\n",
    "from general_utils.parameter_utils import load_param_info\n",
    "\n",
    "PROJECT_PATH = Path().resolve().parent\n",
    "DATA_PATH = PROJECT_PATH / 'data'"
   ]
  },
  {
   "cell_type": "code",
   "execution_count": null,
   "id": "c196fdbb-4f02-414c-8941-855b60689d53",
   "metadata": {},
   "outputs": [],
   "source": [
    "analysis_start_date = datetime(2021, 7, 1)\n",
    "analysis_end_date = datetime(2022, 10, 1)\n",
    "plot_start_date = datetime(2021, 12, 1)\n",
    "reference_date = datetime(2019, 12, 31)"
   ]
  },
  {
   "cell_type": "code",
   "execution_count": null,
   "id": "4cfe6efa-3965-44f1-8487-384c4d42ab3d",
   "metadata": {},
   "outputs": [],
   "source": [
    "app_doc = StandardTexDoc(PROJECT_PATH / 'supplement', 'supplement', \"Australia's 2023 Omicron Waves Supplement\", 'austcovid')"
   ]
  },
  {
   "cell_type": "code",
   "execution_count": null,
   "id": "b7f27415-143f-4b70-805e-68ef0724425d",
   "metadata": {},
   "outputs": [],
   "source": [
    "targets_average_window = 7\n",
    "smoothed_composite_cases = load_calibration_targets(datetime(2021, 12, 15), targets_average_window, app_doc)\n",
    "death_data = load_who_data(targets_average_window, app_doc)"
   ]
  },
  {
   "cell_type": "code",
   "execution_count": null,
   "id": "a21e186d-e686-4142-bd8a-a468c4d537d3",
   "metadata": {},
   "outputs": [],
   "source": [
    "parameters = {\n",
    "    'ba1_seed_time': 620.0,\n",
    "    'start_cdr': 0.3,\n",
    "    'contact_rate': 0.07,\n",
    "    'vacc_prop': 0.4,\n",
    "    'infectious_period': 2.5,\n",
    "    'natural_immunity_period': 60.0,\n",
    "    'ba2_seed_time': 660.0,\n",
    "    'ba2_escape': 0.4,\n",
    "    'ba5_seed_time': 715.0,\n",
    "    'ba5_escape': 0.54,\n",
    "    'latent_period': 1.8,\n",
    "    'seed_rate': 1.0,\n",
    "    'seed_duration': 10.0,\n",
    "    'notifs_shape': 2.0,\n",
    "    'notifs_mean': 4.0,\n",
    "    'vacc_infect_protect': 0.4,\n",
    "    'rural_susc_adj': 1.0,\n",
    "    'wa_reopen_period': 30.0,\n",
    "    'deaths_shape': 2.0,\n",
    "    'deaths_mean': 20.0,\n",
    "    'ifr_0': 0.0,\n",
    "    'ifr_5': 0.0,\n",
    "    'ifr_10': 0.0,\n",
    "    'ifr_15': 2.6e-5,\n",
    "    'ifr_20': 2.6e-5,\n",
    "    'ifr_25': 2.6e-5,\n",
    "    'ifr_30': 2.6e-5,\n",
    "    'ifr_35': 5.8e-5,\n",
    "    'ifr_40': 5.8e-5,\n",
    "    'ifr_45': 5.8e-5,\n",
    "    'ifr_50': 14.6e-5,\n",
    "    'ifr_55': 14.6e-5,\n",
    "    'ifr_60': 24.6e-5,\n",
    "    'ifr_65': 24.6e-5,\n",
    "    'ifr_70': 246e-5,\n",
    "    'ifr_75': 246e-5,\n",
    "}\n",
    "param_info = load_param_info(PROJECT_PATH / 'inputs' / 'parameters.yml', parameters)"
   ]
  },
  {
   "cell_type": "code",
   "execution_count": null,
   "id": "c4ee5821-390b-446a-8f37-ac5d23a62fb4",
   "metadata": {},
   "outputs": [],
   "source": [
    "aust_model = build_model(reference_date, analysis_start_date, analysis_end_date, app_doc)\n",
    "app_doc.write_doc()"
   ]
  }
 ],
 "metadata": {
  "kernelspec": {
   "display_name": "Python 3 (ipykernel)",
   "language": "python",
   "name": "python3"
  },
  "language_info": {
   "codemirror_mode": {
    "name": "ipython",
    "version": 3
   },
   "file_extension": ".py",
   "mimetype": "text/x-python",
   "name": "python",
   "nbconvert_exporter": "python",
   "pygments_lexer": "ipython3",
   "version": "3.10.0"
  }
 },
 "nbformat": 4,
 "nbformat_minor": 5
}
