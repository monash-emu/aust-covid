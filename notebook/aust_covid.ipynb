{
 "cells": [
  {
   "cell_type": "code",
   "execution_count": null,
   "id": "27dbd796",
   "metadata": {},
   "outputs": [],
   "source": [
    "from pathlib import Path"
   ]
  },
  {
   "cell_type": "code",
   "execution_count": null,
   "id": "56a8ea2c-c90f-4c5c-a2d3-4daee3a6bcab",
   "metadata": {},
   "outputs": [],
   "source": [
    "# Installation in case running over Colab\n",
    "try:\n",
    "    import google.colab\n",
    "    %pip install estival\n",
    "    %pip install pylatex==1.4.1\n",
    "    %pip install kaleido\n",
    "    ! git clone https://github.com/monash-emu/aust-covid\n",
    "    %cd aust-covid\n",
    "    %pip install -e ./\n",
    "    PROJECT_PATH = Path().resolve()\n",
    "    import multiprocessing as mp\n",
    "    mp.set_start_method(\"forkserver\")\n",
    "except:\n",
    "    PROJECT_PATH = Path().resolve().parent\n",
    "\n",
    "DATA_PATH = PROJECT_PATH / \"data\"\n",
    "OUTPUT_PATH = PROJECT_PATH / \"outputs\"\n",
    "SUPPLEMENT_PATH = PROJECT_PATH / \"supplement\"\n",
    "Path(OUTPUT_PATH).mkdir(parents=True, exist_ok=True)"
   ]
  },
  {
   "cell_type": "code",
   "execution_count": null,
   "id": "68bc1a4b-007d-40d2-90d5-f56b194751c9",
   "metadata": {},
   "outputs": [],
   "source": [
    "import pandas as pd\n",
    "pd.options.plotting.backend = \"plotly\"\n",
    "from datetime import datetime\n",
    "import pylatex as pl\n",
    "from aust_covid.doc_utils import TextElement, TableElement, add_element_to_document\n",
    "from pylatex.utils import NoEscape\n",
    "import pymc as pm\n",
    "import arviz as az\n",
    "import yaml\n",
    "import nevergrad as ng\n",
    "\n",
    "from estival.model import BayesianCompartmentalModel\n",
    "from estival.optimization.nevergrad import optimize_model\n",
    "from estival.priors import UniformPrior\n",
    "from estival.targets import NegativeBinomialTarget, CustomTarget\n",
    "from estival.calibration import pymc as epm\n",
    "\n",
    "from aust_covid import model\n",
    "from aust_covid import calibration_outputs\n",
    "from aust_covid.inputs import load_param_info\n",
    "from aust_covid.doc_utils import save_pyplot_add_to_doc, save_plotly_add_to_doc, compile_doc"
   ]
  },
  {
   "cell_type": "code",
   "execution_count": null,
   "id": "4a0ad64e-0735-4e25-a4e4-1cbdab2a0c4d",
   "metadata": {},
   "outputs": [],
   "source": [
    "# What do you want to do in this notebook?\n",
    "optimise_model = False\n",
    "new_calibration = False  # Set to false to save time if you have saved runs locally"
   ]
  },
  {
   "cell_type": "code",
   "execution_count": null,
   "id": "640f11ba-1097-4e97-8d9b-c74329e21b9f",
   "metadata": {},
   "outputs": [],
   "source": [
    "# Data inputs\n",
    "aust_data = pd.read_csv(DATA_PATH / \"Aus_covid_data.csv\", index_col=\"date\")\n",
    "aust_data.index = pd.to_datetime(aust_data.index)\n",
    "\n",
    "# Extract national\n",
    "national_data = aust_data[aust_data[\"region\"] == \"AUS\"]\n",
    "smoothed_national_cases = national_data[\"cases\"].rolling(window=7).mean().dropna()\n",
    "\n",
    "# Extract non-WA\n",
    "non_wa_data = aust_data.loc[(aust_data[\"region\"] != \"AUS\") & (aust_data[\"region\"] != \"WA\")]\n",
    "non_wa_data = non_wa_data.groupby(non_wa_data.index).sum()\n",
    "smoothed_non_wa_cases = non_wa_data[\"cases\"].rolling(window=7).mean().dropna()"
   ]
  },
  {
   "cell_type": "code",
   "execution_count": null,
   "id": "46382c88-c458-4ad2-989a-7e51be48af40",
   "metadata": {},
   "outputs": [],
   "source": [
    "# Times\n",
    "start_date = datetime(2021, 9, 1)  # Analysis start time\n",
    "end_date = datetime(2022, 10, 1)  # Analysis end time\n",
    "plot_start_date = datetime(2021, 12, 1)  # Left end for plots\n",
    "ref_date = datetime(2019, 12, 31)  # Arbitrary reference date"
   ]
  },
  {
   "cell_type": "code",
   "execution_count": null,
   "id": "feed367b-5480-4f22-ae7d-ef0fdd7141a8",
   "metadata": {},
   "outputs": [],
   "source": [
    "# Parameters\n",
    "parameters = {\n",
    "    \"contact_rate\": 0.048,\n",
    "    \"infectious_period\": 5.0,\n",
    "    \"latent_period\": 2.0,\n",
    "    \"cdr\": 0.1,\n",
    "    \"seed_rate\": 1.0,\n",
    "    \"seed_duration\": 1.0,\n",
    "    \"ba1_seed_time\": 660.0,\n",
    "    \"ba2_seed_time\": 688.0,\n",
    "    \"ba5_seed_time\": 720.0,\n",
    "    \"ba2_escape\": 0.45,\n",
    "    \"ba5_escape\": 0.38,\n",
    "    \"notifs_shape\": 2.0,\n",
    "    \"notifs_mean\": 4.0,\n",
    "    \"deaths_shape\": 2.0,\n",
    "    \"deaths_mean\": 20.0,\n",
    "    \"natural_immunity_period\": 50.0,\n",
    "    \"ifr_0\": 0.0,\n",
    "    \"ifr_5\": 0.0,\n",
    "    \"ifr_10\": 0.0,\n",
    "    \"ifr_15\": 0.0,\n",
    "    \"ifr_20\": 0.0,\n",
    "    \"ifr_25\": 0.0,\n",
    "    \"ifr_30\": 0.0,\n",
    "    \"ifr_35\": 0.0,\n",
    "    \"ifr_40\": 0.0,\n",
    "    \"ifr_45\": 0.0,\n",
    "    \"ifr_50\": 0.0,\n",
    "    \"ifr_55\": 0.0,\n",
    "    \"ifr_60\": 0.0,\n",
    "    \"ifr_65\": 0.0,\n",
    "    \"ifr_70\": 0.01,\n",
    "}\n",
    "param_info = load_param_info(PROJECT_PATH / \"inputs/parameters.yml\", parameters)\n",
    "param_info"
   ]
  },
  {
   "cell_type": "code",
   "execution_count": null,
   "id": "ca437b70-5e44-41d1-ac01-f22318f758c7",
   "metadata": {},
   "outputs": [],
   "source": [
    "doc_sections = {}"
   ]
  },
  {
   "cell_type": "code",
   "execution_count": null,
   "id": "f707a9f0-d1f9-4718-b5bd-3c3a0a100b97",
   "metadata": {},
   "outputs": [],
   "source": [
    "compartments = [\n",
    "    \"susceptible\",\n",
    "    \"latent\",\n",
    "    \"infectious\",\n",
    "    \"recovered\",\n",
    "    \"waned\",\n",
    "]\n",
    "aust_model, build_text = model.build_base_model(ref_date, compartments, start_date, end_date)\n",
    "add_element_to_document(\"Model construction\", TextElement(build_text), doc_sections)\n",
    "build_text"
   ]
  },
  {
   "cell_type": "code",
   "execution_count": null,
   "id": "d3481d86-ece7-4aff-bd5c-dc37dda1b136",
   "metadata": {},
   "outputs": [],
   "source": [
    "pop_data, pop_text = model.get_pop_data()\n",
    "pop_text  # Can't add to supplement yet"
   ]
  },
  {
   "cell_type": "code",
   "execution_count": null,
   "id": "998e7753-cdcf-4e84-8a95-e1f341c46978",
   "metadata": {},
   "outputs": [],
   "source": [
    "start_text = model.set_starting_conditions(aust_model, pop_data)\n",
    "add_element_to_document(\"Model construction\", TextElement(start_text), doc_sections)\n",
    "start_text"
   ]
  },
  {
   "cell_type": "code",
   "execution_count": null,
   "id": "3c732c12-3b98-41ed-b211-c51a74078508",
   "metadata": {},
   "outputs": [],
   "source": [
    "infect_text = model.add_infection(aust_model)\n",
    "add_element_to_document(\"Model construction\", TextElement(infect_text), doc_sections)\n",
    "infect_text"
   ]
  },
  {
   "cell_type": "code",
   "execution_count": null,
   "id": "5d0ae421-4998-4141-8534-bbe5d14f241e",
   "metadata": {},
   "outputs": [],
   "source": [
    "prog_text = model.add_progression(aust_model)\n",
    "add_element_to_document(\"Model construction\", TextElement(prog_text), doc_sections)\n",
    "prog_text"
   ]
  },
  {
   "cell_type": "code",
   "execution_count": null,
   "id": "662b2ea5-1bee-4179-91a8-840fe96c6054",
   "metadata": {},
   "outputs": [],
   "source": [
    "rec_text = model.add_recovery(aust_model)\n",
    "add_element_to_document(\"Model construction\", TextElement(rec_text), doc_sections)\n",
    "rec_text"
   ]
  },
  {
   "cell_type": "code",
   "execution_count": null,
   "id": "e94fe381-ec99-471f-a763-43e600855ccc",
   "metadata": {},
   "outputs": [],
   "source": [
    "wane_text = model.add_waning(aust_model)\n",
    "add_element_to_document(\"Model construction\", TextElement(wane_text), doc_sections)\n",
    "wane_text"
   ]
  },
  {
   "cell_type": "code",
   "execution_count": null,
   "id": "473eee93-277e-4fc8-9335-ed3a0f38141a",
   "metadata": {},
   "outputs": [],
   "source": [
    "age_strata = list(range(0, 75, 5))\n",
    "raw_matrix, age_text = model.build_polymod_britain_matrix(age_strata)\n",
    "add_element_to_document(\"Model construction\", TextElement(age_text), doc_sections)\n",
    "age_text"
   ]
  },
  {
   "cell_type": "code",
   "execution_count": null,
   "id": "21624894-e3cf-4ad4-8552-48e6a868c778",
   "metadata": {},
   "outputs": [],
   "source": [
    "adjusted_matrix, pop_splits, mat_adj_text = model.adapt_gb_matrix_to_aust(age_strata, raw_matrix, pop_data)\n",
    "add_element_to_document(\"Model construction\", TextElement(mat_adj_text), doc_sections)\n",
    "mat_adj_text"
   ]
  },
  {
   "cell_type": "code",
   "execution_count": null,
   "id": "9cb3836d-11dc-40cc-b3fa-9bdf7d5b8461",
   "metadata": {},
   "outputs": [],
   "source": [
    "age_strat, agestrat_text = model.add_age_stratification(compartments, age_strata, pop_splits, adjusted_matrix)\n",
    "aust_model.stratify_with(age_strat)\n",
    "add_element_to_document(\"Model stratification\", TextElement(agestrat_text), doc_sections)\n",
    "agestrat_text"
   ]
  },
  {
   "cell_type": "code",
   "execution_count": null,
   "id": "4b7efa28-aa0f-415a-bc9d-e2ec1760b26d",
   "metadata": {},
   "outputs": [],
   "source": [
    "strain_strata = {\n",
    "    \"ba1\": \"BA.1\",\n",
    "    \"ba2\": \"BA.2\",\n",
    "    \"ba5\": \"BA.5\",\n",
    "}\n",
    "strain_strat, strainstrat_text = model.get_strain_stratification(compartments, strain_strata)\n",
    "aust_model.stratify_with(strain_strat)\n",
    "add_element_to_document(\"Model stratification\", TextElement(strainstrat_text), doc_sections)\n",
    "strainstrat_text"
   ]
  },
  {
   "cell_type": "code",
   "execution_count": null,
   "id": "6e64cbd2-b801-48ce-ba79-92f1a496472a",
   "metadata": {},
   "outputs": [],
   "source": [
    "seed_text = model.seed_vocs(aust_model)\n",
    "add_element_to_document(\"Model stratification\", TextElement(seed_text), doc_sections)\n",
    "seed_text"
   ]
  },
  {
   "cell_type": "code",
   "execution_count": null,
   "id": "3c45aade-f9b8-4e68-8719-007a58ae9343",
   "metadata": {},
   "outputs": [],
   "source": [
    "reinfect_text = model.add_reinfection(aust_model, strain_strata)\n",
    "add_element_to_document(\"Model stratification\", TextElement(reinfect_text), doc_sections)\n",
    "reinfect_text"
   ]
  },
  {
   "cell_type": "code",
   "execution_count": null,
   "id": "e2266724-0d41-4f11-961e-4011ad7a8c1c",
   "metadata": {},
   "outputs": [],
   "source": [
    "infection_processes = [\n",
    "    \"infection\", \n",
    "    \"early_reinfection\",\n",
    "    \"late_reinfection\",\n",
    "]\n",
    "inc_text = model.add_incidence_output(aust_model, infection_processes)\n",
    "add_element_to_document(\"Outputs\", TextElement(inc_text), doc_sections)\n",
    "inc_text"
   ]
  },
  {
   "cell_type": "code",
   "execution_count": null,
   "id": "bda4e153-0f6e-4b89-b210-367e48048fd3",
   "metadata": {},
   "outputs": [],
   "source": [
    "notif_text = model.add_notifications_output(aust_model)\n",
    "add_element_to_document(\"Outputs\", TextElement(notif_text), doc_sections)\n",
    "notif_text"
   ]
  },
  {
   "cell_type": "code",
   "execution_count": null,
   "id": "5690b433-f998-4a63-ab99-8e955d0e947f",
   "metadata": {},
   "outputs": [],
   "source": [
    "model.track_age_specific_incidence(aust_model, infection_processes)\n",
    "death_text = model.add_death_output(aust_model)\n",
    "add_element_to_document(\"Outputs\", TextElement(death_text), doc_sections)\n",
    "death_text"
   ]
  },
  {
   "cell_type": "code",
   "execution_count": null,
   "id": "1579d9ac-43b3-4c3f-9f2a-f78041ded0fc",
   "metadata": {},
   "outputs": [],
   "source": [
    "# Calibration/optimisation settings\n",
    "priors = [\n",
    "    UniformPrior(\"contact_rate\", (0.03, 0.06)),\n",
    "    UniformPrior(\"infectious_period\", (3.0, 7.0)),\n",
    "    UniformPrior(\"ba2_escape\", (0.3, 0.7)),\n",
    "    UniformPrior(\"ba5_escape\", (0.3, 0.7)),\n",
    "    UniformPrior(\"ba1_seed_time\", (645.0, 665.0)),\n",
    "    UniformPrior(\"ba2_seed_time\", (675.0, 700.0)),\n",
    "    UniformPrior(\"ba5_seed_time\", (705.0, 730.0)),\n",
    "    UniformPrior(\"cdr\", (0.05, 0.5)),\n",
    "]\n",
    "smoothed_non_wa_cases_intindex = smoothed_non_wa_cases.copy()\n",
    "smoothed_non_wa_cases_intindex.index=(smoothed_non_wa_cases.index - aust_model.ref_date).days\n",
    "def least_squares(modelled, obs, parameters, time_weights):\n",
    "    return 0.0 - (((modelled - obs) ** 2.0)).sum()\n",
    "targets = [\n",
    "    CustomTarget(\"notifications\", smoothed_non_wa_cases_intindex, least_squares),\n",
    "]\n",
    "binom_targets = [\n",
    "    NegativeBinomialTarget(\"notifications\", smoothed_non_wa_cases_intindex, 500.0),\n",
    "]\n",
    "calibration_model = BayesianCompartmentalModel(aust_model, parameters, priors, binom_targets)"
   ]
  },
  {
   "cell_type": "code",
   "execution_count": null,
   "id": "56321d96-808d-4d6a-80aa-a2d2b16f4c99",
   "metadata": {},
   "outputs": [],
   "source": [
    "if optimise_model:\n",
    "    print(\"Optimising with nevergrad \\n Progression of loss function values:\")\n",
    "    optim_runner = optimize_model(calibration_model)\n",
    "    for i in range(10):\n",
    "        rec = optim_runner.minimize(100)\n",
    "        print(rec.loss)\n",
    "    optim_params = rec.value[1]\n",
    "    parameters.update(optim_params)\n",
    "    aust_model.run(parameters=parameters)\n",
    "    print(\"Best calibration parameters found:\")\n",
    "    optim_params"
   ]
  },
  {
   "cell_type": "code",
   "execution_count": null,
   "id": "75b81cfb-7f3d-4b0d-9fa3-300518f94e04",
   "metadata": {},
   "outputs": [],
   "source": [
    "aust_model.run(parameters=parameters)\n",
    "axis_labels = {\"index\": \"time\", \"value\": \"cases\"}\n",
    "comparison_df = pd.concat((smoothed_non_wa_cases, aust_model.get_derived_outputs_df()[\"notifications\"]), axis=1)\n",
    "comparison_df.plot(labels=axis_labels, title=\"Optimised parameter outputs\")"
   ]
  },
  {
   "cell_type": "code",
   "execution_count": null,
   "id": "96597b79-e056-48c1-a2ad-d0881beb36cb",
   "metadata": {},
   "outputs": [],
   "source": [
    "# Main calibration loop\n",
    "iterations = 500\n",
    "burn_in = 100\n",
    "n_chains = 10\n",
    "if new_calibration:\n",
    "    with pm.Model() as model:\n",
    "        variables = epm.use_model(calibration_model)\n",
    "        idata = pm.sample(step=[pm.DEMetropolis(variables)], draws=iterations, tune=0, cores=8, chains=n_chains)\n",
    "    burnt_idata = idata.sel(draw=range(burn_in, iterations))  # Discard burn-in\n",
    "    idata.to_netcdf(OUTPUT_PATH / \"calibration_out.nc\")\n",
    "else:\n",
    "    idata = az.from_netcdf(OUTPUT_PATH / \"calibration_out.nc\")  "
   ]
  },
  {
   "cell_type": "code",
   "execution_count": null,
   "id": "dbb2e1ac-0137-4a27-beea-3abedec79289",
   "metadata": {},
   "outputs": [],
   "source": [
    "# Check parameter starting points by chain\n",
    "idata.posterior.isel(draw=0).to_dataframe()"
   ]
  },
  {
   "cell_type": "code",
   "execution_count": null,
   "id": "c023d2a5-6c79-4b1c-8717-8147e948dcc5",
   "metadata": {},
   "outputs": [],
   "source": [
    "# Report acceptance ratios by chain\n",
    "(idata.sample_stats.accepted.sum(axis=1) / idata.sample_stats.coords[\"draw\"].size).to_dataframe()"
   ]
  },
  {
   "cell_type": "code",
   "execution_count": null,
   "id": "c1ca766a-6cf5-44e4-90f5-333cfb0697f4",
   "metadata": {},
   "outputs": [],
   "source": [
    "priors_table = calibration_outputs.tabulate_priors(priors, param_descriptions.info)\n",
    "add_element_to_document(\"Calibration\", TableElement(priors_table), doc_sections)\n",
    "priors_table"
   ]
  },
  {
   "cell_type": "code",
   "execution_count": null,
   "id": "373a1512-7ccb-49f9-8b5a-ba933eae114f",
   "metadata": {},
   "outputs": [],
   "source": [
    "calib_table = calibration_outputs.tabulate_param_results(idata, priors, param_descriptions.info)\n",
    "add_element_to_document(\"Calibration\", TableElement(calib_table), doc_sections)\n",
    "calib_table"
   ]
  },
  {
   "cell_type": "code",
   "execution_count": null,
   "id": "96111168-276e-4d1a-aa65-1352fc88aef5",
   "metadata": {},
   "outputs": [],
   "source": [
    "param_table = calibration_outputs.tabulate_parameters(parameters, param_units.info, priors, param_descriptions.info, param_evidence.info)\n",
    "add_element_to_document(\"Parameters\", TableElement(param_table, col_requests=[0.25, 0.25, 0.5]), doc_sections)"
   ]
  },
  {
   "cell_type": "code",
   "execution_count": null,
   "id": "05694c74-98c9-4224-a293-e941e19bbe1b",
   "metadata": {},
   "outputs": [],
   "source": [
    "chains_plot = calibration_outputs.plot_param_progression(idata, param_info)\n",
    "save_pyplot_add_to_doc(chains_plot, \"chains\", \"Calibration\", doc_sections, caption=\"Parameter progression and posterior by chain.\")"
   ]
  },
  {
   "cell_type": "code",
   "execution_count": null,
   "id": "f4bc7638-ceb8-45b5-9f4e-dfb5e2f1157a",
   "metadata": {},
   "outputs": [],
   "source": [
    "posterior_plot = calibration_outputs.plot_param_posterior(idata, param_info, grid_request=(4, 2))\n",
    "save_pyplot_add_to_doc(posterior_plot, \"posterior\", \"Calibration\", doc_sections, caption=\"Final estimated parameter posteriors.\")"
   ]
  },
  {
   "cell_type": "code",
   "execution_count": null,
   "id": "f626ae66-4244-42eb-b233-a612b8e41d29",
   "metadata": {},
   "outputs": [],
   "source": [
    "sample_plot = calibration_outputs.plot_sampled_outputs(idata, 5, \"notifications\", calibration_model, smoothed_non_wa_cases, plot_start_date, end_date)\n",
    "save_plotly_add_to_doc(sample_plot, \"calibration_fit\", \"Calibration\", doc_sections, caption=\"Sampled model run fits to calibration targets\")\n",
    "sample_plot"
   ]
  },
  {
   "cell_type": "code",
   "execution_count": null,
   "id": "fbb8c72c-f804-42aa-8dd4-b0e5e9325119",
   "metadata": {},
   "outputs": [],
   "source": [
    "# Complete the documentation process\n",
    "Path(SUPPLEMENT_PATH).mkdir(parents=True, exist_ok=True)\n",
    "supplement = pl.Document()\n",
    "supplement.preamble.append(pl.Package(\"biblatex\", options=[\"sorting=none\"]))\n",
    "supplement.preamble.append(pl.Command(\"addbibresource\", arguments=[\"austcovid.bib\"]))\n",
    "supplement.preamble.append(pl.Command(\"title\", \"Supplemental Appendix\"))\n",
    "supplement.append(NoEscape(r\"\\maketitle\"))\n",
    "compile_doc(doc_sections, supplement)\n",
    "supplement.append(pl.NewPage())\n",
    "supplement.append(pl.Command(\"printbibliography\"))\n",
    "supplement.generate_tex(str(PROJECT_PATH / \"supplement/supplement\"))"
   ]
  }
 ],
 "metadata": {
  "kernelspec": {
   "display_name": "Python 3 (ipykernel)",
   "language": "python",
   "name": "python3"
  },
  "language_info": {
   "codemirror_mode": {
    "name": "ipython",
    "version": 3
   },
   "file_extension": ".py",
   "mimetype": "text/x-python",
   "name": "python",
   "nbconvert_exporter": "python",
   "pygments_lexer": "ipython3",
   "version": "3.10.11"
  }
 },
 "nbformat": 4,
 "nbformat_minor": 5
}
