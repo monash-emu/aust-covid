{
 "cells": [
  {
   "cell_type": "code",
   "execution_count": null,
   "id": "27dbd796",
   "metadata": {},
   "outputs": [],
   "source": [
    "from pathlib import Path"
   ]
  },
  {
   "cell_type": "code",
   "execution_count": null,
   "id": "56a8ea2c-c90f-4c5c-a2d3-4daee3a6bcab",
   "metadata": {},
   "outputs": [],
   "source": [
    "# Installation in case running over Colab\n",
    "try:\n",
    "    import google.colab\n",
    "    on_colab = True\n",
    "    %pip install estival\n",
    "    %pip install pylatex==1.4.1\n",
    "    %pip install kaleido\n",
    "    ! git clone https://github.com/monash-emu/aust-covid\n",
    "    %cd aust-covid\n",
    "    %pip install -e ./\n",
    "    PROJECT_PATH = Path().resolve()\n",
    "    import multiprocessing as mp\n",
    "    mp.set_start_method(\"forkserver\")\n",
    "except:\n",
    "    PROJECT_PATH = Path().resolve().parent\n",
    "    on_colab = False\n",
    "optimise_model = True\n",
    "new_calibration = False\n",
    "\n",
    "DATA_PATH = PROJECT_PATH / \"data\"\n",
    "OUTPUT_PATH = PROJECT_PATH / \"outputs\"\n",
    "SUPPLEMENT_PATH = PROJECT_PATH / \"supplement\"\n",
    "Path(OUTPUT_PATH).mkdir(parents=True, exist_ok=True)"
   ]
  },
  {
   "cell_type": "code",
   "execution_count": null,
   "id": "68bc1a4b-007d-40d2-90d5-f56b194751c9",
   "metadata": {},
   "outputs": [],
   "source": [
    "import pandas as pd\n",
    "pd.options.plotting.backend = \"plotly\"\n",
    "from datetime import datetime\n",
    "import pymc as pm\n",
    "import arviz as az\n",
    "\n",
    "from summer2.functions.time import get_linear_interpolation_function, Function\n",
    "from summer2.parameters import Parameter\n",
    "from estival.model import BayesianCompartmentalModel\n",
    "from estival.optimization.nevergrad import optimize_model\n",
    "from estival.priors import UniformPrior\n",
    "from estival.targets import NegativeBinomialTarget, CustomTarget\n",
    "from estival.calibration import pymc as epm\n",
    "\n",
    "from aust_covid import model\n",
    "from general_utils import calibration_utils\n",
    "from aust_covid.inputs import load_calibration_targets\n",
    "from general_utils.parameter_utils import load_param_info\n",
    "from general_utils.doc_utils import TextElement, TableElement, FigElement, add_element_to_document, \\\n",
    "    save_pyplot_add_to_doc, save_plotly_add_to_doc, compile_doc, generate_doc"
   ]
  },
  {
   "cell_type": "code",
   "execution_count": null,
   "id": "b2eb4f7d-2f85-40ac-a84e-43d99a9088f2",
   "metadata": {},
   "outputs": [],
   "source": [
    "smoothed_composite_cases, targets_text = load_calibration_targets(datetime(2021, 12, 15))\n",
    "targets_text"
   ]
  },
  {
   "cell_type": "code",
   "execution_count": null,
   "id": "46382c88-c458-4ad2-989a-7e51be48af40",
   "metadata": {},
   "outputs": [],
   "source": [
    "# Times\n",
    "start_date = datetime(2021, 9, 1)  # Analysis start time\n",
    "end_date = datetime(2022, 10, 1)  # Analysis end time\n",
    "plot_start_date = datetime(2021, 12, 1)  # Left end for plots\n",
    "ref_date = datetime(2019, 12, 31)  # Arbitrary reference date"
   ]
  },
  {
   "cell_type": "code",
   "execution_count": null,
   "id": "feed367b-5480-4f22-ae7d-ef0fdd7141a8",
   "metadata": {},
   "outputs": [],
   "source": [
    "# Parameters\n",
    "parameters = {\n",
    "    \"contact_rate\": 0.0458, \n",
    "    \"infectious_period\": 6.898, \n",
    "    \"start_cdr\": 0.0997, \n",
    "    \"ba1_seed_time\": 657.4, \n",
    "    \"natural_immunity_period\": 23.5,\n",
    "    \"ba2_seed_time\": 700.0,\n",
    "    \"ba2_escape\": 0.8,\n",
    "    \"ba5_seed_time\": 765., \n",
    "    \"ba5_escape\": 1.0,\n",
    "    \"latent_period\": 2.0,\n",
    "    \"seed_rate\": 1.0,\n",
    "    \"seed_duration\": 1.0,\n",
    "    \"notifs_shape\": 2.0,\n",
    "    \"notifs_mean\": 4.0,\n",
    "    \"vacc_infect_protect\": 0.2,\n",
    "    \"vacc_prop\": 0.5,\n",
    "}\n",
    "param_info = load_param_info(PROJECT_PATH / \"inputs/parameters.yml\", parameters)\n",
    "# param_info"
   ]
  },
  {
   "cell_type": "code",
   "execution_count": null,
   "id": "f707a9f0-d1f9-4718-b5bd-3c3a0a100b97",
   "metadata": {},
   "outputs": [],
   "source": [
    "doc_sections = {}\n",
    "compartments = [\n",
    "    \"susceptible\",\n",
    "    \"latent\",\n",
    "    \"infectious\",\n",
    "    \"recovered\",\n",
    "    \"waned\",\n",
    "]\n",
    "aust_model, build_text = model.build_base_model(ref_date, compartments, start_date, end_date)\n",
    "# add_element_to_document(\"Model construction\", TextElement(build_text), doc_sections)\n",
    "# build_text"
   ]
  },
  {
   "cell_type": "code",
   "execution_count": null,
   "id": "d3481d86-ece7-4aff-bd5c-dc37dda1b136",
   "metadata": {},
   "outputs": [],
   "source": [
    "pop_data, pop_text = model.get_pop_data()\n",
    "# add_element_to_document(\"Model construction\", TextElement(pop_text), doc_sections, subsection_name=\"Population\")\n",
    "# pop_text"
   ]
  },
  {
   "cell_type": "code",
   "execution_count": null,
   "id": "998e7753-cdcf-4e84-8a95-e1f341c46978",
   "metadata": {},
   "outputs": [],
   "source": [
    "start_text = model.set_starting_conditions(aust_model, pop_data, adjuster=1.0)\n",
    "# add_element_to_document(\"Model construction\", TextElement(start_text), doc_sections, subsection_name=\"Population\")\n",
    "# start_text"
   ]
  },
  {
   "cell_type": "code",
   "execution_count": null,
   "id": "3c732c12-3b98-41ed-b211-c51a74078508",
   "metadata": {},
   "outputs": [],
   "source": [
    "infect_text = model.add_infection(aust_model)\n",
    "# add_element_to_document(\"Model construction\", TextElement(infect_text), doc_sections)\n",
    "# infect_text"
   ]
  },
  {
   "cell_type": "code",
   "execution_count": null,
   "id": "5d0ae421-4998-4141-8534-bbe5d14f241e",
   "metadata": {},
   "outputs": [],
   "source": [
    "prog_text = model.add_progression(aust_model)\n",
    "# add_element_to_document(\"Model construction\", TextElement(prog_text), doc_sections)\n",
    "# prog_text"
   ]
  },
  {
   "cell_type": "code",
   "execution_count": null,
   "id": "662b2ea5-1bee-4179-91a8-840fe96c6054",
   "metadata": {},
   "outputs": [],
   "source": [
    "rec_text = model.add_recovery(aust_model)\n",
    "# add_element_to_document(\"Model construction\", TextElement(rec_text), doc_sections)\n",
    "# rec_text"
   ]
  },
  {
   "cell_type": "code",
   "execution_count": null,
   "id": "e94fe381-ec99-471f-a763-43e600855ccc",
   "metadata": {},
   "outputs": [],
   "source": [
    "wane_text = model.add_waning(aust_model)\n",
    "# add_element_to_document(\"Model construction\", TextElement(wane_text), doc_sections)\n",
    "# wane_text"
   ]
  },
  {
   "cell_type": "code",
   "execution_count": null,
   "id": "473eee93-277e-4fc8-9335-ed3a0f38141a",
   "metadata": {},
   "outputs": [],
   "source": [
    "age_strata = list(range(0, 80, 5))"
   ]
  },
  {
   "cell_type": "code",
   "execution_count": null,
   "id": "4f62f739-b534-4c18-bb8b-b88238ff30f5",
   "metadata": {},
   "outputs": [],
   "source": [
    "# raw_mob_df, raw_mob_fig, raw_mob_filename, raw_mob_text = model.get_raw_mobility(plot_start_date, aust_model)\n",
    "# add_element_to_document(\"Mobility\", TextElement(raw_mob_text), doc_sections)\n",
    "# raw_mob_text"
   ]
  },
  {
   "cell_type": "code",
   "execution_count": null,
   "id": "6f79029d-3078-4422-b926-d0957502b619",
   "metadata": {},
   "outputs": [],
   "source": [
    "# add_element_to_document(\"Mobility\", FigElement(raw_mob_filename), doc_sections)\n",
    "# raw_mob_fig"
   ]
  },
  {
   "cell_type": "code",
   "execution_count": null,
   "id": "79f95c6b-b68a-4721-97c5-1059a913876f",
   "metadata": {},
   "outputs": [],
   "source": [
    "# mean_smoothed_non_resi_mob, modelled_mob_fig, modelled_mob_filename = model.process_mobility(raw_mob_df, plot_start_date, aust_model)\n",
    "# add_element_to_document(\"Mobility\", FigElement(modelled_mob_filename), doc_sections)\n",
    "# modelled_mob_fig"
   ]
  },
  {
   "cell_type": "code",
   "execution_count": null,
   "id": "54c8f2a9-a37f-499f-addc-c43456198d2a",
   "metadata": {},
   "outputs": [],
   "source": [
    "# mobility_adjuster, infection_func, mob_adj_text, mob_effect_fig, mob_effect_filename = model.calculate_mobility_effect(mean_smoothed_non_resi_mob, plot_start_date, aust_model)\n",
    "# add_element_to_document(\"Mobility\", TextElement(mob_adj_text), doc_sections)\n",
    "# mob_adj_text"
   ]
  },
  {
   "cell_type": "code",
   "execution_count": null,
   "id": "190175d4-9c52-43af-8654-833d3e9ac881",
   "metadata": {},
   "outputs": [],
   "source": [
    "infection_func = Function(lambda: 1.0)"
   ]
  },
  {
   "cell_type": "code",
   "execution_count": null,
   "id": "61101327-48c1-443d-aaaf-59f0b53e1c8a",
   "metadata": {},
   "outputs": [],
   "source": [
    "# add_element_to_document(\"Mobility\", FigElement(mob_effect_filename), doc_sections)\n",
    "# mob_effect_fig"
   ]
  },
  {
   "cell_type": "code",
   "execution_count": null,
   "id": "f5e7c42d-bfc3-45b7-9cb7-944ab0470210",
   "metadata": {},
   "outputs": [],
   "source": [
    "# # This is currently effectively turned off\n",
    "# mobility_scaling, mob_map_text = model.get_mobility_mapper()\n",
    "# add_element_to_document(\"Mobility\", TextElement(mob_map_text), doc_sections)\n",
    "# # mob_map_text"
   ]
  },
  {
   "cell_type": "code",
   "execution_count": null,
   "id": "3949e2e9-e869-4bc9-bff7-40631cdd1785",
   "metadata": {},
   "outputs": [],
   "source": [
    "locations = [\"school\", \"home\", \"work\", \"other_locations\"]\n",
    "raw_location_matrices = {i: pd.read_csv(DATA_PATH / f\"{i}.csv\", index_col=0).to_numpy() for i in locations}\n",
    "input_pop_fig, input_pop_caption, input_pop_filename, modelled_pop_fig, modelled_pop_caption, modelled_pop_filename, \\\n",
    "    matrix_ref_pop_fig, matrix_ref_pop_caption, matrix_ref_pop_filename, \\\n",
    "    adjusted_matrices, pop_splits, mat_adj_text = model.adapt_gb_matrices_to_aust(age_strata, raw_location_matrices, pop_data)\n",
    "# mixing_matrix = Function(\n",
    "#     mobility_scaling, \n",
    "#     [\n",
    "#         adjusted_matrices,\n",
    "#         infection_func,\n",
    "#     ]\n",
    "# )"
   ]
  },
  {
   "cell_type": "code",
   "execution_count": null,
   "id": "21624894-e3cf-4ad4-8552-48e6a868c778",
   "metadata": {},
   "outputs": [],
   "source": [
    "# add_element_to_document(\"Mixing\", TextElement(mat_adj_text), doc_sections)\n",
    "# mat_adj_text"
   ]
  },
  {
   "cell_type": "code",
   "execution_count": null,
   "id": "0b1cd51b-e96c-44bb-afaf-35b4e51b8cd7",
   "metadata": {},
   "outputs": [],
   "source": [
    "# input_pop_fig.layout.title.update({\"text\": input_pop_caption})\n",
    "# input_pop_fig"
   ]
  },
  {
   "cell_type": "code",
   "execution_count": null,
   "id": "a7d4c557-2257-4016-80a3-86f7f4e0c9f5",
   "metadata": {},
   "outputs": [],
   "source": [
    "# modelled_pop_fig.layout.title.update({\"text\": modelled_pop_caption})\n",
    "# add_element_to_document(\"Mixing\", FigElement(modelled_pop_filename, caption=modelled_pop_caption), doc_sections)\n",
    "# modelled_pop_fig"
   ]
  },
  {
   "cell_type": "code",
   "execution_count": null,
   "id": "914f611a-781b-42ee-9dcf-27ab703163e9",
   "metadata": {},
   "outputs": [],
   "source": [
    "# matrix_ref_pop_fig.layout.title.update({\"text\": matrix_ref_pop_caption})\n",
    "# add_element_to_document(\"Mixing\", FigElement(matrix_ref_pop_filename, caption=matrix_ref_pop_caption), doc_sections)\n",
    "# matrix_ref_pop_fig"
   ]
  },
  {
   "cell_type": "code",
   "execution_count": null,
   "id": "9f6a561c-f1d3-45b0-a0ba-2c1db31a8f98",
   "metadata": {},
   "outputs": [],
   "source": [
    "# raw_matrix_filename = \"raw_matrices\"\n",
    "# raw_matrix_fig, raw_matrix_fig_text = model.plot_mixing_matrices(raw_location_matrices, locations, age_strata, raw_matrix_filename + \".jpg\")\n",
    "# add_element_to_document(\"Mixing\", FigElement(raw_matrix_filename, caption=raw_matrix_fig_text), doc_sections)\n",
    "# raw_matrix_fig"
   ]
  },
  {
   "cell_type": "code",
   "execution_count": null,
   "id": "239ae668-92b4-440a-97eb-08139fe2d29f",
   "metadata": {},
   "outputs": [],
   "source": [
    "# adjusted_matrix_filename = \"adjusted_matrices\"\n",
    "# adjusted_matrix_fig, adjusted_matrix_fig_text = model.plot_mixing_matrices(raw_location_matrices, locations, age_strata, adjusted_matrix_filename + \".jpg\")\n",
    "# add_element_to_document(\"Mixing\", FigElement(adjusted_matrix_filename, caption=adjusted_matrix_fig_text), doc_sections)\n",
    "# adjusted_matrix_fig"
   ]
  },
  {
   "cell_type": "code",
   "execution_count": null,
   "id": "aeba0887-7ca6-4331-870c-0b04d414c464",
   "metadata": {},
   "outputs": [],
   "source": [
    "mixing_matrix = sum(adjusted_matrices.values())\n",
    "from plotly import express as px\n",
    "px.imshow(mixing_matrix)"
   ]
  },
  {
   "cell_type": "code",
   "execution_count": null,
   "id": "9cb3836d-11dc-40cc-b3fa-9bdf7d5b8461",
   "metadata": {},
   "outputs": [],
   "source": [
    "age_strat, agestrat_text = model.add_age_stratification(compartments, age_strata, pop_splits, mixing_matrix)\n",
    "aust_model.stratify_with(age_strat)\n",
    "add_element_to_document(\"Age stratification\", TextElement(agestrat_text), doc_sections)\n",
    "# agestrat_text"
   ]
  },
  {
   "cell_type": "code",
   "execution_count": null,
   "id": "4b7efa28-aa0f-415a-bc9d-e2ec1760b26d",
   "metadata": {},
   "outputs": [],
   "source": [
    "# This is effectively turned off by seeding BA.2 and BA.5 late\n",
    "strain_strata = [\"ba1\", \"ba2\", \"ba5\"]\n",
    "strain_strat, strainstrat_text = model.get_strain_stratification(compartments, strain_strata)\n",
    "aust_model.stratify_with(strain_strat)\n",
    "# add_element_to_document(\"Strain stratification\", TextElement(strainstrat_text), doc_sections)\n",
    "# strainstrat_text"
   ]
  },
  {
   "cell_type": "code",
   "execution_count": null,
   "id": "6e64cbd2-b801-48ce-ba79-92f1a496472a",
   "metadata": {},
   "outputs": [],
   "source": [
    "seed_text = model.seed_vocs(aust_model)\n",
    "# add_element_to_document(\"Strain stratification\", TextElement(seed_text), doc_sections)\n",
    "# seed_text"
   ]
  },
  {
   "cell_type": "code",
   "execution_count": null,
   "id": "3c45aade-f9b8-4e68-8719-007a58ae9343",
   "metadata": {},
   "outputs": [],
   "source": [
    "reinfect_text = model.add_reinfection(aust_model, strain_strata, infection_func)\n",
    "# add_element_to_document(\"Strain stratification\", TextElement(reinfect_text), doc_sections)\n",
    "# reinfect_text"
   ]
  },
  {
   "cell_type": "code",
   "execution_count": null,
   "id": "e2266724-0d41-4f11-961e-4011ad7a8c1c",
   "metadata": {},
   "outputs": [],
   "source": [
    "infection_processes = [\n",
    "    \"infection\", \n",
    "    \"early_reinfection\",\n",
    "    \"late_reinfection\",\n",
    "]\n",
    "inc_text = model.add_incidence_output(aust_model, infection_processes)\n",
    "add_element_to_document(\"Outputs\", TextElement(inc_text), doc_sections)\n",
    "# inc_text"
   ]
  },
  {
   "cell_type": "code",
   "execution_count": null,
   "id": "a9c5db00-8236-4742-9bc2-1799ec6fd72d",
   "metadata": {},
   "outputs": [],
   "source": [
    "ratio_df, survey_fig, survey_fig_name, survey_fig_caption, ratio_fig, ratio_fig_name, ratio_fig_caption, cdr_description = model.add_notifications_output(aust_model)\n",
    "# add_element_to_document(\"Outputs\", TextElement(cdr_description), doc_sections, subsection_name=\"Notifications\")\n",
    "# add_element_to_document(\"Outputs\", FigElement(survey_fig_name, caption=survey_fig_caption), doc_sections, subsection_name=\"Notifications\")\n",
    "# add_element_to_document(\"Outputs\", FigElement(ratio_fig_name, caption=ratio_fig_caption), doc_sections, subsection_name=\"Notifications\")\n",
    "# cdr_description"
   ]
  },
  {
   "cell_type": "code",
   "execution_count": null,
   "id": "8d954818-1d9f-40cc-b726-2dc158ca19c9",
   "metadata": {},
   "outputs": [],
   "source": [
    "ratio_df.iloc[:] = ratio_df.iloc[0]"
   ]
  },
  {
   "cell_type": "code",
   "execution_count": null,
   "id": "240ffdf3-09ad-43d6-9a40-06f27833cced",
   "metadata": {},
   "outputs": [],
   "source": [
    "# survey_fig.layout.title.update({\"text\": survey_fig_caption})\n",
    "# survey_fig"
   ]
  },
  {
   "cell_type": "code",
   "execution_count": null,
   "id": "261ca23c-08a7-4c7b-b313-b9ea04b26e0d",
   "metadata": {},
   "outputs": [],
   "source": [
    "# ratio_fig.layout.title.update({\"text\": ratio_fig_caption})\n",
    "# ratio_fig"
   ]
  },
  {
   "cell_type": "code",
   "execution_count": null,
   "id": "d33a0b93-7d8c-4fdd-98c9-5a40684881ce",
   "metadata": {},
   "outputs": [],
   "source": [
    "model.track_sero_prevalence(compartments, aust_model)"
   ]
  },
  {
   "cell_type": "code",
   "execution_count": null,
   "id": "466bbd67-2a6f-4154-8186-85c97bcb3ec0",
   "metadata": {},
   "outputs": [],
   "source": [
    "strain_prop_text = model.track_strain_prop(strain_strata, aust_model)\n",
    "# add_element_to_document(\"Outputs\", TextElement(strain_prop_text), doc_sections, subsection_name=\"Other outputs\")\n",
    "# strain_prop_text"
   ]
  },
  {
   "cell_type": "markdown",
   "id": "8fd47ebc-1e7d-4430-8073-216fe1a166fd",
   "metadata": {},
   "source": [
    "### Vaccination stratification"
   ]
  },
  {
   "cell_type": "code",
   "execution_count": null,
   "id": "d3655b45-ac69-463c-8572-250b76cb98af",
   "metadata": {},
   "outputs": [],
   "source": [
    "# from summer2 import Stratification, Multiply\n",
    "# vacc_strat = Stratification(\"vaccination\", [\"vacc\", \"unvacc\"], compartments)\n",
    "# for infection_process in infection_processes:\n",
    "#     vacc_strat.set_flow_adjustments(\n",
    "#         infection_process,\n",
    "#         {\n",
    "#             \"vacc\": Multiply(1.0 - Parameter(\"vacc_infect_protect\")),\n",
    "#             \"unvacc\": None,\n",
    "#         },\n",
    "#     )\n",
    "# vacc_strat.set_population_split(\n",
    "#     {\n",
    "#         \"vacc\": Parameter(\"vacc_prop\"),\n",
    "#         \"unvacc\": 1.0 - Parameter(\"vacc_prop\"),\n",
    "#     }\n",
    "# )\n",
    "# aust_model.stratify_with(vacc_strat)"
   ]
  },
  {
   "cell_type": "code",
   "execution_count": null,
   "id": "e5c88e0c-1e75-490f-9138-26795416e596",
   "metadata": {},
   "outputs": [],
   "source": [
    "from summer2.parameters import DerivedOutput"
   ]
  },
  {
   "cell_type": "code",
   "execution_count": null,
   "id": "17cc0a97-1003-4e80-9cba-267425812bca",
   "metadata": {},
   "outputs": [],
   "source": [
    "for comp in compartments:\n",
    "    aust_model.request_output_for_compartments(comp, [comp])\n",
    "for process in infection_processes:\n",
    "    aust_model.request_output_for_flow(process, process, save_results=False)\n",
    "aust_model.request_function_output(\"all_infection\", DerivedOutput(\"infection\") + DerivedOutput(\"early_reinfection\") + DerivedOutput(\"late_reinfection\"))\n",
    "aust_model.request_function_output(\"reproduction_number\", DerivedOutput(\"all_infection\") / DerivedOutput(\"infectious\") * Parameter(\"infectious_period\"))"
   ]
  },
  {
   "cell_type": "code",
   "execution_count": null,
   "id": "38f23b0c-a3ba-4185-8080-7c6f10b9706f",
   "metadata": {},
   "outputs": [],
   "source": [
    "# Truncate targets\n",
    "smoothed_composite_cases = smoothed_composite_cases.loc[:datetime(2022, 2, 1)]"
   ]
  },
  {
   "cell_type": "code",
   "execution_count": null,
   "id": "cb444455-19a2-4ecb-832b-34a5ce25da15",
   "metadata": {},
   "outputs": [],
   "source": [
    "parameters.update(\n",
    "    {\n",
    "        \"contact_rate\": 0.05,\n",
    "        \"ba1_seed_time\": 650.0,\n",
    "        \"vacc_infect_protect\": 0.0,\n",
    "        \"vacc_prop\": 0.0,\n",
    "        \"start_cdr\": 0.5,\n",
    "        \"ba2_seed_time\": 1000.0,  # Switch off BA.2\n",
    "        \"ba5_seed_time\": 1000.0,  # Switch off BA.5\n",
    "        \"natural_immunity_period\": 1e10,  # Switch of waning\n",
    "    }\n",
    ")"
   ]
  },
  {
   "cell_type": "code",
   "execution_count": null,
   "id": "7e507937-61dc-4663-a930-d13018802ddf",
   "metadata": {},
   "outputs": [],
   "source": [
    "        \"contact_rate\": 0.07,\n",
    "        \"infectious_period\": 2.0,\n",
    "        \"start_cdr\": 0.25,\n",
    "        \"ba1_seed_time\": 640.0,\n",
    "        \"latent_period\": 1.5,"
   ]
  },
  {
   "cell_type": "code",
   "execution_count": null,
   "id": "1579d9ac-43b3-4c3f-9f2a-f78041ded0fc",
   "metadata": {},
   "outputs": [],
   "source": [
    "# Calibration/optimisation settings\n",
    "priors = [\n",
    "    UniformPrior(\"ba1_seed_time\", (600.0, 700.0)), \n",
    "    UniformPrior(\"contact_rate\", (0.03, 0.1)),\n",
    "    UniformPrior(\"infectious_period\", (2.0, 3.0)),\n",
    "    UniformPrior(\"start_cdr\", (0.2, 0.8)),\n",
    "    UniformPrior(\"latent_period\", (1.0, 2.0)),\n",
    "    # UniformPrior(\"ba2_escape\", (0.3, 1.0)),\n",
    "    # UniformPrior(\"ba5_escape\", (0.3, 1.0)),\n",
    "    # UniformPrior(\"ba1_seed_time\", (640.0, 670.0)),\n",
    "    # UniformPrior(\"ba2_seed_time\", (680.0, 720.0)),\n",
    "    # UniformPrior(\"ba5_seed_time\", (750.0, 800.0)),\n",
    "    # UniformPrior(\"natural_immunity_period\", (20.0, 100.0)),\n",
    "]\n",
    "smoothed_composite_cases_intindex = smoothed_composite_cases.copy()\n",
    "smoothed_composite_cases_intindex.index=(smoothed_composite_cases.index - aust_model.ref_date).days\n",
    "def least_squares(modelled, obs, parameters, time_weights):\n",
    "    return 0.0 - (((modelled - obs) ** 2.0)).sum()\n",
    "targets = [\n",
    "    CustomTarget(\"notifications\", smoothed_composite_cases_intindex, least_squares),\n",
    "]\n",
    "binom_targets = [\n",
    "    NegativeBinomialTarget(\"notifications\", smoothed_composite_cases_intindex, 500.0),\n",
    "]\n",
    "calibration_model = BayesianCompartmentalModel(aust_model, parameters, priors, binom_targets)"
   ]
  },
  {
   "cell_type": "code",
   "execution_count": null,
   "id": "56321d96-808d-4d6a-80aa-a2d2b16f4c99",
   "metadata": {},
   "outputs": [],
   "source": [
    "if optimise_model:\n",
    "    print(\"Optimising with nevergrad \\n Progression of loss function values:\")\n",
    "    optim_runner = optimize_model(calibration_model)\n",
    "    for i in range(10):\n",
    "        rec = optim_runner.minimize(100)\n",
    "        print(rec.loss)\n",
    "    optim_params = rec.value[1]\n",
    "    parameters.update(optim_params)\n",
    "    aust_model.run(parameters=parameters)\n",
    "    print(\"Best calibration parameters found:\")\n",
    "    print(optim_params)"
   ]
  },
  {
   "cell_type": "code",
   "execution_count": null,
   "id": "e97434bb-468c-433f-9382-19a37b3ebc82",
   "metadata": {},
   "outputs": [],
   "source": [
    "# For a video of the scaling of the mixing matrix over time\n",
    "# model.video_mixing_matrices(aust_model)"
   ]
  },
  {
   "cell_type": "markdown",
   "id": "8bbca422-5801-4f74-9a0e-b50e175b00de",
   "metadata": {},
   "source": [
    "### Single run point"
   ]
  },
  {
   "cell_type": "code",
   "execution_count": null,
   "id": "4930d032-5c24-407e-8190-4313b3c4d41c",
   "metadata": {},
   "outputs": [],
   "source": [
    "parameters"
   ]
  },
  {
   "cell_type": "code",
   "execution_count": null,
   "id": "cef92a5e-be80-461b-abed-2a3f0d34614c",
   "metadata": {},
   "outputs": [],
   "source": [
    "epoch = aust_model.get_epoch()\n",
    "epoch.datetime_to_number(end_date)"
   ]
  },
  {
   "cell_type": "code",
   "execution_count": null,
   "id": "dbb9b232-35a6-4f01-8ce4-e05620fdec8b",
   "metadata": {},
   "outputs": [],
   "source": [
    "# parameters.update(\n",
    "#     {\n",
    "#         \"contact_rate\": 0.07,\n",
    "#         \"infectious_period\": 2.0,\n",
    "#         \"start_cdr\": 0.25,\n",
    "#         \"ba1_seed_time\": 640.0,\n",
    "#         \"latent_period\": 1.5,\n",
    "#     }\n",
    "# )"
   ]
  },
  {
   "cell_type": "code",
   "execution_count": null,
   "id": "75b81cfb-7f3d-4b0d-9fa3-300518f94e04",
   "metadata": {},
   "outputs": [],
   "source": [
    "aust_model.run(parameters=parameters)\n",
    "axis_labels = {\"index\": \"time\", \"value\": \"cases\"}\n",
    "comparison_df = pd.concat((smoothed_composite_cases, aust_model.get_derived_outputs_df()[\"notifications\"]), axis=1)\n",
    "fig = comparison_df.plot(labels=axis_labels, title=\"Optimised parameter outputs\")\n",
    "fig.update_xaxes(range=(start_date, end_date))\n",
    "fig"
   ]
  },
  {
   "cell_type": "code",
   "execution_count": null,
   "id": "8361af8f-6641-4714-a738-9a055946987e",
   "metadata": {},
   "outputs": [],
   "source": [
    "aust_model.get_derived_outputs_df()[\"reproduction_number\"].plot()"
   ]
  },
  {
   "cell_type": "code",
   "execution_count": null,
   "id": "245c5046-77b0-4a99-b964-b83c5f79ea1c",
   "metadata": {},
   "outputs": [],
   "source": [
    "cumulative_cases = smoothed_composite_cases.cumsum() / pop_data[\"Australia\"].sum()\n",
    "fig = cumulative_cases.plot(title=\"Cumulative proportion ever notified\")\n",
    "fig.update_xaxes(range=(start_date, end_date))"
   ]
  },
  {
   "cell_type": "code",
   "execution_count": null,
   "id": "15b2da09-cdb2-4102-a51f-e9ae831e21ac",
   "metadata": {},
   "outputs": [],
   "source": [
    "aust_model.get_derived_outputs_df()[compartments].plot.area(title=\"Distribution of population by compartment\")"
   ]
  },
  {
   "cell_type": "code",
   "execution_count": null,
   "id": "684da223-8f19-4d4f-a3d8-f32da4dee068",
   "metadata": {},
   "outputs": [],
   "source": [
    "seropos_prop = aust_model.get_derived_outputs_df()[\"seropos_prop\"]\n",
    "ever_infected_stats = pd.DataFrame(\n",
    "    {\n",
    "        \"seropos\": seropos_prop,\n",
    "        \"seroneg\": 1.0 - seropos_prop,\n",
    "    },\n",
    ")\n",
    "fig = ever_infected_stats.plot.area(title=\"Ever infected\")\n",
    "fig.update_xaxes(range=(start_date, end_date))\n",
    "fig.update_yaxes(range=(0.0, 1.0))"
   ]
  },
  {
   "cell_type": "code",
   "execution_count": null,
   "id": "4bec1677-1ab7-4c7e-968b-2dcc338d4254",
   "metadata": {},
   "outputs": [],
   "source": [
    "strain_prop_fig, strain_prop_fig_name, strain_prop_fig_caption = model.show_strain_props(strain_strata, datetime(2021, 11, 1), aust_model)\n",
    "add_element_to_document(\"Outputs\", FigElement(strain_prop_fig_name, caption=strain_prop_fig_caption), doc_sections, subsection_name=\"Sub-variants\")\n",
    "strain_prop_fig.layout.title.update({\"text\": strain_prop_fig_caption})\n",
    "strain_prop_fig"
   ]
  },
  {
   "cell_type": "code",
   "execution_count": null,
   "id": "bff6871c-5399-4101-b4c0-5d15f04941dd",
   "metadata": {},
   "outputs": [],
   "source": [
    "exp_param = model.get_param_to_exp_plateau(ratio_df[0], parameters[\"start_cdr\"])\n",
    "model.get_cdr_values(exp_param, ratio_df).plot()"
   ]
  },
  {
   "cell_type": "code",
   "execution_count": null,
   "id": "68d8b6d9-e6c8-418e-9f2c-99a2714f41d3",
   "metadata": {},
   "outputs": [],
   "source": [
    "assert False"
   ]
  },
  {
   "cell_type": "code",
   "execution_count": null,
   "id": "96597b79-e056-48c1-a2ad-d0881beb36cb",
   "metadata": {},
   "outputs": [],
   "source": [
    "# Main calibration loop\n",
    "iterations = 10000\n",
    "burn_in = 2000\n",
    "n_chains = 10\n",
    "if new_calibration:\n",
    "    with pm.Model() as pm_model:\n",
    "        variables = epm.use_model(calibration_model)\n",
    "        idata_raw = pm.sample(step=[pm.DEMetropolis(variables)], draws=iterations, tune=0, cores=8, chains=n_chains)\n",
    "    idata_raw.to_netcdf(OUTPUT_PATH / \"calibration_out.nc\")\n",
    "else:\n",
    "    idata_raw = az.from_netcdf(OUTPUT_PATH / \"calibration_out.nc\")\n",
    "\n",
    "idata = idata_raw.sel(draw=range(burn_in, iterations))  # Discard burn-in"
   ]
  },
  {
   "cell_type": "code",
   "execution_count": null,
   "id": "dbb2e1ac-0137-4a27-beea-3abedec79289",
   "metadata": {},
   "outputs": [],
   "source": [
    "# Check parameter starting points by chain\n",
    "idata_raw.posterior.isel(draw=0).to_dataframe()"
   ]
  },
  {
   "cell_type": "code",
   "execution_count": null,
   "id": "c023d2a5-6c79-4b1c-8717-8147e948dcc5",
   "metadata": {},
   "outputs": [],
   "source": [
    "# Report acceptance ratios by chain\n",
    "(idata.sample_stats.accepted.sum(axis=1) / idata.sample_stats.coords[\"draw\"].size).to_dataframe()"
   ]
  },
  {
   "cell_type": "code",
   "execution_count": null,
   "id": "c1ca766a-6cf5-44e4-90f5-333cfb0697f4",
   "metadata": {},
   "outputs": [],
   "source": [
    "priors_table = calibration_utils.tabulate_priors(priors, param_info)\n",
    "add_element_to_document(\"Calibration\", TableElement(priors_table), doc_sections)\n",
    "priors_table"
   ]
  },
  {
   "cell_type": "code",
   "execution_count": null,
   "id": "373a1512-7ccb-49f9-8b5a-ba933eae114f",
   "metadata": {},
   "outputs": [],
   "source": [
    "calib_table = calibration_utils.tabulate_param_results(idata, priors, param_info)\n",
    "add_element_to_document(\"Calibration\", TableElement(calib_table), doc_sections)\n",
    "calib_table"
   ]
  },
  {
   "cell_type": "code",
   "execution_count": null,
   "id": "96111168-276e-4d1a-aa65-1352fc88aef5",
   "metadata": {},
   "outputs": [],
   "source": [
    "param_table = calibration_utils.tabulate_parameters(parameters, priors, param_info)\n",
    "add_element_to_document(\"Parameters\", TableElement(param_table, col_requests=[0.25, 0.25, 0.5]), doc_sections)"
   ]
  },
  {
   "cell_type": "code",
   "execution_count": null,
   "id": "05694c74-98c9-4224-a293-e941e19bbe1b",
   "metadata": {},
   "outputs": [],
   "source": [
    "chains_plot = calibration_utils.plot_param_progression(idata, param_info)\n",
    "save_pyplot_add_to_doc(chains_plot, \"chains\", \"Calibration\", doc_sections, caption=\"Parameter progression and posterior by chain.\")"
   ]
  },
  {
   "cell_type": "code",
   "execution_count": null,
   "id": "f4bc7638-ceb8-45b5-9f4e-dfb5e2f1157a",
   "metadata": {},
   "outputs": [],
   "source": [
    "posterior_plot = calibration_utils.plot_param_posterior(idata, param_info)\n",
    "save_pyplot_add_to_doc(posterior_plot, \"posterior\", \"Calibration\", doc_sections, caption=\"Final estimated parameter posteriors.\")"
   ]
  },
  {
   "cell_type": "code",
   "execution_count": null,
   "id": "f626ae66-4244-42eb-b233-a612b8e41d29",
   "metadata": {},
   "outputs": [],
   "source": [
    "sample_plot, sampled_df = calibration_utils.plot_sampled_outputs(idata, 30, \"notifications\", calibration_model, smoothed_composite_cases, plot_start_date, end_date)\n",
    "save_plotly_add_to_doc(sample_plot, \"calibration_fit\", \"Calibration\", doc_sections, caption=\"Sampled model run fits to calibration targets\")\n",
    "sample_plot"
   ]
  },
  {
   "cell_type": "code",
   "execution_count": null,
   "id": "1c759fb0-9660-4690-a244-97c0f8bdac8b",
   "metadata": {},
   "outputs": [],
   "source": [
    "modelled_cdr_fig, modelled_cdr_fig_name, modelled_cdr_fig_caption = model.show_cdr_profiles(sampled_df[\"start_cdr\"], ratio_df)\n",
    "save_plotly_add_to_doc(modelled_cdr_fig, modelled_cdr_fig_name, \"Calibration\", doc_sections, caption=modelled_cdr_fig_caption)\n",
    "modelled_cdr_fig"
   ]
  },
  {
   "cell_type": "code",
   "execution_count": null,
   "id": "fbb8c72c-f804-42aa-8dd4-b0e5e9325119",
   "metadata": {},
   "outputs": [],
   "source": [
    "# Complete the documentation process\n",
    "supplement = generate_doc(\"Supplemental Appendix\", \"austcovid\")\n",
    "compile_doc(doc_sections, supplement)"
   ]
  },
  {
   "cell_type": "code",
   "execution_count": null,
   "id": "b4d277f6",
   "metadata": {},
   "outputs": [],
   "source": [
    "if on_colab:\n",
    "    # To build a PDF, we need the appropriate tex packages installed\n",
    "    ! apt-get -y install texlive-latex-base texlive-fonts-recommended texlive-fonts-extra texlive-latex-extra texlive-bibtex-extra biber\n",
    "    # To avoid clutter and navigate to the right directory\n",
    "    import os\n",
    "    os.chdir(\"supplement\")\n",
    "    # And finally build the formatted PDF, repeated commands are necessary\n",
    "    ! pdflatex supplement\n",
    "    ! biber supplement\n",
    "    ! pdflatex supplement\n",
    "    ! pdflatex supplement"
   ]
  }
 ],
 "metadata": {
  "kernelspec": {
   "display_name": "Python 3 (ipykernel)",
   "language": "python",
   "name": "python3"
  },
  "language_info": {
   "codemirror_mode": {
    "name": "ipython",
    "version": 3
   },
   "file_extension": ".py",
   "mimetype": "text/x-python",
   "name": "python",
   "nbconvert_exporter": "python",
   "pygments_lexer": "ipython3",
   "version": "3.10.11"
  }
 },
 "nbformat": 4,
 "nbformat_minor": 5
}
