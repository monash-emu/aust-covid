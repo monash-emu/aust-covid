{
 "cells": [
  {
   "cell_type": "code",
   "execution_count": null,
   "id": "c34fb9b6-5180-4408-8e18-33c1715f4613",
   "metadata": {},
   "outputs": [],
   "source": [
    "def add_line(file, line):\n",
    "    file.write(f'{line}\\n')"
   ]
  },
  {
   "cell_type": "code",
   "execution_count": null,
   "id": "b44fada4-d28c-46e1-aaf9-ce2a2e63c3dc",
   "metadata": {},
   "outputs": [],
   "source": [
    "packages = [\n",
    "    '\\\\usepackage[T1]{fontenc}',\n",
    "    '\\\\usepackage[utf8]{inputenc}',\n",
    "    '\\\\usepackage{lmodern}',\n",
    "    '\\\\usepackage{textcomp}',\n",
    "    '\\\\usepackage{lastpage}',\n",
    "    '\\\\usepackage{graphicx}',\n",
    "    '\\\\usepackage{longtable}',\n",
    "    '\\\\usepackage[sorting=none]{biblatex}',\n",
    "    '\\\\usepackage{booktabs}',\n",
    "]\n",
    "title = 'Supplemental Appendix'\n",
    "bib_filename = 'austcovid'\n",
    "with open('appendix.tex', 'w') as app_file:\n",
    "    add_line(app_file, '\\\\documentclass{article}')\n",
    "    for line in packages:\n",
    "        add_line(app_file, line)\n",
    "    add_line(app_file, f'\\\\addbibresource{{{bib_filename}.bib}}')\n",
    "    add_line(app_file, f'\\\\title{{{title}}}')\n",
    "    add_line(app_file, '\\\\begin{document}')\n",
    "    add_line(app_file, 'test text')\n",
    "    add_line(app_file, '\\\\printbibliography')\n",
    "    add_line(app_file, '\\\\end{document}')"
   ]
  }
 ],
 "metadata": {
  "kernelspec": {
   "display_name": "Python 3 (ipykernel)",
   "language": "python",
   "name": "python3"
  },
  "language_info": {
   "codemirror_mode": {
    "name": "ipython",
    "version": 3
   },
   "file_extension": ".py",
   "mimetype": "text/x-python",
   "name": "python",
   "nbconvert_exporter": "python",
   "pygments_lexer": "ipython3",
   "version": "3.10.11"
  }
 },
 "nbformat": 4,
 "nbformat_minor": 5
}
