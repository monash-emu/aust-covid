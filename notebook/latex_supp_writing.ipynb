{
 "cells": [
  {
   "cell_type": "code",
   "execution_count": null,
   "id": "b44fada4-d28c-46e1-aaf9-ce2a2e63c3dc",
   "metadata": {},
   "outputs": [],
   "source": [
    "packages = [\n",
    "    '\\\\usepackage[T1]{fontenc}',\n",
    "    '\\\\usepackage[utf8]{inputenc}',\n",
    "    '\\\\usepackage{lmodern}',\n",
    "    '\\\\usepackage{textcomp}',\n",
    "    '\\\\usepackage{lastpage}',\n",
    "    '\\\\usepackage{graphicx}',\n",
    "    '\\\\usepackage{longtable}',\n",
    "    '\\\\usepackage[sorting=none]{biblatex}',\n",
    "    '\\\\usepackage{booktabs}',\n",
    "]\n",
    "title = 'Supplemental Appendix'\n",
    "bib_filename = 'austcovid'\n",
    "with open('appendix.tex', 'w') as file:\n",
    "    file.write('\\\\documentclass{article}\\n')\n",
    "    for line in packages:\n",
    "        file.write(f'{line}\\n')\n",
    "    file.write(f'\\\\addbibresource{{{bib_filename}.bib}}\\n')\n",
    "    file.write(f'\\\\title{{{title}}}\\n')\n",
    "    file.write('\\\\begin{document}\\n')\n",
    "    file.write('test text\\n')\n",
    "    file.write('\\\\printbibliography\\n')\n",
    "    file.write('\\\\end{document}\\n')"
   ]
  }
 ],
 "metadata": {
  "kernelspec": {
   "display_name": "Python 3 (ipykernel)",
   "language": "python",
   "name": "python3"
  },
  "language_info": {
   "codemirror_mode": {
    "name": "ipython",
    "version": 3
   },
   "file_extension": ".py",
   "mimetype": "text/x-python",
   "name": "python",
   "nbconvert_exporter": "python",
   "pygments_lexer": "ipython3",
   "version": "3.10.11"
  }
 },
 "nbformat": 4,
 "nbformat_minor": 5
}
