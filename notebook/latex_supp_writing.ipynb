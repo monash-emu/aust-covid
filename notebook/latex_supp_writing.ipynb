{
 "cells": [
  {
   "cell_type": "code",
   "execution_count": null,
   "id": "c1131c9b-6f42-4894-84dc-90dd92416d3c",
   "metadata": {},
   "outputs": [],
   "source": [
    "from pathlib import Path\n",
    "from datetime import datetime\n",
    "\n",
    "from aust_covid.inputs import load_calibration_targets, load_who_data, load_serosurvey_data\n",
    "\n",
    "PROJECT_PATH = Path().resolve().parent"
   ]
  },
  {
   "cell_type": "code",
   "execution_count": null,
   "id": "352abf76-f5dc-4c22-a1e7-24d9c66a1258",
   "metadata": {},
   "outputs": [],
   "source": [
    "class TexDoc:\n",
    "    def __init__(self, path, doc_name):\n",
    "        self.content = []\n",
    "        self.packages = []\n",
    "        self.path = path\n",
    "        self.doc_name = f'{doc_name}.tex'\n",
    "    \n",
    "    def add_line(self, line):\n",
    "        self.content.append(line)\n",
    "    \n",
    "    def write_line(self, line):\n",
    "        self.file.write(f'{line}\\n')\n",
    "\n",
    "    def start_doc(self, bib_filename, title):\n",
    "        self.write_line('\\\\documentclass{article}')\n",
    "        for line in self.packages:\n",
    "            self.write_line(line)\n",
    "        self.write_line(f'\\\\addbibresource{{{bib_filename}.bib}}')\n",
    "        self.write_line(f'\\\\title{{{title}}}')\n",
    "        self.write_line('\\\\begin{document}')\n",
    "\n",
    "    def populate_doc(self, elements):\n",
    "        for element in elements:\n",
    "            self.file.write(element)\n",
    "        self.file.write('\\n')\n",
    "        \n",
    "    def finish_doc(self):\n",
    "        self.write_line('\\\\printbibliography')\n",
    "        self.write_line('\\\\end{document}')\n",
    "        \n",
    "    def write_doc(self):\n",
    "        with open(self.path / 'supplement' /self.doc_name, 'w') as self.file:\n",
    "            self.start_doc('austcovid', 'Supplemental Appendix')\n",
    "            self.populate_doc(self.content)\n",
    "            self.finish_doc()\n",
    "            \n",
    "class StandardTexDoc(TexDoc):\n",
    "    def __init__(self, path, doc_name):\n",
    "        super().__init__(path, doc_name)\n",
    "        core_packages = [\n",
    "            '\\\\usepackage{biblatex}',\n",
    "            '\\\\usepackage{hyperref}',\n",
    "        ]    \n",
    "        self.packages += core_packages"
   ]
  },
  {
   "cell_type": "code",
   "execution_count": null,
   "id": "30428446-bd88-473a-a041-3eb307f5c117",
   "metadata": {},
   "outputs": [],
   "source": [
    "app_doc = StandardTexDoc(PROJECT_PATH, 'supplement')"
   ]
  },
  {
   "cell_type": "code",
   "execution_count": null,
   "id": "7a53f6e8-2059-4303-9f1e-101bfed88118",
   "metadata": {},
   "outputs": [],
   "source": [
    "targets_rolling_window = 7\n",
    "smoothed_composite_cases = load_calibration_targets(datetime(2021, 12, 15), targets_rolling_window, app_doc)"
   ]
  },
  {
   "cell_type": "code",
   "execution_count": null,
   "id": "2a83299f-48fa-4c1c-a787-53e4edd26efe",
   "metadata": {},
   "outputs": [],
   "source": [
    "death_data, death_targets_text = load_who_data(targets_rolling_window)\n",
    "death_targets_text"
   ]
  },
  {
   "cell_type": "code",
   "execution_count": null,
   "id": "7a7a67f5-e179-424e-a98b-fd8b12d1475e",
   "metadata": {},
   "outputs": [],
   "source": [
    "app_doc.add_line(death_targets_text)\n",
    "app_doc.write_doc()"
   ]
  }
 ],
 "metadata": {
  "kernelspec": {
   "display_name": "Python 3 (ipykernel)",
   "language": "python",
   "name": "python3"
  },
  "language_info": {
   "codemirror_mode": {
    "name": "ipython",
    "version": 3
   },
   "file_extension": ".py",
   "mimetype": "text/x-python",
   "name": "python",
   "nbconvert_exporter": "python",
   "pygments_lexer": "ipython3",
   "version": "3.10.0"
  }
 },
 "nbformat": 4,
 "nbformat_minor": 5
}
