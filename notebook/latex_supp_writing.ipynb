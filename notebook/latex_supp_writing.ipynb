{
 "cells": [
  {
   "cell_type": "code",
   "execution_count": null,
   "id": "c1131c9b-6f42-4894-84dc-90dd92416d3c",
   "metadata": {},
   "outputs": [],
   "source": [
    "from pathlib import Path\n",
    "\n",
    "PROJECT_PATH = Path().resolve().parent\n",
    "SUPPLEMENT_PATH = PROJECT_PATH / 'supplement'"
   ]
  },
  {
   "cell_type": "code",
   "execution_count": null,
   "id": "c34fb9b6-5180-4408-8e18-33c1715f4613",
   "metadata": {},
   "outputs": [],
   "source": [
    "def add_line(file, line):\n",
    "    file.write(f'{line}\\n')\n",
    "    \n",
    "def start_doc(file, bib_filename, title):\n",
    "    packages = [\n",
    "        '\\\\usepackage[T1]{fontenc}',\n",
    "        '\\\\usepackage[utf8]{inputenc}',\n",
    "        '\\\\usepackage{lmodern}',\n",
    "        '\\\\usepackage{textcomp}',\n",
    "        '\\\\usepackage{lastpage}',\n",
    "        '\\\\usepackage{graphicx}',\n",
    "        '\\\\usepackage{longtable}',\n",
    "        '\\\\usepackage[sorting=none]{biblatex}',\n",
    "        '\\\\usepackage{booktabs}',\n",
    "    ]\n",
    "    add_line(app_file, '\\\\documentclass{article}')\n",
    "    for line in packages:\n",
    "        add_line(app_file, line)\n",
    "    add_line(app_file, f'\\\\addbibresource{{{bib_filename}.bib}}')\n",
    "    add_line(app_file, f'\\\\title{{{title}}}')\n",
    "    add_line(app_file, '\\\\begin{document}')\n",
    "    \n",
    "def finish_doc(file):\n",
    "    add_line(app_file, '\\\\printbibliography')\n",
    "    add_line(app_file, '\\\\end{document}')\n",
    "    \n",
    "def populate_doc(file, elements):\n",
    "    for element in elements:\n",
    "        file.write(element)\n",
    "    file.write('\\n')"
   ]
  },
  {
   "cell_type": "code",
   "execution_count": null,
   "id": "b44fada4-d28c-46e1-aaf9-ce2a2e63c3dc",
   "metadata": {},
   "outputs": [],
   "source": [
    "with open(SUPPLEMENT_PATH / 'appendix.tex', 'w') as app_file:\n",
    "    start_doc(app_file, 'austcovid', 'Supplemental Appendix')\n",
    "    populate_doc(app_file, ['We built a model. ', 'It was enjoyable. '])\n",
    "    finish_doc(app_file)"
   ]
  }
 ],
 "metadata": {
  "kernelspec": {
   "display_name": "Python 3 (ipykernel)",
   "language": "python",
   "name": "python3"
  },
  "language_info": {
   "codemirror_mode": {
    "name": "ipython",
    "version": 3
   },
   "file_extension": ".py",
   "mimetype": "text/x-python",
   "name": "python",
   "nbconvert_exporter": "python",
   "pygments_lexer": "ipython3",
   "version": "3.10.11"
  }
 },
 "nbformat": 4,
 "nbformat_minor": 5
}
