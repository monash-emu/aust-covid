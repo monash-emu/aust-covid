{
 "cells": [
  {
   "cell_type": "code",
   "execution_count": null,
   "id": "c1131c9b-6f42-4894-84dc-90dd92416d3c",
   "metadata": {},
   "outputs": [],
   "source": [
    "from pathlib import Path\n",
    "from datetime import datetime\n",
    "\n",
    "from aust_covid.inputs import load_calibration_targets, load_who_data, load_serosurvey_data\n",
    "from general_utils.tex_utils import StandardTexDoc\n",
    "\n",
    "PROJECT_PATH = Path().resolve().parent"
   ]
  },
  {
   "cell_type": "code",
   "execution_count": null,
   "id": "30428446-bd88-473a-a041-3eb307f5c117",
   "metadata": {},
   "outputs": [],
   "source": [
    "app_doc = StandardTexDoc(PROJECT_PATH / 'supplement', 'supplement')"
   ]
  },
  {
   "cell_type": "code",
   "execution_count": null,
   "id": "7a53f6e8-2059-4303-9f1e-101bfed88118",
   "metadata": {},
   "outputs": [],
   "source": [
    "targets_average_window = 7\n",
    "smoothed_composite_cases = load_calibration_targets(datetime(2021, 12, 15), targets_average_window, app_doc)\n",
    "death_data = load_who_data(targets_average_window, app_doc)"
   ]
  },
  {
   "cell_type": "code",
   "execution_count": null,
   "id": "bf4363ca-f7cf-4c53-9a52-cd4f4bd27b04",
   "metadata": {},
   "outputs": [],
   "source": [
    "app_doc.write_tex('aust_covid', \"Australia's 2023 Omicron Waves Supplement\")"
   ]
  }
 ],
 "metadata": {
  "kernelspec": {
   "display_name": "Python 3 (ipykernel)",
   "language": "python",
   "name": "python3"
  },
  "language_info": {
   "codemirror_mode": {
    "name": "ipython",
    "version": 3
   },
   "file_extension": ".py",
   "mimetype": "text/x-python",
   "name": "python",
   "nbconvert_exporter": "python",
   "pygments_lexer": "ipython3",
   "version": "3.10.0"
  }
 },
 "nbformat": 4,
 "nbformat_minor": 5
}
