{
 "cells": [
  {
   "cell_type": "code",
   "execution_count": null,
   "id": "27dbd796",
   "metadata": {},
   "outputs": [],
   "source": [
    "from pathlib import Path"
   ]
  },
  {
   "cell_type": "code",
   "execution_count": null,
   "id": "203bbb25",
   "metadata": {},
   "outputs": [],
   "source": [
    "# This is required for parallel evaluation in notebooks\n",
    "# Note that if running under (non-WSL) Windows, you should\n",
    "# disable this line, and use single threaded evaluation in pymc\n",
    "\n",
    "# import multiprocessing as mp\n",
    "# mp.set_start_method('forkserver')"
   ]
  },
  {
   "cell_type": "code",
   "execution_count": null,
   "id": "56a8ea2c-c90f-4c5c-a2d3-4daee3a6bcab",
   "metadata": {},
   "outputs": [],
   "source": [
    "# Installation in case running over Colab\n",
    "try:\n",
    "    import google.colab\n",
    "    %pip install estival\n",
    "    %pip install pylatex==1.4.1\n",
    "    %pip install kaleido\n",
    "    ! git clone https://github.com/monash-emu/aust-covid\n",
    "    %cd aust-covid\n",
    "    %pip install -e ./\n",
    "    PROJECT_PATH = Path().resolve()\n",
    "except:\n",
    "    PROJECT_PATH = Path().resolve().parent\n",
    "\n",
    "DATA_PATH = PROJECT_PATH / \"data\"\n",
    "SUPPLEMENT_PATH = PROJECT_PATH / \"supplement\""
   ]
  },
  {
   "cell_type": "code",
   "execution_count": null,
   "id": "68bc1a4b-007d-40d2-90d5-f56b194751c9",
   "metadata": {},
   "outputs": [],
   "source": [
    "import pandas as pd\n",
    "pd.options.plotting.backend = \"plotly\"\n",
    "from datetime import datetime\n",
    "import pylatex as pl\n",
    "from pylatex.utils import NoEscape\n",
    "import matplotlib.pyplot as plt\n",
    "from aust_covid.model import build_aust_model\n",
    "from aust_covid.calibration import DocumentedCalibration\n",
    "from aust_covid.output_utils import convert_idata_to_df, run_samples_through_model, round_sigfig, plot_from_model_runs_df\n",
    "import yaml\n",
    "import nevergrad as ng\n",
    "import numpy as np\n",
    "import plotly.express as px\n",
    "import plotly.graph_objects as go\n",
    "from estival.model import BayesianCompartmentalModel\n",
    "from estival.optimization.nevergrad import optimize_model\n",
    "from estival.priors import UniformPrior\n",
    "from estival.targets import NegativeBinomialTarget, CustomTarget\n",
    "from estival.calibration import pymc as epm\n",
    "import pymc as pm\n",
    "import arviz as az"
   ]
  },
  {
   "cell_type": "code",
   "execution_count": null,
   "id": "640f11ba-1097-4e97-8d9b-c74329e21b9f",
   "metadata": {},
   "outputs": [],
   "source": [
    "# Data inputs\n",
    "aust_data = pd.read_csv(DATA_PATH / \"Aus_covid_data.csv\", index_col=\"date\")\n",
    "aust_data.index = pd.to_datetime(aust_data.index)\n",
    "\n",
    "# Extract national\n",
    "national_data = aust_data[aust_data[\"region\"] == \"AUS\"]\n",
    "smoothed_national_cases = national_data[\"cases\"].rolling(window=7).mean().dropna()\n",
    "\n",
    "# Extract non-WA\n",
    "non_wa_data = aust_data.loc[(aust_data[\"region\"] != \"AUS\") & (aust_data[\"region\"] != \"WA\")]\n",
    "non_wa_data = non_wa_data.groupby(non_wa_data.index).sum()\n",
    "smoothed_non_wa_cases = non_wa_data[\"cases\"].rolling(window=7).mean().dropna()"
   ]
  },
  {
   "cell_type": "code",
   "execution_count": null,
   "id": "42c566e7-814a-4698-a365-0e1009456222",
   "metadata": {},
   "outputs": [],
   "source": [
    "# Set up for manual run with supplementary material document\n",
    "supplement = pl.Document()\n",
    "supplement.preamble.append(pl.Package(\"biblatex\", options=[\"sorting=none\"]))\n",
    "supplement.preamble.append(pl.Command(\"addbibresource\", arguments=[\"austcovid.bib\"]))\n",
    "supplement.preamble.append(pl.Command(\"title\", \"Supplemental Appendix\"))\n",
    "supplement.append(NoEscape(r\"\\maketitle\"))"
   ]
  },
  {
   "cell_type": "code",
   "execution_count": null,
   "id": "46382c88-c458-4ad2-989a-7e51be48af40",
   "metadata": {},
   "outputs": [],
   "source": [
    "start_date = datetime(2021, 9, 1)\n",
    "end_date = datetime(2022, 10, 1)\n",
    "parameters = {\n",
    "    \"contact_rate\": 0.048,\n",
    "    \"infectious_period\": 5.0,\n",
    "    \"latent_period\": 2.0,\n",
    "    \"cdr\": 0.1,\n",
    "    \"seed_rate\": 1.0,\n",
    "    \"seed_duration\": 1.0,\n",
    "    \"ba1_seed_time\": 660.0,\n",
    "    \"ba2_seed_time\": 688.0,\n",
    "    \"ba5_seed_time\": 720.0,\n",
    "    \"ba2_escape\": 0.45,\n",
    "    \"ba5_escape\": 0.38,\n",
    "    \"notifs_shape\": 2.0,\n",
    "    \"notifs_mean\": 4.0,\n",
    "    \"deaths_shape\": 2.0,\n",
    "    \"deaths_mean\": 20.0,\n",
    "    \"natural_immunity_period\": 50.0,\n",
    "    \"ifr_0\": 0.0,\n",
    "    \"ifr_5\": 0.0,\n",
    "    \"ifr_10\": 0.0,\n",
    "    \"ifr_15\": 0.0,\n",
    "    \"ifr_20\": 0.0,\n",
    "    \"ifr_25\": 0.0,\n",
    "    \"ifr_30\": 0.0,\n",
    "    \"ifr_35\": 0.0,\n",
    "    \"ifr_40\": 0.0,\n",
    "    \"ifr_45\": 0.0,\n",
    "    \"ifr_50\": 0.0,\n",
    "    \"ifr_55\": 0.0,\n",
    "    \"ifr_60\": 0.0,\n",
    "    \"ifr_65\": 0.0,\n",
    "    \"ifr_70\": 0.01,\n",
    "}\n",
    "\n",
    "aust_model = build_aust_model(start_date, end_date, supplement, add_documentation=False)\n",
    "aust_model.run(parameters=parameters)"
   ]
  },
  {
   "cell_type": "code",
   "execution_count": null,
   "id": "1579d9ac-43b3-4c3f-9f2a-f78041ded0fc",
   "metadata": {},
   "outputs": [],
   "source": [
    "# Calibration settings\n",
    "with open(PROJECT_PATH / \"inputs/parameters.yml\", \"r\") as param_file:\n",
    "    param_info = yaml.safe_load(param_file)\n",
    "param_descriptions = param_info[\"descriptions\"]\n",
    "param_units = param_info[\"units\"]\n",
    "param_evidence = param_info[\"evidence\"]\n",
    "\n",
    "iterations = 500\n",
    "burn_in = 100\n",
    "priors = [\n",
    "    UniformPrior(\"contact_rate\", (0.03, 0.06)),\n",
    "    UniformPrior(\"infectious_period\", (3.0, 7.0)),\n",
    "    UniformPrior(\"ba2_escape\", (0.3, 0.7)),\n",
    "    UniformPrior(\"ba5_escape\", (0.3, 0.7)),\n",
    "    UniformPrior(\"ba1_seed_time\", (645.0, 665.0)),\n",
    "    UniformPrior(\"ba2_seed_time\", (675.0, 700.0)),\n",
    "    UniformPrior(\"ba5_seed_time\", (705.0, 730.0)),\n",
    "    UniformPrior(\"cdr\", (0.05, 0.5)),\n",
    "]\n",
    "smoothed_non_wa_cases_intindex = smoothed_non_wa_cases.copy()\n",
    "smoothed_non_wa_cases_intindex.index=(smoothed_non_wa_cases.index - aust_model.ref_date).days\n",
    "def least_squares(modelled, obs, parameters, time_weights):\n",
    "    return 0.0 - (((modelled - obs) ** 2.0)).sum()\n",
    "targets = [\n",
    "    CustomTarget(\"notifications\", smoothed_non_wa_cases_intindex, least_squares)\n",
    "]\n",
    "binom_targets = [\n",
    "    NegativeBinomialTarget(\"notifications\", smoothed_non_wa_cases_intindex, 500.0),\n",
    "]\n",
    "aust_model = build_aust_model(start_date, end_date, supplement, True)\n",
    "calibration_model = BayesianCompartmentalModel(aust_model, parameters, priors, binom_targets)"
   ]
  },
  {
   "cell_type": "code",
   "execution_count": null,
   "id": "a63b250a",
   "metadata": {},
   "outputs": [],
   "source": [
    "calibration_model._evaluators[\"notifications\"]"
   ]
  },
  {
   "cell_type": "code",
   "execution_count": null,
   "id": "56321d96-808d-4d6a-80aa-a2d2b16f4c99",
   "metadata": {},
   "outputs": [],
   "source": [
    "print(\"Optimising with nevergrad \\n Progression of loss function values:\")\n",
    "optim_runner = optimize_model(calibration_model)\n",
    "for i in range(10):\n",
    "    rec = optim_runner.minimize(100)\n",
    "    print(rec.loss)\n",
    "optim_params = rec.value[1]\n",
    "parameters.update(optim_params)\n",
    "aust_model.run(parameters=parameters)\n",
    "print(\"Best calibration parameters found:\")\n",
    "optim_params"
   ]
  },
  {
   "cell_type": "code",
   "execution_count": null,
   "id": "75b81cfb-7f3d-4b0d-9fa3-300518f94e04",
   "metadata": {},
   "outputs": [],
   "source": [
    "axis_labels = {\"index\": \"time\", \"value\": \"cases\"}\n",
    "comparison_df = pd.concat((smoothed_non_wa_cases, aust_model.get_derived_outputs_df()[\"notifications\"]), axis=1)\n",
    "comparison_df.plot(labels=axis_labels, title=\"Optimised parameter outputs\")"
   ]
  },
  {
   "cell_type": "code",
   "execution_count": null,
   "id": "96597b79-e056-48c1-a2ad-d0881beb36cb",
   "metadata": {},
   "outputs": [],
   "source": [
    "# Main calibration loop\n",
    "iterations = 3000\n",
    "burn_in = 800\n",
    "n_chains = 10\n",
    "with pm.Model() as model:\n",
    "    variables = epm.use_model(calibration_model)\n",
    "    idata = pm.sample(step=[pm.DEMetropolis(variables)], draws=iterations, tune=0, cores=8, chains=n_chains)\n",
    "burnt_idata = idata.sel(draw=range(burn_in, iterations))  # Discard burn-in\n",
    "calib_df = burnt_idata.to_dataframe(groups=\"posterior\")  # Also get as dataframe"
   ]
  },
  {
   "cell_type": "code",
   "execution_count": null,
   "id": "dbb2e1ac-0137-4a27-beea-3abedec79289",
   "metadata": {},
   "outputs": [],
   "source": [
    "# Parameter starting points by chain\n",
    "idata.posterior.isel(draw=0).to_dataframe()"
   ]
  },
  {
   "cell_type": "code",
   "execution_count": null,
   "id": "c023d2a5-6c79-4b1c-8717-8147e948dcc5",
   "metadata": {},
   "outputs": [],
   "source": [
    "# Report acceptance ratios\n",
    "(idata.sample_stats.accepted.sum(axis=1) / idata.sample_stats.coords[\"draw\"].size).to_dataframe()"
   ]
  },
  {
   "cell_type": "code",
   "execution_count": null,
   "id": "21b26305-8f2d-43bf-b8c5-b762a278b4c8",
   "metadata": {},
   "outputs": [],
   "source": [
    "az.summary(burnt_idata)"
   ]
  },
  {
   "cell_type": "code",
   "execution_count": null,
   "id": "6c62d964-4ce2-4f58-b92c-2f3712e42d34",
   "metadata": {},
   "outputs": [],
   "source": [
    "from importlib import reload"
   ]
  },
  {
   "cell_type": "code",
   "execution_count": null,
   "id": "0ad5ebf5-1afe-42fb-a41a-89177354fc7c",
   "metadata": {},
   "outputs": [],
   "source": [
    "import aust_covid.calibration"
   ]
  },
  {
   "cell_type": "code",
   "execution_count": null,
   "id": "5d9fccf2-bf07-4b2a-bdf3-6664503b597d",
   "metadata": {},
   "outputs": [],
   "source": [
    "reload(aust_covid.calibration)"
   ]
  },
  {
   "cell_type": "code",
   "execution_count": null,
   "id": "fc5b095c-a34d-4d99-9a7f-7b56e7697653",
   "metadata": {},
   "outputs": [],
   "source": [
    "from aust_covid.doc_utils import DocumentedProcess, FigElement, TextElement, TableElement"
   ]
  },
  {
   "cell_type": "code",
   "execution_count": null,
   "id": "24d6ad7d-ee4f-40fb-bb3c-c722460d1eb7",
   "metadata": {},
   "outputs": [],
   "source": [
    "documented_calib = aust_covid.calibration.DocumentedCalibration(\n",
    "    priors, \n",
    "    targets, \n",
    "    iterations, \n",
    "    burn_in, \n",
    "    build_aust_model,\n",
    "    parameters, \n",
    "    param_descriptions, \n",
    "    param_units, \n",
    "    param_evidence, \n",
    "    start_date,\n",
    "    end_date,\n",
    "    supplement,\n",
    ")\n",
    "documented_calib.graph_param_progression(burnt_idata)\n",
    "documented_calib.compile_doc()"
   ]
  },
  {
   "cell_type": "code",
   "execution_count": null,
   "id": "4f6b566e-52c4-4534-8fe8-1f2acf073b66",
   "metadata": {},
   "outputs": [],
   "source": [
    "az.plot_posterior(burnt_idata);"
   ]
  },
  {
   "cell_type": "code",
   "execution_count": null,
   "id": "a524060c-61bf-434f-8a4b-2c0f2d60030b",
   "metadata": {},
   "outputs": [],
   "source": [
    "param_names = list(burnt_idata.posterior.data_vars.keys())\n",
    "\n",
    "num_samples_request = 30\n",
    "sampled_idata = az.extract(burnt_idata, num_samples=num_samples_request)  # Sample from the inference data\n",
    "sampled_df = convert_idata_to_df(sampled_idata, param_names)\n",
    "sample_model_results = run_samples_through_model(sampled_df, calibration_model)\n",
    "fig = plot_from_model_runs_df(sample_model_results, sampled_df, param_names)\n",
    "fig.add_trace(\n",
    "    go.Scatter(x=smoothed_non_wa_cases.index, y=smoothed_non_wa_cases, marker=dict(color=\"black\"), name=\"non-WA cases\", mode=\"markers\"),\n",
    ")"
   ]
  },
  {
   "cell_type": "code",
   "execution_count": null,
   "id": "c9fb8cd5-ebc7-4241-bb7c-b20ae5f1d0f0",
   "metadata": {},
   "outputs": [],
   "source": [
    "# # Look at a subset of the results of calibration\n",
    "# sample_outputs = documented_calib.get_sample_outputs(50)\n",
    "# pd.concat((smoothed_non_wa_cases, sample_outputs), axis=1).plot(labels=axis_labels)"
   ]
  },
  {
   "cell_type": "code",
   "execution_count": null,
   "id": "fbb8c72c-f804-42aa-8dd4-b0e5e9325119",
   "metadata": {},
   "outputs": [],
   "source": [
    "# Finish up the supplement document with bibliography\n",
    "supplement.append(pl.NewPage())\n",
    "supplement.append(pl.Command(\"printbibliography\"))\n",
    "supplement.generate_tex(str(PROJECT_PATH / \"supplement/supplement\"))"
   ]
  }
 ],
 "metadata": {
  "kernelspec": {
   "display_name": "Python 3 (ipykernel)",
   "language": "python",
   "name": "python3"
  },
  "language_info": {
   "codemirror_mode": {
    "name": "ipython",
    "version": 3
   },
   "file_extension": ".py",
   "mimetype": "text/x-python",
   "name": "python",
   "nbconvert_exporter": "python",
   "pygments_lexer": "ipython3",
   "version": "3.10.11"
  }
 },
 "nbformat": 4,
 "nbformat_minor": 5
}
