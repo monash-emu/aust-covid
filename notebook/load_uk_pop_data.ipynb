{
 "cells": [
  {
   "cell_type": "code",
   "execution_count": null,
   "id": "c638bc06-6e54-4274-bfa5-5e7de13fe267",
   "metadata": {},
   "outputs": [],
   "source": [
    "import pandas as pd\n",
    "from pathlib import Path\n",
    "from aust_covid.model import DATA_PATH, get_uk_pop_data"
   ]
  },
  {
   "cell_type": "code",
   "execution_count": null,
   "id": "a472159c-07f5-4511-b162-8e7e00ed0fa5",
   "metadata": {},
   "outputs": [],
   "source": [
    "raw_uk_data = get_uk_pop_data()\n",
    "uk_pop_data = raw_uk_data[:14]\n",
    "uk_pop_data[\"75 years and up\"] = raw_uk_data[15:].sum()\n",
    "uk_pop_data"
   ]
  },
  {
   "cell_type": "code",
   "execution_count": null,
   "id": "bbcc5bd8-ed2c-4738-b633-b5c38cc06615",
   "metadata": {},
   "outputs": [],
   "source": [
    "uk_pops_list = [\n",
    "    3458060, 3556024, 3824317, 3960916, 3911291, 3762213, 4174675, 4695853, \n",
    "    4653082, 3986098, 3620216, 3892985, 3124676, 2706365, 6961183,\n",
    "]\n",
    "age_strata = list(range(0, 75, 5))\n",
    "uk_age_pops = pd.Series(uk_pops_list, index=age_strata)\n",
    "uk_age_pops"
   ]
  }
 ],
 "metadata": {
  "kernelspec": {
   "display_name": "Python 3 (ipykernel)",
   "language": "python",
   "name": "python3"
  },
  "language_info": {
   "codemirror_mode": {
    "name": "ipython",
    "version": 3
   },
   "file_extension": ".py",
   "mimetype": "text/x-python",
   "name": "python",
   "nbconvert_exporter": "python",
   "pygments_lexer": "ipython3",
   "version": "3.10.4"
  }
 },
 "nbformat": 4,
 "nbformat_minor": 5
}
