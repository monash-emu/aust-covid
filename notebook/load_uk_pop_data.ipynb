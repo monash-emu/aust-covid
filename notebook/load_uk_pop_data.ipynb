{
 "cells": [
  {
   "cell_type": "code",
   "execution_count": null,
   "id": "c638bc06-6e54-4274-bfa5-5e7de13fe267",
   "metadata": {},
   "outputs": [],
   "source": [
    "import pandas as pd\n",
    "from pathlib import Path\n",
    "from aust_covid.model import DATA_PATH"
   ]
  },
  {
   "cell_type": "code",
   "execution_count": null,
   "id": "7612047f-395d-478e-818f-fc54fad84535",
   "metadata": {},
   "outputs": [],
   "source": [
    "def get_uk_census_pop():\n",
    "    sheet_name = \"cens_01nscbirth__custom_6028079_page_spreadsheet.xlsx\"\n",
    "    data = pd.read_excel(\n",
    "        DATA_PATH / sheet_name, \n",
    "        sheet_name=\"Sheet 1\", \n",
    "        skiprows=list(range(0, 11)) + list(range(30, 37)), \n",
    "        usecols=\"B:C\", \n",
    "        index_col=0,\n",
    "    )\n",
    "    data.index.name = \"age_group\"\n",
    "    data.columns = [\"uk_pops\"]\n",
    "    return data[\"uk_pops\"]"
   ]
  },
  {
   "cell_type": "code",
   "execution_count": null,
   "id": "a472159c-07f5-4511-b162-8e7e00ed0fa5",
   "metadata": {},
   "outputs": [],
   "source": [
    "get_uk_census_pop()"
   ]
  }
 ],
 "metadata": {
  "kernelspec": {
   "display_name": "Python 3 (ipykernel)",
   "language": "python",
   "name": "python3"
  },
  "language_info": {
   "codemirror_mode": {
    "name": "ipython",
    "version": 3
   },
   "file_extension": ".py",
   "mimetype": "text/x-python",
   "name": "python",
   "nbconvert_exporter": "python",
   "pygments_lexer": "ipython3",
   "version": "3.10.11"
  }
 },
 "nbformat": 4,
 "nbformat_minor": 5
}
