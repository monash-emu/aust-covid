{
 "cells": [
  {
   "cell_type": "code",
   "execution_count": 3,
   "id": "c638bc06-6e54-4274-bfa5-5e7de13fe267",
   "metadata": {},
   "outputs": [],
   "source": [
    "import pandas as pd\n",
    "from pathlib import Path\n",
    "from aust_covid.model import DATA_PATH"
   ]
  },
  {
   "cell_type": "code",
   "execution_count": 18,
   "id": "7612047f-395d-478e-818f-fc54fad84535",
   "metadata": {},
   "outputs": [],
   "source": [
    "def get_uk_census_pop():\n",
    "    sheet_name = \"cens_01nscbirth__custom_6028079_page_spreadsheet.xlsx\"\n",
    "    data = pd.read_excel(\n",
    "        DATA_PATH / sheet_name, \n",
    "        sheet_name=\"Sheet 1\", \n",
    "        skiprows=list(range(0, 11)) + list(range(30, 37)), \n",
    "        usecols=\"B:C\", \n",
    "        index_col=0,\n",
    "    )\n",
    "    data.index.name = \"age_group\"\n",
    "    data.columns = [\"uk_pops\"]\n",
    "    return data[\"uk_pops\"]"
   ]
  },
  {
   "cell_type": "code",
   "execution_count": 19,
   "id": "a472159c-07f5-4511-b162-8e7e00ed0fa5",
   "metadata": {},
   "outputs": [
    {
     "name": "stderr",
     "output_type": "stream",
     "text": [
      "c:\\Users\\ehug0006\\Miniconda3\\envs\\aust_covid_env\\lib\\site-packages\\openpyxl\\styles\\stylesheet.py:226: UserWarning: Workbook contains no default style, apply openpyxl's default\n",
      "  warn(\"Workbook contains no default style, apply openpyxl's default\")\n"
     ]
    },
    {
     "data": {
      "text/plain": [
       "age_group\n",
       "Less than 5 years      3430414.0\n",
       "From 5 to 9 years      3654503.0\n",
       "From 10 to 14 years    3773801.0\n",
       "From 15 to 19 years    3510108.0\n",
       "From 20 to 24 years    3305076.0\n",
       "From 25 to 29 years    3530876.0\n",
       "From 30 to 34 years    4144140.0\n",
       "From 35 to 39 years    4281802.0\n",
       "From 40 to 44 years    3800098.0\n",
       "From 45 to 49 years    3435759.0\n",
       "From 50 to 54 years    3816227.0\n",
       "From 55 to 59 years    3176212.0\n",
       "From 60 to 64 years    2721874.0\n",
       "From 65 to 69 years    2471480.0\n",
       "From 70 to 74 years    2246308.0\n",
       "From 75 to 79 years    1908540.0\n",
       "From 80 to 84 years    1281227.0\n",
       "85 years or over       1101829.0\n",
       "Name: uk_pops, dtype: float64"
      ]
     },
     "execution_count": 19,
     "metadata": {},
     "output_type": "execute_result"
    }
   ],
   "source": [
    "get_uk_census_pop()"
   ]
  }
 ],
 "metadata": {
  "kernelspec": {
   "display_name": "Python 3 (ipykernel)",
   "language": "python",
   "name": "python3"
  },
  "language_info": {
   "codemirror_mode": {
    "name": "ipython",
    "version": 3
   },
   "file_extension": ".py",
   "mimetype": "text/x-python",
   "name": "python",
   "nbconvert_exporter": "python",
   "pygments_lexer": "ipython3",
   "version": "3.10.11"
  }
 },
 "nbformat": 4,
 "nbformat_minor": 5
}
