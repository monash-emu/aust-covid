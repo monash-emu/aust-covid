{
 "cells": [
  {
   "cell_type": "code",
   "execution_count": null,
   "id": "c638bc06-6e54-4274-bfa5-5e7de13fe267",
   "metadata": {},
   "outputs": [],
   "source": [
    "import pandas as pd\n",
    "from pathlib import Path\n",
    "from aust_covid.inputs import DATA_PATH, load_uk_pop_data, load_pop_data"
   ]
  },
  {
   "cell_type": "code",
   "execution_count": null,
   "id": "a472159c-07f5-4511-b162-8e7e00ed0fa5",
   "metadata": {},
   "outputs": [],
   "source": [
    "raw_uk_data = load_uk_pop_data()\n",
    "uk_pop_data = raw_uk_data[:14]\n",
    "uk_pop_data[\"70 years and up\"] = raw_uk_data[14:].sum()\n",
    "uk_pop_data.plot()"
   ]
  },
  {
   "cell_type": "code",
   "execution_count": null,
   "id": "5e13fb07-a9df-4a5b-b71e-1abce047ace5",
   "metadata": {},
   "outputs": [],
   "source": [
    "pop_data = load_pop_data()[0][\"Australia\"]\n",
    "pop_data"
   ]
  },
  {
   "cell_type": "code",
   "execution_count": null,
   "id": "bbcc5bd8-ed2c-4738-b633-b5c38cc06615",
   "metadata": {},
   "outputs": [],
   "source": [
    "import plotly.express as px\n",
    "\n",
    "pop_fig = px.bar(uk_pop_data, labels={\"value\": \"population\", \"age_group\": \"\"})\n",
    "pop_fig.update_layout(showlegend=False)\n"
   ]
  }
 ],
 "metadata": {
  "kernelspec": {
   "display_name": "Python 3 (ipykernel)",
   "language": "python",
   "name": "python3"
  },
  "language_info": {
   "codemirror_mode": {
    "name": "ipython",
    "version": 3
   },
   "file_extension": ".py",
   "mimetype": "text/x-python",
   "name": "python",
   "nbconvert_exporter": "python",
   "pygments_lexer": "ipython3",
   "version": "3.10.4"
  }
 },
 "nbformat": 4,
 "nbformat_minor": 5
}
