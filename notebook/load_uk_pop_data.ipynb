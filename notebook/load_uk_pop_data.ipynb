{
 "cells": [
  {
   "cell_type": "code",
   "execution_count": null,
   "id": "c638bc06-6e54-4274-bfa5-5e7de13fe267",
   "metadata": {},
   "outputs": [],
   "source": [
    "import pandas as pd\n",
    "from pathlib import Path\n",
    "from aust_covid.model import DATA_PATH, get_uk_pop_data"
   ]
  },
  {
   "cell_type": "code",
   "execution_count": null,
   "id": "a472159c-07f5-4511-b162-8e7e00ed0fa5",
   "metadata": {},
   "outputs": [],
   "source": [
    "get_uk_pop_data().plot()"
   ]
  }
 ],
 "metadata": {
  "kernelspec": {
   "display_name": "Python 3 (ipykernel)",
   "language": "python",
   "name": "python3"
  },
  "language_info": {
   "codemirror_mode": {
    "name": "ipython",
    "version": 3
   },
   "file_extension": ".py",
   "mimetype": "text/x-python",
   "name": "python",
   "nbconvert_exporter": "python",
   "pygments_lexer": "ipython3",
   "version": "3.10.4"
  }
 },
 "nbformat": 4,
 "nbformat_minor": 5
}
