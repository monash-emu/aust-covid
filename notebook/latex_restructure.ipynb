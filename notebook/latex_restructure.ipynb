{
 "cells": [
  {
   "cell_type": "code",
   "execution_count": null,
   "id": "639b229a-ae5c-4299-a28c-f727cd75a517",
   "metadata": {},
   "outputs": [],
   "source": [
    "from pathlib import Path\n",
    "from datetime import datetime\n",
    "\n",
    "from aust_covid.inputs import load_calibration_targets, load_who_data, load_serosurvey_data, load_pop_data\n",
    "from aust_covid import model\n",
    "from general_utils.tex_utils import StandardTexDoc\n",
    "from general_utils.parameter_utils import load_param_info\n",
    "\n",
    "PROJECT_PATH = Path().resolve().parent"
   ]
  },
  {
   "cell_type": "code",
   "execution_count": null,
   "id": "c196fdbb-4f02-414c-8941-855b60689d53",
   "metadata": {},
   "outputs": [],
   "source": [
    "analysis_start_date = datetime(2021, 7, 1)\n",
    "analysis_end_date = datetime(2022, 10, 1)\n",
    "plot_start_date = datetime(2021, 12, 1)\n",
    "reference_date = datetime(2019, 12, 31)"
   ]
  },
  {
   "cell_type": "code",
   "execution_count": null,
   "id": "8afcf8a1-10e6-4156-8fb7-fd00e201de54",
   "metadata": {},
   "outputs": [],
   "source": [
    "app_doc = StandardTexDoc(PROJECT_PATH / 'supplement', 'supplement', \"Australia's 2023 Omicron Waves Supplement\", 'austcovid')"
   ]
  },
  {
   "cell_type": "code",
   "execution_count": null,
   "id": "b7f27415-143f-4b70-805e-68ef0724425d",
   "metadata": {},
   "outputs": [],
   "source": [
    "targets_average_window = 7\n",
    "smoothed_composite_cases = load_calibration_targets(datetime(2021, 12, 15), targets_average_window, app_doc)\n",
    "death_data = load_who_data(targets_average_window, app_doc)"
   ]
  },
  {
   "cell_type": "code",
   "execution_count": null,
   "id": "a21e186d-e686-4142-bd8a-a468c4d537d3",
   "metadata": {},
   "outputs": [],
   "source": [
    "parameters = {\n",
    "    'ba1_seed_time': 620.0,\n",
    "    'start_cdr': 0.3,\n",
    "    'contact_rate': 0.07,\n",
    "    'vacc_prop': 0.4,\n",
    "    'infectious_period': 2.5,\n",
    "    'natural_immunity_period': 60.0,\n",
    "    'ba2_seed_time': 660.0,\n",
    "    'ba2_escape': 0.4,\n",
    "    'ba5_seed_time': 715.0,\n",
    "    'ba5_escape': 0.54,\n",
    "    'latent_period': 1.8,\n",
    "    'seed_rate': 1.0,\n",
    "    'seed_duration': 10.0,\n",
    "    'notifs_shape': 2.0,\n",
    "    'notifs_mean': 4.0,\n",
    "    'vacc_infect_protect': 0.4,\n",
    "    'rural_susc_adj': 1.0,\n",
    "    'wa_reopen_period': 30.0,\n",
    "    'deaths_shape': 2.0,\n",
    "    'deaths_mean': 20.0,\n",
    "    'ifr_0': 0.0,\n",
    "    'ifr_5': 0.0,\n",
    "    'ifr_10': 0.0,\n",
    "    'ifr_15': 2.6e-5,\n",
    "    'ifr_20': 2.6e-5,\n",
    "    'ifr_25': 2.6e-5,\n",
    "    'ifr_30': 2.6e-5,\n",
    "    'ifr_35': 5.8e-5,\n",
    "    'ifr_40': 5.8e-5,\n",
    "    'ifr_45': 5.8e-5,\n",
    "    'ifr_50': 14.6e-5,\n",
    "    'ifr_55': 14.6e-5,\n",
    "    'ifr_60': 24.6e-5,\n",
    "    'ifr_65': 24.6e-5,\n",
    "    'ifr_70': 246e-5,\n",
    "    'ifr_75': 246e-5,\n",
    "}\n",
    "param_info = load_param_info(PROJECT_PATH / 'inputs' / 'parameters.yml', parameters)"
   ]
  },
  {
   "cell_type": "code",
   "execution_count": null,
   "id": "80bb3357-1a32-4076-8669-75e55fbfa027",
   "metadata": {},
   "outputs": [],
   "source": [
    "compartments = [\n",
    "    'susceptible',\n",
    "    'latent',\n",
    "    'infectious',\n",
    "    'recovered',\n",
    "    'waned',\n",
    "]\n",
    "aust_model = model.build_base_model(reference_date, compartments, analysis_start_date, analysis_end_date, app_doc)\n",
    "age_strata = list(range(0, 80, 5))\n",
    "model_pops = load_pop_data(age_strata, app_doc)"
   ]
  },
  {
   "cell_type": "code",
   "execution_count": null,
   "id": "8d5ed5ba-f072-4228-a925-034cf5b3f67c",
   "metadata": {},
   "outputs": [],
   "source": [
    "start_text = model.set_starting_conditions(aust_model, model_pops, app_doc)"
   ]
  },
  {
   "cell_type": "code",
   "execution_count": null,
   "id": "46fd97fc-ee2c-49cc-b345-e82df7568a48",
   "metadata": {},
   "outputs": [],
   "source": [
    "app_doc.prepare_doc()"
   ]
  },
  {
   "cell_type": "code",
   "execution_count": null,
   "id": "06a6ea27-28bf-4183-8132-ee3d8a43dbed",
   "metadata": {},
   "outputs": [],
   "source": [
    "for i in app_doc.content:\n",
    "    print('\\n')\n",
    "    print(i)\n",
    "    print(app_doc.content[i])"
   ]
  },
  {
   "cell_type": "code",
   "execution_count": null,
   "id": "160bed01-35b8-4103-8763-221ae9d6c1d4",
   "metadata": {},
   "outputs": [],
   "source": [
    "app_doc.emit_doc()"
   ]
  }
 ],
 "metadata": {
  "kernelspec": {
   "display_name": "Python 3 (ipykernel)",
   "language": "python",
   "name": "python3"
  },
  "language_info": {
   "codemirror_mode": {
    "name": "ipython",
    "version": 3
   },
   "file_extension": ".py",
   "mimetype": "text/x-python",
   "name": "python",
   "nbconvert_exporter": "python",
   "pygments_lexer": "ipython3",
   "version": "3.10.0"
  }
 },
 "nbformat": 4,
 "nbformat_minor": 5
}
