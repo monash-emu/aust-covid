{
 "cells": [
  {
   "cell_type": "code",
   "execution_count": null,
   "id": "df6fa505-47da-4935-a42d-48e703318fab",
   "metadata": {},
   "outputs": [],
   "source": [
    "from pathlib import Path\n",
    "from general_utils.parameter_utils import load_param_info\n",
    "from general_utils.tex_utils import StandardTexDoc\n",
    "import pandas as pd\n",
    "\n",
    "PROJECT_PATH = Path().resolve().parent\n",
    "DATA_PATH = PROJECT_PATH / 'data'"
   ]
  },
  {
   "cell_type": "code",
   "execution_count": null,
   "id": "3754edb3-6aee-464a-ba34-b40725e0983a",
   "metadata": {},
   "outputs": [],
   "source": [
    "parameters = {\n",
    "    'ba1_seed_time': 620.0,\n",
    "    'start_cdr': 0.3,\n",
    "    'contact_rate': 0.07,\n",
    "    'vacc_prop': 0.4,\n",
    "    'infectious_period': 2.5,\n",
    "    'natural_immunity_period': 60.0,\n",
    "    'ba2_seed_time': 660.0,\n",
    "    'ba2_escape': 0.4,\n",
    "    'ba5_seed_time': 715.0,\n",
    "    'ba5_escape': 0.54,\n",
    "    'latent_period': 1.8,\n",
    "    'seed_rate': 1.0,\n",
    "    'seed_duration': 10.0,\n",
    "    'notifs_shape': 2.0,\n",
    "    'notifs_mean': 4.0,\n",
    "    'vacc_infect_protect': 0.4,\n",
    "    'wa_reopen_period': 30.0,\n",
    "    'deaths_shape': 2.0,\n",
    "    'deaths_mean': 20.0,\n",
    "    'ifr_0': 0.0,\n",
    "    'ifr_5': 0.0,\n",
    "    'ifr_10': 0.0,\n",
    "    'ifr_15': 2.6e-5,\n",
    "    'ifr_20': 2.6e-5,\n",
    "    'ifr_25': 2.6e-5,\n",
    "    'ifr_30': 2.6e-5,\n",
    "    'ifr_35': 5.8e-5,\n",
    "    'ifr_40': 5.8e-5,\n",
    "    'ifr_45': 5.8e-5,\n",
    "    'ifr_50': 14.6e-5,\n",
    "    'ifr_55': 14.6e-5,\n",
    "    'ifr_60': 24.6e-5,\n",
    "    'ifr_65': 24.6e-5,\n",
    "    'ifr_70': 246e-5,\n",
    "    'ifr_75': 246e-5,\n",
    "    'ba2_rel_ifr': 0.5,\n",
    "}\n",
    "param_info = load_param_info(PROJECT_PATH / 'inputs' / 'parameters.yml', parameters)"
   ]
  },
  {
   "cell_type": "code",
   "execution_count": null,
   "id": "093d7e7e-8e53-4eae-a75a-b21f50aa73c5",
   "metadata": {},
   "outputs": [],
   "source": [
    "app_doc = StandardTexDoc(PROJECT_PATH / 'supplement', 'supplement', \"Australia's 2023 Omicron Waves Supplement\", 'austcovid')"
   ]
  },
  {
   "cell_type": "code",
   "execution_count": null,
   "id": "8ce523aa-f6ff-4879-b3a4-a5210ece5e06",
   "metadata": {},
   "outputs": [],
   "source": [
    "# Process parameter info dataframe into the actual parameter information\n",
    "param_table = param_info.iloc[:, 1:]\n",
    "param_table.index = param_info['descriptions']\n",
    "param_table.columns = param_table.columns.str.replace('_', ' ').str.capitalize()"
   ]
  },
  {
   "cell_type": "code",
   "execution_count": null,
   "id": "2d22b457-54a0-4df1-9e29-05e04b0c49d3",
   "metadata": {},
   "outputs": [],
   "source": [
    "table = param_table.style.to_latex()"
   ]
  },
  {
   "cell_type": "code",
   "execution_count": null,
   "id": "32926175-6617-440e-a264-c0603ee1bb24",
   "metadata": {},
   "outputs": [],
   "source": [
    "col_str = '\\\\begin{tabular}{p{2.5cm}p{2.5cm}p{2.5cm}p{2.5cm}}'\n",
    "table = table.replace('\\\\begin{tabular}{lllr}', col_str)"
   ]
  },
  {
   "cell_type": "code",
   "execution_count": null,
   "id": "cc98c11b-9f27-4f79-9f74-ba0a6fd7787e",
   "metadata": {},
   "outputs": [],
   "source": [
    "app_doc.add_line(table, 'Test section')"
   ]
  },
  {
   "cell_type": "code",
   "execution_count": null,
   "id": "d3f56537-6338-45a5-8b22-0cb584754f66",
   "metadata": {},
   "outputs": [],
   "source": [
    "# param_info"
   ]
  },
  {
   "cell_type": "code",
   "execution_count": null,
   "id": "0712b043-ef26-4d20-b97a-fa69009071de",
   "metadata": {},
   "outputs": [],
   "source": [
    "app_doc.write_doc()"
   ]
  }
 ],
 "metadata": {
  "kernelspec": {
   "display_name": "Python 3 (ipykernel)",
   "language": "python",
   "name": "python3"
  },
  "language_info": {
   "codemirror_mode": {
    "name": "ipython",
    "version": 3
   },
   "file_extension": ".py",
   "mimetype": "text/x-python",
   "name": "python",
   "nbconvert_exporter": "python",
   "pygments_lexer": "ipython3",
   "version": "3.10.0"
  }
 },
 "nbformat": 4,
 "nbformat_minor": 5
}
