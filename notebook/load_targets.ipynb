{
 "cells": [
  {
   "cell_type": "code",
   "execution_count": null,
   "id": "5b777a51-7868-4251-86f2-b7561fd62886",
   "metadata": {},
   "outputs": [],
   "source": [
    "import pandas as pd\n",
    "from aust_covid.model import DATA_PATH"
   ]
  },
  {
   "cell_type": "code",
   "execution_count": null,
   "id": "c747f160-796a-4177-8b12-e42b9e8ebfea",
   "metadata": {},
   "outputs": [],
   "source": [
    "aust_data = pd.read_csv(DATA_PATH / \"Aus_covid_data.csv\", index_col=\"date\")\n",
    "aust_data.index = pd.to_datetime(aust_data.index).dropna()\n",
    "national_data = aust_data[aust_data[\"region\"] == \"AUS\"]"
   ]
  },
  {
   "cell_type": "code",
   "execution_count": null,
   "id": "74ef1c19-c41c-4db5-be7c-b2c1945dac45",
   "metadata": {},
   "outputs": [],
   "source": [
    "national_data[\"cases\"].rolling(window=7).mean().plot()"
   ]
  }
 ],
 "metadata": {
  "kernelspec": {
   "display_name": "Python 3 (ipykernel)",
   "language": "python",
   "name": "python3"
  },
  "language_info": {
   "codemirror_mode": {
    "name": "ipython",
    "version": 3
   },
   "file_extension": ".py",
   "mimetype": "text/x-python",
   "name": "python",
   "nbconvert_exporter": "python",
   "pygments_lexer": "ipython3",
   "version": "3.10.4"
  }
 },
 "nbformat": 4,
 "nbformat_minor": 5
}
