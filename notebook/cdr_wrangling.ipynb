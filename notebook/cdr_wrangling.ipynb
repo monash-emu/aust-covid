{
 "cells": [
  {
   "cell_type": "code",
   "execution_count": null,
   "id": "00e19c61-4dc3-4fe6-b5dd-e6561dc86d83",
   "metadata": {},
   "outputs": [],
   "source": [
    "from aust_covid.inputs import load_household_impacts_data"
   ]
  },
  {
   "cell_type": "code",
   "execution_count": null,
   "id": "7ac226b9-9789-4522-8f4a-54f22f48c2ea",
   "metadata": {},
   "outputs": [],
   "source": [
    "hh_impact = load_household_impacts_data()"
   ]
  },
  {
   "cell_type": "code",
   "execution_count": null,
   "id": "3227ba4f-a468-4872-950f-62076e09724b",
   "metadata": {},
   "outputs": [],
   "source": [
    "hh_test_ratio = hh_impact[\"test\"] / hh_impact[\"sympts\"]\n",
    "hh_test_ratio"
   ]
  }
 ],
 "metadata": {
  "kernelspec": {
   "display_name": "Python 3 (ipykernel)",
   "language": "python",
   "name": "python3"
  },
  "language_info": {
   "codemirror_mode": {
    "name": "ipython",
    "version": 3
   },
   "file_extension": ".py",
   "mimetype": "text/x-python",
   "name": "python",
   "nbconvert_exporter": "python",
   "pygments_lexer": "ipython3",
   "version": "3.10.11"
  }
 },
 "nbformat": 4,
 "nbformat_minor": 5
}
