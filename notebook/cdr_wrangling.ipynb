{
 "cells": [
  {
   "cell_type": "code",
   "execution_count": null,
   "id": "00e19c61-4dc3-4fe6-b5dd-e6561dc86d83",
   "metadata": {},
   "outputs": [],
   "source": [
    "from datetime import datetime\n",
    "from summer2.utils import Epoch\n",
    "import numpy as np\n",
    "import pandas as pd\n",
    "pd.options.plotting.backend = \"plotly\"\n",
    "\n",
    "from aust_covid.inputs import load_household_impacts_data\n",
    "from summer2.functions.time import get_linear_interpolation_function"
   ]
  },
  {
   "cell_type": "code",
   "execution_count": null,
   "id": "7ac226b9-9789-4522-8f4a-54f22f48c2ea",
   "metadata": {},
   "outputs": [],
   "source": [
    "# Get data, using test to symptomatic ratio\n",
    "hh_impact = load_household_impacts_data()\n",
    "hh_test_ratio = hh_impact[\"test_prop\"] / hh_impact[\"sympt_prop\"]"
   ]
  },
  {
   "cell_type": "code",
   "execution_count": null,
   "id": "815cf768-8e12-458b-a416-fcb0294ad8da",
   "metadata": {},
   "outputs": [],
   "source": [
    "hh_impact.plot(labels={\"value\": \"Reporting percentage\", \"index\": \"\"})"
   ]
  },
  {
   "cell_type": "code",
   "execution_count": null,
   "id": "9c51bbb4-330e-44c3-a8d2-1cd3ba4b1128",
   "metadata": {},
   "outputs": [],
   "source": [
    "# Get function that interpolates through data points (can get this from the model object)\n",
    "aust_epoch = Epoch(datetime(2019, 12, 31))\n",
    "ratio_interp = get_linear_interpolation_function(aust_epoch.dti_to_index(hh_test_ratio.index), hh_test_ratio.to_numpy())"
   ]
  },
  {
   "cell_type": "code",
   "execution_count": null,
   "id": "a1ee2a14-5f47-4504-a90f-e095abb91579",
   "metadata": {},
   "outputs": [],
   "source": [
    "# Get some x-values and look a outputs\n",
    "eval_start = aust_epoch.datetime_to_number(datetime(2022, 1, 1))\n",
    "eval_end = aust_epoch.datetime_to_number(datetime(2022, 12, 31))\n",
    "n_times = 40\n",
    "eval_times = np.linspace(eval_start, eval_end, n_times)\n",
    "out_array = pd.Series(\n",
    "    [float(ratio_interp.evaluate(model_variables={\"time\": t})) for t in eval_times], \n",
    "    index=aust_epoch.index_to_dti(eval_times),\n",
    ")\n",
    "out_array.plot(labels={\"value\": \"ratio\", \"index\": \"\"}, title=\"Test to symptomatic ratio over time\")"
   ]
  },
  {
   "cell_type": "code",
   "execution_count": null,
   "id": "af9cee06-376f-4a80-a5d3-07994b20a60e",
   "metadata": {},
   "outputs": [],
   "source": [
    "def get_param_to_exp_plateau(\n",
    "    input_request: float, \n",
    "    output_request: float,\n",
    ") -> float:\n",
    "    \"\"\"\n",
    "    Get the parameter needed to ensure the function:\n",
    "    output = 1 - exp(-param * input)\n",
    "    passes through the requested input and output.\n",
    "    \n",
    "    Args:\n",
    "        input_request: Independent variable at known point\n",
    "        output_request: Dependent variable at known point\n",
    "    \"\"\"\n",
    "    return -np.log(1.0 - output_request) / input_request"
   ]
  },
  {
   "cell_type": "code",
   "execution_count": null,
   "id": "1879b22c-6a9f-4772-b0f7-87459916e71f",
   "metadata": {},
   "outputs": [],
   "source": [
    "# Sample the starting CDR from a normal distribution\n",
    "n_samples = 20\n",
    "min_cdr = 0.06\n",
    "max_cdr = 0.14\n",
    "start_cdr_samples = np.random.rand(n_samples) * (max_cdr - min_cdr) + min_cdr"
   ]
  },
  {
   "cell_type": "code",
   "execution_count": null,
   "id": "7d466d5b-f439-4788-b9a4-a911cfee31bc",
   "metadata": {},
   "outputs": [],
   "source": [
    "# Get the corresponding parameter values for the exponential function\n",
    "exp_param = get_param_to_exp_plateau(hh_test_ratio[0], start_cdr_samples)\n",
    "\n",
    "# Collate starting CDRs with ratios\n",
    "ratio_to_cdr_df = pd.DataFrame(columns=start_cdr_samples)\n",
    "for i in range(len(start_cdr_samples)):\n",
    "    cdr_values = 1.0 - np.exp(-hh_test_ratio * exp_param[i])\n",
    "    ratio_to_cdr_df[start_cdr_samples[i]] = pd.Series(list(cdr_values), index=hh_test_ratio)\n",
    "ratio_to_cdr_df.plot(markers=True, labels={\"value\": \"CDR\", \"index\": \"ratio\"}, title=\"Ratio to modelled CDR value\")"
   ]
  },
  {
   "cell_type": "code",
   "execution_count": null,
   "id": "c3915f3f-b3b2-43d8-874b-efc0ff17cd56",
   "metadata": {},
   "outputs": [],
   "source": [
    "date_to_cdr = ratio_to_cdr_df\n",
    "date_to_cdr.index = hh_impact.index\n",
    "date_to_cdr.plot(markers=True, labels={\"value\": \"CDR\", \"index\": \"\"}, title=\"Modelled CDR over time\")"
   ]
  }
 ],
 "metadata": {
  "kernelspec": {
   "display_name": "Python 3 (ipykernel)",
   "language": "python",
   "name": "python3"
  },
  "language_info": {
   "codemirror_mode": {
    "name": "ipython",
    "version": 3
   },
   "file_extension": ".py",
   "mimetype": "text/x-python",
   "name": "python",
   "nbconvert_exporter": "python",
   "pygments_lexer": "ipython3",
   "version": "3.10.11"
  }
 },
 "nbformat": 4,
 "nbformat_minor": 5
}
