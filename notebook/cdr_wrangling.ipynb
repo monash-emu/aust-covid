{
 "cells": [
  {
   "cell_type": "code",
   "execution_count": null,
   "id": "00e19c61-4dc3-4fe6-b5dd-e6561dc86d83",
   "metadata": {},
   "outputs": [],
   "source": [
    "from datetime import datetime\n",
    "from summer2.utils import Epoch\n",
    "import numpy as np\n",
    "import pandas as pd\n",
    "\n",
    "from aust_covid.inputs import load_household_impacts_data\n",
    "from summer2.functions.time import get_linear_interpolation_function"
   ]
  },
  {
   "cell_type": "code",
   "execution_count": null,
   "id": "afed4690-b46d-422a-b3e6-bbc5849835a4",
   "metadata": {},
   "outputs": [],
   "source": [
    "aust_epoch = Epoch(datetime(2019, 12, 31))"
   ]
  },
  {
   "cell_type": "code",
   "execution_count": null,
   "id": "7ac226b9-9789-4522-8f4a-54f22f48c2ea",
   "metadata": {},
   "outputs": [],
   "source": [
    "hh_impact = load_household_impacts_data()\n",
    "hh_test_ratio = hh_impact[\"test\"] / hh_impact[\"sympts\"]"
   ]
  },
  {
   "cell_type": "code",
   "execution_count": null,
   "id": "9c51bbb4-330e-44c3-a8d2-1cd3ba4b1128",
   "metadata": {},
   "outputs": [],
   "source": [
    "cdr_func = get_linear_interpolation_function(aust_epoch.dti_to_index(hh_test_ratio.index), hh_test_ratio.to_numpy())"
   ]
  },
  {
   "cell_type": "code",
   "execution_count": null,
   "id": "a1ee2a14-5f47-4504-a90f-e095abb91579",
   "metadata": {},
   "outputs": [],
   "source": [
    "eval_start = aust_epoch.datetime_to_number(datetime(2022, 1, 1))\n",
    "eval_end = aust_epoch.datetime_to_number(datetime(2022, 12, 31))\n",
    "n_times = 10\n",
    "eval_times = np.linspace(eval_start, eval_end, n_times)"
   ]
  },
  {
   "cell_type": "code",
   "execution_count": null,
   "id": "72ea4580-296b-4c33-9b61-7d1298d9b33d",
   "metadata": {},
   "outputs": [],
   "source": [
    "out_array = pd.Series(\n",
    "    [float(cdr_func.evaluate(model_variables={\"time\": i})) for i in eval_times], \n",
    "    index=aust_epoch.index_to_dti(eval_times),\n",
    ")\n",
    "out_array.plot()"
   ]
  }
 ],
 "metadata": {
  "kernelspec": {
   "display_name": "Python 3 (ipykernel)",
   "language": "python",
   "name": "python3"
  },
  "language_info": {
   "codemirror_mode": {
    "name": "ipython",
    "version": 3
   },
   "file_extension": ".py",
   "mimetype": "text/x-python",
   "name": "python",
   "nbconvert_exporter": "python",
   "pygments_lexer": "ipython3",
   "version": "3.10.11"
  }
 },
 "nbformat": 4,
 "nbformat_minor": 5
}
