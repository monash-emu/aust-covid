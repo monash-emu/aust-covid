{
 "cells": [
  {
   "cell_type": "code",
   "execution_count": 2,
   "id": "85cdadac-2985-4822-955c-cc3418ab5bc5",
   "metadata": {},
   "outputs": [
    {
     "name": "stderr",
     "output_type": "stream",
     "text": [
      "c:\\Users\\ehug0006\\Miniconda3\\envs\\autumn310\\lib\\site-packages\\numpy\\_distributor_init.py:30: UserWarning: loaded more than 1 DLL from .libs:\n",
      "c:\\Users\\ehug0006\\Miniconda3\\envs\\autumn310\\lib\\site-packages\\numpy\\.libs\\libopenblas.FB5AE2TYXYH2IJRDKGDGQ3XBKLKTF43H.gfortran-win_amd64.dll\n",
      "c:\\Users\\ehug0006\\Miniconda3\\envs\\autumn310\\lib\\site-packages\\numpy\\.libs\\libopenblas.XWYDX2IKJW2NMTWSFYNGFUWKQU3LYTCZ.gfortran-win_amd64.dll\n",
      "  warnings.warn(\"loaded more than 1 DLL from .libs:\"\n",
      "c:\\Users\\ehug0006\\Miniconda3\\envs\\autumn310\\lib\\site-packages\\scipy\\__init__.py:146: UserWarning: A NumPy version >=1.16.5 and <1.23.0 is required for this version of SciPy (detected version 1.23.2\n",
      "  warnings.warn(f\"A NumPy version >={np_minversion} and <{np_maxversion}\"\n"
     ]
    }
   ],
   "source": [
    "\n",
    "import pandas as pd\n",
    "import plotly.express as px\n",
    "from fitter import Fitter\n",
    "from fitter import get_distributions"
   ]
  },
  {
   "cell_type": "code",
   "execution_count": null,
   "id": "93b4c2d2-273a-4746-8ded-e73004f27b7a",
   "metadata": {},
   "outputs": [],
   "source": [
    "# grab data from: https://melbourne.figshare.com/articles/dataset/Data_files_to_support_manuscript_A_modelling_approach_to_estimate_the_transmissibility_of_SARS-CoV-2_during_periods_of_high_low_and_zero_case_incidence/19517986/1\n",
    "\n",
    "df_vic = pd.read_csv(r'https://melbourne.figshare.com/ndownloader/files/34692721')\n",
    "df_nsw = pd.read_csv(r'https://melbourne.figshare.com/ndownloader/files/34692715')\n",
    "\n",
    "df = pd.concat([df_vic, df_nsw])"
   ]
  },
  {
   "cell_type": "code",
   "execution_count": 1,
   "id": "87e23d8b-958e-43d5-a328-dd58da22aa3e",
   "metadata": {},
   "outputs": [
    {
     "ename": "NameError",
     "evalue": "name 'df' is not defined",
     "output_type": "error",
     "traceback": [
      "\u001b[1;31m---------------------------------------------------------------------------\u001b[0m",
      "\u001b[1;31mNameError\u001b[0m                                 Traceback (most recent call last)",
      "\u001b[1;32mc:\\Users\\ehug0006\\emu\\aust-covid\\notebook\\symp_to_detect_data.ipynb Cell 3\u001b[0m in \u001b[0;36m<cell line: 2>\u001b[1;34m()\u001b[0m\n\u001b[0;32m      <a href='vscode-notebook-cell:/c%3A/Users/ehug0006/emu/aust-covid/notebook/symp_to_detect_data.ipynb#X13sZmlsZQ%3D%3D?line=0'>1</a>\u001b[0m \u001b[39m# describe mean\u001b[39;00m\n\u001b[1;32m----> <a href='vscode-notebook-cell:/c%3A/Users/ehug0006/emu/aust-covid/notebook/symp_to_detect_data.ipynb#X13sZmlsZQ%3D%3D?line=1'>2</a>\u001b[0m df[\u001b[39m'\u001b[39m\u001b[39mdelay\u001b[39m\u001b[39m'\u001b[39m]\u001b[39m.\u001b[39mmean()\n",
      "\u001b[1;31mNameError\u001b[0m: name 'df' is not defined"
     ]
    }
   ],
   "source": [
    "# describe mean\n",
    "df['delay'].mean()"
   ]
  },
  {
   "cell_type": "code",
   "execution_count": null,
   "id": "ac76d0fe-1ec8-40d9-8d28-67ca1df77fff",
   "metadata": {},
   "outputs": [],
   "source": [
    "fig = px.histogram(df, x='delay')\n",
    "\n",
    "#fig.add_vline(x=1,  annotation_text='delay of 1 day')\n",
    "\n",
    "fig.show()"
   ]
  },
  {
   "cell_type": "code",
   "execution_count": null,
   "id": "0be7b4ba-52c6-4bb8-bd1a-2c7f258909cf",
   "metadata": {},
   "outputs": [],
   "source": [
    "# disitrbitutions that can be passed as arguments below\n",
    "get_distributions()"
   ]
  },
  {
   "cell_type": "code",
   "execution_count": null,
   "id": "7a607408-584a-46e0-896c-497d5b813094",
   "metadata": {},
   "outputs": [],
   "source": [
    "#fit distributions using fitter\n",
    "\n",
    "# this fit 80 different distributions and is very slow - can use the argument 'common' to fit a subset or specify any from above\n",
    "f = Fitter(df['delay'])\n",
    "f.fit()\n",
    "\n",
    "# Plot and describe summar of distributions\n",
    "f.summary()"
   ]
  },
  {
   "cell_type": "code",
   "execution_count": null,
   "id": "d0fb06ef-98b1-4251-8809-ec76350df445",
   "metadata": {},
   "outputs": [],
   "source": [
    "# find best fitted distribution based on fit metrics\n",
    "f.get_best(method = 'aic')"
   ]
  },
  {
   "cell_type": "code",
   "execution_count": null,
   "id": "63de03c5-bed2-46bc-b74c-111780586d32",
   "metadata": {},
   "outputs": [],
   "source": [
    "# find the parameter values for a particular fitted distribution\n",
    "f.fitted_param['lognorm']"
   ]
  }
 ],
 "metadata": {
  "kernelspec": {
   "display_name": "Python 3 (ipykernel)",
   "language": "python",
   "name": "python3"
  },
  "language_info": {
   "codemirror_mode": {
    "name": "ipython",
    "version": 3
   },
   "file_extension": ".py",
   "mimetype": "text/x-python",
   "name": "python",
   "nbconvert_exporter": "python",
   "pygments_lexer": "ipython3",
   "version": "3.10.3"
  }
 },
 "nbformat": 4,
 "nbformat_minor": 5
}
