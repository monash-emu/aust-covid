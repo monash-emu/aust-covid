{
 "cells": [
  {
   "cell_type": "code",
   "execution_count": null,
   "id": "329a6fa9-57af-4e67-bcce-ba4dd51ae244",
   "metadata": {},
   "outputs": [],
   "source": [
    "import pandas as pd\n",
    "pd.options.plotting.backend = \"plotly\"\n",
    "from aust_covid.inputs import load_google_mob_year_df"
   ]
  },
  {
   "cell_type": "code",
   "execution_count": null,
   "id": "d93933c7-1a62-4221-bfb3-ef0359e1c373",
   "metadata": {},
   "outputs": [],
   "source": [
    "mob_21_22_df = pd.concat([load_google_mob_year_df(2021), load_google_mob_year_df(2022)])"
   ]
  },
  {
   "cell_type": "code",
   "execution_count": null,
   "id": "154978f7-7441-4022-b3d3-b26890a8fcaf",
   "metadata": {},
   "outputs": [],
   "source": [
    "non_resi_mob = mob_21_22_df[[col for col in mob_21_22_df.columns if \"residential\" not in col]]\n",
    "non_resi_mob.mean(axis=1).rolling(window=14).mean().dropna().plot()"
   ]
  }
 ],
 "metadata": {
  "kernelspec": {
   "display_name": "Python 3 (ipykernel)",
   "language": "python",
   "name": "python3"
  },
  "language_info": {
   "codemirror_mode": {
    "name": "ipython",
    "version": 3
   },
   "file_extension": ".py",
   "mimetype": "text/x-python",
   "name": "python",
   "nbconvert_exporter": "python",
   "pygments_lexer": "ipython3",
   "version": "3.10.11"
  }
 },
 "nbformat": 4,
 "nbformat_minor": 5
}
