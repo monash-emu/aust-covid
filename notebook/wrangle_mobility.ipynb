{
 "cells": [
  {
   "cell_type": "code",
   "execution_count": null,
   "id": "329a6fa9-57af-4e67-bcce-ba4dd51ae244",
   "metadata": {},
   "outputs": [],
   "source": [
    "import pandas as pd\n",
    "from pathlib import Path\n",
    "PROJECT_PATH = Path().resolve().parent\n",
    "DATA_PATH = PROJECT_PATH / \"data\""
   ]
  },
  {
   "cell_type": "code",
   "execution_count": null,
   "id": "f7494de1-7357-4b39-af9c-f1b64a9ea944",
   "metadata": {},
   "outputs": [],
   "source": [
    "mobility_data = pd.read_csv(DATA_PATH / \"2020_AU_Region_Mobility_Report.csv\")\n",
    "mobility_data = mobility_data[[not isinstance(i, str) for i in mobility_data[\"sub_region_1\"]]]\n",
    "mob_cols = [i for i in mobility_data.columns if \"percent_\" in i]\n",
    "mobility_data = mobility_data[mob_cols]"
   ]
  },
  {
   "cell_type": "code",
   "execution_count": null,
   "id": "418da920-e834-4591-8460-fba5ed3a5997",
   "metadata": {},
   "outputs": [],
   "source": [
    "mobility_data.plot()"
   ]
  }
 ],
 "metadata": {
  "kernelspec": {
   "display_name": "Python 3 (ipykernel)",
   "language": "python",
   "name": "python3"
  },
  "language_info": {
   "codemirror_mode": {
    "name": "ipython",
    "version": 3
   },
   "file_extension": ".py",
   "mimetype": "text/x-python",
   "name": "python",
   "nbconvert_exporter": "python",
   "pygments_lexer": "ipython3",
   "version": "3.10.11"
  }
 },
 "nbformat": 4,
 "nbformat_minor": 5
}
