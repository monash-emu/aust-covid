{
 "cells": [
  {
   "cell_type": "code",
   "execution_count": null,
   "id": "329a6fa9-57af-4e67-bcce-ba4dd51ae244",
   "metadata": {},
   "outputs": [],
   "source": [
    "import pandas as pd\n",
    "pd.options.plotting.backend = \"plotly\"\n",
    "from pathlib import Path\n",
    "PROJECT_PATH = Path().resolve().parent\n",
    "DATA_PATH = PROJECT_PATH / \"data\""
   ]
  },
  {
   "cell_type": "code",
   "execution_count": null,
   "id": "db0ea611-aff5-436d-8f2d-187ad2608159",
   "metadata": {},
   "outputs": [],
   "source": [
    "def load_google_mob_year_df(year=int) -> pd.DataFrame:\n",
    "    mob_df = pd.read_csv(DATA_PATH / f\"{year}_AU_Region_Mobility_Report.csv\", index_col=8)\n",
    "    mob_df = mob_df[[isinstance(region, float) for region in mob_df[\"sub_region_1\"]]]  # National data subregion is given as nan\n",
    "    mob_cols = [col for col in mob_df.columns if \"percent_change_from_baseline\" in col]\n",
    "    mob_df = mob_df[mob_cols]\n",
    "    mob_df.index = pd.to_datetime(mob_df.index)\n",
    "    return mob_df"
   ]
  },
  {
   "cell_type": "code",
   "execution_count": null,
   "id": "d93933c7-1a62-4221-bfb3-ef0359e1c373",
   "metadata": {},
   "outputs": [],
   "source": [
    "mob_21_22_df = pd.concat([load_google_mob_year_df(2021), load_google_mob_year_df(2022)])"
   ]
  },
  {
   "cell_type": "code",
   "execution_count": null,
   "id": "6ea0fa44-6192-4027-980c-977d12af99c8",
   "metadata": {},
   "outputs": [],
   "source": [
    "mob_21_22_df.plot()"
   ]
  }
 ],
 "metadata": {
  "kernelspec": {
   "display_name": "Python 3 (ipykernel)",
   "language": "python",
   "name": "python3"
  },
  "language_info": {
   "codemirror_mode": {
    "name": "ipython",
    "version": 3
   },
   "file_extension": ".py",
   "mimetype": "text/x-python",
   "name": "python",
   "nbconvert_exporter": "python",
   "pygments_lexer": "ipython3",
   "version": "3.10.11"
  }
 },
 "nbformat": 4,
 "nbformat_minor": 5
}
