{
 "cells": [
  {
   "cell_type": "code",
   "execution_count": null,
   "id": "ce21963a-d3ff-4c71-86bb-2883170e451d",
   "metadata": {},
   "outputs": [],
   "source": [
    "from pathlib import Path\n",
    "import pandas as pd\n",
    "pd.options.plotting.backend = \"plotly\""
   ]
  },
  {
   "cell_type": "code",
   "execution_count": null,
   "id": "7626a23c-742a-4221-ad43-1d300bac350f",
   "metadata": {},
   "outputs": [],
   "source": [
    "PROJECT_PATH = Path().resolve().parent\n",
    "DATA_PATH = PROJECT_PATH / \"data\""
   ]
  },
  {
   "cell_type": "code",
   "execution_count": null,
   "id": "db87303f-cf52-49b2-8958-e678257f0139",
   "metadata": {},
   "outputs": [],
   "source": [
    "aust_2021_data_check = pd.read_csv(DATA_PATH / \"aust_2021_surv_data.csv\", index_col=0)[\"new_cases\"]"
   ]
  },
  {
   "cell_type": "code",
   "execution_count": null,
   "id": "2f7ab7c0-5897-4cc7-9087-346ba60c38e7",
   "metadata": {},
   "outputs": [],
   "source": [
    "aust_2021_data_check.plot()"
   ]
  }
 ],
 "metadata": {
  "kernelspec": {
   "display_name": "Python 3 (ipykernel)",
   "language": "python",
   "name": "python3"
  },
  "language_info": {
   "codemirror_mode": {
    "name": "ipython",
    "version": 3
   },
   "file_extension": ".py",
   "mimetype": "text/x-python",
   "name": "python",
   "nbconvert_exporter": "python",
   "pygments_lexer": "ipython3",
   "version": "3.10.11"
  }
 },
 "nbformat": 4,
 "nbformat_minor": 5
}
