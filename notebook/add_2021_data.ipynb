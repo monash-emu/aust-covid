{
 "cells": [
  {
   "cell_type": "code",
   "execution_count": null,
   "id": "ce21963a-d3ff-4c71-86bb-2883170e451d",
   "metadata": {},
   "outputs": [],
   "source": [
    "import pandas as pd\n",
    "pd.options.plotting.backend = \"plotly\"\n",
    "import datetime"
   ]
  },
  {
   "cell_type": "code",
   "execution_count": null,
   "id": "addee74d-7afa-4f31-895d-f8669ebb2ede",
   "metadata": {},
   "outputs": [],
   "source": [
    "def get_aust_2021_data():\n",
    "    all_data = pd.read_csv(\"https://raw.githubusercontent.com/owid/covid-19-data/master/public/data/jhu/full_data.csv\", index_col=0)\n",
    "    working_data = all_data[all_data[\"location\"] == \"Australia\"]\n",
    "    working_data.index = pd.to_datetime(working_data.index)\n",
    "    return working_data[working_data.index < datetime.datetime(2022, 1, 1)]"
   ]
  },
  {
   "cell_type": "code",
   "execution_count": null,
   "id": "67ad60af-b94c-4bce-8458-70fae014f819",
   "metadata": {},
   "outputs": [],
   "source": [
    "get_aust_2021_data()[\"new_cases\"].plot()"
   ]
  }
 ],
 "metadata": {
  "kernelspec": {
   "display_name": "Python 3 (ipykernel)",
   "language": "python",
   "name": "python3"
  },
  "language_info": {
   "codemirror_mode": {
    "name": "ipython",
    "version": 3
   },
   "file_extension": ".py",
   "mimetype": "text/x-python",
   "name": "python",
   "nbconvert_exporter": "python",
   "pygments_lexer": "ipython3",
   "version": "3.10.11"
  }
 },
 "nbformat": 4,
 "nbformat_minor": 5
}
