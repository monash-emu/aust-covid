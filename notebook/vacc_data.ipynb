{
 "cells": [
  {
   "cell_type": "code",
   "execution_count": null,
   "id": "0e5c882f-481a-4547-a389-ffcb1adca6b1",
   "metadata": {},
   "outputs": [],
   "source": [
    "import pandas as pd\n",
    "pd.options.plotting.backend = 'plotly'"
   ]
  },
  {
   "cell_type": "code",
   "execution_count": null,
   "id": "5bd2f99a-6f7c-462c-8252-3fa5ca9fd413",
   "metadata": {},
   "outputs": [],
   "source": [
    "vacc_data = pd.read_excel('../data/covid-19-vaccination-vaccination-data-22-december-2022.xlsx', index_col=0)['Value']"
   ]
  },
  {
   "cell_type": "code",
   "execution_count": null,
   "id": "4a61a7e7-02ab-4b29-bd28-50a94ca1d47d",
   "metadata": {},
   "outputs": [],
   "source": [
    "agegroups = ['16-19'] + [f'{age}-{age + 4}' for age in range(20, 95, 5)] + ['95+']\n",
    "final_vacc_data = pd.DataFrame(\n",
    "    {\n",
    "        '1+': vacc_data[[f'Age group - {age} - Number of people who have received at least 1 dose' for age in agegroups]].values,\n",
    "        '2+': vacc_data[[f'Age group - {age} - Number of people who have received at least 2 doses' for age in agegroups]].values,\n",
    "        'pop': vacc_data[[f'Age group - {age} - Population' for age in agegroups]].values,\n",
    "    },\n",
    "    index=agegroups,\n",
    ")"
   ]
  },
  {
   "cell_type": "code",
   "execution_count": null,
   "id": "5b119eb6-5767-40d2-ad74-9f3a5a646d1f",
   "metadata": {},
   "outputs": [],
   "source": [
    "coverage = pd.DataFrame(index=agegroups)\n",
    "for dose in ['1+', '2+']:\n",
    "    coverage[dose] = final_vacc_data[dose] / final_vacc_data['pop']\n",
    "    coverage[dose][coverage[dose] > 1.0] = 1.0"
   ]
  },
  {
   "cell_type": "code",
   "execution_count": null,
   "id": "5f9d8ec6-1e35-44ae-bc96-32f95f49105e",
   "metadata": {},
   "outputs": [],
   "source": [
    "final_vacc_data.plot()"
   ]
  }
 ],
 "metadata": {
  "kernelspec": {
   "display_name": "Python 3 (ipykernel)",
   "language": "python",
   "name": "python3"
  },
  "language_info": {
   "codemirror_mode": {
    "name": "ipython",
    "version": 3
   },
   "file_extension": ".py",
   "mimetype": "text/x-python",
   "name": "python",
   "nbconvert_exporter": "python",
   "pygments_lexer": "ipython3",
   "version": "3.10.11"
  }
 },
 "nbformat": 4,
 "nbformat_minor": 5
}
