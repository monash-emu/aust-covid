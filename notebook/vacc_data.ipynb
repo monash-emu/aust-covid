{
 "cells": [
  {
   "cell_type": "code",
   "execution_count": null,
   "id": "0e5c882f-481a-4547-a389-ffcb1adca6b1",
   "metadata": {},
   "outputs": [],
   "source": [
    "import pandas as pd\n",
    "import numpy as np\n",
    "pd.options.plotting.backend = 'plotly'"
   ]
  },
  {
   "cell_type": "code",
   "execution_count": null,
   "id": "f7a9c6fd-fd91-4033-8aed-7715684bce6d",
   "metadata": {},
   "outputs": [],
   "source": [
    "doses = ['1+', '2+']\n",
    "age_strata = list(range(0, 80, 5))\n",
    "dates_to_read = ['28-february-2022', '22-december-2022']\n",
    "raw_data = {date: pd.read_excel(f'../data/covid-19-vaccination-vaccination-data-{date}.xlsx', index_col=0)['Value'] for date in dates_to_read}"
   ]
  },
  {
   "cell_type": "code",
   "execution_count": null,
   "id": "4a61a7e7-02ab-4b29-bd28-50a94ca1d47d",
   "metadata": {},
   "outputs": [],
   "source": [
    "def get_cleaned_dec_data(raw_data, doses):\n",
    "    agegroups = ['16-19'] + [f'{age}-{age + 4}' for age in range(20, 95, 5)] + ['95+']\n",
    "    vacc_dict = {}\n",
    "    for dose in doses:\n",
    "        s = 's' if dose == '2+' else ''\n",
    "        vacc_dict[dose] = raw_data[[f'Age group - {age} - Number of people who have received at least {dose[0]} dose{s}' for age in agegroups]].values\n",
    "    data = pd.DataFrame(vacc_dict, index=agegroups)\n",
    "    data['pop'] = raw_data[[f'Age group - {age} - Population' for age in agegroups]].values\n",
    "    return data\n",
    "\n",
    "def get_cleaned_feb_data(raw_data, doses):\n",
    "    agegroups = ['16-19'] + [f'{age}-{age + 4}' for age in range(20, 95, 5)] + ['95+']\n",
    "    vacc_dict = {}\n",
    "    vacc_dict['1+'] = raw_data[[f'Age group - {age} - Number of people with 1 dose' for age in agegroups]].values\n",
    "    missing_space_agegroups = ['16-19 '] + [f'{age}-{age + 4} ' for age in range(20, 95, 5)] + ['95+']\n",
    "    vacc_dict['2+'] = raw_data[[f'Age group - {age}- Number of people fully vaccinated' for age in missing_space_agegroups]].values\n",
    "    final_vacc_data = pd.DataFrame(vacc_dict, index=agegroups)\n",
    "    final_vacc_data['pop'] = raw_data[[f'Age group - {age} - Population' for age in agegroups]].values\n",
    "    return final_vacc_data\n",
    "\n",
    "def get_modelled_dec_estimates(raw_data, cleaned_data):\n",
    "    modelled_vacc = pd.DataFrame(0.0, index=age_strata, columns=doses)\n",
    "    for dose in doses:\n",
    "        modelled_vacc[dose][15] = cleaned_data[dose]['16-19'] / cleaned_data['pop']['16-19']\n",
    "        for age in age_strata[4: -1]:\n",
    "            modelled_vacc[dose][age] = cleaned_data[dose][f'{age}-{age + 4}'] / cleaned_data['pop'][f'{age}-{age + 4}']\n",
    "        modelled_vacc[dose][75] = cleaned_data.loc['75-79':, '1+'].sum() / cleaned_data.loc['75-79':, 'pop'].sum()\n",
    "        modelled_vacc[dose][modelled_vacc[dose] > 1.0] = 1.0\n",
    "        s = 's' if dose == '2+' else ''\n",
    "        modelled_vacc[dose][5] = raw_data[f'National - Number of people 5-11 who have received at least {dose[0]} dose{s}'] / raw_data['National - Population 5-11']\n",
    "        modelled_vacc[dose][10] = raw_data[f'National - Number of people 12-15 who have received at least {dose[0]} dose{s}'] / raw_data['National - Population 12-15']\n",
    "    return modelled_vacc\n",
    "\n",
    "def get_modelled_feb_estimates(raw_data, cleaned_data):\n",
    "    modelled_vacc = pd.DataFrame(0.0, index=age_strata, columns=doses)\n",
    "    for dose in doses:\n",
    "        modelled_vacc[dose][15] = cleaned_data[dose]['16-19'] / cleaned_data['pop']['16-19']\n",
    "        for age in age_strata[4: -1]:\n",
    "            modelled_vacc[dose][age] = cleaned_data[dose][f'{age}-{age + 4}'] / cleaned_data['pop'][f'{age}-{age + 4}']\n",
    "        modelled_vacc[dose][75] = cleaned_data.loc['75-79':, '1+'].sum() / cleaned_data.loc['75-79':, 'pop'].sum()\n",
    "        modelled_vacc[dose][modelled_vacc[dose] > 1.0] = 1.0\n",
    "    modelled_vacc['1+'][5] = raw_data[f'National - Number of people 5-11 with 1 dose'] / raw_data['National - Population 5-11']\n",
    "    modelled_vacc['2+'][5] = raw_data[f'National - Number of people 5-11 fully vaccinated'] / raw_data['National - Population 5-11']\n",
    "    modelled_vacc['1+'][10] = raw_data[[i for i in raw_data.index if ' Residence state - Number of people 12-15 with 1 dose' in i]].sum() / raw_data['Age group - 12-15 - Population']\n",
    "    modelled_vacc['2+'][10] = raw_data[[i for i in raw_data.index if ' Residence state - Number of people 12-15 fully vaccinated' in i]].sum() / raw_data['Age group - 12-15 - Population']\n",
    "    return modelled_vacc"
   ]
  },
  {
   "cell_type": "code",
   "execution_count": null,
   "id": "39ea4f99-1f6e-4127-a679-46861988bbde",
   "metadata": {},
   "outputs": [],
   "source": [
    "cleaned_data_dict = {}\n",
    "cleaned_data_dict['22-december-2022'] = get_cleaned_dec_data(raw_data['22-december-2022'], doses)\n",
    "cleaned_data_dict['28-february-2022'] = get_cleaned_feb_data(raw_data['28-february-2022'], doses)"
   ]
  },
  {
   "cell_type": "code",
   "execution_count": null,
   "id": "e635f8c6-78d3-4e7e-9238-7880ac5c647f",
   "metadata": {},
   "outputs": [],
   "source": [
    "modelled_vacc_dict = {}\n",
    "modelled_vacc_dict['22-december-2022'] = get_modelled_dec_estimates(raw_data['22-december-2022'], cleaned_data_dict['22-december-2022'])\n",
    "modelled_vacc_dict['28-february-2022'] = get_modelled_feb_estimates(raw_data['28-february-2022'], cleaned_data_dict['28-february-2022'])"
   ]
  },
  {
   "cell_type": "code",
   "execution_count": null,
   "id": "016626a6-e6bd-4b1b-87ff-9a772af89fc3",
   "metadata": {},
   "outputs": [],
   "source": [
    "final_vacc_data = pd.DataFrame()"
   ]
  },
  {
   "cell_type": "code",
   "execution_count": null,
   "id": "e6703c87-a356-4ca0-b58c-c934dacb7cc3",
   "metadata": {},
   "outputs": [],
   "source": [
    "modelled_vacc_dict['28-february-2022'].columns = [f'feb_{i}' for i in modelled_vacc_dict['28-february-2022'].columns]"
   ]
  },
  {
   "cell_type": "code",
   "execution_count": null,
   "id": "7e7b501d-7e0b-4b15-813d-f2fb82a77490",
   "metadata": {},
   "outputs": [],
   "source": [
    "pd.concat([modelled_vacc_dict['22-december-2022'], modelled_vacc_dict['28-february-2022']], axis=1).plot()"
   ]
  }
 ],
 "metadata": {
  "kernelspec": {
   "display_name": "Python 3 (ipykernel)",
   "language": "python",
   "name": "python3"
  },
  "language_info": {
   "codemirror_mode": {
    "name": "ipython",
    "version": 3
   },
   "file_extension": ".py",
   "mimetype": "text/x-python",
   "name": "python",
   "nbconvert_exporter": "python",
   "pygments_lexer": "ipython3",
   "version": "3.10.11"
  }
 },
 "nbformat": 4,
 "nbformat_minor": 5
}
