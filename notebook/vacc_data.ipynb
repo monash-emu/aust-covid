{
 "cells": [
  {
   "cell_type": "code",
   "execution_count": null,
   "id": "0e5c882f-481a-4547-a389-ffcb1adca6b1",
   "metadata": {},
   "outputs": [],
   "source": [
    "import pandas as pd\n",
    "import numpy as np\n",
    "pd.options.plotting.backend = 'plotly'"
   ]
  },
  {
   "cell_type": "code",
   "execution_count": null,
   "id": "69436245-9392-4439-9d1b-01c8e90eba49",
   "metadata": {},
   "outputs": [],
   "source": [
    "feb_vacc_data = pd.read_excel('../data/covid-19-vaccination-vaccination-data-28-february-2022.xlsx', index_col=0)['Value']\n",
    "dec_vacc_data = pd.read_excel('../data/covid-19-vaccination-vaccination-data-22-december-2022.xlsx', index_col=0)['Value']"
   ]
  },
  {
   "cell_type": "code",
   "execution_count": null,
   "id": "4a61a7e7-02ab-4b29-bd28-50a94ca1d47d",
   "metadata": {},
   "outputs": [],
   "source": [
    "agegroups = ['16-19'] + [f'{age}-{age + 4}' for age in range(20, 95, 5)] + ['95+']\n",
    "doses = ['1+', '2+']\n",
    "vacc_dict = {}\n",
    "for dose in doses:\n",
    "    s = 's' if dose == '2+' else ''\n",
    "    vacc_dict[dose] = dec_vacc_data[[f'Age group - {age} - Number of people who have received at least {dose[0]} dose{s}' for age in agegroups]].values\n",
    "final_vacc_data = pd.DataFrame(vacc_dict, index=agegroups)\n",
    "final_vacc_data['pop'] = dec_vacc_data[[f'Age group - {age} - Population' for age in agegroups]].values"
   ]
  },
  {
   "cell_type": "code",
   "execution_count": null,
   "id": "0aad9876-74a7-47e2-b8a7-d04a0f5b3d41",
   "metadata": {},
   "outputs": [],
   "source": [
    "age_strata = list(range(0, 80, 5))\n",
    "modelled_vacc = pd.DataFrame(0.0, index=age_strata, columns=doses)\n",
    "for dose in doses:\n",
    "    modelled_vacc[dose][15] = final_vacc_data[dose]['16-19'] / final_vacc_data['pop']['16-19']\n",
    "    for age in age_strata[4: -1]:\n",
    "        modelled_vacc[dose][age] = final_vacc_data[dose][f'{age}-{age + 4}'] / final_vacc_data['pop'][f'{age}-{age + 4}']\n",
    "    modelled_vacc[dose][75] = final_vacc_data.loc['75-79':, '1+'].sum() / final_vacc_data.loc['75-79':, 'pop'].sum()\n",
    "    modelled_vacc[dose][modelled_vacc[dose] > 1.0] = 1.0\n",
    "    s = 's' if dose == '2+' else ''\n",
    "    modelled_vacc[dose][5] = dec_vacc_data[f'National - Number of people 5-11 who have received at least {dose[0]} dose{s}'] / dec_vacc_data['National - Population 5-11']\n",
    "    modelled_vacc[dose][10] = dec_vacc_data[f'National - Number of people 12-15 who have received at least {dose[0]} dose{s}'] / dec_vacc_data['National - Population 12-15']"
   ]
  },
  {
   "cell_type": "code",
   "execution_count": null,
   "id": "ed46dbaf-6d2f-48e9-a3d9-1ea9275037c3",
   "metadata": {},
   "outputs": [],
   "source": [
    "modelled_vacc.plot()"
   ]
  },
  {
   "cell_type": "code",
   "execution_count": null,
   "id": "fffbff63-dd71-4e8d-b56f-e2b0c4fa3efc",
   "metadata": {},
   "outputs": [],
   "source": [
    "agegroups = ['16-19'] + [f'{age}-{age + 4}' for age in range(20, 95, 5)] + ['95+']\n",
    "doses = ['1+', '2+']\n",
    "vacc_dict = {}\n",
    "vacc_dict['1+'] = feb_vacc_data[[f'Age group - {age} - Number of people with 1 dose' for age in agegroups]].values\n",
    "final_vacc_data['pop'] = feb_vacc_data[[f'Age group - {age} - Population' for age in agegroups]].values\n",
    "missing_space_agegroups = ['16-19 '] + [f'{age}-{age + 4} ' for age in range(20, 95, 5)] + ['95+']\n",
    "vacc_dict['2+'] = feb_vacc_data[[f'Age group - {age}- Number of people fully vaccinated' for age in missing_space_agegroups]].values\n",
    "final_vacc_data = pd.DataFrame(vacc_dict, index=agegroups)\n",
    "final_vacc_data['pop'] = feb_vacc_data[[f'Age group - {age} - Population' for age in agegroups]].values"
   ]
  },
  {
   "cell_type": "code",
   "execution_count": null,
   "id": "ba5fe756-ee59-4116-829c-b4b4da05c10b",
   "metadata": {},
   "outputs": [],
   "source": [
    "age_strata = list(range(0, 80, 5))\n",
    "feb_modelled_vacc = pd.DataFrame(0.0, index=age_strata, columns=doses)\n",
    "for dose in doses:\n",
    "    feb_modelled_vacc[dose][15] = final_vacc_data[dose]['16-19'] / final_vacc_data['pop']['16-19']\n",
    "    for age in age_strata[4: -1]:\n",
    "        feb_modelled_vacc[dose][age] = final_vacc_data[dose][f'{age}-{age + 4}'] / final_vacc_data['pop'][f'{age}-{age + 4}']\n",
    "    feb_modelled_vacc[dose][75] = final_vacc_data.loc['75-79':, '1+'].sum() / final_vacc_data.loc['75-79':, 'pop'].sum()\n",
    "    feb_modelled_vacc[dose][feb_modelled_vacc[dose] > 1.0] = 1.0\n",
    "feb_modelled_vacc['1+'][5] = feb_vacc_data[f'National - Number of people 5-11 with 1 dose'] / feb_vacc_data['National - Population 5-11']\n",
    "feb_modelled_vacc['2+'][5] = feb_vacc_data[f'National - Number of people 5-11 fully vaccinated'] / feb_vacc_data['National - Population 5-11']\n",
    "# modelled_vacc['1+'][10] = feb_vacc_data[f'National - Number of people 12-15 with 1 dose'] / feb_vacc_data['National - Population 12-15']\n",
    "# modelled_vacc['2+'][10] = feb_vacc_data[f'National - Number of people 12-15 fully vaccinated'] / feb_vacc_data['National - Population 12-15']"
   ]
  },
  {
   "cell_type": "code",
   "execution_count": null,
   "id": "09b3dc97-2a59-414a-9bf4-b4903c9032ff",
   "metadata": {},
   "outputs": [],
   "source": [
    "feb_modelled_vacc.columns = [f'feb_{col}' for col in feb_modelled_vacc.columns]"
   ]
  },
  {
   "cell_type": "code",
   "execution_count": null,
   "id": "7e7b501d-7e0b-4b15-813d-f2fb82a77490",
   "metadata": {},
   "outputs": [],
   "source": [
    "pd.concat([modelled_vacc, feb_modelled_vacc], axis=1).plot()"
   ]
  }
 ],
 "metadata": {
  "kernelspec": {
   "display_name": "Python 3 (ipykernel)",
   "language": "python",
   "name": "python3"
  },
  "language_info": {
   "codemirror_mode": {
    "name": "ipython",
    "version": 3
   },
   "file_extension": ".py",
   "mimetype": "text/x-python",
   "name": "python",
   "nbconvert_exporter": "python",
   "pygments_lexer": "ipython3",
   "version": "3.10.11"
  }
 },
 "nbformat": 4,
 "nbformat_minor": 5
}
