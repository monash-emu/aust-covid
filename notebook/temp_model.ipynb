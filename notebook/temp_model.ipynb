{
 "cells": [
  {
   "cell_type": "code",
   "execution_count": null,
   "id": "27dbd796",
   "metadata": {},
   "outputs": [],
   "source": [
    "from pathlib import Path"
   ]
  },
  {
   "cell_type": "code",
   "execution_count": null,
   "id": "56a8ea2c-c90f-4c5c-a2d3-4daee3a6bcab",
   "metadata": {},
   "outputs": [],
   "source": [
    "PROJECT_PATH = Path().resolve().parent\n",
    "DATA_PATH = PROJECT_PATH / \"data\"\n",
    "OUTPUT_PATH = PROJECT_PATH / \"outputs\"\n",
    "SUPPLEMENT_PATH = PROJECT_PATH / \"supplement\"\n",
    "Path(OUTPUT_PATH).mkdir(parents=True, exist_ok=True)"
   ]
  },
  {
   "cell_type": "code",
   "execution_count": null,
   "id": "68bc1a4b-007d-40d2-90d5-f56b194751c9",
   "metadata": {},
   "outputs": [],
   "source": [
    "import pandas as pd\n",
    "pd.options.plotting.backend = \"plotly\"\n",
    "from datetime import datetime\n",
    "import pylatex as pl\n",
    "from pylatex.utils import NoEscape\n",
    "import pymc as pm\n",
    "import arviz as az\n",
    "import yaml\n",
    "import nevergrad as ng\n",
    "\n",
    "from estival.model import BayesianCompartmentalModel\n",
    "from estival.optimization.nevergrad import optimize_model\n",
    "from estival.priors import UniformPrior\n",
    "from estival.targets import NegativeBinomialTarget, CustomTarget\n",
    "from estival.calibration import pymc as epm\n",
    "\n",
    "from aust_covid.inputs import load_household_impacts_data\n",
    "from aust_covid import model\n",
    "from documentation import calibration_outputs\n",
    "from aust_covid.inputs import load_param_info\n",
    "from documentation.doc_utils import TextElement, TableElement, add_element_to_document, \\\n",
    "    save_pyplot_add_to_doc, save_plotly_add_to_doc, compile_doc, generate_doc"
   ]
  },
  {
   "cell_type": "code",
   "execution_count": null,
   "id": "640f11ba-1097-4e97-8d9b-c74329e21b9f",
   "metadata": {},
   "outputs": [],
   "source": [
    "# Data inputs\n",
    "aust_data = pd.read_csv(DATA_PATH / \"Aus_covid_data.csv\", index_col=\"date\")\n",
    "aust_data.index = pd.to_datetime(aust_data.index)\n",
    "\n",
    "# Extract national\n",
    "national_data = aust_data[aust_data[\"region\"] == \"AUS\"]\n",
    "smoothed_national_cases = national_data[\"cases\"].rolling(window=7).mean().dropna()\n",
    "\n",
    "# Extract non-WA\n",
    "non_wa_data = aust_data.loc[(aust_data[\"region\"] != \"AUS\") & (aust_data[\"region\"] != \"WA\")]\n",
    "non_wa_data = non_wa_data.groupby(non_wa_data.index).sum()\n",
    "smoothed_non_wa_cases = non_wa_data[\"cases\"].rolling(window=7).mean().dropna()"
   ]
  },
  {
   "cell_type": "code",
   "execution_count": null,
   "id": "46382c88-c458-4ad2-989a-7e51be48af40",
   "metadata": {},
   "outputs": [],
   "source": [
    "# Times\n",
    "start_date = datetime(2021, 9, 1)  # Analysis start time\n",
    "end_date = datetime(2022, 10, 1)  # Analysis end time\n",
    "plot_start_date = datetime(2021, 12, 1)  # Left end for plots\n",
    "ref_date = datetime(2019, 12, 31)  # Arbitrary reference date"
   ]
  },
  {
   "cell_type": "code",
   "execution_count": null,
   "id": "feed367b-5480-4f22-ae7d-ef0fdd7141a8",
   "metadata": {},
   "outputs": [],
   "source": [
    "# Parameters\n",
    "parameters = {\n",
    "    \"contact_rate\": 0.048,\n",
    "    \"infectious_period\": 5.0,\n",
    "    \"latent_period\": 2.0,\n",
    "    \"cdr\": 0.1,\n",
    "    \"seed_rate\": 1.0,\n",
    "    \"seed_duration\": 1.0,\n",
    "    \"ba1_seed_time\": 660.0,\n",
    "    \"ba2_seed_time\": 688.0,\n",
    "    \"ba5_seed_time\": 720.0,\n",
    "    \"ba2_escape\": 0.45,\n",
    "    \"ba5_escape\": 0.38,\n",
    "    \"notifs_shape\": 2.0,\n",
    "    \"notifs_mean\": 4.0,\n",
    "    \"deaths_shape\": 2.0,\n",
    "    \"deaths_mean\": 20.0,\n",
    "    \"natural_immunity_period\": 50.0,\n",
    "    \"ifr_0\": 0.0,\n",
    "    \"ifr_5\": 0.0,\n",
    "    \"ifr_10\": 0.0,\n",
    "    \"ifr_15\": 0.0,\n",
    "    \"ifr_20\": 0.0,\n",
    "    \"ifr_25\": 0.0,\n",
    "    \"ifr_30\": 0.0,\n",
    "    \"ifr_35\": 0.0,\n",
    "    \"ifr_40\": 0.0,\n",
    "    \"ifr_45\": 0.0,\n",
    "    \"ifr_50\": 0.0,\n",
    "    \"ifr_55\": 0.0,\n",
    "    \"ifr_60\": 0.0,\n",
    "    \"ifr_65\": 0.0,\n",
    "    \"ifr_70\": 0.01,\n",
    "}\n",
    "param_info = load_param_info(PROJECT_PATH / \"inputs/parameters.yml\", parameters)\n",
    "param_info"
   ]
  },
  {
   "cell_type": "code",
   "execution_count": null,
   "id": "f707a9f0-d1f9-4718-b5bd-3c3a0a100b97",
   "metadata": {},
   "outputs": [],
   "source": [
    "doc_sections = {}\n",
    "compartments = [\n",
    "    \"susceptible\",\n",
    "    \"latent\",\n",
    "    \"infectious\",\n",
    "    \"recovered\",\n",
    "    \"waned\",\n",
    "]\n",
    "aust_model, build_text = model.build_base_model(ref_date, compartments, start_date, end_date)\n",
    "add_element_to_document(\"Model construction\", TextElement(build_text), doc_sections)\n",
    "build_text"
   ]
  },
  {
   "cell_type": "code",
   "execution_count": null,
   "id": "d3481d86-ece7-4aff-bd5c-dc37dda1b136",
   "metadata": {},
   "outputs": [],
   "source": [
    "pop_data, pop_text = model.get_pop_data()\n",
    "pop_text  # Can't add to supplement yet"
   ]
  },
  {
   "cell_type": "code",
   "execution_count": null,
   "id": "998e7753-cdcf-4e84-8a95-e1f341c46978",
   "metadata": {},
   "outputs": [],
   "source": [
    "start_text = model.set_starting_conditions(aust_model, pop_data)\n",
    "add_element_to_document(\"Model construction\", TextElement(start_text), doc_sections)\n",
    "start_text"
   ]
  },
  {
   "cell_type": "code",
   "execution_count": null,
   "id": "3c732c12-3b98-41ed-b211-c51a74078508",
   "metadata": {},
   "outputs": [],
   "source": [
    "infect_text = model.add_infection(aust_model)\n",
    "add_element_to_document(\"Model construction\", TextElement(infect_text), doc_sections)\n",
    "infect_text"
   ]
  },
  {
   "cell_type": "code",
   "execution_count": null,
   "id": "5d0ae421-4998-4141-8534-bbe5d14f241e",
   "metadata": {},
   "outputs": [],
   "source": [
    "prog_text = model.add_progression(aust_model)\n",
    "add_element_to_document(\"Model construction\", TextElement(prog_text), doc_sections)\n",
    "prog_text"
   ]
  },
  {
   "cell_type": "code",
   "execution_count": null,
   "id": "662b2ea5-1bee-4179-91a8-840fe96c6054",
   "metadata": {},
   "outputs": [],
   "source": [
    "rec_text = model.add_recovery(aust_model)\n",
    "add_element_to_document(\"Model construction\", TextElement(rec_text), doc_sections)\n",
    "rec_text"
   ]
  },
  {
   "cell_type": "code",
   "execution_count": null,
   "id": "e94fe381-ec99-471f-a763-43e600855ccc",
   "metadata": {},
   "outputs": [],
   "source": [
    "wane_text = model.add_waning(aust_model)\n",
    "add_element_to_document(\"Model construction\", TextElement(wane_text), doc_sections)\n",
    "wane_text"
   ]
  },
  {
   "cell_type": "code",
   "execution_count": null,
   "id": "473eee93-277e-4fc8-9335-ed3a0f38141a",
   "metadata": {},
   "outputs": [],
   "source": [
    "age_strata = list(range(0, 75, 5))\n",
    "raw_matrix, age_text = model.build_polymod_britain_matrix(age_strata)\n",
    "add_element_to_document(\"Model construction\", TextElement(age_text), doc_sections)\n",
    "age_text"
   ]
  },
  {
   "cell_type": "code",
   "execution_count": null,
   "id": "21624894-e3cf-4ad4-8552-48e6a868c778",
   "metadata": {},
   "outputs": [],
   "source": [
    "adjusted_matrix, pop_splits, mat_adj_text = model.adapt_gb_matrix_to_aust(age_strata, raw_matrix, pop_data)\n",
    "add_element_to_document(\"Model construction\", TextElement(mat_adj_text), doc_sections)\n",
    "mat_adj_text"
   ]
  },
  {
   "cell_type": "code",
   "execution_count": null,
   "id": "9cb3836d-11dc-40cc-b3fa-9bdf7d5b8461",
   "metadata": {},
   "outputs": [],
   "source": [
    "age_strat, agestrat_text = model.add_age_stratification(compartments, age_strata, pop_splits, adjusted_matrix)\n",
    "aust_model.stratify_with(age_strat)\n",
    "add_element_to_document(\"Model stratification\", TextElement(agestrat_text), doc_sections)\n",
    "agestrat_text"
   ]
  },
  {
   "cell_type": "code",
   "execution_count": null,
   "id": "4b7efa28-aa0f-415a-bc9d-e2ec1760b26d",
   "metadata": {},
   "outputs": [],
   "source": [
    "strain_strata = {\n",
    "    \"ba1\": \"BA.1\",\n",
    "    \"ba2\": \"BA.2\",\n",
    "    \"ba5\": \"BA.5\",\n",
    "}\n",
    "strain_strat, strainstrat_text = model.get_strain_stratification(compartments, strain_strata)\n",
    "aust_model.stratify_with(strain_strat)\n",
    "add_element_to_document(\"Model stratification\", TextElement(strainstrat_text), doc_sections)\n",
    "strainstrat_text"
   ]
  },
  {
   "cell_type": "code",
   "execution_count": null,
   "id": "6e64cbd2-b801-48ce-ba79-92f1a496472a",
   "metadata": {},
   "outputs": [],
   "source": [
    "seed_text = model.seed_vocs(aust_model)\n",
    "add_element_to_document(\"Model stratification\", TextElement(seed_text), doc_sections)\n",
    "seed_text"
   ]
  },
  {
   "cell_type": "code",
   "execution_count": null,
   "id": "3c45aade-f9b8-4e68-8719-007a58ae9343",
   "metadata": {},
   "outputs": [],
   "source": [
    "reinfect_text = model.add_reinfection(aust_model, strain_strata)\n",
    "add_element_to_document(\"Model stratification\", TextElement(reinfect_text), doc_sections)\n",
    "reinfect_text"
   ]
  },
  {
   "cell_type": "code",
   "execution_count": null,
   "id": "e2266724-0d41-4f11-961e-4011ad7a8c1c",
   "metadata": {},
   "outputs": [],
   "source": [
    "infection_processes = [\n",
    "    \"infection\", \n",
    "    \"early_reinfection\",\n",
    "    \"late_reinfection\",\n",
    "]\n",
    "inc_text = model.add_incidence_output(aust_model, infection_processes)\n",
    "add_element_to_document(\"Outputs\", TextElement(inc_text), doc_sections)\n",
    "inc_text"
   ]
  },
  {
   "cell_type": "code",
   "execution_count": null,
   "id": "0000dda0-045d-4e42-bf81-e514d8cd5a7d",
   "metadata": {},
   "outputs": [],
   "source": [
    "import numpy as np\n",
    "import jax.numpy as jnp\n",
    "\n",
    "from summer2.parameters import Parameter, Function, DerivedOutput, Time, Data\n",
    "from summer2.functions.time import get_linear_interpolation_function\n",
    "\n",
    "from aust_covid.model_utils import build_gamma_dens_interval_func, convolve_probability\n",
    "from aust_covid.model import get_param_to_exp_plateau"
   ]
  },
  {
   "cell_type": "code",
   "execution_count": null,
   "id": "0ee9a710-cf90-44aa-810f-02fc158b0e5c",
   "metadata": {},
   "outputs": [],
   "source": [
    "aust_epoch = aust_model.get_epoch()"
   ]
  },
  {
   "cell_type": "code",
   "execution_count": null,
   "id": "01719244-a82d-481a-9265-de06e067347f",
   "metadata": {},
   "outputs": [],
   "source": [
    "# Get data, using test to symptomatic ratio\n",
    "hh_impact = load_household_impacts_data()\n",
    "hh_test_ratio = hh_impact[\"test_prop\"] / hh_impact[\"sympt_prop\"]"
   ]
  },
  {
   "cell_type": "code",
   "execution_count": null,
   "id": "258862a0-fdc4-426a-989a-720ad6ef9d25",
   "metadata": {},
   "outputs": [],
   "source": [
    "start_cdr = Parameter(\"cdr\")"
   ]
  },
  {
   "cell_type": "code",
   "execution_count": null,
   "id": "9fd11466-4aa7-4e3a-a30a-7e6be2b0d7f8",
   "metadata": {},
   "outputs": [],
   "source": [
    "exp_param = get_param_to_exp_plateau(hh_test_ratio[0], start_cdr)"
   ]
  },
  {
   "cell_type": "code",
   "execution_count": null,
   "id": "66ea5dbb-8d6a-4fd1-b643-58b7487a3c4b",
   "metadata": {},
   "outputs": [],
   "source": [
    "# exp_param = 0.0 - np.log(1.0 - start_cdr) / hh_test_ratio[0]"
   ]
  },
  {
   "cell_type": "code",
   "execution_count": null,
   "id": "fc318b67-82b9-46d6-b7bb-93c6c51d19a5",
   "metadata": {},
   "outputs": [],
   "source": [
    "cdr_values = 1.0 - np.exp(0.0 - exp_param * hh_test_ratio.to_numpy())"
   ]
  },
  {
   "cell_type": "code",
   "execution_count": null,
   "id": "7a61f2de-70ce-4043-aee0-1727ed19dc02",
   "metadata": {},
   "outputs": [],
   "source": [
    "time_points = jnp.array(aust_epoch.datetime_to_number(hh_test_ratio.index))"
   ]
  },
  {
   "cell_type": "code",
   "execution_count": null,
   "id": "275a2780-c791-481b-a90a-c1d095d6929e",
   "metadata": {},
   "outputs": [],
   "source": [
    "ratio_interp = get_linear_interpolation_function(time_points, cdr_values)"
   ]
  },
  {
   "cell_type": "code",
   "execution_count": null,
   "id": "bff5b8b1-b35a-416b-906a-0cc7d1c8a34c",
   "metadata": {},
   "outputs": [],
   "source": [
    "tracked_ratio_interp = aust_model.request_track_modelled_value(\"ratio_interp\", ratio_interp)"
   ]
  },
  {
   "cell_type": "code",
   "execution_count": null,
   "id": "7c519ed6-cce8-4b48-9d59-58bddae74759",
   "metadata": {},
   "outputs": [],
   "source": [
    "delay = build_gamma_dens_interval_func(Parameter(\"notifs_shape\"), Parameter(\"notifs_mean\"), aust_model.times)\n",
    "notif_dist_rel_inc = Function(convolve_probability, [DerivedOutput(\"incidence\"), delay]) * tracked_ratio_interp\n",
    "aust_model.request_function_output(name=\"notifications\", func=notif_dist_rel_inc)"
   ]
  },
  {
   "cell_type": "code",
   "execution_count": null,
   "id": "75b81cfb-7f3d-4b0d-9fa3-300518f94e04",
   "metadata": {},
   "outputs": [],
   "source": [
    "aust_model.run(parameters=parameters)\n",
    "axis_labels = {\"index\": \"time\", \"value\": \"cases\"}\n",
    "comparison_df = pd.concat((smoothed_non_wa_cases, aust_model.get_derived_outputs_df()[\"notifications\"]), axis=1)\n",
    "comparison_df.plot(labels=axis_labels, title=\"Parameter outputs\")"
   ]
  }
 ],
 "metadata": {
  "kernelspec": {
   "display_name": "Python 3 (ipykernel)",
   "language": "python",
   "name": "python3"
  },
  "language_info": {
   "codemirror_mode": {
    "name": "ipython",
    "version": 3
   },
   "file_extension": ".py",
   "mimetype": "text/x-python",
   "name": "python",
   "nbconvert_exporter": "python",
   "pygments_lexer": "ipython3",
   "version": "3.10.11"
  }
 },
 "nbformat": 4,
 "nbformat_minor": 5
}
