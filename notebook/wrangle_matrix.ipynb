{
 "cells": [
  {
   "cell_type": "code",
   "execution_count": null,
   "id": "471454a8-2ec4-491a-b78f-75242b906ca8",
   "metadata": {},
   "outputs": [],
   "source": [
    "import pandas as pd\n",
    "from pathlib import Path"
   ]
  },
  {
   "cell_type": "code",
   "execution_count": null,
   "id": "43f34491-7a24-4434-91fc-df3c1051b006",
   "metadata": {},
   "outputs": [],
   "source": [
    "PROJECT_PATH = Path().resolve().parent\n",
    "DATA_PATH = PROJECT_PATH / \"data\""
   ]
  },
  {
   "cell_type": "code",
   "execution_count": null,
   "id": "ff96821b-7170-413c-99f8-ca9139d2f3b6",
   "metadata": {},
   "outputs": [],
   "source": [
    "pd.read_csv(DATA_PATH / \"home.csv\", index_col=0)"
   ]
  },
  {
   "cell_type": "code",
   "execution_count": null,
   "id": "95fa3ca0-8537-4a1e-be11-ba3610d76b3d",
   "metadata": {},
   "outputs": [],
   "source": [
    "pd.read_csv(DATA_PATH / \"other_locations.csv\", index_col=0)"
   ]
  },
  {
   "cell_type": "code",
   "execution_count": null,
   "id": "5449d2c9-0dc4-41e7-8231-41a987b93d66",
   "metadata": {},
   "outputs": [],
   "source": [
    "pd.read_csv(DATA_PATH / \"school.csv\", index_col=0)"
   ]
  },
  {
   "cell_type": "code",
   "execution_count": null,
   "id": "962e7724-8447-43dc-a818-153d336754c1",
   "metadata": {},
   "outputs": [],
   "source": [
    "pd.read_csv(DATA_PATH / \"work.csv\", index_col=0)"
   ]
  }
 ],
 "metadata": {
  "kernelspec": {
   "display_name": "Python 3 (ipykernel)",
   "language": "python",
   "name": "python3"
  },
  "language_info": {
   "codemirror_mode": {
    "name": "ipython",
    "version": 3
   },
   "file_extension": ".py",
   "mimetype": "text/x-python",
   "name": "python",
   "nbconvert_exporter": "python",
   "pygments_lexer": "ipython3",
   "version": "3.10.11"
  }
 },
 "nbformat": 4,
 "nbformat_minor": 5
}
