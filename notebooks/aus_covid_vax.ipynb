{
 "cells": [
  {
   "cell_type": "code",
   "execution_count": null,
   "id": "82b30bc6",
   "metadata": {},
   "outputs": [],
   "source": [
    "import pandas as pd\n",
    "import plotly.express as px\n",
    "from plotly.subplots import make_subplots\n",
    "import plotly.graph_objects as go\n",
    "from inputs.constants import DATA_PATH"
   ]
  },
  {
   "cell_type": "code",
   "execution_count": null,
   "id": "c10523c1-c482-4c3a-8d49-cd5c15d469a3",
   "metadata": {},
   "outputs": [],
   "source": [
    "df = pd.read_csv(DATA_PATH / 'aus_vax_data.csv', index_col=424)\n",
    "df.index = pd.to_datetime(df.index, infer_datetime_format=True)"
   ]
  },
  {
   "cell_type": "code",
   "execution_count": null,
   "id": "ef251276",
   "metadata": {},
   "outputs": [],
   "source": [
    "# Plot out 16+ 3-dose booster coverage, 16+ 4-dose booster booster coverage, 12-15 year old 2-dose coverage and 5-11 year old 2-dose coverage\n",
    "fig = make_subplots(rows=2, cols=2,\n",
    "                    subplot_titles =['Number of 16+ with at least 3 doses',\n",
    "                                   'Number of 16+ with at least 4 doses',\n",
    "                                   'Number of 12-15 year olds with at least 2 doses',\n",
    "                                   'Number of 5-11 year olds with at least 2 doses'])\n",
    "\n",
    "third_dose = ['National - Number of people 16 and over who have received 3 doses',\n",
    "              'National - 16 and over with 3 or more doses',\n",
    "              'National - 18 and over with more than 2 doses',\n",
    "              'National - Number of people 16 and over with more than two doses',\n",
    "              'National - 16 and over with more than 2 doses']\n",
    "\n",
    "fourth_dose = ['National - Winter Boosters number- daily update',\n",
    "                              'National - Winter Boosters number- weekly update',\n",
    "                              'National - Number of people 16 and over who have received 4 doses',\n",
    "                              'National - Fourth dose number- daily update']\n",
    "kids_12_15 = ['National - Number of people 12-15 with 2 doses',\n",
    "                               'National - Number of people 12-15 who have received at least 2 doses',\n",
    "                              'Age group - 12-15 - Number of people fully vaccinated',]\n",
    "kids_5_11 =['National - Number of people 5-11 fully vaccinated',\n",
    "                               'National - Number of people 5-11 who have received at least 2 doses']\n",
    "\n",
    "for third in third_dose:\n",
    "    fig.add_trace(\n",
    "        go.Scatter(x=df.index, y=df[third], showlegend=False),\n",
    "        row=1, col=1\n",
    "    )\n",
    "    \n",
    "for fourth in fourth_dose:\n",
    "    fig.add_trace(\n",
    "        go.Scatter(x=df.index, y=df[fourth], showlegend=False),\n",
    "        row=1, col=2\n",
    "    )\n",
    "\n",
    "for k_12 in kids_12_15:\n",
    "    fig.add_trace(\n",
    "        go.Scatter(x=df.index, y=df[k_12], showlegend=False),\n",
    "        row=2, col=1\n",
    "    )\n",
    "\n",
    "for k_5 in kids_5_11:\n",
    "    fig.add_trace(\n",
    "        go.Scatter(x=df.index, y=df[k_5], showlegend=False),\n",
    "        row=2, col=2\n",
    "    )\n",
    "\n",
    "    \n",
    "fig.show()"
   ]
  },
  {
   "cell_type": "code",
   "execution_count": null,
   "id": "b092800f",
   "metadata": {},
   "outputs": [],
   "source": [
    "# Create a new dataframe that combines 16+ 3-dose and 4-dose coverage to create a  booster over time\n",
    "df_booster = df[['National - Number of people 16 and over who have received 3 doses',\n",
    "                    'National - 16 and over with 3 or more doses',\n",
    "                    'National - 18 and over with more than 2 doses',\n",
    "                    'National - Number of people 16 and over with more than two doses',\n",
    "                    'National - 16 and over with more than 2 doses',\n",
    "                    'National - Winter Boosters number- daily update',\n",
    "                    'National - Winter Boosters number- weekly update',\n",
    "                    'National - Number of people 16 and over who have received 4 doses',\n",
    "                    'National - Fourth dose number- daily update']]"
   ]
  },
  {
   "cell_type": "code",
   "execution_count": null,
   "id": "b610d20e",
   "metadata": {},
   "outputs": [],
   "source": [
    "df_booster['Adult booster doses'] = df_booster.loc[:,['National - Number of people 16 and over who have received 3 doses',\n",
    "                    'National - 16 and over with 3 or more doses',\n",
    "                    'National - 18 and over with more than 2 doses',\n",
    "                    'National - Number of people 16 and over with more than two doses',\n",
    "                    'National - 16 and over with more than 2 doses',\n",
    "                    'National - Winter Boosters number- daily update',\n",
    "                    'National - Winter Boosters number- weekly update',\n",
    "                    'National - Number of people 16 and over who have received 4 doses',\n",
    "                    'National - Fourth dose number- daily update']].sum(axis=1)"
   ]
  },
  {
   "cell_type": "code",
   "execution_count": null,
   "id": "622d3273",
   "metadata": {},
   "outputs": [],
   "source": [
    "df_booster['Adult booster smooth'] = df_booster.loc[:, 'Adult booster doses'].rolling(14).mean()"
   ]
  },
  {
   "cell_type": "code",
   "execution_count": null,
   "id": "93c55a29",
   "metadata": {},
   "outputs": [],
   "source": [
    "px.line(df_booster['Adult booster smooth'])"
   ]
  },
  {
   "cell_type": "code",
   "execution_count": null,
   "id": "58f97878",
   "metadata": {},
   "outputs": [],
   "source": [
    "# visualise 2-dose coverage\n",
    "px.line(df[[c for c in df.columns if 'Number of people fully vaccinated' in c]].dropna())"
   ]
  },
  {
   "cell_type": "code",
   "execution_count": null,
   "id": "954909a4",
   "metadata": {},
   "outputs": [],
   "source": [
    "data_cols_5_11 = [c for c in df.columns if '5-11' in c]\n",
    "for c in data_cols_5_11:\n",
    "    print(c)"
   ]
  },
  {
   "cell_type": "code",
   "execution_count": null,
   "id": "9be46882",
   "metadata": {},
   "outputs": [],
   "source": [
    "for name in list(df.columns.values):\n",
    "    if 'booster' in name:\n",
    "        print(name)"
   ]
  }
 ],
 "metadata": {
  "kernelspec": {
   "display_name": "Python 3 (ipykernel)",
   "language": "python",
   "name": "python3"
  },
  "language_info": {
   "codemirror_mode": {
    "name": "ipython",
    "version": 3
   },
   "file_extension": ".py",
   "mimetype": "text/x-python",
   "name": "python",
   "nbconvert_exporter": "python",
   "pygments_lexer": "ipython3",
   "version": "3.10.0"
  }
 },
 "nbformat": 4,
 "nbformat_minor": 5
}
