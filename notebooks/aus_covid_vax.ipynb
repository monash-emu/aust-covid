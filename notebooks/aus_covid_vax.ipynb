{
 "cells": [
  {
   "cell_type": "code",
   "execution_count": null,
   "id": "82b30bc6",
   "metadata": {},
   "outputs": [],
   "source": [
    "import pandas as pd\n",
    "import plotly.express as px\n",
    "from plotly.subplots import make_subplots\n",
    "import plotly.graph_objects as go\n",
    "from inputs.constants import DATA_PATH"
   ]
  },
  {
   "cell_type": "code",
   "execution_count": null,
   "id": "ecb49363",
   "metadata": {},
   "outputs": [],
   "source": [
    "df = pd.read_csv(DATA_PATH/'aus_vax_data.csv')"
   ]
  },
  {
   "cell_type": "code",
   "execution_count": null,
   "id": "985629e4",
   "metadata": {},
   "outputs": [],
   "source": [
    "df['date'] = pd.to_datetime(df['date'])"
   ]
  },
  {
   "cell_type": "code",
   "execution_count": null,
   "id": "ef251276",
   "metadata": {},
   "outputs": [],
   "source": [
    "# Plot out 16+ 3-dose booster coverage, 16+ 4-dose booster booster coverage, 12-15 year old 2-dose coverage and 5-11 year old 2-dose coverage\n",
    "\n",
    "fig = make_subplots(rows=2, cols=2,\n",
    "                   subplot_titles =['Number of 16+ with at least 3 doses',\n",
    "                                   'Number of 16+ with at least 4 doses',\n",
    "                                   'Number of 12-15 year olds with at least 2 doses',\n",
    "                                   'Number of 5-11 year olds with at least 2 doses'])\n",
    "\n",
    "third_dose = ['National - Number of people 16 and over who have received 3 doses',\n",
    "              'National - 16 and over with 3 or more doses',\n",
    "              'National - 18 and over with more than 2 doses',\n",
    "              'National - Number of people 16 and over with more than two doses',\n",
    "              'National - 16 and over with more than 2 doses']\n",
    "\n",
    "fourth_dose = ['National - Winter Boosters number- daily update',\n",
    "                              'National - Winter Boosters number- weekly update',\n",
    "                              'National - Number of people 16 and over who have received 4 doses',\n",
    "                              'National - Fourth dose number- daily update']\n",
    "kids_12_15 = ['National - Number of people 12-15 with 2 doses',\n",
    "                               'National - Number of people 12-15 who have received at least 2 doses',\n",
    "                              'Age group - 12-15 - Number of people fully vaccinated',]\n",
    "kids_5_11 =['National - Number of people 5-11 fully vaccinated',\n",
    "                               'National - Number of people 5-11 who have received at least 2 doses']\n",
    "\n",
    "for third in third_dose:\n",
    "    fig.add_trace(\n",
    "        go.Scatter(x=df.date, y=df[third], showlegend=False),\n",
    "        row=1, col=1\n",
    "    )\n",
    "    \n",
    "for fourth in fourth_dose:\n",
    "    fig.add_trace(\n",
    "        go.Scatter(x=df.date, y=df[fourth], showlegend=False),\n",
    "        row=1, col=2\n",
    "    )\n",
    "\n",
    "for k_12 in kids_12_15:\n",
    "    fig.add_trace(\n",
    "        go.Scatter(x=df.date, y=df[k_12], showlegend=False),\n",
    "        row=2, col=1\n",
    "    )\n",
    "\n",
    "for k_5 in kids_5_11:\n",
    "    fig.add_trace(\n",
    "        go.Scatter(x=df.date, y=df[k_5], showlegend=False),\n",
    "        row=2, col=2\n",
    "    )\n",
    "\n",
    "    \n",
    "fig.show()"
   ]
  },
  {
   "cell_type": "code",
   "execution_count": null,
   "id": "b092800f",
   "metadata": {},
   "outputs": [],
   "source": [
    "# Create a new dataframe that combines 16+ 3-dose and 4-dose coverage to create a  booster over time\n",
    "df_booster = df[['date','National - Number of people 16 and over who have received 3 doses',\n",
    "                    'National - 16 and over with 3 or more doses',\n",
    "                    'National - 18 and over with more than 2 doses',\n",
    "                    'National - Number of people 16 and over with more than two doses',\n",
    "                    'National - 16 and over with more than 2 doses',\n",
    "                    'National - Winter Boosters number- daily update',\n",
    "                    'National - Winter Boosters number- weekly update',\n",
    "                    'National - Number of people 16 and over who have received 4 doses',\n",
    "                    'National - Fourth dose number- daily update']]"
   ]
  },
  {
   "cell_type": "code",
   "execution_count": null,
   "id": "b610d20e",
   "metadata": {},
   "outputs": [],
   "source": [
    "df_booster['Adult booster doses'] = df_booster.loc[:,['National - Number of people 16 and over who have received 3 doses',\n",
    "                    'National - 16 and over with 3 or more doses',\n",
    "                    'National - 18 and over with more than 2 doses',\n",
    "                    'National - Number of people 16 and over with more than two doses',\n",
    "                    'National - 16 and over with more than 2 doses',\n",
    "                    'National - Winter Boosters number- daily update',\n",
    "                    'National - Winter Boosters number- weekly update',\n",
    "                    'National - Number of people 16 and over who have received 4 doses',\n",
    "                    'National - Fourth dose number- daily update']].sum(axis=1)"
   ]
  },
  {
   "cell_type": "code",
   "execution_count": null,
   "id": "622d3273",
   "metadata": {},
   "outputs": [],
   "source": [
    "df_booster['Adult booster smooth'] = df_booster.loc[:,'Adult booster doses'].rolling(14).mean()"
   ]
  },
  {
   "cell_type": "code",
   "execution_count": null,
   "id": "93c55a29",
   "metadata": {},
   "outputs": [],
   "source": [
    "fig = px.line(df_booster, x='date', y='Adult booster smooth')\n",
    "\n",
    "fig.show()"
   ]
  },
  {
   "cell_type": "code",
   "execution_count": null,
   "id": "58f97878",
   "metadata": {},
   "outputs": [],
   "source": [
    "# visualise 2-dose coverage\n",
    "fig = px.line(df, x='date', y=['Age group - 16-19 - Number of people fully vaccinated',\n",
    "                               'Age group - 20-24 - Number of people fully vaccinated',\n",
    "                               'Age group - 25-29 - Number of people fully vaccinated',\n",
    "                               'Age group - 30-34 - Number of people fully vaccinated',\n",
    "                               'Age group - 35-39 - Number of people fully vaccinated',\n",
    "                               'Age group - 40-44 - Number of people fully vaccinated',\n",
    "                               'Age group - 45-49 - Number of people fully vaccinated',\n",
    "                               'Age group - 50-54 - Number of people fully vaccinated',\n",
    "                               'Age group - 55-59 - Number of people fully vaccinated',\n",
    "                               'Age group - 60-64 - Number of people fully vaccinated',\n",
    "                               'Age group - 65-69 - Number of people fully vaccinated',\n",
    "                               'Age group - 70-74 - Number of people fully vaccinated',\n",
    "                               'Age group - 75-79 - Number of people fully vaccinated',\n",
    "                               'Age group - 80-84 - Number of people fully vaccinated',\n",
    "                               'Age group - 85-89 - Number of people fully vaccinated',\n",
    "                               'Age group - 90-94 - Number of people fully vaccinated',\n",
    "                               'Age group - 95+- Number of people fully vaccinated',\n",
    "                              ])\n",
    "\n",
    "fig.show()"
   ]
  },
  {
   "cell_type": "code",
   "execution_count": null,
   "id": "954909a4",
   "metadata": {},
   "outputs": [],
   "source": [
    "for name in list(df.columns.values):\n",
    "    if '5-11' in name:\n",
    "        print(name)"
   ]
  },
  {
   "cell_type": "code",
   "execution_count": null,
   "id": "9be46882",
   "metadata": {},
   "outputs": [],
   "source": [
    "for name in list(df.columns.values):\n",
    "    if 'booster' in name:\n",
    "        print(name)"
   ]
  }
 ],
 "metadata": {
  "kernelspec": {
   "display_name": "Python 3 (ipykernel)",
   "language": "python",
   "name": "python3"
  },
  "language_info": {
   "codemirror_mode": {
    "name": "ipython",
    "version": 3
   },
   "file_extension": ".py",
   "mimetype": "text/x-python",
   "name": "python",
   "nbconvert_exporter": "python",
   "pygments_lexer": "ipython3",
   "version": "3.10.3"
  }
 },
 "nbformat": 4,
 "nbformat_minor": 5
}
