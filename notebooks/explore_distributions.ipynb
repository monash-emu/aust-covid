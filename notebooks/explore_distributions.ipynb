{
 "cells": [
  {
   "cell_type": "code",
   "execution_count": null,
   "id": "df2a765b-1775-44f0-9c53-d4c6fa57d018",
   "metadata": {},
   "outputs": [],
   "source": [
    "import estival.priors as esp\n",
    "import numpy as np\n",
    "import pandas as pd"
   ]
  },
  {
   "cell_type": "code",
   "execution_count": null,
   "id": "66427e39-6f4b-4f89-9dd5-8ae858b8939c",
   "metadata": {},
   "outputs": [],
   "source": [
    "beta_dist = esp.BetaPrior.from_mean_and_ci('beta_test', 0.4, (0.2, 0.6))"
   ]
  },
  {
   "cell_type": "code",
   "execution_count": null,
   "id": "6e07e8eb-9617-46ec-8a86-1aafccf92dcd",
   "metadata": {},
   "outputs": [],
   "source": [
    "beta_dist = esp.BetaPrior('beta_test', 15, 25)"
   ]
  },
  {
   "cell_type": "code",
   "execution_count": null,
   "id": "4acc1f15-b072-4754-bf91-a6eabee6d36d",
   "metadata": {},
   "outputs": [],
   "source": [
    "x_values = np.linspace(0.0, 1.0, 101)\n",
    "comparison = pd.DataFrame(beta_dist.pdf(x_values), index=x_values)\n",
    "comparison.plot()"
   ]
  },
  {
   "cell_type": "code",
   "execution_count": null,
   "id": "32486014-e2df-4879-9a3b-b7a6fd871a55",
   "metadata": {},
   "outputs": [],
   "source": [
    "esp.BetaPrior?"
   ]
  },
  {
   "cell_type": "code",
   "execution_count": null,
   "id": "d7d365fd-d8cd-4159-b95d-019706d60fe1",
   "metadata": {},
   "outputs": [],
   "source": [
    "[beta_dist.distri_params[param][0] for param in beta_dist.distri_params]"
   ]
  },
  {
   "cell_type": "code",
   "execution_count": null,
   "id": "8795e654-1bfb-4e3b-83b6-86af9523b355",
   "metadata": {},
   "outputs": [],
   "source": [
    "' '.join([f'{param}: {round(beta_dist.distri_params[param], 3)}' for param in beta_dist.distri_params])"
   ]
  },
  {
   "cell_type": "code",
   "execution_count": null,
   "id": "78157228-f429-48e2-b689-2048c1ccd0db",
   "metadata": {},
   "outputs": [],
   "source": [
    "esp.GammaPrior.from_mean?"
   ]
  },
  {
   "cell_type": "code",
   "execution_count": null,
   "id": "49c10ba3-a441-486c-92a6-7a38c45c46f2",
   "metadata": {},
   "outputs": [],
   "source": [
    "esp.GammaPrior.from_mean?"
   ]
  },
  {
   "cell_type": "code",
   "execution_count": null,
   "id": "5d846ba0-2438-4be6-acd5-127508be1956",
   "metadata": {},
   "outputs": [],
   "source": [
    "gamma_dist = esp.GammaPrior.from_mean('case_delay', 4.17, 7.0)"
   ]
  },
  {
   "cell_type": "code",
   "execution_count": null,
   "id": "2f9b4884-ffdb-42cf-b702-c648ea6783fe",
   "metadata": {},
   "outputs": [],
   "source": [
    "gamma_dist.distri_params"
   ]
  },
  {
   "cell_type": "code",
   "execution_count": null,
   "id": "4dd49650-0974-4044-9c57-370b4e719ea9",
   "metadata": {},
   "outputs": [],
   "source": [
    "gamma_dist.cdf(40.0)"
   ]
  },
  {
   "cell_type": "code",
   "execution_count": null,
   "id": "1795278d-7d05-4f13-a6d5-99c876da5cef",
   "metadata": {},
   "outputs": [],
   "source": [
    "x_values = np.linspace(0.0, 10.0, 101)\n",
    "comparison = pd.DataFrame(gamma_dist.pdf(x_values), index=x_values)\n",
    "comparison.plot()"
   ]
  },
  {
   "cell_type": "code",
   "execution_count": null,
   "id": "74142b15-aa42-44da-8325-e6016837e265",
   "metadata": {},
   "outputs": [],
   "source": []
  }
 ],
 "metadata": {
  "kernelspec": {
   "display_name": "Python 3 (ipykernel)",
   "language": "python",
   "name": "python3"
  },
  "language_info": {
   "codemirror_mode": {
    "name": "ipython",
    "version": 3
   },
   "file_extension": ".py",
   "mimetype": "text/x-python",
   "name": "python",
   "nbconvert_exporter": "python",
   "pygments_lexer": "ipython3",
   "version": "3.10.0"
  }
 },
 "nbformat": 4,
 "nbformat_minor": 5
}
