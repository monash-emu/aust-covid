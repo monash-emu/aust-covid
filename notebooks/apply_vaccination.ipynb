{
 "cells": [
  {
   "cell_type": "code",
   "execution_count": null,
   "id": "ab69009d-c20b-4303-be70-25e629d55a0b",
   "metadata": {},
   "outputs": [],
   "source": [
    "import pandas as pd\n",
    "\n",
    "from aust_covid.inputs import get_ifrs\n",
    "from emutools.tex import StandardTexDoc\n",
    "from aust_covid.inputs import get_base_vacc_data\n",
    "from aust_covid.vaccination import add_derived_data_to_vacc, get_model_vacc_vals_from_data\n",
    "from aust_covid.model import build_model\n",
    "from aust_covid.plotting import plot_immune_props\n",
    "from inputs.constants import PROJECT_PATH, SUPPLEMENT_PATH\n",
    "from emutools.inputs import load_param_info"
   ]
  },
  {
   "cell_type": "code",
   "execution_count": null,
   "id": "eb8b72d0-196f-41cf-9b81-932438d4c19a",
   "metadata": {},
   "outputs": [],
   "source": [
    "vacc_df = get_base_vacc_data()\n",
    "ext_vacc_df = add_derived_data_to_vacc(vacc_df)\n",
    "boost_data = get_model_vacc_vals_from_data(ext_vacc_df, 'prop boosted in preceding')\n",
    "primary_data = get_model_vacc_vals_from_data(ext_vacc_df, 'prop primary full in preceding')"
   ]
  },
  {
   "cell_type": "code",
   "execution_count": null,
   "id": "16b284f5-64a4-45e5-8360-5d7157735234",
   "metadata": {},
   "outputs": [],
   "source": [
    "# from summer2 import CompartmentalModel, Stratification, population\n",
    "# from summer2.parameters import Parameter, Function"
   ]
  },
  {
   "cell_type": "code",
   "execution_count": null,
   "id": "98fe195d-3ff5-4a7a-a4f1-6a5e127c9b81",
   "metadata": {},
   "outputs": [],
   "source": [
    "# from jax import numpy as jnp\n",
    "# import numpy as np"
   ]
  },
  {
   "cell_type": "code",
   "execution_count": null,
   "id": "4ba2fa93-6acf-4fdf-aeff-c7b8c0778655",
   "metadata": {},
   "outputs": [],
   "source": [
    "# from inputs.constants import AGE_STRATA"
   ]
  },
  {
   "cell_type": "code",
   "execution_count": null,
   "id": "de01bcc8-3bfb-4057-a151-6a03c68581b9",
   "metadata": {},
   "outputs": [],
   "source": [
    "# from aust_covid.inputs import load_pop_data"
   ]
  },
  {
   "cell_type": "code",
   "execution_count": null,
   "id": "9df5ad50-5588-436a-9062-bd95be548ea7",
   "metadata": {},
   "outputs": [],
   "source": [
    "app_doc = StandardTexDoc(SUPPLEMENT_PATH, 'supplement', \"Australia's 2023 Omicron Waves Supplement\", 'austcovid')\n",
    "param_info = load_param_info(PROJECT_PATH / 'inputs' / 'parameters.yml')\n",
    "param_info['value'].update(get_ifrs(app_doc))\n",
    "parameters = param_info['value'].to_dict()\n",
    "epi_model = build_model(app_doc, vacc_sens=True)\n",
    "epoch = epi_model.get_epoch()"
   ]
  },
  {
   "cell_type": "code",
   "execution_count": null,
   "id": "f4f4e3ee-e15b-4322-b263-eaf5bfcbdbc0",
   "metadata": {},
   "outputs": [],
   "source": [
    "# vacc_sens_val = 0.0\n",
    "# vacc_sens = True\n",
    "\n",
    "# model_pops = load_pop_data(app_doc)\n",
    "# pops_dict = model_pops.to_dict()\n",
    "# params = {'prop_imm': 0.4}\n",
    "\n",
    "# m = CompartmentalModel([0, 100], ['S', 'I', 'R'], ['I'])\n",
    "\n",
    "# age_strat = Stratification('agegroup', [str(age) for age in AGE_STRATA], ['S', 'I', 'R'])\n",
    "# m.stratify_with(age_strat)\n",
    "\n",
    "# state_strat = Stratification('states', list(pops_dict.keys()), ['S', 'I', 'R'])\n",
    "# m.stratify_with(state_strat)\n",
    "\n",
    "# imm_strat = Stratification('immunity', ['imm', 'nonimm'], ['S', 'I', 'R'])\n",
    "# m.stratify_with(imm_strat)\n",
    "\n",
    "# def get_init_pop(imm_split):\n",
    "#     init_pop = jnp.zeros(len(m.compartments), dtype=np.float64)\n",
    "#     for agegroup in m.stratifications['agegroup'].strata:\n",
    "#         for state in m.stratifications['states'].strata:\n",
    "#             for imm_status in m.stratifications['immunity'].strata:\n",
    "#                 q = m.query_compartments({'name': 'S', 'agegroup': agegroup, 'states': state, 'immunity': imm_status}, as_idx=True)\n",
    "#                 pop = pops_dict[state][int(agegroup)] * imm_split[imm_status]\n",
    "#                 init_pop = init_pop.at[q].set(pop)\n",
    "#     return init_pop\n",
    "\n",
    "# prop_immune = vacc_sens_val if vacc_sens else Parameter('prop_imm')\n",
    "# imm_split = {'imm': prop_immune, 'nonimm': 1.0 - prop_immune}\n",
    "# m.init_population_with_graphobject(Function(get_init_pop, [imm_split]))\n",
    "# m.run(parameters=params)"
   ]
  },
  {
   "cell_type": "code",
   "execution_count": null,
   "id": "0ec9c431-23c2-4810-af07-20d4ac6dfeb1",
   "metadata": {},
   "outputs": [],
   "source": [
    "# init_pop = m.get_initial_population(params)"
   ]
  },
  {
   "cell_type": "code",
   "execution_count": null,
   "id": "7a1ccaa6-4758-4470-80cc-c4312c3d7dd6",
   "metadata": {},
   "outputs": [],
   "source": [
    "# model_comps = [c.name for c in epi_model._original_compartment_names]\n",
    "# for patch in epi_model.stratifications['states'].strata:\n",
    "#     for age in epi_model.stratifications['agegroup'].strata:\n",
    "#         sub_strat = f'{patch}_{age}'\n",
    "#         epi_model.request_output_for_compartments(sub_strat, model_comps, {'agegroup': age, 'states': patch})"
   ]
  },
  {
   "cell_type": "code",
   "execution_count": null,
   "id": "3afb6cc0-6acc-4421-a20e-ac809d46c2ab",
   "metadata": {},
   "outputs": [],
   "source": [
    "parameters"
   ]
  },
  {
   "cell_type": "code",
   "execution_count": null,
   "id": "cc442e62-ef99-4e70-8d0d-3d40c586d544",
   "metadata": {},
   "outputs": [],
   "source": [
    "epi_model.run(parameters=parameters)"
   ]
  },
  {
   "cell_type": "code",
   "execution_count": null,
   "id": "94d0720d-245d-4bc4-8111-6955abf19a54",
   "metadata": {},
   "outputs": [],
   "source": [
    "derived_outs = epi_model.get_derived_outputs_df()\n",
    "start_pops_df = pd.DataFrame()\n",
    "for patch in ['wa', 'other']:\n",
    "    patch_data = derived_outs[[i for i in derived_outs.columns if f'{patch}_' in i]].iloc[0, :]\n",
    "    patch_data.index = patch_data.index.str.replace(f'{patch}_', '')\n",
    "    start_pops_df[patch] = patch_data\n",
    "start_pops_df.plot()"
   ]
  },
  {
   "cell_type": "code",
   "execution_count": null,
   "id": "4c1c9007-7a8e-443a-8e3c-8ccf5095fce2",
   "metadata": {},
   "outputs": [],
   "source": [
    "init_pop = epi_model.get_initial_population(parameters=parameters)"
   ]
  },
  {
   "cell_type": "code",
   "execution_count": null,
   "id": "2092e122-c605-40ea-ba10-85eda0ea27f1",
   "metadata": {},
   "outputs": [],
   "source": [
    "epi_model.stratifications['states'].strata"
   ]
  },
  {
   "cell_type": "code",
   "execution_count": null,
   "id": "fd24209f-b418-4c64-9836-a245b18bab82",
   "metadata": {},
   "outputs": [],
   "source": [
    "from aust_covid.inputs import load_pop_data\n",
    "model_pops = load_pop_data(app_doc)\n"
   ]
  },
  {
   "cell_type": "code",
   "execution_count": null,
   "id": "d78586d8-7c7e-4167-ba68-d60695624bf3",
   "metadata": {},
   "outputs": [],
   "source": [
    "states = epi_model.stratifications['states'].strata\n",
    "for age in epi_model.stratifications['agegroup'].strata:\n",
    "    for state in states:\n",
    "        model_pops.loc[int(age), f'check_{state}'] = init_pop[init_pop.index.str.contains(f'states_{state}') & init_pop.index.str.contains(f'agegroup_{age}X')].sum()\n",
    "\n",
    "imm_check = {}\n",
    "for imm in epi_model.stratifications['immunity'].strata:\n",
    "    imm_check[imm] = init_pop[init_pop.index.str.contains(f'immunity_{imm}')].sum()\n",
    "\n",
    "print([v / sum(imm_check.values()) for v in imm_check.values()])"
   ]
  },
  {
   "cell_type": "code",
   "execution_count": null,
   "id": "f002af80-0eac-424c-bc00-55a6dddf3dfb",
   "metadata": {},
   "outputs": [],
   "source": [
    "model_pops.plot()"
   ]
  },
  {
   "cell_type": "code",
   "execution_count": null,
   "id": "731709b6-fbe8-4699-8c46-f5508e81c4b0",
   "metadata": {},
   "outputs": [],
   "source": [
    "plot_immune_props(epi_model, ext_vacc_df)"
   ]
  }
 ],
 "metadata": {
  "kernelspec": {
   "display_name": "Python 3 (ipykernel)",
   "language": "python",
   "name": "python3"
  },
  "language_info": {
   "codemirror_mode": {
    "name": "ipython",
    "version": 3
   },
   "file_extension": ".py",
   "mimetype": "text/x-python",
   "name": "python",
   "nbconvert_exporter": "python",
   "pygments_lexer": "ipython3",
   "version": "3.10.11"
  }
 },
 "nbformat": 4,
 "nbformat_minor": 5
}
