{
 "cells": [
  {
   "cell_type": "code",
   "execution_count": null,
   "id": "ab69009d-c20b-4303-be70-25e629d55a0b",
   "metadata": {},
   "outputs": [],
   "source": [
    "import pandas as pd\n",
    "\n",
    "from aust_covid.inputs import get_ifrs\n",
    "from emutools.tex import StandardTexDoc\n",
    "from aust_covid.inputs import get_base_vacc_data\n",
    "from aust_covid.vaccination import add_derived_data_to_vacc, get_model_vacc_vals_from_data\n",
    "from aust_covid.model import build_model\n",
    "from aust_covid.plotting import plot_immune_props\n",
    "from inputs.constants import PROJECT_PATH, SUPPLEMENT_PATH\n",
    "from emutools.parameters import load_param_info\n",
    "\n",
    "from aust_covid.inputs import load_pop_data"
   ]
  },
  {
   "cell_type": "code",
   "execution_count": null,
   "id": "9513cbc2-537b-4784-974b-93ad7a31939d",
   "metadata": {},
   "outputs": [],
   "source": [
    "from summer2.functions.time import get_linear_interpolation_function as linear_interp"
   ]
  },
  {
   "cell_type": "code",
   "execution_count": null,
   "id": "eb8b72d0-196f-41cf-9b81-932438d4c19a",
   "metadata": {},
   "outputs": [],
   "source": [
    "vacc_df = get_base_vacc_data()\n",
    "ext_vacc_df = add_derived_data_to_vacc(vacc_df)\n",
    "# boost_data = get_model_vacc_vals_from_data(ext_vacc_df, 'prop boosted in preceding')\n",
    "# primary_data = get_model_vacc_vals_from_data(ext_vacc_df, 'prop primary full in preceding')"
   ]
  },
  {
   "cell_type": "code",
   "execution_count": null,
   "id": "9df5ad50-5588-436a-9062-bd95be548ea7",
   "metadata": {},
   "outputs": [],
   "source": [
    "app_doc = StandardTexDoc(SUPPLEMENT_PATH, 'supplement', \"Australia's 2023 Omicron Waves Supplement\", 'austcovid')\n",
    "param_info = load_param_info()\n",
    "param_info['value'].update(get_ifrs(app_doc))\n",
    "parameters = param_info['value'].to_dict()\n",
    "epi_model = build_model(app_doc, vacc_sens=True)\n",
    "epoch = epi_model.get_epoch()"
   ]
  },
  {
   "cell_type": "code",
   "execution_count": null,
   "id": "ec69df3c-6da9-4ec7-962b-eebb864c752a",
   "metadata": {},
   "outputs": [],
   "source": [
    "ext_vacc_df['primary full'].dropna().plot()"
   ]
  },
  {
   "cell_type": "code",
   "execution_count": null,
   "id": "52fb437a-479a-44ed-99e4-5346b07dfb44",
   "metadata": {},
   "outputs": [],
   "source": [
    "ext_vacc_df['prop incremental primary full'].dropna().plot()"
   ]
  },
  {
   "cell_type": "code",
   "execution_count": null,
   "id": "4d25bb6a-abd7-4ddf-aa8e-a3ee5bd4c713",
   "metadata": {},
   "outputs": [],
   "source": [
    "# boost_func = linear_interp(epoch.dti_to_index(ext_vacc_df.index), ext_vacc_df['prop incremental adult booster'])"
   ]
  },
  {
   "cell_type": "code",
   "execution_count": null,
   "id": "e5faefd9-f8f6-496b-bbe2-3a838093f0db",
   "metadata": {},
   "outputs": [],
   "source": [
    "# from inputs.constants import AGE_STRATA"
   ]
  },
  {
   "cell_type": "code",
   "execution_count": null,
   "id": "29eaab58-cefd-41b2-bd40-31fa717abd81",
   "metadata": {},
   "outputs": [],
   "source": [
    "# for comp in epi_model._original_compartment_names:\n",
    "#     for age_strat in AGE_STRATA[3:]:\n",
    "#         epi_model.add_transition_flow(\n",
    "#             'vaccination',\n",
    "#             boost_func,\n",
    "#             source=comp.name,\n",
    "#             dest=comp.name,\n",
    "#             source_strata={'immunity': 'nonimm', 'agegroup': str(age_strat)},\n",
    "#             dest_strata={'immunity': 'imm', 'agegroup': str(age_strat)},\n",
    "#         )"
   ]
  },
  {
   "cell_type": "code",
   "execution_count": null,
   "id": "cc442e62-ef99-4e70-8d0d-3d40c586d544",
   "metadata": {},
   "outputs": [],
   "source": [
    "epi_model.run(parameters=parameters)"
   ]
  },
  {
   "cell_type": "code",
   "execution_count": null,
   "id": "4c1c9007-7a8e-443a-8e3c-8ccf5095fce2",
   "metadata": {},
   "outputs": [],
   "source": [
    "init_pop = epi_model.get_initial_population(parameters=parameters)"
   ]
  },
  {
   "cell_type": "code",
   "execution_count": null,
   "id": "d78586d8-7c7e-4167-ba68-d60695624bf3",
   "metadata": {},
   "outputs": [],
   "source": [
    "model_pops = load_pop_data(app_doc)\n",
    "states = epi_model.stratifications['states'].strata\n",
    "for age in epi_model.stratifications['agegroup'].strata:\n",
    "    for state in states:\n",
    "        model_pops.loc[int(age), f'check_{state}'] = init_pop[init_pop.index.str.contains(f'states_{state}') & init_pop.index.str.contains(f'agegroup_{age}X')].sum()\n",
    "\n",
    "imm_check = {}\n",
    "for imm in epi_model.stratifications['immunity'].strata:\n",
    "    imm_check[imm] = init_pop[init_pop.index.str.contains(f'immunity_{imm}')].sum()\n",
    "\n",
    "print([v / sum(imm_check.values()) for v in imm_check.values()])"
   ]
  },
  {
   "cell_type": "code",
   "execution_count": null,
   "id": "f002af80-0eac-424c-bc00-55a6dddf3dfb",
   "metadata": {},
   "outputs": [],
   "source": [
    "model_pops.plot()"
   ]
  },
  {
   "cell_type": "code",
   "execution_count": null,
   "id": "e56ef8d8-b5eb-4423-a4fd-a66fc81c0e3c",
   "metadata": {},
   "outputs": [],
   "source": [
    "vacc_df['adult booster'].plot()"
   ]
  },
  {
   "cell_type": "code",
   "execution_count": null,
   "id": "731709b6-fbe8-4699-8c46-f5508e81c4b0",
   "metadata": {},
   "outputs": [],
   "source": [
    "fig = plot_immune_props(epi_model, ext_vacc_df)"
   ]
  },
  {
   "cell_type": "code",
   "execution_count": null,
   "id": "14312a7b-1a3a-4327-ab78-3a0ccf5851f4",
   "metadata": {},
   "outputs": [],
   "source": [
    "vacc_df['adult booster'] / vacc_df['National - Population 16 and over']"
   ]
  },
  {
   "cell_type": "code",
   "execution_count": null,
   "id": "b8c6cddf-cc1e-412c-aa53-06a9571d243c",
   "metadata": {},
   "outputs": [],
   "source": [
    "from plotly import graph_objects as go\n",
    "fig.add_trace(go.Scatter(x=vacc_df.index, y=vacc_df['adult booster'] / vacc_df['National - Population 16 and over']), row=1, col=2)\n",
    "fig"
   ]
  },
  {
   "cell_type": "code",
   "execution_count": null,
   "id": "66b461ef-5f02-43c0-87a5-934de4dfbfbd",
   "metadata": {},
   "outputs": [],
   "source": []
  }
 ],
 "metadata": {
  "kernelspec": {
   "display_name": "Python 3 (ipykernel)",
   "language": "python",
   "name": "python3"
  },
  "language_info": {
   "codemirror_mode": {
    "name": "ipython",
    "version": 3
   },
   "file_extension": ".py",
   "mimetype": "text/x-python",
   "name": "python",
   "nbconvert_exporter": "python",
   "pygments_lexer": "ipython3",
   "version": "3.10.0"
  }
 },
 "nbformat": 4,
 "nbformat_minor": 5
}
