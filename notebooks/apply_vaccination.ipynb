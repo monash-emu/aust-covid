{
 "cells": [
  {
   "cell_type": "code",
   "execution_count": null,
   "id": "ab69009d-c20b-4303-be70-25e629d55a0b",
   "metadata": {},
   "outputs": [],
   "source": [
    "import pandas as pd\n",
    "\n",
    "from aust_covid.inputs import get_ifrs, load_pop_data\n",
    "from emutools.tex import DummyTexDoc\n",
    "from aust_covid.model import build_model\n",
    "from inputs.constants import SUPPLEMENT_PATH\n",
    "from emutools.parameters import load_param_info"
   ]
  },
  {
   "cell_type": "code",
   "execution_count": null,
   "id": "9df5ad50-5588-436a-9062-bd95be548ea7",
   "metadata": {},
   "outputs": [],
   "source": [
    "param_info = load_param_info()\n",
    "param_info['value'].update(get_ifrs(DummyTexDoc()))\n",
    "parameters = param_info['value'].to_dict()\n",
    "epi_model = build_model(DummyTexDoc())"
   ]
  },
  {
   "cell_type": "code",
   "execution_count": null,
   "id": "d78586d8-7c7e-4167-ba68-d60695624bf3",
   "metadata": {},
   "outputs": [],
   "source": [
    "init_pop = epi_model.get_initial_population(parameters=parameters)\n",
    "model_pops = load_pop_data(DummyTexDoc())\n",
    "states = epi_model.stratifications['states'].strata\n",
    "for age in epi_model.stratifications['agegroup'].strata:\n",
    "    for state in states:\n",
    "        model_pops.loc[int(age), f'check_{state}'] = init_pop[init_pop.index.str.contains(f'states_{state}') & init_pop.index.str.contains(f'agegroup_{age}X')].sum()\n",
    "\n",
    "imm_check = {}\n",
    "for imm in epi_model.stratifications['immunity'].strata:\n",
    "    imm_check[imm] = init_pop[init_pop.index.str.contains(f'immunity_{imm}')].sum()\n",
    "\n",
    "print([v / sum(imm_check.values()) for v in imm_check.values()])\n",
    "model_pops.plot()"
   ]
  }
 ],
 "metadata": {
  "kernelspec": {
   "display_name": "Python 3 (ipykernel)",
   "language": "python",
   "name": "python3"
  },
  "language_info": {
   "codemirror_mode": {
    "name": "ipython",
    "version": 3
   },
   "file_extension": ".py",
   "mimetype": "text/x-python",
   "name": "python",
   "nbconvert_exporter": "python",
   "pygments_lexer": "ipython3",
   "version": "3.10.0"
  }
 },
 "nbformat": 4,
 "nbformat_minor": 5
}
