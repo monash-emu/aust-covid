{
 "cells": [
  {
   "cell_type": "code",
   "execution_count": null,
   "id": "ab69009d-c20b-4303-be70-25e629d55a0b",
   "metadata": {},
   "outputs": [],
   "source": [
    "from jax import numpy as jnp\n",
    "from datetime import timedelta\n",
    "\n",
    "from summer2.parameters import Function, Data, Time, DerivedOutput\n",
    "\n",
    "from aust_covid.inputs import get_ifrs\n",
    "from emutools.tex import StandardTexDoc\n",
    "from aust_covid.inputs import get_base_vacc_data\n",
    "from aust_covid.vaccination import add_booster_data_to_vacc\n",
    "from aust_covid.model import build_model\n",
    "from inputs.constants import PROJECT_PATH, SUPPLEMENT_PATH, IMMUNITY_LAG\n",
    "from emutools.inputs import load_param_info"
   ]
  },
  {
   "cell_type": "code",
   "execution_count": null,
   "id": "f33ba6f7-b5c2-48ff-911e-05e756537253",
   "metadata": {},
   "outputs": [],
   "source": [
    "from computegraph import jaxify\n",
    "\n",
    "fnp = jaxify.get_modules()['numpy']\n",
    "\n",
    "if jaxify.get_using_jax():\n",
    "    # Jax only\n",
    "    from jax import lax\n",
    "\n",
    "    def piecewise_function(x, breakpoints, functions):\n",
    "        index = sum(x >= breakpoints)\n",
    "        return lax.switch(index, functions, x)\n",
    "\n",
    "else:\n",
    "\n",
    "    def piecewise_function(x, breakpoints, functions):\n",
    "        index = sum(x >= breakpoints)\n",
    "        return functions[index](x)\n",
    "\n",
    "\n",
    "def piecewise_constant(x, breakpoints, values):\n",
    "    index = sum(x >= breakpoints)\n",
    "    return values[index]"
   ]
  },
  {
   "cell_type": "code",
   "execution_count": null,
   "id": "eb8b72d0-196f-41cf-9b81-932438d4c19a",
   "metadata": {},
   "outputs": [],
   "source": [
    "vacc_df = get_base_vacc_data()\n",
    "vacc_df = add_booster_data_to_vacc(vacc_df)\n",
    "vacc_data = vacc_df['prop boosted in preceding'].dropna()\n",
    "vacc_data.index += timedelta(days=IMMUNITY_LAG)"
   ]
  },
  {
   "cell_type": "code",
   "execution_count": null,
   "id": "9df5ad50-5588-436a-9062-bd95be548ea7",
   "metadata": {},
   "outputs": [],
   "source": [
    "app_doc = StandardTexDoc(SUPPLEMENT_PATH, 'supplement', \"Australia's 2023 Omicron Waves Supplement\", 'austcovid')\n",
    "param_info = load_param_info(PROJECT_PATH / 'inputs' / 'parameters.yml')\n",
    "param_info['value'].update(get_ifrs(app_doc))\n",
    "parameters = param_info['value'].to_dict()\n",
    "epi_model = build_model(app_doc)\n",
    "epoch = epi_model.get_epoch()\n",
    "model_comps = set([c.name for c in epi_model.compartments])\n",
    "epi_model.request_output_for_compartments('total_pop', model_comps)\n",
    "for stratum in epi_model.stratifications['immunity'].strata:\n",
    "    epi_model.request_output_for_compartments(f'number_{stratum}', model_comps, {'immunity': stratum})\n",
    "    epi_model.request_function_output(f'prop_{stratum}', DerivedOutput(f'number_{stratum}') / DerivedOutput('total_pop'))"
   ]
  },
  {
   "cell_type": "code",
   "execution_count": null,
   "id": "d4933717-98cf-4ae1-b2f5-56e2d52403b1",
   "metadata": {},
   "outputs": [],
   "source": [
    "data = vacc_df['prop boosted in preceding'].dropna()\n",
    "data = data[~data.index.duplicated(keep='first')]"
   ]
  },
  {
   "cell_type": "code",
   "execution_count": null,
   "id": "b63d5132-8ea7-4a52-98be-878e151ac0ee",
   "metadata": {},
   "outputs": [],
   "source": [
    "parameters['imm_prop'] = data[0]"
   ]
  },
  {
   "cell_type": "code",
   "execution_count": null,
   "id": "0615c403-b309-400c-88bc-48908d85c84f",
   "metadata": {},
   "outputs": [],
   "source": [
    "from typing import List\n",
    "import pandas as pd\n",
    "import numpy as np\n",
    "import scipy\n",
    "from scipy.optimize import minimize"
   ]
  },
  {
   "cell_type": "markdown",
   "id": "e466cf3c-892e-4f11-a7af-c1f010fc66bc",
   "metadata": {},
   "source": [
    "Grabbing Romain's code from model_features.solve_transitions in AuTuMN"
   ]
  },
  {
   "cell_type": "code",
   "execution_count": null,
   "id": "dbed969c-37c5-4e20-93d3-7de1268a78be",
   "metadata": {},
   "outputs": [],
   "source": [
    "def calculate_rates_for_interval(\n",
    "        start_props: pd.core.series.Series, end_props: pd.core.series.Series, delta_t: float, strata: List[str],\n",
    "        active_flows: dict\n",
    ") -> dict:\n",
    "    \"\"\"\n",
    "    Calculate the transition rates associated with each inter-stratum flow for a given time interval.\n",
    "\n",
    "    The system can be described using a linear ordinary differential equations such as:\n",
    "    X'(t) = M.X(t) ,\n",
    "    where M is the transition matrix and X is a column vector representing the proportions over time\n",
    "\n",
    "    The solution of this equation is X(t) = exp(M.t).X_0,\n",
    "    where X_0 represents the proportions at the start of the time interval.\n",
    "\n",
    "    The transition parameters informing M must then verify the following equation:\n",
    "    X(t_end) = exp(M.delta_t).X_0,\n",
    "    where t_end represents the end of the time interval.\n",
    "\n",
    "    Args:\n",
    "        start_props: user-requested stratum proportions at the start of the time interval\n",
    "        end_props: user-requested stratum proportions at the end of the time interval\n",
    "        delta_t: width of the time interval\n",
    "        strata: list of strata\n",
    "        active_flows: Dictionary listing the flows driving the inter-stratum transitions. Keys are flow names and values\n",
    "        are length-two tuples representing the flows' sources and destinations.\n",
    "    Returns:\n",
    "        The estimated transition rates stored in a dictionary using the flow names as keys.\n",
    "\n",
    "    \"\"\"\n",
    "    # Determine some basic characteristics\n",
    "    n_strata = len(strata)\n",
    "    n_params = len(active_flows)\n",
    "    ordered_flow_names = list(active_flows.keys())\n",
    "\n",
    "    # Create the function that we need to find the root of\n",
    "    def function_to_zero(params):\n",
    "        # params is a list ordered in the same order as ordered_flow_names\n",
    "\n",
    "        # Create the transition matrix associated with a given set of transition parameters\n",
    "        m = np.zeros((n_strata, n_strata))\n",
    "        for i_row, stratum_row in enumerate(strata):\n",
    "            for i_col, stratum_col in enumerate(strata):\n",
    "                if i_row == i_col:\n",
    "                    # Diagonal components capture flows starting from the associated stratum\n",
    "                    relevant_flow_names = [f_name for f_name, f_ends in active_flows.items() if f_ends[0] == stratum_row]\n",
    "                    for f_name in relevant_flow_names:\n",
    "                        m[i_row, i_col] -= params[ordered_flow_names.index(f_name)]\n",
    "                else:\n",
    "                    # Off-diagonal components capture flows from stratum_col to stratum_row\n",
    "                    for f_name, f_ends in active_flows.items():\n",
    "                        if f_ends == (stratum_col, stratum_row):\n",
    "                            m[i_row, i_col] = params[ordered_flow_names.index(f_name)]\n",
    "\n",
    "        # Calculate the matrix exponential, accounting for the time interval width\n",
    "        exp_mt = scipy.linalg.expm(m * delta_t)\n",
    "\n",
    "        # Calculate the difference between the left and right terms of the equation\n",
    "        diff = np.matmul(exp_mt, start_props) - end_props\n",
    "\n",
    "        # Return the norm of the vector to make the minimised function a scalar function\n",
    "        return scipy.linalg.norm(diff)\n",
    "\n",
    "    # Define bounds to force the parameters to be positive\n",
    "    bounds = [(0., None)] * n_params\n",
    "\n",
    "    # Numerical solving\n",
    "    solution = minimize(function_to_zero, x0=np.zeros(n_params), bounds=bounds, method=\"TNC\")\n",
    "\n",
    "    return {ordered_flow_names[i]: solution.x[i] for i in range(len(ordered_flow_names))}"
   ]
  },
  {
   "cell_type": "code",
   "execution_count": null,
   "id": "9993b170-a432-4345-900e-9396416b08db",
   "metadata": {},
   "outputs": [],
   "source": [
    "rates = []\n",
    "for i, date in enumerate(data.index[:-1]):\n",
    "    next_date = data.index[i + 1]\n",
    "    duration = (next_date - date).days\n",
    "    start_prop = data.loc[date]\n",
    "    start_props = [start_prop, 1.0 - start_prop]\n",
    "    end_prop = data.loc[next_date]\n",
    "    end_props = [end_prop, 1.0 - end_prop]\n",
    "    flows = {'vaccination': ['nonimm', 'imm'], 'waning': ['imm', 'nonimm']}\n",
    "    rates.append(calculate_rates_for_interval(start_props, end_props, duration, ['imm', 'nonimm'], flows))"
   ]
  },
  {
   "cell_type": "code",
   "execution_count": null,
   "id": "e390d021-9fd0-4499-b101-fa6b66ade06b",
   "metadata": {},
   "outputs": [],
   "source": [
    "vacc_rates = [r['vaccination'] for r in rates]\n",
    "wane_rates = [r['waning'] for r in rates]"
   ]
  },
  {
   "cell_type": "code",
   "execution_count": null,
   "id": "f6e72144-2868-45ae-abb4-4baad03826c0",
   "metadata": {},
   "outputs": [],
   "source": [
    "time_vals = Data(jnp.array([*epoch.datetime_to_number(data.index)]))\n",
    "vals = Data(jnp.array((0.0, *vacc_rates, 0.0)))\n",
    "vacc_function = Function(piecewise_constant, [Time, time_vals, vals])\n",
    "vals = Data(jnp.array((0.0, *wane_rates, 0.0)))\n",
    "wane_function = Function(piecewise_constant, [Time, time_vals, vals])"
   ]
  },
  {
   "cell_type": "code",
   "execution_count": null,
   "id": "cc39bc98-5664-4fa2-b94b-db01d175bf29",
   "metadata": {},
   "outputs": [],
   "source": [
    "for comp in model_comps:\n",
    "    epi_model.add_transition_flow(\n",
    "        'vaccination',\n",
    "        vacc_function,\n",
    "        source=comp,\n",
    "        dest=comp,\n",
    "        source_strata={'immunity': 'nonimm'},\n",
    "        dest_strata={'immunity': 'imm'},\n",
    "    )\n",
    "    epi_model.add_transition_flow(\n",
    "        'waning',\n",
    "        wane_function,\n",
    "        source=comp,\n",
    "        dest=comp,\n",
    "        source_strata={'immunity': 'imm'},\n",
    "        dest_strata={'immunity': 'nonimm'},\n",
    "    )"
   ]
  },
  {
   "cell_type": "code",
   "execution_count": null,
   "id": "a387cd7c-acbd-4234-bf5b-126792dabd0b",
   "metadata": {},
   "outputs": [],
   "source": [
    "vacc_data.plot()"
   ]
  },
  {
   "cell_type": "code",
   "execution_count": null,
   "id": "ae4915dd-44ff-49ed-8050-488aa598b2cd",
   "metadata": {},
   "outputs": [],
   "source": [
    "epi_model.run(parameters=parameters)\n",
    "epi_model.get_derived_outputs_df()[['prop_imm', 'prop_nonimm']].plot.area()"
   ]
  }
 ],
 "metadata": {
  "kernelspec": {
   "display_name": "Python 3 (ipykernel)",
   "language": "python",
   "name": "python3"
  },
  "language_info": {
   "codemirror_mode": {
    "name": "ipython",
    "version": 3
   },
   "file_extension": ".py",
   "mimetype": "text/x-python",
   "name": "python",
   "nbconvert_exporter": "python",
   "pygments_lexer": "ipython3",
   "version": "3.10.0"
  }
 },
 "nbformat": 4,
 "nbformat_minor": 5
}
