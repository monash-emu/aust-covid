{
 "cells": [
  {
   "cell_type": "code",
   "execution_count": null,
   "id": "ab69009d-c20b-4303-be70-25e629d55a0b",
   "metadata": {},
   "outputs": [],
   "source": [
    "import pandas as pd\n",
    "\n",
    "from aust_covid.inputs import get_ifrs, load_pop_data\n",
    "from emutools.tex import StandardTexDoc\n",
    "from aust_covid.inputs import get_base_vacc_data\n",
    "from aust_covid.vaccination import add_derived_data_to_vacc, get_model_vacc_vals_from_data\n",
    "from aust_covid.model import build_model\n",
    "from aust_covid.plotting import plot_immune_props\n",
    "from inputs.constants import PROJECT_PATH, SUPPLEMENT_PATH\n",
    "from emutools.parameters import load_param_info"
   ]
  },
  {
   "cell_type": "code",
   "execution_count": null,
   "id": "eb8b72d0-196f-41cf-9b81-932438d4c19a",
   "metadata": {},
   "outputs": [],
   "source": [
    "vacc_df = get_base_vacc_data()\n",
    "ext_vacc_df, lagged_ext_vacc_df = add_derived_data_to_vacc(vacc_df)"
   ]
  },
  {
   "cell_type": "code",
   "execution_count": null,
   "id": "9df5ad50-5588-436a-9062-bd95be548ea7",
   "metadata": {},
   "outputs": [],
   "source": [
    "app_doc = StandardTexDoc(SUPPLEMENT_PATH, 'supplement', \"Australia's 2023 Omicron Waves Supplement\", 'austcovid')\n",
    "param_info = load_param_info()\n",
    "param_info['value'].update(get_ifrs(app_doc))\n",
    "parameters = param_info['value'].to_dict()\n",
    "epi_model = build_model(app_doc, vacc_sens=True)"
   ]
  },
  {
   "cell_type": "code",
   "execution_count": null,
   "id": "cc442e62-ef99-4e70-8d0d-3d40c586d544",
   "metadata": {},
   "outputs": [],
   "source": [
    "epi_model.run(parameters=parameters)"
   ]
  },
  {
   "cell_type": "code",
   "execution_count": null,
   "id": "4c1c9007-7a8e-443a-8e3c-8ccf5095fce2",
   "metadata": {},
   "outputs": [],
   "source": [
    "init_pop = epi_model.get_initial_population(parameters=parameters)"
   ]
  },
  {
   "cell_type": "code",
   "execution_count": null,
   "id": "d78586d8-7c7e-4167-ba68-d60695624bf3",
   "metadata": {},
   "outputs": [],
   "source": [
    "model_pops = load_pop_data(app_doc)\n",
    "states = epi_model.stratifications['states'].strata\n",
    "for age in epi_model.stratifications['agegroup'].strata:\n",
    "    for state in states:\n",
    "        model_pops.loc[int(age), f'check_{state}'] = init_pop[init_pop.index.str.contains(f'states_{state}') & init_pop.index.str.contains(f'agegroup_{age}X')].sum()\n",
    "\n",
    "imm_check = {}\n",
    "for imm in epi_model.stratifications['immunity'].strata:\n",
    "    imm_check[imm] = init_pop[init_pop.index.str.contains(f'immunity_{imm}')].sum()\n",
    "\n",
    "print([v / sum(imm_check.values()) for v in imm_check.values()])"
   ]
  },
  {
   "cell_type": "code",
   "execution_count": null,
   "id": "f002af80-0eac-424c-bc00-55a6dddf3dfb",
   "metadata": {},
   "outputs": [],
   "source": [
    "model_pops.plot()"
   ]
  },
  {
   "cell_type": "code",
   "execution_count": null,
   "id": "731709b6-fbe8-4699-8c46-f5508e81c4b0",
   "metadata": {},
   "outputs": [],
   "source": [
    "plot_immune_props(epi_model, ext_vacc_df, lagged_ext_vacc_df)"
   ]
  }
 ],
 "metadata": {
  "kernelspec": {
   "display_name": "Python 3 (ipykernel)",
   "language": "python",
   "name": "python3"
  },
  "language_info": {
   "codemirror_mode": {
    "name": "ipython",
    "version": 3
   },
   "file_extension": ".py",
   "mimetype": "text/x-python",
   "name": "python",
   "nbconvert_exporter": "python",
   "pygments_lexer": "ipython3",
   "version": "3.10.0"
  }
 },
 "nbformat": 4,
 "nbformat_minor": 5
}
