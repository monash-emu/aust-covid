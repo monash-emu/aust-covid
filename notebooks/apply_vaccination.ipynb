{
 "cells": [
  {
   "cell_type": "code",
   "execution_count": null,
   "id": "ab69009d-c20b-4303-be70-25e629d55a0b",
   "metadata": {},
   "outputs": [],
   "source": [
    "from jax import numpy as jnp\n",
    "\n",
    "from aust_covid.model import build_model\n",
    "from inputs.constants import SUPPLEMENT_PATH\n",
    "\n",
    "from summer2.parameters import Function, Data, Time\n",
    "\n",
    "from emutools.tex import StandardTexDoc\n",
    "from aust_covid.inputs import get_base_vacc_data\n",
    "from aust_covid.vaccination import add_booster_data_to_vacc"
   ]
  },
  {
   "cell_type": "code",
   "execution_count": null,
   "id": "f33ba6f7-b5c2-48ff-911e-05e756537253",
   "metadata": {},
   "outputs": [],
   "source": [
    "from computegraph import jaxify\n",
    "\n",
    "fnp = jaxify.get_modules()['numpy']\n",
    "\n",
    "if jaxify.get_using_jax():\n",
    "    # Jax only\n",
    "    from jax import lax\n",
    "\n",
    "    def piecewise_function(x, breakpoints, functions):\n",
    "        index = sum(x >= breakpoints)\n",
    "        return lax.switch(index, functions, x)\n",
    "\n",
    "else:\n",
    "\n",
    "    def piecewise_function(x, breakpoints, functions):\n",
    "        index = sum(x >= breakpoints)\n",
    "        return functions[index](x)\n",
    "\n",
    "\n",
    "def piecewise_constant(x, breakpoints, values):\n",
    "    index = sum(x >= breakpoints)\n",
    "    return values[index]"
   ]
  },
  {
   "cell_type": "code",
   "execution_count": null,
   "id": "eb8b72d0-196f-41cf-9b81-932438d4c19a",
   "metadata": {},
   "outputs": [],
   "source": [
    "vacc_df = get_base_vacc_data()\n",
    "vacc_df = add_booster_data_to_vacc(vacc_df)\n",
    "vacc_data = vacc_df['prop boosted in preceding'].dropna()"
   ]
  },
  {
   "cell_type": "code",
   "execution_count": null,
   "id": "a387cd7c-acbd-4234-bf5b-126792dabd0b",
   "metadata": {},
   "outputs": [],
   "source": [
    "vacc_data.plot()"
   ]
  },
  {
   "cell_type": "code",
   "execution_count": null,
   "id": "9df5ad50-5588-436a-9062-bd95be548ea7",
   "metadata": {},
   "outputs": [],
   "source": [
    "app_doc = StandardTexDoc(SUPPLEMENT_PATH, 'supplement', \"Australia's 2023 Omicron Waves Supplement\", 'austcovid')\n",
    "epi_model = build_model(app_doc)\n",
    "epoch = epi_model.get_epoch()"
   ]
  },
  {
   "cell_type": "code",
   "execution_count": null,
   "id": "d4933717-98cf-4ae1-b2f5-56e2d52403b1",
   "metadata": {},
   "outputs": [],
   "source": [
    "data = vacc_df['prop boosted in preceding'].dropna()\n",
    "bp = Data(jnp.array([*epoch.datetime_to_number(vacc_data.index)]))\n",
    "vals = Data(jnp.array((0.0, *vacc_data, 0.0)))\n",
    "Function(piecewise_constant, [Time, bp, vals])"
   ]
  }
 ],
 "metadata": {
  "kernelspec": {
   "display_name": "Python 3 (ipykernel)",
   "language": "python",
   "name": "python3"
  },
  "language_info": {
   "codemirror_mode": {
    "name": "ipython",
    "version": 3
   },
   "file_extension": ".py",
   "mimetype": "text/x-python",
   "name": "python",
   "nbconvert_exporter": "python",
   "pygments_lexer": "ipython3",
   "version": "3.10.11"
  }
 },
 "nbformat": 4,
 "nbformat_minor": 5
}
