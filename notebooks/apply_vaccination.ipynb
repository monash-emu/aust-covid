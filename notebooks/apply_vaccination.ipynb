{
 "cells": [
  {
   "cell_type": "code",
   "execution_count": null,
   "id": "ab69009d-c20b-4303-be70-25e629d55a0b",
   "metadata": {},
   "outputs": [],
   "source": [
    "from aust_covid.inputs import get_ifrs\n",
    "from emutools.tex import StandardTexDoc\n",
    "from aust_covid.inputs import get_base_vacc_data\n",
    "from aust_covid.vaccination import add_derived_data_to_vacc, get_model_vacc_vals_from_data\n",
    "from aust_covid.model import build_model\n",
    "from aust_covid.plotting import plot_immune_props\n",
    "from inputs.constants import PROJECT_PATH, SUPPLEMENT_PATH\n",
    "from emutools.inputs import load_param_info"
   ]
  },
  {
   "cell_type": "code",
   "execution_count": null,
   "id": "eb8b72d0-196f-41cf-9b81-932438d4c19a",
   "metadata": {},
   "outputs": [],
   "source": [
    "vacc_df = get_base_vacc_data()\n",
    "boosted_df = add_derived_data_to_vacc(vacc_df)\n",
    "vacc_data = get_model_vacc_vals_from_data(boosted_df)"
   ]
  },
  {
   "cell_type": "code",
   "execution_count": null,
   "id": "9df5ad50-5588-436a-9062-bd95be548ea7",
   "metadata": {},
   "outputs": [],
   "source": [
    "app_doc = StandardTexDoc(SUPPLEMENT_PATH, 'supplement', \"Australia's 2023 Omicron Waves Supplement\", 'austcovid')\n",
    "param_info = load_param_info(PROJECT_PATH / 'inputs' / 'parameters.yml')\n",
    "param_info['value'].update(get_ifrs(app_doc))\n",
    "parameters = param_info['value'].to_dict()\n",
    "parameters['imm_prop'] = vacc_data[0]\n",
    "\n",
    "epi_model = build_model(app_doc, vacc_sens=True)"
   ]
  },
  {
   "cell_type": "code",
   "execution_count": null,
   "id": "67b106a6-9136-41b5-84d7-9ee72948e2bc",
   "metadata": {},
   "outputs": [],
   "source": [
    "epi_model.run(parameters=parameters)\n",
    "plot_immune_props(epi_model, vacc_data, boosted_df['prop boosted in preceding'])"
   ]
  }
 ],
 "metadata": {
  "kernelspec": {
   "display_name": "Python 3 (ipykernel)",
   "language": "python",
   "name": "python3"
  },
  "language_info": {
   "codemirror_mode": {
    "name": "ipython",
    "version": 3
   },
   "file_extension": ".py",
   "mimetype": "text/x-python",
   "name": "python",
   "nbconvert_exporter": "python",
   "pygments_lexer": "ipython3",
   "version": "3.10.11"
  }
 },
 "nbformat": 4,
 "nbformat_minor": 5
}
