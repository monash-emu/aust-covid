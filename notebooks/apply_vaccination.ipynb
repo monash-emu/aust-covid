{
 "cells": [
  {
   "cell_type": "code",
   "execution_count": null,
   "id": "ab69009d-c20b-4303-be70-25e629d55a0b",
   "metadata": {},
   "outputs": [],
   "source": [
    "import pandas as pd\n",
    "\n",
    "from aust_covid.inputs import get_ifrs\n",
    "from emutools.tex import StandardTexDoc\n",
    "from aust_covid.inputs import get_base_vacc_data\n",
    "from aust_covid.vaccination import add_derived_data_to_vacc, get_model_vacc_vals_from_data\n",
    "from aust_covid.model import build_model\n",
    "from aust_covid.plotting import plot_immune_props\n",
    "from inputs.constants import PROJECT_PATH, SUPPLEMENT_PATH\n",
    "from emutools.inputs import load_param_info"
   ]
  },
  {
   "cell_type": "code",
   "execution_count": null,
   "id": "eb8b72d0-196f-41cf-9b81-932438d4c19a",
   "metadata": {},
   "outputs": [],
   "source": [
    "vacc_df = get_base_vacc_data()\n",
    "ext_vacc_df = add_derived_data_to_vacc(vacc_df)\n",
    "boost_data = get_model_vacc_vals_from_data(ext_vacc_df, 'prop boosted in preceding')\n",
    "primary_data = get_model_vacc_vals_from_data(ext_vacc_df, 'prop primary full in preceding')"
   ]
  },
  {
   "cell_type": "code",
   "execution_count": null,
   "id": "9df5ad50-5588-436a-9062-bd95be548ea7",
   "metadata": {},
   "outputs": [],
   "source": [
    "app_doc = StandardTexDoc(SUPPLEMENT_PATH, 'supplement', \"Australia's 2023 Omicron Waves Supplement\", 'austcovid')\n",
    "param_info = load_param_info(PROJECT_PATH / 'inputs' / 'parameters.yml')\n",
    "param_info['value'].update(get_ifrs(app_doc))\n",
    "parameters = param_info['value'].to_dict()\n",
    "epi_model = build_model(app_doc)\n",
    "epoch = epi_model.get_epoch()"
   ]
  },
  {
   "cell_type": "code",
   "execution_count": null,
   "id": "7a1ccaa6-4758-4470-80cc-c4312c3d7dd6",
   "metadata": {},
   "outputs": [],
   "source": [
    "model_comps = [c.name for c in epi_model._original_compartment_names]\n",
    "for patch in epi_model.stratifications['states'].strata:\n",
    "    for age in epi_model.stratifications['agegroup'].strata:\n",
    "        sub_strat = f'{patch}_{age}'\n",
    "        epi_model.request_output_for_compartments(sub_strat, model_comps, {'agegroup': age, 'states': patch})"
   ]
  },
  {
   "cell_type": "code",
   "execution_count": null,
   "id": "cc442e62-ef99-4e70-8d0d-3d40c586d544",
   "metadata": {},
   "outputs": [],
   "source": [
    "epi_model.run(parameters=parameters)"
   ]
  },
  {
   "cell_type": "code",
   "execution_count": null,
   "id": "94d0720d-245d-4bc4-8111-6955abf19a54",
   "metadata": {},
   "outputs": [],
   "source": [
    "derived_outs = epi_model.get_derived_outputs_df()\n",
    "start_pops_df = pd.DataFrame()\n",
    "for patch in ['wa', 'other']:\n",
    "    patch_data = derived_outs[[i for i in derived_outs.columns if f'{patch}_' in i]].iloc[0, :]\n",
    "    patch_data.index = patch_data.index.str.replace(f'{patch}_', '')\n",
    "    start_pops_df[patch] = patch_data\n",
    "start_pops_df.plot()"
   ]
  },
  {
   "cell_type": "code",
   "execution_count": null,
   "id": "731709b6-fbe8-4699-8c46-f5508e81c4b0",
   "metadata": {},
   "outputs": [],
   "source": [
    "plot_immune_props(epi_model, ext_vacc_df)"
   ]
  }
 ],
 "metadata": {
  "kernelspec": {
   "display_name": "Python 3 (ipykernel)",
   "language": "python",
   "name": "python3"
  },
  "language_info": {
   "codemirror_mode": {
    "name": "ipython",
    "version": 3
   },
   "file_extension": ".py",
   "mimetype": "text/x-python",
   "name": "python",
   "nbconvert_exporter": "python",
   "pygments_lexer": "ipython3",
   "version": "3.10.11"
  }
 },
 "nbformat": 4,
 "nbformat_minor": 5
}
