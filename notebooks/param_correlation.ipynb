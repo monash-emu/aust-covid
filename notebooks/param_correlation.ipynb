{
 "cells": [
  {
   "cell_type": "code",
   "execution_count": null,
   "id": "41b4a9d9-9e09-45c0-adff-6fbfa7005f3d",
   "metadata": {},
   "outputs": [],
   "source": [
    "import arviz as az\n",
    "import numpy as np\n",
    "import pandas as pd\n",
    "from plotly import graph_objects as go\n",
    "from emutools.utils import load_param_info\n",
    "from arviz.labels import MapLabeller\n",
    "import matplotlib as mpl\n",
    "from inputs.constants import SUPPLEMENT_PATH, RUN_IDS, RUNS_PATH, PRIMARY_ANALYSIS, BURN_IN\n",
    "\n",
    "az.rcParams['plot.max_subplots'] = 200\n",
    "mpl.rcParams['axes.facecolor'] = (0.2, 0.2, 0.4)"
   ]
  },
  {
   "cell_type": "code",
   "execution_count": null,
   "id": "8d952fe7-10b7-4a72-8efa-d971de932b90",
   "metadata": {},
   "outputs": [],
   "source": [
    "idata = az.from_netcdf(RUNS_PATH / RUN_IDS[PRIMARY_ANALYSIS] / 'output/calib_full_out.nc')\n",
    "idata = idata.sel(draw=np.s_[BURN_IN:])\n",
    "abbreviations = load_param_info()['abbreviations']"
   ]
  },
  {
   "cell_type": "code",
   "execution_count": null,
   "id": "c7c73ab6-bb2a-4e35-8e6e-f19455feb31e",
   "metadata": {},
   "outputs": [],
   "source": [
    "epi_params = [param for param in idata.posterior.keys() if '_dispersion' not in param]\n",
    "\n",
    "key_params = [\n",
    "    'contact_rate', \n",
    "    'latent_period',\n",
    "    'infectious_period', \n",
    "    'natural_immunity_period', \n",
    "    'start_cdr', \n",
    "    'imm_infect_protect',\n",
    "    'ba2_escape',\n",
    "    'ba5_escape',\n",
    "    'imm_prop',\n",
    "]\n",
    "\n",
    "imm_params = [\n",
    "    'natural_immunity_period',\n",
    "    'imm_infect_protect',\n",
    "    'ba2_escape',\n",
    "    'ba5_escape',\n",
    "    'imm_prop',\n",
    "]\n",
    "\n",
    "correlated_params = [\n",
    "    'contact_rate', \n",
    "    'infectious_period', \n",
    "    'imm_prop',\n",
    "    'start_cdr',\n",
    "    'natural_immunity_period',\n",
    "    'ifr_adjuster',\n",
    "    'ba2_escape',\n",
    "    'ba5_escape', \n",
    "    'ba5_seed_time',\n",
    "]"
   ]
  },
  {
   "cell_type": "code",
   "execution_count": null,
   "id": "224a186c-f9c5-4da2-9e4e-e4546aa7bca7",
   "metadata": {},
   "outputs": [],
   "source": [
    "fig = az.plot_pair(idata, var_names=epi_params, kind='kde', textsize=35, labeller=MapLabeller(var_name_map=abbreviations));"
   ]
  },
  {
   "cell_type": "code",
   "execution_count": null,
   "id": "75a8cabc-2ae2-41e5-b9f8-db05e012c82c",
   "metadata": {},
   "outputs": [],
   "source": [
    "fig = az.plot_pair(idata, var_names=key_params, kind='kde', textsize=30, labeller=MapLabeller(var_name_map=abbreviations));"
   ]
  },
  {
   "cell_type": "code",
   "execution_count": null,
   "id": "6065571f-a637-4cf1-adf6-a43ccf46834e",
   "metadata": {},
   "outputs": [],
   "source": [
    "fig = az.plot_pair(idata, var_names=imm_params, kind='kde', textsize=20, labeller=MapLabeller(var_name_map=abbreviations));"
   ]
  },
  {
   "cell_type": "code",
   "execution_count": null,
   "id": "16f4e00a-57d8-4793-a32b-fe9a8c65f4d5",
   "metadata": {},
   "outputs": [],
   "source": [
    "fig = az.plot_pair(idata, var_names=correlated_params, kind='kde', textsize=30, labeller=MapLabeller(var_name_map=abbreviations));"
   ]
  }
 ],
 "metadata": {
  "kernelspec": {
   "display_name": "Python 3 (ipykernel)",
   "language": "python",
   "name": "python3"
  },
  "language_info": {
   "codemirror_mode": {
    "name": "ipython",
    "version": 3
   },
   "file_extension": ".py",
   "mimetype": "text/x-python",
   "name": "python",
   "nbconvert_exporter": "python",
   "pygments_lexer": "ipython3",
   "version": "3.10.0"
  }
 },
 "nbformat": 4,
 "nbformat_minor": 5
}
