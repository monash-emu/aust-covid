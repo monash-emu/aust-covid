{
 "cells": [
  {
   "cell_type": "code",
   "execution_count": null,
   "id": "41b4a9d9-9e09-45c0-adff-6fbfa7005f3d",
   "metadata": {},
   "outputs": [],
   "source": [
    "import arviz as az\n",
    "import numpy as np\n",
    "import pandas as pd\n",
    "from plotly import graph_objects as go\n",
    "from emutools.utils import load_param_info\n",
    "from inputs.constants import SUPPLEMENT_PATH, RUN_IDS, RUNS_PATH, PRIMARY_ANALYSIS, BURN_IN"
   ]
  },
  {
   "cell_type": "code",
   "execution_count": null,
   "id": "9f0e8756-3872-4310-85be-5fb121e5a160",
   "metadata": {},
   "outputs": [],
   "source": [
    "import seaborn as sns"
   ]
  },
  {
   "cell_type": "code",
   "execution_count": null,
   "id": "8d952fe7-10b7-4a72-8efa-d971de932b90",
   "metadata": {},
   "outputs": [],
   "source": [
    "idata = az.from_netcdf(RUNS_PATH / RUN_IDS[PRIMARY_ANALYSIS] / 'output/calib_full_out.nc')\n",
    "idata = idata.sel(draw=np.s_[BURN_IN:])"
   ]
  },
  {
   "cell_type": "code",
   "execution_count": null,
   "id": "a82fe405-0caf-43c7-b7a9-2f117ac09a75",
   "metadata": {},
   "outputs": [],
   "source": [
    "post_df = idata.posterior.to_dataframe()\n",
    "post_df = post_df[[i for i in post_df.columns if '_dispersion' not in i]]"
   ]
  },
  {
   "cell_type": "code",
   "execution_count": null,
   "id": "c7c73ab6-bb2a-4e35-8e6e-f19455feb31e",
   "metadata": {},
   "outputs": [],
   "source": [
    "key_params = [\n",
    "    'contact_rate', \n",
    "    'latent_period', \n",
    "    'infectious_period', \n",
    "    'natural_immunity_period', \n",
    "    'start_cdr', \n",
    "    'imm_infect_protect',\n",
    "    'ifr_adjuster',\n",
    "    'ba2_escape',\n",
    "    'ba5_escape',\n",
    "    'ba2_rel_ifr',\n",
    "    'imm_prop',\n",
    "]"
   ]
  },
  {
   "cell_type": "code",
   "execution_count": null,
   "id": "71ab0486-a7e9-4a6e-a276-81abe88089d4",
   "metadata": {},
   "outputs": [],
   "source": [
    "imm_params = [\n",
    "    'natural_immunity_period', \n",
    "    'imm_infect_protect',\n",
    "    'ba2_escape',\n",
    "    'ba5_escape',\n",
    "    'imm_prop',\n",
    "]"
   ]
  },
  {
   "cell_type": "code",
   "execution_count": null,
   "id": "c6ef93c1-8968-4124-9bd2-3b7232ecb1f2",
   "metadata": {},
   "outputs": [],
   "source": [
    "def get_bin_centres(bins):\n",
    "    return (bins + (bins[1] - bins[0]) / 2)[:-1]    \n",
    "\n",
    "def get_hist_df_from_params(data, param_1, param_2, bins):\n",
    "    hist_data = np.histogram2d(data[param_1], data[param_2], bins=bins)\n",
    "    x_bins_centres = get_bin_centres(hist_data[1])\n",
    "    y_bins_centres = get_bin_centres(hist_data[2])\n",
    "    return pd.DataFrame(hist_data[0], index=x_bins_centres, columns=y_bins_centres)\n",
    "\n",
    "def plot_3d_param_hist(param_1, param_2, abbreviations):\n",
    "    hist_df = get_hist_df_from_params(post_df, param_1, param_2, 50)\n",
    "    fig = go.Figure(data=[go.Surface(z=hist_df)])\n",
    "    xaxis_spec = {'title': abbreviations[param_1]}\n",
    "    yaxis_spec = {'title': abbreviations[param_2]}\n",
    "    zaxis_spec = {'title': 'density', 'range': (0.0, hist_df.max().max() * 1.5)}\n",
    "    all_specs = {'xaxis': xaxis_spec, 'yaxis': yaxis_spec, 'zaxis': zaxis_spec}\n",
    "    return fig.update_layout(height=800, scene=all_specs, margin={i: 25 for i in ['t', 'b', 'l', 'r']})"
   ]
  },
  {
   "cell_type": "code",
   "execution_count": null,
   "id": "a8685cf2-6ad9-42a1-997f-81388103e0b4",
   "metadata": {},
   "outputs": [],
   "source": [
    "param_abbreviations = load_param_info()['abbreviations']\n",
    "param_1 = 'natural_immunity_period'\n",
    "param_2 = 'ba2_escape'\n",
    "plot_3d_param_hist(param_1, param_2, param_abbreviations)"
   ]
  },
  {
   "cell_type": "code",
   "execution_count": null,
   "id": "cfcc0b86-86ff-4e83-bfab-c9d0f10971d2",
   "metadata": {},
   "outputs": [],
   "source": [
    "az.plot_pair(idata)"
   ]
  },
  {
   "cell_type": "code",
   "execution_count": null,
   "id": "c1c94397-71c6-44e7-a26f-ca7ea1596cea",
   "metadata": {},
   "outputs": [],
   "source": [
    "az.plot_pair(idata, kind='hexbin')"
   ]
  },
  {
   "cell_type": "code",
   "execution_count": null,
   "id": "f7c3139d-1dbf-4064-acf5-5b45db1979d7",
   "metadata": {},
   "outputs": [],
   "source": [
    "az.plot_pair(idata, kind='kde')"
   ]
  },
  {
   "cell_type": "code",
   "execution_count": null,
   "id": "1fec7490-f44c-4194-9363-6626a7bd8fc6",
   "metadata": {},
   "outputs": [],
   "source": [
    "sns.pairplot(post_df)"
   ]
  },
  {
   "cell_type": "code",
   "execution_count": null,
   "id": "a05f062f-bcba-4dba-b871-de90fc9ed45f",
   "metadata": {},
   "outputs": [],
   "source": [
    "sns.pairplot(post_df[key_params])"
   ]
  },
  {
   "cell_type": "code",
   "execution_count": null,
   "id": "cc2620fc-07b9-4871-b228-2a22bef96d5f",
   "metadata": {},
   "outputs": [],
   "source": [
    "sns.pairplot(post_df[imm_params])"
   ]
  }
 ],
 "metadata": {
  "kernelspec": {
   "display_name": "Python 3 (ipykernel)",
   "language": "python",
   "name": "python3"
  },
  "language_info": {
   "codemirror_mode": {
    "name": "ipython",
    "version": 3
   },
   "file_extension": ".py",
   "mimetype": "text/x-python",
   "name": "python",
   "nbconvert_exporter": "python",
   "pygments_lexer": "ipython3",
   "version": "3.10.0"
  }
 },
 "nbformat": 4,
 "nbformat_minor": 5
}
