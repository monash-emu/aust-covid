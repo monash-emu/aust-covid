{
 "cells": [
  {
   "cell_type": "code",
   "execution_count": null,
   "id": "41b4a9d9-9e09-45c0-adff-6fbfa7005f3d",
   "metadata": {},
   "outputs": [],
   "source": [
    "import arviz as az\n",
    "import numpy as np\n",
    "import pandas as pd\n",
    "from plotly import graph_objects as go\n",
    "from emutools.utils import load_param_info\n",
    "from arviz.labels import MapLabeller\n",
    "import matplotlib as mpl\n",
    "from emutools.tex import StandardTexDoc, add_image_to_doc\n",
    "from inputs.constants import SUPPLEMENT_PATH, RUN_IDS, RUNS_PATH, PRIMARY_ANALYSIS, BURN_IN\n",
    "\n",
    "az.rcParams['plot.max_subplots'] = 200\n",
    "mpl.rcParams['axes.facecolor'] = (0.2, 0.2, 0.4)"
   ]
  },
  {
   "cell_type": "code",
   "execution_count": null,
   "id": "8d952fe7-10b7-4a72-8efa-d971de932b90",
   "metadata": {},
   "outputs": [],
   "source": [
    "app_doc = StandardTexDoc(SUPPLEMENT_PATH, 'correlation', 'Parameter correlation', 'austcovid')\n",
    "idata = az.from_netcdf(RUNS_PATH / RUN_IDS[PRIMARY_ANALYSIS] / 'output/calib_full_out.nc')\n",
    "idata = idata.sel(draw=np.s_[BURN_IN:])\n",
    "abbreviations = load_param_info()['abbreviations']"
   ]
  },
  {
   "cell_type": "code",
   "execution_count": null,
   "id": "c7c73ab6-bb2a-4e35-8e6e-f19455feb31e",
   "metadata": {},
   "outputs": [],
   "source": [
    "epi_params = [param for param in idata.posterior.keys() if '_dispersion' not in param]\n",
    "\n",
    "key_params = [\n",
    "    'contact_rate', \n",
    "    'latent_period',\n",
    "    'infectious_period', \n",
    "    'natural_immunity_period', \n",
    "    'start_cdr', \n",
    "    'imm_infect_protect',\n",
    "    'ba2_escape',\n",
    "    'ba5_escape',\n",
    "    'imm_prop',\n",
    "]\n",
    "\n",
    "imm_params = [\n",
    "    'natural_immunity_period',\n",
    "    'imm_infect_protect',\n",
    "    'ba2_escape',\n",
    "    'ba5_escape',\n",
    "    'imm_prop',\n",
    "]\n",
    "\n",
    "correlated_params = [\n",
    "    'contact_rate', \n",
    "    'infectious_period', \n",
    "    'imm_prop',\n",
    "    'start_cdr',\n",
    "    'natural_immunity_period',\n",
    "    'ifr_adjuster',\n",
    "    'ba2_escape',\n",
    "    'ba5_escape', \n",
    "    'ba5_seed_time',\n",
    "]"
   ]
  },
  {
   "cell_type": "code",
   "execution_count": null,
   "id": "224a186c-f9c5-4da2-9e4e-e4546aa7bca7",
   "metadata": {},
   "outputs": [],
   "source": [
    "fig = az.plot_pair(idata, var_names=epi_params, kind='kde', textsize=35, labeller=MapLabeller(var_name_map=abbreviations))\n",
    "add_image_to_doc(fig, 'all_param_correlation', 'svg', 'All parameter correlation plot matrix.', app_doc, 'Calibration results', subsection='Parameter correlation', fig_width=1.0)"
   ]
  },
  {
   "cell_type": "code",
   "execution_count": null,
   "id": "75a8cabc-2ae2-41e5-b9f8-db05e012c82c",
   "metadata": {},
   "outputs": [],
   "source": [
    "fig = az.plot_pair(idata, var_names=key_params, kind='kde', textsize=30, labeller=MapLabeller(var_name_map=abbreviations))\n",
    "add_image_to_doc(fig, 'key_param_correlation', 'svg', 'Selected parameter correlation plot matrix.', app_doc, 'Calibration results', subsection='Parameter correlation', fig_width=1.0)"
   ]
  },
  {
   "cell_type": "code",
   "execution_count": null,
   "id": "6065571f-a637-4cf1-adf6-a43ccf46834e",
   "metadata": {},
   "outputs": [],
   "source": [
    "fig = az.plot_pair(idata, var_names=imm_params, kind='kde', textsize=20, labeller=MapLabeller(var_name_map=abbreviations))\n",
    "add_image_to_doc(fig, 'imm_param_correlation', 'svg', 'Immunity-related parameter correlation plot matrix.', app_doc, 'Calibration results', subsection='Parameter correlation', fig_width=1.0)"
   ]
  },
  {
   "cell_type": "code",
   "execution_count": null,
   "id": "e30eed91-5582-4e08-baa0-4e92336ba38f",
   "metadata": {},
   "outputs": [],
   "source": [
    "blurb = 'Figures \\\\ref{all_param_correlation}, \\\\ref{key_param_correlation} and \\\\ref{imm_param_correlation} ' \\\n",
    "    'show the bivariate distributions of various sets of pairs of parameters used in the calibration algorithm. '\n",
    "app_doc.add_line(blurb, 'Calibration results', subsection='Parameter correlation')\n",
    "app_doc.write_doc()"
   ]
  }
 ],
 "metadata": {
  "kernelspec": {
   "display_name": "Python 3 (ipykernel)",
   "language": "python",
   "name": "python3"
  },
  "language_info": {
   "codemirror_mode": {
    "name": "ipython",
    "version": 3
   },
   "file_extension": ".py",
   "mimetype": "text/x-python",
   "name": "python",
   "nbconvert_exporter": "python",
   "pygments_lexer": "ipython3",
   "version": "3.10.0"
  }
 },
 "nbformat": 4,
 "nbformat_minor": 5
}
