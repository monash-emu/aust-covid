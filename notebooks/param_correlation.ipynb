{
 "cells": [
  {
   "cell_type": "markdown",
   "id": "0",
   "metadata": {
    "tags": []
   },
   "source": [
    "## Parameter correlation figure matrices\n",
    "This notebook provides pairwise correlation plots for groups or parameters by default. It also provides an easy interface for plotting bivariate distributions of user-specified combinations of parameters from the calibration algorithm."
   ]
  },
  {
   "cell_type": "code",
   "execution_count": null,
   "id": "1",
   "metadata": {},
   "outputs": [],
   "source": [
    "import arviz as az\n",
    "import numpy as np\n",
    "from arviz.labels import MapLabeller\n",
    "import matplotlib as mpl\n",
    "\n",
    "from aust_covid.constants import RUN_IDS, PRIMARY_ANALYSIS, BURN_IN, set_project_base_path\n",
    "from emutools.utils import load_param_info\n",
    "\n",
    "project_paths = set_project_base_path(\"../\")\n",
    "RUNS_PATH = project_paths[\"RUNS_PATH\"]\n",
    "\n",
    "az.rcParams[\"plot.max_subplots\"] = 200\n",
    "mpl.rcParams[\"axes.facecolor\"] = (0.2, 0.2, 0.4)"
   ]
  },
  {
   "cell_type": "code",
   "execution_count": null,
   "id": "2",
   "metadata": {},
   "outputs": [],
   "source": [
    "idata = az.from_netcdf(RUNS_PATH / RUN_IDS[PRIMARY_ANALYSIS] / \"output/calib_full_out.nc\")\n",
    "idata = idata.sel(draw=np.s_[BURN_IN:])\n",
    "abbreviations = load_param_info()[\"abbreviations\"]"
   ]
  },
  {
   "cell_type": "code",
   "execution_count": null,
   "id": "3",
   "metadata": {},
   "outputs": [],
   "source": [
    "epi_params = [param for param in idata.posterior.keys() if \"_dispersion\" not in param]\n",
    "\n",
    "key_params = [\n",
    "    \"contact_rate\", \n",
    "    \"latent_period\",\n",
    "    \"infectious_period\", \n",
    "    \"natural_immunity_period\", \n",
    "    \"start_cdr\", \n",
    "    \"imm_infect_protect\",\n",
    "    \"ba2_escape\",\n",
    "    \"ba5_escape\",\n",
    "    \"imm_prop\",\n",
    "]\n",
    "\n",
    "imm_params = [\n",
    "    \"natural_immunity_period\",\n",
    "    \"imm_infect_protect\",\n",
    "    \"ba2_escape\",\n",
    "    \"ba5_escape\",\n",
    "    \"imm_prop\",\n",
    "]"
   ]
  },
  {
   "cell_type": "markdown",
   "id": "4",
   "metadata": {},
   "source": [
    "### Epidemiological parameters"
   ]
  },
  {
   "cell_type": "code",
   "execution_count": null,
   "id": "5",
   "metadata": {},
   "outputs": [],
   "source": [
    "az.plot_pair(idata, var_names=epi_params, kind=\"kde\", textsize=35, labeller=MapLabeller(var_name_map=abbreviations));"
   ]
  },
  {
   "cell_type": "markdown",
   "id": "6",
   "metadata": {},
   "source": [
    "### Selected \"key\" parameters\n",
    "Adjustment to axes to more clearly visualise high-density regions - to produce Figure 6 of manuscript."
   ]
  },
  {
   "cell_type": "code",
   "execution_count": null,
   "id": "7",
   "metadata": {},
   "outputs": [],
   "source": [
    "fig = az.plot_pair(idata, var_names=key_params, kind=\"kde\", textsize=30, labeller=MapLabeller(var_name_map=abbreviations))\n",
    "fig[2][0].set_ylim((0.0, 300.0))\n",
    "fig[3][3].set_xlim((0.0, 300.0));"
   ]
  },
  {
   "cell_type": "markdown",
   "id": "8",
   "metadata": {},
   "source": [
    "### Immunity-related parameters"
   ]
  },
  {
   "cell_type": "code",
   "execution_count": null,
   "id": "9",
   "metadata": {},
   "outputs": [],
   "source": [
    "az.plot_pair(idata, var_names=imm_params, kind=\"kde\", textsize=20, labeller=MapLabeller(var_name_map=abbreviations));"
   ]
  }
 ],
 "metadata": {
  "kernelspec": {
   "display_name": "Python 3 (ipykernel)",
   "language": "python",
   "name": "python3"
  },
  "language_info": {
   "codemirror_mode": {
    "name": "ipython",
    "version": 3
   },
   "file_extension": ".py",
   "mimetype": "text/x-python",
   "name": "python",
   "nbconvert_exporter": "python",
   "pygments_lexer": "ipython3",
   "version": "3.10.14"
  }
 },
 "nbformat": 4,
 "nbformat_minor": 5
}
