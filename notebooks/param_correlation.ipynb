{
 "cells": [
  {
   "cell_type": "markdown",
   "id": "b7106382-2353-45af-a307-ac0ac6d140b2",
   "metadata": {
    "tags": []
   },
   "source": [
    "## Parameter correlation figure matrices\n",
    "\n",
    "This notebook allows comparison of bivariate distributions of pairs of parameters from the calibration algorithm.\n",
    "\n",
    "### Running over Colab\n",
    "Uncomment the commands in the following cell to install in Colab.\n",
    "Once completed, click the 'Restart runtime' button that will appear to restart the Colab environment and then proceed to the following cells."
   ]
  },
  {
   "cell_type": "code",
   "execution_count": null,
   "id": "65a63a8c-6f89-4346-ae80-9752b5493ce8",
   "metadata": {},
   "outputs": [],
   "source": [
    "# !pip uninstall numba -y\n",
    "# !pip uninstall librosa -y\n",
    "# !pip install estival==0.4.9 numpy==1.24.3 kaleido"
   ]
  },
  {
   "cell_type": "code",
   "execution_count": null,
   "id": "df5aa07c-2dbd-4b39-bada-30a9513093e7",
   "metadata": {},
   "outputs": [],
   "source": [
    "try:\n",
    "    import google.colab\n",
    "    on_colab = True\n",
    "    ! git clone https://github.com/monash-emu/aust-covid.git --branch main\n",
    "    %cd aust-covid\n",
    "    %pip install -e ./\n",
    "    import multiprocessing as mp\n",
    "    mp.set_start_method('forkserver')\n",
    "except:\n",
    "    on_colab = False"
   ]
  },
  {
   "cell_type": "code",
   "execution_count": null,
   "id": "41b4a9d9-9e09-45c0-adff-6fbfa7005f3d",
   "metadata": {},
   "outputs": [],
   "source": [
    "import arviz as az\n",
    "import numpy as np\n",
    "import pandas as pd\n",
    "from plotly import graph_objects as go\n",
    "from emutools.utils import load_param_info\n",
    "from arviz.labels import MapLabeller\n",
    "import matplotlib as mpl\n",
    "from emutools.tex import StandardTexDoc, add_image_to_doc\n",
    "from inputs.constants import SUPPLEMENT_PATH, RUN_IDS, RUNS_PATH, PRIMARY_ANALYSIS, BURN_IN\n",
    "\n",
    "az.rcParams['plot.max_subplots'] = 200\n",
    "mpl.rcParams['axes.facecolor'] = (0.2, 0.2, 0.4)"
   ]
  },
  {
   "cell_type": "code",
   "execution_count": null,
   "id": "8d952fe7-10b7-4a72-8efa-d971de932b90",
   "metadata": {},
   "outputs": [],
   "source": [
    "app_doc = StandardTexDoc(SUPPLEMENT_PATH, 'correlation', 'Parameter correlation', 'austcovid')\n",
    "idata = az.from_netcdf(RUNS_PATH / RUN_IDS[PRIMARY_ANALYSIS] / 'output/calib_full_out.nc')\n",
    "idata = idata.sel(draw=np.s_[BURN_IN:])\n",
    "abbreviations = load_param_info()['abbreviations']"
   ]
  },
  {
   "cell_type": "code",
   "execution_count": null,
   "id": "c7c73ab6-bb2a-4e35-8e6e-f19455feb31e",
   "metadata": {},
   "outputs": [],
   "source": [
    "epi_params = [param for param in idata.posterior.keys() if '_dispersion' not in param]\n",
    "\n",
    "key_params = [\n",
    "    'contact_rate', \n",
    "    'latent_period',\n",
    "    'infectious_period', \n",
    "    'natural_immunity_period', \n",
    "    'start_cdr', \n",
    "    'imm_infect_protect',\n",
    "    'ba2_escape',\n",
    "    'ba5_escape',\n",
    "    'imm_prop',\n",
    "]\n",
    "\n",
    "imm_params = [\n",
    "    'natural_immunity_period',\n",
    "    'imm_infect_protect',\n",
    "    'ba2_escape',\n",
    "    'ba5_escape',\n",
    "    'imm_prop',\n",
    "]"
   ]
  },
  {
   "cell_type": "code",
   "execution_count": null,
   "id": "224a186c-f9c5-4da2-9e4e-e4546aa7bca7",
   "metadata": {},
   "outputs": [],
   "source": [
    "fig = az.plot_pair(idata, var_names=epi_params, kind='kde', textsize=35, labeller=MapLabeller(var_name_map=abbreviations))\n",
    "add_image_to_doc(fig, 'all_param_correlation', 'svg', 'All parameter correlation plot matrix.', app_doc, 'Calibration results', subsection='Parameter correlation', fig_width=1.0)"
   ]
  },
  {
   "cell_type": "code",
   "execution_count": null,
   "id": "75a8cabc-2ae2-41e5-b9f8-db05e012c82c",
   "metadata": {},
   "outputs": [],
   "source": [
    "fig = az.plot_pair(idata, var_names=key_params, kind='kde', textsize=30, labeller=MapLabeller(var_name_map=abbreviations))\n",
    "add_image_to_doc(fig, 'key_param_correlation', 'svg', 'Selected parameter correlation plot matrix.', app_doc, 'Calibration results', subsection='Parameter correlation', fig_width=1.0)"
   ]
  },
  {
   "cell_type": "code",
   "execution_count": null,
   "id": "85628cf0-f4af-4e60-aa53-c9b855c4e024",
   "metadata": {},
   "outputs": [],
   "source": [
    "fig = az.plot_pair(idata, var_names=key_params, kind='kde', textsize=30, labeller=MapLabeller(var_name_map=abbreviations))\n",
    "fig[2][0].set_ylim((0.0, 300.0))\n",
    "fig[3][3].set_xlim((0.0, 300.0))\n",
    "add_image_to_doc(fig, 'key_param_correlation', 'svg', 'Selected parameter correlation plot matrix.', app_doc, 'Calibration results', subsection='Parameter correlation', fig_width=1.0)"
   ]
  },
  {
   "cell_type": "code",
   "execution_count": null,
   "id": "6065571f-a637-4cf1-adf6-a43ccf46834e",
   "metadata": {},
   "outputs": [],
   "source": [
    "fig = az.plot_pair(idata, var_names=imm_params, kind='kde', textsize=20, labeller=MapLabeller(var_name_map=abbreviations))\n",
    "add_image_to_doc(fig, 'imm_param_correlation', 'svg', 'Immunity-related parameter correlation plot matrix.', app_doc, 'Calibration results', subsection='Parameter correlation', fig_width=1.0)"
   ]
  },
  {
   "cell_type": "code",
   "execution_count": null,
   "id": "e30eed91-5582-4e08-baa0-4e92336ba38f",
   "metadata": {},
   "outputs": [],
   "source": [
    "blurb = 'Figures \\\\ref{all_param_correlation}, \\\\ref{key_param_correlation} and \\\\ref{imm_param_correlation} ' \\\n",
    "    'show the bivariate distributions of various sets of pairs of parameters used in the calibration algorithm. '\n",
    "app_doc.add_line(blurb, 'Calibration results', subsection='Parameter correlation')\n",
    "app_doc.write_doc()"
   ]
  },
  {
   "cell_type": "code",
   "execution_count": null,
   "id": "5377242f-13a4-46e8-ba30-fba5ec812ad6",
   "metadata": {},
   "outputs": [],
   "source": [
    "if on_colab:\n",
    "    # To build a PDF, we need the appropriate tex packages installed\n",
    "    ! apt-get -y install inkscape texlive-latex-base texlive-fonts-recommended texlive-fonts-extra texlive-latex-extra texlive-bibtex-extra biber\n",
    "    # To avoid clutter and navigate to the right directory\n",
    "    import os\n",
    "    os.chdir(SUPPLEMENT_PATH)\n",
    "    # And finally build the formatted PDF, repeated commands are necessary\n",
    "    ! pdflatex -shell-escape correlation\n",
    "    ! pdflatex -shell-escape correlation\n",
    "    ! pdflatex -shell-escape correlation"
   ]
  }
 ],
 "metadata": {
  "kernelspec": {
   "display_name": "Python 3 (ipykernel)",
   "language": "python",
   "name": "python3"
  },
  "language_info": {
   "codemirror_mode": {
    "name": "ipython",
    "version": 3
   },
   "file_extension": ".py",
   "mimetype": "text/x-python",
   "name": "python",
   "nbconvert_exporter": "python",
   "pygments_lexer": "ipython3",
   "version": "3.10.0"
  }
 },
 "nbformat": 4,
 "nbformat_minor": 5
}
