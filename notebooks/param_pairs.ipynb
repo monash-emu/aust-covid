{
 "cells": [
  {
   "cell_type": "markdown",
   "id": "0",
   "metadata": {
    "tags": []
   },
   "source": [
    "## Parameter pair correlation\n",
    "This notebook produces 3D plots of user-specified pairs of parameters from the algorithm."
   ]
  },
  {
   "cell_type": "code",
   "execution_count": null,
   "id": "1",
   "metadata": {},
   "outputs": [],
   "source": [
    "import arviz as az\n",
    "import numpy as np\n",
    "from itertools import combinations\n",
    "\n",
    "from aust_covid.constants import RUN_IDS, PRIMARY_ANALYSIS, BURN_IN, set_project_base_path\n",
    "from emutools.utils import load_param_info\n",
    "from emutools.calibration import plot_3d_param_hist, plot_3d_param_corr\n",
    "\n",
    "project_paths = set_project_base_path(\"../\")\n",
    "RUNS_PATH = project_paths[\"RUNS_PATH\"]\n",
    "OUTPUTS_PATH = project_paths[\"OUTPUTS_PATH\"]"
   ]
  },
  {
   "cell_type": "code",
   "execution_count": null,
   "id": "2",
   "metadata": {},
   "outputs": [],
   "source": [
    "idata = az.from_netcdf(RUNS_PATH / RUN_IDS[PRIMARY_ANALYSIS] / \"output/calib_full_out.nc\")\n",
    "idata = idata.sel(draw=np.s_[BURN_IN:])"
   ]
  },
  {
   "cell_type": "markdown",
   "id": "3",
   "metadata": {},
   "source": [
    "Available parameters for comparison are:"
   ]
  },
  {
   "cell_type": "code",
   "execution_count": null,
   "id": "4",
   "metadata": {},
   "outputs": [],
   "source": [
    "list(idata.posterior.keys())"
   ]
  },
  {
   "cell_type": "code",
   "execution_count": null,
   "id": "5",
   "metadata": {},
   "outputs": [],
   "source": [
    "key_params = [\n",
    "    \"contact_rate\",\n",
    "    \"start_cdr\",\n",
    "    \"infectious_period\",\n",
    "    \"imm_prop\",\n",
    "    \"natural_immunity_period\",\n",
    "]"
   ]
  },
  {
   "cell_type": "code",
   "execution_count": null,
   "id": "6",
   "metadata": {},
   "outputs": [],
   "source": [
    "for params in combinations(key_params, 3):\n",
    "    fig = plot_3d_param_corr(idata, params, marker_size=3, n_samples=5000)\n",
    "    fig.write_html(OUTPUTS_PATH / f\"corr_{params[0]}X{params[1]}X{params[2]}.html\")\n",
    "fig"
   ]
  },
  {
   "cell_type": "code",
   "execution_count": null,
   "id": "7",
   "metadata": {},
   "outputs": [],
   "source": [
    "# Generating text for linking repo to online interactive visuals\n",
    "# abbreviations = load_param_info()[\"abbreviations\"]\n",
    "# for params in combinations(key_params, 3):\n",
    "    # print(f\"- [{abbreviations[params[0]]} versus {abbreviations[params[1]]} versus {abbreviations[params[2]]}](corr_{params[0]}X{params[1]}X{params[2]})\")"
   ]
  }
 ],
 "metadata": {
  "kernelspec": {
   "display_name": "Python 3 (ipykernel)",
   "language": "python",
   "name": "python3"
  },
  "language_info": {
   "codemirror_mode": {
    "name": "ipython",
    "version": 3
   },
   "file_extension": ".py",
   "mimetype": "text/x-python",
   "name": "python",
   "nbconvert_exporter": "python",
   "pygments_lexer": "ipython3",
   "version": "3.10.14"
  }
 },
 "nbformat": 4,
 "nbformat_minor": 5
}
