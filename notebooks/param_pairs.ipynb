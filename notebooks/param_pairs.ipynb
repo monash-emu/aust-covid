{
 "cells": [
  {
   "cell_type": "markdown",
   "id": "5c57ac5f-d6ac-4c33-b204-a467cbc76e2e",
   "metadata": {
    "tags": []
   },
   "source": [
    "## Parameter pair correlation\n",
    "\n",
    "This notebook allows comparison of user-specified pairs of parameters from the algorithm,\n",
    "supporting examination of parameter correlation.\n",
    "\n",
    "### Running over Colab\n",
    "Uncomment the commands in the following cell to install in Colab.\n",
    "Once completed, click the 'Restart runtime' button that will appear to restart the Colab environment and then proceed to the following cells."
   ]
  },
  {
   "cell_type": "code",
   "execution_count": null,
   "id": "b5f77a9e-fa39-4fdc-bd5a-cf338870abeb",
   "metadata": {},
   "outputs": [],
   "source": [
    "# !pip uninstall numba -y\n",
    "# !pip uninstall librosa -y\n",
    "# !pip install estival==0.4.9 numpy==1.24.3 kaleido"
   ]
  },
  {
   "cell_type": "code",
   "execution_count": null,
   "id": "87d24262-9df6-4a0b-9c65-4c399410d1c2",
   "metadata": {},
   "outputs": [],
   "source": [
    "try:\n",
    "    import google.colab\n",
    "    on_colab = True\n",
    "    ! git clone https://github.com/monash-emu/aust-covid.git --branch parameter-correlation\n",
    "    %cd aust-covid\n",
    "    %pip install -e ./\n",
    "    import multiprocessing as mp\n",
    "    mp.set_start_method('forkserver')\n",
    "except:\n",
    "    on_colab = False"
   ]
  },
  {
   "cell_type": "code",
   "execution_count": null,
   "id": "41b4a9d9-9e09-45c0-adff-6fbfa7005f3d",
   "metadata": {},
   "outputs": [],
   "source": [
    "import arviz as az\n",
    "import numpy as np\n",
    "from emutools.utils import load_param_info\n",
    "from inputs.constants import RUN_IDS, RUNS_PATH, PRIMARY_ANALYSIS, BURN_IN\n",
    "from emutools.calibration import plot_3d_param_hist"
   ]
  },
  {
   "cell_type": "code",
   "execution_count": null,
   "id": "8d952fe7-10b7-4a72-8efa-d971de932b90",
   "metadata": {},
   "outputs": [],
   "source": [
    "idata = az.from_netcdf(RUNS_PATH / RUN_IDS[PRIMARY_ANALYSIS] / 'output/calib_full_out.nc')\n",
    "idata = idata.sel(draw=np.s_[BURN_IN:])"
   ]
  },
  {
   "cell_type": "markdown",
   "id": "c51dc55d-a9e2-4ead-a3d4-3a8771aedc22",
   "metadata": {},
   "source": [
    "Available parameters for comparison are:"
   ]
  },
  {
   "cell_type": "code",
   "execution_count": null,
   "id": "a0e65063-c23b-4e4d-ab1f-18eb458d695a",
   "metadata": {},
   "outputs": [],
   "source": [
    "list(idata.posterior.keys())"
   ]
  },
  {
   "cell_type": "code",
   "execution_count": null,
   "id": "fc1faf1f-3ce7-44e0-a5e1-2eabe736127c",
   "metadata": {},
   "outputs": [],
   "source": [
    "correlated_pairs = [\n",
    "    ['contact_rate', 'infectious_period'],\n",
    "    ['contact_rate', 'imm_prop'],\n",
    "    ['start_cdr', 'natural_immunity_period'],\n",
    "    ['ifr_adjuster', 'natural_immunity_period'],\n",
    "    ['natural_immunity_period', 'ba2_escape'],\n",
    "    ['natural_immunity_period', 'ba5_escape'],\n",
    "    ['ba5_escape', 'ba5_seed_time'],\n",
    "]"
   ]
  },
  {
   "cell_type": "code",
   "execution_count": null,
   "id": "a8685cf2-6ad9-42a1-997f-81388103e0b4",
   "metadata": {},
   "outputs": [],
   "source": [
    "plot_3d_param_hist(idata, correlated_pairs[0][0], correlated_pairs[0][1], load_param_info()['abbreviations'])"
   ]
  },
  {
   "cell_type": "markdown",
   "id": "517f1bfc-bbf8-40b2-b097-300246f1e07d",
   "metadata": {},
   "source": [
    "Code used for saving htmls of key parameter correlations"
   ]
  },
  {
   "cell_type": "code",
   "execution_count": null,
   "id": "30d03211-5bfe-4eeb-a71b-e1308d39544d",
   "metadata": {},
   "outputs": [],
   "source": [
    "# for pair in correlated_pairs:\n",
    "#     fig = plot_3d_param_hist(idata, pair[0], pair[1], load_param_info()['abbreviations'])\n",
    "#     fig.write_html(f'corr_{pair[0]}X{pair[1]}.html')"
   ]
  }
 ],
 "metadata": {
  "kernelspec": {
   "display_name": "Python 3 (ipykernel)",
   "language": "python",
   "name": "python3"
  },
  "language_info": {
   "codemirror_mode": {
    "name": "ipython",
    "version": 3
   },
   "file_extension": ".py",
   "mimetype": "text/x-python",
   "name": "python",
   "nbconvert_exporter": "python",
   "pygments_lexer": "ipython3",
   "version": "3.10.0"
  }
 },
 "nbformat": 4,
 "nbformat_minor": 5
}
