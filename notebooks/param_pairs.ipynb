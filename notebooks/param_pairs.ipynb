{
 "cells": [
  {
   "cell_type": "markdown",
   "id": "5c57ac5f-d6ac-4c33-b204-a467cbc76e2e",
   "metadata": {},
   "source": [
    "## Parameter pair correlation\n",
    "\n",
    "This notebook allows comparison of user-specified pairs of parameters from the algorithm,\n",
    "supporting examination of parameter correlation."
   ]
  },
  {
   "cell_type": "code",
   "execution_count": null,
   "id": "41b4a9d9-9e09-45c0-adff-6fbfa7005f3d",
   "metadata": {},
   "outputs": [],
   "source": [
    "import arviz as az\n",
    "import numpy as np\n",
    "from emutools.utils import load_param_info\n",
    "from inputs.constants import RUN_IDS, RUNS_PATH, PRIMARY_ANALYSIS, BURN_IN\n",
    "from emutools.calibration import plot_3d_param_hist"
   ]
  },
  {
   "cell_type": "code",
   "execution_count": null,
   "id": "8d952fe7-10b7-4a72-8efa-d971de932b90",
   "metadata": {},
   "outputs": [],
   "source": [
    "idata = az.from_netcdf(RUNS_PATH / RUN_IDS[PRIMARY_ANALYSIS] / 'output/calib_full_out.nc')\n",
    "idata = idata.sel(draw=np.s_[BURN_IN:])"
   ]
  },
  {
   "cell_type": "markdown",
   "id": "c51dc55d-a9e2-4ead-a3d4-3a8771aedc22",
   "metadata": {},
   "source": [
    "Available parameters for comparison are:"
   ]
  },
  {
   "cell_type": "code",
   "execution_count": null,
   "id": "a0e65063-c23b-4e4d-ab1f-18eb458d695a",
   "metadata": {},
   "outputs": [],
   "source": [
    "list(idata.posterior.keys())"
   ]
  },
  {
   "cell_type": "code",
   "execution_count": null,
   "id": "a8685cf2-6ad9-42a1-997f-81388103e0b4",
   "metadata": {},
   "outputs": [],
   "source": [
    "plot_3d_param_hist(idata, 'natural_immunity_period', 'ifr_adjuster', load_param_info()['abbreviations'])"
   ]
  }
 ],
 "metadata": {
  "kernelspec": {
   "display_name": "Python 3 (ipykernel)",
   "language": "python",
   "name": "python3"
  },
  "language_info": {
   "codemirror_mode": {
    "name": "ipython",
    "version": 3
   },
   "file_extension": ".py",
   "mimetype": "text/x-python",
   "name": "python",
   "nbconvert_exporter": "python",
   "pygments_lexer": "ipython3",
   "version": "3.10.0"
  }
 },
 "nbformat": 4,
 "nbformat_minor": 5
}
