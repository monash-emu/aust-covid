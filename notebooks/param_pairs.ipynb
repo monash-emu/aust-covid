{
 "cells": [
  {
   "cell_type": "markdown",
   "id": "5c57ac5f-d6ac-4c33-b204-a467cbc76e2e",
   "metadata": {
    "tags": []
   },
   "source": [
    "## Parameter pair correlation\n",
    "\n",
    "This notebook allows comparison of user-specified pairs of parameters from the algorithm,\n",
    "supporting examination of parameter correlation.\n",
    "\n",
    "### Running over Colab\n",
    "Uncomment the commands in the following cell to install in Colab.\n",
    "Once completed, click the 'Restart runtime' button that will appear to restart the Colab environment and then proceed to the following cells."
   ]
  },
  {
   "cell_type": "code",
   "execution_count": null,
   "id": "b5f77a9e-fa39-4fdc-bd5a-cf338870abeb",
   "metadata": {},
   "outputs": [],
   "source": [
    "# !pip uninstall numba -y\n",
    "# !pip uninstall librosa -y\n",
    "# !pip install estival==0.4.9 numpy==1.24.3 kaleido"
   ]
  },
  {
   "cell_type": "code",
   "execution_count": null,
   "id": "87d24262-9df6-4a0b-9c65-4c399410d1c2",
   "metadata": {},
   "outputs": [],
   "source": [
    "try:\n",
    "    import google.colab\n",
    "    on_colab = True\n",
    "    ! git clone https://github.com/monash-emu/aust-covid.git --branch main\n",
    "    %cd aust-covid\n",
    "    %pip install -e ./\n",
    "    import multiprocessing as mp\n",
    "    mp.set_start_method('forkserver')\n",
    "except:\n",
    "    on_colab = False"
   ]
  },
  {
   "cell_type": "code",
   "execution_count": null,
   "id": "41b4a9d9-9e09-45c0-adff-6fbfa7005f3d",
   "metadata": {},
   "outputs": [],
   "source": [
    "import arviz as az\n",
    "import numpy as np\n",
    "from itertools import combinations\n",
    "from emutools.utils import load_param_info\n",
    "from inputs.constants import RUN_IDS, RUNS_PATH, PRIMARY_ANALYSIS, BURN_IN, OUTPUTS_PATH\n",
    "from emutools.calibration import plot_3d_param_hist, plot_3d_param_corr"
   ]
  },
  {
   "cell_type": "code",
   "execution_count": null,
   "id": "8d952fe7-10b7-4a72-8efa-d971de932b90",
   "metadata": {},
   "outputs": [],
   "source": [
    "idata = az.from_netcdf(RUNS_PATH / RUN_IDS[PRIMARY_ANALYSIS] / 'output/calib_full_out.nc')\n",
    "idata = idata.sel(draw=np.s_[BURN_IN:])"
   ]
  },
  {
   "cell_type": "markdown",
   "id": "c51dc55d-a9e2-4ead-a3d4-3a8771aedc22",
   "metadata": {},
   "source": [
    "Available parameters for comparison are:"
   ]
  },
  {
   "cell_type": "code",
   "execution_count": null,
   "id": "a0e65063-c23b-4e4d-ab1f-18eb458d695a",
   "metadata": {},
   "outputs": [],
   "source": [
    "list(idata.posterior.keys())"
   ]
  },
  {
   "cell_type": "code",
   "execution_count": null,
   "id": "0a57ece2-d540-4b5f-84fb-3d4e84846775",
   "metadata": {},
   "outputs": [],
   "source": [
    "key_params = [\n",
    "    'contact_rate',\n",
    "    'start_cdr',\n",
    "    'infectious_period',\n",
    "    'imm_prop',\n",
    "    'natural_immunity_period',\n",
    "]"
   ]
  },
  {
   "cell_type": "code",
   "execution_count": null,
   "id": "968fc2f4-9bfe-43cf-a367-ea00a22fdcdd",
   "metadata": {},
   "outputs": [],
   "source": [
    "for params in combinations(key_params, 3):\n",
    "    fig = plot_3d_param_corr(idata, params, marker_size=3, n_samples=5000)\n",
    "    fig.write_html(OUTPUTS_PATH / f'corr_{params[0]}X{params[1]}X{params[2]}.html')"
   ]
  },
  {
   "cell_type": "code",
   "execution_count": null,
   "id": "be579903-14ca-4b5e-82f7-fb1e894964ae",
   "metadata": {},
   "outputs": [],
   "source": [
    "# abbreviations = load_param_info()['abbreviations']\n",
    "# for params in combinations(key_params, 3):\n",
    "#     print(f'- [{abbreviations[params[0]]} versus {abbreviations[params[1]]} versus {abbreviations[params[2]]}](corr_{params[0]}X{params[1]}X{params[2]})')"
   ]
  }
 ],
 "metadata": {
  "kernelspec": {
   "display_name": "Python 3 (ipykernel)",
   "language": "python",
   "name": "python3"
  },
  "language_info": {
   "codemirror_mode": {
    "name": "ipython",
    "version": 3
   },
   "file_extension": ".py",
   "mimetype": "text/x-python",
   "name": "python",
   "nbconvert_exporter": "python",
   "pygments_lexer": "ipython3",
   "version": "3.10.11"
  }
 },
 "nbformat": 4,
 "nbformat_minor": 5
}
