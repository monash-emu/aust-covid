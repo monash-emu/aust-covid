{
 "cells": [
  {
   "cell_type": "code",
   "execution_count": null,
   "id": "085f6d70-336e-442b-9e5f-18662f357208",
   "metadata": {},
   "outputs": [],
   "source": [
    "from pathlib import Path\n",
    "from autumn.core.runs import ManagedRun\n",
    "import arviz as az\n",
    "import numpy as np\n",
    "from estival import priors as esp\n",
    "from general_utils.tex import StandardTexDoc\n",
    "from aust_covid.inputs import get_ifrs\n",
    "from general_utils.inputs import load_param_info\n",
    "from arviz.labels import MapLabeller\n",
    "PROJECT_PATH = Path().resolve().parent"
   ]
  },
  {
   "cell_type": "code",
   "execution_count": null,
   "id": "bf3f2ed8-c75a-4fed-9f5d-8316eedd0a43",
   "metadata": {},
   "outputs": [],
   "source": [
    "run_path = 'projects/aust_covid/base_case_analysis/2023-08-29T1613-base_case_try_5000'"
   ]
  },
  {
   "cell_type": "code",
   "execution_count": null,
   "id": "95f80680-6020-4c15-a50a-a886af76b709",
   "metadata": {},
   "outputs": [],
   "source": [
    "mr = ManagedRun(run_path)\n",
    "mr.remote.download(mr.remote.list_contents()[-1])\n",
    "idata = az.from_netcdf(mr.list_local()[-1])"
   ]
  },
  {
   "cell_type": "code",
   "execution_count": null,
   "id": "0b54e3c3-0a5a-4d1b-bc22-9eefab60287c",
   "metadata": {},
   "outputs": [],
   "source": [
    "idata = idata.sel(draw=np.s_[100:])"
   ]
  },
  {
   "cell_type": "code",
   "execution_count": null,
   "id": "05e9c3fc-39d8-47cf-8596-1535721be76d",
   "metadata": {},
   "outputs": [],
   "source": [
    "app_doc = StandardTexDoc(PROJECT_PATH / 'supplement', 'supplement', \"Australia's 2023 Omicron Waves Supplement\", 'austcovid')\n",
    "parameters = {\n",
    "    'contact_rate': 0.065,\n",
    "    'latent_period': 1.8,\n",
    "    'infectious_period': 2.5,\n",
    "    'natural_immunity_period': 60.0,\n",
    "    'start_cdr': 0.3,\n",
    "    'imm_prop': 0.4,\n",
    "    'imm_infect_protect': 0.4,\n",
    "    'ifr_adjuster': 3.0,\n",
    "    'ba1_seed_time': 619.0,\n",
    "    'ba2_seed_time': 659.0,\n",
    "    'ba5_seed_time': 715.0,\n",
    "    'ba2_escape': 0.4,\n",
    "    'ba5_escape': 0.54,\n",
    "    'ba2_rel_ifr': 0.5,\n",
    "    'wa_reopen_period': 50.0,\n",
    "    'seed_duration': 10.0,\n",
    "    'seed_rate': 1.0,\n",
    "    'notifs_mean': 4.0,\n",
    "    'notifs_shape': 2.0,\n",
    "    'deaths_mean': 15.93,\n",
    "    'deaths_shape': 5.0,\n",
    "}\n",
    "ifrs = get_ifrs(app_doc)\n",
    "parameters.update(ifrs)"
   ]
  },
  {
   "cell_type": "code",
   "execution_count": null,
   "id": "cb66439f-3997-4d1b-9343-4772a3e7942d",
   "metadata": {},
   "outputs": [],
   "source": [
    "param_info = load_param_info(PROJECT_PATH / 'inputs' / 'parameters.yml', parameters | ifrs)"
   ]
  },
  {
   "cell_type": "code",
   "execution_count": null,
   "id": "1d89510b-df33-46b2-8380-1592acd4b050",
   "metadata": {},
   "outputs": [],
   "source": [
    "priors = [\n",
    "    esp.UniformPrior('contact_rate', (0.02, 0.15)),\n",
    "    esp.GammaPrior.from_mode('latent_period', 2.5, 5.0),\n",
    "    esp.GammaPrior.from_mode('infectious_period', 3.5, 6.0),\n",
    "    esp.GammaPrior.from_mode('natural_immunity_period', 180.0, 1000.0),\n",
    "    esp.UniformPrior('start_cdr', (0.1, 0.6)),\n",
    "    esp.UniformPrior('imm_prop', (0.0, 1.0)),\n",
    "    esp.UniformPrior('imm_infect_protect', (0.0, 1.0)),\n",
    "    esp.TruncNormalPrior('ifr_adjuster', 1.0, 2.0, (0.2, np.inf)),\n",
    "    esp.UniformPrior('ba1_seed_time', (580.0, 620.0)), \n",
    "    esp.UniformPrior('ba2_seed_time', (620.0, 660.0)),\n",
    "    esp.UniformPrior('ba5_seed_time', (660.0, 740.0)),\n",
    "    esp.BetaPrior.from_mean_and_ci('ba2_escape', 0.4, (0.2, 0.6)),\n",
    "    esp.BetaPrior.from_mean_and_ci('ba5_escape', 0.4, (0.2, 0.6)),\n",
    "    esp.TruncNormalPrior('ba2_rel_ifr', 0.7, 0.15, (0.2, np.inf)),\n",
    "    esp.UniformPrior('wa_reopen_period', (30.0, 90.0)),\n",
    "    esp.GammaPrior.from_mean('deaths_mean', 15.93, 18.79),\n",
    "]"
   ]
  },
  {
   "cell_type": "code",
   "execution_count": null,
   "id": "a38c207a-8bee-411b-a975-27f503ba5efe",
   "metadata": {},
   "outputs": [],
   "source": [
    "figure = az.plot_density(\n",
    "    idata, \n",
    "    var_names=[p.name for p in priors], \n",
    "    shade=0.5, \n",
    "    labeller=MapLabeller(var_name_map=param_info['descriptions'].to_dict()), \n",
    "    point_estimate=None,\n",
    "    hdi_prob=0.99,\n",
    ")\n",
    "for i_ax, ax in enumerate(figure.ravel()[:len(priors)]):\n",
    "    ax_limits = ax.get_xlim()\n",
    "    x_vals = np.linspace(ax_limits[0], ax_limits[1], 100)\n",
    "    y_vals = priors[i_ax].pdf(x_vals)\n",
    "    ax.fill_between(x_vals, y_vals, color='k', alpha=0.2, linewidth=2)"
   ]
  }
 ],
 "metadata": {
  "kernelspec": {
   "display_name": "Python 3 (ipykernel)",
   "language": "python",
   "name": "python3"
  },
  "language_info": {
   "codemirror_mode": {
    "name": "ipython",
    "version": 3
   },
   "file_extension": ".py",
   "mimetype": "text/x-python",
   "name": "python",
   "nbconvert_exporter": "python",
   "pygments_lexer": "ipython3",
   "version": "3.10.0"
  }
 },
 "nbformat": 4,
 "nbformat_minor": 5
}
