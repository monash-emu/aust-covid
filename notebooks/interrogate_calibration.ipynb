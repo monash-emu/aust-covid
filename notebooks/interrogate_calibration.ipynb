{
 "cells": [
  {
   "cell_type": "code",
   "execution_count": null,
   "id": "94152528-c649-46d8-af55-f322707ea900",
   "metadata": {},
   "outputs": [],
   "source": [
    "from pathlib import Path\n",
    "from datetime import datetime\n",
    "import numpy as np\n",
    "import pandas as pd\n",
    "import arviz as az\n",
    "from jax import numpy as jnp\n",
    "\n",
    "import estival.priors as esp\n",
    "import estival.targets as est\n",
    "\n",
    "from autumn.core.runs import ManagedRun\n",
    "from aust_covid.inputs import load_calibration_targets, load_who_data, load_serosurvey_data, get_ifrs\n",
    "from aust_covid.calibration import get_priors\n",
    "from emutools.tex import StandardTexDoc\n",
    "from emutools.inputs import load_param_info\n",
    "from emutools.calibration import plot_param_progression, view_posterior_comparison, tabulate_param_results\n",
    "from inputs.constants import PROJECT_PATH, SUPPLEMENT_PATH"
   ]
  },
  {
   "cell_type": "code",
   "execution_count": null,
   "id": "b8c4ddf6-3205-4cb7-b6de-6d5a836db279",
   "metadata": {},
   "outputs": [],
   "source": [
    "app_doc = StandardTexDoc(SUPPLEMENT_PATH, 'supplement', \"Australia's 2023 Omicron Waves Supplement\", 'austcovid')"
   ]
  },
  {
   "cell_type": "code",
   "execution_count": null,
   "id": "9682f966-e8cc-48e6-b21f-03db264de01c",
   "metadata": {},
   "outputs": [],
   "source": [
    "case_targets = load_calibration_targets(app_doc)\n",
    "death_targets = load_who_data(app_doc)\n",
    "serosurvey_targets = load_serosurvey_data(app_doc)"
   ]
  },
  {
   "cell_type": "code",
   "execution_count": null,
   "id": "c4fc20a3-ca07-4fc7-9e94-83ad82b73a6c",
   "metadata": {},
   "outputs": [],
   "source": [
    "param_info = load_param_info(PROJECT_PATH / 'inputs' / 'parameters.yml')\n",
    "parameters = param_info['value'].to_dict() | get_ifrs(app_doc)"
   ]
  },
  {
   "cell_type": "code",
   "execution_count": null,
   "id": "5279cdd7-4cf6-485d-a1bd-1887e1e624c5",
   "metadata": {},
   "outputs": [],
   "source": [
    "priors = get_priors()\n",
    "prior_names = [p.name for p in priors]"
   ]
  },
  {
   "cell_type": "code",
   "execution_count": null,
   "id": "f87190b2-1380-4bfd-9ade-9249a8ee6efa",
   "metadata": {},
   "outputs": [],
   "source": [
    "# Set up for calibration or optimisation\n",
    "def truncation_ceiling(modelled, obs, parameters, time_weights):\n",
    "    return jnp.where(modelled > obs, -1e11, 0.0)\n",
    "\n",
    "targets = [\n",
    "    est.NegativeBinomialTarget('notifications_ma', case_targets, dispersion_param=esp.UniformPrior('notifications_ma_dispersion', (10.0, 140.0))),\n",
    "    est.NegativeBinomialTarget('deaths_ma', death_targets, dispersion_param=esp.UniformPrior('deaths_ma_dispersion', (60.0, 200.0))),\n",
    "    est.BinomialTarget('adult_seropos_prop', serosurvey_targets, pd.Series([20] * 4, index=serosurvey_targets.index)),\n",
    "]\n",
    "targets.append(est.CustomTarget('seropos_ceiling', pd.Series([0.04], index=[datetime(2021, 12, 1)]), truncation_ceiling, model_key='adult_seropos_prop'))"
   ]
  },
  {
   "cell_type": "code",
   "execution_count": null,
   "id": "91ed13aa-47e6-405c-b28b-9179ed5eb36a",
   "metadata": {},
   "outputs": [],
   "source": [
    "run_path = 'projects/aust_covid/base_case_analysis/2023-08-30T1608-try_DEMZ_10k'"
   ]
  },
  {
   "cell_type": "code",
   "execution_count": null,
   "id": "227641ec-a965-4e23-9f1a-dfee05491c68",
   "metadata": {},
   "outputs": [],
   "source": [
    "mr = ManagedRun(run_path)\n",
    "mr.remote.download(mr.remote.list_contents()[-1])\n",
    "idata = az.from_netcdf(mr.list_local()[-1])"
   ]
  },
  {
   "cell_type": "code",
   "execution_count": null,
   "id": "c2f1f53a-56b3-4f86-a554-e453820d5770",
   "metadata": {},
   "outputs": [],
   "source": [
    "# Burn\n",
    "idata = idata.sel(draw=np.s_[2000:])"
   ]
  },
  {
   "cell_type": "code",
   "execution_count": null,
   "id": "5471592d-4da1-47a6-a9b3-4da8d9f88a72",
   "metadata": {},
   "outputs": [],
   "source": [
    "app_doc.include_table(tabulate_param_results(idata, priors, param_info), section='Calibration', col_splits=[0.142] * 7, table_width=12.0, longtable=True)"
   ]
  },
  {
   "cell_type": "code",
   "execution_count": null,
   "id": "22a8928a-7db3-483c-b78b-70d938650f58",
   "metadata": {},
   "outputs": [],
   "source": [
    "n_half_priors = round(len(priors) / 2)\n",
    "plot_param_progression(idata, param_info, app_doc, True, request_vars=prior_names[:n_half_priors], name_ext='_first')"
   ]
  },
  {
   "cell_type": "code",
   "execution_count": null,
   "id": "8cf1bb9a-62a9-4320-b75c-ff68fd793d40",
   "metadata": {},
   "outputs": [],
   "source": [
    "plot_param_progression(idata, param_info, app_doc, True, request_vars=prior_names[n_half_priors:], name_ext='_last')"
   ]
  },
  {
   "cell_type": "code",
   "execution_count": null,
   "id": "82d1d692-37a1-4897-90f1-b846881ab5e6",
   "metadata": {},
   "outputs": [],
   "source": [
    "view_posterior_comparison(idata, priors, prior_names[:n_half_priors], param_info['abbreviations'].to_dict(), 0.995, app_doc, name_ext='_first')"
   ]
  },
  {
   "cell_type": "code",
   "execution_count": null,
   "id": "64d52054-16b5-4432-a3a1-3f787091e201",
   "metadata": {},
   "outputs": [],
   "source": [
    "view_posterior_comparison(idata, priors, prior_names[n_half_priors:], param_info['abbreviations'].to_dict(), 0.995, app_doc, name_ext='_last')"
   ]
  },
  {
   "cell_type": "code",
   "execution_count": null,
   "id": "269e9eb4-f763-454b-a427-33682126e0e8",
   "metadata": {},
   "outputs": [],
   "source": [
    "app_doc.write_doc()"
   ]
  }
 ],
 "metadata": {
  "kernelspec": {
   "display_name": "Python 3 (ipykernel)",
   "language": "python",
   "name": "python3"
  },
  "language_info": {
   "codemirror_mode": {
    "name": "ipython",
    "version": 3
   },
   "file_extension": ".py",
   "mimetype": "text/x-python",
   "name": "python",
   "nbconvert_exporter": "python",
   "pygments_lexer": "ipython3",
   "version": "3.10.0"
  }
 },
 "nbformat": 4,
 "nbformat_minor": 5
}
