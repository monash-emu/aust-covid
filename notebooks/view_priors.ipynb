{
 "cells": [
  {
   "cell_type": "code",
   "execution_count": null,
   "id": "f4a94855-24d4-48de-afae-61241857c8a7",
   "metadata": {},
   "outputs": [],
   "source": [
    "from emutools.calibration import plot_priors\n",
    "from inputs.constants import INPUTS_PATH, SUPPLEMENT_PATH\n",
    "from aust_covid.calibration import get_priors\n",
    "from emutools.tex import StandardTexDoc\n",
    "from emutools.inputs import load_param_info"
   ]
  },
  {
   "cell_type": "code",
   "execution_count": null,
   "id": "0c82636d-50a8-4221-ace2-ea59c5e52e81",
   "metadata": {},
   "outputs": [],
   "source": [
    "app_doc = StandardTexDoc(SUPPLEMENT_PATH, 'supplement', \"Australia's 2023 Omicron Waves Supplement\", 'austcovid')\n",
    "priors = get_priors()\n",
    "plot_priors(priors, load_param_info(INPUTS_PATH / 'parameters.yml')['abbreviations'], 5, 100, 0.2, 0.99)"
   ]
  },
  {
   "cell_type": "code",
   "execution_count": null,
   "id": "54ea05fd-e14b-4951-b3cf-7fa75ad1e764",
   "metadata": {},
   "outputs": [],
   "source": []
  }
 ],
 "metadata": {
  "kernelspec": {
   "display_name": "Python 3 (ipykernel)",
   "language": "python",
   "name": "python3"
  },
  "language_info": {
   "codemirror_mode": {
    "name": "ipython",
    "version": 3
   },
   "file_extension": ".py",
   "mimetype": "text/x-python",
   "name": "python",
   "nbconvert_exporter": "python",
   "pygments_lexer": "ipython3",
   "version": "3.10.0"
  }
 },
 "nbformat": 4,
 "nbformat_minor": 5
}
