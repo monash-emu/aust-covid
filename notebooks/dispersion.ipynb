{
 "cells": [
  {
   "cell_type": "code",
   "execution_count": null,
   "id": "30e23afd-47a1-4557-9ddc-5ef38624ace5",
   "metadata": {},
   "outputs": [],
   "source": [
    "from aust_covid.model import build_model\n",
    "from aust_covid.calibration import get_priors, get_targets\n",
    "from emutools.inputs import load_param_info\n",
    "from aust_covid.inputs import get_ifrs\n",
    "from autumn.infrastructure.remote import springboard\n",
    "import arviz as az\n",
    "from emutools.tex import DummyTexDoc, StandardTexDoc\n",
    "from inputs.constants import INPUTS_PATH, SUPPLEMENT_PATH\n",
    "import numpy as np\n",
    "from aust_covid.plotting import plot_dispersion_examples\n",
    "from aust_covid.utils import add_image_to_doc"
   ]
  },
  {
   "cell_type": "code",
   "execution_count": null,
   "id": "9841ec78-4ad5-4b7e-be8d-1c63ac08db9d",
   "metadata": {},
   "outputs": [],
   "source": [
    "dummy_doc = DummyTexDoc()\n",
    "epi_model = build_model(dummy_doc)"
   ]
  },
  {
   "cell_type": "code",
   "execution_count": null,
   "id": "a4f8e90e-82cd-4b63-9019-152d5925f5ce",
   "metadata": {},
   "outputs": [],
   "source": [
    "rts = springboard.task.RemoteTaskStore()\n",
    "rts.cd('projects/aust_covid/base_case_analysis')\n",
    "mt = rts.get_managed_task('2023-08-30T1608-try_DEMZ_10k')\n",
    "mt.download_all()\n",
    "idata = az.from_netcdf(mt.local / 'output/calibration_out.nc')"
   ]
  },
  {
   "cell_type": "code",
   "execution_count": null,
   "id": "4e96dd17-4a82-4c85-b204-0329b69cecca",
   "metadata": {},
   "outputs": [],
   "source": [
    "prior_names = [p.name for p in get_priors()]\n",
    "targets = get_targets(dummy_doc)\n",
    "param_info = load_param_info(INPUTS_PATH / 'parameters.yml')\n",
    "param_info['value'].update(get_ifrs(dummy_doc))\n",
    "parameters = param_info['value'].to_dict()"
   ]
  },
  {
   "cell_type": "code",
   "execution_count": null,
   "id": "ec9b423a-f779-451e-9f9d-612b8e30576b",
   "metadata": {},
   "outputs": [],
   "source": [
    "colours = {'notifications_ma': '10, 10, 100', 'deaths_ma': '100, 10, 10'}\n",
    "centiles = np.linspace(0.1, 0.9, 9)\n",
    "fig = plot_dispersion_examples(idata, epi_model, parameters, prior_names, targets, colours, centiles)\n",
    "caption = 'Examples of the effect of values of the negative binomial distribution dispersion parameter.'\n",
    "print(caption)\n",
    "fig"
   ]
  },
  {
   "cell_type": "code",
   "execution_count": null,
   "id": "2734cd4d-c559-49ea-a1fe-0c7e1ef1357b",
   "metadata": {},
   "outputs": [],
   "source": [
    "app_doc = StandardTexDoc(SUPPLEMENT_PATH, 'dispersion', 'Target dispersion', 'austcovid')\n",
    "add_image_to_doc(fig, 'dispersion_examples', caption, app_doc, 'Calibration')"
   ]
  }
 ],
 "metadata": {
  "kernelspec": {
   "display_name": "Python 3 (ipykernel)",
   "language": "python",
   "name": "python3"
  },
  "language_info": {
   "codemirror_mode": {
    "name": "ipython",
    "version": 3
   },
   "file_extension": ".py",
   "mimetype": "text/x-python",
   "name": "python",
   "nbconvert_exporter": "python",
   "pygments_lexer": "ipython3",
   "version": "3.10.0"
  }
 },
 "nbformat": 4,
 "nbformat_minor": 5
}
