{
 "cells": [
  {
   "cell_type": "code",
   "execution_count": null,
   "id": "30e23afd-47a1-4557-9ddc-5ef38624ace5",
   "metadata": {},
   "outputs": [],
   "source": [
    "from aust_covid.model import build_model\n",
    "from aust_covid.calibration import get_priors, get_targets\n",
    "from emutools.parameters import load_param_info\n",
    "from aust_covid.inputs import get_ifrs\n",
    "import arviz as az\n",
    "from emutools.tex import DummyTexDoc, StandardTexDoc\n",
    "from inputs.constants import SUPPLEMENT_PATH, RUN_IDS, RUNS_PATH, PRIMARY_ANALYSIS, BURN_IN\n",
    "import numpy as np\n",
    "from aust_covid.plotting import plot_dispersion_examples, plot_targets\n",
    "from aust_covid.utils import add_image_to_doc"
   ]
  },
  {
   "cell_type": "code",
   "execution_count": null,
   "id": "53861d68-ecd4-44ef-a45d-83bde88f139f",
   "metadata": {},
   "outputs": [],
   "source": [
    "app_doc = StandardTexDoc(SUPPLEMENT_PATH, 'dispersion', 'Target dispersion', 'austcovid')\n",
    "dummy_doc = DummyTexDoc()\n",
    "epi_model = build_model(dummy_doc, mobility_sens=True)\n",
    "targets = get_targets(app_doc)\n",
    "target_fig = plot_targets(targets)\n",
    "add_image_to_doc(target_fig, 'target_fig', 'jpg', 'Calibration targets with raw data from which they were derived.', app_doc, 'Targets')\n",
    "param_info = load_param_info()\n",
    "prior_names = [p.name for p in get_priors(False, param_info['abbreviations'], dummy_doc)]\n",
    "parameters = param_info['value'].to_dict() | get_ifrs(dummy_doc)\n",
    "idata = az.from_netcdf(RUNS_PATH / RUN_IDS[PRIMARY_ANALYSIS] / 'output/calib_full_out.nc')\n",
    "idata = idata.sel(draw=np.s_[BURN_IN:])"
   ]
  },
  {
   "cell_type": "code",
   "execution_count": null,
   "id": "ec9b423a-f779-451e-9f9d-612b8e30576b",
   "metadata": {},
   "outputs": [],
   "source": [
    "colours = {'notifications_ma': '10, 10, 100', 'deaths_ma': '100, 10, 10'}\n",
    "dispersion_fig = plot_dispersion_examples(idata, epi_model, parameters, prior_names, targets, colours, np.linspace(0.1, 0.9, 9))\n",
    "dispersion_fig"
   ]
  },
  {
   "cell_type": "code",
   "execution_count": null,
   "id": "2734cd4d-c559-49ea-a1fe-0c7e1ef1357b",
   "metadata": {},
   "outputs": [],
   "source": [
    "caption = 'Examples of the effect of values of the negative binomial distribution dispersion parameter.'\n",
    "add_image_to_doc(dispersion_fig, 'dispersion_examples', 'jpg', caption, app_doc, 'Targets')\n",
    "app_doc.write_doc()"
   ]
  }
 ],
 "metadata": {
  "kernelspec": {
   "display_name": "Python 3 (ipykernel)",
   "language": "python",
   "name": "python3"
  },
  "language_info": {
   "codemirror_mode": {
    "name": "ipython",
    "version": 3
   },
   "file_extension": ".py",
   "mimetype": "text/x-python",
   "name": "python",
   "nbconvert_exporter": "python",
   "pygments_lexer": "ipython3",
   "version": "3.10.11"
  }
 },
 "nbformat": 4,
 "nbformat_minor": 5
}
