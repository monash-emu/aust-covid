{
 "cells": [
  {
   "cell_type": "markdown",
   "id": "e5bb653c-fe70-478b-a843-727e1e6961e2",
   "metadata": {},
   "source": [
    "## Dispersion parameters\n",
    "This notebook illustrates the role of the dispersion parameters included in the calibration algorithm.\n",
    "\n",
    "### Running over Colab\n",
    "Uncomment the commands in the following cell to install in Colab.\n",
    "Once completed, click the 'Restart runtime' button that will appear to restart the Colab environment and then proceed to the following cells.\n",
    "\n",
    "### Generating documentation\n",
    "Running the final cell will take several minutes and will generate the corresponding PDF documentation.\n",
    "This can be downloaded from the Files section of the sidebar."
   ]
  },
  {
   "cell_type": "code",
   "execution_count": null,
   "id": "5cff8f81-0ac2-4387-a944-be34914a068e",
   "metadata": {},
   "outputs": [],
   "source": [
    "# !pip uninstall numba -y\n",
    "# !pip uninstall librosa -y\n",
    "# !pip install estival==0.4.9 numpy==1.24.3 kaleido"
   ]
  },
  {
   "cell_type": "code",
   "execution_count": null,
   "id": "b7204416-ad39-47aa-86d9-f07f9d09478e",
   "metadata": {},
   "outputs": [],
   "source": [
    "try:\n",
    "    import google.colab\n",
    "    on_colab = True\n",
    "    ! git clone https://github.com/monash-emu/aust-covid.git --branch main\n",
    "    %cd aust-covid\n",
    "    %pip install -e ./\n",
    "    import multiprocessing as mp\n",
    "    mp.set_start_method('forkserver')\n",
    "except:\n",
    "    on_colab = False"
   ]
  },
  {
   "cell_type": "code",
   "execution_count": null,
   "id": "30e23afd-47a1-4557-9ddc-5ef38624ace5",
   "metadata": {},
   "outputs": [],
   "source": [
    "from aust_covid.model import build_model\n",
    "from aust_covid.calibration import get_priors, get_targets\n",
    "from emutools.utils import load_param_info\n",
    "from aust_covid.inputs import get_ifrs\n",
    "from aust_covid.extra_text import add_dispersion_blurb_to_tex\n",
    "import arviz as az\n",
    "from emutools.tex import DummyTexDoc, StandardTexDoc, add_image_to_doc\n",
    "from inputs.constants import SUPPLEMENT_PATH, RUN_IDS, RUNS_PATH, PRIMARY_ANALYSIS, BURN_IN\n",
    "import numpy as np\n",
    "from aust_covid.plotting import plot_dispersion_examples, plot_targets"
   ]
  },
  {
   "cell_type": "code",
   "execution_count": null,
   "id": "53861d68-ecd4-44ef-a45d-83bde88f139f",
   "metadata": {},
   "outputs": [],
   "source": [
    "app_doc = StandardTexDoc(SUPPLEMENT_PATH, 'dispersion', 'Dispersion parameters', 'austcovid')\n",
    "dummy_doc = DummyTexDoc()\n",
    "param_info = load_param_info()\n",
    "epi_model = build_model(dummy_doc, param_info['abbreviations'], mobility_ext=True)\n",
    "targets = get_targets(app_doc)\n",
    "target_fig = plot_targets(targets)\n",
    "caption = 'Calibration algorithm targets for likelihood calculation with raw data from which they were derived.'\n",
    "add_image_to_doc(target_fig, 'target_fig', 'svg', 'Calibration targets.', app_doc, 'Targets', caption=caption)\n",
    "prior_names = [p.name for p in get_priors(False, param_info['abbreviations'], dummy_doc)]\n",
    "parameters = param_info['value'].to_dict() | get_ifrs(dummy_doc)\n",
    "idata = az.from_netcdf(RUNS_PATH / RUN_IDS[PRIMARY_ANALYSIS] / 'output/calib_full_out.nc')\n",
    "idata = idata.sel(draw=np.s_[BURN_IN:])"
   ]
  },
  {
   "cell_type": "code",
   "execution_count": null,
   "id": "ec9b423a-f779-451e-9f9d-612b8e30576b",
   "metadata": {},
   "outputs": [],
   "source": [
    "dispersion_fig = plot_dispersion_examples(idata, epi_model, parameters, prior_names, targets, ['10, 10, 100', '100, 10, 10'], np.linspace(0.1, 0.9, 9))\n",
    "dispersion_fig"
   ]
  },
  {
   "cell_type": "code",
   "execution_count": null,
   "id": "2734cd4d-c559-49ea-a1fe-0c7e1ef1357b",
   "metadata": {},
   "outputs": [],
   "source": [
    "caption = 'Examples of the effect of values of the negative binomial distribution dispersion parameter, ' \\\n",
    "    'centiles of likelihood distribution. Actual targets used for likelihood calculation circles. '\n",
    "add_image_to_doc(dispersion_fig.update_layout(showlegend=False), 'dispersion_examples', 'svg', 'Dispersion examples.', app_doc, 'Targets', caption=caption)\n",
    "add_dispersion_blurb_to_tex(app_doc)\n",
    "app_doc.write_doc()"
   ]
  },
  {
   "cell_type": "code",
   "execution_count": null,
   "id": "330da770-dabf-4045-a9fd-a6b586406411",
   "metadata": {},
   "outputs": [],
   "source": [
    "if on_colab:\n",
    "    # To build a PDF, we need the appropriate tex packages installed\n",
    "    ! apt-get -y update\n",
    "    ! apt-get -y install inkscape texlive-latex-base texlive-fonts-recommended texlive-fonts-extra texlive-latex-extra texlive-bibtex-extra biber\n",
    "    # To avoid clutter and navigate to the right directory\n",
    "    import os\n",
    "    os.chdir(SUPPLEMENT_PATH)\n",
    "    # And finally build the formatted PDF, repeated commands are necessary\n",
    "    ! pdflatex -shell-escape dispersion\n",
    "    ! biber dispersion\n",
    "    ! pdflatex -shell-escape dispersion\n",
    "    ! pdflatex -shell-escape dispersion"
   ]
  }
 ],
 "metadata": {
  "kernelspec": {
   "display_name": "Python 3 (ipykernel)",
   "language": "python",
   "name": "python3"
  },
  "language_info": {
   "codemirror_mode": {
    "name": "ipython",
    "version": 3
   },
   "file_extension": ".py",
   "mimetype": "text/x-python",
   "name": "python",
   "nbconvert_exporter": "python",
   "pygments_lexer": "ipython3",
   "version": "3.10.11"
  }
 },
 "nbformat": 4,
 "nbformat_minor": 5
}
