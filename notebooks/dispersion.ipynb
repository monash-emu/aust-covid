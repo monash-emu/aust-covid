{
 "cells": [
  {
   "cell_type": "markdown",
   "id": "0",
   "metadata": {},
   "source": [
    "## Dispersion parameters\n",
    "This notebook illustrates the role of the dispersion parameters included in the calibration algorithm."
   ]
  },
  {
   "cell_type": "code",
   "execution_count": null,
   "id": "1",
   "metadata": {},
   "outputs": [],
   "source": [
    "from aust_covid.model import build_model\n",
    "from aust_covid.calibration import get_priors, get_targets\n",
    "from emutools.utils import load_param_info\n",
    "from aust_covid.inputs import get_ifrs\n",
    "import arviz as az\n",
    "from emutools.tex import DummyTexDoc\n",
    "from aust_covid.constants import RUN_IDS, PRIMARY_ANALYSIS, BURN_IN, set_project_base_path\n",
    "import numpy as np\n",
    "from aust_covid.plotting import plot_dispersion_examples\n",
    "\n",
    "project_paths = set_project_base_path(\"../\")\n",
    "RUNS_PATH = project_paths[\"RUNS_PATH\"]"
   ]
  },
  {
   "cell_type": "code",
   "execution_count": null,
   "id": "2",
   "metadata": {},
   "outputs": [],
   "source": [
    "dummy_doc = DummyTexDoc()\n",
    "param_info = load_param_info()\n",
    "epi_model = build_model(dummy_doc, param_info[\"abbreviations\"], mobility_ext=True)\n",
    "targets = get_targets(dummy_doc)\n",
    "prior_names = [p.name for p in get_priors(False, param_info[\"abbreviations\"], dummy_doc)]\n",
    "parameters = param_info[\"value].to_dict() | get_ifrs(dummy_doc)\n",
    "idata = az.from_netcdf(RUNS_PATH / RUN_IDS[PRIMARY_ANALYSIS] / \"output/calib_full_out.nc\")\n",
    "idata = idata.sel(draw=np.s_[BURN_IN:])"
   ]
  },
  {
   "cell_type": "code",
   "execution_count": null,
   "id": "3",
   "metadata": {},
   "outputs": [],
   "source": [
    "plot_dispersion_examples(idata, epi_model, parameters, prior_names, targets, [\"10, 10, 100\", \"100, 10, 10\"], np.linspace(0.1, 0.9, 9))"
   ]
  }
 ],
 "metadata": {
  "kernelspec": {
   "display_name": "Python 3 (ipykernel)",
   "language": "python",
   "name": "python3"
  },
  "language_info": {
   "codemirror_mode": {
    "name": "ipython",
    "version": 3
   },
   "file_extension": ".py",
   "mimetype": "text/x-python",
   "name": "python",
   "nbconvert_exporter": "python",
   "pygments_lexer": "ipython3",
   "version": "3.10.14"
  }
 },
 "nbformat": 4,
 "nbformat_minor": 5
}
