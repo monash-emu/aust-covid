{
 "cells": [
  {
   "cell_type": "code",
   "execution_count": null,
   "id": "eec7d760-336e-42c0-b5a6-b3bb1fe768b5",
   "metadata": {},
   "outputs": [],
   "source": [
    "import s3fs\n",
    "from pathlib import PurePosixPath\n",
    "from autumn.infrastructure.remote import springboard\n",
    "\n",
    "bucket = PurePosixPath('autumn-data')\n",
    "fs = s3fs.S3FileSystem()\n",
    "paths = fs.ls(bucket / 'projects' / 'aust_covid' / 'base_case_analysis')\n",
    "[path[12:] for path in paths]"
   ]
  },
  {
   "cell_type": "code",
   "execution_count": null,
   "id": "60b968ff-b4f2-4528-8133-f5a0245c96c9",
   "metadata": {},
   "outputs": [],
   "source": [
    "rts = springboard.task.RemoteTaskStore()\n",
    "rts.cd('projects/aust_covid/base_case_analysis')\n",
    "rts.ls()"
   ]
  },
  {
   "cell_type": "code",
   "execution_count": null,
   "id": "4ef55ee5-e18d-4da0-bfcc-98d34e0f1482",
   "metadata": {},
   "outputs": [],
   "source": [
    "mt = rts.get_managed_task('2023-09-12T2016-check_running_with_spaghetti')"
   ]
  },
  {
   "cell_type": "code",
   "execution_count": null,
   "id": "be362f53-9329-4301-89e7-8b41bd1fea3f",
   "metadata": {},
   "outputs": [],
   "source": [
    "import pandas as pd"
   ]
  },
  {
   "cell_type": "code",
   "execution_count": null,
   "id": "9ef60958-8ea7-4335-a824-836b2646c6ec",
   "metadata": {},
   "outputs": [],
   "source": [
    "pd.read_hdf(mt.local.path / 'output' / 'spaghetti.hdf', 's')"
   ]
  }
 ],
 "metadata": {
  "kernelspec": {
   "display_name": "Python 3 (ipykernel)",
   "language": "python",
   "name": "python3"
  },
  "language_info": {
   "codemirror_mode": {
    "name": "ipython",
    "version": 3
   },
   "file_extension": ".py",
   "mimetype": "text/x-python",
   "name": "python",
   "nbconvert_exporter": "python",
   "pygments_lexer": "ipython3",
   "version": "3.10.0"
  }
 },
 "nbformat": 4,
 "nbformat_minor": 5
}
