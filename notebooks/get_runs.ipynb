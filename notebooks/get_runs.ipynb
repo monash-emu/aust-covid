{
 "cells": [
  {
   "cell_type": "code",
   "execution_count": null,
   "id": "eec7d760-336e-42c0-b5a6-b3bb1fe768b5",
   "metadata": {},
   "outputs": [],
   "source": [
    "import s3fs\n",
    "from pathlib import PurePosixPath\n",
    "\n",
    "bucket = PurePosixPath('autumn-data')\n",
    "fs = s3fs.S3FileSystem()\n",
    "paths = fs.ls(bucket / 'projects' / 'aust_covid' / 'finalising_epi_model')\n",
    "[path[12:] for path in paths]"
   ]
  },
  {
   "cell_type": "code",
   "execution_count": null,
   "id": "dc1979f8-bc65-4635-bf6a-1427ff1a9e87",
   "metadata": {},
   "outputs": [],
   "source": [
    "for i in {'a': 1, 'b': 2}:\n",
    "    print(i)"
   ]
  },
  {
   "cell_type": "code",
   "execution_count": null,
   "id": "743a2a9e-b137-4cfe-b24a-268a667caaed",
   "metadata": {},
   "outputs": [],
   "source": []
  }
 ],
 "metadata": {
  "kernelspec": {
   "display_name": "Python 3 (ipykernel)",
   "language": "python",
   "name": "python3"
  },
  "language_info": {
   "codemirror_mode": {
    "name": "ipython",
    "version": 3
   },
   "file_extension": ".py",
   "mimetype": "text/x-python",
   "name": "python",
   "nbconvert_exporter": "python",
   "pygments_lexer": "ipython3",
   "version": "3.10.0"
  }
 },
 "nbformat": 4,
 "nbformat_minor": 5
}
