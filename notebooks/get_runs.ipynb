{
 "cells": [
  {
   "cell_type": "code",
   "execution_count": null,
   "id": "eec7d760-336e-42c0-b5a6-b3bb1fe768b5",
   "metadata": {},
   "outputs": [],
   "source": [
    "from autumn.infrastructure.remote import springboard"
   ]
  },
  {
   "cell_type": "code",
   "execution_count": null,
   "id": "60b968ff-b4f2-4528-8133-f5a0245c96c9",
   "metadata": {},
   "outputs": [],
   "source": [
    "rts = springboard.task.RemoteTaskStore()\n",
    "rts.cd('projects/aust_covid/base_case_analysis')\n",
    "rts.ls()"
   ]
  },
  {
   "cell_type": "code",
   "execution_count": null,
   "id": "4ef55ee5-e18d-4da0-bfcc-98d34e0f1482",
   "metadata": {},
   "outputs": [],
   "source": [
    "mt = rts.get_managed_task('2023-09-12T2016-check_running_with_spaghetti')"
   ]
  }
 ],
 "metadata": {
  "kernelspec": {
   "display_name": "Python 3 (ipykernel)",
   "language": "python",
   "name": "python3"
  },
  "language_info": {
   "codemirror_mode": {
    "name": "ipython",
    "version": 3
   },
   "file_extension": ".py",
   "mimetype": "text/x-python",
   "name": "python",
   "nbconvert_exporter": "python",
   "pygments_lexer": "ipython3",
   "version": "3.10.11"
  }
 },
 "nbformat": 4,
 "nbformat_minor": 5
}
