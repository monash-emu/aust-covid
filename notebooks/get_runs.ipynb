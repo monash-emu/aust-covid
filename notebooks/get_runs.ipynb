{
 "cells": [
  {
   "cell_type": "code",
   "execution_count": null,
   "id": "eec7d760-336e-42c0-b5a6-b3bb1fe768b5",
   "metadata": {},
   "outputs": [],
   "source": [
    "from autumn.infrastructure.remote import springboard"
   ]
  },
  {
   "cell_type": "code",
   "execution_count": null,
   "id": "60b968ff-b4f2-4528-8133-f5a0245c96c9",
   "metadata": {},
   "outputs": [],
   "source": [
    "rts = springboard.task.RemoteTaskStore()\n",
    "rts.cd('projects/aust_covid/alternate_analyses')\n",
    "rts.ls()"
   ]
  },
  {
   "cell_type": "code",
   "execution_count": null,
   "id": "4ef55ee5-e18d-4da0-bfcc-98d34e0f1482",
   "metadata": {},
   "outputs": [],
   "source": [
    "mt = rts.get_managed_task('2023-09-28T2135-none-d10k-t10k-b5k')"
   ]
  },
  {
   "cell_type": "code",
   "execution_count": null,
   "id": "ad865a0d-9eb4-4876-8453-d6ac70a36f5e",
   "metadata": {},
   "outputs": [],
   "source": [
    "print(mt.get_log('crash'))"
   ]
  },
  {
   "cell_type": "code",
   "execution_count": null,
   "id": "318ae812-d0b0-4976-95d9-41ba48f4468e",
   "metadata": {},
   "outputs": [],
   "source": []
  }
 ],
 "metadata": {
  "kernelspec": {
   "display_name": "Python 3 (ipykernel)",
   "language": "python",
   "name": "python3"
  },
  "language_info": {
   "codemirror_mode": {
    "name": "ipython",
    "version": 3
   },
   "file_extension": ".py",
   "mimetype": "text/x-python",
   "name": "python",
   "nbconvert_exporter": "python",
   "pygments_lexer": "ipython3",
   "version": "3.10.0"
  }
 },
 "nbformat": 4,
 "nbformat_minor": 5
}
