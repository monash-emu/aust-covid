{
 "cells": [
  {
   "cell_type": "markdown",
   "id": "e6c2d8c4-2355-4678-9744-b4bda71bf831",
   "metadata": {},
   "source": [
    "## Supplement\n",
    "Generate the full supplemental appendix for the analysis."
   ]
  },
  {
   "cell_type": "code",
   "execution_count": null,
   "id": "486891de-bce1-44ff-9381-6cd09424ee38",
   "metadata": {},
   "outputs": [],
   "source": [
    "# Uncomment the following commands to install in Colab\n",
    "# Once completed, click the 'Restart runtime' button that will appear to restart the Colab environment\n",
    "# and then proceed to the following cells\n",
    "\n",
    "# !pip uninstall numba -y\n",
    "# !pip uninstall librosa -y\n",
    "# !pip install estival==0.4.7b2 numpy==1.24.3 kaleido"
   ]
  },
  {
   "cell_type": "code",
   "execution_count": null,
   "id": "d83d85d8-015d-4370-ba71-ec12c5133dc3",
   "metadata": {},
   "outputs": [],
   "source": [
    "try:\n",
    "    import google.colab\n",
    "    on_colab = True\n",
    "    ! git clone https://github.com/monash-emu/aust-covid.git --branch finalise-notebooks\n",
    "    %cd aust-covid\n",
    "    %pip install -e ./\n",
    "    import multiprocessing as mp\n",
    "    mp.set_start_method('forkserver')\n",
    "except:\n",
    "    on_colab = False"
   ]
  },
  {
   "cell_type": "code",
   "execution_count": null,
   "id": "4ce0b366-3694-4fca-a5e8-9e29f69ec954",
   "metadata": {},
   "outputs": [],
   "source": [
    "import arviz as az\n",
    "import numpy as np\n",
    "import pandas as pd\n",
    "from estival.sampling import tools as esamp\n",
    "\n",
    "from aust_covid.model import build_model\n",
    "from emutools.calibration import plot_priors, tabulate_priors, param_table_to_tex\n",
    "from inputs.constants import INPUTS_PATH, SUPPLEMENT_PATH, MOBILITY_MAP, MOBILITY_AVERAGE_WINDOW, RUN_IDS, RUNS_PATH, PRIMARY_ANALYSIS, BURN_IN\n",
    "from aust_covid.calibration import get_priors, get_all_priors, get_targets\n",
    "from emutools.tex import DummyTexDoc, StandardTexDoc, remove_underscore_multiindexcol\n",
    "from emutools.parameters import load_param_info\n",
    "from emutools.calibration import plot_param_progression, plot_posterior_comparison, tabulate_param_results, plot_output_ranges, plot_output_ranges_by_analysis\n",
    "from emutools.calibration import get_like_components, plot_like_components_by_analysis, plot_spaghetti, plot_param_hover_spaghetti\n",
    "from aust_covid.extra_text import add_intro_blurb_to_tex, add_parameters_blurb_to_tex, add_likelihood_blurb_to_tex, add_calibration_blurb_to_tex, \\\n",
    "    add_dispersion_blurb_to_tex, add_model_structure_blurb_to_tex, add_mobility_blurb_to_tex, add_vaccination_blurb_to_tex\n",
    "from aust_covid.utils import add_image_to_doc\n",
    "from aust_covid.inputs import get_ifrs, get_base_vacc_data, get_raw_state_mobility\n",
    "from aust_covid.plotting import plot_targets, plot_dispersion_examples, plot_full_vacc, plot_program_coverage, plot_multi_spaghetti, plot_vacc_implementation\n",
    "from aust_covid.plotting import plot_example_model_matrices, plot_immune_props, plot_state_mobility, plot_processed_mobility, plot_cdr_examples, plot_subvariant_props\n",
    "from aust_covid.mobility import get_non_wa_mob_averages, get_relative_mobility, map_mobility_locations\n",
    "from aust_covid.vaccination import get_vacc_data_masks, add_derived_data_to_vacc, get_full_vacc_props\n",
    "import warnings\n",
    "warnings.simplefilter(action='ignore', category=pd.errors.PerformanceWarning)"
   ]
  },
  {
   "cell_type": "code",
   "execution_count": null,
   "id": "a88d4bf8-55d3-45e7-8aba-235f4e79d3ee",
   "metadata": {},
   "outputs": [],
   "source": [
    "# Start appendix document\n",
    "app_doc = StandardTexDoc(SUPPLEMENT_PATH, 'supplement', \"Supplementary material to analysis of Australia's 2022 COVID-19 epidemic\", 'austcovid', table_of_contents=True)\n",
    "dummy_doc = DummyTexDoc()\n",
    "add_intro_blurb_to_tex(app_doc)"
   ]
  },
  {
   "cell_type": "code",
   "execution_count": null,
   "id": "1a9abfb2-1209-45f7-8e08-5d0a87b5e5e3",
   "metadata": {},
   "outputs": [],
   "source": [
    "# Priors\n",
    "param_info = load_param_info()\n",
    "all_priors = get_all_priors()\n",
    "get_priors(False, param_info['abbreviations'], app_doc)\n",
    "priors_table = tabulate_priors(all_priors, param_info)\n",
    "app_doc.include_table(priors_table, 'priors_table', 'Priors.', 'Calibration methods', subsection='Priors', col_splits=[0.25] * 4)\n",
    "priors_fig = plot_priors(all_priors, param_info['abbreviations'], 4, 100, 0.1, 0.99)\n",
    "caption = 'Illustrations of prior distributions implemented in calibration algorithm.'\n",
    "add_image_to_doc(priors_fig, 'prior_distributions', 'svg', 'Priors.', app_doc, 'Calibration methods', subsection='Priors', caption=caption)"
   ]
  },
  {
   "cell_type": "code",
   "execution_count": null,
   "id": "e304741a-2b4a-415c-a5e7-6c69d9578746",
   "metadata": {},
   "outputs": [],
   "source": [
    "# Parameters\n",
    "ifrs = get_ifrs(app_doc)\n",
    "param_info['value'].update(ifrs)\n",
    "parameters = param_info['value'].to_dict()\n",
    "add_parameters_blurb_to_tex(app_doc)\n",
    "prior_names = [p.name for p in get_priors(True, param_info['abbreviations'], DummyTexDoc())]\n",
    "app_doc.include_table(param_table_to_tex(param_info, prior_names), 'params', 'Epidemiological parameters and evidence.', section='Parameters', col_splits=[0.15, 0.13, 0.13, 0.59], longtable=True)"
   ]
  },
  {
   "cell_type": "code",
   "execution_count": null,
   "id": "72c71ab3-b482-4e07-a243-e87efdf66297",
   "metadata": {},
   "outputs": [],
   "source": [
    "# Targets\n",
    "targets = get_targets(app_doc)\n",
    "fig = plot_targets(targets, for_plotly=False)\n",
    "add_image_to_doc(fig, 'target_fig', 'svg', 'Calibration targets with raw data from which they were derived.', app_doc, 'Targets')"
   ]
  },
  {
   "cell_type": "code",
   "execution_count": null,
   "id": "7eadfc28-c637-4612-a484-83bcabbd8d8b",
   "metadata": {},
   "outputs": [],
   "source": [
    "# Mobility\n",
    "state_data, jurisdictions, mob_locs = get_raw_state_mobility(dummy_doc)\n",
    "fig = plot_state_mobility(state_data, jurisdictions, mob_locs)\n",
    "caption = 'Locations: Retail and recreation (green), grocery and pharmacy (purple), parks (orange), transit stations (yellow), workplaces (blue), and residential (red).'\n",
    "add_image_to_doc(fig.update_layout(showlegend=False), 'state_mobility', 'svg', 'Raw state-level mobility obtained from Google.', app_doc, 'Mobility extension', caption=caption)\n",
    "mapping_table = pd.DataFrame(MOBILITY_MAP)\n",
    "mapping_table.index = mapping_table.index.str.replace('_', ' ').str.capitalize()\n",
    "mapping_table.columns = mapping_table.columns.str.replace('_', ' ').str.capitalize()\n",
    "mapping_table = mapping_table.applymap(str)\n",
    "app_doc.include_table(mapping_table, 'mob_map', 'Mobility mapping.', 'Mobility extension')\n",
    "wa_data = state_data.loc[state_data['sub_region_1'] == 'Western Australia', mob_locs]\n",
    "state_averages = get_non_wa_mob_averages(state_data, mob_locs, jurisdictions, DummyTexDoc())\n",
    "non_wa_relmob = get_relative_mobility(state_averages)\n",
    "wa_relmob = get_relative_mobility(wa_data)\n",
    "processed_mob = map_mobility_locations(wa_relmob, non_wa_relmob, DummyTexDoc())\n",
    "smoothed_mob = processed_mob.rolling(MOBILITY_AVERAGE_WINDOW).mean().dropna()\n",
    "squared_mob = smoothed_mob ** 2.0\n",
    "mobility_types = {\n",
    "    'original': remove_underscore_multiindexcol(processed_mob),\n",
    "    'smoothed': remove_underscore_multiindexcol(smoothed_mob),\n",
    "    'smoothed squared': remove_underscore_multiindexcol(squared_mob),\n",
    "}\n",
    "fig = plot_processed_mobility(mobility_types)\n",
    "caption = 'Work mobility (yellow line), smoothed work mobility (blue line), squared smoothed work mobility (red line), ' \\\n",
    "    'averaged other locations mobility (green line), smoothed averaged other locations mobility (purple), and squared smoothed averaged other locations mobility (orange).'\n",
    "add_image_to_doc(fig.update_layout(showlegend=False), 'processed_mobility', 'svg', 'Processed mobility for model.', app_doc, 'Mobility extension', caption=caption)\n",
    "add_mobility_blurb_to_tex(app_doc)"
   ]
  },
  {
   "cell_type": "code",
   "execution_count": null,
   "id": "2933c9b3-a92f-451f-a688-d9ffcbf3a6fb",
   "metadata": {},
   "outputs": [],
   "source": [
    "# Get completed models with each extension for use in sections below\n",
    "add_model_structure_blurb_to_tex(app_doc)\n",
    "epi_model = build_model(app_doc, param_info['abbreviations'], mobility_sens=True)\n",
    "vacc_model = build_model(DummyTexDoc(), param_info['abbreviations'], vacc_sens=True)\n",
    "vacc_model.run(parameters=parameters)"
   ]
  },
  {
   "cell_type": "code",
   "execution_count": null,
   "id": "c0b68865-387a-4f8b-9426-962e7400470b",
   "metadata": {},
   "outputs": [],
   "source": [
    "# Vaccination\n",
    "vacc_df = get_base_vacc_data()\n",
    "masks = get_vacc_data_masks(vacc_df)\n",
    "vacc_df, lagged_df = add_derived_data_to_vacc(vacc_df)\n",
    "full_prop_df = get_full_vacc_props(vacc_df, masks['age 16+, 2+ doses'])\n",
    "full_vacc_fig = plot_full_vacc(masks['age 16+, 2+ doses'], vacc_df, full_prop_df)\n",
    "caption = \"Second (`full') dose roll-out by age group. Number of persons receiving second dose (upper panel) and \" \\\n",
    "    'proportion of population having received second dose (lower panel). ' \\\n",
    "    'Age groups coloured from cyan (12 to 15 years-old) to purple (95+ years-old). '\n",
    "add_image_to_doc(full_vacc_fig.update_layout(showlegend=False), 'full_vacc', 'svg', 'Full vaccination coverage', app_doc, 'Vaccination extension', caption=caption)\n",
    "coverage_by_program = plot_program_coverage({m: masks[m] for m in ['age 16+, 3+ doses', 'age 16+, 4+ doses', 'age 12-15, 2+ doses', 'age 5-11, 2+ doses']}, vacc_df)\n",
    "add_image_to_doc(coverage_by_program, 'program_coverage', 'svg', 'Vaccination coverage by subsequent programs.', app_doc, 'Vaccination extension')\n",
    "caption = 'Booster program for persons aged 16 and above (red line), primary vaccination course for persons aged 5 to 11.'\n",
    "implement_fig = plot_vacc_implementation(vacc_df)\n",
    "add_image_to_doc(implement_fig.update_layout(showlegend=False), 'vacc_implement', 'svg', 'Vaccination implementation.', app_doc, 'Vaccination extension', caption=caption)\n",
    "vacc_distribution = plot_immune_props(vacc_model, vacc_df, lagged_df)\n",
    "caption = 'Reported vaccination coverage by program (dashed black line), and lagged vaccination coverage (dotted black line). ' \\\n",
    "    'Coloured areas represent distribution of population by vaccination status under vaccination extension: not yet vaccinated under program (green), ' \\\n",
    "    'recently vaccinated under program (red), and vaccinated under program but protective effect lost (blue).'\n",
    "add_image_to_doc(vacc_distribution.update_layout(showlegend=False), 'vaccination_distribution', 'svg', 'Comparison of reported to modelled vaccination status distribution. ', app_doc, 'Vaccination extension', caption=caption)\n",
    "add_vaccination_blurb_to_tex(app_doc)"
   ]
  },
  {
   "cell_type": "code",
   "execution_count": null,
   "id": "3d42a6b2-4f11-4b4f-ad18-3517b4785635",
   "metadata": {},
   "outputs": [],
   "source": [
    "# Example matrices\n",
    "example_matrix_fig = plot_example_model_matrices(epi_model, parameters)\n",
    "add_image_to_doc(example_matrix_fig, 'example_matrices', 'svg', 'Dynamic mixing matrices.', app_doc, 'Mixing')"
   ]
  },
  {
   "cell_type": "code",
   "execution_count": null,
   "id": "177f810b-d9a9-47a7-8540-fa534b8dcad9",
   "metadata": {},
   "outputs": [],
   "source": [
    "# Spaghetti plots\n",
    "spaghettis = {k: pd.read_hdf(RUNS_PATH / v / 'output/results.hdf', 'spaghetti') for k, v in RUN_IDS.items()}\n",
    "spaghetti = spaghettis[PRIMARY_ANALYSIS]\n",
    "key_indicators_fig = plot_spaghetti(spaghetti, ['notifications_ma', 'deaths_ma', 'adult_seropos_prop', 'reproduction_number'], 2, targets)\n",
    "key_outputs_title = 'Key outputs for randomly sampled runs from calibration algorithm.'\n",
    "add_image_to_doc(key_indicators_fig.update_layout(showlegend=False), 'multioutput_spaghetti', 'svg', key_outputs_title, app_doc, 'Calibration results')\n",
    "variant_prop_caption = 'Proportion of modelled cases attributable to each sub-variant over time. ' \\\n",
    "    'Solid curved lines, proportion of prevalence attributable to BA.1, ' \\\n",
    "    'Dashed curved lines, proportion of prevalence attributable to BA.1 or BA.2. ' \\\n",
    "    'Key dates for each variant are shown as vertical bars: blue, BA.1; red, BA.2; green, BA.5; ' \\\n",
    "    'dotted, first detection; dashed, \\>1\\%; solid, \\>50\\%. '\n",
    "variant_prop_fig = plot_subvariant_props(spaghetti)\n",
    "add_image_to_doc(variant_prop_fig, 'variant_prop_spaghetti', 'svg', 'Proportional prevalence of modelled sub-variants.', app_doc, 'Calibration results', caption=variant_prop_caption)"
   ]
  },
  {
   "cell_type": "code",
   "execution_count": null,
   "id": "18087f83-d61a-4477-b268-0eb4896d1f74",
   "metadata": {},
   "outputs": [],
   "source": [
    "# Get calibration results\n",
    "idata = az.from_netcdf(RUNS_PATH / RUN_IDS[PRIMARY_ANALYSIS] / 'output/calib_full_out.nc')\n",
    "burnt_idata = idata.sel(draw=np.s_[BURN_IN:])\n",
    "n_samples = 12\n",
    "sampled_idata = az.extract(burnt_idata, num_samples=n_samples)\n",
    "quantiles = [0.025, 0.25, 0.5, 0.75, 0.975]\n",
    "quantile_outputs = {k: esamp.quantiles_for_results(spaghettis[k], quantiles) for k in RUN_IDS.keys()}"
   ]
  },
  {
   "cell_type": "code",
   "execution_count": null,
   "id": "96d01947-9d5b-4669-bcbb-4ea83f0a245e",
   "metadata": {},
   "outputs": [],
   "source": [
    "# CDR examples\n",
    "cdr_caption = 'Examples of the modelled effect of various starting CDR proportion parameters.'\n",
    "cdr_fig = plot_cdr_examples(sampled_idata.variables['start_cdr'])\n",
    "caption = f'Modelled case detection ratio over time for {str(n_samples)} randomly selected parameter draws from calibration algorithm.'\n",
    "add_image_to_doc(cdr_fig, 'cdr_examples', 'svg', cdr_caption, app_doc, 'Outputs', caption=caption)"
   ]
  },
  {
   "cell_type": "code",
   "execution_count": null,
   "id": "64f1e498-d59d-46e1-aa2a-704bbe0cf067",
   "metadata": {},
   "outputs": [],
   "source": [
    "# Credible interval plots\n",
    "case_ranges_by_analysis = plot_output_ranges_by_analysis(quantile_outputs, targets, 'notifications_ma', quantiles)\n",
    "title = 'Cases credible intervals by analysis.'\n",
    "caption_end = ' with median estimate (black line), 2.5 to 97.5 centile credible interval ' \\\n",
    "    '(light blue shading), and 25 to 75 centile credible interval (dark blue shading), ' \\\n",
    "    'with comparison against epidemiological targets (red circles). ' \\\n",
    "    'Panel for each of the four candidate analyses. '\n",
    "caption = f'Case notifications {caption_end}'\n",
    "add_image_to_doc(case_ranges_by_analysis, 'case_ranges', 'svg', title, app_doc, 'Analysis comparison', caption=caption)\n",
    "death_ranges_by_analysis = plot_output_ranges_by_analysis(quantile_outputs, targets, 'deaths_ma', quantiles)\n",
    "caption = f'Deaths {caption_end}'\n",
    "add_image_to_doc(death_ranges_by_analysis, 'death_ranges', 'svg', 'Deaths credible intervals by analysis.', app_doc, 'Analysis comparison', caption=caption)\n",
    "seropos_ranges_by_analysis = plot_output_ranges_by_analysis(quantile_outputs, targets, 'adult_seropos_prop', quantiles)\n",
    "caption = f'Seropositive proportion {caption_end}'\n",
    "add_image_to_doc(seropos_ranges_by_analysis, 'seropos_ranges', 'svg', 'Seropositive proportion credible intervals by analysis.', app_doc, 'Analysis comparison', caption=caption)\n",
    "outputs = ['notifications_ma', 'deaths_ma', 'adult_seropos_prop', 'reproduction_number']\n",
    "base_analysis_ranges = plot_output_ranges(quantile_outputs, targets, outputs, PRIMARY_ANALYSIS, quantiles)\n",
    "caption = 'Primary analysis model median estimate (black line), 2.5 to 97.5 centile credible interval ' \\\n",
    "    '(light blue shading), and 25 to 75 centile credible interval (dark blue shading), ' \\\n",
    "    'with comparison against epidemiological targets (red circles). ' \\\n",
    "    'Panel for each epidemiological output. '\n",
    "add_image_to_doc(base_analysis_ranges, 'base_ranges', 'svg', 'Base analysis output credible intervals.', app_doc, 'Calibration results', caption=caption)"
   ]
  },
  {
   "cell_type": "code",
   "execution_count": null,
   "id": "1b047d9e-e141-4210-8a40-64f357ca6fcd",
   "metadata": {},
   "outputs": [],
   "source": [
    "# Dispersion\n",
    "prior_names = [p.name for p in get_priors(False, param_info['abbreviations'], dummy_doc)]\n",
    "colours = {'notifications_ma': '10, 10, 100', 'deaths_ma': '100, 10, 10'}\n",
    "dispersion_fig = plot_dispersion_examples(idata, epi_model, parameters, prior_names, targets, colours, np.linspace(0.1, 0.9, 9)).update_layout(showlegend=False)\n",
    "caption = 'Examples of the effect of values of the negative binomial distribution dispersion parameter, ' \\\n",
    "    'centiles of likelihood distribution. Actual targets used for likelihood calculation circles. '\n",
    "add_image_to_doc(dispersion_fig.update_layout(showlegend=False), 'dispersion_examples', 'svg', 'Dispersion examples.', app_doc, 'Targets', caption=caption)\n",
    "add_dispersion_blurb_to_tex(app_doc)"
   ]
  },
  {
   "cell_type": "code",
   "execution_count": null,
   "id": "f62390c7-3fbd-4f24-b979-60b90c47993b",
   "metadata": {},
   "outputs": [],
   "source": [
    "# Likelihood comparison\n",
    "like_outputs = get_like_components(['loglikelihood', 'll_adult_seropos_prop', 'll_deaths_ma', 'll_notifications_ma'])\n",
    "clips = {\n",
    "    'loglikelihood': -28.0,\n",
    "    'll_adult_seropos_prop': -4.0,\n",
    "    'll_deaths_ma': -10.0,\n",
    "    'll_notifications_ma': -17.0,\n",
    "}\n",
    "like_comparison_fig = plot_like_components_by_analysis(like_outputs, 'kdeplot', clips=clips, alpha=0.1, linewidth=1.5);\n",
    "caption = 'Comparison of the kernel density distribution of the final likelihood from calibration algorithm, ' \\\n",
    "    'with the contributions to the final likelihood of the three targets from which it was constructed.'\n",
    "add_image_to_doc(like_comparison_fig, 'like_comparison', 'svg', 'Likelihood comparison, kernel densities.', app_doc, 'Analysis comparison', caption=caption)\n",
    "add_likelihood_blurb_to_tex(app_doc)"
   ]
  },
  {
   "cell_type": "code",
   "execution_count": null,
   "id": "53defcf1-3dbc-411d-bef7-8f9f1d210253",
   "metadata": {},
   "outputs": [],
   "source": [
    "# Calibration results\n",
    "priors = get_priors(PRIMARY_ANALYSIS in ['vacc', 'both'], param_info['abbreviations'], DummyTexDoc())\n",
    "prior_names = [p.name for p in priors]\n",
    "n_half_priors = round(len(priors) / 2)\n",
    "first_priors = prior_names[:n_half_priors]\n",
    "last_priors = prior_names[n_half_priors:]\n",
    "first_third_priors = prior_names[:6]\n",
    "middle_third_priors = prior_names[6: 12]\n",
    "last_third_priors = prior_names[12:]\n",
    "trace_fig1 = plot_param_progression(idata, param_info['descriptions'], request_vars=first_third_priors)\n",
    "trace_fig2 = plot_param_progression(idata, param_info['descriptions'], request_vars=middle_third_priors)\n",
    "trace_fig3 = plot_param_progression(idata, param_info['descriptions'], request_vars=last_third_priors)\n",
    "comp_fig1 = plot_posterior_comparison(idata, priors, first_priors, param_info['abbreviations'].to_dict(), 0.995)\n",
    "comp_fig2 = plot_posterior_comparison(idata, priors, last_priors, param_info['abbreviations'].to_dict(), 0.995)\n",
    "calibration_table = tabulate_param_results(idata, priors, param_info)\n",
    "app_doc.include_table(calibration_table, 'calibration_metrics', 'Calibration metrics', section='Calibration results', subsection='Calibration performance', col_splits=[0.142] * 7, table_width=12.0, longtable=True)\n",
    "trace_figs = [trace_fig1, trace_fig2, trace_fig3]\n",
    "comp_figs = [comp_fig1, comp_fig2]\n",
    "for i_fig in range(1, 4):\n",
    "    add_image_to_doc(trace_figs[i_fig - 1], f'trace_fig_{i_fig}', 'svg', f'Parameter posteriors and traces by chain, {i_fig}.', app_doc, 'Calibration results', subsection='Parameter inference')\n",
    "for i_fig in range(1, 3):\n",
    "    caption = 'Inferred parameter posterior densities (blue areas) compared against corresponding calibration algorithm prior distributions (grey areas).'\n",
    "    add_image_to_doc(comp_figs[i_fig - 1], f'comp_fig_{i_fig}', 'svg', f'Posterior densities and prior distributions, {i_fig}.', app_doc, 'Calibration results', subsection='Parameter inference', caption=caption, fig_width=1.0)\n",
    "add_calibration_blurb_to_tex(app_doc)"
   ]
  },
  {
   "cell_type": "code",
   "execution_count": null,
   "id": "913ad7ed-b269-4f49-9d91-9cf5ef5f0d08",
   "metadata": {},
   "outputs": [],
   "source": [
    "section_order = [\n",
    "    'Approach to analyses',\n",
    "    'Base compartmental structure',\n",
    "    'Population',\n",
    "    'Stratification',\n",
    "    'Reinfection',\n",
    "    'Mixing',\n",
    "    'Mobility extension',\n",
    "    'Vaccination extension',\n",
    "    'Outputs',\n",
    "    'Parameters',\n",
    "    'Targets',\n",
    "    'Calibration methods',\n",
    "    'Analysis comparison',\n",
    "    'Calibration results',\n",
    "]\n",
    "app_doc.write_doc(order=section_order)"
   ]
  },
  {
   "cell_type": "code",
   "execution_count": null,
   "id": "0fbfe667-1610-4e60-93b1-d1e5fab0f5f8",
   "metadata": {},
   "outputs": [],
   "source": [
    "if on_colab:\n",
    "    # To build a PDF, we need the appropriate tex packages installed\n",
    "    ! apt-get -y install texlive-latex-base texlive-fonts-recommended texlive-fonts-extra texlive-latex-extra texlive-bibtex-extra biber\n",
    "    # To avoid clutter and navigate to the right directory\n",
    "    import os\n",
    "    os.chdir(SUPPLEMENT_PATH)\n",
    "    # And finally build the formatted PDF, repeated commands are necessary\n",
    "    ! pdflatex supplement\n",
    "    ! biber supplement\n",
    "    ! pdflatex supplement\n",
    "    ! pdflatex supplement"
   ]
  }
 ],
 "metadata": {
  "kernelspec": {
   "display_name": "Python 3 (ipykernel)",
   "language": "python",
   "name": "python3"
  },
  "language_info": {
   "codemirror_mode": {
    "name": "ipython",
    "version": 3
   },
   "file_extension": ".py",
   "mimetype": "text/x-python",
   "name": "python",
   "nbconvert_exporter": "python",
   "pygments_lexer": "ipython3",
   "version": "3.10.0"
  }
 },
 "nbformat": 4,
 "nbformat_minor": 5
}
