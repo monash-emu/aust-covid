{
 "cells": [
  {
   "cell_type": "code",
   "execution_count": null,
   "id": "486891de-bce1-44ff-9381-6cd09424ee38",
   "metadata": {},
   "outputs": [],
   "source": [
    "# Uncomment the following commands to install in Colab\n",
    "# Once completed, click the 'Restart runtime' button that will appear to restart the Colab environment\n",
    "# and then proceed to the following cells\n",
    "\n",
    "# !pip uninstall numba -y\n",
    "# !pip uninstall librosa -y\n",
    "# !pip install estival==0.4.7b2 numpy==1.24.3 kaleido"
   ]
  },
  {
   "cell_type": "code",
   "execution_count": null,
   "id": "d83d85d8-015d-4370-ba71-ec12c5133dc3",
   "metadata": {},
   "outputs": [],
   "source": [
    "try:\n",
    "    import google.colab\n",
    "    on_colab = True\n",
    "    ! git clone https://github.com/monash-emu/aust-covid.git --branch finalise-notebooks\n",
    "    %cd aust-covid\n",
    "    %pip install -e ./\n",
    "    import multiprocessing as mp\n",
    "    mp.set_start_method('forkserver')\n",
    "except:\n",
    "    on_colab = False"
   ]
  },
  {
   "cell_type": "code",
   "execution_count": null,
   "id": "4ce0b366-3694-4fca-a5e8-9e29f69ec954",
   "metadata": {},
   "outputs": [],
   "source": [
    "from aust_covid.model import build_model\n",
    "import arviz as az\n",
    "import numpy as np\n",
    "\n",
    "from emutools.calibration import plot_priors, tabulate_priors, param_table_to_tex\n",
    "from inputs.constants import INPUTS_PATH, SUPPLEMENT_PATH\n",
    "from aust_covid.calibration import get_priors, get_all_priors, get_targets\n",
    "from emutools.tex import DummyTexDoc, StandardTexDoc\n",
    "from emutools.parameters import load_param_info\n",
    "from aust_covid.utils import add_image_to_doc\n",
    "from aust_covid.inputs import get_ifrs, get_base_vacc_data\n",
    "from aust_covid.plotting import plot_targets, plot_dispersion_examples, plot_full_vacc, plot_program_coverage\n",
    "from aust_covid.vaccination import get_vacc_data_masks, add_derived_data_to_vacc\n",
    "\n",
    "if not on_colab:\n",
    "    from autumn.infrastructure.remote import springboard"
   ]
  },
  {
   "cell_type": "code",
   "execution_count": null,
   "id": "a88d4bf8-55d3-45e7-8aba-235f4e79d3ee",
   "metadata": {},
   "outputs": [],
   "source": [
    "app_doc = StandardTexDoc(SUPPLEMENT_PATH, 'supplement', \"Supplementary material to analysis of Australia's 2022 COVID-19 epidemic\", 'austcovid')"
   ]
  },
  {
   "cell_type": "code",
   "execution_count": null,
   "id": "1a9abfb2-1209-45f7-8e08-5d0a87b5e5e3",
   "metadata": {},
   "outputs": [],
   "source": [
    "param_info = load_param_info()\n",
    "all_priors = get_all_priors()\n",
    "get_priors(False, param_info['abbreviations'], app_doc)\n",
    "priors_table = tabulate_priors(all_priors, param_info)\n",
    "app_doc.include_table(priors_table, section='Priors', col_splits=[0.25] * 4)\n",
    "fig = plot_priors(all_priors, param_info['abbreviations'], 4, 100, 0.1, 0.99)\n",
    "caption = 'Illustrations of prior distributions implemented in calibration algorithm.'\n",
    "add_image_to_doc(fig, 'prior_distributions', caption, app_doc, 'Priors')"
   ]
  },
  {
   "cell_type": "code",
   "execution_count": null,
   "id": "e304741a-2b4a-415c-a5e7-6c69d9578746",
   "metadata": {},
   "outputs": [],
   "source": [
    "ifrs = get_ifrs(app_doc)\n",
    "param_info['value'].update(ifrs)\n",
    "parameters = param_info['value'].to_dict()\n",
    "prior_names = [p.name for p in get_priors(True, param_info['abbreviations'], DummyTexDoc())]\n",
    "app_doc.include_table(param_table_to_tex(param_info, prior_names), section='Parameters', col_splits=[0.17, 0.15, 0.15, 0.53], longtable=True)"
   ]
  },
  {
   "cell_type": "code",
   "execution_count": null,
   "id": "7489eef7-d97b-4070-8868-33c00e8da803",
   "metadata": {},
   "outputs": [],
   "source": [
    "vacc_df = get_base_vacc_data()\n",
    "masks = get_vacc_data_masks(vacc_df)\n",
    "vacc_df, lagged_df = add_derived_data_to_vacc(vacc_df)\n",
    "full_vacc_fig = plot_full_vacc(masks['age 16+, 2+ doses'], vacc_df)\n",
    "add_image_to_doc(full_vacc_fig, 'full_vacc', 'Full vaccination coverage', app_doc, 'Vaccination')\n",
    "coverage_by_program = plot_program_coverage({m: masks[m] for m in ['age 16+, 3+ doses', 'age 16+, 4+ doses', 'age 12-15, 2+ doses', 'age 5-11, 2+ doses']}, vacc_df)\n",
    "add_image_to_doc(coverage_by_program, 'program_coverage', 'Vaccination coverage by subsequent programs', app_doc, 'Vaccination')\n",
    "vaccinated_by_modelled_group = vacc_df[['primary full', 'adult booster']].plot()\n",
    "add_image_to_doc(vaccinated_by_modelled_group, 'modelled_group_vacc', 'Vaccination numbers by modelled vaccination groups', app_doc, 'Vaccination')\n",
    "coverage_by_modelled_group = vacc_df[['prop primary full', 'prop adult booster']].plot()\n",
    "add_image_to_doc(coverage_by_modelled_group, 'modelled_group_prop', 'Vaccination coverage by modelled vaccination groups', app_doc, 'Vaccination')\n",
    "vacc_rates_by_modelled_group = vacc_df[['rate primary full', 'rate adult booster']].plot()\n",
    "add_image_to_doc(vacc_rates_by_modelled_group, 'modelled_group_rates', 'Vaccination rates by modelled vaccination groups', app_doc, 'Vaccination')"
   ]
  },
  {
   "cell_type": "code",
   "execution_count": null,
   "id": "72c71ab3-b482-4e07-a243-e87efdf66297",
   "metadata": {},
   "outputs": [],
   "source": [
    "targets = get_targets(app_doc)\n",
    "fig = plot_targets(targets)\n",
    "add_image_to_doc(fig, 'target_fig', 'Calibration targets with raw data from which they were derived.', app_doc, 'Targets')"
   ]
  },
  {
   "cell_type": "code",
   "execution_count": null,
   "id": "2933c9b3-a92f-451f-a688-d9ffcbf3a6fb",
   "metadata": {},
   "outputs": [],
   "source": [
    "epi_model = build_model(app_doc)"
   ]
  },
  {
   "cell_type": "code",
   "execution_count": null,
   "id": "9f827dbf-9318-4d8c-8228-0f554581c098",
   "metadata": {},
   "outputs": [],
   "source": [
    "if not on_colab:\n",
    "    rts = springboard.task.RemoteTaskStore()\n",
    "    rts.cd('projects/aust_covid/alternate_analyses')\n",
    "    mt = rts.get_managed_task('2023-10-09T1251-none-d20k-t10k-b5k')\n",
    "    # mt.download_all()\n",
    "    idata = az.from_netcdf(mt.local / 'output/calib_full_out.nc')\n",
    "    colours = {'notifications_ma': '10, 10, 100', 'deaths_ma': '100, 10, 10'}\n",
    "    centiles = np.linspace(0.1, 0.9, 9)\n",
    "    prior_names = [p.name for p in get_priors(False, param_info['abbreviations'], DummyTexDoc()) if p.name != 'imm_prop']\n",
    "    fig = plot_dispersion_examples(idata, epi_model, parameters, prior_names, targets, colours, centiles)\n",
    "    fig.update_layout(showlegend=False)\n",
    "    caption = 'Examples of the effect of values of the negative binomial distribution dispersion parameter.'\n",
    "    add_image_to_doc(fig, 'dispersion_examples', caption, app_doc, 'Targets')"
   ]
  },
  {
   "cell_type": "code",
   "execution_count": null,
   "id": "913ad7ed-b269-4f49-9d91-9cf5ef5f0d08",
   "metadata": {},
   "outputs": [],
   "source": [
    "section_order = [\n",
    "    'Model Structure',\n",
    "    'Population',\n",
    "    'Stratification',\n",
    "    'Reinfection',\n",
    "    'Mixing',\n",
    "    'Initialisation',\n",
    "    'Vaccination',\n",
    "    'Outputs',\n",
    "    'Parameters',\n",
    "    'Priors',\n",
    "    'Targets',\n",
    "]\n",
    "app_doc.write_doc(order=section_order)"
   ]
  },
  {
   "cell_type": "code",
   "execution_count": null,
   "id": "0fbfe667-1610-4e60-93b1-d1e5fab0f5f8",
   "metadata": {},
   "outputs": [],
   "source": [
    "if on_colab:\n",
    "    # To build a PDF, we need the appropriate tex packages installed\n",
    "    ! apt-get -y install texlive-latex-base texlive-fonts-recommended texlive-fonts-extra texlive-latex-extra texlive-bibtex-extra biber\n",
    "    # To avoid clutter and navigate to the right directory\n",
    "    import os\n",
    "    os.chdir(SUPPLEMENT_PATH)\n",
    "    # And finally build the formatted PDF, repeated commands are necessary\n",
    "    ! pdflatex supplement\n",
    "    ! biber supplement\n",
    "    ! pdflatex supplement\n",
    "    ! pdflatex supplement"
   ]
  }
 ],
 "metadata": {
  "kernelspec": {
   "display_name": "Python 3 (ipykernel)",
   "language": "python",
   "name": "python3"
  },
  "language_info": {
   "codemirror_mode": {
    "name": "ipython",
    "version": 3
   },
   "file_extension": ".py",
   "mimetype": "text/x-python",
   "name": "python",
   "nbconvert_exporter": "python",
   "pygments_lexer": "ipython3",
   "version": "3.10.0"
  }
 },
 "nbformat": 4,
 "nbformat_minor": 5
}
