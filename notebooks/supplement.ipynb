{
 "cells": [
  {
   "cell_type": "code",
   "execution_count": null,
   "id": "4ce0b366-3694-4fca-a5e8-9e29f69ec954",
   "metadata": {},
   "outputs": [],
   "source": [
    "from aust_covid.model import build_model\n",
    "from autumn.infrastructure.remote import springboard\n",
    "import arviz as az\n",
    "import numpy as np\n",
    "\n",
    "from emutools.calibration import plot_priors, tabulate_priors\n",
    "from inputs.constants import INPUTS_PATH, SUPPLEMENT_PATH\n",
    "from aust_covid.calibration import get_priors, get_all_priors, get_targets\n",
    "from emutools.tex import DummyTexDoc, StandardTexDoc\n",
    "from emutools.parameters import load_param_info\n",
    "from aust_covid.utils import add_image_to_doc\n",
    "from aust_covid.inputs import get_ifrs\n",
    "from aust_covid.plotting import plot_targets, plot_dispersion_examples"
   ]
  },
  {
   "cell_type": "code",
   "execution_count": null,
   "id": "a88d4bf8-55d3-45e7-8aba-235f4e79d3ee",
   "metadata": {},
   "outputs": [],
   "source": [
    "app_doc = StandardTexDoc(SUPPLEMENT_PATH, 'supplement', \"Supplementary material to analysis of Australia's 2022 COVID-19 epidemic\", 'austcovid')"
   ]
  },
  {
   "cell_type": "code",
   "execution_count": null,
   "id": "1a9abfb2-1209-45f7-8e08-5d0a87b5e5e3",
   "metadata": {},
   "outputs": [],
   "source": [
    "param_info = load_param_info()\n",
    "all_priors = get_all_priors()\n",
    "get_priors(False, param_info['abbreviations'], app_doc)\n",
    "priors_table = tabulate_priors(all_priors, param_info)\n",
    "app_doc.include_table(priors_table, section='Priors', col_splits=[0.25] * 4)\n",
    "fig = plot_priors(all_priors, param_info['abbreviations'], 4, 100, 0.1, 0.99)\n",
    "caption = 'Illustrations of prior distributions implemented in calibration algorithm.'\n",
    "add_image_to_doc(fig, 'prior_distributions', caption, app_doc, 'Priors')"
   ]
  },
  {
   "cell_type": "code",
   "execution_count": null,
   "id": "72c71ab3-b482-4e07-a243-e87efdf66297",
   "metadata": {},
   "outputs": [],
   "source": [
    "targets = get_targets(app_doc)\n",
    "fig = plot_targets(targets)\n",
    "add_image_to_doc(fig, 'target_fig', 'Calibration targets with raw data from which they were derived.', app_doc, 'Targets')"
   ]
  },
  {
   "cell_type": "code",
   "execution_count": null,
   "id": "2933c9b3-a92f-451f-a688-d9ffcbf3a6fb",
   "metadata": {},
   "outputs": [],
   "source": [
    "epi_model = build_model(DummyTexDoc())"
   ]
  },
  {
   "cell_type": "code",
   "execution_count": null,
   "id": "9f827dbf-9318-4d8c-8228-0f554581c098",
   "metadata": {},
   "outputs": [],
   "source": [
    "rts = springboard.task.RemoteTaskStore()\n",
    "rts.cd('projects/aust_covid/alternate_analyses')\n",
    "mt = rts.get_managed_task('2023-10-09T1251-none-d20k-t10k-b5k')\n",
    "# mt.download_all()\n",
    "idata = az.from_netcdf(mt.local / 'output/calib_full_out.nc')"
   ]
  },
  {
   "cell_type": "code",
   "execution_count": null,
   "id": "1d8fc669-2b5a-451d-9707-06d6798a746b",
   "metadata": {},
   "outputs": [],
   "source": [
    "prior_names = [p.name for p in get_priors(False, param_info['abbreviations'], DummyTexDoc()) if p.name != 'imm_prop']\n",
    "parameters = param_info['value'].to_dict()\n",
    "parameters.update(get_ifrs(DummyTexDoc()))"
   ]
  },
  {
   "cell_type": "code",
   "execution_count": null,
   "id": "c4095fd7-58ea-4d34-b8ee-e42851630744",
   "metadata": {},
   "outputs": [],
   "source": [
    "colours = {'notifications_ma': '10, 10, 100', 'deaths_ma': '100, 10, 10'}\n",
    "centiles = np.linspace(0.1, 0.9, 9)\n",
    "fig = plot_dispersion_examples(idata, epi_model, parameters, prior_names, targets, colours, centiles)\n",
    "fig.update_layout(showlegend=False)\n",
    "caption = 'Examples of the effect of values of the negative binomial distribution dispersion parameter.'\n",
    "add_image_to_doc(fig, 'dispersion_examples', caption, app_doc, 'Targets')"
   ]
  },
  {
   "cell_type": "code",
   "execution_count": null,
   "id": "913ad7ed-b269-4f49-9d91-9cf5ef5f0d08",
   "metadata": {},
   "outputs": [],
   "source": [
    "app_doc.write_doc()"
   ]
  }
 ],
 "metadata": {
  "kernelspec": {
   "display_name": "Python 3 (ipykernel)",
   "language": "python",
   "name": "python3"
  },
  "language_info": {
   "codemirror_mode": {
    "name": "ipython",
    "version": 3
   },
   "file_extension": ".py",
   "mimetype": "text/x-python",
   "name": "python",
   "nbconvert_exporter": "python",
   "pygments_lexer": "ipython3",
   "version": "3.10.0"
  }
 },
 "nbformat": 4,
 "nbformat_minor": 5
}
