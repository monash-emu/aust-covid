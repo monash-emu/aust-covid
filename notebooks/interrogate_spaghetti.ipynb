{
 "cells": [
  {
   "cell_type": "code",
   "execution_count": null,
   "id": "08b6bf58-fbda-45aa-9144-cf7b6ea6fa6b",
   "metadata": {},
   "outputs": [],
   "source": [
    "import pandas as pd\n",
    "from emutools.tex import StandardTexDoc\n",
    "import arviz as az\n",
    "from inputs.constants import ANALYSIS_START_DATE, ANALYSIS_END_DATE, SUPPLEMENT_PATH, PLOT_START_DATE\n",
    "from aust_covid.plotting import plot_key_outputs, plot_cdr_examples, plot_subvariant_props, plot_dispersion_examples\n",
    "from aust_covid.calibration import get_priors, get_targets\n",
    "from emutools.calibration import get_sampled_outputs\n",
    "import plotly.graph_objects as go\n",
    "from emutools.calibration import round_sigfig\n",
    "import numpy as np\n",
    "import plotly.express as px\n",
    "from plotly.subplots import make_subplots\n",
    "pd.options.plotting.backend = 'plotly'"
   ]
  },
  {
   "cell_type": "code",
   "execution_count": null,
   "id": "931a7ef1-2812-4a1d-a7e2-7a66d31387f5",
   "metadata": {},
   "outputs": [],
   "source": [
    "app_doc = StandardTexDoc(SUPPLEMENT_PATH, 'supplement', \"Australia's 2023 Omicron Waves Supplement\", 'austcovid')"
   ]
  },
  {
   "cell_type": "code",
   "execution_count": null,
   "id": "2d93d051-8d94-4852-8f82-77d722d54fb3",
   "metadata": {},
   "outputs": [],
   "source": [
    "spaghetti = pd.read_csv('spaghetti.csv', header=[0, 1, 2], index_col=[0])\n",
    "burnt_idata = az.from_netcdf('idata_for_spaghetti.nc')\n",
    "targets = get_targets(app_doc)\n",
    "spaghetti.index = pd.to_datetime(spaghetti.index)"
   ]
  },
  {
   "cell_type": "code",
   "execution_count": null,
   "id": "c2d1951f-2853-4c95-9c5c-18c7d58ab9b5",
   "metadata": {},
   "outputs": [],
   "source": [
    "# case_target = next(t for t in targets if t.name == 'notifications_ma')"
   ]
  },
  {
   "cell_type": "code",
   "execution_count": null,
   "id": "ab79b699-fa56-4d79-935d-21c889f5917d",
   "metadata": {},
   "outputs": [],
   "source": [
    "indicators = ['notifications_ma', 'deaths_ma', 'adult_seropos_prop', 'reproduction_number']\n",
    "\n",
    "fig = make_subplots(rows=2, cols=2, subplot_titles=indicators)\n",
    "for i, ind in enumerate(indicators):\n",
    "    ind_spagh = spaghetti[ind]\n",
    "    ind_spagh = ind_spagh[(PLOT_START_DATE < ind_spagh.index) & (ind_spagh.index < ANALYSIS_END_DATE)]  # Truncate\n",
    "    ind_spagh.columns = [f'chain:{col[0]}, draw:{col[1]}' for col in ind_spagh.columns]  # Flatten column multi-index\n",
    "    lines = px.line(ind_spagh)\n",
    "    fig.add_traces(lines.data, rows=i % 2 + 1, cols=int(np.floor(i / 2)) + 1)\n",
    "fig.update_layout(showlegend=False, height=800)"
   ]
  },
  {
   "cell_type": "markdown",
   "id": "4124019c-b38e-4fc1-8daa-402c1ddddaf1",
   "metadata": {},
   "source": [
    "#### Parameter hover figure\n",
    "Not sure this is actually worthwhile, and probably shouldn't be the primary output."
   ]
  },
  {
   "cell_type": "code",
   "execution_count": null,
   "id": "794337d6-a736-4b3f-b8d8-8de361ecbcd5",
   "metadata": {},
   "outputs": [],
   "source": [
    "fig = go.Figure()\n",
    "indicator_spaghetti = spaghetti['adult_seropos_prop']\n",
    "data = pd.DataFrame()\n",
    "for col in indicator_spaghetti.columns:\n",
    "    chain, draw = col\n",
    "    data['values'] = indicator_spaghetti[col]\n",
    "    variables = burnt_idata.posterior.sel(chain=int(chain), draw=int(draw)).variables\n",
    "    info = {i: float(j) for i, j in dict(burnt_idata.posterior.sel(chain=int(chain), draw=int(draw)).variables).items()}\n",
    "    for param in info:\n",
    "        data[param] = int(info[param]) if param in ['chain', 'draw'] else round_sigfig(info[param], 3)\n",
    "    lines = px.line(data, y='values', hover_data=data.columns)\n",
    "    fig.add_traces(lines.data)\n",
    "fig"
   ]
  }
 ],
 "metadata": {
  "kernelspec": {
   "display_name": "Python 3 (ipykernel)",
   "language": "python",
   "name": "python3"
  },
  "language_info": {
   "codemirror_mode": {
    "name": "ipython",
    "version": 3
   },
   "file_extension": ".py",
   "mimetype": "text/x-python",
   "name": "python",
   "nbconvert_exporter": "python",
   "pygments_lexer": "ipython3",
   "version": "3.10.0"
  }
 },
 "nbformat": 4,
 "nbformat_minor": 5
}
