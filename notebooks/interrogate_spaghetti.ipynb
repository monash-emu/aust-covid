{
 "cells": [
  {
   "cell_type": "code",
   "execution_count": null,
   "id": "08b6bf58-fbda-45aa-9144-cf7b6ea6fa6b",
   "metadata": {},
   "outputs": [],
   "source": [
    "import pandas as pd\n",
    "from emutools.tex import StandardTexDoc\n",
    "import arviz as az\n",
    "from inputs.constants import ANALYSIS_START_DATE, ANALYSIS_END_DATE, SUPPLEMENT_PATH\n",
    "from aust_covid.plotting import plot_key_outputs, plot_cdr_examples, plot_subvariant_props, plot_dispersion_examples\n",
    "from aust_covid.calibration import get_priors, get_targets"
   ]
  },
  {
   "cell_type": "code",
   "execution_count": null,
   "id": "931a7ef1-2812-4a1d-a7e2-7a66d31387f5",
   "metadata": {},
   "outputs": [],
   "source": [
    "app_doc = StandardTexDoc(SUPPLEMENT_PATH, 'supplement', \"Australia's 2023 Omicron Waves Supplement\", 'austcovid')"
   ]
  },
  {
   "cell_type": "code",
   "execution_count": null,
   "id": "2d93d051-8d94-4852-8f82-77d722d54fb3",
   "metadata": {},
   "outputs": [],
   "source": [
    "spaghetti = pd.read_csv('spaghetti.csv', header=[0, 1, 2], index_col=[0])\n",
    "burnt_idata = az.from_netcdf('idata_for_spaghetti.nc')"
   ]
  },
  {
   "cell_type": "code",
   "execution_count": null,
   "id": "fcca430a-e9c1-4f75-afe1-81effe566f52",
   "metadata": {},
   "outputs": [],
   "source": [
    "targets = get_targets(app_doc)"
   ]
  },
  {
   "cell_type": "code",
   "execution_count": null,
   "id": "37d9649c-0ed5-4351-9f7a-9cc303c9211b",
   "metadata": {},
   "outputs": [],
   "source": [
    "plot_key_outputs(burnt_idata, spaghetti, ANALYSIS_START_DATE, ANALYSIS_END_DATE, app_doc, ['notifications_ma', 'deaths_ma'], targets[0].data, targets[1].data, targets[2].data, show_fig=True)"
   ]
  }
 ],
 "metadata": {
  "kernelspec": {
   "display_name": "Python 3 (ipykernel)",
   "language": "python",
   "name": "python3"
  },
  "language_info": {
   "codemirror_mode": {
    "name": "ipython",
    "version": 3
   },
   "file_extension": ".py",
   "mimetype": "text/x-python",
   "name": "python",
   "nbconvert_exporter": "python",
   "pygments_lexer": "ipython3",
   "version": "3.10.0"
  }
 },
 "nbformat": 4,
 "nbformat_minor": 5
}
