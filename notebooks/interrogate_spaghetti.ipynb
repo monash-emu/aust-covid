{
 "cells": [
  {
   "cell_type": "code",
   "execution_count": null,
   "id": "08b6bf58-fbda-45aa-9144-cf7b6ea6fa6b",
   "metadata": {},
   "outputs": [],
   "source": [
    "import pandas as pd\n",
    "from emutools.tex import StandardTexDoc\n",
    "import arviz as az\n",
    "from inputs.constants import ANALYSIS_START_DATE, ANALYSIS_END_DATE, SUPPLEMENT_PATH\n",
    "from aust_covid.plotting import plot_key_outputs, plot_cdr_examples, plot_subvariant_props, plot_dispersion_examples\n",
    "from aust_covid.calibration import get_priors, get_targets\n",
    "from emutools.calibration import get_sampled_outputs\n",
    "import plotly.graph_objects as go"
   ]
  },
  {
   "cell_type": "code",
   "execution_count": null,
   "id": "931a7ef1-2812-4a1d-a7e2-7a66d31387f5",
   "metadata": {},
   "outputs": [],
   "source": [
    "app_doc = StandardTexDoc(SUPPLEMENT_PATH, 'supplement', \"Australia's 2023 Omicron Waves Supplement\", 'austcovid')"
   ]
  },
  {
   "cell_type": "code",
   "execution_count": null,
   "id": "2d93d051-8d94-4852-8f82-77d722d54fb3",
   "metadata": {},
   "outputs": [],
   "source": [
    "spaghetti = pd.read_csv('spaghetti.csv', header=[0, 1, 2], index_col=[0])\n",
    "burnt_idata = az.from_netcdf('idata_for_spaghetti.nc')"
   ]
  },
  {
   "cell_type": "code",
   "execution_count": null,
   "id": "fcca430a-e9c1-4f75-afe1-81effe566f52",
   "metadata": {},
   "outputs": [],
   "source": [
    "targets = get_targets(app_doc)"
   ]
  },
  {
   "cell_type": "code",
   "execution_count": null,
   "id": "4e4da70e-565d-4072-b6dc-37ed7b1350f5",
   "metadata": {},
   "outputs": [],
   "source": [
    "def get_param_values(idata, chain, draw):\n",
    "    return {i: float(j) for i, j in dict(burnt_idata.posterior.sel(chain=int(chain), draw=int(draw)).variables).items()}"
   ]
  },
  {
   "cell_type": "code",
   "execution_count": null,
   "id": "794337d6-a736-4b3f-b8d8-8de361ecbcd5",
   "metadata": {},
   "outputs": [],
   "source": [
    "fig = go.Figure()\n",
    "indicator_spaghetti = spaghetti['adult_seropos_prop']\n",
    "for i in indicator_spaghetti.columns:\n",
    "    print(get_param_values(burnt_idata, i[0], i[1]))\n",
    "    run_values = indicator_spaghetti[i]\n",
    "    fig.add_trace(go.Scatter(x=run_values.index, y=run_values))\n",
    "fig"
   ]
  }
 ],
 "metadata": {
  "kernelspec": {
   "display_name": "Python 3 (ipykernel)",
   "language": "python",
   "name": "python3"
  },
  "language_info": {
   "codemirror_mode": {
    "name": "ipython",
    "version": 3
   },
   "file_extension": ".py",
   "mimetype": "text/x-python",
   "name": "python",
   "nbconvert_exporter": "python",
   "pygments_lexer": "ipython3",
   "version": "3.10.0"
  }
 },
 "nbformat": 4,
 "nbformat_minor": 5
}
