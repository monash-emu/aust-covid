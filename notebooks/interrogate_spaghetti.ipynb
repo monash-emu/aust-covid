{
 "cells": [
  {
   "cell_type": "code",
   "execution_count": null,
   "id": "08b6bf58-fbda-45aa-9144-cf7b6ea6fa6b",
   "metadata": {},
   "outputs": [],
   "source": [
    "import pandas as pd\n",
    "from emutools.tex import StandardTexDoc\n",
    "import arviz as az\n",
    "from autumn.infrastructure.remote import springboard\n",
    "from inputs.constants import SUPPLEMENT_PATH\n",
    "from aust_covid.calibration import get_targets\n",
    "import plotly.graph_objects as go\n",
    "from emutools.calibration import round_sigfig, plot_spaghetti, plot_param_hover_spaghetti\n",
    "from aust_covid.plotting import plot_cdr_examples, plot_subvariant_props\n",
    "pd.options.plotting.backend = 'plotly'"
   ]
  },
  {
   "cell_type": "code",
   "execution_count": null,
   "id": "cf082fd1-7233-4844-9caf-80990db96ae9",
   "metadata": {},
   "outputs": [],
   "source": [
    "rts = springboard.task.RemoteTaskStore()\n",
    "rts.cd('projects/aust_covid/base_case_analysis')\n",
    "mt = rts.get_managed_task('2023-09-13T1344-proper_run_with_spaghetti_DEM')\n",
    "mt.download_all()"
   ]
  },
  {
   "cell_type": "code",
   "execution_count": null,
   "id": "4d8a8391-f34b-42d6-8ba5-79e16cd9d370",
   "metadata": {},
   "outputs": [],
   "source": [
    "app_doc = StandardTexDoc(SUPPLEMENT_PATH, 'supplement', \"Australia's 2023 Omicron Waves Supplement\", 'austcovid')\n",
    "targets = get_targets(app_doc)\n",
    "spaghetti = pd.read_hdf(mt.local.path / 'output/results.hdf', 's')"
   ]
  },
  {
   "cell_type": "markdown",
   "id": "17879b93-22a8-4652-8bae-d34cedc7d862",
   "metadata": {},
   "source": [
    "### Key indicator outputs"
   ]
  },
  {
   "cell_type": "code",
   "execution_count": null,
   "id": "ab79b699-fa56-4d79-935d-21c889f5917d",
   "metadata": {},
   "outputs": [],
   "source": [
    "key_indicators_fig = plot_spaghetti(spaghetti, ['notifications_ma', 'deaths_ma', 'adult_seropos_prop', 'reproduction_number'], 2, targets)\n",
    "key_indicators_fig"
   ]
  },
  {
   "cell_type": "markdown",
   "id": "80a1738e-a680-43d9-b553-305dcd3f79d5",
   "metadata": {},
   "source": [
    "### Time-varying CDR examples"
   ]
  },
  {
   "cell_type": "code",
   "execution_count": null,
   "id": "24c950d3-8bbe-405b-89bb-fde9485cc010",
   "metadata": {},
   "outputs": [],
   "source": [
    "idata = az.from_netcdf(mt.local.path / 'output/calibration_out.nc')\n",
    "sampled_idata = az.extract(idata, num_samples=10)\n",
    "cdr_fig = plot_cdr_examples(sampled_idata.variables['contact_rate'])\n",
    "cdr_fig"
   ]
  },
  {
   "cell_type": "markdown",
   "id": "8676933a-9a92-41f5-9161-59c5d45b61ff",
   "metadata": {},
   "source": [
    "### Sub-variant proportions figure"
   ]
  },
  {
   "cell_type": "code",
   "execution_count": null,
   "id": "64b60d16-e181-46b7-8caa-e65a46ae162a",
   "metadata": {},
   "outputs": [],
   "source": [
    "variant_prop_caption = 'Proportion of modelled cases attributable to each subvariant over time. ' \\\n",
    "    'Solid curved lines, proportion of prevalence attributable to BA.1, ' \\\n",
    "    'Dashed curved lines, proportion of prevalence attributable to BA.1 or BA.2. ' \\\n",
    "    'Key dates for each variant shown as vertical bars: blue, BA.1; red, BA.2; green, BA.5; ' \\\n",
    "    'dotted, first detection; dashed, \\>1\\%; solid, \\>50\\%. '\n",
    "print(variant_prop_caption)"
   ]
  },
  {
   "cell_type": "code",
   "execution_count": null,
   "id": "c6113092-020d-4241-8cc2-d9e58bb06c74",
   "metadata": {},
   "outputs": [],
   "source": [
    "variant_prop_fig = plot_subvariant_props(spaghetti)"
   ]
  },
  {
   "cell_type": "markdown",
   "id": "16bae0ba-389e-4d3d-abfd-e6db8c13393f",
   "metadata": {},
   "source": [
    "### Spaghetti plot with parameters shown on hover"
   ]
  },
  {
   "cell_type": "code",
   "execution_count": null,
   "id": "794337d6-a736-4b3f-b8d8-8de361ecbcd5",
   "metadata": {},
   "outputs": [],
   "source": [
    "plot_param_hover_spaghetti(spaghetti['notifications_ma'], idata)"
   ]
  },
  {
   "cell_type": "markdown",
   "id": "afc394a9-acff-41e2-8c95-ed4cda3145b8",
   "metadata": {},
   "source": [
    "### Write to TeX document\n",
    "All except for parameter hover-over spaghetti figure."
   ]
  },
  {
   "cell_type": "code",
   "execution_count": null,
   "id": "8aa17103-8fc8-4885-bf79-5660ca07f85a",
   "metadata": {},
   "outputs": [],
   "source": [
    "filename = 'key_outputs.jpg'\n",
    "key_indicators_fig.write_image(SUPPLEMENT_PATH / filename)\n",
    "caption = 'Key results for randomly sampled runs from calibration algorithm.'\n",
    "app_doc.include_figure(caption, filename, 'Results')\n",
    "\n",
    "filename = 'cdr_samples.jpg'\n",
    "cdr_fig.write_image(SUPPLEMENT_PATH / filename)\n",
    "caption = 'Examples of simulated case detection rates over modelled time.'\n",
    "app_doc.include_figure(caption, filename, 'Outputs', subsection='Notifications')\n",
    "\n",
    "filename = 'subvariant_props.jpg'\n",
    "variant_prop_fig.write_image(SUPPLEMENT_PATH / filename)\n",
    "app_doc.include_figure(variant_prop_caption, filename, 'Results')"
   ]
  }
 ],
 "metadata": {
  "kernelspec": {
   "display_name": "Python 3 (ipykernel)",
   "language": "python",
   "name": "python3"
  },
  "language_info": {
   "codemirror_mode": {
    "name": "ipython",
    "version": 3
   },
   "file_extension": ".py",
   "mimetype": "text/x-python",
   "name": "python",
   "nbconvert_exporter": "python",
   "pygments_lexer": "ipython3",
   "version": "3.10.11"
  }
 },
 "nbformat": 4,
 "nbformat_minor": 5
}
