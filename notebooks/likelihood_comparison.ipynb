{
 "cells": [
  {
   "cell_type": "code",
   "execution_count": null,
   "id": "fe5a0780-773f-4ec7-b569-e4e726c01410",
   "metadata": {},
   "outputs": [],
   "source": [
    "import numpy as np\n",
    "import pandas as pd\n",
    "from autumn.infrastructure.remote import springboard\n",
    "from plotly.subplots import make_subplots\n",
    "pd.options.plotting.backend = 'plotly'"
   ]
  },
  {
   "cell_type": "code",
   "execution_count": null,
   "id": "7afbf99e-adb1-4509-9215-061cfdd2173c",
   "metadata": {},
   "outputs": [],
   "source": [
    "run_ids = {\n",
    "    'none': '2023-10-09T1251-none-d20k-t10k-b5k',\n",
    "    'mob': '2023-10-09T1253-mob-d20k-t10k-b5k',\n",
    "    'vacc': '2023-10-09T1254-vacc-d20k-t10k-b5k',\n",
    "    'both': '2023-10-09T1255-both-d20k-t10k-b5k',\n",
    "}\n",
    "measure = 'logposterior'"
   ]
  },
  {
   "cell_type": "code",
   "execution_count": null,
   "id": "295a75fe-c216-46c4-b183-8dbcb3cc6d37",
   "metadata": {},
   "outputs": [],
   "source": [
    "rts = springboard.task.RemoteTaskStore()\n",
    "rts.cd('projects/aust_covid/alternate_analyses')\n",
    "logpost_dfs = {}\n",
    "for analysis, id in run_ids.items():\n",
    "    mt = rts.get_managed_task(id)\n",
    "    # mt.download_all()\n",
    "    like_df = pd.read_hdf(mt.local.path / 'output/results.hdf', 'likelihood')\n",
    "    like_df['chain'] = like_df.index.get_level_values(0)\n",
    "    like_df['index'] = like_df.index.get_level_values(1)\n",
    "    logpost_dfs[analysis] = like_df.pivot(index='index', columns=['chain'])[measure]"
   ]
  },
  {
   "cell_type": "code",
   "execution_count": null,
   "id": "de5d7127-80ca-4ff0-9ead-5b6adf60f459",
   "metadata": {},
   "outputs": [],
   "source": []
  },
  {
   "cell_type": "code",
   "execution_count": null,
   "id": "d6a6a49b-142b-4f9f-b785-1f80c1043eea",
   "metadata": {},
   "outputs": [],
   "source": [
    "likelihoods = pd.DataFrame(columns=run_ids.keys())\n",
    "for analysis, run_id in run_ids.items():\n",
    "    mt = rts.get_managed_task(run_id)\n",
    "    likelihoods[analysis] = pd.read_hdf(mt.local.path / 'output' / 'results.hdf', 'likelihood')['loglikelihood']\n",
    "seaborn.kdeplot(likelihoods)"
   ]
  },
  {
   "cell_type": "code",
   "execution_count": null,
   "id": "cad68606-8980-4189-a0ab-11e77e9f5181",
   "metadata": {},
   "outputs": [],
   "source": [
    "fig = make_subplots(rows=2, cols=2, subplot_titles=list(run_ids.keys()), shared_yaxes=True)\n",
    "for i, analysis in enumerate(run_ids.keys()):\n",
    "    col = i % 2 + 1\n",
    "    row = int(np.floor(i / 2)) + 1\n",
    "    fig.add_traces(logpost_dfs[analysis].plot().data, rows=row, cols=col)\n",
    "fig.update_layout(height=1000, title={'text': measure})\n",
    "fig"
   ]
  }
 ],
 "metadata": {
  "kernelspec": {
   "display_name": "Python 3 (ipykernel)",
   "language": "python",
   "name": "python3"
  },
  "language_info": {
   "codemirror_mode": {
    "name": "ipython",
    "version": 3
   },
   "file_extension": ".py",
   "mimetype": "text/x-python",
   "name": "python",
   "nbconvert_exporter": "python",
   "pygments_lexer": "ipython3",
   "version": "3.10.0"
  }
 },
 "nbformat": 4,
 "nbformat_minor": 5
}
