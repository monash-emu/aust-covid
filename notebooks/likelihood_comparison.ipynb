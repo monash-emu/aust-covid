{
 "cells": [
  {
   "cell_type": "markdown",
   "id": "0d4af9bd-322a-4309-8af7-ff0d66be291e",
   "metadata": {},
   "source": [
    "## Likelihood comparison\n",
    "Compare the likelihood and its components between the four candidate analyses (with or without the proposed extensions)."
   ]
  },
  {
   "cell_type": "code",
   "execution_count": null,
   "id": "fe5a0780-773f-4ec7-b569-e4e726c01410",
   "metadata": {},
   "outputs": [],
   "source": [
    "from emutools.calibration import get_like_components, plot_like_components_by_analysis\n",
    "from aust_covid.constants import PRIMARY_ANALYSIS, set_project_base_path\n",
    "\n",
    "project_paths = set_project_base_path(\"../\")\n",
    "SUPPLEMENT_PATH = project_paths[\"SUPPLEMENT_PATH\"]\n",
    "RUNS_PATH = project_paths[\"RUNS_PATH\"]"
   ]
  },
  {
   "cell_type": "code",
   "execution_count": null,
   "id": "3713a2d6-12e5-47cf-8050-14bc8c77a225",
   "metadata": {},
   "outputs": [],
   "source": [
    "requests = {\n",
    "    \"loglikelihood\": (-28.0, -12.0, \"total likelihood\"),\n",
    "    \"ll_adult_seropos_prop\": (-3.0, 2.0, \"seroprevalence contribution\"),\n",
    "    \"ll_deaths_ma\": (-10.0, -3.0, \"deaths contribution\"),\n",
    "    \"ll_notifications_ma\": (-17.0, -10.0, \"cases contribution\"),\n",
    "}\n",
    "like_outputs = get_like_components(requests.keys())\n",
    "plot_like_components_by_analysis(like_outputs, \"kdeplot\", plot_requests=requests, alpha=0.1, linewidth=1.5);"
   ]
  },
  {
   "cell_type": "markdown",
   "id": "5d0cd116-4123-46df-8d53-e63f90f9c871",
   "metadata": {},
   "source": [
    "Likelihood contribution statements made in manuscript."
   ]
  },
  {
   "cell_type": "code",
   "execution_count": null,
   "id": "7f7298bf-c209-43b2-9fc8-57c0335e02d4",
   "metadata": {},
   "outputs": [],
   "source": [
    "like_outputs[\"ll_adult_seropos_prop\"].median()"
   ]
  },
  {
   "cell_type": "code",
   "execution_count": null,
   "id": "feafefb9-efd7-405f-a3d5-916ab12166e2",
   "metadata": {},
   "outputs": [],
   "source": [
    "like_outputs[\"ll_notifications_ma\"].median()"
   ]
  },
  {
   "cell_type": "code",
   "execution_count": null,
   "id": "60140d51-3b6b-42ec-976c-fb14a658a34d",
   "metadata": {},
   "outputs": [],
   "source": [
    "like_outputs[\"ll_deaths_ma\"][PRIMARY_ANALYSIS].median()"
   ]
  },
  {
   "cell_type": "code",
   "execution_count": null,
   "id": "ec5a82a4-8c5b-41d4-b411-7ce57b114797",
   "metadata": {},
   "outputs": [],
   "source": [
    "violin_comparison_fig = plot_like_components_by_analysis(like_outputs, \"violinplot\", requests);"
   ]
  },
  {
   "cell_type": "code",
   "execution_count": null,
   "id": "66db2cdd-2ea8-4cf7-96e7-b787d81c0769",
   "metadata": {},
   "outputs": [],
   "source": [
    "plot_like_components_by_analysis(like_outputs, \"histplot\", plot_requests=requests);"
   ]
  }
 ],
 "metadata": {
  "kernelspec": {
   "display_name": "Python 3 (ipykernel)",
   "language": "python",
   "name": "python3"
  },
  "language_info": {
   "codemirror_mode": {
    "name": "ipython",
    "version": 3
   },
   "file_extension": ".py",
   "mimetype": "text/x-python",
   "name": "python",
   "nbconvert_exporter": "python",
   "pygments_lexer": "ipython3",
   "version": "3.10.14"
  }
 },
 "nbformat": 4,
 "nbformat_minor": 5
}
