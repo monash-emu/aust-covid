{
 "cells": [
  {
   "cell_type": "code",
   "execution_count": null,
   "id": "fe5a0780-773f-4ec7-b569-e4e726c01410",
   "metadata": {},
   "outputs": [],
   "source": [
    "from aust_covid.calibration import get_outcome_df_by_chain, plot_indicator_progression\n",
    "from emutools.calibration import get_like_components, plot_like_components_by_analysis"
   ]
  },
  {
   "cell_type": "code",
   "execution_count": null,
   "id": "3713a2d6-12e5-47cf-8050-14bc8c77a225",
   "metadata": {},
   "outputs": [],
   "source": [
    "like_outputs = get_like_components(['loglikelihood', 'll_adult_seropos_prop', 'll_deaths_ma', 'll_notifications_ma'])\n",
    "clips = {\n",
    "    'loglikelihood': -28.0,\n",
    "    'll_adult_seropos_prop': -4.0,\n",
    "    'll_deaths_ma': -10.0,\n",
    "    'll_notifications_ma': -17.0,\n",
    "}\n",
    "plot_like_components_by_analysis(like_outputs, 'kdeplot', clips=clips);"
   ]
  },
  {
   "cell_type": "code",
   "execution_count": null,
   "id": "ec5a82a4-8c5b-41d4-b411-7ce57b114797",
   "metadata": {},
   "outputs": [],
   "source": [
    "plot_like_components_by_analysis(like_outputs, 'violinplot');"
   ]
  },
  {
   "cell_type": "code",
   "execution_count": null,
   "id": "66db2cdd-2ea8-4cf7-96e7-b787d81c0769",
   "metadata": {},
   "outputs": [],
   "source": [
    "plot_like_components_by_analysis(like_outputs, 'histplot');"
   ]
  },
  {
   "cell_type": "code",
   "execution_count": null,
   "id": "9ed4f1d1-5a58-45ec-995e-6197c3d36295",
   "metadata": {},
   "outputs": [],
   "source": [
    "like_dfs = get_outcome_df_by_chain()\n",
    "plot_indicator_progression(like_dfs, 'loglikelihood')"
   ]
  }
 ],
 "metadata": {
  "kernelspec": {
   "display_name": "Python 3 (ipykernel)",
   "language": "python",
   "name": "python3"
  },
  "language_info": {
   "codemirror_mode": {
    "name": "ipython",
    "version": 3
   },
   "file_extension": ".py",
   "mimetype": "text/x-python",
   "name": "python",
   "nbconvert_exporter": "python",
   "pygments_lexer": "ipython3",
   "version": "3.10.11"
  }
 },
 "nbformat": 4,
 "nbformat_minor": 5
}
