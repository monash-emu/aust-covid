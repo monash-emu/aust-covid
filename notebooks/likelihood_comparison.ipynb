{
 "cells": [
  {
   "cell_type": "markdown",
   "id": "0d4af9bd-322a-4309-8af7-ff0d66be291e",
   "metadata": {},
   "source": [
    "## Likelihood comparison\n",
    "Compare the likelihood and its components between the four candidate analyses (with or without the proposed extensions).\n",
    "\n",
    "### Running over Colab\n",
    "Uncomment the commands in the following cell to install in Colab.\n",
    "Once completed, click the 'Restart runtime' button that will appear to restart the Colab environment and then proceed to the following cells.\n",
    "\n",
    "### Generating documentation\n",
    "Running the final cell will take several minutes and will generate the corresponding PDF documentation.\n",
    "This can be downloaded from the Files section of the sidebar."
   ]
  },
  {
   "cell_type": "code",
   "execution_count": null,
   "id": "283677fb-5d7f-4aae-824e-1358bcd09a33",
   "metadata": {},
   "outputs": [],
   "source": [
    "# !pip uninstall numba -y\n",
    "# !pip uninstall librosa -y\n",
    "# !pip install estival==0.4.9 numpy==1.24.3 kaleido"
   ]
  },
  {
   "cell_type": "code",
   "execution_count": null,
   "id": "495bd672-7886-4a23-9d3c-702370c98c32",
   "metadata": {},
   "outputs": [],
   "source": [
    "try:\n",
    "    import google.colab\n",
    "    on_colab = True\n",
    "    ! git clone https://github.com/monash-emu/aust-covid.git --branch main\n",
    "    %cd aust-covid\n",
    "    %pip install -e ./\n",
    "    import multiprocessing as mp\n",
    "    mp.set_start_method('forkserver')\n",
    "except:\n",
    "    on_colab = False"
   ]
  },
  {
   "cell_type": "code",
   "execution_count": null,
   "id": "fe5a0780-773f-4ec7-b569-e4e726c01410",
   "metadata": {},
   "outputs": [],
   "source": [
    "from emutools.calibration import get_like_components, plot_like_components_by_analysis\n",
    "from emutools.tex import StandardTexDoc, add_image_to_doc\n",
    "from inputs.constants import SUPPLEMENT_PATH, PRIMARY_ANALYSIS\n",
    "from aust_covid.extra_text import add_likelihood_blurb_to_tex"
   ]
  },
  {
   "cell_type": "code",
   "execution_count": null,
   "id": "8d70b652-d158-497a-bd88-7bc4b4ab25ce",
   "metadata": {},
   "outputs": [],
   "source": [
    "app_doc = StandardTexDoc(SUPPLEMENT_PATH, 'likelihood_comparison', 'Analysis comparison', 'austcovid')"
   ]
  },
  {
   "cell_type": "code",
   "execution_count": null,
   "id": "3713a2d6-12e5-47cf-8050-14bc8c77a225",
   "metadata": {},
   "outputs": [],
   "source": [
    "requests = {\n",
    "    'loglikelihood': (-28.0, -12.0, 'total likelihood'),\n",
    "    'll_adult_seropos_prop': (-3.0, 2.0, 'seroprevalence contribution'),\n",
    "    'll_deaths_ma': (-10.0, -3.0, 'deaths contribution'),\n",
    "    'll_notifications_ma': (-17.0, -10.0, 'cases contribution'),\n",
    "}\n",
    "like_outputs = get_like_components(requests.keys())\n",
    "like_comparison_fig = plot_like_components_by_analysis(like_outputs, 'kdeplot', plot_requests=requests, alpha=0.1, linewidth=1.5);\n",
    "caption = 'Comparison of the kernel density distribution of the final likelihood from calibration algorithm, ' \\\n",
    "    'with the contributions to the final likelihood of the three targets from which it was constructed.'\n",
    "add_image_to_doc(like_comparison_fig, 'like_comparison', 'svg', 'Likelihood comparison, kernel densities.', app_doc, 'Analysis comparison', caption=caption)"
   ]
  },
  {
   "cell_type": "markdown",
   "id": "5d0cd116-4123-46df-8d53-e63f90f9c871",
   "metadata": {},
   "source": [
    "Likelihood contribution statements made in manuscript."
   ]
  },
  {
   "cell_type": "code",
   "execution_count": null,
   "id": "7f7298bf-c209-43b2-9fc8-57c0335e02d4",
   "metadata": {},
   "outputs": [],
   "source": [
    "like_outputs['ll_adult_seropos_prop'].median()"
   ]
  },
  {
   "cell_type": "code",
   "execution_count": null,
   "id": "feafefb9-efd7-405f-a3d5-916ab12166e2",
   "metadata": {},
   "outputs": [],
   "source": [
    "like_outputs['ll_notifications_ma'].median()"
   ]
  },
  {
   "cell_type": "code",
   "execution_count": null,
   "id": "60140d51-3b6b-42ec-976c-fb14a658a34d",
   "metadata": {},
   "outputs": [],
   "source": [
    "like_outputs['ll_deaths_ma'][PRIMARY_ANALYSIS].median()"
   ]
  },
  {
   "cell_type": "code",
   "execution_count": null,
   "id": "ec5a82a4-8c5b-41d4-b411-7ce57b114797",
   "metadata": {},
   "outputs": [],
   "source": [
    "violin_comparison_fig = plot_like_components_by_analysis(like_outputs, 'violinplot', requests);\n",
    "add_image_to_doc(violin_comparison_fig, 'violin_comparison', 'svg', 'Likelihood comparison, violin plots.', app_doc, 'Analysis comparison', caption=caption)\n",
    "add_likelihood_blurb_to_tex(app_doc, cross_ref=False, fig_ref=False)\n",
    "app_doc.write_doc()"
   ]
  },
  {
   "cell_type": "code",
   "execution_count": null,
   "id": "66db2cdd-2ea8-4cf7-96e7-b787d81c0769",
   "metadata": {},
   "outputs": [],
   "source": [
    "plot_like_components_by_analysis(like_outputs, 'histplot', plot_requests=requests);"
   ]
  },
  {
   "cell_type": "code",
   "execution_count": null,
   "id": "e68f0194-a280-46cc-8f13-5ef55a8dd66f",
   "metadata": {},
   "outputs": [],
   "source": [
    "if on_colab:\n",
    "    # To build a PDF, we need the appropriate tex packages installed\n",
    "    ! apt-get -y update\n",
    "    ! apt-get -y install inkscape texlive-latex-base texlive-fonts-recommended texlive-fonts-extra texlive-latex-extra texlive-bibtex-extra biber\n",
    "    # To avoid clutter and navigate to the right directory\n",
    "    import os\n",
    "    os.chdir(SUPPLEMENT_PATH)\n",
    "    # And finally build the formatted PDF, repeated commands are necessary\n",
    "    ! pdflatex -shell-escape likelihood_comparison\n",
    "    ! pdflatex -shell-escape likelihood_comparison\n",
    "    ! pdflatex -shell-escape likelihood_comparison"
   ]
  }
 ],
 "metadata": {
  "kernelspec": {
   "display_name": "Python 3 (ipykernel)",
   "language": "python",
   "name": "python3"
  },
  "language_info": {
   "codemirror_mode": {
    "name": "ipython",
    "version": 3
   },
   "file_extension": ".py",
   "mimetype": "text/x-python",
   "name": "python",
   "nbconvert_exporter": "python",
   "pygments_lexer": "ipython3",
   "version": "3.10.11"
  }
 },
 "nbformat": 4,
 "nbformat_minor": 5
}
