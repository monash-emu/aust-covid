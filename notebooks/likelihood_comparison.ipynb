{
 "cells": [
  {
   "cell_type": "code",
   "execution_count": null,
   "id": "fe5a0780-773f-4ec7-b569-e4e726c01410",
   "metadata": {},
   "outputs": [],
   "source": [
    "import numpy as np\n",
    "import pandas as pd\n",
    "from autumn.infrastructure.remote import springboard\n",
    "import seaborn as sns\n",
    "from matplotlib import pyplot as plt\n",
    "from plotly.subplots import make_subplots\n",
    "pd.options.plotting.backend = 'plotly'"
   ]
  },
  {
   "cell_type": "code",
   "execution_count": null,
   "id": "7afbf99e-adb1-4509-9215-061cfdd2173c",
   "metadata": {},
   "outputs": [],
   "source": [
    "rts = springboard.task.RemoteTaskStore()\n",
    "rts.cd('projects/aust_covid/alternate_analyses')\n",
    "run_ids = {\n",
    "    'none': '2023-10-09T1251-none-d20k-t10k-b5k',\n",
    "    'mob': '2023-10-09T1253-mob-d20k-t10k-b5k',\n",
    "    'vacc': '2023-10-09T1254-vacc-d20k-t10k-b5k',\n",
    "    'both': '2023-10-09T1255-both-d20k-t10k-b5k',\n",
    "}"
   ]
  },
  {
   "cell_type": "code",
   "execution_count": null,
   "id": "fe94a615-3317-47b1-a2ee-31ed15ee1a8b",
   "metadata": {},
   "outputs": [],
   "source": [
    "# Run once if needed\n",
    "for analysis, run_id in run_ids.items():\n",
    "    mt = rts.get_managed_task(run_id)\n",
    "    mt.download_all()"
   ]
  },
  {
   "cell_type": "code",
   "execution_count": null,
   "id": "7bfa14f6-0e6c-4b32-a4b7-83e21335c8ea",
   "metadata": {},
   "outputs": [],
   "source": [
    "def get_like_components_dfs(components):\n",
    "    \"\"\"\n",
    "    Get dictionary containing dataframe for each (important) likelihood component,\n",
    "    with columns for each analysis type and integer index.\n",
    "    \"\"\"\n",
    "    like_outputs = {}\n",
    "    for comp in components:\n",
    "        like_outputs[comp] = pd.DataFrame(columns=list(run_ids.keys()))\n",
    "        for run_id in run_ids:\n",
    "            mt = rts.get_managed_task(run_ids[run_id])\n",
    "            working_data = pd.read_hdf(mt.local.path / 'output' / 'results.hdf', 'likelihood')[comp]\n",
    "            like_outputs[comp][run_id] = working_data\n",
    "    return like_outputs\n",
    "\n",
    "\n",
    "def get_outcome_df_by_chain():\n",
    "    like_dfs = {}\n",
    "    for analysis, run_id in run_ids.items():\n",
    "        mt = rts.get_managed_task(run_id)\n",
    "        like_df = pd.read_hdf(mt.local.path / 'output/results.hdf', 'likelihood')\n",
    "        like_df['chain'] = like_df.index.get_level_values(0)\n",
    "        like_df['index'] = like_df.index.get_level_values(1)\n",
    "        like_dfs[analysis] = like_df.pivot(index='index', columns=['chain'])\n",
    "    return like_dfs\n",
    "\n",
    "\n",
    "def plot_like_components_by_analysis(like_outputs, components, plot_type, burn_in):\n",
    "    fig, axes = plt.subplots(nrows=2, ncols=3, figsize=(12, 7))\n",
    "    axes = axes.reshape(-1)\n",
    "    plotter = getattr(sns, plot_type)\n",
    "    for m, comp in enumerate(components):\n",
    "        ax = axes[m]\n",
    "        plotter(like_outputs[comp].loc[:, burn_in:, :], ax=ax)\n",
    "        subtitle = comp.replace('log', '').replace('ll_', '').replace('_ma', '').replace('_', ' ')\n",
    "        ax.set_title(subtitle)\n",
    "    fig.suptitle('Log posterior and components')\n",
    "    fig.tight_layout()\n",
    "    return fig\n",
    "\n",
    "\n",
    "def plot_indicator_progression(like_dfs, measure):\n",
    "    fig = make_subplots(rows=2, cols=2, subplot_titles=list(run_ids.keys()), shared_yaxes=True)\n",
    "    for i, analysis in enumerate(run_ids.keys()):\n",
    "        col = i % 2 + 1\n",
    "        row = int(np.floor(i / 2)) + 1\n",
    "        fig.add_traces(like_dfs[analysis][measure].plot().data, rows=row, cols=col)\n",
    "    fig.update_layout(height=1000, title={'text': measure})\n",
    "    return fig"
   ]
  },
  {
   "cell_type": "code",
   "execution_count": null,
   "id": "3713a2d6-12e5-47cf-8050-14bc8c77a225",
   "metadata": {},
   "outputs": [],
   "source": [
    "components = ['logposterior', 'logprior', 'loglikelihood', 'll_adult_seropos_prop', 'll_deaths_ma', 'll_notifications_ma']\n",
    "burn_in = 5000\n",
    "like_outputs = get_like_components_dfs(components)\n",
    "plot_like_components_by_analysis(like_outputs, components, 'kdeplot', burn_in);"
   ]
  },
  {
   "cell_type": "code",
   "execution_count": null,
   "id": "ec5a82a4-8c5b-41d4-b411-7ce57b114797",
   "metadata": {},
   "outputs": [],
   "source": [
    "plot_like_components_by_analysis(like_outputs, components, 'violinplot', burn_in);"
   ]
  },
  {
   "cell_type": "code",
   "execution_count": null,
   "id": "66db2cdd-2ea8-4cf7-96e7-b787d81c0769",
   "metadata": {},
   "outputs": [],
   "source": [
    "plot_like_components_by_analysis(like_outputs, components, 'histplot', burn_in);"
   ]
  },
  {
   "cell_type": "code",
   "execution_count": null,
   "id": "9ed4f1d1-5a58-45ec-995e-6197c3d36295",
   "metadata": {},
   "outputs": [],
   "source": [
    "like_dfs = get_outcome_df_by_chain()\n",
    "plot_indicator_progression(like_dfs, 'logposterior')"
   ]
  }
 ],
 "metadata": {
  "kernelspec": {
   "display_name": "Python 3 (ipykernel)",
   "language": "python",
   "name": "python3"
  },
  "language_info": {
   "codemirror_mode": {
    "name": "ipython",
    "version": 3
   },
   "file_extension": ".py",
   "mimetype": "text/x-python",
   "name": "python",
   "nbconvert_exporter": "python",
   "pygments_lexer": "ipython3",
   "version": "3.10.0"
  }
 },
 "nbformat": 4,
 "nbformat_minor": 5
}
