{
 "cells": [
  {
   "cell_type": "markdown",
   "id": "0",
   "metadata": {},
   "source": [
    "## Likelihood comparison\n",
    "Compare the likelihood and its components between the four candidate analyses (with or without the proposed extensions)."
   ]
  },
  {
   "cell_type": "code",
   "execution_count": null,
   "id": "1",
   "metadata": {},
   "outputs": [],
   "source": [
    "from emutools.calibration import get_like_components, plot_like_components_by_analysis\n",
    "from aust_covid.constants import PRIMARY_ANALYSIS, set_project_base_path\n",
    "\n",
    "project_paths = set_project_base_path(\"../\")\n",
    "RUNS_PATH = project_paths[\"RUNS_PATH\"]"
   ]
  },
  {
   "cell_type": "code",
   "execution_count": null,
   "id": "2",
   "metadata": {},
   "outputs": [],
   "source": [
    "requests = {\n",
    "    \"loglikelihood\": (-28.0, -12.0, \"total likelihood\"),\n",
    "    \"ll_adult_seropos_prop\": (-3.0, 2.0, \"seroprevalence contribution\"),\n",
    "    \"ll_deaths_ma\": (-10.0, -3.0, \"deaths contribution\"),\n",
    "    \"ll_notifications_ma\": (-17.0, -10.0, \"cases contribution\"),\n",
    "}\n",
    "like_outputs = get_like_components(requests.keys())\n",
    "plot_like_components_by_analysis(like_outputs, \"kdeplot\", plot_requests=requests, alpha=0.1, linewidth=1.5);"
   ]
  },
  {
   "cell_type": "markdown",
   "id": "3",
   "metadata": {},
   "source": [
    "Likelihood contribution statements made in manuscript."
   ]
  },
  {
   "cell_type": "code",
   "execution_count": null,
   "id": "4",
   "metadata": {},
   "outputs": [],
   "source": [
    "like_outputs[\"ll_adult_seropos_prop\"].median()"
   ]
  },
  {
   "cell_type": "code",
   "execution_count": null,
   "id": "5",
   "metadata": {},
   "outputs": [],
   "source": [
    "like_outputs[\"ll_notifications_ma\"].median()"
   ]
  },
  {
   "cell_type": "code",
   "execution_count": null,
   "id": "6",
   "metadata": {},
   "outputs": [],
   "source": [
    "like_outputs[\"ll_deaths_ma\"][PRIMARY_ANALYSIS].median()"
   ]
  },
  {
   "cell_type": "code",
   "execution_count": null,
   "id": "7",
   "metadata": {},
   "outputs": [],
   "source": [
    "violin_comparison_fig = plot_like_components_by_analysis(like_outputs, \"violinplot\", requests);"
   ]
  },
  {
   "cell_type": "code",
   "execution_count": null,
   "id": "8",
   "metadata": {},
   "outputs": [],
   "source": [
    "plot_like_components_by_analysis(like_outputs, \"histplot\", plot_requests=requests);"
   ]
  }
 ],
 "metadata": {
  "kernelspec": {
   "display_name": "Python 3 (ipykernel)",
   "language": "python",
   "name": "python3"
  },
  "language_info": {
   "codemirror_mode": {
    "name": "ipython",
    "version": 3
   },
   "file_extension": ".py",
   "mimetype": "text/x-python",
   "name": "python",
   "nbconvert_exporter": "python",
   "pygments_lexer": "ipython3",
   "version": "3.10.14"
  }
 },
 "nbformat": 4,
 "nbformat_minor": 5
}
