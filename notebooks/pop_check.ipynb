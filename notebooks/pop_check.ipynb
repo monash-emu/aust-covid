{
 "cells": [
  {
   "cell_type": "markdown",
   "id": "a2ac7941-b3e1-48fc-8494-46693b21d2d7",
   "metadata": {},
   "source": [
    "## Population checks\n",
    "Brief interactive notebook to check that starting populations are those intended.\n",
    "\n",
    "### Running over Colab\n",
    "Uncomment the commands in the following cell to install in Colab.\n",
    "Once completed, click the 'Restart runtime' button that will appear to restart the Colab environment and then proceed to the following cells.\n",
    "\n",
    "### Generating documentation\n",
    "Running the final cell will take approximately ten minutes and will generate the corresponding PDF documentation.\n",
    "This can be downloaded from the Files section of the sidebar."
   ]
  },
  {
   "cell_type": "code",
   "execution_count": null,
   "id": "fe1bfc7a-b439-4ef6-9f76-6f3054787940",
   "metadata": {},
   "outputs": [],
   "source": [
    "# !pip uninstall numba -y\n",
    "# !pip uninstall librosa -y\n",
    "# !pip install estival==0.4.7b2 numpy==1.24.3 kaleido"
   ]
  },
  {
   "cell_type": "code",
   "execution_count": null,
   "id": "4245df53-e713-49a3-abfb-4375fabc472a",
   "metadata": {},
   "outputs": [],
   "source": [
    "try:\n",
    "    import google.colab\n",
    "    on_colab = True\n",
    "    ! git clone https://github.com/monash-emu/aust-covid.git --branch tidy-notebooks\n",
    "    %cd aust-covid\n",
    "    %pip install -e ./\n",
    "    import multiprocessing as mp\n",
    "    mp.set_start_method('forkserver')\n",
    "except:\n",
    "    on_colab = False"
   ]
  },
  {
   "cell_type": "code",
   "execution_count": null,
   "id": "ab69009d-c20b-4303-be70-25e629d55a0b",
   "metadata": {},
   "outputs": [],
   "source": [
    "import pandas as pd\n",
    "import plotly.express as px\n",
    "\n",
    "from aust_covid.inputs import load_pop_data\n",
    "from emutools.tex import DummyTexDoc\n",
    "from aust_covid.model import build_model\n",
    "from emutools.utils import load_param_info"
   ]
  },
  {
   "cell_type": "code",
   "execution_count": null,
   "id": "9df5ad50-5588-436a-9062-bd95be548ea7",
   "metadata": {},
   "outputs": [],
   "source": [
    "parameters = load_param_info()['value'].to_dict()\n",
    "param_info = load_param_info()\n",
    "epi_model = build_model(DummyTexDoc(), param_info['abbreviations'])\n",
    "vacc_model = build_model(DummyTexDoc(), param_info['abbreviations'], vacc_ext=True)"
   ]
  },
  {
   "cell_type": "code",
   "execution_count": null,
   "id": "d78586d8-7c7e-4167-ba68-d60695624bf3",
   "metadata": {},
   "outputs": [],
   "source": [
    "init_pop = epi_model.get_initial_population(parameters=parameters)\n",
    "model_pops = load_pop_data(DummyTexDoc())\n",
    "for age in epi_model.stratifications['agegroup'].strata:\n",
    "    for state in epi_model.stratifications['states'].strata:\n",
    "        model_pops.loc[int(age), f'check_{state}'] = init_pop[init_pop.index.str.contains(f'states_{state}') & init_pop.index.str.contains(f'agegroup_{age}X')].sum()\n",
    "model_pops.plot().update_layout(xaxis_title='population', yaxis_title='age group', title='Population by age and spatial patch, base analysis')"
   ]
  },
  {
   "cell_type": "code",
   "execution_count": null,
   "id": "776f026c-9cfa-4cff-9259-9dca1373d964",
   "metadata": {},
   "outputs": [],
   "source": [
    "vacc_init_pop = vacc_model.get_initial_population(parameters=parameters)\n",
    "for age in vacc_model.stratifications['agegroup'].strata:\n",
    "    for state in vacc_model.stratifications['states'].strata:\n",
    "        model_pops.loc[int(age), f'check_{state}'] = vacc_init_pop[vacc_init_pop.index.str.contains(f'states_{state}') & vacc_init_pop.index.str.contains(f'agegroup_{age}X')].sum()\n",
    "model_pops.plot().update_layout(xaxis_title='population', yaxis_title='age group', title='Population by age and spatial patch, vacc analysis')"
   ]
  },
  {
   "cell_type": "code",
   "execution_count": null,
   "id": "0dcf3fab-8436-4eb6-9e3b-b010af95ce98",
   "metadata": {},
   "outputs": [],
   "source": [
    "px.bar(model_pops.iloc[:, :2])"
   ]
  },
  {
   "cell_type": "code",
   "execution_count": null,
   "id": "1892bf5d-9816-4056-b725-b6fd0cf7469c",
   "metadata": {},
   "outputs": [],
   "source": [
    "imm_check = {imm: init_pop[init_pop.index.str.contains(f'immunity_{imm}')].sum() for imm in epi_model.stratifications['immunity'].strata}\n",
    "imm_props = {k: round(v, 3) for k, v in imm_check.items()}\n",
    "print(f'Proportions by immune status, base analysis: { {k: round(v / sum(imm_props.values()), 3) for k, v in imm_props.items()}}')\n",
    "px.bar(pd.Series(imm_props)).update_layout(xaxis_title='', yaxis_title='', showlegend=False)"
   ]
  },
  {
   "cell_type": "code",
   "execution_count": null,
   "id": "85622d2b-28a4-4e77-946b-e9f3dd4dce9f",
   "metadata": {},
   "outputs": [],
   "source": [
    "vacc_init_pop = vacc_model.get_initial_population(parameters=parameters)\n",
    "vacc_imm_check = {imm: vacc_init_pop[vacc_init_pop.index.str.contains(f'immunity_{imm}')].sum() for imm in vacc_model.stratifications['immunity'].strata}\n",
    "vacc_imm_props = {k: round(v, 3) for k, v in vacc_imm_check.items()}\n",
    "print(f'Proportions by immune status, vacc analysis: { {k: round(v / sum(vacc_imm_check.values()), 3) for k, v in vacc_imm_check.items()}}')\n",
    "px.bar(pd.Series(vacc_imm_props)).update_layout(xaxis_title='', yaxis_title='', showlegend=False)"
   ]
  }
 ],
 "metadata": {
  "kernelspec": {
   "display_name": "Python 3 (ipykernel)",
   "language": "python",
   "name": "python3"
  },
  "language_info": {
   "codemirror_mode": {
    "name": "ipython",
    "version": 3
   },
   "file_extension": ".py",
   "mimetype": "text/x-python",
   "name": "python",
   "nbconvert_exporter": "python",
   "pygments_lexer": "ipython3",
   "version": "3.10.0"
  }
 },
 "nbformat": 4,
 "nbformat_minor": 5
}
