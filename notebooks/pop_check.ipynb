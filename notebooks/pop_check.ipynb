{
 "cells": [
  {
   "cell_type": "markdown",
   "id": "0",
   "metadata": {},
   "source": [
    "## Population checks\n",
    "Brief interactive notebook to check that starting populations are those intended."
   ]
  },
  {
   "cell_type": "code",
   "execution_count": null,
   "id": "1",
   "metadata": {},
   "outputs": [],
   "source": [
    "import pandas as pd\n",
    "import plotly.express as px\n",
    "\n",
    "from aust_covid.constants import set_project_base_path\n",
    "from aust_covid.inputs import load_pop_data\n",
    "from aust_covid.model import build_model\n",
    "from emutools.tex import DummyTexDoc\n",
    "from emutools.utils import load_param_info\n",
    "\n",
    "project_paths = set_project_base_path(\"../\")"
   ]
  },
  {
   "cell_type": "code",
   "execution_count": null,
   "id": "2",
   "metadata": {},
   "outputs": [],
   "source": [
    "parameters = load_param_info()[\"value\"].to_dict()\n",
    "param_info = load_param_info()\n",
    "dummy_doc = DummyTexDoc()\n",
    "epi_model = build_model(dummy_doc, param_info[\"abbreviations\"])\n",
    "vacc_model = build_model(dummy_doc, param_info[\"abbreviations\"], vacc_ext=True)"
   ]
  },
  {
   "cell_type": "code",
   "execution_count": null,
   "id": "3",
   "metadata": {},
   "outputs": [],
   "source": [
    "init_pop = epi_model.get_initial_population(parameters=parameters)\n",
    "model_pops = load_pop_data(dummy_doc)\n",
    "for age in epi_model.stratifications[\"agegroup\"].strata:\n",
    "    for state in epi_model.stratifications[\"states\"].strata:\n",
    "        model_pops.loc[int(age), f\"check_{state}\"] = init_pop[init_pop.index.str.contains(f\"states_{state}\") & init_pop.index.str.contains(f\"agegroup_{age}X\")].sum()\n",
    "model_pops.plot().update_layout(xaxis_title=\"population\", yaxis_title=\"age group\", title=\"Population by age and spatial patch, base analysis\")"
   ]
  },
  {
   "cell_type": "code",
   "execution_count": null,
   "id": "4",
   "metadata": {},
   "outputs": [],
   "source": [
    "vacc_init_pop = vacc_model.get_initial_population(parameters=parameters)\n",
    "for age in vacc_model.stratifications[\"agegroup\"].strata:\n",
    "    for state in vacc_model.stratifications[\"states\"].strata:\n",
    "        model_pops.loc[int(age), f\"check_{state}\"] = vacc_init_pop[vacc_init_pop.index.str.contains(f\"states_{state}\") & vacc_init_pop.index.str.contains(f\"agegroup_{age}X\")].sum()\n",
    "model_pops.plot().update_layout(xaxis_title=\"population\", yaxis_title=\"age group\", title=\"Population by age and spatial patch, vacc analysis\")"
   ]
  },
  {
   "cell_type": "code",
   "execution_count": null,
   "id": "5",
   "metadata": {},
   "outputs": [],
   "source": [
    "px.bar(model_pops.iloc[:, :2])"
   ]
  },
  {
   "cell_type": "code",
   "execution_count": null,
   "id": "6",
   "metadata": {},
   "outputs": [],
   "source": [
    "imm_check = {imm: init_pop[init_pop.index.str.contains(f\"immunity_{imm}\")].sum() for imm in epi_model.stratifications[\"immunity\"].strata}\n",
    "imm_props = {k: round(v, 3) for k, v in imm_check.items()}\n",
    "print(f\"Proportions by immune status, base analysis: { {k: round(v / sum(imm_props.values()), 3) for k, v in imm_props.items()}}\")\n",
    "px.bar(pd.Series(imm_props)).update_layout(xaxis_title=\"\", yaxis_title=\"\", showlegend=False)"
   ]
  },
  {
   "cell_type": "code",
   "execution_count": null,
   "id": "7",
   "metadata": {},
   "outputs": [],
   "source": [
    "vacc_init_pop = vacc_model.get_initial_population(parameters=parameters)\n",
    "vacc_imm_check = {imm: vacc_init_pop[vacc_init_pop.index.str.contains(f\"immunity_{imm}\")].sum() for imm in vacc_model.stratifications[\"immunity\"].strata}\n",
    "vacc_imm_props = {k: round(v, 3) for k, v in vacc_imm_check.items()}\n",
    "print(f\"Proportions by immune status, vacc analysis: { {k: round(v / sum(vacc_imm_check.values()), 3) for k, v in vacc_imm_check.items()}}\")\n",
    "px.bar(pd.Series(vacc_imm_props)).update_layout(xaxis_title=\"\", yaxis_title=\"\", showlegend=False)"
   ]
  }
 ],
 "metadata": {
  "kernelspec": {
   "display_name": "Python 3 (ipykernel)",
   "language": "python",
   "name": "python3"
  },
  "language_info": {
   "codemirror_mode": {
    "name": "ipython",
    "version": 3
   },
   "file_extension": ".py",
   "mimetype": "text/x-python",
   "name": "python",
   "nbconvert_exporter": "python",
   "pygments_lexer": "ipython3",
   "version": "3.10.14"
  }
 },
 "nbformat": 4,
 "nbformat_minor": 5
}
