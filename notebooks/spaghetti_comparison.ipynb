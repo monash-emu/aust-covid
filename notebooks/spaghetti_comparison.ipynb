{
 "cells": [
  {
   "cell_type": "markdown",
   "id": "6b2c16e7-531e-482f-aaae-84a26e63b918",
   "metadata": {},
   "source": [
    "## Run comparisons by analysis type\n",
    "This notebook illustrates the trajectories of individual runs and compares these for each of the analysis approaches.\n",
    "\n",
    "### Running over Colab\n",
    "Uncomment the commands in the following cell to install in Colab.\n",
    "Once completed, click the 'Restart runtime' button that will appear to restart the Colab environment and then proceed to the following cells.\n",
    "\n",
    "### Generating documentation\n",
    "Running the final cell will take several minutes and will generate the corresponding PDF documentation.\n",
    "This can be downloaded from the Files section of the sidebar."
   ]
  },
  {
   "cell_type": "code",
   "execution_count": null,
   "id": "a3e86ab8-ef07-4384-963e-1890ba638419",
   "metadata": {},
   "outputs": [],
   "source": [
    "# !pip uninstall numba -y\n",
    "# !pip uninstall librosa -y\n",
    "# !pip install estival==0.4.9 numpy==1.24.3 kaleido"
   ]
  },
  {
   "cell_type": "code",
   "execution_count": null,
   "id": "54357850-627f-4077-8fa1-9af2a8019750",
   "metadata": {},
   "outputs": [],
   "source": [
    "try:\n",
    "    import google.colab\n",
    "    on_colab = True\n",
    "    ! git clone https://github.com/monash-emu/aust-covid.git --branch main\n",
    "    %cd aust-covid\n",
    "    %pip install -e ./\n",
    "    import multiprocessing as mp\n",
    "    mp.set_start_method('forkserver')\n",
    "except:\n",
    "    on_colab = False"
   ]
  },
  {
   "cell_type": "code",
   "execution_count": null,
   "id": "fe5a0780-773f-4ec7-b569-e4e726c01410",
   "metadata": {},
   "outputs": [],
   "source": [
    "import pandas as pd\n",
    "from emutools.tex import DummyTexDoc, StandardTexDoc, add_image_to_doc\n",
    "from aust_covid.calibration import get_targets\n",
    "from aust_covid.plotting import plot_multi_spaghetti\n",
    "from inputs.constants import RUN_IDS, RUNS_PATH, SUPPLEMENT_PATH\n",
    "import warnings\n",
    "warnings.simplefilter(action='ignore', category=pd.errors.PerformanceWarning)"
   ]
  },
  {
   "cell_type": "code",
   "execution_count": null,
   "id": "b21a7de9-c003-42cc-8f35-38f749691fbc",
   "metadata": {},
   "outputs": [],
   "source": [
    "app_doc = StandardTexDoc(SUPPLEMENT_PATH, 'multi_spaghetti', 'Sequential run plots', 'austcovid')\n",
    "spaghettis = {k: pd.read_hdf(RUNS_PATH / v / 'output/results.hdf', 'spaghetti') for k, v in RUN_IDS.items()}\n",
    "targets = get_targets(DummyTexDoc())"
   ]
  },
  {
   "cell_type": "code",
   "execution_count": null,
   "id": "86935ad5-bb7c-4ee2-be42-f57ffce8509b",
   "metadata": {},
   "outputs": [],
   "source": [
    "output = 'notifications_ma'\n",
    "cases_fig = plot_multi_spaghetti(spaghettis, output, targets)\n",
    "print(output)\n",
    "cases_fig"
   ]
  },
  {
   "cell_type": "code",
   "execution_count": null,
   "id": "72b950e1-2062-472b-94ca-e535a236e9af",
   "metadata": {},
   "outputs": [],
   "source": [
    "caption = 'Sequential model runs compared against targets as individually coloured lines, one panel for each approach to analysis.'\n",
    "add_image_to_doc(cases_fig.update_layout(showlegend=False), 'case_spaghetti', 'svg', 'Case time series comparison by run.', app_doc, 'Calibration results', caption=caption)"
   ]
  },
  {
   "cell_type": "code",
   "execution_count": null,
   "id": "90d64956-19c6-4ee2-ae8b-8552c2d59a56",
   "metadata": {},
   "outputs": [],
   "source": [
    "output = 'deaths_ma'\n",
    "deaths_fig = plot_multi_spaghetti(spaghettis, output, targets)\n",
    "print(output)\n",
    "deaths_fig"
   ]
  },
  {
   "cell_type": "code",
   "execution_count": null,
   "id": "b7c1ec5e-422e-4a8b-bfcf-37210155d2de",
   "metadata": {},
   "outputs": [],
   "source": [
    "add_image_to_doc(deaths_fig.update_layout(showlegend=False), 'death_spaghetti', 'svg', 'Deaths time series comparison by run.', app_doc, 'Calibration results', caption=caption)"
   ]
  },
  {
   "cell_type": "code",
   "execution_count": null,
   "id": "cf34b3cd-3d46-4513-9e9c-2f388fa87748",
   "metadata": {},
   "outputs": [],
   "source": [
    "output = 'adult_seropos_prop'\n",
    "seropos_fig = plot_multi_spaghetti(spaghettis, output, targets)\n",
    "print(output)\n",
    "seropos_fig"
   ]
  },
  {
   "cell_type": "code",
   "execution_count": null,
   "id": "4a11cab0-f370-42a1-8a53-9efbcf3a3576",
   "metadata": {},
   "outputs": [],
   "source": [
    "add_image_to_doc(seropos_fig.update_layout(showlegend=False), 'seropos_spaghetti', 'svg', 'Seropositive proportion comparison by run.', app_doc, 'Calibration results', caption=caption)"
   ]
  },
  {
   "cell_type": "code",
   "execution_count": null,
   "id": "ae52521a-e249-4906-b965-2517e1e25e26",
   "metadata": {},
   "outputs": [],
   "source": [
    "description = \"Figures \\\\ref{case_spaghetti}, \\\\ref{death_spaghetti} and \\\\ref{seropos_spaghetti} display randomly selected runs from each candidate analysis's calibration chain.\"\n",
    "app_doc.add_line(description, 'Calibration results')"
   ]
  },
  {
   "cell_type": "code",
   "execution_count": null,
   "id": "0e3abcea-01ed-4e43-9577-265702e5cee1",
   "metadata": {},
   "outputs": [],
   "source": [
    "app_doc.write_doc()"
   ]
  },
  {
   "cell_type": "code",
   "execution_count": null,
   "id": "bf6a2b3d-1e62-4932-aaa6-c2340493d737",
   "metadata": {},
   "outputs": [],
   "source": [
    "if on_colab:\n",
    "    # To build a PDF, we need the appropriate tex packages installed\n",
    "    ! apt-get -y update\n",
    "    ! apt-get -y install inkscape texlive-latex-base texlive-fonts-recommended texlive-fonts-extra texlive-latex-extra texlive-bibtex-extra biber\n",
    "    # To avoid clutter and navigate to the right directory\n",
    "    import os\n",
    "    os.chdir(SUPPLEMENT_PATH)\n",
    "    # And finally build the formatted PDF, repeated commands are necessary\n",
    "    ! pdflatex -shell-escape multi_spaghetti\n",
    "    ! pdflatex -shell-escape multi_spaghetti\n",
    "    ! pdflatex -shell-escape multi_spaghetti"
   ]
  }
 ],
 "metadata": {
  "kernelspec": {
   "display_name": "Python 3 (ipykernel)",
   "language": "python",
   "name": "python3"
  },
  "language_info": {
   "codemirror_mode": {
    "name": "ipython",
    "version": 3
   },
   "file_extension": ".py",
   "mimetype": "text/x-python",
   "name": "python",
   "nbconvert_exporter": "python",
   "pygments_lexer": "ipython3",
   "version": "3.10.11"
  }
 },
 "nbformat": 4,
 "nbformat_minor": 5
}
