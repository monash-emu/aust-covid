{
 "cells": [
  {
   "cell_type": "code",
   "execution_count": null,
   "id": "fe5a0780-773f-4ec7-b569-e4e726c01410",
   "metadata": {},
   "outputs": [],
   "source": [
    "import pandas as pd\n",
    "from emutools.tex import DummyTexDoc, StandardTexDoc\n",
    "from emutools.utils import add_image_to_doc\n",
    "from aust_covid.calibration import get_targets\n",
    "from aust_covid.plotting import plot_multi_spaghetti\n",
    "from inputs.constants import RUN_IDS, RUNS_PATH, SUPPLEMENT_PATH\n",
    "import warnings\n",
    "warnings.simplefilter(action='ignore', category=pd.errors.PerformanceWarning)"
   ]
  },
  {
   "cell_type": "code",
   "execution_count": null,
   "id": "b21a7de9-c003-42cc-8f35-38f749691fbc",
   "metadata": {},
   "outputs": [],
   "source": [
    "app_doc = StandardTexDoc(SUPPLEMENT_PATH, 'multi_spaghetti', 'Sequential run plots', 'austcovid')\n",
    "spaghettis = {k: pd.read_hdf(RUNS_PATH / v / 'output/results.hdf', 'spaghetti') for k, v in RUN_IDS.items()}\n",
    "targets = get_targets(DummyTexDoc())"
   ]
  },
  {
   "cell_type": "code",
   "execution_count": null,
   "id": "86935ad5-bb7c-4ee2-be42-f57ffce8509b",
   "metadata": {},
   "outputs": [],
   "source": [
    "output = 'notifications_ma'\n",
    "cases_fig = plot_multi_spaghetti(spaghettis, output, targets)\n",
    "print(output)\n",
    "cases_fig"
   ]
  },
  {
   "cell_type": "code",
   "execution_count": null,
   "id": "72b950e1-2062-472b-94ca-e535a236e9af",
   "metadata": {},
   "outputs": [],
   "source": [
    "caption = 'Sequential model runs compared against targets as individually coloured lines, one panel for each approach to analysis.'\n",
    "add_image_to_doc(cases_fig.update_layout(showlegend=False), 'case_spaghetti', 'svg', 'Case time series comparison by run.', app_doc, 'Calibration', caption=caption)"
   ]
  },
  {
   "cell_type": "code",
   "execution_count": null,
   "id": "90d64956-19c6-4ee2-ae8b-8552c2d59a56",
   "metadata": {},
   "outputs": [],
   "source": [
    "output = 'deaths_ma'\n",
    "deaths_fig = plot_multi_spaghetti(spaghettis, output, targets)\n",
    "print(output)\n",
    "deaths_fig"
   ]
  },
  {
   "cell_type": "code",
   "execution_count": null,
   "id": "b7c1ec5e-422e-4a8b-bfcf-37210155d2de",
   "metadata": {},
   "outputs": [],
   "source": [
    "add_image_to_doc(cases_fig.update_layout(showlegend=False), 'death_spaghetti', 'svg', 'Deaths time series comparison by run.', app_doc, 'Calibration', caption=caption)"
   ]
  },
  {
   "cell_type": "code",
   "execution_count": null,
   "id": "cf34b3cd-3d46-4513-9e9c-2f388fa87748",
   "metadata": {},
   "outputs": [],
   "source": [
    "output = 'adult_seropos_prop'\n",
    "seropos_fig = plot_multi_spaghetti(spaghettis, output, targets)\n",
    "print(output)\n",
    "seropos_fig"
   ]
  },
  {
   "cell_type": "code",
   "execution_count": null,
   "id": "4a11cab0-f370-42a1-8a53-9efbcf3a3576",
   "metadata": {},
   "outputs": [],
   "source": [
    "add_image_to_doc(cases_fig.update_layout(showlegend=False), 'seropos_spaghetti', 'svg', 'Seropositive proportion comparison by run.', app_doc, 'Calibration', caption=caption)"
   ]
  },
  {
   "cell_type": "code",
   "execution_count": null,
   "id": "0e3abcea-01ed-4e43-9577-265702e5cee1",
   "metadata": {},
   "outputs": [],
   "source": [
    "app_doc.write_doc()"
   ]
  }
 ],
 "metadata": {
  "kernelspec": {
   "display_name": "Python 3 (ipykernel)",
   "language": "python",
   "name": "python3"
  },
  "language_info": {
   "codemirror_mode": {
    "name": "ipython",
    "version": 3
   },
   "file_extension": ".py",
   "mimetype": "text/x-python",
   "name": "python",
   "nbconvert_exporter": "python",
   "pygments_lexer": "ipython3",
   "version": "3.10.11"
  }
 },
 "nbformat": 4,
 "nbformat_minor": 5
}
