{
 "cells": [
  {
   "cell_type": "code",
   "execution_count": null,
   "id": "fe5a0780-773f-4ec7-b569-e4e726c01410",
   "metadata": {},
   "outputs": [],
   "source": [
    "import pandas as pd\n",
    "from emutools.tex import DummyTexDoc, StandardTexDoc\n",
    "from aust_covid.calibration import get_targets\n",
    "from aust_covid.plotting import plot_multi_spaghetti\n",
    "from inputs.constants import RUN_IDS, RUNS_PATH"
   ]
  },
  {
   "cell_type": "code",
   "execution_count": null,
   "id": "e3b63785-df51-4421-97b2-3437d0bccc83",
   "metadata": {},
   "outputs": [],
   "source": [
    "spaghettis = {k: pd.read_hdf(RUNS_PATH / v / 'output/results.hdf', 'spaghetti') for k, v in RUN_IDS.items()}\n",
    "targets = get_targets(DummyTexDoc())"
   ]
  },
  {
   "cell_type": "code",
   "execution_count": null,
   "id": "86935ad5-bb7c-4ee2-be42-f57ffce8509b",
   "metadata": {},
   "outputs": [],
   "source": [
    "plot_multi_spaghetti(spaghettis, 'notifications_ma', targets)"
   ]
  },
  {
   "cell_type": "code",
   "execution_count": null,
   "id": "90d64956-19c6-4ee2-ae8b-8552c2d59a56",
   "metadata": {},
   "outputs": [],
   "source": [
    "plot_multi_spaghetti(spaghettis, 'deaths_ma', targets)"
   ]
  },
  {
   "cell_type": "code",
   "execution_count": null,
   "id": "cf34b3cd-3d46-4513-9e9c-2f388fa87748",
   "metadata": {},
   "outputs": [],
   "source": [
    "plot_multi_spaghetti(spaghettis, 'adult_seropos_prop', targets)"
   ]
  }
 ],
 "metadata": {
  "kernelspec": {
   "display_name": "Python 3 (ipykernel)",
   "language": "python",
   "name": "python3"
  },
  "language_info": {
   "codemirror_mode": {
    "name": "ipython",
    "version": 3
   },
   "file_extension": ".py",
   "mimetype": "text/x-python",
   "name": "python",
   "nbconvert_exporter": "python",
   "pygments_lexer": "ipython3",
   "version": "3.10.0"
  }
 },
 "nbformat": 4,
 "nbformat_minor": 5
}
