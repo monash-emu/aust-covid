{
 "cells": [
  {
   "cell_type": "markdown",
   "id": "0",
   "metadata": {},
   "source": [
    "## Parameters\n",
    "Show all the model parameters with the description of the evidence used to generate each one. The value of each parameter is included in the table if it is not one of the model priors."
   ]
  },
  {
   "cell_type": "code",
   "execution_count": null,
   "id": "1",
   "metadata": {},
   "outputs": [],
   "source": [
    "from aust_covid.constants import set_project_base_path\n",
    "from aust_covid.calibration import get_priors\n",
    "from aust_covid.inputs import get_ifrs\n",
    "from emutools.utils import load_param_info, param_table_to_tex\n",
    "from emutools.tex import DummyTexDoc\n",
    "\n",
    "project_paths = set_project_base_path(\"../\")"
   ]
  },
  {
   "cell_type": "code",
   "execution_count": null,
   "id": "2",
   "metadata": {},
   "outputs": [],
   "source": [
    "param_info = load_param_info()\n",
    "dummy_doc = DummyTexDoc()\n",
    "param_info[\"value\"].update(get_ifrs(dummy_doc))\n",
    "prior_names = [p.name for p in get_priors(True, param_info[\"abbreviations\"], dummy_doc)]\n",
    "param_table_to_tex(param_info, prior_names)"
   ]
  }
 ],
 "metadata": {
  "kernelspec": {
   "display_name": "Python 3 (ipykernel)",
   "language": "python",
   "name": "python3"
  },
  "language_info": {
   "codemirror_mode": {
    "name": "ipython",
    "version": 3
   },
   "file_extension": ".py",
   "mimetype": "text/x-python",
   "name": "python",
   "nbconvert_exporter": "python",
   "pygments_lexer": "ipython3",
   "version": "3.10.14"
  }
 },
 "nbformat": 4,
 "nbformat_minor": 5
}
