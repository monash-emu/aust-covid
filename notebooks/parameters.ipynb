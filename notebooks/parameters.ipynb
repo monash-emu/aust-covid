{
 "cells": [
  {
   "cell_type": "markdown",
   "id": "af57734a-9bc3-4cfe-ae0a-640d3fbd78ef",
   "metadata": {},
   "source": [
    "## Parameters\n",
    "Show all the model parameters with the description of the evidence used to generate each one. Value of parameter is included in parameters table if not one of the model priors.\n",
    "\n",
    "### Running over Colab\n",
    "Uncomment the commands in the following cell to install in Colab.\n",
    "Once completed, click the 'Restart runtime' button that will appear to restart the Colab environment and then proceed to the following cells.\n",
    "\n",
    "### Generating documentation\n",
    "Running the final cell will take several minutes and will generate the corresponding PDF documentation.\n",
    "This can be downloaded from the Files section of the sidebar."
   ]
  },
  {
   "cell_type": "code",
   "execution_count": null,
   "id": "39520ad3-009d-4f25-9db6-2ae055da9678",
   "metadata": {},
   "outputs": [],
   "source": [
    "# !pip uninstall numba -y\n",
    "# !pip uninstall librosa -y\n",
    "# !pip install estival==0.4.9 numpy==1.24.3 kaleido"
   ]
  },
  {
   "cell_type": "code",
   "execution_count": null,
   "id": "897024f7-79ad-43dc-b57b-e7e5503eccc3",
   "metadata": {},
   "outputs": [],
   "source": [
    "try:\n",
    "    import google.colab\n",
    "    on_colab = True\n",
    "    ! git clone https://github.com/monash-emu/aust-covid.git --branch main\n",
    "    %cd aust-covid\n",
    "    %pip install -e ./\n",
    "    import multiprocessing as mp\n",
    "    mp.set_start_method('forkserver')\n",
    "except:\n",
    "    on_colab = False"
   ]
  },
  {
   "cell_type": "code",
   "execution_count": null,
   "id": "f8a6ff41-53ee-4d30-b834-424ac5a8693e",
   "metadata": {},
   "outputs": [],
   "source": [
    "from inputs.constants import SUPPLEMENT_PATH\n",
    "from emutools.utils import load_param_info, param_table_to_tex\n",
    "from aust_covid.calibration import get_priors\n",
    "from aust_covid.inputs import get_ifrs\n",
    "from aust_covid.extra_text import add_parameters_blurb_to_tex\n",
    "from emutools.tex import DummyTexDoc, StandardTexDoc"
   ]
  },
  {
   "cell_type": "code",
   "execution_count": null,
   "id": "6abe6ef3-ff2b-411a-b669-934a4b12cb67",
   "metadata": {},
   "outputs": [],
   "source": [
    "app_doc = StandardTexDoc(SUPPLEMENT_PATH, 'parameters', 'Parameters', 'austcovid')"
   ]
  },
  {
   "cell_type": "code",
   "execution_count": null,
   "id": "b60f54f6-989a-4342-b975-a4711b01ae89",
   "metadata": {},
   "outputs": [],
   "source": [
    "param_info = load_param_info()\n",
    "ifrs = get_ifrs(app_doc)\n",
    "param_info['value'].update(ifrs)\n",
    "parameters = param_info['value'].to_dict()\n",
    "prior_names = [p.name for p in get_priors(True, param_info['abbreviations'], DummyTexDoc())]\n",
    "app_doc.include_table(param_table_to_tex(param_info, prior_names), 'params', 'Parameters', section='Parameters', col_splits=[0.15, 0.13, 0.13, 0.59], longtable=True)\n",
    "add_parameters_blurb_to_tex(app_doc, cross_ref=False)"
   ]
  },
  {
   "cell_type": "code",
   "execution_count": null,
   "id": "a9f631ed-24e1-4bbf-99d6-55479e9eec1b",
   "metadata": {},
   "outputs": [],
   "source": [
    "app_doc.write_doc()"
   ]
  },
  {
   "cell_type": "code",
   "execution_count": null,
   "id": "bae99469-2fa7-4199-8dac-19a48dc22a10",
   "metadata": {},
   "outputs": [],
   "source": [
    "if on_colab:\n",
    "    # To build a PDF, we need the appropriate tex packages installed\n",
    "    ! apt-get -y install inkscape texlive-latex-base texlive-fonts-recommended texlive-fonts-extra texlive-latex-extra texlive-bibtex-extra biber\n",
    "    # To avoid clutter and navigate to the right directory\n",
    "    import os\n",
    "    os.chdir(SUPPLEMENT_PATH)\n",
    "    # And finally build the formatted PDF, repeated commands are necessary\n",
    "    ! pdflatex -shell-escape parameters\n",
    "    ! biber parameters\n",
    "    ! pdflatex -shell-escape parameters\n",
    "    ! pdflatex -shell-escape parameters"
   ]
  }
 ],
 "metadata": {
  "kernelspec": {
   "display_name": "Python 3 (ipykernel)",
   "language": "python",
   "name": "python3"
  },
  "language_info": {
   "codemirror_mode": {
    "name": "ipython",
    "version": 3
   },
   "file_extension": ".py",
   "mimetype": "text/x-python",
   "name": "python",
   "nbconvert_exporter": "python",
   "pygments_lexer": "ipython3",
   "version": "3.10.0"
  }
 },
 "nbformat": 4,
 "nbformat_minor": 5
}
