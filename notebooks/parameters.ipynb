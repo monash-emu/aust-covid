{
 "cells": [
  {
   "cell_type": "code",
   "execution_count": null,
   "id": "f8a6ff41-53ee-4d30-b834-424ac5a8693e",
   "metadata": {},
   "outputs": [],
   "source": [
    "from inputs.constants import INPUTS_PATH, SUPPLEMENT_PATH\n",
    "from emutools.parameters import load_param_info\n",
    "from aust_covid.calibration import get_priors\n",
    "from aust_covid.inputs import get_ifrs\n",
    "from emutools.calibration import param_table_to_tex, round_sigfig, tabulate_priors\n",
    "from emutools.tex import StandardTexDoc"
   ]
  },
  {
   "cell_type": "code",
   "execution_count": null,
   "id": "6abe6ef3-ff2b-411a-b669-934a4b12cb67",
   "metadata": {},
   "outputs": [],
   "source": [
    "app_doc = StandardTexDoc(SUPPLEMENT_PATH, 'parameters', 'Parameters', 'austcovid')"
   ]
  },
  {
   "cell_type": "code",
   "execution_count": null,
   "id": "b60f54f6-989a-4342-b975-a4711b01ae89",
   "metadata": {},
   "outputs": [],
   "source": [
    "param_info = load_param_info()\n",
    "ifrs = get_ifrs(app_doc)\n",
    "param_info['value'].update(ifrs)\n",
    "parameters = param_info['value'].to_dict()\n",
    "prior_names = [p.name for p in get_priors()]"
   ]
  },
  {
   "cell_type": "code",
   "execution_count": null,
   "id": "a9f631ed-24e1-4bbf-99d6-55479e9eec1b",
   "metadata": {},
   "outputs": [],
   "source": [
    "app_doc.include_table(param_table_to_tex(param_info, prior_names), section='Parameters', col_splits=[0.17, 0.15, 0.15, 0.53], longtable=True)\n",
    "app_doc.write_doc()"
   ]
  }
 ],
 "metadata": {
  "kernelspec": {
   "display_name": "Python 3 (ipykernel)",
   "language": "python",
   "name": "python3"
  },
  "language_info": {
   "codemirror_mode": {
    "name": "ipython",
    "version": 3
   },
   "file_extension": ".py",
   "mimetype": "text/x-python",
   "name": "python",
   "nbconvert_exporter": "python",
   "pygments_lexer": "ipython3",
   "version": "3.10.11"
  }
 },
 "nbformat": 4,
 "nbformat_minor": 5
}
