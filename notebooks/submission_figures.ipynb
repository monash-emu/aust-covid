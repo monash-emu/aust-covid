{
 "cells": [
  {
   "cell_type": "code",
   "execution_count": null,
   "id": "284f4c14-b46a-463d-a021-fb9a28c9ef5b",
   "metadata": {},
   "outputs": [],
   "source": [
    "import arviz as az\n",
    "import numpy as np\n",
    "import pandas as pd\n",
    "from emutools.calibration import plot_posterior_comparison\n",
    "from emutools.utils import load_param_info\n",
    "from estival.sampling.tools import idata_to_sampleiterator\n",
    "from aust_covid.inputs import get_ifrs\n",
    "from aust_covid.model import build_model\n",
    "from inputs.constants import PRIMARY_ANALYSIS, RUNS_PATH, RUN_IDS, BURN_IN, OUTPUTS_PATH\n",
    "from emutools.tex import DummyTexDoc\n",
    "from estival.sampling import tools as esamp\n",
    "from emutools.calibration import plot_output_ranges\n",
    "from aust_covid.plotting import plot_infection_processes\n",
    "from aust_covid.calibration import get_priors, get_targets\n",
    "from arviz.labels import MapLabeller\n",
    "import matplotlib as mpl\n",
    "from matplotlib import pyplot as plt\n",
    "from emutools.calibration import get_like_components, plot_like_components_by_analysis"
   ]
  },
  {
   "cell_type": "code",
   "execution_count": null,
   "id": "b0ac36b5-ed80-4b0c-8519-832c54638eed",
   "metadata": {},
   "outputs": [],
   "source": [
    "param_info = load_param_info()\n",
    "abbreviations = param_info['abbreviations'].to_dict()\n",
    "parameters = param_info['value'].to_dict() | get_ifrs(DummyTexDoc())\n",
    "priors = get_priors(PRIMARY_ANALYSIS in ['vacc', 'both'], param_info['abbreviations'], DummyTexDoc())\n",
    "prior_names = [p.name for p in priors]\n",
    "targets = get_targets(DummyTexDoc())"
   ]
  },
  {
   "cell_type": "code",
   "execution_count": null,
   "id": "79767857-73ef-4034-804f-3695c26c9a5a",
   "metadata": {},
   "outputs": [],
   "source": [
    "requests = {\n",
    "    'loglikelihood': (-28.0, -12.0, 'total likelihood'),\n",
    "    'll_adult_seropos_prop': (-3.0, 2.0, 'seroprevalence contribution'),\n",
    "    'll_deaths_ma': (-10.0, -3.0, 'deaths contribution'),\n",
    "    'll_notifications_ma': (-17.0, -10.0, 'cases contribution'),\n",
    "}\n",
    "like_outputs = get_like_components(requests.keys())\n",
    "like_comparison_fig = plot_like_components_by_analysis(like_outputs, 'kdeplot', plot_requests=requests, alpha=0.1, linewidth=1.5);\n",
    "like_comparison_fig.savefig(OUTPUTS_PATH / 'aust_covid_figure2.pdf')\n",
    "plt.close()"
   ]
  },
  {
   "cell_type": "code",
   "execution_count": null,
   "id": "236ab968-46cc-4e1b-9ad4-b0aa8b636caf",
   "metadata": {},
   "outputs": [],
   "source": [
    "epi_model = build_model(DummyTexDoc(), abbreviations, mobility_ext=True, cross_ref=False)\n",
    "analysis_folder = RUN_IDS[PRIMARY_ANALYSIS]\n",
    "i_max = pd.read_hdf(RUNS_PATH / analysis_folder / 'output/results.hdf', 'likelihood')['logposterior'].idxmax()\n",
    "idata = az.from_netcdf(RUNS_PATH / analysis_folder / 'output/calib_full_out.nc')\n",
    "best_params = idata_to_sampleiterator(idata).convert('pandas').loc[i_max].to_dict()\n",
    "parameters.update(best_params)\n",
    "epi_model.run(parameters=parameters)"
   ]
  },
  {
   "cell_type": "code",
   "execution_count": null,
   "id": "e3461d7f-98f7-4a6c-b09f-6fb63d57fc7b",
   "metadata": {},
   "outputs": [],
   "source": [
    "quantiles = [0.025, 0.25, 0.5, 0.75, 0.975]\n",
    "spaghettis = {k: pd.read_hdf(RUNS_PATH / v / 'output/results.hdf', 'spaghetti') for k, v in RUN_IDS.items()}\n",
    "quantile_outputs = {k: esamp.quantiles_for_results(spaghettis[k], quantiles) for k in RUN_IDS.keys()}\n",
    "outputs = ['notifications_ma', 'deaths_ma', 'adult_seropos_prop', 'reproduction_number']\n",
    "base_analysis_ranges = plot_output_ranges(quantile_outputs, targets, outputs, PRIMARY_ANALYSIS, quantiles)\n",
    "base_analysis_ranges.write_image(OUTPUTS_PATH / 'aust_covid_figure3.pdf')"
   ]
  },
  {
   "cell_type": "code",
   "execution_count": null,
   "id": "9525652c-bd90-4361-baa7-e00fa8f71f98",
   "metadata": {},
   "outputs": [],
   "source": [
    "infection_fig = plot_infection_processes(epi_model.get_derived_outputs_df(), targets, 'notifications_ma')\n",
    "infection_fig.update_layout(showlegend=False).write_image(OUTPUTS_PATH / 'aust_covid_figure4.pdf')"
   ]
  },
  {
   "cell_type": "code",
   "execution_count": null,
   "id": "b7b09af7-5cce-440f-b0d9-1043d59888c4",
   "metadata": {},
   "outputs": [],
   "source": [
    "idata = az.from_netcdf(RUNS_PATH / analysis_folder / 'output/calib_full_out.nc')\n",
    "idata = idata.sel(draw=np.s_[BURN_IN:])"
   ]
  },
  {
   "cell_type": "code",
   "execution_count": null,
   "id": "36b8bfd4-562e-4903-b81e-80312aff9931",
   "metadata": {},
   "outputs": [],
   "source": [
    "comp_fig = plot_posterior_comparison(idata, priors, prior_names, abbreviations, 0.995, grid=[5, 4])\n",
    "comp_fig.savefig(OUTPUTS_PATH / 'aust_covid_figure5.pdf')"
   ]
  },
  {
   "cell_type": "code",
   "execution_count": null,
   "id": "1d979b96-aeab-470c-99a9-2cc174d22607",
   "metadata": {},
   "outputs": [],
   "source": [
    "az.rcParams['plot.max_subplots'] = 200\n",
    "mpl.rcParams['axes.facecolor'] = (0.2, 0.2, 0.4)\n",
    "key_params = [\n",
    "    'contact_rate', \n",
    "    'latent_period',\n",
    "    'infectious_period', \n",
    "    'natural_immunity_period', \n",
    "    'start_cdr', \n",
    "    'imm_infect_protect',\n",
    "    'ba2_escape',\n",
    "    'ba5_escape',\n",
    "    'imm_prop',\n",
    "]\n",
    "fig = az.plot_pair(idata, var_names=key_params, kind='kde', textsize=30, labeller=MapLabeller(var_name_map=abbreviations))\n",
    "fig[2][0].set_ylim((0.0, 300.0))\n",
    "fig[3][3].set_xlim((0.0, 300.0))\n",
    "plt.savefig(OUTPUTS_PATH / 'aust_covid_figure6.pdf')\n",
    "plt.close()"
   ]
  }
 ],
 "metadata": {
  "kernelspec": {
   "display_name": "Python 3 (ipykernel)",
   "language": "python",
   "name": "python3"
  },
  "language_info": {
   "codemirror_mode": {
    "name": "ipython",
    "version": 3
   },
   "file_extension": ".py",
   "mimetype": "text/x-python",
   "name": "python",
   "nbconvert_exporter": "python",
   "pygments_lexer": "ipython3",
   "version": "3.10.11"
  }
 },
 "nbformat": 4,
 "nbformat_minor": 5
}
