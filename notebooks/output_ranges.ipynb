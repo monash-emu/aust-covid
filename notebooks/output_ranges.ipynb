{
 "cells": [
  {
   "cell_type": "code",
   "execution_count": null,
   "id": "29e31891-65c3-4c7c-a309-3bc108ee8c15",
   "metadata": {},
   "outputs": [],
   "source": [
    "import pandas as pd\n",
    "import numpy as np\n",
    "import plotly.graph_objects as go\n",
    "from autumn.infrastructure.remote import springboard\n",
    "from estival.sampling import tools as esamp"
   ]
  },
  {
   "cell_type": "code",
   "execution_count": null,
   "id": "8eee7416-3d4a-4e0f-b8c5-64f0cc6798dc",
   "metadata": {},
   "outputs": [],
   "source": [
    "run_ids = {\n",
    "    'none': '2023-10-04T1338-none-d20k-t10k-b5k',\n",
    "    'mob': '2023-10-04T1339-mob-d20k-t10k-b5k',\n",
    "    'vacc': '2023-10-04T1340-vacc-d20k-t10k-b5k',\n",
    "    'both': '2023-10-04T1340-both-d20k-t10k-b5k',\n",
    "}"
   ]
  },
  {
   "cell_type": "code",
   "execution_count": null,
   "id": "5d34b54f-648c-428c-98fb-6d090537be6d",
   "metadata": {},
   "outputs": [],
   "source": [
    "quantiles = [0.025, 0.25, 0.5, 0.75, 0.975]"
   ]
  },
  {
   "cell_type": "code",
   "execution_count": null,
   "id": "9834b6ca-97bb-41ed-8f91-fac6d629b950",
   "metadata": {},
   "outputs": [],
   "source": [
    "rts = springboard.task.RemoteTaskStore()\n",
    "rts.cd('projects/aust_covid/alternate_analyses')\n",
    "spaghettis = {}\n",
    "quantile_outputs = {}\n",
    "for analysis, run_id in run_ids.items():\n",
    "    mt = rts.get_managed_task(run_id)\n",
    "    # mt.download_all()\n",
    "    spaghettis[analysis] = pd.read_hdf(mt.local.path / 'output/results.hdf', 'spaghetti')\n",
    "    quantile_outputs[analysis] = esamp.quantiles_for_results(spaghettis[analysis], quantiles)"
   ]
  },
  {
   "cell_type": "code",
   "execution_count": null,
   "id": "e125a6fe-bb33-4ea4-8e75-ca250abc2003",
   "metadata": {},
   "outputs": [],
   "source": [
    "from inputs.constants import PLOT_START_DATE, ANALYSIS_END_DATE"
   ]
  },
  {
   "cell_type": "code",
   "execution_count": null,
   "id": "78827216-bcbf-42f6-ac69-257148e9c7fb",
   "metadata": {},
   "outputs": [],
   "source": [
    "from aust_covid.calibration import get_targets\n",
    "from emutools.tex import DummyTexDoc\n",
    "targets = get_targets(DummyTexDoc())\n"
   ]
  },
  {
   "cell_type": "code",
   "execution_count": null,
   "id": "37401527-0255-426c-b434-1ea030fa4374",
   "metadata": {},
   "outputs": [],
   "source": [
    "target_names = [t.name for t in targets]\n",
    "target_name = 'notifications_ma'\n",
    "if target_name in target_names:\n",
    "    target = next((t.data for t in targets if t.name == target_name))"
   ]
  },
  {
   "cell_type": "code",
   "execution_count": null,
   "id": "47f67eb0-6483-4b6b-bc7f-d56165489066",
   "metadata": {},
   "outputs": [],
   "source": [
    "target.index"
   ]
  },
  {
   "cell_type": "code",
   "execution_count": null,
   "id": "181c5336-4380-4080-8a78-952254fd8760",
   "metadata": {},
   "outputs": [],
   "source": [
    "from plotly.subplots import make_subplots\n",
    "outputs = ['notifications_ma', 'deaths_ma', 'adult_seropos_prop', 'reproduction_number']\n",
    "fig = make_subplots(rows=2, cols=2, subplot_titles=[o.replace('_ma', '').replace('_', ' ') for o in outputs])\n",
    "max_alpha = 0.8\n",
    "analysis = 'mob'\n",
    "analysis_data = quantile_outputs[analysis]\n",
    "target_names = [t.name for t in targets]\n",
    "for i, output in enumerate(outputs):\n",
    "    col = i % 2 + 1\n",
    "    row = int(np.floor(i / 2)) + 1\n",
    "    data = analysis_data[output]\n",
    "    for q, quant in enumerate(quantiles):\n",
    "        alpha = min((q, len(quantiles) - q)) / np.floor(len(quantiles) / 2) * max_alpha\n",
    "        fill_colour = f'rgba(0,30,180,{str(alpha)})'\n",
    "        fig.add_traces(go.Scatter(x=data.index, y=data[quant], fill='tonexty', fillcolor=fill_colour, line={'width': 0}, name=quant), rows=row, cols=col)\n",
    "    fig.add_traces(go.Scatter(x=data.index, y=data[0.5], line={'color': 'black'}, name='median'), rows=row, cols=col)\n",
    "    if output in target_names:\n",
    "        target = next((t.data for t in targets if t.name == output))\n",
    "        fig.add_traces(go.Scatter(x=target.index, y=target, mode='markers', marker={'size': 10.0, 'color': 'rgba(135, 206, 250, 0.2)', 'line': {'width': 1.0}}), rows=row, cols=col)\n",
    "fig.update_layout(height=700)\n",
    "fig.update_xaxes(range=[PLOT_START_DATE, ANALYSIS_END_DATE])"
   ]
  }
 ],
 "metadata": {
  "kernelspec": {
   "display_name": "Python 3 (ipykernel)",
   "language": "python",
   "name": "python3"
  },
  "language_info": {
   "codemirror_mode": {
    "name": "ipython",
    "version": 3
   },
   "file_extension": ".py",
   "mimetype": "text/x-python",
   "name": "python",
   "nbconvert_exporter": "python",
   "pygments_lexer": "ipython3",
   "version": "3.10.0"
  }
 },
 "nbformat": 4,
 "nbformat_minor": 5
}
