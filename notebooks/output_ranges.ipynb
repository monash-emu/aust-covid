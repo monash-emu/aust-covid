{
 "cells": [
  {
   "cell_type": "code",
   "execution_count": null,
   "id": "29e31891-65c3-4c7c-a309-3bc108ee8c15",
   "metadata": {},
   "outputs": [],
   "source": [
    "import pandas as pd\n",
    "from emutools.tex import DummyTexDoc, StandardTexDoc\n",
    "from aust_covid.utils import add_image_to_doc\n",
    "from aust_covid.calibration import get_targets\n",
    "from inputs.constants import RUN_IDS, RUNS_PATH, SUPPLEMENT_PATH\n",
    "from estival.sampling import tools as esamp\n",
    "from emutools.calibration import plot_output_ranges, plot_output_ranges_by_analysis"
   ]
  },
  {
   "cell_type": "code",
   "execution_count": null,
   "id": "08f1d01d-f32d-4c08-86f2-8856211dda8e",
   "metadata": {},
   "outputs": [],
   "source": [
    "quantiles = [0.025, 0.25, 0.5, 0.75, 0.975]\n",
    "spaghettis = {k: pd.read_hdf(RUNS_PATH / v / 'output/results.hdf', 'spaghetti') for k, v in RUN_IDS.items()}\n",
    "quantile_outputs = {k: esamp.quantiles_for_results(spaghettis[k], quantiles) for k in RUN_IDS.keys()}"
   ]
  },
  {
   "cell_type": "code",
   "execution_count": null,
   "id": "8c1d4e21-1313-4cc1-973b-9335c1947844",
   "metadata": {},
   "outputs": [],
   "source": [
    "app_doc = StandardTexDoc(SUPPLEMENT_PATH, 'ranges', 'Output ranges', 'austcovid')"
   ]
  },
  {
   "cell_type": "code",
   "execution_count": null,
   "id": "d5c02e54-9ace-44de-944b-66404c90988e",
   "metadata": {},
   "outputs": [],
   "source": [
    "targets = get_targets(DummyTexDoc())\n",
    "outputs = ['notifications_ma', 'deaths_ma', 'adult_seropos_prop', 'reproduction_number']\n",
    "base_analysis_ranges = plot_output_ranges(quantile_outputs, targets, outputs, 'mob', quantiles)\n",
    "add_image_to_doc(base_analysis_ranges, 'base_ranges', 'Base analysis output credible intervals.', app_doc, 'Calibration results')\n",
    "base_analysis_ranges"
   ]
  },
  {
   "cell_type": "code",
   "execution_count": null,
   "id": "fc5e3bf6-1c9e-42a2-b0c1-b1b911ff1248",
   "metadata": {},
   "outputs": [],
   "source": [
    "case_ranges_by_analysis = plot_output_ranges_by_analysis(quantile_outputs, targets, 'notifications_ma', RUN_IDS.keys(), quantiles)\n",
    "add_image_to_doc(case_ranges_by_analysis, 'case_ranges', 'Notifications credible intervals by analysis.', app_doc, 'Calibration results')\n",
    "case_ranges_by_analysis"
   ]
  },
  {
   "cell_type": "code",
   "execution_count": null,
   "id": "2affb2e6-36f7-426b-b211-2e760d6df339",
   "metadata": {},
   "outputs": [],
   "source": [
    "death_ranges_by_analysis = plot_output_ranges_by_analysis(quantile_outputs, targets, 'deaths_ma', RUN_IDS.keys(), quantiles)\n",
    "add_image_to_doc(death_ranges_by_analysis, 'death_ranges', 'Deaths credible intervals by analysis.', app_doc, 'Calibration results')\n",
    "death_ranges_by_analysis"
   ]
  },
  {
   "cell_type": "code",
   "execution_count": null,
   "id": "e7600e9b-3772-4710-8bbc-c80dcc850f89",
   "metadata": {},
   "outputs": [],
   "source": [
    "seropos_ranges_by_analysis = plot_output_ranges_by_analysis(quantile_outputs, targets, 'adult_seropos_prop', RUN_IDS.keys(), quantiles)\n",
    "add_image_to_doc(seropos_ranges_by_analysis, 'seropos_ranges', 'Seropositive proportion credible intervals by analysis.', app_doc, 'Calibration results')\n",
    "app_doc.write_doc()\n",
    "seropos_ranges_by_analysis"
   ]
  }
 ],
 "metadata": {
  "kernelspec": {
   "display_name": "Python 3 (ipykernel)",
   "language": "python",
   "name": "python3"
  },
  "language_info": {
   "codemirror_mode": {
    "name": "ipython",
    "version": 3
   },
   "file_extension": ".py",
   "mimetype": "text/x-python",
   "name": "python",
   "nbconvert_exporter": "python",
   "pygments_lexer": "ipython3",
   "version": "3.10.0"
  }
 },
 "nbformat": 4,
 "nbformat_minor": 5
}
