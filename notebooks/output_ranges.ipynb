{
 "cells": [
  {
   "cell_type": "markdown",
   "id": "0",
   "metadata": {},
   "source": [
    "## Credible intervals from model runs\n",
    "Plot credible intervals for candidate models and for selected primary analysis."
   ]
  },
  {
   "cell_type": "code",
   "execution_count": null,
   "id": "1",
   "metadata": {},
   "outputs": [],
   "source": [
    "import pandas as pd\n",
    "from aust_covid.calibration import get_targets\n",
    "from aust_covid.constants import RUN_IDS, PRIMARY_ANALYSIS, set_project_base_path\n",
    "from estival.sampling import tools as esamp\n",
    "from emutools.calibration import plot_output_ranges, plot_output_ranges_by_analysis\n",
    "from emutools.tex import DummyTexDoc\n",
    "\n",
    "project_paths = set_project_base_path(\"../\")\n",
    "SUPPLEMENT_PATH = project_paths[\"SUPPLEMENT_PATH\"]\n",
    "RUNS_PATH = project_paths[\"RUNS_PATH\"]"
   ]
  },
  {
   "cell_type": "code",
   "execution_count": null,
   "id": "2",
   "metadata": {},
   "outputs": [],
   "source": [
    "quantiles = [0.025, 0.25, 0.5, 0.75, 0.975]\n",
    "spaghettis = {k: pd.read_hdf(RUNS_PATH / v / \"output/results.hdf\", \"spaghetti\") for k, v in RUN_IDS.items()}\n",
    "quantile_outputs = {k: esamp.quantiles_for_results(spaghettis[k], quantiles) for k in RUN_IDS.keys()}\n",
    "targets = get_targets(DummyTexDoc())"
   ]
  },
  {
   "cell_type": "code",
   "execution_count": null,
   "id": "3",
   "metadata": {},
   "outputs": [],
   "source": [
    "plot_output_ranges_by_analysis(quantile_outputs, targets, \"notifications_ma\", quantiles)"
   ]
  },
  {
   "cell_type": "code",
   "execution_count": null,
   "id": "4",
   "metadata": {},
   "outputs": [],
   "source": [
    "plot_output_ranges_by_analysis(quantile_outputs, targets, \"deaths_ma\", quantiles)"
   ]
  },
  {
   "cell_type": "code",
   "execution_count": null,
   "id": "5",
   "metadata": {},
   "outputs": [],
   "source": [
    "plot_output_ranges_by_analysis(quantile_outputs, targets, \"adult_seropos_prop\", quantiles)"
   ]
  },
  {
   "cell_type": "code",
   "execution_count": null,
   "id": "6",
   "metadata": {},
   "outputs": [],
   "source": [
    "outputs = [\"notifications_ma\", \"deaths_ma\", \"adult_seropos_prop\", \"reproduction_number\"]\n",
    "plot_output_ranges(quantile_outputs, targets, outputs, PRIMARY_ANALYSIS, quantiles)"
   ]
  }
 ],
 "metadata": {
  "kernelspec": {
   "display_name": "Python 3 (ipykernel)",
   "language": "python",
   "name": "python3"
  },
  "language_info": {
   "codemirror_mode": {
    "name": "ipython",
    "version": 3
   },
   "file_extension": ".py",
   "mimetype": "text/x-python",
   "name": "python",
   "nbconvert_exporter": "python",
   "pygments_lexer": "ipython3",
   "version": "3.10.14"
  }
 },
 "nbformat": 4,
 "nbformat_minor": 5
}
