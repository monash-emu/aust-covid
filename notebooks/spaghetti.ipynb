{
 "cells": [
  {
   "cell_type": "markdown",
   "id": "059c534b-b10b-4f39-9981-d09a9002ec59",
   "metadata": {},
   "source": [
    "## Individual runs from primary analysis\n",
    "This notebook illustrates the trajectories of individual runs from the candidate ('mob') analysis.\n",
    "\n",
    "### Running over Colab\n",
    "Uncomment the commands in the following cell to install in Colab.\n",
    "Once completed, click the 'Restart runtime' button that will appear to restart the Colab environment and then proceed to the following cells.\n",
    "\n",
    "### Generating documentation\n",
    "Running the final cell will take several minutes and will generate the corresponding PDF documentation.\n",
    "This can be downloaded from the Files section of the sidebar."
   ]
  },
  {
   "cell_type": "code",
   "execution_count": null,
   "id": "9d6ec365-c2ba-43f0-a623-fd9ea6a44e6e",
   "metadata": {},
   "outputs": [],
   "source": [
    "# !pip uninstall numba -y\n",
    "# !pip uninstall librosa -y\n",
    "# !pip install estival==0.4.9 numpy==1.24.3 kaleido"
   ]
  },
  {
   "cell_type": "code",
   "execution_count": null,
   "id": "36aae451-6c9d-4d74-a829-d910b952e01d",
   "metadata": {},
   "outputs": [],
   "source": [
    "try:\n",
    "    import google.colab\n",
    "    on_colab = True\n",
    "    ! git clone https://github.com/monash-emu/aust-covid.git --branch main\n",
    "    %cd aust-covid\n",
    "    %pip install -e ./\n",
    "    import multiprocessing as mp\n",
    "    mp.set_start_method('forkserver')\n",
    "except:\n",
    "    on_colab = False"
   ]
  },
  {
   "cell_type": "code",
   "execution_count": null,
   "id": "08b6bf58-fbda-45aa-9144-cf7b6ea6fa6b",
   "metadata": {},
   "outputs": [],
   "source": [
    "import pandas as pd\n",
    "import numpy as np\n",
    "from emutools.tex import StandardTexDoc, add_image_to_doc\n",
    "import arviz as az\n",
    "from inputs.constants import SUPPLEMENT_PATH, RUNS_PATH, RUN_IDS, BURN_IN\n",
    "from aust_covid.calibration import get_targets\n",
    "from emutools.calibration import plot_spaghetti, plot_param_hover_spaghetti\n",
    "from aust_covid.plotting import plot_cdr_examples, plot_3d_spaghetti\n",
    "import warnings\n",
    "warnings.simplefilter(action='ignore', category=pd.errors.PerformanceWarning)"
   ]
  },
  {
   "cell_type": "code",
   "execution_count": null,
   "id": "4d8a8391-f34b-42d6-8ba5-79e16cd9d370",
   "metadata": {},
   "outputs": [],
   "source": [
    "app_doc = StandardTexDoc(SUPPLEMENT_PATH, 'spaghetti', 'Example calibration runs', 'austcovid')\n",
    "targets = get_targets(app_doc, cross_ref=False)\n",
    "spaghetti = pd.read_hdf(RUNS_PATH / RUN_IDS['mob'] / 'output/results.hdf', 'spaghetti')"
   ]
  },
  {
   "cell_type": "code",
   "execution_count": null,
   "id": "ab79b699-fa56-4d79-935d-21c889f5917d",
   "metadata": {},
   "outputs": [],
   "source": [
    "key_indicators_fig = plot_spaghetti(spaghetti, ['notifications_ma', 'deaths_ma', 'adult_seropos_prop', 'reproduction_number'], 2, targets)\n",
    "key_outputs_title = 'Key outputs for randomly sampled runs from calibration algorithm.'\n",
    "add_image_to_doc(key_indicators_fig.update_layout(showlegend=False), 'multioutput_spaghetti', 'svg', key_outputs_title, app_doc, 'Calibration results')\n",
    "key_indicators_fig"
   ]
  },
  {
   "cell_type": "code",
   "execution_count": null,
   "id": "24c950d3-8bbe-405b-89bb-fde9485cc010",
   "metadata": {},
   "outputs": [],
   "source": [
    "idata = az.from_netcdf(RUNS_PATH / RUN_IDS['mob'] / 'output/calib_full_out.nc')\n",
    "burnt_idata = idata.sel(draw=np.s_[BURN_IN:])\n",
    "n_samples = 12\n",
    "sampled_idata = az.extract(burnt_idata, num_samples=n_samples)\n",
    "cdr_caption = 'Examples of the modelled effect of various starting CDR proportion parameters.'\n",
    "print(cdr_caption)\n",
    "cdr_fig = plot_cdr_examples(sampled_idata.variables['start_cdr'])\n",
    "caption = f'Modelled case detection ratio over time for {str(n_samples)} randomly selected parameter draws from calibration algorithm.'\n",
    "add_image_to_doc(cdr_fig, 'cdr_examples', 'svg', cdr_caption, app_doc, 'Model construction', caption=caption)\n",
    "cdr_fig"
   ]
  },
  {
   "cell_type": "code",
   "execution_count": null,
   "id": "794337d6-a736-4b3f-b8d8-8de361ecbcd5",
   "metadata": {},
   "outputs": [],
   "source": [
    "plot_param_hover_spaghetti(spaghetti['notifications_ma'], idata)"
   ]
  },
  {
   "cell_type": "code",
   "execution_count": null,
   "id": "6a6af5e6-e401-4ce7-903b-176a534e8d99",
   "metadata": {},
   "outputs": [],
   "source": [
    "app_doc.write_doc()"
   ]
  },
  {
   "cell_type": "code",
   "execution_count": null,
   "id": "4c94de82-2d82-4f94-9ca8-04c6cffea1e3",
   "metadata": {},
   "outputs": [],
   "source": [
    "plot_3d_spaghetti('adult_seropos_prop', spaghetti, targets)"
   ]
  },
  {
   "cell_type": "code",
   "execution_count": null,
   "id": "11848c7b-4fe1-4793-8dcc-edf3bcf32b66",
   "metadata": {},
   "outputs": [],
   "source": [
    "if on_colab:\n",
    "    # To build a PDF, we need the appropriate tex packages installed\n",
    "    ! apt-get -y update\n",
    "    ! apt-get -y install inkscape texlive-latex-base texlive-fonts-recommended texlive-fonts-extra texlive-latex-extra texlive-bibtex-extra biber\n",
    "    # To avoid clutter and navigate to the right directory\n",
    "    import os\n",
    "    os.chdir(SUPPLEMENT_PATH)\n",
    "    # And finally build the formatted PDF, repeated commands are necessary\n",
    "    ! pdflatex -shell-escape spaghetti\n",
    "    ! biber spaghetti\n",
    "    ! pdflatex -shell-escape spaghetti\n",
    "    ! pdflatex -shell-escape spaghetti"
   ]
  }
 ],
 "metadata": {
  "kernelspec": {
   "display_name": "Python 3 (ipykernel)",
   "language": "python",
   "name": "python3"
  },
  "language_info": {
   "codemirror_mode": {
    "name": "ipython",
    "version": 3
   },
   "file_extension": ".py",
   "mimetype": "text/x-python",
   "name": "python",
   "nbconvert_exporter": "python",
   "pygments_lexer": "ipython3",
   "version": "3.10.11"
  }
 },
 "nbformat": 4,
 "nbformat_minor": 5
}
