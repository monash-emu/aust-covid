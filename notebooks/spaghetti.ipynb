{
 "cells": [
  {
   "cell_type": "code",
   "execution_count": null,
   "id": "08b6bf58-fbda-45aa-9144-cf7b6ea6fa6b",
   "metadata": {},
   "outputs": [],
   "source": [
    "import pandas as pd\n",
    "import numpy as np\n",
    "from emutools.tex import DummyTexDoc, StandardTexDoc\n",
    "import arviz as az\n",
    "from autumn.infrastructure.remote import springboard\n",
    "from inputs.constants import SUPPLEMENT_PATH, RUNS_PATH, RUN_IDS, PRIMARY_ANALYSIS, BURN_IN\n",
    "from aust_covid.calibration import get_targets\n",
    "from emutools.calibration import plot_spaghetti, plot_param_hover_spaghetti\n",
    "from aust_covid.plotting import plot_cdr_examples, plot_subvariant_props\n",
    "from aust_covid.utils import add_image_to_doc\n",
    "import warnings\n",
    "warnings.simplefilter(action='ignore', category=pd.errors.PerformanceWarning)"
   ]
  },
  {
   "cell_type": "code",
   "execution_count": null,
   "id": "4d8a8391-f34b-42d6-8ba5-79e16cd9d370",
   "metadata": {},
   "outputs": [],
   "source": [
    "app_doc = StandardTexDoc(SUPPLEMENT_PATH, 'spaghetti', 'Example calibration runs', 'austcovid')\n",
    "targets = get_targets(DummyTexDoc())\n",
    "spaghetti = pd.read_hdf(RUNS_PATH / RUN_IDS['mob'] / 'output/results.hdf', 'spaghetti')"
   ]
  },
  {
   "cell_type": "code",
   "execution_count": null,
   "id": "ab79b699-fa56-4d79-935d-21c889f5917d",
   "metadata": {},
   "outputs": [],
   "source": [
    "key_indicators_fig = plot_spaghetti(spaghetti, ['notifications_ma', 'deaths_ma', 'adult_seropos_prop', 'reproduction_number'], 2, targets)\n",
    "key_outputs_title = 'Key outputs for randomly sampled runs from calibration algorithm.'\n",
    "add_image_to_doc(key_indicators_fig.update_layout(showlegend=False), 'multioutput_spaghetti', 'svg', key_outputs_title, app_doc, 'Calibration results')\n",
    "key_indicators_fig"
   ]
  },
  {
   "cell_type": "code",
   "execution_count": null,
   "id": "24c950d3-8bbe-405b-89bb-fde9485cc010",
   "metadata": {},
   "outputs": [],
   "source": [
    "idata = az.from_netcdf(RUNS_PATH / RUN_IDS['mob'] / 'output/calib_full_out.nc')\n",
    "burnt_idata = idata.sel(draw=np.s_[BURN_IN:])\n",
    "sampled_idata = az.extract(burnt_idata, num_samples=10)\n",
    "cdr_caption = 'Examples of the modelled effect of various starting CDR proportion parameters.'\n",
    "print(cdr_caption)\n",
    "cdr_fig = plot_cdr_examples(sampled_idata.variables['start_cdr'])\n",
    "add_image_to_doc(cdr_fig, 'cdr_examples', 'svg', cdr_caption, app_doc, 'Model construction')\n",
    "cdr_fig"
   ]
  },
  {
   "cell_type": "code",
   "execution_count": null,
   "id": "64b60d16-e181-46b7-8caa-e65a46ae162a",
   "metadata": {
    "tags": []
   },
   "outputs": [],
   "source": [
    "variant_prop_caption = 'Proportion of modelled cases attributable to each sub-variant over time. ' \\\n",
    "    'Solid curved lines, proportion of prevalence attributable to BA.1, ' \\\n",
    "    'Dashed curved lines, proportion of prevalence attributable to BA.1 or BA.2. ' \\\n",
    "    'Key dates for each variant are shown as vertical bars: blue, BA.1; red, BA.2; green, BA.5; ' \\\n",
    "    'dotted, first detection; dashed, \\>1\\%; solid, \\>50\\%. '\n",
    "variant_prop_fig = plot_subvariant_props(spaghetti)\n",
    "print(variant_prop_caption)\n",
    "add_image_to_doc(variant_prop_fig, 'variant_prop_spaghetti', 'svg', 'Proportional prevalence of modelled sub-variants.', app_doc, 'Calibration results', caption=variant_prop_caption)\n",
    "variant_prop_fig"
   ]
  },
  {
   "cell_type": "code",
   "execution_count": null,
   "id": "794337d6-a736-4b3f-b8d8-8de361ecbcd5",
   "metadata": {},
   "outputs": [],
   "source": [
    "plot_param_hover_spaghetti(spaghetti['notifications_ma'], idata)"
   ]
  },
  {
   "cell_type": "code",
   "execution_count": null,
   "id": "6a6af5e6-e401-4ce7-903b-176a534e8d99",
   "metadata": {},
   "outputs": [],
   "source": [
    "app_doc.write_doc()"
   ]
  }
 ],
 "metadata": {
  "kernelspec": {
   "display_name": "Python 3 (ipykernel)",
   "language": "python",
   "name": "python3"
  },
  "language_info": {
   "codemirror_mode": {
    "name": "ipython",
    "version": 3
   },
   "file_extension": ".py",
   "mimetype": "text/x-python",
   "name": "python",
   "nbconvert_exporter": "python",
   "pygments_lexer": "ipython3",
   "version": "3.10.0"
  }
 },
 "nbformat": 4,
 "nbformat_minor": 5
}
