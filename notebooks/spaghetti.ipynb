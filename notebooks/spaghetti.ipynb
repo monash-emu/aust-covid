{
 "cells": [
  {
   "cell_type": "markdown",
   "id": "0",
   "metadata": {},
   "source": [
    "## Individual runs from primary analysis\n",
    "This notebook illustrates the trajectories of individual runs from the candidate ('mob') analysis."
   ]
  },
  {
   "cell_type": "code",
   "execution_count": null,
   "id": "1",
   "metadata": {},
   "outputs": [],
   "source": [
    "import pandas as pd\n",
    "import numpy as np\n",
    "from emutools.tex import DummyTexDoc\n",
    "import arviz as az\n",
    "from aust_covid.constants import RUN_IDS, BURN_IN, set_project_base_path\n",
    "from aust_covid.calibration import get_targets\n",
    "from emutools.calibration import plot_spaghetti, plot_param_hover_spaghetti\n",
    "from aust_covid.plotting import plot_cdr_examples, plot_3d_spaghetti\n",
    "import warnings\n",
    "warnings.simplefilter(action=\"ignore\", category=pd.errors.PerformanceWarning)\n",
    "\n",
    "project_paths = set_project_base_path(\"../\")\n",
    "RUNS_PATH = project_paths[\"RUNS_PATH\"]"
   ]
  },
  {
   "cell_type": "code",
   "execution_count": null,
   "id": "2",
   "metadata": {},
   "outputs": [],
   "source": [
    "dummy_doc = DummyTexDoc()\n",
    "targets = get_targets(dummy_doc, cross_ref=False)\n",
    "spaghetti = pd.read_hdf(RUNS_PATH / RUN_IDS[\"mob\"] / \"output/results.hdf\", \"spaghetti\")"
   ]
  },
  {
   "cell_type": "code",
   "execution_count": null,
   "id": "3",
   "metadata": {},
   "outputs": [],
   "source": [
    "plot_spaghetti(spaghetti, [\"notifications_ma\", \"deaths_ma\", \"adult_seropos_prop\", \"reproduction_number\"], 2, targets)"
   ]
  },
  {
   "cell_type": "code",
   "execution_count": null,
   "id": "4",
   "metadata": {},
   "outputs": [],
   "source": [
    "idata = az.from_netcdf(RUNS_PATH / RUN_IDS[\"mob\"] / \"output/calib_full_out.nc\")\n",
    "burnt_idata = idata.sel(draw=np.s_[BURN_IN:])\n",
    "n_samples = 12\n",
    "sampled_idata = az.extract(burnt_idata, num_samples=n_samples)\n",
    "plot_cdr_examples(sampled_idata.variables[\"start_cdr\"])"
   ]
  },
  {
   "cell_type": "code",
   "execution_count": null,
   "id": "5",
   "metadata": {},
   "outputs": [],
   "source": [
    "plot_param_hover_spaghetti(spaghetti[\"notifications_ma\"], idata)"
   ]
  },
  {
   "cell_type": "code",
   "execution_count": null,
   "id": "6",
   "metadata": {},
   "outputs": [],
   "source": [
    "plot_3d_spaghetti(\"adult_seropos_prop\", spaghetti, targets)"
   ]
  }
 ],
 "metadata": {
  "kernelspec": {
   "display_name": "Python 3 (ipykernel)",
   "language": "python",
   "name": "python3"
  },
  "language_info": {
   "codemirror_mode": {
    "name": "ipython",
    "version": 3
   },
   "file_extension": ".py",
   "mimetype": "text/x-python",
   "name": "python",
   "nbconvert_exporter": "python",
   "pygments_lexer": "ipython3",
   "version": "3.10.14"
  }
 },
 "nbformat": 4,
 "nbformat_minor": 5
}
