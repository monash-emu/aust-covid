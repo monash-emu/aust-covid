{
 "cells": [
  {
   "cell_type": "code",
   "execution_count": null,
   "id": "590cef03-86de-4618-a194-aff17ee53a2e",
   "metadata": {},
   "outputs": [],
   "source": [
    "from inputs.constants import SUPPLEMENT_PATH\n",
    "from emutools.tex import StandardTexDoc\n",
    "from aust_covid.calibration import get_targets\n",
    "from aust_covid.utils import add_image_to_doc\n",
    "from aust_covid.plotting import plot_targets"
   ]
  },
  {
   "cell_type": "code",
   "execution_count": null,
   "id": "a84553af-76b8-4ed3-95a1-16dcdf7c7384",
   "metadata": {},
   "outputs": [],
   "source": [
    "app_doc = StandardTexDoc(SUPPLEMENT_PATH, 'targets', 'Target construction', 'austcovid')\n",
    "targets = get_targets(app_doc)"
   ]
  },
  {
   "cell_type": "code",
   "execution_count": null,
   "id": "1bc4c71b-c7f3-4e00-8160-81431d28e7d3",
   "metadata": {},
   "outputs": [],
   "source": [
    "fig = plot_targets(targets)\n",
    "add_image_to_doc(fig, 'targets', 'Calibration targets with raw data from which they were derived.', app_doc, 'Targets')\n",
    "app_doc.write_doc()\n",
    "fig"
   ]
  }
 ],
 "metadata": {
  "kernelspec": {
   "display_name": "Python 3 (ipykernel)",
   "language": "python",
   "name": "python3"
  },
  "language_info": {
   "codemirror_mode": {
    "name": "ipython",
    "version": 3
   },
   "file_extension": ".py",
   "mimetype": "text/x-python",
   "name": "python",
   "nbconvert_exporter": "python",
   "pygments_lexer": "ipython3",
   "version": "3.10.0"
  }
 },
 "nbformat": 4,
 "nbformat_minor": 5
}
