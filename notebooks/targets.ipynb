{
 "cells": [
  {
   "cell_type": "markdown",
   "id": "0",
   "metadata": {},
   "source": [
    "## Targets\n",
    "Illustration of the targets used in model calibration."
   ]
  },
  {
   "cell_type": "code",
   "execution_count": null,
   "id": "1",
   "metadata": {},
   "outputs": [],
   "source": [
    "from aust_covid.constants import set_project_base_path\n",
    "from emutools.tex import DummyTexDoc\n",
    "from aust_covid.calibration import get_targets\n",
    "from aust_covid.plotting import plot_targets\n",
    "\n",
    "project_paths = set_project_base_path(\"../\")\n",
    "RUNS_PATH = project_paths[\"RUNS_PATH\"]"
   ]
  },
  {
   "cell_type": "code",
   "execution_count": null,
   "id": "2",
   "metadata": {},
   "outputs": [],
   "source": [
    "dummy_doc = DummyTexDoc()\n",
    "targets = get_targets(dummy_doc, cross_ref=False)"
   ]
  },
  {
   "cell_type": "code",
   "execution_count": null,
   "id": "3",
   "metadata": {},
   "outputs": [],
   "source": [
    "plot_targets(targets, for_plotly=False)"
   ]
  }
 ],
 "metadata": {
  "kernelspec": {
   "display_name": "Python 3 (ipykernel)",
   "language": "python",
   "name": "python3"
  },
  "language_info": {
   "codemirror_mode": {
    "name": "ipython",
    "version": 3
   },
   "file_extension": ".py",
   "mimetype": "text/x-python",
   "name": "python",
   "nbconvert_exporter": "python",
   "pygments_lexer": "ipython3",
   "version": "3.10.14"
  }
 },
 "nbformat": 4,
 "nbformat_minor": 5
}
