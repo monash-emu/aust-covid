{
 "cells": [
  {
   "cell_type": "code",
   "execution_count": null,
   "id": "39b0c735-cf1f-46f4-926d-47e5a8276feb",
   "metadata": {},
   "outputs": [],
   "source": [
    "from inputs.constants import SUPPLEMENT_PATH\n",
    "from emutools.tex import StandardTexDoc\n",
    "from aust_covid.calibration import get_targets\n",
    "from aust_covid.utils import add_image_to_doc\n",
    "from aust_covid.plotting import plot_targets"
   ]
  },
  {
   "cell_type": "code",
   "execution_count": null,
   "id": "09e08b09-05c2-417a-afee-b47b348e5eaa",
   "metadata": {},
   "outputs": [],
   "source": [
    "app_doc = StandardTexDoc(SUPPLEMENT_PATH, 'targets', 'Target construction', 'austcovid')\n",
    "targets = get_targets(app_doc)"
   ]
  },
  {
   "cell_type": "code",
   "execution_count": null,
   "id": "ccfbb3c5-f9b6-4b5c-bc8a-015a3545b285",
   "metadata": {},
   "outputs": [],
   "source": [
    "fig = plot_targets(targets)\n",
    "add_image_to_doc(fig, 'targets', 'Calibration targets with raw data from which they were derived.', app_doc, 'Targets')\n",
    "app_doc.write_doc()\n",
    "fig"
   ]
  }
 ],
 "metadata": {
  "kernelspec": {
   "display_name": "Python 3 (ipykernel)",
   "language": "python",
   "name": "python3"
  },
  "language_info": {
   "codemirror_mode": {
    "name": "ipython",
    "version": 3
   },
   "file_extension": ".py",
   "mimetype": "text/x-python",
   "name": "python",
   "nbconvert_exporter": "python",
   "pygments_lexer": "ipython3",
   "version": "3.10.0"
  }
 },
 "nbformat": 4,
 "nbformat_minor": 5
}
