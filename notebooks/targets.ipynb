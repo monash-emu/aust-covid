{
 "cells": [
  {
   "cell_type": "code",
   "execution_count": null,
   "id": "590cef03-86de-4618-a194-aff17ee53a2e",
   "metadata": {},
   "outputs": [],
   "source": [
    "from plotly.graph_objects import Figure\n",
    "from plotly.subplots import make_subplots\n",
    "import plotly.graph_objects as go\n",
    "\n",
    "from aust_covid.inputs import load_national_data, load_owid_data, load_calibration_targets, load_who_data, load_serosurvey_data\n",
    "from inputs.constants import INPUTS_PATH, SUPPLEMENT_PATH, PLOT_START_DATE, ANALYSIS_END_DATE\n",
    "from emutools.tex import DummyTexDoc, StandardTexDoc\n",
    "from aust_covid.calibration import get_targets\n",
    "from aust_covid.utils import add_image_to_doc"
   ]
  },
  {
   "cell_type": "code",
   "execution_count": null,
   "id": "a84553af-76b8-4ed3-95a1-16dcdf7c7384",
   "metadata": {},
   "outputs": [],
   "source": [
    "app_doc = StandardTexDoc(SUPPLEMENT_PATH, 'targets', 'Targets', 'austcovid')\n",
    "dummy_doc = DummyTexDoc()\n",
    "national_data = load_national_data(dummy_doc)\n",
    "owid_data = load_owid_data(dummy_doc)\n",
    "combined_data = load_calibration_targets(dummy_doc)\n",
    "targets = get_targets(app_doc)\n",
    "case_targets = next((t.data for t in targets if t.name == 'notifications_ma'))\n",
    "death_data = load_who_data(dummy_doc)\n",
    "death_targets = next((t.data for t in targets if t.name == 'deaths_ma'))\n",
    "serosurvey_data = load_serosurvey_data(dummy_doc)\n",
    "serosurvey_targets = next((t.data for t in targets if t.name == 'adult_seropos_prop'))\n",
    "serosurvey_ceiling = next((t.data for t in targets if t.name == 'seropos_ceiling'))"
   ]
  },
  {
   "cell_type": "code",
   "execution_count": null,
   "id": "97705277-99a1-4141-ba68-784ac65439d7",
   "metadata": {},
   "outputs": [],
   "source": [
    "subplot_specs = [\n",
    "    [{'colspan': 2}, None], \n",
    "    [{}, {}]\n",
    "]\n",
    "fig = make_subplots(rows=2, cols=2, specs=subplot_specs)\n",
    "fig.add_trace(go.Scatter(x=combined_data.index, y=combined_data, name='combined cases'), row=1, col=1)\n",
    "fig.add_trace(go.Scatter(x=national_data.index, y=national_data, name='national cases'), row=1, col=1)\n",
    "fig.add_trace(go.Scatter(x=owid_data.index, y=owid_data, name='owid cases'), row=1, col=1)\n",
    "fig.add_trace(go.Scatter(x=case_targets.index, y=case_targets, name='final case target (smoothed)'), row=1, col=1)\n",
    "fig.add_trace(go.Scatter(x=death_data.index, y=death_data, name='who deaths'), row=2, col=1)\n",
    "fig.add_trace(go.Scatter(x=death_targets.index, y=death_targets, name='death target (smoothed)'), row=2, col=1)\n",
    "fig.add_trace(go.Scatter(x=serosurvey_data.index, y=serosurvey_data, name='serosurvey data'), row=2, col=2)\n",
    "fig.add_trace(go.Scatter(x=serosurvey_targets.index, y=serosurvey_targets, name='serosurvey target'), row=2, col=2)\n",
    "fig.add_trace(go.Scatter(x=serosurvey_ceiling.index, y=serosurvey_ceiling, name='seroprevalence ceiling'), row=2, col=2)\n",
    "fig.update_layout(height=600)\n",
    "fig.update_xaxes(range=(PLOT_START_DATE, ANALYSIS_END_DATE))"
   ]
  },
  {
   "cell_type": "code",
   "execution_count": null,
   "id": "1bc4c71b-c7f3-4e00-8160-81431d28e7d3",
   "metadata": {},
   "outputs": [],
   "source": [
    "add_image_to_doc(fig, 'targets', 'Calibration targets with raw data comparison.', app_doc, 'Targets')\n",
    "app_doc.write_doc()"
   ]
  }
 ],
 "metadata": {
  "kernelspec": {
   "display_name": "Python 3 (ipykernel)",
   "language": "python",
   "name": "python3"
  },
  "language_info": {
   "codemirror_mode": {
    "name": "ipython",
    "version": 3
   },
   "file_extension": ".py",
   "mimetype": "text/x-python",
   "name": "python",
   "nbconvert_exporter": "python",
   "pygments_lexer": "ipython3",
   "version": "3.10.0"
  }
 },
 "nbformat": 4,
 "nbformat_minor": 5
}
