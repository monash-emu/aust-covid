{
 "cells": [
  {
   "cell_type": "markdown",
   "id": "02d4c697-9648-4700-be74-31bc080ec8cd",
   "metadata": {},
   "source": [
    "## Targets\n",
    "Illustration of the construction and processing of the targets used in model calibration.\n",
    "\n",
    "### Running over Colab\n",
    "Uncomment the commands in the following cell to install in Colab.\n",
    "Once completed, click the 'Restart runtime' button that will appear to restart the Colab environment and then proceed to the following cells.\n",
    "\n",
    "### Generating documentation\n",
    "Running the final cell will take several minutes and will generate the corresponding PDF documentation.\n",
    "This can be downloaded from the Files section of the sidebar."
   ]
  },
  {
   "cell_type": "code",
   "execution_count": null,
   "id": "afba9b19-8908-4b71-887d-bfe450f30491",
   "metadata": {},
   "outputs": [],
   "source": [
    "# !pip uninstall numba -y\n",
    "# !pip uninstall librosa -y\n",
    "# !pip install estival==0.4.9 numpy==1.24.3 kaleido"
   ]
  },
  {
   "cell_type": "code",
   "execution_count": null,
   "id": "b534085d-4371-482f-b1e1-44b1e9b59d65",
   "metadata": {},
   "outputs": [],
   "source": [
    "try:\n",
    "    import google.colab\n",
    "    on_colab = True\n",
    "    ! git clone https://github.com/monash-emu/aust-covid.git --branch main\n",
    "    %cd aust-covid\n",
    "    %pip install -e ./\n",
    "    import multiprocessing as mp\n",
    "    mp.set_start_method('forkserver')\n",
    "except:\n",
    "    on_colab = False"
   ]
  },
  {
   "cell_type": "code",
   "execution_count": null,
   "id": "39b0c735-cf1f-46f4-926d-47e5a8276feb",
   "metadata": {},
   "outputs": [],
   "source": [
    "from inputs.constants import SUPPLEMENT_PATH\n",
    "from emutools.tex import StandardTexDoc, add_image_to_doc\n",
    "from aust_covid.calibration import get_targets\n",
    "from aust_covid.plotting import plot_targets"
   ]
  },
  {
   "cell_type": "code",
   "execution_count": null,
   "id": "09e08b09-05c2-417a-afee-b47b348e5eaa",
   "metadata": {},
   "outputs": [],
   "source": [
    "app_doc = StandardTexDoc(SUPPLEMENT_PATH, 'targets', 'Target construction', 'austcovid')\n",
    "targets = get_targets(app_doc, cross_ref=False)"
   ]
  },
  {
   "cell_type": "code",
   "execution_count": null,
   "id": "0f064875-e7ba-4e88-a0e2-509a6946250f",
   "metadata": {},
   "outputs": [],
   "source": [
    "fig = plot_targets(targets, for_plotly=False)\n",
    "fig"
   ]
  },
  {
   "cell_type": "code",
   "execution_count": null,
   "id": "ccfbb3c5-f9b6-4b5c-bc8a-015a3545b285",
   "metadata": {},
   "outputs": [],
   "source": [
    "add_image_to_doc(fig, 'target_fig', 'svg', 'Calibration targets with raw data from which they were derived.', app_doc, 'Targets')\n",
    "app_doc.write_doc()"
   ]
  },
  {
   "cell_type": "code",
   "execution_count": null,
   "id": "c30abb59-95f4-49bd-a2bb-fe6a2a4658da",
   "metadata": {},
   "outputs": [],
   "source": [
    "if on_colab:\n",
    "    # To build a PDF, we need the appropriate tex packages installed\n",
    "    ! apt-get -y install inkscape texlive-latex-base texlive-fonts-recommended texlive-fonts-extra texlive-latex-extra texlive-bibtex-extra biber\n",
    "    # To avoid clutter and navigate to the right directory\n",
    "    import os\n",
    "    os.chdir(SUPPLEMENT_PATH)\n",
    "    # And finally build the formatted PDF, repeated commands are necessary\n",
    "    ! pdflatex -shell-escape targets\n",
    "    ! biber targets\n",
    "    ! pdflatex -shell-escape targets\n",
    "    ! pdflatex -shell-escape targets"
   ]
  }
 ],
 "metadata": {
  "kernelspec": {
   "display_name": "Python 3 (ipykernel)",
   "language": "python",
   "name": "python3"
  },
  "language_info": {
   "codemirror_mode": {
    "name": "ipython",
    "version": 3
   },
   "file_extension": ".py",
   "mimetype": "text/x-python",
   "name": "python",
   "nbconvert_exporter": "python",
   "pygments_lexer": "ipython3",
   "version": "3.10.0"
  }
 },
 "nbformat": 4,
 "nbformat_minor": 5
}
