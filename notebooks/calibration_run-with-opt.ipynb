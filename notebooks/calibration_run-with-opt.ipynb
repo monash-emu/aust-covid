{
 "cells": [
  {
   "cell_type": "code",
   "execution_count": null,
   "id": "639b229a-ae5c-4299-a28c-f727cd75a517",
   "metadata": {},
   "outputs": [],
   "source": [
    "import numpy as np\n",
    "import pymc as pm\n",
    "from jax import numpy as jnp\n",
    "import arviz as az\n",
    "from plotly import express as px\n",
    "import multiprocessing as mp\n",
    "\n",
    "from estival.model import BayesianCompartmentalModel\n",
    "from estival.wrappers import pymc as epm\n",
    "from estival.sampling import tools as esamp\n",
    "from estival.utils.sample import SampleTypes\n",
    "from estival.wrappers import nevergrad as eng\n",
    "from estival.utils.parallel import map_parallel\n",
    "import nevergrad as ng\n",
    "\n",
    "from inputs.constants import INPUTS_PATH, SUPPLEMENT_PATH\n",
    "from autumn.infrastructure.remote import springboard\n",
    "from aust_covid.inputs import get_ifrs\n",
    "from aust_covid.model import build_model\n",
    "from aust_covid.calibration import get_priors, get_targets\n",
    "from emutools.tex import StandardTexDoc, DummyTexDoc\n",
    "from emutools.inputs import load_param_info\n",
    "from emutools.calibration import param_table_to_tex, round_sigfig, tabulate_priors"
   ]
  },
  {
   "cell_type": "code",
   "execution_count": null,
   "id": "4cfe6efa-3965-44f1-8487-384c4d42ab3d",
   "metadata": {},
   "outputs": [],
   "source": [
    "app_doc = StandardTexDoc('./', 'supplement', \"Australia's 2023 Omicron Waves Supplement\", 'austcovid')"
   ]
  },
  {
   "cell_type": "code",
   "execution_count": null,
   "id": "0839a928-3ff8-4f11-8aa7-e591d335c1eb",
   "metadata": {},
   "outputs": [],
   "source": [
    "param_info = load_param_info(INPUTS_PATH / 'parameters.yml')\n",
    "ifrs = get_ifrs(app_doc)\n",
    "param_info['value'].update(ifrs)\n",
    "parameters = param_info['value'].to_dict()"
   ]
  },
  {
   "cell_type": "code",
   "execution_count": null,
   "id": "c4ee5821-390b-446a-8f37-ac5d23a62fb4",
   "metadata": {},
   "outputs": [],
   "source": [
    "aust_model = build_model(app_doc, mobility_sens=True)"
   ]
  },
  {
   "cell_type": "code",
   "execution_count": null,
   "id": "083af55a-c217-4322-bf70-8c348c1b280b",
   "metadata": {},
   "outputs": [],
   "source": [
    "priors = get_priors()\n",
    "prior_names = [p.name for p in priors]\n",
    "targets = get_targets(app_doc)"
   ]
  },
  {
   "cell_type": "code",
   "execution_count": null,
   "id": "522025dc-b731-4ca2-9064-c605a261f4c2",
   "metadata": {},
   "outputs": [],
   "source": [
    "bcm = BayesianCompartmentalModel(aust_model, parameters, priors, targets)"
   ]
  },
  {
   "cell_type": "code",
   "execution_count": null,
   "id": "982784d4",
   "metadata": {},
   "outputs": [],
   "source": [
    "# We'll use this later inside the remote calibration function to avoid having to pickle up the whole BCM\n",
    "\n",
    "def get_bcm():\n",
    "    aust_model = build_model(DummyTexDoc(), mobility_sens=True)\n",
    "    bcm = BayesianCompartmentalModel(aust_model, parameters, priors, targets)\n",
    "    return bcm"
   ]
  },
  {
   "cell_type": "code",
   "execution_count": null,
   "id": "383dc7e2-6b6d-4880-8a78-a9568edbb0a0",
   "metadata": {},
   "outputs": [],
   "source": [
    "app_doc.include_table(param_table_to_tex(param_info, prior_names), section='Parameters', col_splits=[0.17, 0.15, 0.15, 0.53], longtable=True)\n",
    "app_doc.include_table(tabulate_priors(priors, param_info), section='Calibration', col_splits=[0.25] * 4)"
   ]
  },
  {
   "cell_type": "markdown",
   "id": "52bb0821-5e8a-47be-980f-b044700ea73d",
   "metadata": {},
   "source": [
    "Following cell checks the calibration runs without error"
   ]
  },
  {
   "cell_type": "code",
   "execution_count": null,
   "id": "cb120cf1",
   "metadata": {},
   "outputs": [],
   "source": [
    "def get_acceptable_start_params(n_params_target, ci=1.0):\n",
    "    params = []\n",
    "    n_cores = mp.cpu_count()\n",
    "    while len(params) < n_params_target:\n",
    "        new_samples = bcm.sample.lhs(n_cores, ci=ci)\n",
    "        lle = esamp.likelihood_extras_for_samples(new_samples, bcm)\n",
    "        for sidx, val in lle[\"ll_seropos_ceiling\"].items():\n",
    "            if (val == 0.0) and (len(params) < n_params_target):\n",
    "                params.append(new_samples[sidx])\n",
    "    return bcm.sample.convert(params)"
   ]
  },
  {
   "cell_type": "code",
   "execution_count": null,
   "id": "ac90d168",
   "metadata": {},
   "outputs": [],
   "source": [
    "CI = 0.67\n",
    "\n",
    "start_lhs = get_acceptable_start_params(8, ci=CI)"
   ]
  },
  {
   "cell_type": "code",
   "execution_count": null,
   "id": "b3a34ee1",
   "metadata": {},
   "outputs": [],
   "source": [
    "px.imshow(bcm.sample.distance_matrix(start_lhs))"
   ]
  },
  {
   "cell_type": "code",
   "execution_count": null,
   "id": "eb713966",
   "metadata": {},
   "outputs": [],
   "source": [
    "def optimize_ng(idx_sample):\n",
    "    idx, sample = idx_sample\n",
    "    opt = eng.optimize_model(bcm, budget=100, opt_class=ng.optimizers.TwoPointsDE, obj_function=bcm.logposterior, suggested=sample, num_workers=4, ci=CI)\n",
    "    rec = opt.minimize(100)\n",
    "    return idx, rec.value[1]\n",
    "\n",
    "opt_samples = map_parallel(optimize_ng, start_lhs.iterrows(), n_workers=2, mode='process')\n",
    "\n",
    "#samp.likelihood_extras_for_samples(opt_samples, bcm)"
   ]
  },
  {
   "cell_type": "code",
   "execution_count": null,
   "id": "2756985b",
   "metadata": {},
   "outputs": [],
   "source": [
    "opt_samples = bcm.sample.convert(opt_samples)"
   ]
  },
  {
   "cell_type": "code",
   "execution_count": null,
   "id": "dbfa6349",
   "metadata": {},
   "outputs": [],
   "source": [
    "px.imshow(bcm.sample.distance_matrix(opt_samples))"
   ]
  },
  {
   "cell_type": "code",
   "execution_count": null,
   "id": "bf9b6ba1-1c99-453a-a72c-6e94fab55178",
   "metadata": {},
   "outputs": [],
   "source": [
    "def run_calibration(bridge: springboard.task.TaskBridge, init_samples):\n",
    "    import multiprocessing as mp\n",
    "    mp.set_start_method('forkserver')\n",
    "    \n",
    "    # Put this method in here instead of as an argument\n",
    "    bcm = get_bcm()\n",
    "    \n",
    "    init_samples = bcm.sample.convert(init_samples, 'list_of_dicts')\n",
    "    \n",
    "    n_chains = 8\n",
    "    \n",
    "#     def get_acceptable_start_params(n_params_target, ci=1.0):\n",
    "#         params = []\n",
    "#         n_cores = mp.cpu_count()\n",
    "#         while len(params) < n_params_target:\n",
    "#             new_samples = bcm.sample.lhs(n_cores, ci=ci)\n",
    "#             lle = esamp.likelihood_extras_for_samples(new_samples, bcm)\n",
    "#             for sidx, val in lle[\"ll_seropos_ceiling\"].items():\n",
    "#                 if (val == 0.0) and (len(params) < n_params_target):\n",
    "#                     params.append(new_samples[sidx])\n",
    "#         return bcm.sample.convert(params)\n",
    "#     \n",
    "#     CI = 0.67\n",
    "#     starting_lhs = get_acceptable_start_params(n_chains, ci=CI)\n",
    "# \n",
    "#     def optimize_ng(sample):\n",
    "#         opt = eng.optimize_model(bcm, budget=100, opt_class=ng.optimizers.TwoPointsDE, obj_function=bcm.logposterior, suggested=sample, num_workers=4)\n",
    "#         rec= opt.minimize(100)\n",
    "#         return rec.value[1]\n",
    "# \n",
    "#     opt_samples = map_parallel(optimize_ng, starting_lhs, n_workers = 8, mode=\"process\")\n",
    "#     opt_samples = bcm.sample.constrain(opt_samples)\n",
    "\n",
    "    with pm.Model() as pm_model:\n",
    "        variables = epm.use_model(bcm)\n",
    "        idata_raw = pm.sample(step=[pm.DEMetropolisZ(variables)], draws=10000, tune=10000, cores=8, discard_tuned_samples=False, chains=n_chains, progressbar=False, initvals=init_samples)\n",
    "\n",
    "    idata_raw.to_netcdf(str(bridge.out_path / 'calibration_out.nc'))\n",
    "    burnt_idata = idata_raw.sel(draw=np.s_[5000:])\n",
    "    sds = az.extract(burnt_idata, num_samples=100)\n",
    "    spaghetti_res = esamp.model_results_for_samples(sds, bcm)\n",
    "    spaghetti_res.results.to_hdf(str(bridge.out_path / 'results.hdf'), 'sampled_results')\n",
    "    like_df = esamp.likelihood_extras_for_idata(idata_raw, bcm)\n",
    "    like_df.to_hdf(str(bridge.out_path / 'results.hdf'), 'likelihood_extras')\n",
    "    bridge.logger.info('Calibration complete')\n",
    "\n",
    "mspec = springboard.EC2MachineSpec(8, 2, 'compute')\n",
    "tspec = springboard.TaskSpec(run_calibration,{\"opt_samples\": start_lhs.iloc[0:8].convert('list_of_dicts')})\n",
    "run_path = springboard.launch.get_autumn_project_run_path('aust_covid', 'opt_experiments', 'lhs_constrained_mob_sens0.67_opt100_10k10k_demz')"
   ]
  },
  {
   "cell_type": "code",
   "execution_count": null,
   "id": "4db1b97e-7819-4ad2-baf7-8c24589e96dd",
   "metadata": {},
   "outputs": [],
   "source": [
    "aust_covid_commands = [\n",
    "    'git clone --branch main https://github.com/monash-emu/aust-covid',\n",
    "    'pip install -e ./aust-covid',\n",
    "]\n",
    "runner = springboard.launch.launch_synced_autumn_task(tspec, mspec, run_path, branch=None, extra_commands=aust_covid_commands)"
   ]
  }
 ],
 "metadata": {
  "kernelspec": {
   "display_name": "Python 3 (ipykernel)",
   "language": "python",
   "name": "python3"
  },
  "language_info": {
   "codemirror_mode": {
    "name": "ipython",
    "version": 3
   },
   "file_extension": ".py",
   "mimetype": "text/x-python",
   "name": "python",
   "nbconvert_exporter": "python",
   "pygments_lexer": "ipython3",
   "version": "3.10.11"
  }
 },
 "nbformat": 4,
 "nbformat_minor": 5
}
