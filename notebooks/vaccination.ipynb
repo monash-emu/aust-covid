{
 "cells": [
  {
   "cell_type": "markdown",
   "id": "fc45e6f5-f04e-44df-a5c0-a49598f2529c",
   "metadata": {},
   "source": [
    "## Vaccination\n",
    "Illustration of the rationale for and process of applying the vaccination extension to the base model."
   ]
  },
  {
   "cell_type": "code",
   "execution_count": null,
   "id": "e2e1c035-f160-43c8-b99e-c6188d409b7e",
   "metadata": {},
   "outputs": [],
   "source": [
    "# Uncomment the following commands to install in Colab\n",
    "# Once completed, click the 'Restart runtime' button that will appear to restart the Colab environment\n",
    "# and then proceed to the following cells\n",
    "\n",
    "# !pip uninstall numba -y\n",
    "# !pip uninstall librosa -y\n",
    "# !pip install estival==0.4.7b2 numpy==1.24.3 kaleido"
   ]
  },
  {
   "cell_type": "code",
   "execution_count": null,
   "id": "ea281515-3fe9-4f6c-b73a-eb6af4cd7bff",
   "metadata": {},
   "outputs": [],
   "source": [
    "try:\n",
    "    import google.colab\n",
    "    on_colab = True\n",
    "    ! git clone https://github.com/monash-emu/aust-covid.git --branch finalise-notebooks\n",
    "    %cd aust-covid\n",
    "    %pip install -e ./\n",
    "    import multiprocessing as mp\n",
    "    mp.set_start_method('forkserver')\n",
    "except:\n",
    "    on_colab = False"
   ]
  },
  {
   "cell_type": "code",
   "execution_count": null,
   "id": "82b30bc6",
   "metadata": {},
   "outputs": [],
   "source": [
    "import pandas as pd\n",
    "pd.options.plotting.backend = 'plotly'\n",
    "from aust_covid.inputs import get_base_vacc_data, get_ifrs\n",
    "from aust_covid.vaccination import get_vacc_data_masks, add_derived_data_to_vacc, get_full_vacc_props\n",
    "from aust_covid.plotting import plot_full_vacc, plot_program_coverage, plot_immune_props, plot_vacc_implementation\n",
    "from emutools.tex import DummyTexDoc, StandardTexDoc\n",
    "from inputs.constants import INPUTS_PATH, SUPPLEMENT_PATH\n",
    "from emutools.parameters import load_param_info\n",
    "from aust_covid.utils import add_image_to_doc\n",
    "from aust_covid.model import build_model\n",
    "from aust_covid.extra_text import add_vaccination_blurb_to_tex"
   ]
  },
  {
   "cell_type": "code",
   "execution_count": null,
   "id": "681eefaa-4adc-4a4a-a608-557782a03456",
   "metadata": {},
   "outputs": [],
   "source": [
    "app_doc = StandardTexDoc(SUPPLEMENT_PATH, 'vaccination', 'Vaccination', 'austcovid')"
   ]
  },
  {
   "cell_type": "code",
   "execution_count": null,
   "id": "c10523c1-c482-4c3a-8d49-cd5c15d469a3",
   "metadata": {},
   "outputs": [],
   "source": [
    "vacc_df = get_base_vacc_data()\n",
    "masks = get_vacc_data_masks(vacc_df)\n",
    "vacc_df, lagged_df = add_derived_data_to_vacc(vacc_df)\n",
    "full_prop_df = get_full_vacc_props(vacc_df, masks['age 16+, 2+ doses'])"
   ]
  },
  {
   "cell_type": "code",
   "execution_count": null,
   "id": "0a267267-7210-46da-bec0-e8b15d216f64",
   "metadata": {},
   "outputs": [],
   "source": [
    "full_vacc_fig = plot_full_vacc(masks['age 16+, 2+ doses'], vacc_df, full_prop_df)\n",
    "full_vacc_fig"
   ]
  },
  {
   "cell_type": "code",
   "execution_count": null,
   "id": "f25c37e4-01c7-423d-88ba-aa6092a143c8",
   "metadata": {},
   "outputs": [],
   "source": [
    "caption = \"Second (`full') dose roll-out by age group. Number of persons receiving second dose (upper panel) and \" \\\n",
    "    'proportion of population having received second dose (lower panel). ' \\\n",
    "    'Age groups coloured from cyan (12 to 15 years-old) to purple (95+ years-old). '\n",
    "add_image_to_doc(full_vacc_fig.update_layout(showlegend=False), 'full_vacc', 'svg', 'Full vaccination coverage', app_doc, 'Vaccination', caption=caption)"
   ]
  },
  {
   "cell_type": "code",
   "execution_count": null,
   "id": "8341679f-73ab-4f56-8915-d3e259a13449",
   "metadata": {},
   "outputs": [],
   "source": [
    "coverage_by_program = plot_program_coverage({m: masks[m] for m in ['age 16+, 3+ doses', 'age 16+, 4+ doses', 'age 12-15, 2+ doses', 'age 5-11, 2+ doses']}, vacc_df)\n",
    "add_image_to_doc(coverage_by_program, 'program_coverage', 'svg', 'Vaccination coverage by subsequent programs', app_doc, 'Vaccination')\n",
    "coverage_by_program"
   ]
  },
  {
   "cell_type": "code",
   "execution_count": null,
   "id": "0da5b434-7beb-4c44-b4e5-9d5e9b34e222",
   "metadata": {},
   "outputs": [],
   "source": [
    "caption = 'Booster program for persons aged 16 and above (red line), primary vaccination course for persons aged 5 to 11.'\n",
    "implement_fig = plot_vacc_implementation(vacc_df)\n",
    "add_image_to_doc(implement_fig.update_layout(showlegend=False), 'vacc_implement', 'svg', 'Vaccination implementation.', app_doc, 'Vaccination', caption=caption)\n",
    "implement_fig"
   ]
  },
  {
   "cell_type": "code",
   "execution_count": null,
   "id": "960d2dd8-d3d9-4e04-8f12-2c3f4fae61ed",
   "metadata": {},
   "outputs": [],
   "source": [
    "param_info = load_param_info()\n",
    "param_info['value'].update(get_ifrs(DummyTexDoc()))\n",
    "parameters = param_info['value'].to_dict()\n",
    "vacc_model = build_model(DummyTexDoc(), param_info['abbreviations'], vacc_sens=True)"
   ]
  },
  {
   "cell_type": "code",
   "execution_count": null,
   "id": "63cbae17-3768-4a81-a061-abe0531df0fe",
   "metadata": {},
   "outputs": [],
   "source": [
    "vacc_model.run(parameters=parameters)"
   ]
  },
  {
   "cell_type": "code",
   "execution_count": null,
   "id": "78d1b177-3c18-4ff4-a8d6-f985213777d2",
   "metadata": {},
   "outputs": [],
   "source": [
    "vacc_distribution = plot_immune_props(vacc_model, vacc_df, lagged_df)\n",
    "caption = 'Comparison of modelled and empiric vaccination coverage'\n",
    "vacc_distribution"
   ]
  },
  {
   "cell_type": "code",
   "execution_count": null,
   "id": "75b7491c-56b0-4f33-9750-b3c2cda9c454",
   "metadata": {},
   "outputs": [],
   "source": [
    "caption = 'Reported vaccination coverage by program (dashed black line), and lagged vaccination coverage (dotted black line). ' \\\n",
    "    'Coloured areas represent distribution of population by vaccination status under vaccination extension: not yet vaccinated under program (green), ' \\\n",
    "    'recently vaccinated under program (red), and vaccinated under program but protective effect lost (blue).'\n",
    "add_image_to_doc(vacc_distribution.update_layout(showlegend=False), 'vaccination_distribution', 'svg', 'Comparison of reported to modelled vaccination status distribution. ', app_doc, 'Vaccination', caption=caption)\n",
    "add_vaccination_blurb_to_tex(app_doc)\n",
    "app_doc.write_doc()"
   ]
  },
  {
   "cell_type": "code",
   "execution_count": null,
   "id": "e48a0a15-45cb-45e1-9768-7afee19fcbb3",
   "metadata": {},
   "outputs": [],
   "source": [
    "if on_colab:\n",
    "    # To build a PDF, we need the appropriate tex packages installed\n",
    "    ! apt-get -y install texlive-latex-base texlive-fonts-recommended texlive-fonts-extra texlive-latex-extra texlive-bibtex-extra biber\n",
    "    # To avoid clutter and navigate to the right directory\n",
    "    import os\n",
    "    os.chdir(SUPPLEMENT_PATH)\n",
    "    # And finally build the formatted PDF, repeated commands are necessary\n",
    "    ! pdflatex vaccination\n",
    "    ! biber vaccination\n",
    "    ! pdflatex vaccination\n",
    "    ! pdflatex vaccination"
   ]
  }
 ],
 "metadata": {
  "kernelspec": {
   "display_name": "Python 3 (ipykernel)",
   "language": "python",
   "name": "python3"
  },
  "language_info": {
   "codemirror_mode": {
    "name": "ipython",
    "version": 3
   },
   "file_extension": ".py",
   "mimetype": "text/x-python",
   "name": "python",
   "nbconvert_exporter": "python",
   "pygments_lexer": "ipython3",
   "version": "3.10.0"
  }
 },
 "nbformat": 4,
 "nbformat_minor": 5
}
