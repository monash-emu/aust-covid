{
 "cells": [
  {
   "cell_type": "markdown",
   "id": "0",
   "metadata": {},
   "source": [
    "## Vaccination\n",
    "Illustration of the rationale for and process of applying the vaccination extension to the base model."
   ]
  },
  {
   "cell_type": "code",
   "execution_count": null,
   "id": "1",
   "metadata": {},
   "outputs": [],
   "source": [
    "import pandas as pd\n",
    "pd.options.plotting.backend = \"plotly\"\n",
    "from aust_covid.constants import set_project_base_path\n",
    "from aust_covid.inputs import get_base_vacc_data, get_ifrs\n",
    "from aust_covid.vaccination import get_vacc_data_masks, add_derived_data_to_vacc, get_full_vacc_props\n",
    "from aust_covid.plotting import plot_full_vacc, plot_program_coverage, plot_immune_props, plot_vacc_implementation\n",
    "from emutools.tex import DummyTexDoc\n",
    "from emutools.utils import load_param_info\n",
    "from aust_covid.model import build_model\n",
    "\n",
    "project_paths = set_project_base_path(\"../\")\n",
    "SUPPLEMENT_PATH = project_paths[\"SUPPLEMENT_PATH\"]\n",
    "RUNS_PATH = project_paths[\"RUNS_PATH\"]"
   ]
  },
  {
   "cell_type": "code",
   "execution_count": null,
   "id": "2",
   "metadata": {},
   "outputs": [],
   "source": [
    "vacc_df = get_base_vacc_data()\n",
    "masks = get_vacc_data_masks(vacc_df)\n",
    "vacc_df, lagged_df = add_derived_data_to_vacc(vacc_df)\n",
    "full_prop_df = get_full_vacc_props(vacc_df, masks[\"age 16+, 2+ doses\"])"
   ]
  },
  {
   "cell_type": "markdown",
   "id": "3",
   "metadata": {},
   "source": [
    "### Illustration of programs not implemented"
   ]
  },
  {
   "cell_type": "code",
   "execution_count": null,
   "id": "4",
   "metadata": {},
   "outputs": [],
   "source": [
    "plot_full_vacc(masks[\"age 16+, 2+ doses\"], vacc_df, full_prop_df)"
   ]
  },
  {
   "cell_type": "markdown",
   "id": "5",
   "metadata": {},
   "source": [
    "### Illustration of coverage progression of potentially relevant programs"
   ]
  },
  {
   "cell_type": "code",
   "execution_count": null,
   "id": "6",
   "metadata": {},
   "outputs": [],
   "source": [
    "plot_program_coverage({m: masks[m] for m in [\"age 16+, 3+ doses\", \"age 16+, 4+ doses\", \"age 12-15, 2+ doses\", \"age 5-11, 2+ doses\"]}, vacc_df)"
   ]
  },
  {
   "cell_type": "markdown",
   "id": "7",
   "metadata": {},
   "source": [
    "### Illustration of processing for model implementation"
   ]
  },
  {
   "cell_type": "code",
   "execution_count": null,
   "id": "8",
   "metadata": {},
   "outputs": [],
   "source": [
    "plot_vacc_implementation(vacc_df)"
   ]
  },
  {
   "cell_type": "markdown",
   "id": "9",
   "metadata": {},
   "source": [
    "### Check application to model"
   ]
  },
  {
   "cell_type": "code",
   "execution_count": null,
   "id": "10",
   "metadata": {},
   "outputs": [],
   "source": [
    "param_info = load_param_info()\n",
    "param_info[\"value\"].update(get_ifrs(DummyTexDoc()))\n",
    "parameters = param_info[\"value\"].to_dict()\n",
    "vacc_model = build_model(DummyTexDoc(), param_info[\"abbreviations\"], vacc_ext=True)\n",
    "vacc_model.run(parameters=parameters)"
   ]
  },
  {
   "cell_type": "code",
   "execution_count": null,
   "id": "11",
   "metadata": {},
   "outputs": [],
   "source": [
    "vacc_distribution = plot_immune_props(vacc_model, vacc_df, lagged_df)\n",
    "caption = \"Comparison of modelled and empiric vaccination coverage\"\n",
    "vacc_distribution"
   ]
  }
 ],
 "metadata": {
  "kernelspec": {
   "display_name": "Python 3 (ipykernel)",
   "language": "python",
   "name": "python3"
  },
  "language_info": {
   "codemirror_mode": {
    "name": "ipython",
    "version": 3
   },
   "file_extension": ".py",
   "mimetype": "text/x-python",
   "name": "python",
   "nbconvert_exporter": "python",
   "pygments_lexer": "ipython3",
   "version": "3.10.14"
  }
 },
 "nbformat": 4,
 "nbformat_minor": 5
}
