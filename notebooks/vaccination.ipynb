{
 "cells": [
  {
   "cell_type": "markdown",
   "id": "fc45e6f5-f04e-44df-a5c0-a49598f2529c",
   "metadata": {},
   "source": [
    "## Vaccination\n",
    "Illustration of the rationale for and process of applying the vaccination extension to the base model."
   ]
  },
  {
   "cell_type": "code",
   "execution_count": null,
   "id": "e2e1c035-f160-43c8-b99e-c6188d409b7e",
   "metadata": {},
   "outputs": [],
   "source": [
    "# Uncomment the following commands to install in Colab\n",
    "# Once completed, click the 'Restart runtime' button that will appear to restart the Colab environment\n",
    "# and then proceed to the following cells\n",
    "\n",
    "# !pip uninstall numba -y\n",
    "# !pip uninstall librosa -y\n",
    "# !pip install estival==0.4.7b2 numpy==1.24.3 kaleido"
   ]
  },
  {
   "cell_type": "code",
   "execution_count": null,
   "id": "ea281515-3fe9-4f6c-b73a-eb6af4cd7bff",
   "metadata": {},
   "outputs": [],
   "source": [
    "try:\n",
    "    import google.colab\n",
    "    on_colab = True\n",
    "    ! git clone https://github.com/monash-emu/aust-covid.git --branch finalise-notebooks\n",
    "    %cd aust-covid\n",
    "    %pip install -e ./\n",
    "    import multiprocessing as mp\n",
    "    mp.set_start_method('forkserver')\n",
    "except:\n",
    "    on_colab = False"
   ]
  },
  {
   "cell_type": "code",
   "execution_count": null,
   "id": "82b30bc6",
   "metadata": {},
   "outputs": [],
   "source": [
    "import pandas as pd\n",
    "pd.options.plotting.backend = 'plotly'\n",
    "from aust_covid.inputs import get_base_vacc_data, get_ifrs\n",
    "from aust_covid.vaccination import get_vacc_data_masks, add_derived_data_to_vacc\n",
    "from aust_covid.plotting import plot_full_vacc, plot_program_coverage, plot_immune_props\n",
    "from emutools.tex import DummyTexDoc, StandardTexDoc\n",
    "from inputs.constants import INPUTS_PATH, SUPPLEMENT_PATH\n",
    "from emutools.parameters import load_param_info\n",
    "from aust_covid.utils import add_image_to_doc\n",
    "from aust_covid.model import build_model"
   ]
  },
  {
   "cell_type": "code",
   "execution_count": null,
   "id": "681eefaa-4adc-4a4a-a608-557782a03456",
   "metadata": {},
   "outputs": [],
   "source": [
    "app_doc = StandardTexDoc(SUPPLEMENT_PATH, 'vaccination', 'Vaccination', 'austcovid')"
   ]
  },
  {
   "cell_type": "code",
   "execution_count": null,
   "id": "c10523c1-c482-4c3a-8d49-cd5c15d469a3",
   "metadata": {},
   "outputs": [],
   "source": [
    "vacc_df = get_base_vacc_data()\n",
    "masks = get_vacc_data_masks(vacc_df)\n",
    "vacc_df, lagged_df = add_derived_data_to_vacc(vacc_df)"
   ]
  },
  {
   "cell_type": "code",
   "execution_count": null,
   "id": "0a267267-7210-46da-bec0-e8b15d216f64",
   "metadata": {},
   "outputs": [],
   "source": [
    "full_vacc_fig = plot_full_vacc(masks['age 16+, 2+ doses'], vacc_df)\n",
    "add_image_to_doc(full_vacc_fig, 'full_vacc', 'svg', 'Full vaccination coverage', app_doc, 'Vaccination')\n",
    "full_vacc_fig"
   ]
  },
  {
   "cell_type": "code",
   "execution_count": null,
   "id": "8341679f-73ab-4f56-8915-d3e259a13449",
   "metadata": {},
   "outputs": [],
   "source": [
    "coverage_by_program = plot_program_coverage({m: masks[m] for m in ['age 16+, 3+ doses', 'age 16+, 4+ doses', 'age 12-15, 2+ doses', 'age 5-11, 2+ doses']}, vacc_df)\n",
    "add_image_to_doc(coverage_by_program, 'program_coverage', 'svg', 'Vaccination coverage by subsequent programs', app_doc, 'Vaccination')\n",
    "coverage_by_program"
   ]
  },
  {
   "cell_type": "code",
   "execution_count": null,
   "id": "8ea820b3-9444-498a-a3e1-6bdddf690faf",
   "metadata": {},
   "outputs": [],
   "source": [
    "vaccinated_by_modelled_group = vacc_df[['primary full', 'adult booster']].plot()\n",
    "vaccinated_by_modelled_group.update_layout(xaxis_title='', yaxis_title='persons vaccinated', height=350)\n",
    "add_image_to_doc(vaccinated_by_modelled_group, 'modelled_group_vacc', 'svg', 'Vaccination numbers by modelled vaccination groups', app_doc, 'Vaccination')\n",
    "vaccinated_by_modelled_group"
   ]
  },
  {
   "cell_type": "code",
   "execution_count": null,
   "id": "a7e584bf-7460-4fa4-8052-24373c94706a",
   "metadata": {},
   "outputs": [],
   "source": [
    "coverage_by_modelled_group = vacc_df[['prop primary full', 'prop adult booster']].plot(labels={'xaxis': 'fsldkjsf'})\n",
    "coverage_by_modelled_group.update_layout(xaxis_title='', yaxis_title='coverage', height=350)\n",
    "add_image_to_doc(vaccinated_by_modelled_group, 'modelled_group_prop', 'svg', 'Vaccination coverage by modelled vaccination groups', app_doc, 'Vaccination')\n",
    "coverage_by_modelled_group"
   ]
  },
  {
   "cell_type": "code",
   "execution_count": null,
   "id": "a3f16acd-14dd-43bd-a80e-8b28d021b3d0",
   "metadata": {},
   "outputs": [],
   "source": [
    "vacc_rates_by_modelled_group = vacc_df[['rate primary full', 'rate adult booster']].plot()\n",
    "vacc_rates_by_modelled_group.update_layout(xaxis_title='', yaxis_title='coverage', height=350)\n",
    "add_image_to_doc(vaccinated_by_modelled_group, 'modelled_group_rates', 'svg', 'Vaccination rates by modelled vaccination groups', app_doc, 'Vaccination')\n",
    "vacc_rates_by_modelled_group"
   ]
  },
  {
   "cell_type": "code",
   "execution_count": null,
   "id": "960d2dd8-d3d9-4e04-8f12-2c3f4fae61ed",
   "metadata": {},
   "outputs": [],
   "source": [
    "param_info = load_param_info()\n",
    "param_info['value'].update(get_ifrs(DummyTexDoc()))\n",
    "parameters = param_info['value'].to_dict()\n",
    "vacc_model = build_model(app_doc, vacc_sens=True)"
   ]
  },
  {
   "cell_type": "code",
   "execution_count": null,
   "id": "63cbae17-3768-4a81-a061-abe0531df0fe",
   "metadata": {},
   "outputs": [],
   "source": [
    "vacc_model.run(parameters=parameters)"
   ]
  },
  {
   "cell_type": "code",
   "execution_count": null,
   "id": "78d1b177-3c18-4ff4-a8d6-f985213777d2",
   "metadata": {},
   "outputs": [],
   "source": [
    "vacc_distribution = plot_immune_props(vacc_model, vacc_df, lagged_df)\n",
    "caption = 'Comparison of modelled and empiric vaccination coverage'\n",
    "vacc_distribution"
   ]
  },
  {
   "cell_type": "code",
   "execution_count": null,
   "id": "75b7491c-56b0-4f33-9750-b3c2cda9c454",
   "metadata": {},
   "outputs": [],
   "source": [
    "caption = 'Reported vaccination coverage by program (dashed black line), and lagged vaccination coverage (dotted black line). ' \\\n",
    "    'Coloured areas represent distribution of population by vaccination status under vaccination extension: not yet vaccinated under program (green), ' \\\n",
    "    'recently vaccinated under program (red), and vaccinated under program but protective effect lost (blue).'\n",
    "add_image_to_doc(vacc_distribution.update_layout(showlegend=False), 'vaccination_distribution', 'svg', 'Comparison of reported to modelled vaccination status distribution. ', app_doc, 'Vaccination', caption=caption)\n",
    "app_doc.write_doc()"
   ]
  },
  {
   "cell_type": "code",
   "execution_count": null,
   "id": "e48a0a15-45cb-45e1-9768-7afee19fcbb3",
   "metadata": {},
   "outputs": [],
   "source": [
    "if on_colab:\n",
    "    # To build a PDF, we need the appropriate tex packages installed\n",
    "    ! apt-get -y install texlive-latex-base texlive-fonts-recommended texlive-fonts-extra texlive-latex-extra texlive-bibtex-extra biber\n",
    "    # To avoid clutter and navigate to the right directory\n",
    "    import os\n",
    "    os.chdir(SUPPLEMENT_PATH)\n",
    "    # And finally build the formatted PDF, repeated commands are necessary\n",
    "    ! pdflatex vaccination\n",
    "    ! biber vaccination\n",
    "    ! pdflatex vaccination\n",
    "    ! pdflatex vaccination"
   ]
  }
 ],
 "metadata": {
  "kernelspec": {
   "display_name": "Python 3 (ipykernel)",
   "language": "python",
   "name": "python3"
  },
  "language_info": {
   "codemirror_mode": {
    "name": "ipython",
    "version": 3
   },
   "file_extension": ".py",
   "mimetype": "text/x-python",
   "name": "python",
   "nbconvert_exporter": "python",
   "pygments_lexer": "ipython3",
   "version": "3.10.11"
  }
 },
 "nbformat": 4,
 "nbformat_minor": 5
}
