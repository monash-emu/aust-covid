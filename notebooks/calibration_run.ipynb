{
 "cells": [
  {
   "cell_type": "code",
   "execution_count": null,
   "id": "639b229a-ae5c-4299-a28c-f727cd75a517",
   "metadata": {},
   "outputs": [],
   "source": [
    "import numpy as np\n",
    "import pymc as pm\n",
    "from jax import numpy as jnp\n",
    "import arviz as az\n",
    "\n",
    "from estival.model import BayesianCompartmentalModel\n",
    "from estival.wrappers import pymc as epm\n",
    "from estival.sampling import tools as esamp\n",
    "from estival.utils.sample import SampleTypes\n",
    "\n",
    "from inputs.constants import INPUTS_PATH, SUPPLEMENT_PATH\n",
    "from autumn.infrastructure.remote import springboard\n",
    "from aust_covid.inputs import get_ifrs\n",
    "from aust_covid.model import build_model\n",
    "from aust_covid.calibration import get_priors, get_targets\n",
    "from emutools.tex import StandardTexDoc\n",
    "from emutools.inputs import load_param_info\n",
    "from emutools.calibration import param_table_to_tex, round_sigfig, tabulate_priors"
   ]
  },
  {
   "cell_type": "code",
   "execution_count": null,
   "id": "4cfe6efa-3965-44f1-8487-384c4d42ab3d",
   "metadata": {},
   "outputs": [],
   "source": [
    "app_doc = StandardTexDoc(SUPPLEMENT_PATH, 'supplement', \"Australia's 2023 Omicron Waves Supplement\", 'austcovid')"
   ]
  },
  {
   "cell_type": "code",
   "execution_count": null,
   "id": "0839a928-3ff8-4f11-8aa7-e591d335c1eb",
   "metadata": {},
   "outputs": [],
   "source": [
    "param_info = load_param_info(INPUTS_PATH / 'parameters.yml')\n",
    "ifrs = get_ifrs(app_doc)\n",
    "param_info['value'].update(ifrs)\n",
    "parameters = param_info['value'].to_dict()"
   ]
  },
  {
   "cell_type": "code",
   "execution_count": null,
   "id": "c4ee5821-390b-446a-8f37-ac5d23a62fb4",
   "metadata": {},
   "outputs": [],
   "source": [
    "aust_model = build_model(app_doc)"
   ]
  },
  {
   "cell_type": "code",
   "execution_count": null,
   "id": "083af55a-c217-4322-bf70-8c348c1b280b",
   "metadata": {},
   "outputs": [],
   "source": [
    "priors = get_priors()\n",
    "prior_names = [p.name for p in priors]\n",
    "targets = get_targets(app_doc)"
   ]
  },
  {
   "cell_type": "code",
   "execution_count": null,
   "id": "522025dc-b731-4ca2-9064-c605a261f4c2",
   "metadata": {},
   "outputs": [],
   "source": [
    "bcm = BayesianCompartmentalModel(aust_model, parameters, priors, targets)"
   ]
  },
  {
   "cell_type": "code",
   "execution_count": null,
   "id": "383dc7e2-6b6d-4880-8a78-a9568edbb0a0",
   "metadata": {},
   "outputs": [],
   "source": [
    "app_doc.include_table(param_table_to_tex(param_info, prior_names), section='Parameters', col_splits=[0.17, 0.15, 0.15, 0.53], longtable=True)\n",
    "app_doc.include_table(tabulate_priors(priors, param_info), section='Calibration', col_splits=[0.25] * 4)"
   ]
  },
  {
   "cell_type": "markdown",
   "id": "52bb0821-5e8a-47be-980f-b044700ea73d",
   "metadata": {},
   "source": [
    "Following cell checks the calibration runs without error"
   ]
  },
  {
   "cell_type": "code",
   "execution_count": null,
   "id": "00a01865-bf5f-4523-87a0-043e731204ec",
   "metadata": {},
   "outputs": [],
   "source": [
    "# with pm.Model() as pm_model:\n",
    "#     variables = epm.use_model(bcm)\n",
    "#     idata_local = pm.sample(step=[pm.DEMetropolis(variables)], draws=100, tune=0, cores=3, chains=18, progressbar=True)\n",
    "# idata_local.to_netcdf('calibration_out.nc')"
   ]
  },
  {
   "cell_type": "code",
   "execution_count": null,
   "id": "a74b2690-e268-4dcf-b4a1-aaa66075e0ca",
   "metadata": {},
   "outputs": [],
   "source": [
    "def get_acceptable_start_params(n_params_target):\n",
    "    params = []\n",
    "    while len(params) < n_params_target:\n",
    "        for new_params in bcm.sample.lhs(n_params_target - len(params), SampleTypes.LIST_OF_DICTS):\n",
    "            if bcm.run(parameters | new_params, include_extras=True).extras['ll_components']['seropos_ceiling'][0] == 0.0:\n",
    "                params.append(new_params)\n",
    "    return params"
   ]
  },
  {
   "cell_type": "code",
   "execution_count": null,
   "id": "bf9b6ba1-1c99-453a-a72c-6e94fab55178",
   "metadata": {},
   "outputs": [],
   "source": [
    "def run_calibration(bridge: springboard.task.TaskBridge, bcm: BayesianCompartmentalModel):\n",
    "    import multiprocessing as mp\n",
    "    mp.set_start_method('forkserver')\n",
    "    \n",
    "    n_chains = 8\n",
    "    starting_params = get_acceptable_start_params(n_chains)\n",
    "\n",
    "    with pm.Model() as pm_model:\n",
    "        variables = epm.use_model(bcm)\n",
    "        idata_raw = pm.sample(step=[pm.DEMetropolisZ(variables)], draws=5000, tune=2000, cores=8, chains=n_chains, progressbar=False, initvals=starting_params)\n",
    "\n",
    "    idata_raw.to_netcdf(str(bridge.out_path / 'calibration_out.nc'))\n",
    "    burnt_idata = idata_raw.sel(draw=np.s_[1000:])\n",
    "    sds = az.extract(burnt_idata, num_samples=100)\n",
    "    spaghetti_res = esamp.model_results_for_samples(sds, bcm)\n",
    "    spaghetti_res.results.to_hdf(str(bridge.out_path / 'results.hdf'), 's')\n",
    "    like_df = esamp.likelihood_extras_for_idata(idata_raw, bcm)\n",
    "    like_df.to_hdf(str(bridge.out_path / 'results.hdf'), 'l')\n",
    "    bridge.logger.info('Calibration complete')\n",
    "\n",
    "mspec = springboard.EC2MachineSpec(8, 2, 'compute')\n",
    "tspec = springboard.TaskSpec(run_calibration, {'bcm': bcm})\n",
    "run_path = springboard.launch.get_autumn_project_run_path('aust_covid', 'base_case_analysis', 'lhs_in_range_DEMZ_try_again')"
   ]
  },
  {
   "cell_type": "code",
   "execution_count": null,
   "id": "4db1b97e-7819-4ad2-baf7-8c24589e96dd",
   "metadata": {},
   "outputs": [],
   "source": [
    "aust_covid_commands = [\n",
    "    'git clone --branch preliminary-optimisation https://github.com/monash-emu/aust-covid',\n",
    "    'pip install -e ./aust-covid',\n",
    "]\n",
    "runner = springboard.launch.launch_synced_autumn_task(tspec, mspec, run_path, branch=None, extra_commands=aust_covid_commands)"
   ]
  }
 ],
 "metadata": {
  "kernelspec": {
   "display_name": "Python 3 (ipykernel)",
   "language": "python",
   "name": "python3"
  },
  "language_info": {
   "codemirror_mode": {
    "name": "ipython",
    "version": 3
   },
   "file_extension": ".py",
   "mimetype": "text/x-python",
   "name": "python",
   "nbconvert_exporter": "python",
   "pygments_lexer": "ipython3",
   "version": "3.10.0"
  }
 },
 "nbformat": 4,
 "nbformat_minor": 5
}
