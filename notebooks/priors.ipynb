{
    "cells": [
        {
            "cell_type": "markdown",
            "id": "340fff55-8070-4059-a2eb-5da0bc258198",
            "metadata": {},
            "source": [
                "## Priors\n",
                "Illustrate the priors used in calibration."
            ]
        },
        {
            "cell_type": "code",
            "execution_count": null,
            "id": "a4a7c0ba",
            "metadata": {},
            "outputs": [],
            "source": [
                "from emutools.calibration import plot_priors, tabulate_priors\n",
                "from aust_covid.calibration import get_all_priors\n",
                "from emutools.utils import load_param_info"
            ]
        },
        {
            "cell_type": "code",
            "execution_count": null,
            "id": "1a9abfb2-1209-45f7-8e08-5d0a87b5e5e3",
            "metadata": {},
            "outputs": [],
            "source": [
                "all_priors = get_all_priors()\n",
                "param_info = load_param_info()\n",
                "tabulate_priors(all_priors, param_info)"
            ]
        },
        {
            "cell_type": "code",
            "execution_count": null,
            "id": "0c82636d-50a8-4221-ace2-ea59c5e52e81",
            "metadata": {},
            "outputs": [],
            "source": [
                "plot_priors(all_priors, param_info['abbreviations'], 5, 100, 0.1, 0.99)"
            ]
        }
    ],
    "metadata": {
        "kernelspec": {
            "display_name": "Python 3 (ipykernel)",
            "language": "python",
            "name": "python3"
        },
        "language_info": {
            "codemirror_mode": {
                "name": "ipython",
                "version": 3
            },
            "file_extension": ".py",
            "mimetype": "text/x-python",
            "name": "python",
            "nbconvert_exporter": "python",
            "pygments_lexer": "ipython3",
            "version": "3.10.14"
        }
    },
    "nbformat": 4,
    "nbformat_minor": 5
}