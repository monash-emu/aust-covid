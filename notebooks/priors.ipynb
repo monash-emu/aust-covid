{
 "cells": [
  {
   "cell_type": "markdown",
   "id": "340fff55-8070-4059-a2eb-5da0bc258198",
   "metadata": {},
   "source": [
    "## Priors\n",
    "Illustrate priors used in calibration."
   ]
  },
  {
   "cell_type": "code",
   "execution_count": null,
   "id": "1c4d26a3-0a89-4ec9-aa77-423090806b68",
   "metadata": {},
   "outputs": [],
   "source": [
    "# Uncomment the following commands to install in Colab\n",
    "# Once completed, click the 'Restart runtime' button that will appear to restart the Colab environment\n",
    "# and then proceed to the following cells\n",
    "\n",
    "# !pip uninstall numba -y\n",
    "# !pip uninstall librosa -y\n",
    "# !pip install estival==0.4.7b2 numpy==1.24.3 kaleido"
   ]
  },
  {
   "cell_type": "code",
   "execution_count": null,
   "id": "0b9f2e60-c6d6-461f-8f68-9d26c0b2f2e8",
   "metadata": {},
   "outputs": [],
   "source": [
    "try:\n",
    "    import google.colab\n",
    "    on_colab = True\n",
    "    ! git clone https://github.com/monash-emu/aust-covid.git --branch finalise-notebooks\n",
    "    %cd aust-covid\n",
    "    %pip install -e ./\n",
    "    import multiprocessing as mp\n",
    "    mp.set_start_method('forkserver')\n",
    "except:\n",
    "    on_colab = False"
   ]
  },
  {
   "cell_type": "code",
   "execution_count": null,
   "id": "f4a94855-24d4-48de-afae-61241857c8a7",
   "metadata": {},
   "outputs": [],
   "source": [
    "from emutools.calibration import plot_priors, tabulate_priors\n",
    "from inputs.constants import SUPPLEMENT_PATH\n",
    "from aust_covid.calibration import get_priors, get_all_priors\n",
    "from emutools.tex import StandardTexDoc, add_image_to_doc\n",
    "from emutools.utils import load_param_info"
   ]
  },
  {
   "cell_type": "code",
   "execution_count": null,
   "id": "1a9abfb2-1209-45f7-8e08-5d0a87b5e5e3",
   "metadata": {},
   "outputs": [],
   "source": [
    "all_priors = get_all_priors()\n",
    "param_info = load_param_info()\n",
    "priors_table = tabulate_priors(all_priors, param_info)\n",
    "priors_table"
   ]
  },
  {
   "cell_type": "code",
   "execution_count": null,
   "id": "0c82636d-50a8-4221-ace2-ea59c5e52e81",
   "metadata": {},
   "outputs": [],
   "source": [
    "fig = plot_priors(all_priors, param_info['abbreviations'], 5, 100, 0.1, 0.99)\n",
    "fig"
   ]
  },
  {
   "cell_type": "code",
   "execution_count": null,
   "id": "913ad7ed-b269-4f49-9d91-9cf5ef5f0d08",
   "metadata": {},
   "outputs": [],
   "source": [
    "app_doc = StandardTexDoc(SUPPLEMENT_PATH, 'priors', 'Priors', 'austcovid')\n",
    "get_priors(True, param_info['abbreviations'], app_doc)\n",
    "app_doc.include_table(priors_table, 'priors_table', 'Priors', section='Calibration', col_splits=[0.25] * 4)\n",
    "caption = 'Illustrations of prior distributions implemented in calibration algorithm.'\n",
    "add_image_to_doc(fig, 'prior_distributions', 'svg', caption, app_doc, 'Priors')\n",
    "app_doc.write_doc()"
   ]
  },
  {
   "cell_type": "code",
   "execution_count": null,
   "id": "6b54cc4c-4d4d-4982-b551-0e1b4f580408",
   "metadata": {},
   "outputs": [],
   "source": [
    "if on_colab:\n",
    "    # To build a PDF, we need the appropriate tex packages installed\n",
    "    ! apt-get -y install texlive-latex-base texlive-fonts-recommended texlive-fonts-extra texlive-latex-extra texlive-bibtex-extra biber\n",
    "    # To avoid clutter and navigate to the right directory\n",
    "    import os\n",
    "    os.chdir(SUPPLEMENT_PATH)\n",
    "    # And finally build the formatted PDF, repeated commands are necessary\n",
    "    ! pdflatex supplement\n",
    "    ! biber supplement\n",
    "    ! pdflatex supplement\n",
    "    ! pdflatex supplement"
   ]
  }
 ],
 "metadata": {
  "kernelspec": {
   "display_name": "Python 3 (ipykernel)",
   "language": "python",
   "name": "python3"
  },
  "language_info": {
   "codemirror_mode": {
    "name": "ipython",
    "version": 3
   },
   "file_extension": ".py",
   "mimetype": "text/x-python",
   "name": "python",
   "nbconvert_exporter": "python",
   "pygments_lexer": "ipython3",
   "version": "3.10.11"
  }
 },
 "nbformat": 4,
 "nbformat_minor": 5
}
