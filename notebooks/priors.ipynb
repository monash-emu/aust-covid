{
 "cells": [
  {
   "cell_type": "code",
   "execution_count": null,
   "id": "f4a94855-24d4-48de-afae-61241857c8a7",
   "metadata": {},
   "outputs": [],
   "source": [
    "from emutools.calibration import plot_priors, tabulate_priors\n",
    "from inputs.constants import INPUTS_PATH, SUPPLEMENT_PATH\n",
    "from aust_covid.calibration import get_priors\n",
    "from emutools.tex import StandardTexDoc\n",
    "from emutools.parameters import load_param_info\n",
    "from aust_covid.utils import add_image_to_doc"
   ]
  },
  {
   "cell_type": "code",
   "execution_count": null,
   "id": "1a9abfb2-1209-45f7-8e08-5d0a87b5e5e3",
   "metadata": {},
   "outputs": [],
   "source": [
    "priors = get_priors(False)\n",
    "param_info = load_param_info()\n",
    "priors_table = tabulate_priors(priors, param_info)\n",
    "print('Parameters without vaccination structure')\n",
    "priors_table"
   ]
  },
  {
   "cell_type": "code",
   "execution_count": null,
   "id": "0c82636d-50a8-4221-ace2-ea59c5e52e81",
   "metadata": {},
   "outputs": [],
   "source": [
    "fig = plot_priors(priors, param_info['abbreviations'], 5, 100, 0.1, 0.99)\n",
    "print('Priors without vaccination structure')\n",
    "fig"
   ]
  },
  {
   "cell_type": "code",
   "execution_count": null,
   "id": "231bb200-a553-45dc-be53-2a622aca9875",
   "metadata": {},
   "outputs": [],
   "source": [
    "priors = get_priors(True)\n",
    "param_info = load_param_info()\n",
    "priors_table = tabulate_priors(priors, param_info)\n",
    "print('Parameters with vaccination structure')\n",
    "priors_table"
   ]
  },
  {
   "cell_type": "code",
   "execution_count": null,
   "id": "c80b713a-a62b-44d6-bf2a-c42843c818cb",
   "metadata": {},
   "outputs": [],
   "source": [
    "fig = plot_priors(priors, param_info['abbreviations'], 5, 100, 0.1, 0.99)\n",
    "print('Priors with vaccination structure')\n",
    "fig"
   ]
  },
  {
   "cell_type": "code",
   "execution_count": null,
   "id": "913ad7ed-b269-4f49-9d91-9cf5ef5f0d08",
   "metadata": {},
   "outputs": [],
   "source": [
    "app_doc = StandardTexDoc(SUPPLEMENT_PATH, 'priors', 'Priors', 'austcovid')\n",
    "app_doc.include_table(priors_table, section='Calibration', col_splits=[0.25] * 4)\n",
    "caption = 'Illustrations of prior distributions implemented in calibration algorithm.'\n",
    "add_image_to_doc(fig, 'prior_distributions', caption, app_doc, 'Calibration')\n",
    "app_doc.write_doc()"
   ]
  }
 ],
 "metadata": {
  "kernelspec": {
   "display_name": "Python 3 (ipykernel)",
   "language": "python",
   "name": "python3"
  },
  "language_info": {
   "codemirror_mode": {
    "name": "ipython",
    "version": 3
   },
   "file_extension": ".py",
   "mimetype": "text/x-python",
   "name": "python",
   "nbconvert_exporter": "python",
   "pygments_lexer": "ipython3",
   "version": "3.10.0"
  }
 },
 "nbformat": 4,
 "nbformat_minor": 5
}
