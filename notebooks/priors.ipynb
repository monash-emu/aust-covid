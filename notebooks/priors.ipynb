{
 "cells": [
  {
   "cell_type": "code",
   "execution_count": null,
   "id": "c3cb81da-e444-476d-adcd-9301eb78656c",
   "metadata": {},
   "outputs": [],
   "source": [
    "from pathlib import Path"
   ]
  },
  {
   "cell_type": "code",
   "execution_count": null,
   "id": "6d19b310-e5dc-4998-aeeb-5f54c09cb94e",
   "metadata": {},
   "outputs": [],
   "source": [
    "try:\n",
    "    import google.colab\n",
    "    %pip install estival\n",
    "    %pip install pylatex==1.4.1\n",
    "    %pip install kaleido\n",
    "    ! git clone https://github.com/monash-emu/aust-covid\n",
    "    %cd aust-covid\n",
    "    %pip install -e ./\n",
    "    PROJECT_PATH = Path().resolve()\n",
    "    import multiprocessing as mp\n",
    "    mp.set_start_method('forkserver')\n",
    "except:\n",
    "    PROJECT_PATH = Path().resolve().parent"
   ]
  },
  {
   "cell_type": "code",
   "execution_count": null,
   "id": "f4a94855-24d4-48de-afae-61241857c8a7",
   "metadata": {},
   "outputs": [],
   "source": [
    "from emutools.calibration import plot_priors, tabulate_priors\n",
    "from inputs.constants import INPUTS_PATH, SUPPLEMENT_PATH\n",
    "from aust_covid.calibration import get_priors, get_all_priors\n",
    "from emutools.tex import StandardTexDoc\n",
    "from emutools.parameters import load_param_info\n",
    "from aust_covid.utils import add_image_to_doc"
   ]
  },
  {
   "cell_type": "code",
   "execution_count": null,
   "id": "1a9abfb2-1209-45f7-8e08-5d0a87b5e5e3",
   "metadata": {},
   "outputs": [],
   "source": [
    "all_priors = get_all_priors()\n",
    "param_info = load_param_info()\n",
    "priors_table = tabulate_priors(all_priors, param_info)\n",
    "priors_table"
   ]
  },
  {
   "cell_type": "code",
   "execution_count": null,
   "id": "0c82636d-50a8-4221-ace2-ea59c5e52e81",
   "metadata": {},
   "outputs": [],
   "source": [
    "fig = plot_priors(all_priors, param_info['abbreviations'], 5, 100, 0.1, 0.99)\n",
    "fig"
   ]
  },
  {
   "cell_type": "code",
   "execution_count": null,
   "id": "913ad7ed-b269-4f49-9d91-9cf5ef5f0d08",
   "metadata": {},
   "outputs": [],
   "source": [
    "app_doc = StandardTexDoc(SUPPLEMENT_PATH, 'priors', 'Priors', 'austcovid')\n",
    "get_priors(True, app_doc)\n",
    "app_doc.include_table(priors_table, section='Calibration', col_splits=[0.25] * 4)\n",
    "caption = 'Illustrations of prior distributions implemented in calibration algorithm.'\n",
    "add_image_to_doc(fig, 'prior_distributions', caption, app_doc, 'Priors')\n",
    "app_doc.write_doc()"
   ]
  }
 ],
 "metadata": {
  "kernelspec": {
   "display_name": "Python 3 (ipykernel)",
   "language": "python",
   "name": "python3"
  },
  "language_info": {
   "codemirror_mode": {
    "name": "ipython",
    "version": 3
   },
   "file_extension": ".py",
   "mimetype": "text/x-python",
   "name": "python",
   "nbconvert_exporter": "python",
   "pygments_lexer": "ipython3",
   "version": "3.10.0"
  }
 },
 "nbformat": 4,
 "nbformat_minor": 5
}
