{
 "cells": [
  {
   "cell_type": "markdown",
   "id": "340fff55-8070-4059-a2eb-5da0bc258198",
   "metadata": {},
   "source": [
    "## Priors\n",
    "Illustrate priors used in calibration.\n",
    "\n",
    "### Running over Colab\n",
    "Uncomment the commands in the following cell to install in Colab.\n",
    "Once completed, click the 'Restart runtime' button that will appear to restart the Colab environment and then proceed to the following cells.\n",
    "\n",
    "### Generating documentation\n",
    "Running the final cell will take several minutes and will generate the corresponding PDF documentation.\n",
    "This can be downloaded from the Files section of the sidebar."
   ]
  },
  {
   "cell_type": "code",
   "execution_count": null,
   "id": "f4a94855-24d4-48de-afae-61241857c8a7",
   "metadata": {},
   "outputs": [],
   "source": [
    "from emutools.calibration import plot_priors, tabulate_priors\n",
    "from aust_covid.constants import set_project_base_path, get_project_paths\n",
    "from aust_covid.calibration import get_priors, get_all_priors\n",
    "from emutools.tex import StandardTexDoc, add_image_to_doc\n",
    "from emutools.utils import load_param_info"
   ]
  },
  {
   "cell_type": "code",
   "execution_count": null,
   "id": "1485a1d9",
   "metadata": {},
   "outputs": [],
   "source": [
    "from pathlib import Path"
   ]
  },
  {
   "cell_type": "code",
   "execution_count": null,
   "id": "79f558b0",
   "metadata": {},
   "outputs": [],
   "source": [
    "# Set the project base path to one layer up from the notebooks\n",
    "set_project_base_path(Path(\"../\").resolve())"
   ]
  },
  {
   "cell_type": "code",
   "execution_count": null,
   "id": "a4a7c0ba",
   "metadata": {},
   "outputs": [],
   "source": [
    "PROJECT_PATHS = get_project_paths()\n",
    "PROJECT_PATHS"
   ]
  },
  {
   "cell_type": "code",
   "execution_count": null,
   "id": "1a9abfb2-1209-45f7-8e08-5d0a87b5e5e3",
   "metadata": {},
   "outputs": [],
   "source": [
    "all_priors = get_all_priors()\n",
    "param_info = load_param_info()\n",
    "priors_table = tabulate_priors(all_priors, param_info)\n",
    "priors_table"
   ]
  },
  {
   "cell_type": "code",
   "execution_count": null,
   "id": "0c82636d-50a8-4221-ace2-ea59c5e52e81",
   "metadata": {},
   "outputs": [],
   "source": [
    "fig = plot_priors(all_priors, param_info['abbreviations'], 5, 100, 0.1, 0.99)\n",
    "fig"
   ]
  },
  {
   "cell_type": "code",
   "execution_count": null,
   "id": "913ad7ed-b269-4f49-9d91-9cf5ef5f0d08",
   "metadata": {},
   "outputs": [],
   "source": [
    "app_doc = StandardTexDoc(PROJECT_PATHS[\"SUPPLEMENT_PATH\"], 'priors', 'Priors', 'austcovid')\n",
    "get_priors(True, param_info['abbreviations'], app_doc)\n",
    "caption = 'Parameters implemented in calibration code are given. ' \\\n",
    "    'Note that the values for several of these were generated ' \\\n",
    "    'through algorithms that aimed to approximate epidemiological user-specified ' \\\n",
    "    'plausible ranges. '\n",
    "app_doc.include_table(priors_table, 'priors_table', 'Priors', section='Calibration methods', subsection='Priors', col_splits=[0.25] * 4, caption=caption)\n",
    "caption = 'Illustrations of prior distributions implemented in calibration algorithm.'\n",
    "add_image_to_doc(fig, 'prior_distributions', 'svg', caption, app_doc, 'Calibration methods')\n",
    "app_doc.write_doc()"
   ]
  }
 ],
 "metadata": {
  "kernelspec": {
   "display_name": "Python 3 (ipykernel)",
   "language": "python",
   "name": "python3"
  },
  "language_info": {
   "codemirror_mode": {
    "name": "ipython",
    "version": 3
   },
   "file_extension": ".py",
   "mimetype": "text/x-python",
   "name": "python",
   "nbconvert_exporter": "python",
   "pygments_lexer": "ipython3",
   "version": "3.10.14"
  }
 },
 "nbformat": 4,
 "nbformat_minor": 5
}
