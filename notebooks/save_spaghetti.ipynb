{
 "cells": [
  {
   "cell_type": "code",
   "execution_count": null,
   "id": "08b6bf58-fbda-45aa-9144-cf7b6ea6fa6b",
   "metadata": {},
   "outputs": [],
   "source": [
    "import numpy as np\n",
    "from inputs.constants import INPUTS_PATH, SUPPLEMENT_PATH\n",
    "from estival.model import BayesianCompartmentalModel\n",
    "import arviz as az\n",
    "from emutools.tex import StandardTexDoc\n",
    "from autumn.core.runs import ManagedRun\n",
    "from aust_covid.calibration import get_priors, get_targets\n",
    "from aust_covid.model import build_model\n",
    "from aust_covid.inputs import get_ifrs\n",
    "from emutools.inputs import load_param_info\n",
    "from estival.sampling import tools as esamp"
   ]
  },
  {
   "cell_type": "code",
   "execution_count": null,
   "id": "91ed13aa-47e6-405c-b28b-9179ed5eb36a",
   "metadata": {},
   "outputs": [],
   "source": [
    "run_path = 'projects/aust_covid/base_case_analysis/2023-08-30T1608-try_DEMZ_10k'"
   ]
  },
  {
   "cell_type": "code",
   "execution_count": null,
   "id": "9dcbab3f-8e11-40f4-9a91-8b39e243ea06",
   "metadata": {},
   "outputs": [],
   "source": [
    "app_doc = StandardTexDoc(SUPPLEMENT_PATH, 'supplement', \"Australia's 2023 Omicron Waves Supplement\", 'austcovid')\n",
    "mr = ManagedRun(run_path)\n",
    "mr.remote.download(mr.remote.list_contents()[-1])\n",
    "idata = az.from_netcdf(mr.list_local()[-1])\n",
    "burnt_idata = idata.sel(draw=np.s_[2000:])"
   ]
  },
  {
   "cell_type": "code",
   "execution_count": null,
   "id": "416beae4-f289-495f-8e70-290e0407f245",
   "metadata": {},
   "outputs": [],
   "source": [
    "sds = az.extract(burnt_idata, num_samples=20)"
   ]
  },
  {
   "cell_type": "code",
   "execution_count": null,
   "id": "9eef60de-682e-4219-b815-919b05d76b41",
   "metadata": {},
   "outputs": [],
   "source": [
    "param_info = load_param_info(INPUTS_PATH / 'parameters.yml')\n",
    "param_info['value'].update(get_ifrs(app_doc))\n",
    "parameters = param_info['value'].to_dict()\n",
    "aust_model = build_model(app_doc)\n",
    "priors = get_priors()\n",
    "targets = get_targets(app_doc)\n",
    "calibration_model = BayesianCompartmentalModel(aust_model, parameters, priors, targets)"
   ]
  },
  {
   "cell_type": "code",
   "execution_count": null,
   "id": "8558fbc4-b61c-49b9-8191-115a93399245",
   "metadata": {},
   "outputs": [],
   "source": [
    "spaghetti_res = esamp.model_results_for_samples(sds, calibration_model)"
   ]
  },
  {
   "cell_type": "code",
   "execution_count": null,
   "id": "88d40c70-3ac9-4a10-94e4-87da498c2754",
   "metadata": {},
   "outputs": [],
   "source": [
    "spaghetti_res.results.to_csv('spaghetti.csv')"
   ]
  }
 ],
 "metadata": {
  "kernelspec": {
   "display_name": "Python 3 (ipykernel)",
   "language": "python",
   "name": "python3"
  },
  "language_info": {
   "codemirror_mode": {
    "name": "ipython",
    "version": 3
   },
   "file_extension": ".py",
   "mimetype": "text/x-python",
   "name": "python",
   "nbconvert_exporter": "python",
   "pygments_lexer": "ipython3",
   "version": "3.10.0"
  }
 },
 "nbformat": 4,
 "nbformat_minor": 5
}
