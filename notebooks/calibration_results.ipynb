{
 "cells": [
  {
   "cell_type": "markdown",
   "id": "c55e60fe-af1e-4a2a-ba4d-d57a303dfef0",
   "metadata": {},
   "source": [
    "### Calibration interrogation\n",
    "This notebook examines the parameter outputs from the calibration algorithm."
   ]
  },
  {
   "cell_type": "code",
   "execution_count": null,
   "id": "94152528-c649-46d8-af55-f322707ea900",
   "metadata": {},
   "outputs": [],
   "source": [
    "import numpy as np\n",
    "import arviz as az\n",
    "\n",
    "from autumn.infrastructure.remote import springboard\n",
    "from aust_covid.inputs import get_ifrs\n",
    "from aust_covid.utils import add_image_to_doc\n",
    "from aust_covid.calibration import get_priors\n",
    "from emutools.tex import DummyTexDoc, StandardTexDoc\n",
    "from emutools.parameters import load_param_info\n",
    "from emutools.calibration import plot_param_progression, plot_posterior_comparison, tabulate_param_results\n",
    "from inputs.constants import PROJECT_PATH, SUPPLEMENT_PATH"
   ]
  },
  {
   "cell_type": "code",
   "execution_count": null,
   "id": "c4fc20a3-ca07-4fc7-9e94-83ad82b73a6c",
   "metadata": {},
   "outputs": [],
   "source": [
    "dummy_doc = DummyTexDoc()\n",
    "param_info = load_param_info()\n",
    "parameters = param_info['value'].to_dict() | get_ifrs(dummy_doc)\n",
    "priors = get_priors()\n",
    "prior_names = [p.name for p in priors]"
   ]
  },
  {
   "cell_type": "code",
   "execution_count": null,
   "id": "aa2bff1e-6ce2-44ec-ab50-34eefd658eab",
   "metadata": {},
   "outputs": [],
   "source": [
    "rts = springboard.task.RemoteTaskStore()\n",
    "rts.cd('projects/aust_covid/opt_experiments')\n",
    "mt = rts.get_managed_task('2023-09-18T1351-lhs_constrained0.67_opt100_10k10k_demz')\n",
    "mt.download_all()"
   ]
  },
  {
   "cell_type": "code",
   "execution_count": null,
   "id": "c6a940c7-6f6e-42c1-a0ac-799ed2116963",
   "metadata": {},
   "outputs": [],
   "source": [
    "idata = az.from_netcdf(mt.local.path / 'output/calibration_out.nc')"
   ]
  },
  {
   "cell_type": "code",
   "execution_count": null,
   "id": "c2f1f53a-56b3-4f86-a554-e453820d5770",
   "metadata": {},
   "outputs": [],
   "source": [
    "# Burn\n",
    "idata = idata.sel(draw=np.s_[1000:])"
   ]
  },
  {
   "cell_type": "markdown",
   "id": "8d0d1860-87b7-4efd-b599-5df07712fd5d",
   "metadata": {},
   "source": [
    "### Parameter traces with estimated posterior densities by chain"
   ]
  },
  {
   "cell_type": "code",
   "execution_count": null,
   "id": "22a8928a-7db3-483c-b78b-70d938650f58",
   "metadata": {},
   "outputs": [],
   "source": [
    "n_half_priors = round(len(priors) / 2)\n",
    "first_priors = prior_names[:n_half_priors]\n",
    "last_priors = prior_names[n_half_priors:]\n",
    "trace_fig0 = plot_param_progression(idata, param_info, request_vars=first_priors)"
   ]
  },
  {
   "cell_type": "code",
   "execution_count": null,
   "id": "8cf1bb9a-62a9-4320-b75c-ff68fd793d40",
   "metadata": {},
   "outputs": [],
   "source": [
    "trace_fig1 = plot_param_progression(idata, param_info, request_vars=last_priors)"
   ]
  },
  {
   "cell_type": "markdown",
   "id": "1e4008f7-3372-427d-aff2-18ac0296bee4",
   "metadata": {},
   "source": [
    "### Comparison of parameter posteriors to priors"
   ]
  },
  {
   "cell_type": "code",
   "execution_count": null,
   "id": "82d1d692-37a1-4897-90f1-b846881ab5e6",
   "metadata": {},
   "outputs": [],
   "source": [
    "comp_fig0 = plot_posterior_comparison(idata, priors, first_priors, param_info['abbreviations'].to_dict(), 0.995)"
   ]
  },
  {
   "cell_type": "code",
   "execution_count": null,
   "id": "64d52054-16b5-4432-a3a1-3f787091e201",
   "metadata": {},
   "outputs": [],
   "source": [
    "comp_fig1 = plot_posterior_comparison(idata, priors, last_priors, param_info['abbreviations'].to_dict(), 0.995)"
   ]
  },
  {
   "cell_type": "markdown",
   "id": "15222809-fc3e-4171-bb39-a264f1286d40",
   "metadata": {},
   "source": [
    "### Write to TeX document"
   ]
  },
  {
   "cell_type": "code",
   "execution_count": null,
   "id": "84087e77-9f32-483f-af0c-1f0497429fb4",
   "metadata": {},
   "outputs": [],
   "source": [
    "app_doc = StandardTexDoc(SUPPLEMENT_PATH, 'calibration', 'Calibration', 'austcovid')\n",
    "app_doc.include_table(tabulate_param_results(idata, priors, param_info), section='Calibration', col_splits=[0.142] * 7, table_width=12.0, longtable=True)\n",
    "trace_figs = [trace_fig0, trace_fig1]\n",
    "comp_figs = [comp_fig0, comp_fig1]\n",
    "for i_fig in range(2):\n",
    "    add_image_to_doc(trace_figs[i_fig], f'trace_fig_{i_fig}', f'Parameter posteriors and traces by chain, {i_fig}.', app_doc, 'Calibration')\n",
    "    add_image_to_doc(comp_figs[i_fig], f'comp_fig_{i_fig}', f'Comparison of posterior densities against prior distributions, {i_fig}.', app_doc, 'Calibration')\n",
    "app_doc.write_doc()"
   ]
  }
 ],
 "metadata": {
  "kernelspec": {
   "display_name": "Python 3 (ipykernel)",
   "language": "python",
   "name": "python3"
  },
  "language_info": {
   "codemirror_mode": {
    "name": "ipython",
    "version": 3
   },
   "file_extension": ".py",
   "mimetype": "text/x-python",
   "name": "python",
   "nbconvert_exporter": "python",
   "pygments_lexer": "ipython3",
   "version": "3.10.0"
  }
 },
 "nbformat": 4,
 "nbformat_minor": 5
}
