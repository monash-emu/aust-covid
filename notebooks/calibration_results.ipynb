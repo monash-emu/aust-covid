{
 "cells": [
  {
   "cell_type": "markdown",
   "id": "c55e60fe-af1e-4a2a-ba4d-d57a303dfef0",
   "metadata": {
    "tags": []
   },
   "source": [
    "## Calibration interrogation\n",
    "Examine the parameter outputs from the calibration algorithm.\n",
    "\n",
    "### Running over Colab\n",
    "Uncomment the commands in the following cell to install in Colab.\n",
    "Once completed, click the 'Restart runtime' button that will appear to restart the Colab environment and then proceed to the following cells.\n",
    "\n",
    "### Generating documentation\n",
    "Running the final cell will take approximately ten minutes and will generate the corresponding PDF documentation.\n",
    "This can be downloaded from the Files section of the sidebar."
   ]
  },
  {
   "cell_type": "code",
   "execution_count": null,
   "id": "f51e2974-fed2-4b79-8185-14d0df1cc704",
   "metadata": {},
   "outputs": [],
   "source": [
    "# !pip uninstall numba -y\n",
    "# !pip uninstall librosa -y\n",
    "# !pip install estival==0.4.9 numpy==1.24.3 kaleido"
   ]
  },
  {
   "cell_type": "code",
   "execution_count": null,
   "id": "1f1c8dca-d322-4b8d-b421-ed66b05883bf",
   "metadata": {},
   "outputs": [],
   "source": [
    "try:\n",
    "    import google.colab\n",
    "    on_colab = True\n",
    "    ! git clone https://github.com/monash-emu/aust-covid.git --branch tidy-notebooks\n",
    "    %cd aust-covid\n",
    "    %pip install -e ./\n",
    "    import multiprocessing as mp\n",
    "    mp.set_start_method('forkserver')\n",
    "except:\n",
    "    on_colab = False"
   ]
  },
  {
   "cell_type": "code",
   "execution_count": null,
   "id": "94152528-c649-46d8-af55-f322707ea900",
   "metadata": {},
   "outputs": [],
   "source": [
    "import numpy as np\n",
    "import arviz as az\n",
    "\n",
    "from aust_covid.inputs import get_ifrs\n",
    "from aust_covid.extra_text import add_calibration_blurb_to_tex\n",
    "from aust_covid.calibration import get_priors\n",
    "from emutools.tex import DummyTexDoc, StandardTexDoc, add_image_to_doc\n",
    "from emutools.utils import load_param_info\n",
    "from emutools.calibration import plot_param_progression, plot_posterior_comparison, tabulate_calib_results\n",
    "from inputs.constants import SUPPLEMENT_PATH, RUN_IDS, RUNS_PATH, PRIMARY_ANALYSIS, BURN_IN"
   ]
  },
  {
   "cell_type": "code",
   "execution_count": null,
   "id": "c4fc20a3-ca07-4fc7-9e94-83ad82b73a6c",
   "metadata": {},
   "outputs": [],
   "source": [
    "param_info = load_param_info()\n",
    "parameters = param_info['value'].to_dict() | get_ifrs(DummyTexDoc())\n",
    "priors = get_priors(PRIMARY_ANALYSIS in ['vacc', 'both'], param_info['abbreviations'], DummyTexDoc())\n",
    "prior_names = [p.name for p in priors]\n",
    "n_half_priors = round(len(priors) / 2)\n",
    "first_priors = prior_names[:n_half_priors]\n",
    "last_priors = prior_names[n_half_priors:]\n",
    "first_third_priors = prior_names[:6]\n",
    "middle_third_priors = prior_names[6: 12]\n",
    "last_third_priors = prior_names[12:]"
   ]
  },
  {
   "cell_type": "code",
   "execution_count": null,
   "id": "95304bf1-624c-45ff-8840-2026bace83eb",
   "metadata": {},
   "outputs": [],
   "source": [
    "idata = az.from_netcdf(RUNS_PATH / RUN_IDS[PRIMARY_ANALYSIS] / 'output/calib_full_out.nc')\n",
    "idata = idata.sel(draw=np.s_[BURN_IN:])"
   ]
  },
  {
   "cell_type": "markdown",
   "id": "8d0d1860-87b7-4efd-b599-5df07712fd5d",
   "metadata": {},
   "source": [
    "### Parameter traces with estimated posterior densities by chain"
   ]
  },
  {
   "cell_type": "code",
   "execution_count": null,
   "id": "22a8928a-7db3-483c-b78b-70d938650f58",
   "metadata": {},
   "outputs": [],
   "source": [
    "trace_fig1 = plot_param_progression(idata, param_info['descriptions'], req_vars=first_third_priors)\n",
    "trace_fig1"
   ]
  },
  {
   "cell_type": "code",
   "execution_count": null,
   "id": "8cf1bb9a-62a9-4320-b75c-ff68fd793d40",
   "metadata": {},
   "outputs": [],
   "source": [
    "trace_fig2 = plot_param_progression(idata, param_info['descriptions'], req_vars=middle_third_priors)\n",
    "trace_fig2"
   ]
  },
  {
   "cell_type": "code",
   "execution_count": null,
   "id": "aaa6ba45-99b6-40a3-9bd3-b332a96e6455",
   "metadata": {},
   "outputs": [],
   "source": [
    "trace_fig3 = plot_param_progression(idata, param_info['descriptions'], req_vars=last_third_priors)\n",
    "trace_fig3"
   ]
  },
  {
   "cell_type": "markdown",
   "id": "1e4008f7-3372-427d-aff2-18ac0296bee4",
   "metadata": {},
   "source": [
    "### Comparison of parameter posteriors to priors"
   ]
  },
  {
   "cell_type": "code",
   "execution_count": null,
   "id": "82d1d692-37a1-4897-90f1-b846881ab5e6",
   "metadata": {},
   "outputs": [],
   "source": [
    "comp_fig1 = plot_posterior_comparison(idata, priors, first_priors, param_info['abbreviations'].to_dict(), 0.995)\n",
    "comp_fig1"
   ]
  },
  {
   "cell_type": "code",
   "execution_count": null,
   "id": "64d52054-16b5-4432-a3a1-3f787091e201",
   "metadata": {},
   "outputs": [],
   "source": [
    "comp_fig2 = plot_posterior_comparison(idata, priors, last_priors, param_info['abbreviations'].to_dict(), 0.995)\n",
    "comp_fig2"
   ]
  },
  {
   "cell_type": "code",
   "execution_count": null,
   "id": "54dc707e-fe5b-4c09-bd27-6bc3e8db37b8",
   "metadata": {},
   "outputs": [],
   "source": [
    "calibration_table = tabulate_calib_results(idata, priors, param_info)\n",
    "calibration_table"
   ]
  },
  {
   "cell_type": "code",
   "execution_count": null,
   "id": "84087e77-9f32-483f-af0c-1f0497429fb4",
   "metadata": {},
   "outputs": [],
   "source": [
    "app_doc = StandardTexDoc(SUPPLEMENT_PATH, 'calibration', 'Calibration', 'austcovid')\n",
    "app_doc.include_table(calibration_table, 'calibration_metrics', 'Calibration metrics', section='Calibration results', subsection='Calibration performance', col_splits=[0.142] * 7, table_width=12.0, longtable=True)\n",
    "trace_figs = [trace_fig1, trace_fig2, trace_fig3]\n",
    "comp_figs = [comp_fig1, comp_fig2]\n",
    "for i_fig in range(1, 4):\n",
    "    add_image_to_doc(trace_figs[i_fig - 1], f'trace_fig_{i_fig}', 'svg', f'Parameter posteriors and traces by chain, {i_fig}.', app_doc, 'Calibration results', subsection='Parameter inference')\n",
    "for i_fig in range(1, 3):\n",
    "    caption = 'Inferred parameter posterior densities (blue areas) compared against corresponding calibration algorithm prior distributions (grey areas).'\n",
    "    add_image_to_doc(comp_figs[i_fig - 1], f'comp_fig_{i_fig}', 'svg', f'Posterior densities and prior distributions, {i_fig}.', app_doc, 'Calibration results', subsection='Parameter inference', caption=caption)\n",
    "add_calibration_blurb_to_tex(app_doc)\n",
    "app_doc.write_doc(order=['Calibration methods', 'Calibration results'])"
   ]
  },
  {
   "cell_type": "code",
   "execution_count": null,
   "id": "b0020070-4ee2-410f-9e88-0f5394c5790e",
   "metadata": {},
   "outputs": [],
   "source": [
    "if on_colab:\n",
    "    # To build a PDF, we need the appropriate tex packages installed\n",
    "    ! apt-get -y install inkscape texlive-latex-base texlive-fonts-recommended texlive-fonts-extra texlive-latex-extra texlive-bibtex-extra biber\n",
    "    # To avoid clutter and navigate to the right directory\n",
    "    import os\n",
    "    os.chdir(SUPPLEMENT_PATH)\n",
    "    # And finally build the formatted PDF, repeated commands are necessary\n",
    "    ! pdflatex -shell-escape calibration\n",
    "    ! pdflatex -shell-escape calibration\n",
    "    ! pdflatex -shell-escape calibration"
   ]
  }
 ],
 "metadata": {
  "kernelspec": {
   "display_name": "Python 3 (ipykernel)",
   "language": "python",
   "name": "python3"
  },
  "language_info": {
   "codemirror_mode": {
    "name": "ipython",
    "version": 3
   },
   "file_extension": ".py",
   "mimetype": "text/x-python",
   "name": "python",
   "nbconvert_exporter": "python",
   "pygments_lexer": "ipython3",
   "version": "3.10.0"
  }
 },
 "nbformat": 4,
 "nbformat_minor": 5
}
