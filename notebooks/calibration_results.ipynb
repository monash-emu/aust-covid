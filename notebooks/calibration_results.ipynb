{
 "cells": [
  {
   "cell_type": "markdown",
   "id": "0",
   "metadata": {
    "tags": []
   },
   "source": [
    "## Calibration interrogation\n",
    "Examine the parameter outputs from the calibration algorithm."
   ]
  },
  {
   "cell_type": "code",
   "execution_count": null,
   "id": "1",
   "metadata": {},
   "outputs": [],
   "source": [
    "import numpy as np\n",
    "import arviz as az\n",
    "\n",
    "from aust_covid.inputs import get_ifrs\n",
    "from aust_covid.calibration import get_priors\n",
    "from emutools.utils import load_param_info\n",
    "from emutools.calibration import plot_param_progression, plot_posterior_comparison, tabulate_calib_results\n",
    "from aust_covid.constants import RUN_IDS, PRIMARY_ANALYSIS, BURN_IN, set_project_base_path\n",
    "from emutools.tex import DummyTexDoc\n",
    "\n",
    "project_paths = set_project_base_path(\"../\")\n",
    "RUNS_PATH = project_paths[\"RUNS_PATH\"]"
   ]
  },
  {
   "cell_type": "code",
   "execution_count": null,
   "id": "2",
   "metadata": {},
   "outputs": [],
   "source": [
    "param_info = load_param_info()\n",
    "parameters = param_info['value'].to_dict() | get_ifrs(DummyTexDoc())\n",
    "priors = get_priors(PRIMARY_ANALYSIS in ['vacc', 'both'], param_info['abbreviations'], DummyTexDoc())\n",
    "prior_names = [p.name for p in priors]\n",
    "n_half_priors = round(len(priors) / 2)\n",
    "first_priors = prior_names[:n_half_priors]\n",
    "last_priors = prior_names[n_half_priors:]\n",
    "first_third_priors = prior_names[:6]\n",
    "middle_third_priors = prior_names[6: 12]\n",
    "last_third_priors = prior_names[12:]"
   ]
  },
  {
   "cell_type": "code",
   "execution_count": null,
   "id": "3",
   "metadata": {},
   "outputs": [],
   "source": [
    "idata = az.from_netcdf(RUNS_PATH / RUN_IDS[PRIMARY_ANALYSIS] / 'output/calib_full_out.nc')\n",
    "idata = idata.sel(draw=np.s_[BURN_IN:])"
   ]
  },
  {
   "cell_type": "markdown",
   "id": "4",
   "metadata": {},
   "source": [
    "### Parameter traces with estimated posterior densities by chain\n",
    "First of three parameter groups traces."
   ]
  },
  {
   "cell_type": "code",
   "execution_count": null,
   "id": "5",
   "metadata": {},
   "outputs": [],
   "source": [
    "plot_param_progression(idata, param_info['descriptions'], req_vars=first_third_priors)"
   ]
  },
  {
   "cell_type": "markdown",
   "id": "6",
   "metadata": {},
   "source": [
    "Second of three parameter groups traces."
   ]
  },
  {
   "cell_type": "code",
   "execution_count": null,
   "id": "7",
   "metadata": {},
   "outputs": [],
   "source": [
    "plot_param_progression(idata, param_info['descriptions'], req_vars=middle_third_priors)"
   ]
  },
  {
   "cell_type": "markdown",
   "id": "8",
   "metadata": {},
   "source": [
    "Third of three parameter groups traces."
   ]
  },
  {
   "cell_type": "code",
   "execution_count": null,
   "id": "9",
   "metadata": {},
   "outputs": [],
   "source": [
    "plot_param_progression(idata, param_info['descriptions'], req_vars=last_third_priors)"
   ]
  },
  {
   "cell_type": "markdown",
   "id": "10",
   "metadata": {},
   "source": [
    "### Comparison of parameter posteriors to priors\n",
    "First of two parameter groups distributions."
   ]
  },
  {
   "cell_type": "code",
   "execution_count": null,
   "id": "11",
   "metadata": {},
   "outputs": [],
   "source": [
    "plot_posterior_comparison(idata, priors, first_priors, param_info['abbreviations'].to_dict(), 0.995, param_info[\"units\"])"
   ]
  },
  {
   "cell_type": "markdown",
   "id": "12",
   "metadata": {},
   "source": [
    "Second of two parameter groups distributions."
   ]
  },
  {
   "cell_type": "code",
   "execution_count": null,
   "id": "13",
   "metadata": {},
   "outputs": [],
   "source": [
    "plot_posterior_comparison(idata, priors, last_priors, param_info['abbreviations'].to_dict(), 0.995, param_info[\"units\"])"
   ]
  },
  {
   "cell_type": "code",
   "execution_count": null,
   "id": "14",
   "metadata": {},
   "outputs": [],
   "source": [
    "# To reproduce Figure 5 of the manuscript:\n",
    "#plot_posterior_comparison(idata, priors, prior_names, param_info['abbreviations'].to_dict(), 0.995, param_info[\"units\"], grid=[5, 4])"
   ]
  },
  {
   "cell_type": "markdown",
   "id": "15",
   "metadata": {},
   "source": [
    "### Tabular results of parameter distributions"
   ]
  },
  {
   "cell_type": "code",
   "execution_count": null,
   "id": "16",
   "metadata": {},
   "outputs": [],
   "source": [
    "tabulate_calib_results(idata, priors, param_info)"
   ]
  }
 ],
 "metadata": {
  "kernelspec": {
   "display_name": "Python 3 (ipykernel)",
   "language": "python",
   "name": "python3"
  },
  "language_info": {
   "codemirror_mode": {
    "name": "ipython",
    "version": 3
   },
   "file_extension": ".py",
   "mimetype": "text/x-python",
   "name": "python",
   "nbconvert_exporter": "python",
   "pygments_lexer": "ipython3",
   "version": "3.10.14"
  }
 },
 "nbformat": 4,
 "nbformat_minor": 5
}
