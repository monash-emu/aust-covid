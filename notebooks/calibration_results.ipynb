{
 "cells": [
  {
   "cell_type": "markdown",
   "id": "c55e60fe-af1e-4a2a-ba4d-d57a303dfef0",
   "metadata": {
    "tags": []
   },
   "source": [
    "## Calibration interrogation\n",
    "Examine the parameter outputs from the calibration algorithm."
   ]
  },
  {
   "cell_type": "code",
   "execution_count": null,
   "id": "94152528-c649-46d8-af55-f322707ea900",
   "metadata": {},
   "outputs": [],
   "source": [
    "import numpy as np\n",
    "import arviz as az\n",
    "\n",
    "from aust_covid.inputs import get_ifrs\n",
    "from aust_covid.calibration import get_priors\n",
    "from emutools.utils import load_param_info\n",
    "from emutools.calibration import plot_param_progression, plot_posterior_comparison, tabulate_calib_results\n",
    "from aust_covid.constants import RUN_IDS, RUNS_PATH, PRIMARY_ANALYSIS, BURN_IN\n",
    "from emutools.tex import DummyTexDoc"
   ]
  },
  {
   "cell_type": "code",
   "execution_count": null,
   "id": "c4fc20a3-ca07-4fc7-9e94-83ad82b73a6c",
   "metadata": {},
   "outputs": [],
   "source": [
    "param_info = load_param_info()\n",
    "parameters = param_info['value'].to_dict() | get_ifrs(DummyTexDoc())\n",
    "priors = get_priors(PRIMARY_ANALYSIS in ['vacc', 'both'], param_info['abbreviations'], DummyTexDoc())\n",
    "prior_names = [p.name for p in priors]\n",
    "n_half_priors = round(len(priors) / 2)\n",
    "first_priors = prior_names[:n_half_priors]\n",
    "last_priors = prior_names[n_half_priors:]\n",
    "first_third_priors = prior_names[:6]\n",
    "middle_third_priors = prior_names[6: 12]\n",
    "last_third_priors = prior_names[12:]"
   ]
  },
  {
   "cell_type": "code",
   "execution_count": null,
   "id": "95304bf1-624c-45ff-8840-2026bace83eb",
   "metadata": {},
   "outputs": [],
   "source": [
    "idata = az.from_netcdf(RUNS_PATH / RUN_IDS[PRIMARY_ANALYSIS] / 'output/calib_full_out.nc')\n",
    "idata = idata.sel(draw=np.s_[BURN_IN:])"
   ]
  },
  {
   "cell_type": "markdown",
   "id": "8d0d1860-87b7-4efd-b599-5df07712fd5d",
   "metadata": {},
   "source": [
    "### Parameter traces with estimated posterior densities by chain\n",
    "First of three parameter groups traces."
   ]
  },
  {
   "cell_type": "code",
   "execution_count": null,
   "id": "22a8928a-7db3-483c-b78b-70d938650f58",
   "metadata": {},
   "outputs": [],
   "source": [
    "plot_param_progression(idata, param_info['descriptions'], req_vars=first_third_priors)"
   ]
  },
  {
   "cell_type": "markdown",
   "id": "c193c652-c749-43e3-b322-c117a7d02584",
   "metadata": {},
   "source": [
    "Second of three parameter groups traces."
   ]
  },
  {
   "cell_type": "code",
   "execution_count": null,
   "id": "8cf1bb9a-62a9-4320-b75c-ff68fd793d40",
   "metadata": {},
   "outputs": [],
   "source": [
    "plot_param_progression(idata, param_info['descriptions'], req_vars=middle_third_priors)"
   ]
  },
  {
   "cell_type": "markdown",
   "id": "69d75efb-af05-4bb6-be9e-b4388bf43032",
   "metadata": {},
   "source": [
    "Third of three parameter groups traces."
   ]
  },
  {
   "cell_type": "code",
   "execution_count": null,
   "id": "aaa6ba45-99b6-40a3-9bd3-b332a96e6455",
   "metadata": {},
   "outputs": [],
   "source": [
    "plot_param_progression(idata, param_info['descriptions'], req_vars=last_third_priors)"
   ]
  },
  {
   "cell_type": "markdown",
   "id": "1e4008f7-3372-427d-aff2-18ac0296bee4",
   "metadata": {},
   "source": [
    "### Comparison of parameter posteriors to priors\n",
    "First of two parameter groups distributions."
   ]
  },
  {
   "cell_type": "code",
   "execution_count": null,
   "id": "82d1d692-37a1-4897-90f1-b846881ab5e6",
   "metadata": {},
   "outputs": [],
   "source": [
    "plot_posterior_comparison(idata, priors, first_priors, param_info['abbreviations'].to_dict(), 0.995)"
   ]
  },
  {
   "cell_type": "markdown",
   "id": "b3529dbe-4c47-47e0-90c3-cc23b1d515e3",
   "metadata": {},
   "source": [
    "Second of two parameter groups distributions."
   ]
  },
  {
   "cell_type": "code",
   "execution_count": null,
   "id": "64d52054-16b5-4432-a3a1-3f787091e201",
   "metadata": {},
   "outputs": [],
   "source": [
    "plot_posterior_comparison(idata, priors, last_priors, param_info['abbreviations'].to_dict(), 0.995)"
   ]
  },
  {
   "cell_type": "markdown",
   "id": "46027fed-7a76-490a-86cd-a45175a498a4",
   "metadata": {},
   "source": [
    "### Tabular results of parameter distributions"
   ]
  },
  {
   "cell_type": "code",
   "execution_count": null,
   "id": "54dc707e-fe5b-4c09-bd27-6bc3e8db37b8",
   "metadata": {},
   "outputs": [],
   "source": [
    "tabulate_calib_results(idata, priors, param_info)"
   ]
  }
 ],
 "metadata": {
  "kernelspec": {
   "display_name": "Python 3 (ipykernel)",
   "language": "python",
   "name": "python3"
  },
  "language_info": {
   "codemirror_mode": {
    "name": "ipython",
    "version": 3
   },
   "file_extension": ".py",
   "mimetype": "text/x-python",
   "name": "python",
   "nbconvert_exporter": "python",
   "pygments_lexer": "ipython3",
   "version": "3.10.14"
  }
 },
 "nbformat": 4,
 "nbformat_minor": 5
}
