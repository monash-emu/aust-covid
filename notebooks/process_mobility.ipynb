{
 "cells": [
  {
   "cell_type": "markdown",
   "id": "44e7955b-08c7-480a-9ad0-833723f22386",
   "metadata": {},
   "source": [
    "### Mobility processing\n",
    "This notebook works through the process of adapting Google mobility data into the required format for the model."
   ]
  },
  {
   "cell_type": "code",
   "execution_count": null,
   "id": "2cfdd615-d6a1-4b4c-b846-5a76fa077e3a",
   "metadata": {},
   "outputs": [],
   "source": [
    "from emutools.tex import StandardTexDoc\n",
    "import pandas as pd\n",
    "from aust_covid.inputs import get_raw_state_mobility\n",
    "from aust_covid.utils import add_image_to_doc\n",
    "from aust_covid.mobility import get_non_wa_mob_averages, get_relative_mobility, map_mobility_locations\n",
    "from aust_covid.plotting import plot_state_mobility, plot_processed_mobility\n",
    "from inputs.constants import MOBILITY_MAP, SUPPLEMENT_PATH, MOBILITY_AVERAGE_WINDOW"
   ]
  },
  {
   "cell_type": "code",
   "execution_count": null,
   "id": "7433abf8-4228-4acb-8175-adbc0a92e29a",
   "metadata": {},
   "outputs": [],
   "source": [
    "app_doc = StandardTexDoc(SUPPLEMENT_PATH, 'supplement', \"Australia's 2023 Omicron Waves Supplement\", 'austcovid')"
   ]
  },
  {
   "cell_type": "code",
   "execution_count": null,
   "id": "a64595eb-9bf5-4bef-8b87-c038c7cadf8c",
   "metadata": {},
   "outputs": [],
   "source": [
    "state_data, jurisdictions, mob_locs = get_raw_state_mobility(app_doc)\n",
    "fig = plot_state_mobility(state_data, jurisdictions, mob_locs)\n",
    "add_image_to_doc(fig, 'state_mobility', '', app_doc, 'Raw state mobility')\n",
    "fig"
   ]
  },
  {
   "cell_type": "code",
   "execution_count": null,
   "id": "5d5bed05-50a5-4201-a9a4-c3f5427c0665",
   "metadata": {},
   "outputs": [],
   "source": [
    "pd.DataFrame(MOBILITY_MAP)"
   ]
  },
  {
   "cell_type": "code",
   "execution_count": null,
   "id": "a392d949-7197-4041-ba42-e473fe7b38cd",
   "metadata": {},
   "outputs": [],
   "source": [
    "wa_data = state_data.loc[state_data['sub_region_1'] == 'Western Australia', mob_locs]\n",
    "state_averages = get_non_wa_mob_averages(state_data, mob_locs, jurisdictions, app_doc)\n",
    "non_wa_relmob = get_relative_mobility(state_averages)\n",
    "wa_relmob = get_relative_mobility(wa_data)\n",
    "processed_mob = map_mobility_locations(wa_relmob, non_wa_relmob, app_doc)\n",
    "smoothed_mob = processed_mob.rolling(MOBILITY_AVERAGE_WINDOW).mean().dropna()\n",
    "squared_mob = smoothed_mob ** 2.0"
   ]
  },
  {
   "cell_type": "code",
   "execution_count": null,
   "id": "f0eef78e-da0e-47a2-af8d-cbe1417ab5f1",
   "metadata": {},
   "outputs": [],
   "source": [
    "mobility_types = {\n",
    "    'original': processed_mob,\n",
    "    'smoothed': smoothed_mob,\n",
    "    'smoothed squared': squared_mob,\n",
    "}\n",
    "fig = plot_processed_mobility(mobility_types)\n",
    "add_image_to_doc(fig, 'processed_mobility', '', app_doc, 'Processed mobility')\n",
    "fig"
   ]
  }
 ],
 "metadata": {
  "kernelspec": {
   "display_name": "Python 3 (ipykernel)",
   "language": "python",
   "name": "python3"
  },
  "language_info": {
   "codemirror_mode": {
    "name": "ipython",
    "version": 3
   },
   "file_extension": ".py",
   "mimetype": "text/x-python",
   "name": "python",
   "nbconvert_exporter": "python",
   "pygments_lexer": "ipython3",
   "version": "3.10.0"
  }
 },
 "nbformat": 4,
 "nbformat_minor": 5
}
