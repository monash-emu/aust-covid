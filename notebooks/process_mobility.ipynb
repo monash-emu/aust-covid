{
 "cells": [
  {
   "cell_type": "markdown",
   "id": "44e7955b-08c7-480a-9ad0-833723f22386",
   "metadata": {},
   "source": [
    "### Mobility processing\n",
    "This notebook works through the process of adapting Google mobility data into the required format for the model.\n",
    "\n",
    "### Running over Colab\n",
    "Uncomment the commands in the following cell to install in Colab.\n",
    "Once completed, click the 'Restart runtime' button that will appear to restart the Colab environment and then proceed to the following cells.\n",
    "\n",
    "### Generating documentation\n",
    "Running the final cell will take approximately ten minutes and will generate the corresponding PDF documentation.\n",
    "This can be downloaded from the Files section of the sidebar."
   ]
  },
  {
   "cell_type": "code",
   "execution_count": null,
   "id": "0664f951-ab62-4e34-b404-1c13eb332142",
   "metadata": {},
   "outputs": [],
   "source": [
    "# !pip uninstall numba -y\n",
    "# !pip uninstall librosa -y\n",
    "# !pip install estival==0.4.7b2 numpy==1.24.3 kaleido"
   ]
  },
  {
   "cell_type": "code",
   "execution_count": null,
   "id": "45d92b6a-b4d9-4a5a-b2a9-40572229f406",
   "metadata": {},
   "outputs": [],
   "source": [
    "try:\n",
    "    import google.colab\n",
    "    on_colab = True\n",
    "    ! git clone https://github.com/monash-emu/aust-covid.git --branch tidy-notebooks\n",
    "    %cd aust-covid\n",
    "    %pip install -e ./\n",
    "    import multiprocessing as mp\n",
    "    mp.set_start_method('forkserver')\n",
    "except:\n",
    "    on_colab = False"
   ]
  },
  {
   "cell_type": "code",
   "execution_count": null,
   "id": "2cfdd615-d6a1-4b4c-b846-5a76fa077e3a",
   "metadata": {},
   "outputs": [],
   "source": [
    "import pandas as pd\n",
    "\n",
    "from emutools.tex import StandardTexDoc, remove_underscore_multiindexcol, add_image_to_doc\n",
    "from aust_covid.inputs import get_raw_state_mobility\n",
    "from aust_covid.mobility import get_non_wa_mob_averages, get_relative_mobility, map_mobility_locations\n",
    "from aust_covid.plotting import plot_state_mobility, plot_processed_mobility\n",
    "from inputs.constants import MOBILITY_MAP, SUPPLEMENT_PATH, MOBILITY_AVERAGE_WINDOW"
   ]
  },
  {
   "cell_type": "code",
   "execution_count": null,
   "id": "7433abf8-4228-4acb-8175-adbc0a92e29a",
   "metadata": {},
   "outputs": [],
   "source": [
    "app_doc = StandardTexDoc(SUPPLEMENT_PATH, 'mobility', 'Mobility processing', 'austcovid')"
   ]
  },
  {
   "cell_type": "code",
   "execution_count": null,
   "id": "a64595eb-9bf5-4bef-8b87-c038c7cadf8c",
   "metadata": {},
   "outputs": [],
   "source": [
    "state_data, jurisdictions, mob_locs = get_raw_state_mobility(app_doc)\n",
    "fig = plot_state_mobility(state_data, jurisdictions, mob_locs)\n",
    "fig"
   ]
  },
  {
   "cell_type": "code",
   "execution_count": null,
   "id": "0015ed58-b730-4a7f-b2b4-ea7b40bbddbb",
   "metadata": {},
   "outputs": [],
   "source": [
    "caption = 'Locations: Retail and recreation (green), grocery and pharmacy (purple), parks (orange), transit stations (yellow), workplaces (blue), and residential (red).'\n",
    "add_image_to_doc(fig.update_layout(showlegend=False), 'state_mobility', 'svg', 'Raw state-level mobility obtained from Google.', app_doc, 'Mobility extension', caption=caption)"
   ]
  },
  {
   "cell_type": "code",
   "execution_count": null,
   "id": "5d5bed05-50a5-4201-a9a4-c3f5427c0665",
   "metadata": {},
   "outputs": [],
   "source": [
    "mapping_table = pd.DataFrame(MOBILITY_MAP)\n",
    "mapping_table.index = mapping_table.index.str.replace('_', ' ').str.capitalize()\n",
    "mapping_table.columns = mapping_table.columns.str.replace('_', ' ').str.capitalize()\n",
    "mapping_table = mapping_table.applymap(str)\n",
    "app_doc.include_table(mapping_table, 'mob_map', 'Mapping of mobility to mixing matrix locations.', 'Mobility extension')\n",
    "mapping_table"
   ]
  },
  {
   "cell_type": "code",
   "execution_count": null,
   "id": "a392d949-7197-4041-ba42-e473fe7b38cd",
   "metadata": {},
   "outputs": [],
   "source": [
    "wa_data = state_data.loc[state_data['sub_region_1'] == 'Western Australia', mob_locs]\n",
    "state_averages = get_non_wa_mob_averages(state_data, mob_locs, jurisdictions, app_doc)\n",
    "non_wa_relmob = get_relative_mobility(state_averages)\n",
    "wa_relmob = get_relative_mobility(wa_data)\n",
    "processed_mob = map_mobility_locations(wa_relmob, non_wa_relmob, app_doc)\n",
    "smoothed_mob = processed_mob.rolling(MOBILITY_AVERAGE_WINDOW).mean().dropna()\n",
    "squared_mob = smoothed_mob ** 2.0"
   ]
  },
  {
   "cell_type": "code",
   "execution_count": null,
   "id": "f0eef78e-da0e-47a2-af8d-cbe1417ab5f1",
   "metadata": {},
   "outputs": [],
   "source": [
    "mobility_types = {\n",
    "    'original': remove_underscore_multiindexcol(processed_mob),\n",
    "    'smoothed': remove_underscore_multiindexcol(smoothed_mob),\n",
    "    'smoothed squared': remove_underscore_multiindexcol(squared_mob),\n",
    "}\n",
    "fig = plot_processed_mobility(mobility_types)\n",
    "fig"
   ]
  },
  {
   "cell_type": "code",
   "execution_count": null,
   "id": "ec5a15f0-4266-4ab4-a253-76204cf35053",
   "metadata": {},
   "outputs": [],
   "source": [
    "caption = 'Work mobility (yellow line), smoothed work mobility (blue line), squared smoothed work mobility (red line), ' \\\n",
    "    'averaged other locations mobility (green line), smoothed averaged other locations mobility (purple), and squared smoothed averaged other locations mobility (orange).'\n",
    "add_image_to_doc(fig.update_layout(showlegend=False), 'processed_mobility', 'svg', 'Processed mobility for model.', app_doc, 'Mobility extension', caption=caption)"
   ]
  },
  {
   "cell_type": "code",
   "execution_count": null,
   "id": "751e7b38-7d71-408a-aca1-817b8dce6b39",
   "metadata": {},
   "outputs": [],
   "source": [
    "app_doc.write_doc()"
   ]
  },
  {
   "cell_type": "code",
   "execution_count": null,
   "id": "e9364ce0-ae01-44b6-8fe1-e518aaf74650",
   "metadata": {},
   "outputs": [],
   "source": [
    "if on_colab:\n",
    "    # To build a PDF, we need the appropriate tex packages installed\n",
    "    ! apt-get -y install inkscape texlive-latex-base texlive-fonts-recommended texlive-fonts-extra texlive-latex-extra texlive-bibtex-extra biber\n",
    "    # To avoid clutter and navigate to the right directory\n",
    "    import os\n",
    "    os.chdir(SUPPLEMENT_PATH)\n",
    "    # And finally build the formatted PDF, repeated commands are necessary\n",
    "    ! pdflatex mobility\n",
    "    ! biber mobility\n",
    "    ! pdflatex mobility\n",
    "    ! pdflatex mobility"
   ]
  }
 ],
 "metadata": {
  "kernelspec": {
   "display_name": "Python 3 (ipykernel)",
   "language": "python",
   "name": "python3"
  },
  "language_info": {
   "codemirror_mode": {
    "name": "ipython",
    "version": 3
   },
   "file_extension": ".py",
   "mimetype": "text/x-python",
   "name": "python",
   "nbconvert_exporter": "python",
   "pygments_lexer": "ipython3",
   "version": "3.10.0"
  }
 },
 "nbformat": 4,
 "nbformat_minor": 5
}
