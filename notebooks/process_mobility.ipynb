{
 "cells": [
  {
   "cell_type": "markdown",
   "id": "0",
   "metadata": {},
   "source": [
    "### Mobility processing\n",
    "This notebook works through the process of adapting Google mobility data into the required format for the model."
   ]
  },
  {
   "cell_type": "code",
   "execution_count": null,
   "id": "1",
   "metadata": {},
   "outputs": [],
   "source": [
    "import pandas as pd\n",
    "\n",
    "from emutools.tex import DummyTexDoc, remove_underscore_multiindexcol\n",
    "from aust_covid.constants import MOBILITY_MAP, MOBILITY_AVERAGE_WINDOW, set_project_base_path\n",
    "from aust_covid.inputs import get_raw_state_mobility\n",
    "from aust_covid.mobility import get_non_wa_mob_averages, get_relative_mobility, map_mobility_locations\n",
    "from aust_covid.plotting import plot_state_mobility, plot_processed_mobility\n",
    "\n",
    "project_paths = set_project_base_path(\"../\")"
   ]
  },
  {
   "cell_type": "code",
   "execution_count": null,
   "id": "2",
   "metadata": {},
   "outputs": [],
   "source": [
    "dummy_doc = DummyTexDoc()"
   ]
  },
  {
   "cell_type": "code",
   "execution_count": null,
   "id": "3",
   "metadata": {},
   "outputs": [],
   "source": [
    "state_data, jurisdictions, mob_locs = get_raw_state_mobility(dummy_doc)\n",
    "plot_state_mobility(state_data, jurisdictions, mob_locs)"
   ]
  },
  {
   "cell_type": "code",
   "execution_count": null,
   "id": "4",
   "metadata": {},
   "outputs": [],
   "source": [
    "mapping_table = pd.DataFrame(MOBILITY_MAP)\n",
    "mapping_table.index = mapping_table.index.str.replace(\"_\", \" \").str.capitalize()\n",
    "mapping_table.columns = mapping_table.columns.str.replace(\"_\", \" \").str.capitalize()\n",
    "mapping_table = mapping_table.applymap(str)\n",
    "mapping_table"
   ]
  },
  {
   "cell_type": "code",
   "execution_count": null,
   "id": "5",
   "metadata": {},
   "outputs": [],
   "source": [
    "wa_data = state_data.loc[state_data[\"sub_region_1\"] == \"Western Australia\", mob_locs]\n",
    "state_averages = get_non_wa_mob_averages(state_data, mob_locs, jurisdictions, dummy_doc, cross_ref=False)\n",
    "non_wa_relmob = get_relative_mobility(state_averages)\n",
    "wa_relmob = get_relative_mobility(wa_data)\n",
    "processed_mob = map_mobility_locations(wa_relmob, non_wa_relmob, dummy_doc)\n",
    "smoothed_mob = processed_mob.rolling(MOBILITY_AVERAGE_WINDOW).mean().dropna()\n",
    "squared_mob = smoothed_mob ** 2.0"
   ]
  },
  {
   "cell_type": "code",
   "execution_count": null,
   "id": "6",
   "metadata": {},
   "outputs": [],
   "source": [
    "mobility_types = {\n",
    "    \"original\": remove_underscore_multiindexcol(processed_mob),\n",
    "    \"smoothed\": remove_underscore_multiindexcol(smoothed_mob),\n",
    "    \"smoothed squared\": remove_underscore_multiindexcol(squared_mob),\n",
    "}\n",
    "plot_processed_mobility(mobility_types)"
   ]
  }
 ],
 "metadata": {
  "kernelspec": {
   "display_name": "Python 3 (ipykernel)",
   "language": "python",
   "name": "python3"
  },
  "language_info": {
   "codemirror_mode": {
    "name": "ipython",
    "version": 3
   },
   "file_extension": ".py",
   "mimetype": "text/x-python",
   "name": "python",
   "nbconvert_exporter": "python",
   "pygments_lexer": "ipython3",
   "version": "3.10.14"
  }
 },
 "nbformat": 4,
 "nbformat_minor": 5
}
