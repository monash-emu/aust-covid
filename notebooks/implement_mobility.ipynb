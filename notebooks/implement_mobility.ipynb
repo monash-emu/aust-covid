{
 "cells": [
  {
   "cell_type": "code",
   "execution_count": null,
   "id": "a286bfc2-6538-4e84-873f-e4adc38999d5",
   "metadata": {},
   "outputs": [],
   "source": [
    "from pathlib import Path\n",
    "from aust_covid.inputs import load_pop_data\n",
    "from aust_covid.model import get_processed_mobility_data, get_interp_funcs_from_mobility, build_base_model, adapt_gb_matrices_to_aust, get_age_stratification, set_starting_conditions\n",
    "from datetime import datetime\n",
    "from emutools.tex import StandardTexDoc\n",
    "from summer2.parameters import Function\n",
    "import pandas as pd\n",
    "from aust_covid.model import BASE_PATH\n",
    "\n",
    "MATRIX_LOCATIONS = [\n",
    "    'school', \n",
    "    'home', \n",
    "    'work', \n",
    "    'other_locations',\n",
    "]\n",
    "PROJECT_PATH = Path().resolve().parent\n",
    "DATA_PATH = BASE_PATH / 'data'\n",
    "start_date = datetime(2021, 7, 1)\n",
    "end_date = datetime(2022, 10, 1)\n",
    "ref_date = datetime(2019, 12, 31)\n",
    "age_strata = list(range(0, 80, 5))\n",
    "n_latent_comps = 4\n",
    "n_infectious_comps = n_latent_comps\n",
    "latent_compartments = [f'latent_{i}' for i in range(n_latent_comps)]\n",
    "infectious_compartments = [f'infectious_{i}' for i in range(n_infectious_comps)]\n",
    "compartments = ['susceptible', 'recovered', 'waned'] + infectious_compartments + latent_compartments\n",
    "tex_doc = StandardTexDoc(PROJECT_PATH / 'supplement', 'supplement', \"Australia's 2023 Omicron Waves Supplement\", 'austcovid')\n",
    "model_pops = load_pop_data(age_strata, tex_doc)\n",
    "aust_model = build_base_model(ref_date, compartments, infectious_compartments, start_date, end_date, tex_doc)\n",
    "set_starting_conditions(aust_model, model_pops, tex_doc)"
   ]
  },
  {
   "cell_type": "code",
   "execution_count": null,
   "id": "47eaea92-9f42-4366-8e01-725af3850352",
   "metadata": {},
   "outputs": [],
   "source": [
    "raw_matrices = {l: pd.read_csv(DATA_PATH / f'{l}.csv', index_col=0).to_numpy() for l in MATRIX_LOCATIONS}\n",
    "adjusted_matrices = adapt_gb_matrices_to_aust(age_strata, raw_matrices, model_pops, tex_doc)"
   ]
  },
  {
   "cell_type": "code",
   "execution_count": null,
   "id": "68671699-d237-4be9-b187-ffd0ae263f19",
   "metadata": {},
   "outputs": [],
   "source": [
    "model_mob = get_processed_mobility_data()"
   ]
  },
  {
   "cell_type": "code",
   "execution_count": null,
   "id": "b272f466-37f1-4713-a67f-ae4dedf3a9ee",
   "metadata": {},
   "outputs": [],
   "source": [
    "interp_funcs = get_interp_funcs_from_mobility(model_mob, aust_model.get_epoch())"
   ]
  },
  {
   "cell_type": "code",
   "execution_count": null,
   "id": "0c7fe846-18f0-493c-89d7-da73ac0f6c63",
   "metadata": {},
   "outputs": [],
   "source": [
    "def mobility_scaling(matrices, non_wa_work, non_wa_other, nothing):\n",
    "    return matrices['home'] + matrices['school'] + non_wa_other * matrices['other_locations'] + non_wa_work * matrices['work']"
   ]
  },
  {
   "cell_type": "code",
   "execution_count": null,
   "id": "42c3e221-d144-4447-9176-e8ec684a2396",
   "metadata": {},
   "outputs": [],
   "source": [
    "# This runs:\n",
    "mixing_matrix = Function(mobility_scaling, [adjusted_matrices, interp_funcs['non_wa']['work'], interp_funcs['non_wa']['other_locations'], 0.0])\n",
    "\n",
    "# This doesn't:\n",
    "# mixing_matrix = Function(mobility_scaling, [adjusted_matrices, interp_funcs['non_wa']['work'], interp_funcs['non_wa']['other_locations'], interp_funcs])"
   ]
  },
  {
   "cell_type": "code",
   "execution_count": null,
   "id": "a8cdb35e-b333-4133-8ef9-5bbc13aeb559",
   "metadata": {},
   "outputs": [],
   "source": [
    "age_strat = get_age_stratification(compartments, age_strata, mixing_matrix, tex_doc)\n",
    "aust_model.stratify_with(age_strat)"
   ]
  },
  {
   "cell_type": "code",
   "execution_count": null,
   "id": "62d385d5-9055-40d6-a8b4-a2c71b8afc44",
   "metadata": {},
   "outputs": [],
   "source": [
    "aust_model.run()"
   ]
  }
 ],
 "metadata": {
  "kernelspec": {
   "display_name": "Python 3 (ipykernel)",
   "language": "python",
   "name": "python3"
  },
  "language_info": {
   "codemirror_mode": {
    "name": "ipython",
    "version": 3
   },
   "file_extension": ".py",
   "mimetype": "text/x-python",
   "name": "python",
   "nbconvert_exporter": "python",
   "pygments_lexer": "ipython3",
   "version": "3.10.11"
  }
 },
 "nbformat": 4,
 "nbformat_minor": 5
}
