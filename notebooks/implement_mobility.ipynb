{
 "cells": [
  {
   "cell_type": "code",
   "execution_count": null,
   "id": "a286bfc2-6538-4e84-873f-e4adc38999d5",
   "metadata": {},
   "outputs": [],
   "source": [
    "from pathlib import Path\n",
    "from aust_covid.inputs import load_pop_data, get_ifrs\n",
    "from aust_covid.model import get_processed_mobility_data, get_interp_funcs_from_mobility, build_base_model, adapt_gb_matrices_to_aust, get_age_stratification, set_starting_conditions, get_wa_infection_scaling\n",
    "from datetime import datetime\n",
    "from emutools.tex import StandardTexDoc\n",
    "from summer2.parameters import Function\n",
    "import pandas as pd\n",
    "from aust_covid.model import BASE_PATH\n",
    "\n",
    "MATRIX_LOCATIONS = [\n",
    "    'school', \n",
    "    'home', \n",
    "    'work', \n",
    "    'other_locations',\n",
    "]\n",
    "PROJECT_PATH = Path().resolve().parent\n",
    "DATA_PATH = BASE_PATH / 'data'\n",
    "start_date = datetime(2021, 7, 1)\n",
    "end_date = datetime(2022, 10, 1)\n",
    "ref_date = datetime(2019, 12, 31)\n",
    "age_strata = list(range(0, 80, 5))\n",
    "n_latent_comps = 4\n",
    "n_infectious_comps = n_latent_comps\n",
    "latent_compartments = [f'latent_{i}' for i in range(n_latent_comps)]\n",
    "infectious_compartments = [f'infectious_{i}' for i in range(n_infectious_comps)]\n",
    "compartments = ['susceptible', 'recovered', 'waned'] + infectious_compartments + latent_compartments\n",
    "tex_doc = StandardTexDoc(PROJECT_PATH / 'supplement', 'supplement', \"Australia's 2023 Omicron Waves Supplement\", 'austcovid')\n",
    "model_pops = load_pop_data(age_strata, tex_doc)\n",
    "aust_model = build_base_model(ref_date, compartments, infectious_compartments, start_date, end_date, tex_doc)\n",
    "set_starting_conditions(aust_model, model_pops, tex_doc)"
   ]
  },
  {
   "cell_type": "code",
   "execution_count": null,
   "id": "8e9f6118-f4a4-4f9d-9db8-b4a0256a294e",
   "metadata": {},
   "outputs": [],
   "source": [
    "parameters = {\n",
    "    'contact_rate': 0.065,\n",
    "    'latent_period': 1.8,\n",
    "    'infectious_period': 2.5,\n",
    "    'natural_immunity_period': 60.0,\n",
    "    'start_cdr': 0.3,\n",
    "    'imm_prop': 0.4,\n",
    "    'imm_infect_protect': 0.4,\n",
    "    'ifr_adjuster': 3.0,\n",
    "    'ba1_seed_time': 619.0,\n",
    "    'ba2_seed_time': 659.0,\n",
    "    'ba5_seed_time': 715.0,\n",
    "    'ba2_escape': 0.4,\n",
    "    'ba5_escape': 0.54,\n",
    "    'ba2_rel_ifr': 0.5,\n",
    "    'wa_reopen_period': 50.0,\n",
    "    'seed_duration': 10.0,\n",
    "    'seed_rate': 1.0,\n",
    "    'notifs_mean': 4.0,\n",
    "    'notifs_shape': 2.0,\n",
    "    'deaths_mean': 15.93,\n",
    "    'deaths_shape': 5.0,\n",
    "}\n",
    "ifrs = get_ifrs(tex_doc)\n",
    "parameters.update(ifrs)"
   ]
  },
  {
   "cell_type": "code",
   "execution_count": null,
   "id": "47eaea92-9f42-4366-8e01-725af3850352",
   "metadata": {},
   "outputs": [],
   "source": [
    "raw_matrices = {l: pd.read_csv(DATA_PATH / f'{l}.csv', index_col=0).to_numpy() for l in MATRIX_LOCATIONS}\n",
    "adjusted_matrices = adapt_gb_matrices_to_aust(age_strata, raw_matrices, model_pops, tex_doc)"
   ]
  },
  {
   "cell_type": "code",
   "execution_count": null,
   "id": "68671699-d237-4be9-b187-ffd0ae263f19",
   "metadata": {},
   "outputs": [],
   "source": [
    "model_mob = get_processed_mobility_data()"
   ]
  },
  {
   "cell_type": "code",
   "execution_count": null,
   "id": "b272f466-37f1-4713-a67f-ae4dedf3a9ee",
   "metadata": {},
   "outputs": [],
   "source": [
    "interp_funcs = get_interp_funcs_from_mobility(model_mob, aust_model.get_epoch())"
   ]
  },
  {
   "cell_type": "code",
   "execution_count": null,
   "id": "71fef6f7-4b4b-44bc-ad16-0db0cb714545",
   "metadata": {},
   "outputs": [],
   "source": [
    "state_props = model_pops.sum() / model_pops.sum().sum()"
   ]
  },
  {
   "cell_type": "code",
   "execution_count": null,
   "id": "3fb8f098-5a2e-4e5c-bc10-83bda1453824",
   "metadata": {},
   "outputs": [],
   "source": [
    "wa_reopen_func = get_wa_infection_scaling(datetime(2022, 3, 3), aust_model)\n",
    "wa_prop_func = wa_reopen_func * state_props[0]"
   ]
  },
  {
   "cell_type": "code",
   "execution_count": null,
   "id": "3f0d5ad7-8cbd-43e2-a332-b21cb95b481c",
   "metadata": {},
   "outputs": [],
   "source": [
    "def capture_kwargs(*args, **kwargs):\n",
    "    return kwargs"
   ]
  },
  {
   "cell_type": "code",
   "execution_count": null,
   "id": "62e90920-c196-4474-8cec-83e79f0ffddb",
   "metadata": {},
   "outputs": [],
   "source": [
    "wa_funcs = Function(capture_kwargs, kwargs=interp_funcs['wa'])\n",
    "non_wa_funcs = Function(capture_kwargs, kwargs=interp_funcs['non_wa'])"
   ]
  },
  {
   "cell_type": "code",
   "execution_count": null,
   "id": "0c7fe846-18f0-493c-89d7-da73ac0f6c63",
   "metadata": {},
   "outputs": [],
   "source": [
    "def get_dynamic_matrix(matrices, wa_funcs, non_wa_funcs, wa_prop_func):\n",
    "    working_matrix = matrices['home'] + matrices['school']\n",
    "    funcs = {\n",
    "        'wa': wa_funcs,\n",
    "        'non_wa': non_wa_funcs,\n",
    "    }\n",
    "    for location in ['other_locations', 'work']:\n",
    "        for patch in ['wa', 'non_wa']:\n",
    "            prop = wa_prop_func if patch == 'wa' else 1.0 - wa_prop_func\n",
    "            funcs = wa_funcs if patch == 'wa' else non_wa_funcs\n",
    "            working_matrix += matrices[location] * funcs[location] * prop\n",
    "    return working_matrix"
   ]
  },
  {
   "cell_type": "code",
   "execution_count": null,
   "id": "42c3e221-d144-4447-9176-e8ec684a2396",
   "metadata": {},
   "outputs": [],
   "source": [
    "dynamic_matrix = Function(\n",
    "    get_dynamic_matrix, \n",
    "    [\n",
    "        adjusted_matrices, \n",
    "        wa_funcs,\n",
    "        non_wa_funcs,\n",
    "        wa_prop_func,\n",
    "    ]\n",
    ")"
   ]
  },
  {
   "cell_type": "code",
   "execution_count": null,
   "id": "a8cdb35e-b333-4133-8ef9-5bbc13aeb559",
   "metadata": {},
   "outputs": [],
   "source": [
    "age_strat = get_age_stratification(compartments, age_strata, dynamic_matrix, tex_doc)\n",
    "aust_model.stratify_with(age_strat)"
   ]
  },
  {
   "cell_type": "code",
   "execution_count": null,
   "id": "62d385d5-9055-40d6-a8b4-a2c71b8afc44",
   "metadata": {},
   "outputs": [],
   "source": [
    "aust_model.run(parameters=parameters)"
   ]
  }
 ],
 "metadata": {
  "kernelspec": {
   "display_name": "Python 3 (ipykernel)",
   "language": "python",
   "name": "python3"
  },
  "language_info": {
   "codemirror_mode": {
    "name": "ipython",
    "version": 3
   },
   "file_extension": ".py",
   "mimetype": "text/x-python",
   "name": "python",
   "nbconvert_exporter": "python",
   "pygments_lexer": "ipython3",
   "version": "3.10.11"
  }
 },
 "nbformat": 4,
 "nbformat_minor": 5
}
