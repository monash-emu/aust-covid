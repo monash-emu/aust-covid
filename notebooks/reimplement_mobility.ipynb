{
 "cells": [
  {
   "cell_type": "code",
   "execution_count": null,
   "id": "331919ee-c53e-45e9-992c-76f8388ecbd1",
   "metadata": {},
   "outputs": [],
   "source": [
    "from pathlib import Path\n",
    "import pandas as pd\n",
    "import numpy as np\n",
    "from plotly.subplots import make_subplots\n",
    "import plotly.graph_objects as go\n",
    "from plotly.express.colors import colorbrewer\n",
    "\n",
    "from aust_covid.inputs import load_google_mob_year_df, load_raw_pop_data\n",
    "PROJECT_PATH = Path().resolve().parent\n",
    "DATA_PATH = PROJECT_PATH / 'data'"
   ]
  },
  {
   "cell_type": "code",
   "execution_count": null,
   "id": "24764238-7504-479f-8b70-af6b8f9990e5",
   "metadata": {},
   "outputs": [],
   "source": [
    "locations = [\n",
    "    'school', \n",
    "    'home', \n",
    "    'work', \n",
    "    'other_locations',\n",
    "]"
   ]
  },
  {
   "cell_type": "code",
   "execution_count": null,
   "id": "d99d8704-9352-4424-b2f4-ea50c5df8139",
   "metadata": {},
   "outputs": [],
   "source": [
    "raw_location_matrices = {i: pd.read_csv(DATA_PATH / f'{i}.csv', index_col=0).to_numpy() for i in locations}"
   ]
  },
  {
   "cell_type": "code",
   "execution_count": null,
   "id": "bbab23e3-0ce9-47b3-b345-ed4f8db9d3b5",
   "metadata": {},
   "outputs": [],
   "source": [
    "# Collate raw data\n",
    "raw_data_2021 = pd.read_csv(DATA_PATH / '2021_AU_Region_Mobility_Report.csv', index_col=8)\n",
    "raw_data_2022 = pd.read_csv(DATA_PATH / '2022_AU_Region_Mobility_Report.csv', index_col=8)\n",
    "raw_data = pd.concat([raw_data_2021, raw_data_2022])\n",
    "\n",
    "# Extract state-level data, change index to date, get mobility column names\n",
    "state_data = raw_data.loc[raw_data['sub_region_1'].notnull() & raw_data['sub_region_2'].isnull()]\n",
    "state_data.index = pd.to_datetime(state_data.index)\n",
    "change_str = '_percent_change_from_baseline'\n",
    "mob_locs = [c for c in state_data.columns if change_str in c]\n",
    "\n",
    "# Split non-WA from WA\n",
    "non_wa_data = state_data.loc[state_data['sub_region_1'] != 'Western Australia']\n",
    "wa_data = state_data.loc[state_data['sub_region_1'] == 'Western Australia', mob_locs]\n",
    "\n",
    "# Add state population totals by state for non-WA states\n",
    "state_pop_totals = load_raw_pop_data('31010do002_202206.xlsx').sum()\n",
    "jurisdictions = set([j for j in state_data['sub_region_1'] if j != 'Australia'])\n",
    "for juris in jurisdictions:\n",
    "    non_wa_data.loc[non_wa_data['sub_region_1'] == juris, 'weights'] = state_pop_totals[juris]\n",
    "\n",
    "# Calculate weighted average\n",
    "state_averages = pd.DataFrame(columns=mob_locs)\n",
    "for mob_loc in mob_locs:\n",
    "    state_averages[mob_loc] = non_wa_data.groupby(non_wa_data.index).apply(\n",
    "        lambda x: np.average(x[mob_loc], weights=x['weights']),\n",
    "    )\n",
    "    \n",
    "# Relative change values\n",
    "non_wa_relmob = 1.0 + state_averages * 1e-2\n",
    "non_wa_relmob.columns = [c.replace(change_str, '_relative_change') for c in non_wa_relmob.columns]\n",
    "wa_relmob = 1.0 + wa_data * 1e-2\n",
    "wa_relmob.columns = [c.replace(change_str, '_relative_change') for c in wa_relmob.columns]"
   ]
  },
  {
   "cell_type": "code",
   "execution_count": null,
   "id": "dae7b046-b76c-4c4d-b721-353df617bb6d",
   "metadata": {},
   "outputs": [],
   "source": [
    "colours = colorbrewer.Accent\n",
    "fig = make_subplots(rows=4, cols=2, subplot_titles=list(jurisdictions))\n",
    "fig.update_layout(height=1500)\n",
    "for j, juris in enumerate(jurisdictions):\n",
    "    for l, mob_loc in enumerate(mob_locs):\n",
    "        estimates = state_data[state_data['sub_region_1'] == juris][mob_loc]\n",
    "        fig.add_trace(\n",
    "            go.Scatter(x=estimates.index, y=estimates, name=mob_loc, line=dict(color=colours[l]), showlegend=j==0),\n",
    "            row=j % 4 + 1, col=round(j / 7) + 1,\n",
    "        )\n",
    "fig"
   ]
  },
  {
   "cell_type": "code",
   "execution_count": null,
   "id": "cf22a2d5-2814-4902-af6b-3f3c2f96f1ba",
   "metadata": {},
   "outputs": [],
   "source": [
    "fig = make_subplots(rows=1, cols=2, subplot_titles=['Western Australia', 'Weighted average for rest of Australia'])\n",
    "fig.update_layout(height=500)\n",
    "for j, mob_data in enumerate([wa_relmob, non_wa_relmob]):\n",
    "    for l, mob_loc in enumerate(mob_data.columns):\n",
    "        estimates = mob_data[mob_loc]\n",
    "        fig.add_trace(\n",
    "            go.Scatter(x=estimates.index, y=estimates, name=mob_loc, line=dict(color=colours[l]), showlegend=j==0),\n",
    "            row=1, col=j + 1,\n",
    "        )\n",
    "fig"
   ]
  },
  {
   "cell_type": "code",
   "execution_count": null,
   "id": "3f765f6a-55f4-44b7-a012-cd0cc7018a77",
   "metadata": {},
   "outputs": [],
   "source": [
    "mob_map = {\n",
    "    'other_locations': \n",
    "        {\n",
    "            'retail_and_recreation_relative_change': 0.34, \n",
    "            'grocery_and_pharmacy_relative_change': 0.33,\n",
    "            'parks_relative_change': 0.0,\n",
    "            'transit_stations_relative_change': 0.33,\n",
    "            'workplaces_relative_change': 0.0,\n",
    "            'residential_relative_change': 0.0,\n",
    "        },\n",
    "    'work':\n",
    "        {\n",
    "            'retail_and_recreation_relative_change': 0.0, \n",
    "            'grocery_and_pharmacy_relative_change': 0.0,\n",
    "            'parks_relative_change': 0.0,\n",
    "            'transit_stations_relative_change': 0.0,\n",
    "            'workplaces_relative_change': 1.0,\n",
    "            'residential_relative_change': 0.0,\n",
    "        },  \n",
    "}\n",
    "patch_data = {\n",
    "    'wa': wa_relmob,\n",
    "    'non_wa': non_wa_relmob,\n",
    "}\n",
    "\n",
    "model_mob = pd.DataFrame(columns=pd.MultiIndex.from_product([patch_data.keys(), mob_map.keys()]))\n",
    "for patch in patch_data.keys():\n",
    "    for mob_loc in mob_map.keys():\n",
    "        data = wa_relmob.assign(**mob_map[mob_loc]).mul(patch_data[patch]).sum(1)\n",
    "        model_mob.loc[:, (patch, mob_loc)] = data"
   ]
  },
  {
   "cell_type": "code",
   "execution_count": null,
   "id": "e0912b0d-5805-48f1-89de-044dbbad1003",
   "metadata": {},
   "outputs": [],
   "source": [
    "fig = make_subplots(rows=1, cols=2, subplot_titles=['Western Australia', 'Weighted average for rest of Australia'])\n",
    "fig.update_layout(height=500)\n",
    "for p, patch in enumerate(patch_data.keys()):\n",
    "    for l, mob_loc in enumerate(mob_map.keys()):\n",
    "        estimates = model_mob.loc[:, (patch, mob_loc)]\n",
    "        fig.add_trace(\n",
    "            go.Scatter(x=estimates.index, y=estimates, name=mob_loc, line=dict(color=colours[l]), showlegend=p==0),\n",
    "            row=1, col=p + 1,\n",
    "        )\n",
    "fig"
   ]
  }
 ],
 "metadata": {
  "kernelspec": {
   "display_name": "Python 3 (ipykernel)",
   "language": "python",
   "name": "python3"
  },
  "language_info": {
   "codemirror_mode": {
    "name": "ipython",
    "version": 3
   },
   "file_extension": ".py",
   "mimetype": "text/x-python",
   "name": "python",
   "nbconvert_exporter": "python",
   "pygments_lexer": "ipython3",
   "version": "3.10.0"
  }
 },
 "nbformat": 4,
 "nbformat_minor": 5
}
