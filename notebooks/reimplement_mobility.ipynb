{
 "cells": [
  {
   "cell_type": "code",
   "execution_count": null,
   "id": "331919ee-c53e-45e9-992c-76f8388ecbd1",
   "metadata": {},
   "outputs": [],
   "source": [
    "from pathlib import Path\n",
    "import pandas as pd\n",
    "import numpy as np\n",
    "from plotly.subplots import make_subplots\n",
    "import plotly.graph_objects as go\n",
    "\n",
    "from aust_covid.mobility import get_non_wa_mob_averages, get_constants_from_mobility, get_relative_mobility, map_mobility_locations\n",
    "from aust_covid.plotting import plot_state_mobility, plot_processed_mobility\n",
    "from aust_covid.inputs import load_raw_pop_data, get_raw_state_mobility\n",
    "PROJECT_PATH = Path().resolve().parent\n",
    "DATA_PATH = PROJECT_PATH / 'data'\n",
    "CHANGE_STR = '_percent_change_from_baseline'"
   ]
  },
  {
   "cell_type": "code",
   "execution_count": null,
   "id": "24764238-7504-479f-8b70-af6b8f9990e5",
   "metadata": {},
   "outputs": [],
   "source": [
    "model_mob_locs = [\n",
    "    'school', \n",
    "    'home', \n",
    "    'work', \n",
    "    'other_locations',\n",
    "]\n",
    "raw_location_matrices = {i: pd.read_csv(DATA_PATH / f'{i}.csv', index_col=0).to_numpy() for i in model_mob_locs}"
   ]
  },
  {
   "cell_type": "code",
   "execution_count": null,
   "id": "d618d265-697b-453d-9ac9-332c0efbecf7",
   "metadata": {},
   "outputs": [],
   "source": [
    "state_data = get_raw_state_mobility()\n",
    "jurisdictions, mob_locs = get_constants_from_mobility(state_data)\n",
    "wa_data = state_data.loc[state_data['sub_region_1'] == 'Western Australia', mob_locs]\n",
    "state_averages = get_non_wa_mob_averages(state_data, mob_locs, jurisdictions)\n",
    "non_wa_relmob = get_relative_mobility(state_averages)\n",
    "wa_relmob = get_relative_mobility(wa_data)\n",
    "mob_map = {\n",
    "    'other_locations': \n",
    "        {\n",
    "            'retail_and_recreation': 0.34, \n",
    "            'grocery_and_pharmacy': 0.33,\n",
    "            'parks': 0.0,\n",
    "            'transit_stations': 0.33,\n",
    "            'workplaces': 0.0,\n",
    "            'residential': 0.0,\n",
    "        },\n",
    "    'work':\n",
    "        {\n",
    "            'retail_and_recreation': 0.0, \n",
    "            'grocery_and_pharmacy': 0.0,\n",
    "            'parks': 0.0,\n",
    "            'transit_stations': 0.0,\n",
    "            'workplaces': 1.0,\n",
    "            'residential': 0.0,\n",
    "        },  \n",
    "}\n",
    "model_mob = map_mobility_locations(wa_relmob, non_wa_relmob, mob_map)\n",
    "smoothed_model_mob = model_mob.rolling(7).mean().dropna()"
   ]
  },
  {
   "cell_type": "code",
   "execution_count": null,
   "id": "58699a66-a3aa-45ef-9cf6-c16fac1a8292",
   "metadata": {},
   "outputs": [],
   "source": [
    "# plot_state_mobility(state_data, jurisdictions, mob_locs)"
   ]
  },
  {
   "cell_type": "code",
   "execution_count": null,
   "id": "0443412f-8c81-4565-8c6f-026f25de3ca5",
   "metadata": {},
   "outputs": [],
   "source": [
    "# plot_processed_mobility(model_mob, smoothed_model_mob)"
   ]
  },
  {
   "cell_type": "code",
   "execution_count": null,
   "id": "a7a8521a-d3a2-4f02-abed-11402518f263",
   "metadata": {},
   "outputs": [],
   "source": [
    "from summer2.functions.time import get_piecewise_scalar_function, get_linear_interpolation_function"
   ]
  },
  {
   "cell_type": "code",
   "execution_count": null,
   "id": "4923868c-6040-434b-9e29-ce0f7ae0bddd",
   "metadata": {},
   "outputs": [],
   "source": [
    "mobility_effect_func = get_linear_interpolation_function(model.get_epoch().dti_to_index(mobility_effect.index), mobility_effect.to_numpy())\n"
   ]
  }
 ],
 "metadata": {
  "kernelspec": {
   "display_name": "Python 3 (ipykernel)",
   "language": "python",
   "name": "python3"
  },
  "language_info": {
   "codemirror_mode": {
    "name": "ipython",
    "version": 3
   },
   "file_extension": ".py",
   "mimetype": "text/x-python",
   "name": "python",
   "nbconvert_exporter": "python",
   "pygments_lexer": "ipython3",
   "version": "3.10.0"
  }
 },
 "nbformat": 4,
 "nbformat_minor": 5
}
