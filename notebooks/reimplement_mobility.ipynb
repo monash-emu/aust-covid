{
 "cells": [
  {
   "cell_type": "code",
   "execution_count": null,
   "id": "331919ee-c53e-45e9-992c-76f8388ecbd1",
   "metadata": {},
   "outputs": [],
   "source": [
    "from pathlib import Path\n",
    "import pandas as pd\n",
    "import numpy as np\n",
    "\n",
    "from aust_covid.inputs import load_google_mob_year_df, load_raw_pop_data\n",
    "PROJECT_PATH = Path().resolve().parent\n",
    "DATA_PATH = PROJECT_PATH / 'data'"
   ]
  },
  {
   "cell_type": "code",
   "execution_count": null,
   "id": "24764238-7504-479f-8b70-af6b8f9990e5",
   "metadata": {},
   "outputs": [],
   "source": [
    "locations = [\n",
    "    'school', \n",
    "    'home', \n",
    "    'work', \n",
    "    'other_locations',\n",
    "]"
   ]
  },
  {
   "cell_type": "code",
   "execution_count": null,
   "id": "d99d8704-9352-4424-b2f4-ea50c5df8139",
   "metadata": {},
   "outputs": [],
   "source": [
    "raw_location_matrices = {i: pd.read_csv(DATA_PATH / f'{i}.csv', index_col=0).to_numpy() for i in locations}"
   ]
  },
  {
   "cell_type": "code",
   "execution_count": null,
   "id": "1d15de0a-b513-458c-98d9-a0df61790bdc",
   "metadata": {},
   "outputs": [],
   "source": [
    "state_averages"
   ]
  },
  {
   "cell_type": "code",
   "execution_count": null,
   "id": "bbab23e3-0ce9-47b3-b345-ed4f8db9d3b5",
   "metadata": {},
   "outputs": [],
   "source": [
    "raw_data_2021 = pd.read_csv(DATA_PATH / '2021_AU_Region_Mobility_Report.csv', index_col=8)\n",
    "raw_data_2022 = pd.read_csv(DATA_PATH / '2022_AU_Region_Mobility_Report.csv', index_col=8)\n",
    "raw_data = pd.concat([raw_data_2021, raw_data_2022])\n",
    "state_data = raw_data.loc[raw_data['sub_region_1'].notnull() & raw_data['sub_region_2'].isnull()]\n",
    "wa_data = state_data.loc[state_data['sub_region_1'] == 'Western Australia']\n",
    "non_wa_data = state_data.loc[state_data['sub_region_1'] != 'Western Australia']\n",
    "mob_cols = [c for c in wa_data.columns if '_percent_change_from_baseline' in c]\n",
    "wa_mobility = wa_data[mob_cols]\n",
    "mob_locations = [c.replace('_percent_change_from_baseline', '') for c in wa_mobility.columns]\n",
    "wa_mobility.columns = mob_locations\n",
    "non_wa_mobility = non_wa_data[['sub_region_1'] + mob_cols]\n",
    "non_wa_mobility.columns = ['sub_region_1'] + mob_locations\n",
    "wa_mobility.index = pd.to_datetime(wa_mobility.index)\n",
    "non_wa_mobility.index = pd.to_datetime(non_wa_mobility.index)\n",
    "state_pop_totals = load_raw_pop_data('31010do002_202206.xlsx').sum()\n",
    "for jurisdiction in state_pop_totals.index:\n",
    "    non_wa_mobility.loc[non_wa_mobility['sub_region_1'] == jurisdiction, 'weights'] = state_pop_totals[jurisdiction]\n",
    "state_averages = pd.DataFrame(columns=mob_locations)\n",
    "for location in mob_locations:\n",
    "    location_mob = non_wa_mobility.groupby(non_wa_mobility.index).apply(lambda x: np.average(x[location], weights=x['weights']))\n",
    "    state_averages[location] = location_mob\n",
    "non_wa_relmob = 1.0 + state_averages * 1e-2\n",
    "wa_relmob = 1.0 + wa_mobility * 1e-2"
   ]
  },
  {
   "cell_type": "code",
   "execution_count": null,
   "id": "d5a17bfc-fed0-41d1-b964-319d11d0773c",
   "metadata": {},
   "outputs": [],
   "source": [
    "state_pop_totals = load_raw_pop_data('31010do002_202206.xlsx').sum()"
   ]
  },
  {
   "cell_type": "code",
   "execution_count": null,
   "id": "85fc27ff-7b3d-499f-a31c-4c74b7c5ccac",
   "metadata": {},
   "outputs": [],
   "source": [
    "state_pop_totals.index"
   ]
  },
  {
   "cell_type": "code",
   "execution_count": null,
   "id": "55e5a6d4-480c-4b60-909b-1e17760abbb0",
   "metadata": {},
   "outputs": [],
   "source": [
    "for jurisdiction in state_pop_totals.index:\n",
    "    non_wa_mobility.loc[non_wa_mobility['sub_region_1'] == jurisdiction, 'fake_weights'] = state_pop_totals[jurisdiction]"
   ]
  }
 ],
 "metadata": {
  "kernelspec": {
   "display_name": "Python 3 (ipykernel)",
   "language": "python",
   "name": "python3"
  },
  "language_info": {
   "codemirror_mode": {
    "name": "ipython",
    "version": 3
   },
   "file_extension": ".py",
   "mimetype": "text/x-python",
   "name": "python",
   "nbconvert_exporter": "python",
   "pygments_lexer": "ipython3",
   "version": "3.10.11"
  }
 },
 "nbformat": 4,
 "nbformat_minor": 5
}
