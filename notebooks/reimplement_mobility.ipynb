{
 "cells": [
  {
   "cell_type": "code",
   "execution_count": null,
   "id": "331919ee-c53e-45e9-992c-76f8388ecbd1",
   "metadata": {},
   "outputs": [],
   "source": [
    "from pathlib import Path\n",
    "import pandas as pd\n",
    "import numpy as np\n",
    "\n",
    "from aust_covid.inputs import load_google_mob_year_df\n",
    "PROJECT_PATH = Path().resolve().parent\n",
    "DATA_PATH = PROJECT_PATH / 'data'"
   ]
  },
  {
   "cell_type": "code",
   "execution_count": null,
   "id": "24764238-7504-479f-8b70-af6b8f9990e5",
   "metadata": {},
   "outputs": [],
   "source": [
    "locations = [\n",
    "    'school', \n",
    "    'home', \n",
    "    'work', \n",
    "    'other_locations',\n",
    "]"
   ]
  },
  {
   "cell_type": "code",
   "execution_count": null,
   "id": "d99d8704-9352-4424-b2f4-ea50c5df8139",
   "metadata": {},
   "outputs": [],
   "source": [
    "raw_location_matrices = {i: pd.read_csv(DATA_PATH / f'{i}.csv', index_col=0).to_numpy() for i in locations}"
   ]
  },
  {
   "cell_type": "code",
   "execution_count": null,
   "id": "bbab23e3-0ce9-47b3-b345-ed4f8db9d3b5",
   "metadata": {},
   "outputs": [],
   "source": [
    "raw_data = pd.concat(\n",
    "    [\n",
    "        pd.read_csv(DATA_PATH / '2021_AU_Region_Mobility_Report.csv', index_col=8),\n",
    "        pd.read_csv(DATA_PATH / '2022_AU_Region_Mobility_Report.csv', index_col=8),\n",
    "    ]\n",
    ")\n",
    "state_data = raw_data.loc[raw_data['sub_region_1'].notnull() & raw_data['sub_region_2'].isnull()]\n",
    "wa_data = state_data.loc[state_data['sub_region_1'] == 'Western Australia']\n",
    "non_wa_data = state_data.loc[state_data['sub_region_1'] != 'Western Australia']\n",
    "mob_cols = [c for c in wa_data.columns if '_percent_change_from_baseline' in c]\n",
    "wa_mobility = wa_data[mob_cols]\n",
    "mob_locations = [c.replace('_percent_change_from_baseline', '') for c in wa_mobility.columns]\n",
    "wa_mobility.columns = mob_locations\n",
    "non_wa_mobility = non_wa_data[['sub_region_1'] + mob_cols]\n",
    "non_wa_mobility.columns = ['sub_region_1'] + mob_locations\n",
    "wa_mobility.index = pd.to_datetime(wa_mobility.index)\n",
    "non_wa_mobility.index = pd.to_datetime(non_wa_mobility.index)\n",
    "non_wa_mobility['fake_weights'] = 1.0\n",
    "state_averages = pd.DataFrame(columns=mob_locations)\n",
    "for location in mob_locations:\n",
    "    state_averages[location] = non_wa_mobility.groupby(non_wa_mobility.index).apply(lambda x: np.average(x[location], weights=x['fake_weights']))\n",
    "non_wa_relmob = 1.0 + state_averages * 1e-2\n",
    "wa_relmob = 1.0 + wa_mobility * 1e-2"
   ]
  }
 ],
 "metadata": {
  "kernelspec": {
   "display_name": "Python 3 (ipykernel)",
   "language": "python",
   "name": "python3"
  },
  "language_info": {
   "codemirror_mode": {
    "name": "ipython",
    "version": 3
   },
   "file_extension": ".py",
   "mimetype": "text/x-python",
   "name": "python",
   "nbconvert_exporter": "python",
   "pygments_lexer": "ipython3",
   "version": "3.10.11"
  }
 },
 "nbformat": 4,
 "nbformat_minor": 5
}
