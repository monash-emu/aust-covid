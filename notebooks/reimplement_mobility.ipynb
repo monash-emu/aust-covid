{
 "cells": [
  {
   "cell_type": "code",
   "execution_count": null,
   "id": "331919ee-c53e-45e9-992c-76f8388ecbd1",
   "metadata": {},
   "outputs": [],
   "source": [
    "from pathlib import Path\n",
    "import pandas as pd\n",
    "import numpy as np\n",
    "\n",
    "from aust_covid.inputs import load_google_mob_year_df\n",
    "PROJECT_PATH = Path().resolve().parent\n",
    "DATA_PATH = PROJECT_PATH / 'data'"
   ]
  },
  {
   "cell_type": "code",
   "execution_count": null,
   "id": "24764238-7504-479f-8b70-af6b8f9990e5",
   "metadata": {},
   "outputs": [],
   "source": [
    "locations = [\n",
    "    'school', \n",
    "    'home', \n",
    "    'work', \n",
    "    'other_locations',\n",
    "]"
   ]
  },
  {
   "cell_type": "code",
   "execution_count": null,
   "id": "d99d8704-9352-4424-b2f4-ea50c5df8139",
   "metadata": {},
   "outputs": [],
   "source": [
    "raw_location_matrices = {i: pd.read_csv(DATA_PATH / f'{i}.csv', index_col=0).to_numpy() for i in locations}"
   ]
  },
  {
   "cell_type": "code",
   "execution_count": null,
   "id": "bbab23e3-0ce9-47b3-b345-ed4f8db9d3b5",
   "metadata": {},
   "outputs": [],
   "source": [
    "raw_data = pd.concat(\n",
    "    [\n",
    "        pd.read_csv(DATA_PATH / '2021_AU_Region_Mobility_Report.csv', index_col=8),\n",
    "        pd.read_csv(DATA_PATH / '2022_AU_Region_Mobility_Report.csv', index_col=8),\n",
    "    ]\n",
    ")\n",
    "state_data = raw_data.loc[raw_data['sub_region_1'].notnull() & raw_data['sub_region_2'].isnull()]\n",
    "wa_data = state_data.loc[state_data['sub_region_1'] == 'Western Australia']\n",
    "non_wa_data = state_data.loc[state_data['sub_region_1'] != 'Western Australia']\n",
    "mob_cols = [c for c in wa_data.columns if '_percent_change_from_baseline' in c]\n",
    "wa_mobility = wa_data[mob_cols]\n",
    "non_wa_mobility = non_wa_data[['sub_region_1'] + mob_cols]\n",
    "wa_mobility.columns = [c.replace('_percent_change_from_baseline', '') for c in wa_mobility.columns]\n",
    "non_wa_mobility.columns = [c.replace('_percent_change_from_baseline', '') for c in non_wa_mobility.columns]"
   ]
  },
  {
   "cell_type": "code",
   "execution_count": null,
   "id": "bb874864-a75d-4d9e-af52-328f3367f639",
   "metadata": {},
   "outputs": [],
   "source": [
    "non_wa_mobility"
   ]
  },
  {
   "cell_type": "code",
   "execution_count": null,
   "id": "1b860cc4-ec29-44e5-b7ef-4155591c60dc",
   "metadata": {},
   "outputs": [],
   "source": [
    "something = non_wa_mobility.groupby(non_wa_mobility.index)"
   ]
  },
  {
   "cell_type": "code",
   "execution_count": null,
   "id": "e33b5eda-06f0-4faf-9b3e-f8cf20edd9a8",
   "metadata": {},
   "outputs": [],
   "source": [
    "non_wa_mobility['fake_weights'] = 1.0"
   ]
  },
  {
   "cell_type": "code",
   "execution_count": null,
   "id": "85599fbd-7904-4c94-b676-5096a76ae7af",
   "metadata": {},
   "outputs": [],
   "source": [
    "non_wa_mobility"
   ]
  },
  {
   "cell_type": "code",
   "execution_count": null,
   "id": "be13d0fd-c1e0-4467-8e15-b3e3aa5753f9",
   "metadata": {},
   "outputs": [],
   "source": [
    "something = non_wa_mobility.groupby(non_wa_mobility.index).apply(lambda x: np.average(x['retail_and_recreation'], weights=x['fake_weights']))"
   ]
  },
  {
   "cell_type": "code",
   "execution_count": null,
   "id": "3595c9cb-9fe8-4257-8ad3-fd4c8d83e847",
   "metadata": {},
   "outputs": [],
   "source": [
    "rel_mob_df = 1.0 + mob_df * 1e-2"
   ]
  }
 ],
 "metadata": {
  "kernelspec": {
   "display_name": "Python 3 (ipykernel)",
   "language": "python",
   "name": "python3"
  },
  "language_info": {
   "codemirror_mode": {
    "name": "ipython",
    "version": 3
   },
   "file_extension": ".py",
   "mimetype": "text/x-python",
   "name": "python",
   "nbconvert_exporter": "python",
   "pygments_lexer": "ipython3",
   "version": "3.10.11"
  }
 },
 "nbformat": 4,
 "nbformat_minor": 5
}
