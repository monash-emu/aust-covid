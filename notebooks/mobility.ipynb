{
 "cells": [
  {
   "cell_type": "code",
   "execution_count": null,
   "id": "e94baf68-5bd7-4fab-8153-bbd900516802",
   "metadata": {},
   "outputs": [],
   "source": [
    "from inputs.constants import SUPPLEMENT_PATH\n",
    "from aust_covid.mobility import get_raw_state_mobility\n",
    "from emutools.tex import StandardTexDoc"
   ]
  },
  {
   "cell_type": "code",
   "execution_count": null,
   "id": "0b92acba-e62c-4335-8aa3-e7f89a40ca66",
   "metadata": {},
   "outputs": [],
   "source": [
    "app_doc = StandardTexDoc(SUPPLEMENT_PATH, 'mobility', 'Mobility', 'austcovid')"
   ]
  },
  {
   "cell_type": "code",
   "execution_count": null,
   "id": "d32498a8-65d4-4ca0-8b98-3330f532194d",
   "metadata": {},
   "outputs": [],
   "source": [
    "state_data, jurisdictions, mob_locs = get_raw_state_mobility(app_doc)\n",
    "wa_data = state_data.loc[state_data['sub_region_1'] == 'Western Australia', mob_locs]\n"
   ]
  },
  {
   "cell_type": "code",
   "execution_count": null,
   "id": "e2666cbb-83fc-4048-b1ce-b148e8550ac0",
   "metadata": {},
   "outputs": [],
   "source": [
    "wa_data.plot()"
   ]
  }
 ],
 "metadata": {
  "kernelspec": {
   "display_name": "Python 3 (ipykernel)",
   "language": "python",
   "name": "python3"
  },
  "language_info": {
   "codemirror_mode": {
    "name": "ipython",
    "version": 3
   },
   "file_extension": ".py",
   "mimetype": "text/x-python",
   "name": "python",
   "nbconvert_exporter": "python",
   "pygments_lexer": "ipython3",
   "version": "3.10.0"
  }
 },
 "nbformat": 4,
 "nbformat_minor": 5
}
