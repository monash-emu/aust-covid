{
 "cells": [
  {
   "cell_type": "markdown",
   "id": "aaa7661f-3c91-478a-ade0-a791303cb197",
   "metadata": {},
   "source": [
    "List of outstanding tasks with this calibration:\n",
    "- Initialise parameters from different points\n",
    "- Reinstate mobility contact scaling\n",
    "- Consider implementing empiric vaccination-related susceptibility\n",
    "- Get back running over Colab\n",
    "- Write the paper"
   ]
  },
  {
   "cell_type": "code",
   "execution_count": null,
   "id": "639b229a-ae5c-4299-a28c-f727cd75a517",
   "metadata": {},
   "outputs": [],
   "source": [
    "from datetime import datetime\n",
    "import numpy as np\n",
    "import pandas as pd\n",
    "from plotly.subplots import make_subplots\n",
    "import plotly.graph_objects as go\n",
    "import pymc as pm\n",
    "import arviz as az\n",
    "from jax import numpy as jnp\n",
    "\n",
    "from estival.model import BayesianCompartmentalModel\n",
    "import estival.priors as esp\n",
    "import estival.targets as est\n",
    "from estival.wrappers import pymc as epm\n",
    "\n",
    "from inputs.constants import ANALYSIS_START_DATE, ANALYSIS_END_DATE, PLOT_START_DATE, PROJECT_PATH\n",
    "from autumn.infrastructure.remote import springboard\n",
    "from autumn.core.runs import ManagedRun\n",
    "from aust_covid.inputs import load_calibration_targets, load_who_data, load_serosurvey_data, get_ifrs, load_raw_pop_data, get_raw_state_mobility\n",
    "from aust_covid.model import build_model\n",
    "from aust_covid.plotting import plot_key_outputs, plot_cdr_examples, plot_subvariant_props, plot_dispersion_examples\n",
    "from aust_covid.plotting import plot_state_mobility, plot_processed_mobility, plot_example_model_matrices\n",
    "from aust_covid.calibration import get_priors\n",
    "from emutools.tex import StandardTexDoc\n",
    "from emutools.inputs import load_param_info\n",
    "from emutools.calibration import param_table_to_tex, round_sigfig, sample_idata, get_sampled_outputs, plot_param_progression, view_posterior_comparison, tabulate_priors, tabulate_param_results"
   ]
  },
  {
   "cell_type": "code",
   "execution_count": null,
   "id": "4cfe6efa-3965-44f1-8487-384c4d42ab3d",
   "metadata": {},
   "outputs": [],
   "source": [
    "app_doc = StandardTexDoc(PROJECT_PATH / 'supplement', 'supplement', \"Australia's 2023 Omicron Waves Supplement\", 'austcovid')"
   ]
  },
  {
   "cell_type": "code",
   "execution_count": null,
   "id": "b7f27415-143f-4b70-805e-68ef0724425d",
   "metadata": {},
   "outputs": [],
   "source": [
    "case_targets = load_calibration_targets(app_doc)\n",
    "death_targets = load_who_data(app_doc)\n",
    "serosurvey_targets = load_serosurvey_data(app_doc)"
   ]
  },
  {
   "cell_type": "code",
   "execution_count": null,
   "id": "0839a928-3ff8-4f11-8aa7-e591d335c1eb",
   "metadata": {},
   "outputs": [],
   "source": [
    "param_info = load_param_info(PROJECT_PATH / 'inputs' / 'parameters.yml')\n",
    "ifrs = get_ifrs(app_doc)\n",
    "param_info['value'].update(ifrs)\n",
    "parameters = param_info['value'].to_dict()"
   ]
  },
  {
   "cell_type": "code",
   "execution_count": null,
   "id": "c4ee5821-390b-446a-8f37-ac5d23a62fb4",
   "metadata": {},
   "outputs": [],
   "source": [
    "aust_model = build_model(app_doc, mobility_sens=True)"
   ]
  },
  {
   "cell_type": "code",
   "execution_count": null,
   "id": "6949a79f-d09e-4f03-b58b-e4a03928e4ab",
   "metadata": {},
   "outputs": [],
   "source": [
    "aust_model.run(parameters=parameters)"
   ]
  },
  {
   "cell_type": "code",
   "execution_count": null,
   "id": "083af55a-c217-4322-bf70-8c348c1b280b",
   "metadata": {},
   "outputs": [],
   "source": [
    "priors = get_priors()\n",
    "prior_names = [p.name for p in priors]"
   ]
  },
  {
   "cell_type": "code",
   "execution_count": null,
   "id": "d4274b0f-5079-44c4-b4e8-e90fbf597939",
   "metadata": {},
   "outputs": [],
   "source": [
    "# Set up for calibration or optimisation\n",
    "def truncation_ceiling(modelled, obs, parameters, time_weights):\n",
    "    return jnp.where(modelled > obs, -1e11, 0.0)\n",
    "\n",
    "\n",
    "targets = [\n",
    "    est.NegativeBinomialTarget('notifications_ma', case_targets, dispersion_param=esp.UniformPrior('notifications_ma_dispersion', (10.0, 140.0))),\n",
    "    est.NegativeBinomialTarget('deaths_ma', death_targets, dispersion_param=esp.UniformPrior('deaths_ma_dispersion', (60.0, 200.0))),\n",
    "    est.BinomialTarget('adult_seropos_prop', serosurvey_targets, pd.Series([20] * 4, index=serosurvey_targets.index)),\n",
    "]\n",
    "targets.append(est.CustomTarget('seropos_ceiling', pd.Series([0.04], index=[datetime(2021, 12, 1)]), truncation_ceiling, model_key='adult_seropos_prop'))"
   ]
  },
  {
   "cell_type": "code",
   "execution_count": null,
   "id": "522025dc-b731-4ca2-9064-c605a261f4c2",
   "metadata": {},
   "outputs": [],
   "source": [
    "calibration_model = BayesianCompartmentalModel(aust_model, parameters, priors, targets)"
   ]
  },
  {
   "cell_type": "code",
   "execution_count": null,
   "id": "fb1ec7d5-3cde-4a75-88ca-7970f4793829",
   "metadata": {},
   "outputs": [],
   "source": [
    "# with pm.Model() as pmc_model:\n",
    "#     start_params = {k: np.clip(v, *calibration_model.priors[k].bounds(0.99)) for k, v in parameters.items() if k in calibration_model.priors}\n",
    "#     variables = epm.use_model(calibration_model)\n",
    "#     map_params = pm.find_MAP(start=start_params, vars=variables, include_transformed=False)\n",
    "#     map_params = {k: float(v) for k, v in map_params.items()}\n",
    "# print('Best calibration parameters found:')\n",
    "# for i_param, param in enumerate([p for p in map_params if '_dispersion' not in p]):\n",
    "#     print(f'   {param}: {round_sigfig(map_params[param], 4)} (within bound {priors[i_param].bounds()}')\n",
    "# parameters.update(map_params)\n",
    "# aust_model.run(parameters=parameters)"
   ]
  },
  {
   "cell_type": "code",
   "execution_count": null,
   "id": "383dc7e2-6b6d-4880-8a78-a9568edbb0a0",
   "metadata": {},
   "outputs": [],
   "source": [
    "app_doc.include_table(param_table_to_tex(param_info, prior_names), section='Parameters', col_splits=[0.17, 0.15, 0.15, 0.53], longtable=True)\n",
    "app_doc.include_table(tabulate_priors(priors, param_info), section='Calibration', col_splits=[0.25] * 4)"
   ]
  },
  {
   "cell_type": "code",
   "execution_count": null,
   "id": "a8f0c01d-336b-4065-8398-0a79ab2d820f",
   "metadata": {},
   "outputs": [],
   "source": [
    "app_doc.save_content()"
   ]
  },
  {
   "cell_type": "code",
   "execution_count": null,
   "id": "00a01865-bf5f-4523-87a0-043e731204ec",
   "metadata": {},
   "outputs": [],
   "source": [
    "# with pm.Model() as pm_model:\n",
    "#     variables = epm.use_model(calibration_model)\n",
    "#     idata_local = pm.sample(step=[pm.DEMetropolis(variables)], draws=100, tune=0, cores=9, chains=18)\n",
    "# idata_local.to_netcdf('calibration_out.nc')"
   ]
  },
  {
   "cell_type": "code",
   "execution_count": null,
   "id": "bf9b6ba1-1c99-453a-a72c-6e94fab55178",
   "metadata": {},
   "outputs": [],
   "source": [
    "def run_calibration(bridge: springboard.task.TaskBridge, calibration_model: BayesianCompartmentalModel):\n",
    "    import multiprocessing as mp\n",
    "    mp.set_start_method('forkserver')\n",
    "    \n",
    "    with pm.Model() as pm_model:\n",
    "        variables = epm.use_model(calibration_model)\n",
    "        idata_raw = pm.sample(step=[pm.DEMetropolisZ(variables)], draws=10000, tune=2000, cores=8, chains=8, progressbar=False)\n",
    "    \n",
    "    idata_raw.to_netcdf(str(bridge.out_path / 'calibration_out.nc'))\n",
    "    bridge.logger.info('Calibration complete')\n",
    "    \n",
    "mspec = springboard.EC2MachineSpec(8, 2, 'compute')\n",
    "tspec = springboard.TaskSpec(run_calibration, {'calibration_model': calibration_model})\n",
    "run_path = springboard.launch.get_autumn_project_run_path('aust_covid', 'base_case_analysis', 'try_DEMZ_10k')\n",
    "run_path"
   ]
  },
  {
   "cell_type": "code",
   "execution_count": null,
   "id": "4db1b97e-7819-4ad2-baf7-8c24589e96dd",
   "metadata": {},
   "outputs": [],
   "source": [
    "aust_covid_commands = [\n",
    "    'git clone --branch main https://github.com/monash-emu/aust-covid',\n",
    "    'pip install -e ./aust-covid',\n",
    "]\n",
    "runner = springboard.launch.launch_synced_autumn_task(tspec, mspec, run_path, branch=None, extra_commands=aust_covid_commands)"
   ]
  },
  {
   "cell_type": "code",
   "execution_count": null,
   "id": "0788b2d8-e5a8-45c1-b1bc-ddd949a59159",
   "metadata": {},
   "outputs": [],
   "source": [
    "app_doc = StandardTexDoc(PROJECT_PATH / 'supplement', 'supplement', \"Australia's 2023 Omicron Waves Supplement\", 'austcovid')\n",
    "app_doc.load_content()"
   ]
  },
  {
   "cell_type": "code",
   "execution_count": null,
   "id": "e89d9b01-1ba0-4cc6-9e25-fdf62db637ec",
   "metadata": {},
   "outputs": [],
   "source": [
    "run_path = 'projects/aust_covid/base_case_analysis/2023-08-30T1608-try_DEMZ_10k'"
   ]
  },
  {
   "cell_type": "code",
   "execution_count": null,
   "id": "bd0255b4-3110-4cb4-af3f-c541faba315e",
   "metadata": {},
   "outputs": [],
   "source": [
    "mr = ManagedRun(run_path)\n",
    "mr.remote.download(mr.remote.list_contents()[-1])\n",
    "idata = az.from_netcdf(mr.list_local()[-1])"
   ]
  },
  {
   "cell_type": "code",
   "execution_count": null,
   "id": "e59c21c7-4f98-4140-bc51-ec3cce3335a5",
   "metadata": {},
   "outputs": [],
   "source": [
    "# Burn\n",
    "idata = idata.sel(draw=np.s_[2000:])"
   ]
  },
  {
   "cell_type": "code",
   "execution_count": null,
   "id": "9241ac20-9bad-41c1-bae5-bdc1a44af8f9",
   "metadata": {},
   "outputs": [],
   "source": [
    "sampled_idata = sample_idata(idata, 2, calibration_model)\n",
    "key_outputs = ['notifications_ma', 'adult_seropos_prop', 'deaths_ma']\n",
    "variant_prop_outputs = [i for i in aust_model.derived_outputs.keys() if re.fullmatch('ba[0-5]_prop', i)]\n",
    "req_outputs = key_outputs + variant_prop_outputs\n",
    "output_results = get_sampled_outputs(calibration_model, sampled_idata, req_outputs, parameters)"
   ]
  },
  {
   "cell_type": "code",
   "execution_count": null,
   "id": "8cb6b099-099d-49b5-963b-8b7b7bd7edac",
   "metadata": {},
   "outputs": [],
   "source": [
    "plot_subvariant_props(sampled_idata, output_results, PLOT_START_DATE, ANALYSIS_END_DATE, app_doc, show_fig=True)"
   ]
  },
  {
   "cell_type": "code",
   "execution_count": null,
   "id": "21399c72-89a0-4c51-b934-2b91ac780e39",
   "metadata": {},
   "outputs": [],
   "source": [
    "plot_key_outputs(sampled_idata, output_results, PLOT_START_DATE, ANALYSIS_END_DATE, app_doc, key_outputs, case_targets, serosurvey_targets, death_targets, show_fig=True)"
   ]
  },
  {
   "cell_type": "code",
   "execution_count": null,
   "id": "f71414fd-6629-40ff-bc9f-47fc99b37c59",
   "metadata": {},
   "outputs": [],
   "source": [
    "plot_cdr_examples(sampled_idata['start_cdr'], app_doc, show_fig=True)"
   ]
  },
  {
   "cell_type": "code",
   "execution_count": null,
   "id": "075aabc9-7539-498c-a9e7-e6796baaa08d",
   "metadata": {},
   "outputs": [],
   "source": [
    "section_order = [\n",
    "    'Model Structure', \n",
    "    'Population', \n",
    "    'Stratification', \n",
    "    'Mixing', \n",
    "    'Reinfection', \n",
    "    'Parameters',\n",
    "    'Outputs', \n",
    "    'Targets',\n",
    "    'Calibration',\n",
    "    'Results',\n",
    "    'Mobility',\n",
    "]"
   ]
  },
  {
   "cell_type": "code",
   "execution_count": null,
   "id": "7f9cb819-498f-4e81-8d1d-68a7573a5511",
   "metadata": {},
   "outputs": [],
   "source": [
    "plot_dispersion_examples(\n",
    "    idata,\n",
    "    aust_model,\n",
    "    parameters,\n",
    "    prior_names,\n",
    "    targets[:2],\n",
    "    PLOT_START_DATE,\n",
    "    ANALYSIS_END_DATE,\n",
    "    {'notifications_ma': '10, 10, 100', 'deaths_ma': '100, 10, 10'},\n",
    "    app_doc,\n",
    "    np.linspace(0.1, 0.9, 9),\n",
    "    show_fig=True,\n",
    ")"
   ]
  },
  {
   "cell_type": "code",
   "execution_count": null,
   "id": "b714b2b2-0885-4172-a6b2-15eb0b081028",
   "metadata": {},
   "outputs": [],
   "source": [
    "app_doc.write_doc(order=section_order)"
   ]
  }
 ],
 "metadata": {
  "kernelspec": {
   "display_name": "Python 3 (ipykernel)",
   "language": "python",
   "name": "python3"
  },
  "language_info": {
   "codemirror_mode": {
    "name": "ipython",
    "version": 3
   },
   "file_extension": ".py",
   "mimetype": "text/x-python",
   "name": "python",
   "nbconvert_exporter": "python",
   "pygments_lexer": "ipython3",
   "version": "3.10.0"
  }
 },
 "nbformat": 4,
 "nbformat_minor": 5
}
