{
 "cells": [
  {
   "cell_type": "markdown",
   "id": "cfd0a6cf-35cb-4b73-8943-27b62f8de366",
   "metadata": {},
   "source": [
    "### Manual model run\n",
    "This notebook does a single manual run of the model from the default parameters in ./inputs/parameters.yml and produces some basic plots, including the matrix scaling, which is not influenced by calibration to a significant extent."
   ]
  },
  {
   "cell_type": "code",
   "execution_count": null,
   "id": "639b229a-ae5c-4299-a28c-f727cd75a517",
   "metadata": {},
   "outputs": [],
   "source": [
    "from aust_covid.inputs import get_ifrs\n",
    "from aust_covid.model import build_model\n",
    "from aust_covid.calibration import get_targets\n",
    "from aust_covid.plotting import plot_single_run_outputs, plot_example_model_matrices\n",
    "from inputs.constants import PROJECT_PATH, SUPPLEMENT_PATH\n",
    "from aust_covid.utils import add_image_to_doc\n",
    "from emutools.tex import StandardTexDoc\n",
    "from emutools.parameters import load_param_info"
   ]
  },
  {
   "cell_type": "code",
   "execution_count": null,
   "id": "4cfe6efa-3965-44f1-8487-384c4d42ab3d",
   "metadata": {},
   "outputs": [],
   "source": [
    "app_doc = StandardTexDoc(SUPPLEMENT_PATH, 'model_construction', 'Model construction', 'austcovid')\n",
    "targets = get_targets(app_doc)\n",
    "param_info = load_param_info()\n",
    "param_info['value'].update(get_ifrs(app_doc))\n",
    "parameters = param_info['value'].to_dict()"
   ]
  },
  {
   "cell_type": "code",
   "execution_count": null,
   "id": "c4ee5821-390b-446a-8f37-ac5d23a62fb4",
   "metadata": {},
   "outputs": [],
   "source": [
    "epi_model = build_model(app_doc, mobility_sens=True)"
   ]
  },
  {
   "cell_type": "code",
   "execution_count": null,
   "id": "6949a79f-d09e-4f03-b58b-e4a03928e4ab",
   "metadata": {},
   "outputs": [],
   "source": [
    "epi_model.run(parameters=parameters)"
   ]
  },
  {
   "cell_type": "code",
   "execution_count": null,
   "id": "1403037a-f1f5-4922-b678-d58406e804d4",
   "metadata": {},
   "outputs": [],
   "source": [
    "plot_single_run_outputs(epi_model, targets)"
   ]
  },
  {
   "cell_type": "code",
   "execution_count": null,
   "id": "ca4e73eb-4102-4107-bb82-f90d5da0e098",
   "metadata": {},
   "outputs": [],
   "source": [
    "example_matrix_fig = plot_example_model_matrices(epi_model, parameters)"
   ]
  },
  {
   "cell_type": "code",
   "execution_count": null,
   "id": "395aab55-888a-4e29-aa5f-c2130912c66a",
   "metadata": {},
   "outputs": [],
   "source": [
    "add_image_to_doc(example_matrix_fig, 'example_matrices', '', app_doc, 'Dynamic mixing matrices')"
   ]
  }
 ],
 "metadata": {
  "kernelspec": {
   "display_name": "Python 3 (ipykernel)",
   "language": "python",
   "name": "python3"
  },
  "language_info": {
   "codemirror_mode": {
    "name": "ipython",
    "version": 3
   },
   "file_extension": ".py",
   "mimetype": "text/x-python",
   "name": "python",
   "nbconvert_exporter": "python",
   "pygments_lexer": "ipython3",
   "version": "3.10.0"
  }
 },
 "nbformat": 4,
 "nbformat_minor": 5
}
