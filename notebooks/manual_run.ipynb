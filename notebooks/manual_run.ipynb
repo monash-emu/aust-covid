{
 "cells": [
  {
   "cell_type": "markdown",
   "id": "cfd0a6cf-35cb-4b73-8943-27b62f8de366",
   "metadata": {},
   "source": [
    "### Manual model run\n",
    "This notebook does a single manual run of the model from the default parameters in ./inputs/parameters.yml and produces some basic plots, including the matrix scaling, which is not influenced by calibration to a significant extent."
   ]
  },
  {
   "cell_type": "code",
   "execution_count": null,
   "id": "639b229a-ae5c-4299-a28c-f727cd75a517",
   "metadata": {},
   "outputs": [],
   "source": [
    "from aust_covid.inputs import get_ifrs\n",
    "from aust_covid.model import build_model\n",
    "from aust_covid.calibration import get_targets\n",
    "from aust_covid.plotting import plot_example_model_matrices\n",
    "from inputs.constants import PROJECT_PATH\n",
    "from emutools.tex import StandardTexDoc\n",
    "from emutools.inputs import load_param_info"
   ]
  },
  {
   "cell_type": "code",
   "execution_count": null,
   "id": "4cfe6efa-3965-44f1-8487-384c4d42ab3d",
   "metadata": {},
   "outputs": [],
   "source": [
    "app_doc = StandardTexDoc(PROJECT_PATH / 'supplement', 'supplement', \"Australia's 2023 Omicron Waves Supplement\", 'austcovid')\n",
    "targets = get_targets(app_doc)\n",
    "param_info = load_param_info(PROJECT_PATH / 'inputs' / 'parameters.yml')\n",
    "param_info['value'].update(get_ifrs(app_doc))\n",
    "parameters = param_info['value'].to_dict()"
   ]
  },
  {
   "cell_type": "code",
   "execution_count": null,
   "id": "c4ee5821-390b-446a-8f37-ac5d23a62fb4",
   "metadata": {},
   "outputs": [],
   "source": [
    "aust_model = build_model(app_doc, mobility_sens=True)"
   ]
  },
  {
   "cell_type": "code",
   "execution_count": null,
   "id": "6949a79f-d09e-4f03-b58b-e4a03928e4ab",
   "metadata": {},
   "outputs": [],
   "source": [
    "aust_model.run(parameters=parameters)"
   ]
  },
  {
   "cell_type": "code",
   "execution_count": null,
   "id": "ca4e73eb-4102-4107-bb82-f90d5da0e098",
   "metadata": {},
   "outputs": [],
   "source": [
    "plot_example_model_matrices(aust_model, parameters, app_doc, show_fig=True)"
   ]
  },
  {
   "cell_type": "code",
   "execution_count": null,
   "id": "a8f0c01d-336b-4065-8398-0a79ab2d820f",
   "metadata": {},
   "outputs": [],
   "source": [
    "app_doc.save_content()"
   ]
  }
 ],
 "metadata": {
  "kernelspec": {
   "display_name": "Python 3 (ipykernel)",
   "language": "python",
   "name": "python3"
  },
  "language_info": {
   "codemirror_mode": {
    "name": "ipython",
    "version": 3
   },
   "file_extension": ".py",
   "mimetype": "text/x-python",
   "name": "python",
   "nbconvert_exporter": "python",
   "pygments_lexer": "ipython3",
   "version": "3.10.0"
  }
 },
 "nbformat": 4,
 "nbformat_minor": 5
}
