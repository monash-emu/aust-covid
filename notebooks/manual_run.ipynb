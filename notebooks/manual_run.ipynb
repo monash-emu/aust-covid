{
 "cells": [
  {
   "cell_type": "markdown",
   "id": "cfd0a6cf-35cb-4b73-8943-27b62f8de366",
   "metadata": {
    "tags": []
   },
   "source": [
    "### Manual model run\n",
    "This notebook does a single manual run of the model from the default parameters in ./inputs/parameters.yml and produces some basic plots, including the matrix scaling, which is not influenced by calibration to a significant extent."
   ]
  },
  {
   "cell_type": "code",
   "execution_count": null,
   "id": "0549b349-8acc-44d3-b1b6-f79581ff3a05",
   "metadata": {},
   "outputs": [],
   "source": [
    "# Uncomment the following commands to install in Colab\n",
    "# Once completed, click the 'Restart runtime' button that will appear to restart the Colab environment\n",
    "# and then proceed to the following cells\n",
    "\n",
    "# !pip uninstall numba -y\n",
    "# !pip uninstall librosa -y\n",
    "# !pip install estival==0.4.7b2 numpy==1.24.3 kaleido"
   ]
  },
  {
   "cell_type": "code",
   "execution_count": null,
   "id": "0fdd0cd5-de58-4440-8e3d-be03a10c04ff",
   "metadata": {},
   "outputs": [],
   "source": [
    "try:\n",
    "    import google.colab\n",
    "    on_colab = True\n",
    "    ! git clone https://github.com/monash-emu/aust-covid.git --branch finalise-notebooks\n",
    "    %cd aust-covid\n",
    "    %pip install -e ./\n",
    "    import multiprocessing as mp\n",
    "    mp.set_start_method('forkserver')\n",
    "except:\n",
    "    on_colab = False"
   ]
  },
  {
   "cell_type": "code",
   "execution_count": null,
   "id": "639b229a-ae5c-4299-a28c-f727cd75a517",
   "metadata": {},
   "outputs": [],
   "source": [
    "from aust_covid.inputs import get_ifrs\n",
    "from aust_covid.model import build_model\n",
    "from aust_covid.calibration import get_targets\n",
    "from aust_covid.plotting import plot_single_run_outputs, plot_example_model_matrices\n",
    "from inputs.constants import PROJECT_PATH, SUPPLEMENT_PATH\n",
    "from aust_covid.utils import add_image_to_doc\n",
    "from emutools.tex import DummyTexDoc, StandardTexDoc\n",
    "from emutools.parameters import load_param_info"
   ]
  },
  {
   "cell_type": "code",
   "execution_count": null,
   "id": "4cfe6efa-3965-44f1-8487-384c4d42ab3d",
   "metadata": {},
   "outputs": [],
   "source": [
    "app_doc = StandardTexDoc(SUPPLEMENT_PATH, 'model_construction', 'Model construction', 'austcovid')\n",
    "targets = get_targets(DummyTexDoc())\n",
    "param_info = load_param_info()\n",
    "param_info['value'].update(get_ifrs(DummyTexDoc()))\n",
    "parameters = param_info['value'].to_dict()"
   ]
  },
  {
   "cell_type": "code",
   "execution_count": null,
   "id": "c4ee5821-390b-446a-8f37-ac5d23a62fb4",
   "metadata": {},
   "outputs": [],
   "source": [
    "epi_model = build_model(app_doc)"
   ]
  },
  {
   "cell_type": "code",
   "execution_count": null,
   "id": "6949a79f-d09e-4f03-b58b-e4a03928e4ab",
   "metadata": {},
   "outputs": [],
   "source": [
    "epi_model.run(parameters=parameters)"
   ]
  },
  {
   "cell_type": "code",
   "execution_count": null,
   "id": "1403037a-f1f5-4922-b678-d58406e804d4",
   "metadata": {},
   "outputs": [],
   "source": [
    "outputs_fig = plot_single_run_outputs(epi_model, targets)\n",
    "outputs_fig"
   ]
  },
  {
   "cell_type": "code",
   "execution_count": null,
   "id": "ca4e73eb-4102-4107-bb82-f90d5da0e098",
   "metadata": {},
   "outputs": [],
   "source": [
    "example_matrix_fig = plot_example_model_matrices(epi_model, parameters)\n",
    "example_matrix_fig"
   ]
  },
  {
   "cell_type": "code",
   "execution_count": null,
   "id": "395aab55-888a-4e29-aa5f-c2130912c66a",
   "metadata": {},
   "outputs": [],
   "source": [
    "add_image_to_doc(outputs_fig, 'single_run_outputs', 'jpg', 'Outputs from single model run', app_doc, 'Outputs')\n",
    "add_image_to_doc(example_matrix_fig, 'example_matrices', 'jpg', 'Dynamic mixing matrices', app_doc, 'Mixing')"
   ]
  },
  {
   "cell_type": "code",
   "execution_count": null,
   "id": "58594bbc-82b7-4e25-8df8-32778831a093",
   "metadata": {},
   "outputs": [],
   "source": [
    "app_doc.write_doc()"
   ]
  },
  {
   "cell_type": "code",
   "execution_count": null,
   "id": "4b9fc242-e129-4865-bc74-1f5b540d2f62",
   "metadata": {},
   "outputs": [],
   "source": [
    "if on_colab:\n",
    "    # To build a PDF, we need the appropriate tex packages installed\n",
    "    ! apt-get -y install texlive-latex-base texlive-fonts-recommended texlive-fonts-extra texlive-latex-extra texlive-bibtex-extra biber\n",
    "    # To avoid clutter and navigate to the right directory\n",
    "    import os\n",
    "    os.chdir(SUPPLEMENT_PATH)\n",
    "    # And finally build the formatted PDF, repeated commands are necessary\n",
    "    ! pdflatex model_construction\n",
    "    ! biber model_construction\n",
    "    ! pdflatex model_construction\n",
    "    ! pdflatex model_construction"
   ]
  }
 ],
 "metadata": {
  "kernelspec": {
   "display_name": "Python 3 (ipykernel)",
   "language": "python",
   "name": "python3"
  },
  "language_info": {
   "codemirror_mode": {
    "name": "ipython",
    "version": 3
   },
   "file_extension": ".py",
   "mimetype": "text/x-python",
   "name": "python",
   "nbconvert_exporter": "python",
   "pygments_lexer": "ipython3",
   "version": "3.10.0"
  }
 },
 "nbformat": 4,
 "nbformat_minor": 5
}
