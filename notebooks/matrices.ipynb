{
 "cells": [
  {
   "cell_type": "markdown",
   "id": "0",
   "metadata": {
    "tags": []
   },
   "source": [
    "## Interactive matrices\n",
    "Display and interact with the raw and adjusted matrices used in the model."
   ]
  },
  {
   "cell_type": "code",
   "execution_count": null,
   "id": "1",
   "metadata": {},
   "outputs": [],
   "source": [
    "import pandas as pd\n",
    "from aust_covid.constants import MATRIX_LOCATIONS, set_project_base_path\n",
    "from aust_covid.inputs import load_pop_data\n",
    "from aust_covid.model import adapt_gb_matrices_to_aust\n",
    "from aust_covid.plotting import plot_matrices_3d\n",
    "from emutools.tex import DummyTexDoc\n",
    "\n",
    "project_paths = set_project_base_path(\"../\")\n",
    "DATA_PATH = project_paths[\"DATA_PATH\"]"
   ]
  },
  {
   "cell_type": "code",
   "execution_count": null,
   "id": "2",
   "metadata": {},
   "outputs": [],
   "source": [
    "model_pops = load_pop_data(DummyTexDoc())\n",
    "raw_matrices = {l: pd.read_csv(DATA_PATH / f'{l}.csv', index_col=0).to_numpy() for l in MATRIX_LOCATIONS}\n",
    "adjusted_matrices = adapt_gb_matrices_to_aust(raw_matrices, model_pops, DummyTexDoc())"
   ]
  },
  {
   "cell_type": "markdown",
   "id": "3",
   "metadata": {},
   "source": [
    "### Raw matrices\n",
    "Raw matrix data from UK Polymod study."
   ]
  },
  {
   "cell_type": "code",
   "execution_count": null,
   "id": "4",
   "metadata": {
    "tags": []
   },
   "outputs": [],
   "source": [
    "plot_matrices_3d(raw_matrices)"
   ]
  },
  {
   "cell_type": "markdown",
   "id": "5",
   "metadata": {},
   "source": [
    "### Adjusted matrices"
   ]
  },
  {
   "cell_type": "code",
   "execution_count": null,
   "id": "6",
   "metadata": {},
   "outputs": [],
   "source": [
    "plot_matrices_3d(adjusted_matrices)"
   ]
  }
 ],
 "metadata": {
  "kernelspec": {
   "display_name": "Python 3 (ipykernel)",
   "language": "python",
   "name": "python3"
  },
  "language_info": {
   "codemirror_mode": {
    "name": "ipython",
    "version": 3
   },
   "file_extension": ".py",
   "mimetype": "text/x-python",
   "name": "python",
   "nbconvert_exporter": "python",
   "pygments_lexer": "ipython3",
   "version": "3.10.14"
  }
 },
 "nbformat": 4,
 "nbformat_minor": 5
}
