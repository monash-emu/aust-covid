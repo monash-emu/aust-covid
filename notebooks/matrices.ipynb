{
 "cells": [
  {
   "cell_type": "markdown",
   "id": "ab9461db-c6bf-4a32-adc4-9a6caad0dac9",
   "metadata": {
    "tags": []
   },
   "source": [
    "## Interactive matrices\n",
    "Display and interact with the raw and adjusted matrices used in the model."
   ]
  },
  {
   "cell_type": "code",
   "execution_count": null,
   "id": "87434bba-aa1f-4a46-9733-e314aa610c79",
   "metadata": {},
   "outputs": [],
   "source": [
    "# !pip uninstall numba -y\n",
    "# !pip uninstall librosa -y\n",
    "# !pip install estival==0.4.9 numpy==1.24.3 kaleido"
   ]
  },
  {
   "cell_type": "code",
   "execution_count": null,
   "id": "5d3c2218-c171-4484-9b42-875fccafbe42",
   "metadata": {},
   "outputs": [],
   "source": [
    "try:\n",
    "    import google.colab\n",
    "    on_colab = True\n",
    "    ! git clone https://github.com/monash-emu/aust-covid.git --branch tidy-notebooks\n",
    "    %cd aust-covid\n",
    "    %pip install -e ./\n",
    "    import multiprocessing as mp\n",
    "    mp.set_start_method('forkserver')\n",
    "except:\n",
    "    on_colab = False"
   ]
  },
  {
   "cell_type": "code",
   "execution_count": null,
   "id": "2bbc3433-7e08-4946-83c0-3522cf48dad5",
   "metadata": {},
   "outputs": [],
   "source": [
    "import pandas as pd\n",
    "from inputs.constants import DATA_PATH, MATRIX_LOCATIONS\n",
    "from emutools.tex import DummyTexDoc\n",
    "from aust_covid.inputs import load_pop_data\n",
    "from aust_covid.model import adapt_gb_matrices_to_aust\n",
    "from aust_covid.plotting import plot_matrices_3d"
   ]
  },
  {
   "cell_type": "code",
   "execution_count": null,
   "id": "07c22b93-8d3f-45c5-8eed-c69dcfbb7d03",
   "metadata": {},
   "outputs": [],
   "source": [
    "model_pops = load_pop_data(DummyTexDoc())\n",
    "raw_matrices = {l: pd.read_csv(DATA_PATH / f'{l}.csv', index_col=0).to_numpy() for l in MATRIX_LOCATIONS}\n",
    "adjusted_matrices = adapt_gb_matrices_to_aust(raw_matrices, model_pops, DummyTexDoc())"
   ]
  },
  {
   "cell_type": "markdown",
   "id": "6f2801e5-28a4-478a-b496-3e68d42ed70c",
   "metadata": {},
   "source": [
    "### Raw matrices\n",
    "Raw matrix data from UK Polymod study."
   ]
  },
  {
   "cell_type": "code",
   "execution_count": null,
   "id": "44da94d7-bc53-45f7-bee8-27970a5610f4",
   "metadata": {
    "tags": []
   },
   "outputs": [],
   "source": [
    "plot_matrices_3d(raw_matrices)"
   ]
  },
  {
   "cell_type": "markdown",
   "id": "7855d47e-3310-479c-8155-c5dfee44103c",
   "metadata": {},
   "source": [
    "### Adjusted matrices"
   ]
  },
  {
   "cell_type": "code",
   "execution_count": null,
   "id": "84239757-cabc-4cfd-966e-625d1e41d12d",
   "metadata": {},
   "outputs": [],
   "source": [
    "plot_matrices_3d(adjusted_matrices)"
   ]
  }
 ],
 "metadata": {
  "kernelspec": {
   "display_name": "Python 3 (ipykernel)",
   "language": "python",
   "name": "python3"
  },
  "language_info": {
   "codemirror_mode": {
    "name": "ipython",
    "version": 3
   },
   "file_extension": ".py",
   "mimetype": "text/x-python",
   "name": "python",
   "nbconvert_exporter": "python",
   "pygments_lexer": "ipython3",
   "version": "3.10.0"
  }
 },
 "nbformat": 4,
 "nbformat_minor": 5
}
