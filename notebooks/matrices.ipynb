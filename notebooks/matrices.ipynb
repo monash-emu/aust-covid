{
 "cells": [
  {
   "cell_type": "code",
   "execution_count": null,
   "id": "2bbc3433-7e08-4946-83c0-3522cf48dad5",
   "metadata": {},
   "outputs": [],
   "source": [
    "import pandas as pd\n",
    "from inputs.constants import DATA_PATH, MATRIX_LOCATIONS, AGE_STRATA\n",
    "from emutools.tex import DummyTexDoc\n",
    "from emutools.plotting import get_row_col_for_subplots\n",
    "from aust_covid.inputs import load_pop_data\n",
    "from aust_covid.model import adapt_gb_matrices_to_aust\n",
    "from plotly.subplots import make_subplots\n",
    "import plotly.graph_objects as go"
   ]
  },
  {
   "cell_type": "code",
   "execution_count": null,
   "id": "07c22b93-8d3f-45c5-8eed-c69dcfbb7d03",
   "metadata": {},
   "outputs": [],
   "source": [
    "model_pops = load_pop_data(DummyTexDoc())\n",
    "raw_matrices = {l: pd.read_csv(DATA_PATH / f'{l}.csv', index_col=0).to_numpy() for l in MATRIX_LOCATIONS}\n",
    "adjusted_matrices = adapt_gb_matrices_to_aust(raw_matrices, model_pops, DummyTexDoc())"
   ]
  },
  {
   "cell_type": "code",
   "execution_count": null,
   "id": "44da94d7-bc53-45f7-bee8-27970a5610f4",
   "metadata": {},
   "outputs": [],
   "source": [
    "fig_type = {'type': 'surface'}\n",
    "fig = make_subplots(rows=2, cols=2, specs=[[fig_type, fig_type], [fig_type, fig_type]], horizontal_spacing=0.05, vertical_spacing=0.05)\n",
    "for l, location in enumerate(raw_matrices):\n",
    "    row, col = get_row_col_for_subplots(l, 2)\n",
    "    fig.add_trace(go.Surface(x=AGE_STRATA, y=AGE_STRATA, z=raw_matrices[location]), row=row, col=col)\n",
    "z_range = {'zaxis': {'range': (0.0, 2.5), 'title': 'contacts'}, 'xaxis': {'title': ''}, 'yaxis': {'title': ''}}\n",
    "fig.update_layout(scene1=z_range, scene2=z_range, scene3=z_range, scene4=z_range, height=800)"
   ]
  }
 ],
 "metadata": {
  "kernelspec": {
   "display_name": "Python 3 (ipykernel)",
   "language": "python",
   "name": "python3"
  },
  "language_info": {
   "codemirror_mode": {
    "name": "ipython",
    "version": 3
   },
   "file_extension": ".py",
   "mimetype": "text/x-python",
   "name": "python",
   "nbconvert_exporter": "python",
   "pygments_lexer": "ipython3",
   "version": "3.10.11"
  }
 },
 "nbformat": 4,
 "nbformat_minor": 5
}
