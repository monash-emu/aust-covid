{
 "cells": [
  {
   "cell_type": "code",
   "execution_count": null,
   "id": "639b229a-ae5c-4299-a28c-f727cd75a517",
   "metadata": {},
   "outputs": [],
   "source": [
    "import numpy as np\n",
    "import pymc as pm\n",
    "from jax import numpy as jnp\n",
    "import arviz as az\n",
    "\n",
    "from estival.model import BayesianCompartmentalModel\n",
    "from estival.wrappers import pymc as epm\n",
    "\n",
    "from inputs.constants import INPUTS_PATH, SUPPLEMENT_PATH\n",
    "from autumn.infrastructure.remote import springboard\n",
    "from aust_covid.inputs import get_ifrs\n",
    "from aust_covid.model import build_model\n",
    "from aust_covid.calibration import get_priors, get_targets\n",
    "from aust_covid.plotting import plot_single_run_outputs\n",
    "from emutools.tex import StandardTexDoc\n",
    "from emutools.inputs import load_param_info\n",
    "from emutools.calibration import param_table_to_tex, round_sigfig, tabulate_priors"
   ]
  },
  {
   "cell_type": "code",
   "execution_count": null,
   "id": "4cfe6efa-3965-44f1-8487-384c4d42ab3d",
   "metadata": {},
   "outputs": [],
   "source": [
    "app_doc = StandardTexDoc(SUPPLEMENT_PATH, 'supplement', \"Australia's 2023 Omicron Waves Supplement\", 'austcovid')"
   ]
  },
  {
   "cell_type": "code",
   "execution_count": null,
   "id": "0839a928-3ff8-4f11-8aa7-e591d335c1eb",
   "metadata": {},
   "outputs": [],
   "source": [
    "param_info = load_param_info(INPUTS_PATH / 'parameters.yml')\n",
    "ifrs = get_ifrs(app_doc)\n",
    "param_info['value'].update(ifrs)\n",
    "parameters = param_info['value'].to_dict()"
   ]
  },
  {
   "cell_type": "code",
   "execution_count": null,
   "id": "c4ee5821-390b-446a-8f37-ac5d23a62fb4",
   "metadata": {},
   "outputs": [],
   "source": [
    "epi_model = build_model(app_doc, mobility_sens=True)"
   ]
  },
  {
   "cell_type": "code",
   "execution_count": null,
   "id": "083af55a-c217-4322-bf70-8c348c1b280b",
   "metadata": {},
   "outputs": [],
   "source": [
    "priors = get_priors()\n",
    "prior_names = [p.name for p in priors]\n",
    "targets = get_targets(app_doc)"
   ]
  },
  {
   "cell_type": "code",
   "execution_count": null,
   "id": "522025dc-b731-4ca2-9064-c605a261f4c2",
   "metadata": {},
   "outputs": [],
   "source": [
    "bcm = BayesianCompartmentalModel(epi_model, parameters, priors, targets)"
   ]
  },
  {
   "cell_type": "code",
   "execution_count": null,
   "id": "fb1ec7d5-3cde-4a75-88ca-7970f4793829",
   "metadata": {},
   "outputs": [],
   "source": [
    "with pm.Model() as pmc_model:\n",
    "    start_params = {k: np.clip(v, *bcm.priors[k].bounds(0.99)) for k, v in parameters.items() if k in bcm.priors}\n",
    "    variables = epm.use_model(bcm)\n",
    "    map_params = pm.find_MAP(start=start_params, vars=variables, include_transformed=False)\n",
    "    map_params = {k: float(v) for k, v in map_params.items()}\n",
    "print('Best calibration parameters found:')\n",
    "for i_param, param in enumerate([p for p in map_params if '_dispersion' not in p]):\n",
    "    print(f'   {param}: {round_sigfig(map_params[param], 4)} (within bound {priors[i_param].bounds()}')\n",
    "parameters.update(map_params)\n",
    "epi_model.run(parameters=parameters)"
   ]
  },
  {
   "cell_type": "code",
   "execution_count": null,
   "id": "6bf6048f-3723-490f-b578-393f2d34be18",
   "metadata": {},
   "outputs": [],
   "source": [
    "plot_single_run_outputs(epi_model, targets)"
   ]
  }
 ],
 "metadata": {
  "kernelspec": {
   "display_name": "Python 3 (ipykernel)",
   "language": "python",
   "name": "python3"
  },
  "language_info": {
   "codemirror_mode": {
    "name": "ipython",
    "version": 3
   },
   "file_extension": ".py",
   "mimetype": "text/x-python",
   "name": "python",
   "nbconvert_exporter": "python",
   "pygments_lexer": "ipython3",
   "version": "3.10.0"
  }
 },
 "nbformat": 4,
 "nbformat_minor": 5
}
