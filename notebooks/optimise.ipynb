{
 "cells": [
  {
   "cell_type": "markdown",
   "id": "0",
   "metadata": {
    "tags": []
   },
   "source": [
    "### Optimisation\n",
    "Optimise parameter set and do single model run with the resulting parameters. Then illustrate results with basic plots."
   ]
  },
  {
   "cell_type": "code",
   "execution_count": null,
   "id": "1",
   "metadata": {},
   "outputs": [],
   "source": [
    "import numpy as np\n",
    "import pymc as pm\n",
    "\n",
    "from estival.model import BayesianCompartmentalModel\n",
    "from estival.wrappers import pymc as epm\n",
    "\n",
    "from aust_covid.constants import set_project_base_path\n",
    "from aust_covid.inputs import get_ifrs\n",
    "from aust_covid.model import build_model\n",
    "from aust_covid.calibration import get_priors, get_targets\n",
    "from aust_covid.plotting import plot_single_run_outputs\n",
    "from emutools.tex import DummyTexDoc\n",
    "from emutools.utils import load_param_info, round_sigfig\n",
    "\n",
    "project_paths = set_project_base_path(\"../\")\n",
    "SUPPLEMENT_PATH = project_paths[\"SUPPLEMENT_PATH\"]"
   ]
  },
  {
   "cell_type": "code",
   "execution_count": null,
   "id": "2",
   "metadata": {},
   "outputs": [],
   "source": [
    "max_iterations = 50"
   ]
  },
  {
   "cell_type": "code",
   "execution_count": null,
   "id": "3",
   "metadata": {},
   "outputs": [],
   "source": [
    "param_info = load_param_info()\n",
    "dummy_doc = DummyTexDoc()\n",
    "param_info['value'].update(get_ifrs(dummy_doc))\n",
    "parameters = param_info['value'].to_dict()\n",
    "epi_model = build_model(dummy_doc, param_info['abbreviations'], mobility_ext=True, cross_ref=False)\n",
    "priors = get_priors(False, param_info['abbreviations'], dummy_doc)\n",
    "prior_names = [p.name for p in priors]\n",
    "targets = get_targets(dummy_doc)\n",
    "bcm = BayesianCompartmentalModel(epi_model, parameters, priors, targets)"
   ]
  },
  {
   "cell_type": "code",
   "execution_count": null,
   "id": "4",
   "metadata": {},
   "outputs": [],
   "source": [
    "with pm.Model() as pmc_model:\n",
    "    start_params = {k: np.clip(v, *bcm.priors[k].bounds(0.99)) for k, v in parameters.items() if k in bcm.priors}\n",
    "    variables = epm.use_model(bcm)\n",
    "    map_params = pm.find_MAP(start=start_params, vars=variables, include_transformed=False, maxeval=max_iterations)\n",
    "    map_params = {k: float(v) for k, v in map_params.items()}\n",
    "print('Best candidate parameters found:')\n",
    "for i_param, param in enumerate([p for p in map_params if '_dispersion' not in p]):\n",
    "    print(f'   {param}: {round_sigfig(map_params[param], 4)} (within bound {priors[i_param].bounds()}')\n",
    "parameters.update(map_params)\n",
    "epi_model.run(parameters=parameters)"
   ]
  },
  {
   "cell_type": "code",
   "execution_count": null,
   "id": "5",
   "metadata": {},
   "outputs": [],
   "source": [
    "parameters.update(map_params)\n",
    "epi_model.run(parameters=parameters)"
   ]
  },
  {
   "cell_type": "code",
   "execution_count": null,
   "id": "6",
   "metadata": {},
   "outputs": [],
   "source": [
    "plot_single_run_outputs(epi_model, targets)"
   ]
  }
 ],
 "metadata": {
  "kernelspec": {
   "display_name": "Python 3 (ipykernel)",
   "language": "python",
   "name": "python3"
  },
  "language_info": {
   "codemirror_mode": {
    "name": "ipython",
    "version": 3
   },
   "file_extension": ".py",
   "mimetype": "text/x-python",
   "name": "python",
   "nbconvert_exporter": "python",
   "pygments_lexer": "ipython3",
   "version": "3.10.14"
  }
 },
 "nbformat": 4,
 "nbformat_minor": 5
}
