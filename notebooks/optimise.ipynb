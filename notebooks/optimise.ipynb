{
 "cells": [
  {
   "cell_type": "markdown",
   "id": "e1ed51cb-958e-4065-a08a-c113d9a7df07",
   "metadata": {
    "tags": []
   },
   "source": [
    "### Single model run\n",
    "Optimise parameter set and do single model run with the resulting parameters. Then illustrate results with basic plots, including the matrix scaling."
   ]
  },
  {
   "cell_type": "code",
   "execution_count": null,
   "id": "91bfa993-1dda-4c83-8e96-7a6b57368ba8",
   "metadata": {},
   "outputs": [],
   "source": [
    "# Uncomment the following commands to install in Colab\n",
    "# Once completed, click the 'Restart runtime' button that will appear to restart the Colab environment\n",
    "# and then proceed to the following cells\n",
    "\n",
    "# !pip uninstall numba -y\n",
    "# !pip uninstall librosa -y\n",
    "# !pip install estival==0.4.7b2 numpy==1.24.3 kaleido"
   ]
  },
  {
   "cell_type": "code",
   "execution_count": null,
   "id": "67d76219-21ff-49c9-97c4-92b52e312581",
   "metadata": {},
   "outputs": [],
   "source": [
    "try:\n",
    "    import google.colab\n",
    "    on_colab = True\n",
    "    ! git clone https://github.com/monash-emu/aust-covid.git --branch finalise-notebooks\n",
    "    %cd aust-covid\n",
    "    %pip install -e ./\n",
    "    import multiprocessing as mp\n",
    "    mp.set_start_method('forkserver')\n",
    "except:\n",
    "    on_colab = False"
   ]
  },
  {
   "cell_type": "code",
   "execution_count": null,
   "id": "639b229a-ae5c-4299-a28c-f727cd75a517",
   "metadata": {},
   "outputs": [],
   "source": [
    "import numpy as np\n",
    "import pymc as pm\n",
    "\n",
    "from estival.model import BayesianCompartmentalModel\n",
    "from estival.wrappers import pymc as epm\n",
    "\n",
    "from inputs.constants import SUPPLEMENT_PATH\n",
    "from aust_covid.inputs import get_ifrs\n",
    "from aust_covid.model import build_model\n",
    "from aust_covid.calibration import get_priors, get_targets\n",
    "from aust_covid.plotting import plot_single_run_outputs, plot_example_model_matrices\n",
    "from emutools.tex import DummyTexDoc, StandardTexDoc\n",
    "from emutools.parameters import load_param_info\n",
    "from emutools.calibration import round_sigfig\n",
    "from aust_covid.utils import add_image_to_doc"
   ]
  },
  {
   "cell_type": "code",
   "execution_count": null,
   "id": "871d2ce5-2b82-4c18-9015-a15fdea4ab20",
   "metadata": {},
   "outputs": [],
   "source": [
    "max_iterations = 1000"
   ]
  },
  {
   "cell_type": "code",
   "execution_count": null,
   "id": "c4e75018-4e35-457a-a4b6-3bf008f5f4de",
   "metadata": {},
   "outputs": [],
   "source": [
    "app_doc = StandardTexDoc(SUPPLEMENT_PATH, 'single_run', 'Single run', 'austcovid')\n",
    "param_info = load_param_info()\n",
    "param_info['value'].update(get_ifrs(DummyTexDoc()))\n",
    "parameters = param_info['value'].to_dict()\n",
    "epi_model = build_model(DummyTexDoc(), mobility_sens=True)\n",
    "priors = get_priors(False, param_info['abbreviations'], DummyTexDoc())\n",
    "prior_names = [p.name for p in priors]\n",
    "targets = get_targets(DummyTexDoc())\n",
    "bcm = BayesianCompartmentalModel(epi_model, parameters, priors, targets)"
   ]
  },
  {
   "cell_type": "code",
   "execution_count": null,
   "id": "fb1ec7d5-3cde-4a75-88ca-7970f4793829",
   "metadata": {},
   "outputs": [],
   "source": [
    "with pm.Model() as pmc_model:\n",
    "    start_params = {k: np.clip(v, *bcm.priors[k].bounds(0.99)) for k, v in parameters.items() if k in bcm.priors}\n",
    "    variables = epm.use_model(bcm)\n",
    "    map_params = pm.find_MAP(start=start_params, vars=variables, include_transformed=False, maxeval=max_iterations)\n",
    "    map_params = {k: float(v) for k, v in map_params.items()}\n",
    "print('Best candidate parameters found:')\n",
    "for i_param, param in enumerate([p for p in map_params if '_dispersion' not in p]):\n",
    "    print(f'   {param}: {round_sigfig(map_params[param], 4)} (within bound {priors[i_param].bounds()}')\n",
    "parameters.update(map_params)\n",
    "epi_model.run(parameters=parameters)"
   ]
  },
  {
   "cell_type": "code",
   "execution_count": null,
   "id": "0971f9e3-573b-4002-af45-74a83d27c1db",
   "metadata": {},
   "outputs": [],
   "source": [
    "app_doc = StandardTexDoc(SUPPLEMENT_PATH, 'single_run', 'Single run', 'austcovid')"
   ]
  },
  {
   "cell_type": "code",
   "execution_count": null,
   "id": "4e52a5b5-47c2-4c3f-9d7f-fc0bd329805e",
   "metadata": {},
   "outputs": [],
   "source": [
    "parameters.update(map_params)\n",
    "epi_model.run(parameters=parameters)"
   ]
  },
  {
   "cell_type": "code",
   "execution_count": null,
   "id": "6bf6048f-3723-490f-b578-393f2d34be18",
   "metadata": {},
   "outputs": [],
   "source": [
    "outputs_fig = plot_single_run_outputs(epi_model, targets)\n",
    "outputs_fig"
   ]
  },
  {
   "cell_type": "code",
   "execution_count": null,
   "id": "bd10a19a-58b7-4563-ac44-91db07797444",
   "metadata": {},
   "outputs": [],
   "source": [
    "example_matrix_fig = plot_example_model_matrices(epi_model, parameters)\n",
    "example_matrix_fig"
   ]
  },
  {
   "cell_type": "code",
   "execution_count": null,
   "id": "948f093f-477f-4e67-9e43-1caffe0082ad",
   "metadata": {},
   "outputs": [],
   "source": [
    "add_image_to_doc(outputs_fig.update_layout(showlegend=False), 'single_run_outputs', 'svg', 'Outputs from single model run', app_doc, 'Outputs')\n",
    "add_image_to_doc(example_matrix_fig, 'example_matrices', 'svg', 'Dynamic mixing matrices', app_doc, 'Mixing')"
   ]
  },
  {
   "cell_type": "code",
   "execution_count": null,
   "id": "9273c671-59b9-43d8-8a5e-2043f3ba3067",
   "metadata": {},
   "outputs": [],
   "source": [
    "app_doc.write_doc()"
   ]
  },
  {
   "cell_type": "code",
   "execution_count": null,
   "id": "44370ef3-4dc8-4c7d-967b-2a3e93b38d77",
   "metadata": {},
   "outputs": [],
   "source": [
    "if on_colab:\n",
    "    # To build a PDF, we need the appropriate tex packages installed\n",
    "    ! apt-get -y install texlive-latex-base texlive-fonts-recommended texlive-fonts-extra texlive-latex-extra texlive-bibtex-extra biber\n",
    "    # To avoid clutter and navigate to the right directory\n",
    "    import os\n",
    "    os.chdir(SUPPLEMENT_PATH)\n",
    "    # And finally build the formatted PDF, repeated commands are necessary\n",
    "    ! pdflatex model_construction\n",
    "    ! biber model_construction\n",
    "    ! pdflatex model_construction\n",
    "    ! pdflatex model_construction"
   ]
  }
 ],
 "metadata": {
  "kernelspec": {
   "display_name": "Python 3 (ipykernel)",
   "language": "python",
   "name": "python3"
  },
  "language_info": {
   "codemirror_mode": {
    "name": "ipython",
    "version": 3
   },
   "file_extension": ".py",
   "mimetype": "text/x-python",
   "name": "python",
   "nbconvert_exporter": "python",
   "pygments_lexer": "ipython3",
   "version": "3.10.0"
  }
 },
 "nbformat": 4,
 "nbformat_minor": 5
}
