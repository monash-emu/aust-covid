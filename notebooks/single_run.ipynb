{
 "cells": [
  {
   "cell_type": "markdown",
   "id": "e1ed51cb-958e-4065-a08a-c113d9a7df07",
   "metadata": {
    "tags": []
   },
   "source": [
    "### Single model run\n",
    "Obtain an optimised posterior parameter set from the selected analysis. Then illustrate results with basic plots, including the matrix scaling.\n",
    "\n",
    "### Running over Colab\n",
    "Uncomment the commands in the following cell to install in Colab.\n",
    "Once completed, click the 'Restart runtime' button that will appear to restart the Colab environment and then proceed to the following cells.\n",
    "\n",
    "### Generating documentation\n",
    "Running the final cell will take several minutes and will generate the corresponding PDF documentation.\n",
    "This can be downloaded from the Files section of the sidebar."
   ]
  },
  {
   "cell_type": "code",
   "execution_count": null,
   "id": "91bfa993-1dda-4c83-8e96-7a6b57368ba8",
   "metadata": {},
   "outputs": [],
   "source": [
    "# !pip uninstall numba -y\n",
    "# !pip uninstall librosa -y\n",
    "# !pip install estival==0.4.9 numpy==1.24.3 kaleido"
   ]
  },
  {
   "cell_type": "code",
   "execution_count": null,
   "id": "639b229a-ae5c-4299-a28c-f727cd75a517",
   "metadata": {},
   "outputs": [],
   "source": [
    "import pandas as pd\n",
    "import pymc as pm\n",
    "import arviz as az\n",
    "\n",
    "from estival.sampling.tools import idata_to_sampleiterator\n",
    "\n",
    "from aust_covid.constants import PRIMARY_ANALYSIS, RUN_IDS, set_project_base_path\n",
    "from aust_covid.inputs import get_ifrs\n",
    "from aust_covid.model import build_model\n",
    "from aust_covid.calibration import get_priors, get_targets\n",
    "from aust_covid.plotting import plot_single_run_outputs, plot_example_model_matrices, plot_infection_processes\n",
    "from emutools.tex import DummyTexDoc\n",
    "from emutools.utils import load_param_info\n",
    "\n",
    "project_paths = set_project_base_path(\"../\")\n",
    "SUPPLEMENT_PATH = project_paths[\"SUPPLEMENT_PATH\"]\n",
    "RUNS_PATH = project_paths[\"RUNS_PATH\"]"
   ]
  },
  {
   "cell_type": "code",
   "execution_count": null,
   "id": "67d76219-21ff-49c9-97c4-92b52e312581",
   "metadata": {},
   "outputs": [],
   "source": [
    "try:\n",
    "    import google.colab\n",
    "    on_colab = True\n",
    "    ! git clone https://github.com/monash-emu/aust-covid.git --branch main\n",
    "    %cd aust-covid\n",
    "    %pip install -e ./\n",
    "    import multiprocessing as mp\n",
    "    mp.set_start_method('forkserver')\n",
    "except:\n",
    "    on_colab = False"
   ]
  },
  {
   "cell_type": "code",
   "execution_count": null,
   "id": "c4e75018-4e35-457a-a4b6-3bf008f5f4de",
   "metadata": {},
   "outputs": [],
   "source": [
    "dummy_doc = DummyTexDoc()\n",
    "param_info = load_param_info()\n",
    "param_info['value'].update(get_ifrs(dummy_doc))\n",
    "parameters = param_info['value'].to_dict()\n",
    "epi_model = build_model(dummy_doc, param_info['abbreviations'], mobility_ext=True, cross_ref=False)\n",
    "priors = get_priors(False, param_info['abbreviations'], DummyTexDoc())\n",
    "prior_names = [p.name for p in priors]\n",
    "targets = get_targets(DummyTexDoc())"
   ]
  },
  {
   "cell_type": "code",
   "execution_count": null,
   "id": "eeb23f7f-6075-4d2b-aa48-148d400e6a80",
   "metadata": {},
   "outputs": [],
   "source": [
    "analysis_folder = RUN_IDS[PRIMARY_ANALYSIS]\n",
    "i_max = pd.read_hdf(RUNS_PATH / analysis_folder / 'output/results.hdf', 'likelihood')['logposterior'].idxmax()\n",
    "idata = az.from_netcdf(RUNS_PATH / analysis_folder / 'output/calib_full_out.nc')\n",
    "best_params = idata_to_sampleiterator(idata).convert('pandas').loc[i_max].to_dict()\n",
    "parameters.update(best_params)"
   ]
  },
  {
   "cell_type": "markdown",
   "id": "f618b953-52ec-49f4-91fe-7d84ea11b04b",
   "metadata": {},
   "source": [
    "### Model inspection"
   ]
  },
  {
   "cell_type": "code",
   "execution_count": null,
   "id": "6a7d43ea-cbcf-4389-97be-12c7df3395c8",
   "metadata": {},
   "outputs": [],
   "source": [
    "# epi_model.compartments"
   ]
  },
  {
   "cell_type": "code",
   "execution_count": null,
   "id": "93a98c72-f7b3-4232-bbfa-ff03956941f6",
   "metadata": {},
   "outputs": [],
   "source": [
    "# epi_model.flows"
   ]
  },
  {
   "cell_type": "code",
   "execution_count": null,
   "id": "bd10a19a-58b7-4563-ac44-91db07797444",
   "metadata": {},
   "outputs": [],
   "source": [
    "plot_example_model_matrices(epi_model, parameters).update_layout(height=850)"
   ]
  },
  {
   "cell_type": "code",
   "execution_count": null,
   "id": "003d3f53-b135-4f78-8e3b-d8f55b23cb37",
   "metadata": {},
   "outputs": [],
   "source": [
    "epi_model.run(parameters=parameters)"
   ]
  },
  {
   "cell_type": "markdown",
   "id": "42dc67dd-5b65-4a73-91a6-d1b0423a567f",
   "metadata": {},
   "source": [
    "### Model outputs"
   ]
  },
  {
   "cell_type": "code",
   "execution_count": null,
   "id": "6bf6048f-3723-490f-b578-393f2d34be18",
   "metadata": {},
   "outputs": [],
   "source": [
    "plot_single_run_outputs(epi_model, targets)"
   ]
  },
  {
   "cell_type": "code",
   "execution_count": null,
   "id": "48f35bc7-7feb-44f1-a84c-a2017552953e",
   "metadata": {},
   "outputs": [],
   "source": [
    "plot_infection_processes(epi_model.get_derived_outputs_df(), targets, 'notifications_ma')"
   ]
  }
 ],
 "metadata": {
  "kernelspec": {
   "display_name": "Python 3 (ipykernel)",
   "language": "python",
   "name": "python3"
  },
  "language_info": {
   "codemirror_mode": {
    "name": "ipython",
    "version": 3
   },
   "file_extension": ".py",
   "mimetype": "text/x-python",
   "name": "python",
   "nbconvert_exporter": "python",
   "pygments_lexer": "ipython3",
   "version": "3.10.14"
  }
 },
 "nbformat": 4,
 "nbformat_minor": 5
}
