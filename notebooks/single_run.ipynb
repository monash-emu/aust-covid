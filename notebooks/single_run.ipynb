{
 "cells": [
  {
   "cell_type": "markdown",
   "id": "e1ed51cb-958e-4065-a08a-c113d9a7df07",
   "metadata": {
    "tags": []
   },
   "source": [
    "### Single model run\n",
    "Optimise parameter set and do single model run with the resulting parameters. Then illustrate results with basic plots, including the matrix scaling.\n",
    "\n",
    "### Running over Colab\n",
    "Uncomment the commands in the following cell to install in Colab.\n",
    "Once completed, click the 'Restart runtime' button that will appear to restart the Colab environment and then proceed to the following cells.\n",
    "\n",
    "### Generating documentation\n",
    "Running the final cell will take several minutes and will generate the corresponding PDF documentation.\n",
    "This can be downloaded from the Files section of the sidebar."
   ]
  },
  {
   "cell_type": "code",
   "execution_count": null,
   "id": "639b229a-ae5c-4299-a28c-f727cd75a517",
   "metadata": {},
   "outputs": [],
   "source": [
    "import numpy as np\n",
    "import pandas as pd\n",
    "import pymc as pm\n",
    "from plotly import graph_objects as go\n",
    "import arviz as az\n",
    "\n",
    "from estival.model import BayesianCompartmentalModel\n",
    "from estival.wrappers import pymc as epm\n",
    "from estival.sampling.tools import idata_to_sampleiterator\n",
    "\n",
    "from inputs.constants import SUPPLEMENT_PATH, PLOT_START_DATE, PRIMARY_ANALYSIS, RUNS_PATH, RUN_IDS\n",
    "from aust_covid.inputs import get_ifrs\n",
    "from aust_covid.model import build_model\n",
    "from aust_covid.calibration import get_priors, get_targets\n",
    "from aust_covid.plotting import plot_single_run_outputs, plot_example_model_matrices\n",
    "from emutools.tex import DummyTexDoc, StandardTexDoc, add_image_to_doc\n",
    "from emutools.utils import load_param_info, round_sigfig"
   ]
  },
  {
   "cell_type": "code",
   "execution_count": null,
   "id": "0909cc4d-aca7-4daa-9b81-cd0b8904bd80",
   "metadata": {},
   "outputs": [],
   "source": [
    "from summer2.parameters import Parameter, DerivedOutput, Function\n",
    "from inputs.constants import INFECTION_PROCESSES, ANALYSIS_END_DATE, PLOT_START_DATE, STRAIN_STRATA\n",
    "from plotly.subplots import make_subplots\n",
    "from plotly.express.colors import colorbrewer"
   ]
  },
  {
   "cell_type": "code",
   "execution_count": null,
   "id": "6deec267-4dd9-43e8-985a-c32f94c2a351",
   "metadata": {},
   "outputs": [],
   "source": [
    "from emutools.utils import get_target_from_name"
   ]
  },
  {
   "cell_type": "code",
   "execution_count": null,
   "id": "eeb23f7f-6075-4d2b-aa48-148d400e6a80",
   "metadata": {},
   "outputs": [],
   "source": [
    "i_max = pd.read_hdf(RUNS_PATH / RUN_IDS[PRIMARY_ANALYSIS] / 'output/results.hdf', 'likelihood')['logposterior'].idxmax()\n",
    "idata = az.from_netcdf(RUNS_PATH / RUN_IDS['mob'] / 'output/calib_full_out.nc')\n",
    "best_params = idata_to_sampleiterator(idata).convert('pandas').loc[i_max].to_dict()"
   ]
  },
  {
   "cell_type": "code",
   "execution_count": null,
   "id": "91bfa993-1dda-4c83-8e96-7a6b57368ba8",
   "metadata": {},
   "outputs": [],
   "source": [
    "# !pip uninstall numba -y\n",
    "# !pip uninstall librosa -y\n",
    "# !pip install estival==0.4.9 numpy==1.24.3 kaleido"
   ]
  },
  {
   "cell_type": "code",
   "execution_count": null,
   "id": "67d76219-21ff-49c9-97c4-92b52e312581",
   "metadata": {},
   "outputs": [],
   "source": [
    "try:\n",
    "    import google.colab\n",
    "    on_colab = True\n",
    "    ! git clone https://github.com/monash-emu/aust-covid.git --branch main\n",
    "    %cd aust-covid\n",
    "    %pip install -e ./\n",
    "    import multiprocessing as mp\n",
    "    mp.set_start_method('forkserver')\n",
    "except:\n",
    "    on_colab = False"
   ]
  },
  {
   "cell_type": "code",
   "execution_count": null,
   "id": "871d2ce5-2b82-4c18-9015-a15fdea4ab20",
   "metadata": {},
   "outputs": [],
   "source": [
    "max_iterations = 50"
   ]
  },
  {
   "cell_type": "code",
   "execution_count": null,
   "id": "c4e75018-4e35-457a-a4b6-3bf008f5f4de",
   "metadata": {},
   "outputs": [],
   "source": [
    "app_doc = StandardTexDoc(SUPPLEMENT_PATH, 'single_run', 'Single run', 'austcovid')\n",
    "param_info = load_param_info()\n",
    "param_info['value'].update(get_ifrs(DummyTexDoc()))\n",
    "parameters = param_info['value'].to_dict()\n",
    "intro_text = 'Results from an example run are presented in Figure \\\\ref{single_run_outputs}, and model construction is described in the following sections. '\n",
    "app_doc.add_line(intro_text, 'Introduction')\n",
    "epi_model = build_model(app_doc, param_info['abbreviations'], mobility_ext=True, cross_ref=False)\n",
    "priors = get_priors(False, param_info['abbreviations'], DummyTexDoc())\n",
    "prior_names = [p.name for p in priors]\n",
    "targets = get_targets(DummyTexDoc())\n"
   ]
  },
  {
   "cell_type": "code",
   "execution_count": null,
   "id": "0ea7fb1f-d0b3-4b72-9189-e7498f4cbcc9",
   "metadata": {},
   "outputs": [],
   "source": [
    "parameters.update(best_params)"
   ]
  },
  {
   "cell_type": "code",
   "execution_count": null,
   "id": "003d3f53-b135-4f78-8e3b-d8f55b23cb37",
   "metadata": {},
   "outputs": [],
   "source": [
    "epi_model.run(parameters=parameters)"
   ]
  },
  {
   "cell_type": "code",
   "execution_count": null,
   "id": "6bf6048f-3723-490f-b578-393f2d34be18",
   "metadata": {},
   "outputs": [],
   "source": [
    "outputs_fig = plot_single_run_outputs(epi_model, targets)\n",
    "outputs_fig"
   ]
  },
  {
   "cell_type": "code",
   "execution_count": null,
   "id": "bd10a19a-58b7-4563-ac44-91db07797444",
   "metadata": {},
   "outputs": [],
   "source": [
    "example_matrix_fig = plot_example_model_matrices(epi_model, parameters)\n",
    "example_matrix_fig.update_layout(height=950)"
   ]
  },
  {
   "cell_type": "code",
   "execution_count": null,
   "id": "948f093f-477f-4e67-9e43-1caffe0082ad",
   "metadata": {},
   "outputs": [],
   "source": [
    "add_image_to_doc(outputs_fig.update_layout(showlegend=False), 'single_run_outputs', 'svg', 'Outputs from single model run', app_doc, 'Outputs')\n",
    "add_image_to_doc(example_matrix_fig, 'example_matrices', 'svg', 'Dynamic mixing matrices', app_doc, 'Mixing')"
   ]
  },
  {
   "cell_type": "code",
   "execution_count": null,
   "id": "9273c671-59b9-43d8-8a5e-2043f3ba3067",
   "metadata": {},
   "outputs": [],
   "source": [
    "app_doc.write_doc()"
   ]
  },
  {
   "cell_type": "code",
   "execution_count": null,
   "id": "44370ef3-4dc8-4c7d-967b-2a3e93b38d77",
   "metadata": {},
   "outputs": [],
   "source": [
    "if on_colab:\n",
    "    # To build a PDF, we need the appropriate tex packages installed\n",
    "    ! apt-get -y install inkscape texlive-latex-base texlive-fonts-recommended texlive-fonts-extra texlive-latex-extra texlive-bibtex-extra biber\n",
    "    # To avoid clutter and navigate to the right directory\n",
    "    import os\n",
    "    os.chdir(SUPPLEMENT_PATH)\n",
    "    # And finally build the formatted PDF, repeated commands are necessary\n",
    "    ! pdflatex -shell-escape single_run\n",
    "    ! biber single_run\n",
    "    ! pdflatex -shell-escape single_run\n",
    "    ! pdflatex -shell-escape single_run"
   ]
  },
  {
   "cell_type": "code",
   "execution_count": null,
   "id": "e873ef54-49e0-4d2f-9be3-7b24886c9e1d",
   "metadata": {},
   "outputs": [],
   "source": [
    "new_model = build_model(app_doc, param_info['abbreviations'], mobility_ext=True, cross_ref=False)"
   ]
  },
  {
   "cell_type": "code",
   "execution_count": null,
   "id": "11fa81aa-84bd-4a58-ae72-9c658b7b7321",
   "metadata": {},
   "outputs": [],
   "source": [
    "for strain in STRAIN_STRATA:\n",
    "    for process in INFECTION_PROCESSES:\n",
    "        new_model.request_output_for_flow(f'{strain}X{process}', process, dest_strata={'strain': strain})\n",
    "        new_model.request_function_output(f'process_{strain}X{process}', DerivedOutput(f'{strain}X{process}') / DerivedOutput('all_infection'))"
   ]
  },
  {
   "cell_type": "code",
   "execution_count": null,
   "id": "5e961a26-7830-489c-a549-4af0f0d43e0d",
   "metadata": {},
   "outputs": [],
   "source": [
    "new_model.run(parameters=parameters)"
   ]
  },
  {
   "cell_type": "code",
   "execution_count": null,
   "id": "87070a19-8960-49e1-845a-e3902a713424",
   "metadata": {},
   "outputs": [],
   "source": [
    "new_derived_df = new_model.get_derived_outputs_df()\n",
    "cum_strain_infect = new_derived_df[[f'process_{i}X{j}' for i in STRAIN_STRATA for j in INFECTION_PROCESSES]].cumsum(axis=1)"
   ]
  },
  {
   "cell_type": "code",
   "execution_count": null,
   "id": "fb806c41-efeb-4f6b-ab14-810b2844df24",
   "metadata": {},
   "outputs": [],
   "source": [
    "req_target = 'notifications_ma'\n",
    "fig = make_subplots(2, 1, subplot_titles=['infection processes', req_target], row_heights=[0.7, 0.3], vertical_spacing=0.05, shared_xaxes=True)\n",
    "for output in cum_strain_infect.columns:\n",
    "    i_process = INFECTION_PROCESSES.index(output.split('X')[1])\n",
    "    i_strain = STRAIN_STRATA.index(output.split('X')[0].replace('process_', ''))\n",
    "    colour = f'hsl({17.0 + i_strain * 33.0}%, 70%, {30.0 + i_process * 20.0}%)'\n",
    "    trace = go.Scatter(x=cum_strain_infect.index, y=cum_strain_infect[output], fill='tonexty', fillcolor=colour, line={'color': colour}, name=output)\n",
    "    fig.add_traces(trace, rows=1, cols=1)\n",
    "fig.update_yaxes(range=(0.0, 1.0), row=1, col=1)\n",
    "\n",
    "fig.add_traces(new_derived_df[req_target].plot().data, rows=2, cols=1)\n",
    "target = get_target_from_name(targets, req_target)\n",
    "fig.add_traces(go.Scatter(x=target.index, y=target, mode='markers', name=f'{req_target} data', line={'color': 'black'}), rows=2, cols=1)\n",
    "fig.update_xaxes(range=(PLOT_START_DATE, ANALYSIS_END_DATE))\n",
    "fig.update_layout(height=700, margin={i: 40 for i in ['t', 'b', 'l', 'r']})"
   ]
  }
 ],
 "metadata": {
  "kernelspec": {
   "display_name": "Python 3 (ipykernel)",
   "language": "python",
   "name": "python3"
  },
  "language_info": {
   "codemirror_mode": {
    "name": "ipython",
    "version": 3
   },
   "file_extension": ".py",
   "mimetype": "text/x-python",
   "name": "python",
   "nbconvert_exporter": "python",
   "pygments_lexer": "ipython3",
   "version": "3.10.11"
  }
 },
 "nbformat": 4,
 "nbformat_minor": 5
}
