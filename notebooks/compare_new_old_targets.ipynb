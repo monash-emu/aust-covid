{
 "cells": [
  {
   "cell_type": "code",
   "execution_count": null,
   "id": "4ade681f-4789-4444-9582-a0f4db04ed51",
   "metadata": {},
   "outputs": [],
   "source": [
    "from aust_covid.inputs import load_serosurvey_data\n",
    "from emutools.tex import DummyTexDoc\n",
    "import pandas as pd\n",
    "from datetime import datetime\n",
    "import estival.targets as est\n",
    "import numpy as np\n",
    "from scipy.stats import beta, binom\n",
    "pd.options.plotting.backend = 'plotly'"
   ]
  },
  {
   "cell_type": "code",
   "execution_count": null,
   "id": "3ed3a724-dd4b-4d84-8601-a40ebcb9abf5",
   "metadata": {},
   "outputs": [],
   "source": [
    "data = load_serosurvey_data(DummyTexDoc())\n",
    "range_request = 0.125\n",
    "target = est.BetaTarget.from_mean_and_ci('adult_seropos_prop', data, range_request)\n",
    "old_target = est.BinomialTarget('adult_seropos_prop', data, pd.Series([20] * 3, index=data.index))\n",
    "successes = range(20)\n",
    "indices = [i / 20.0 for i in successes]\n",
    "vals = pd.DataFrame(index=indices, columns=data.index)\n",
    "old_vals = pd.DataFrame(index=indices, columns=data.index)\n",
    "for date in data.index:\n",
    "    vals[date] = beta.pdf(indices, target.a[date], target.b[date])\n",
    "    old_vals[date] = binom.pmf(successes, 20.0, old_target.data[date])\n",
    "vals.plot()"
   ]
  },
  {
   "cell_type": "code",
   "execution_count": null,
   "id": "0cbc156e-4ad8-4797-8403-4003ffa05a11",
   "metadata": {},
   "outputs": [],
   "source": [
    "old_vals.plot()"
   ]
  }
 ],
 "metadata": {
  "kernelspec": {
   "display_name": "Python 3 (ipykernel)",
   "language": "python",
   "name": "python3"
  },
  "language_info": {
   "codemirror_mode": {
    "name": "ipython",
    "version": 3
   },
   "file_extension": ".py",
   "mimetype": "text/x-python",
   "name": "python",
   "nbconvert_exporter": "python",
   "pygments_lexer": "ipython3",
   "version": "3.10.11"
  }
 },
 "nbformat": 4,
 "nbformat_minor": 5
}
