{
 "cells": [
  {
   "cell_type": "code",
   "execution_count": null,
   "id": "82b30bc6",
   "metadata": {},
   "outputs": [],
   "source": [
    "import pandas as pd\n",
    "pd.options.plotting.backend = 'plotly'\n",
    "from aust_covid.inputs import get_base_vacc_data\n",
    "from aust_covid.vaccination import get_vacc_data_masks, add_derived_data_to_vacc\n",
    "from aust_covid.plotting import plot_full_vacc, plot_program_coverage"
   ]
  },
  {
   "cell_type": "code",
   "execution_count": null,
   "id": "c10523c1-c482-4c3a-8d49-cd5c15d469a3",
   "metadata": {},
   "outputs": [],
   "source": [
    "vacc_df = get_base_vacc_data()\n",
    "masks = get_vacc_data_masks(vacc_df)\n",
    "vacc_df, lagged_df = add_derived_data_to_vacc(vacc_df)"
   ]
  },
  {
   "cell_type": "code",
   "execution_count": null,
   "id": "0a267267-7210-46da-bec0-e8b15d216f64",
   "metadata": {},
   "outputs": [],
   "source": [
    "plot_full_vacc(masks['age 16+, 2+ doses'], vacc_df)"
   ]
  },
  {
   "cell_type": "code",
   "execution_count": null,
   "id": "8341679f-73ab-4f56-8915-d3e259a13449",
   "metadata": {},
   "outputs": [],
   "source": [
    "plot_program_coverage({m: masks[m] for m in ['age 16+, 3+ doses', 'age 16+, 4+ doses', 'age 12-15, 2+ doses', 'age 5-11, 2+ doses']}, vacc_df)"
   ]
  },
  {
   "cell_type": "code",
   "execution_count": null,
   "id": "8ea820b3-9444-498a-a3e1-6bdddf690faf",
   "metadata": {},
   "outputs": [],
   "source": [
    "vacc_df[['primary full', 'adult booster']].plot()"
   ]
  },
  {
   "cell_type": "code",
   "execution_count": null,
   "id": "a7e584bf-7460-4fa4-8052-24373c94706a",
   "metadata": {},
   "outputs": [],
   "source": [
    "vacc_df[['prop primary full', 'prop adult booster']].plot()"
   ]
  },
  {
   "cell_type": "code",
   "execution_count": null,
   "id": "a3f16acd-14dd-43bd-a80e-8b28d021b3d0",
   "metadata": {},
   "outputs": [],
   "source": [
    "vacc_df[['rate primary full', 'rate adult booster']].plot()"
   ]
  }
 ],
 "metadata": {
  "kernelspec": {
   "display_name": "Python 3 (ipykernel)",
   "language": "python",
   "name": "python3"
  },
  "language_info": {
   "codemirror_mode": {
    "name": "ipython",
    "version": 3
   },
   "file_extension": ".py",
   "mimetype": "text/x-python",
   "name": "python",
   "nbconvert_exporter": "python",
   "pygments_lexer": "ipython3",
   "version": "3.10.0"
  }
 },
 "nbformat": 4,
 "nbformat_minor": 5
}
