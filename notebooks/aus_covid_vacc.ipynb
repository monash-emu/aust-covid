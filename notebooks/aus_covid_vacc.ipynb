{
 "cells": [
  {
   "cell_type": "code",
   "execution_count": null,
   "id": "82b30bc6",
   "metadata": {},
   "outputs": [],
   "source": [
    "import pandas as pd\n",
    "import numpy as np\n",
    "from datetime import datetime\n",
    "import plotly.express as px\n",
    "from plotly.subplots import make_subplots\n",
    "import plotly.graph_objects as go\n",
    "from inputs.constants import DATA_PATH\n",
    "pd.options.plotting.backend = 'plotly'"
   ]
  },
  {
   "cell_type": "markdown",
   "id": "d719ff68-717b-413c-9d34-6235539d77d9",
   "metadata": {},
   "source": [
    "### Data wrangling\n",
    "Initial processing"
   ]
  },
  {
   "cell_type": "code",
   "execution_count": null,
   "id": "c10523c1-c482-4c3a-8d49-cd5c15d469a3",
   "metadata": {},
   "outputs": [],
   "source": [
    "vacc_df = pd.read_csv(DATA_PATH / 'aus_vax_data.csv', index_col=424)\n",
    "vacc_df.index = pd.to_datetime(vacc_df.index, infer_datetime_format=True)\n",
    "vacc_df = vacc_df.sort_index()"
   ]
  },
  {
   "cell_type": "markdown",
   "id": "86511da5-0860-4782-90d7-9cc11088a686",
   "metadata": {},
   "source": [
    "Get masks for each program or type of vaccination"
   ]
  },
  {
   "cell_type": "code",
   "execution_count": null,
   "id": "7e4379b2-3ca5-4db5-9a72-3aad0ab38f8b",
   "metadata": {},
   "outputs": [],
   "source": [
    "age_16_2dose = [\n",
    "    c for c in vacc_df.columns if 'Number of people fully vaccinated' in c and \n",
    "    not any(s in c for s in [' - M - ', ' - F - '])\n",
    "]\n",
    "age_16_3dose = [\n",
    "    col for col in vacc_df.columns if \n",
    "    'National' in col and \n",
    "    any([s in col for s in ['who have received 3 doses', 'with 3 or more doses', 'with more than two doses', 'with more than 2 doses']]) and \n",
    "    any([s in col for s in ['16', '18']]) and\n",
    "    not any([s in col for s in ['increase', 'Percentage', 'Indigenous']])\n",
    "]\n",
    "age_16_4dose = [\n",
    "    col for col in vacc_df.columns if\n",
    "    'National' in col and\n",
    "    any([s in col for s in ['Winter Boosters number', 'who have received 4 doses', 'Fourth dose number']]) and\n",
    "    not any([s in col for s in ['30', '65', 'increase']])\n",
    "]\n",
    "age_12_15_2dose = [\n",
    "    col for col in vacc_df.columns if\n",
    "    '12-15' in col and\n",
    "    any([s in col for s in ['National', 'Age group']]) and\n",
    "    any([s in col for s in ['2 doses', 'fully vaccinated']]) and\n",
    "    not any([s in col for s in ['Indigenous', 'Population', '- F -', '- M -']])\n",
    "]\n",
    "age_5_11_2dose = [\n",
    "    col for col in vacc_df.columns if\n",
    "    'National' in col and\n",
    "    '5-11' in col and\n",
    "    any([s in col for s in ['2 doses', 'fully vaccinated']])\n",
    "]"
   ]
  },
  {
   "cell_type": "markdown",
   "id": "c4a7ff6d-dcf5-4b5d-9128-2c6fc251ee4c",
   "metadata": {},
   "source": [
    "### Display results"
   ]
  },
  {
   "cell_type": "code",
   "execution_count": null,
   "id": "58f97878",
   "metadata": {},
   "outputs": [],
   "source": [
    "vacc_df[age_16_2dose].dropna().plot(title='Fully vaccinated coverage')"
   ]
  },
  {
   "cell_type": "code",
   "execution_count": null,
   "id": "ef251276",
   "metadata": {},
   "outputs": [],
   "source": [
    "col_masks = {\n",
    "    'Ages 16+, at least three doses': age_16_3dose,\n",
    "    'Ages 16+, at least four doses': age_16_4dose,\n",
    "    'Ages 12 to 15, at least two doses': age_12_15_2dose,\n",
    "    'Ages 5 to 11, at least two doses': age_5_11_2dose,\n",
    "}\n",
    "fig = make_subplots(rows=2, cols=2, subplot_titles =list(col_masks.keys()))\n",
    "for m, mask in enumerate(col_masks):\n",
    "    col = m % 2 + 1\n",
    "    row = int(np.floor(m / 2)) + 1\n",
    "    fig.add_traces(px.line(vacc_df[col_masks[mask]]).data, rows=row, cols=col)\n",
    "fig.update_layout(height=600, showlegend=False, title='Coverage by program')"
   ]
  },
  {
   "cell_type": "markdown",
   "id": "d5ab5e2e-3d51-4f65-b9b1-3da6bb7bde39",
   "metadata": {},
   "source": [
    "### Derive new fields from booster program information\n",
    "Address a single day discontinuity in at least four doses data, while at least three doses continues."
   ]
  },
  {
   "cell_type": "code",
   "execution_count": null,
   "id": "b092800f",
   "metadata": {},
   "outputs": [],
   "source": [
    "vacc_df['adult booster'] = vacc_df.loc[:, age_16_3dose + age_16_4dose].sum(axis=1)\n",
    "vacc_df = vacc_df.drop(datetime(2022, 7, 8))\n",
    "vacc_df['adult booster smooth'] = vacc_df.loc[:, 'adult booster'].rolling(7).mean()\n",
    "vacc_df[['adult booster', 'adult booster smooth']].plot(title='Cumulative boosters in ages 16+')"
   ]
  },
  {
   "cell_type": "code",
   "execution_count": null,
   "id": "73fd6c98-b82e-4a02-b1d8-ff72cd261d3a",
   "metadata": {},
   "outputs": [],
   "source": [
    "vacc_df['incremental adult booster'] = vacc_df['adult booster smooth'].diff()\n",
    "vacc_df['incremental adult booster'].plot()"
   ]
  },
  {
   "cell_type": "code",
   "execution_count": null,
   "id": "3115d131-f00a-403c-b18c-307677d413fb",
   "metadata": {},
   "outputs": [],
   "source": [
    "immune_duration = 100\n",
    "vacc_df['boosted in preceding'] = vacc_df['incremental adult booster'].rolling(immune_duration).sum()\n",
    "vacc_df['boosted in preceding'].plot(title=f'Vaccinaged in preceding {immune_duration} days')"
   ]
  }
 ],
 "metadata": {
  "kernelspec": {
   "display_name": "Python 3 (ipykernel)",
   "language": "python",
   "name": "python3"
  },
  "language_info": {
   "codemirror_mode": {
    "name": "ipython",
    "version": 3
   },
   "file_extension": ".py",
   "mimetype": "text/x-python",
   "name": "python",
   "nbconvert_exporter": "python",
   "pygments_lexer": "ipython3",
   "version": "3.10.11"
  }
 },
 "nbformat": 4,
 "nbformat_minor": 5
}
