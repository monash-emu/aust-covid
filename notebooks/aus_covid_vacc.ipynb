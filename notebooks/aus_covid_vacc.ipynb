{
 "cells": [
  {
   "cell_type": "code",
   "execution_count": null,
   "id": "82b30bc6",
   "metadata": {},
   "outputs": [],
   "source": [
    "import pandas as pd\n",
    "import numpy as np\n",
    "import plotly.express as px\n",
    "from plotly.subplots import make_subplots\n",
    "import plotly.graph_objects as go\n",
    "from inputs.constants import DATA_PATH\n",
    "pd.options.plotting.backend = 'plotly'"
   ]
  },
  {
   "cell_type": "code",
   "execution_count": null,
   "id": "c10523c1-c482-4c3a-8d49-cd5c15d469a3",
   "metadata": {},
   "outputs": [],
   "source": [
    "vacc_df = pd.read_csv(DATA_PATH / 'aus_vax_data.csv', index_col=424)\n",
    "vacc_df.index = pd.to_datetime(vacc_df.index, infer_datetime_format=True)\n",
    "vacc_df = vacc_df.sort_index()"
   ]
  },
  {
   "cell_type": "code",
   "execution_count": null,
   "id": "7e4379b2-3ca5-4db5-9a72-3aad0ab38f8b",
   "metadata": {},
   "outputs": [],
   "source": [
    "age_16_2dose = [\n",
    "    c for c in vacc_df.columns if 'Number of people fully vaccinated' in c and \n",
    "    not any(s in c for s in [' - M - ', ' - F - '])\n",
    "]\n",
    "age_16_3dose = [\n",
    "    col for col in vacc_df.columns if \n",
    "    'National' in col and \n",
    "    any([s in col for s in ['who have received 3 doses', 'with 3 or more doses', 'with more than two doses', 'with more than 2 doses']]) and \n",
    "    any([s in col for s in ['16', '18']]) and\n",
    "    not any([s in col for s in ['increase', 'Percentage', 'Indigenous']])\n",
    "]\n",
    "age_16_4dose = [\n",
    "    col for col in vacc_df.columns if\n",
    "    'National' in col and\n",
    "    any([s in col for s in ['Winter Boosters number', 'who have received 4 doses', 'Fourth dose number']]) and\n",
    "    not any([s in col for s in ['30', '65', 'increase']])\n",
    "]\n",
    "age_12_15_2dose = [\n",
    "    col for col in vacc_df.columns if\n",
    "    '12-15' in col and\n",
    "    any([s in col for s in ['National', 'Age group']]) and\n",
    "    any([s in col for s in ['2 doses', 'fully vaccinated']]) and\n",
    "    not any([s in col for s in ['Indigenous', 'Population', '- F -', '- M -']])\n",
    "]\n",
    "age_5_11_2dose = [\n",
    "    col for col in vacc_df.columns if\n",
    "    'National' in col and\n",
    "    '5-11' in col and\n",
    "    any([s in col for s in ['2 doses', 'fully vaccinated']])\n",
    "]"
   ]
  },
  {
   "cell_type": "code",
   "execution_count": null,
   "id": "58f97878",
   "metadata": {},
   "outputs": [],
   "source": [
    "vacc_df[age_16_2dose].dropna().plot(title='Fully vaccinated coverage')"
   ]
  },
  {
   "cell_type": "code",
   "execution_count": null,
   "id": "ef251276",
   "metadata": {},
   "outputs": [],
   "source": [
    "col_masks = {\n",
    "    'Ages 16+, at least three doses': age_16_3dose,\n",
    "    'Ages 16+, at least four doses': age_16_4dose,\n",
    "    'Ages 12 to 15, at least two doses': age_12_15_2dose,\n",
    "    'Ages 5 to 11, at least two doses': age_5_11_2dose,\n",
    "}\n",
    "fig = make_subplots(rows=2, cols=2, subplot_titles =list(col_masks.keys()))\n",
    "for m, mask in enumerate(col_masks):\n",
    "    col = m % 2 + 1\n",
    "    row = int(np.floor(m / 2)) + 1\n",
    "    fig.add_traces(px.line(vacc_df[col_masks[mask]]).data, rows=row, cols=col)\n",
    "fig.update_layout(height=600, showlegend=False, title='Coverage by program')"
   ]
  },
  {
   "cell_type": "code",
   "execution_count": null,
   "id": "55c9eaed-d7ea-4c24-81ae-a7b34a22bec9",
   "metadata": {},
   "outputs": [],
   "source": [
    "from datetime import datetime"
   ]
  },
  {
   "cell_type": "code",
   "execution_count": null,
   "id": "5272cd15-3f3a-451f-8a33-20a1cad3d90b",
   "metadata": {},
   "outputs": [],
   "source": [
    "vacc_df = vacc_df.drop(datetime(2022, 7, 8))"
   ]
  },
  {
   "cell_type": "code",
   "execution_count": null,
   "id": "b092800f",
   "metadata": {},
   "outputs": [],
   "source": [
    "vacc_df['adult booster'] = vacc_df.loc[:, age_16_3dose + age_16_4dose].sum(axis=1)\n",
    "vacc_df['adult booster smooth'] = vacc_df.loc[:, 'adult booster'].rolling(14).mean()\n",
    "vacc_df[['adult booster', 'adult booster smooth']].plot(title='Cumulative boosters in ages 16+')"
   ]
  },
  {
   "cell_type": "code",
   "execution_count": null,
   "id": "73fd6c98-b82e-4a02-b1d8-ff72cd261d3a",
   "metadata": {},
   "outputs": [],
   "source": [
    "vacc_df['incremental adult booster'] = vacc_df['adult booster smooth'].diff()"
   ]
  },
  {
   "cell_type": "code",
   "execution_count": null,
   "id": "46c842a9-e474-4a8e-a1b8-14cad6d2a0e8",
   "metadata": {},
   "outputs": [],
   "source": [
    "vacc_df['inc ad boost'] = vacc_df['adult booster'].diff()"
   ]
  },
  {
   "cell_type": "code",
   "execution_count": null,
   "id": "dda47794-b0c3-4515-a98b-836c95efc6fc",
   "metadata": {},
   "outputs": [],
   "source": [
    "vacc_df['inc ad boost'].plot()"
   ]
  },
  {
   "cell_type": "code",
   "execution_count": null,
   "id": "a5c1f3d8-8381-41ef-b518-fa07a58f9adc",
   "metadata": {},
   "outputs": [],
   "source": [
    "vacc_df[['adult booster', 'adult booster smooth', 'incremental adult booster']].dropna().iloc[50:, :]"
   ]
  },
  {
   "cell_type": "code",
   "execution_count": null,
   "id": "99b29d72-d31c-4ade-ba4b-b0d92adfa8f2",
   "metadata": {},
   "outputs": [],
   "source": [
    "vacc_df['incremental adult booster'].plot()"
   ]
  }
 ],
 "metadata": {
  "kernelspec": {
   "display_name": "Python 3 (ipykernel)",
   "language": "python",
   "name": "python3"
  },
  "language_info": {
   "codemirror_mode": {
    "name": "ipython",
    "version": 3
   },
   "file_extension": ".py",
   "mimetype": "text/x-python",
   "name": "python",
   "nbconvert_exporter": "python",
   "pygments_lexer": "ipython3",
   "version": "3.10.11"
  }
 },
 "nbformat": 4,
 "nbformat_minor": 5
}
