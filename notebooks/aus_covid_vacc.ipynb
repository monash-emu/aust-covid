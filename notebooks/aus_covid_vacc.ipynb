{
 "cells": [
  {
   "cell_type": "code",
   "execution_count": null,
   "id": "82b30bc6",
   "metadata": {},
   "outputs": [],
   "source": [
    "import pandas as pd\n",
    "import numpy as np\n",
    "from datetime import datetime\n",
    "import plotly.express as px\n",
    "from plotly.subplots import make_subplots\n",
    "import plotly.graph_objects as go\n",
    "from inputs.constants import DATA_PATH\n",
    "pd.options.plotting.backend = 'plotly'"
   ]
  },
  {
   "cell_type": "code",
   "execution_count": null,
   "id": "b12558fe-f907-4f5c-95af-552b61916a0e",
   "metadata": {},
   "outputs": [],
   "source": [
    "def get_base_vacc_data():\n",
    "    vacc_df = pd.read_csv(DATA_PATH / 'aus_vax_data.csv', index_col=424)\n",
    "    vacc_df.index = pd.to_datetime(vacc_df.index, infer_datetime_format=True)\n",
    "    return vacc_df.sort_index()\n",
    "\n",
    "def get_vacc_data_masks(df):\n",
    "    masks = {\n",
    "        'age_16_2dose': [\n",
    "            c for c in df.columns if 'Number of people fully vaccinated' in c and \n",
    "            not any(s in c for s in [' - M - ', ' - F - '])\n",
    "        ],\n",
    "        'age_16_3dose': [\n",
    "            col for col in df.columns if \n",
    "            'National' in col and \n",
    "            any([s in col for s in ['who have received 3 doses', 'with 3 or more doses', 'with more than two doses', 'with more than 2 doses']]) and \n",
    "            any([s in col for s in ['16', '18']]) and\n",
    "            not any([s in col for s in ['increase', 'Percentage', 'Indigenous']])\n",
    "        ],\n",
    "        'age_16_4dose': [\n",
    "            col for col in df.columns if\n",
    "            'National' in col and\n",
    "            any([s in col for s in ['Winter Boosters number', 'who have received 4 doses', 'Fourth dose number']]) and\n",
    "            not any([s in col for s in ['30', '65', 'increase']])\n",
    "        ],\n",
    "        'age_12_15_2dose': [\n",
    "            col for col in df.columns if\n",
    "            '12-15' in col and\n",
    "            any([s in col for s in ['National', 'Age group']]) and\n",
    "            any([s in col for s in ['2 doses', 'fully vaccinated']]) and\n",
    "            not any([s in col for s in ['Indigenous', 'Population', '- F -', '- M -']])\n",
    "        ],\n",
    "        'age_5_11_2dose': [\n",
    "            col for col in df.columns if\n",
    "            'National' in col and\n",
    "            '5-11' in col and\n",
    "            any([s in col for s in ['2 doses', 'fully vaccinated']])\n",
    "        ],\n",
    "    }\n",
    "    masks['age_16_2dose'].sort()\n",
    "    return masks\n",
    "\n",
    "def plot_full_vacc(full_vacc_masks, df):\n",
    "    fig = go.Figure()\n",
    "    for a, age in enumerate(full_vacc_masks):\n",
    "        prop = int(np.round(a / len(masks['age_16_2dose']) * 250.0))\n",
    "        colour = f'rgb({prop},{250 - prop},250)'\n",
    "        trace_name = age.replace('- Number of people fully vaccinated', '').replace('Age group - ', '')\n",
    "        data = df[age].dropna()\n",
    "        fig.add_trace(go.Scatter(x=data.index, y=data, name=trace_name, line={'color': colour}))\n",
    "    return fig\n",
    "\n",
    "def plot_program_coverage(program_masks, df):\n",
    "    fig = make_subplots(rows=2, cols=2, subplot_titles=program_masks)\n",
    "    for m in range(len(program_masks)):\n",
    "        col = m % 2 + 1\n",
    "        row = int(np.floor(m / 2)) + 1\n",
    "        fig.add_traces(px.line(df[masks[program_masks[m]]]).data, rows=row, cols=col)\n",
    "    fig.update_layout(height=600, showlegend=False, title='Coverage by program')\n",
    "    return fig\n",
    "\n",
    "def add_booster_data_to_vacc(df, rolling_window, immune_duration):\n",
    "    df['adult booster'] = df.loc[:, masks['age_16_3dose'] + masks['age_16_4dose']].sum(axis=1)\n",
    "    df = vacc_df.drop(datetime(2022, 7, 8))\n",
    "    df['adult booster smooth'] = df.loc[:, 'adult booster'].rolling(rolling_window).mean()\n",
    "    df['incremental adult booster'] = df['adult booster smooth'].diff()\n",
    "    df['boosted in preceding'] = df['incremental adult booster'].rolling(immune_duration).sum()\n",
    "    df['prop boosted in preceding'] = df['boosted in preceding'] / df['National - Population 16 and over']\n",
    "    return df"
   ]
  },
  {
   "cell_type": "code",
   "execution_count": null,
   "id": "c10523c1-c482-4c3a-8d49-cd5c15d469a3",
   "metadata": {},
   "outputs": [],
   "source": [
    "vacc_df = get_base_vacc_data()\n",
    "masks = get_vacc_data_masks(vacc_df)\n",
    "vacc_df = add_booster_data_to_vacc(vacc_df, 7, 100)"
   ]
  },
  {
   "cell_type": "code",
   "execution_count": null,
   "id": "0a267267-7210-46da-bec0-e8b15d216f64",
   "metadata": {},
   "outputs": [],
   "source": [
    "plot_full_vacc(masks['age_16_2dose'], vacc_df)"
   ]
  },
  {
   "cell_type": "code",
   "execution_count": null,
   "id": "8341679f-73ab-4f56-8915-d3e259a13449",
   "metadata": {},
   "outputs": [],
   "source": [
    "plot_program_coverage(['age_16_3dose', 'age_16_4dose', 'age_12_15_2dose', 'age_5_11_2dose'], vacc_df)"
   ]
  },
  {
   "cell_type": "code",
   "execution_count": null,
   "id": "b092800f",
   "metadata": {},
   "outputs": [],
   "source": [
    "vacc_df[['adult booster', 'adult booster smooth']].plot(title='Cumulative boosters in ages 16+')"
   ]
  },
  {
   "cell_type": "code",
   "execution_count": null,
   "id": "73fd6c98-b82e-4a02-b1d8-ff72cd261d3a",
   "metadata": {},
   "outputs": [],
   "source": [
    "vacc_df['incremental adult booster'].plot(title='Smoothed incremental additional doses by day')"
   ]
  },
  {
   "cell_type": "code",
   "execution_count": null,
   "id": "3115d131-f00a-403c-b18c-307677d413fb",
   "metadata": {},
   "outputs": [],
   "source": [
    "vacc_df['boosted in preceding'].plot(title=f'Vaccinated in preceding period')"
   ]
  },
  {
   "cell_type": "code",
   "execution_count": null,
   "id": "c0a0c0e2-40f3-4102-9ace-044a4f1aa73e",
   "metadata": {},
   "outputs": [],
   "source": [
    "vacc_df['prop boosted in preceding'].plot(title=f'Proportion vaccinated in preceding period')"
   ]
  }
 ],
 "metadata": {
  "kernelspec": {
   "display_name": "Python 3 (ipykernel)",
   "language": "python",
   "name": "python3"
  },
  "language_info": {
   "codemirror_mode": {
    "name": "ipython",
    "version": 3
   },
   "file_extension": ".py",
   "mimetype": "text/x-python",
   "name": "python",
   "nbconvert_exporter": "python",
   "pygments_lexer": "ipython3",
   "version": "3.10.11"
  }
 },
 "nbformat": 4,
 "nbformat_minor": 5
}
