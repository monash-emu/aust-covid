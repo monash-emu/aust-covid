{
 "cells": [
  {
   "cell_type": "code",
   "execution_count": null,
   "id": "82b30bc6",
   "metadata": {},
   "outputs": [],
   "source": [
    "import pandas as pd\n",
    "pd.options.plotting.backend = 'plotly'\n",
    "from aust_covid.inputs import get_base_vacc_data\n",
    "from aust_covid.vaccination import get_vacc_data_masks, add_derived_data_to_vacc\n",
    "from aust_covid.plotting import plot_full_vacc, plot_program_coverage"
   ]
  },
  {
   "cell_type": "code",
   "execution_count": null,
   "id": "c10523c1-c482-4c3a-8d49-cd5c15d469a3",
   "metadata": {},
   "outputs": [],
   "source": [
    "vacc_df = get_base_vacc_data()\n",
    "masks = get_vacc_data_masks(vacc_df)\n",
    "vacc_df = add_derived_data_to_vacc(vacc_df)"
   ]
  },
  {
   "cell_type": "code",
   "execution_count": null,
   "id": "0a267267-7210-46da-bec0-e8b15d216f64",
   "metadata": {},
   "outputs": [],
   "source": [
    "plot_full_vacc(masks['age 16+, 2+ doses'], vacc_df)"
   ]
  },
  {
   "cell_type": "code",
   "execution_count": null,
   "id": "8341679f-73ab-4f56-8915-d3e259a13449",
   "metadata": {},
   "outputs": [],
   "source": [
    "plot_program_coverage({m: masks[m] for m in ['age 16+, 3+ doses', 'age 16+, 4+ doses', 'age 12-15, 2+ doses', 'age 5-11, 2+ doses']}, vacc_df)"
   ]
  },
  {
   "cell_type": "code",
   "execution_count": null,
   "id": "b092800f",
   "metadata": {},
   "outputs": [],
   "source": [
    "vacc_df[['adult booster', 'adult booster smooth', 'primary full', 'primary full smooth']].plot(title='Cumulative adult boosters and primary second doses')"
   ]
  },
  {
   "cell_type": "code",
   "execution_count": null,
   "id": "73fd6c98-b82e-4a02-b1d8-ff72cd261d3a",
   "metadata": {},
   "outputs": [],
   "source": [
    "vacc_df[['incremental adult booster', 'incremental primary full']].plot(title='Smoothed incremental additional doses by day')"
   ]
  },
  {
   "cell_type": "code",
   "execution_count": null,
   "id": "3115d131-f00a-403c-b18c-307677d413fb",
   "metadata": {},
   "outputs": [],
   "source": [
    "vacc_df[['boosted in preceding', 'primary full in preceding']].plot(title=f'Vaccinated in preceding period')"
   ]
  },
  {
   "cell_type": "code",
   "execution_count": null,
   "id": "c0a0c0e2-40f3-4102-9ace-044a4f1aa73e",
   "metadata": {},
   "outputs": [],
   "source": [
    "vacc_df[['prop boosted in preceding', 'prop primary full in preceding']].plot(title=f'Proportion vaccinated in preceding period')"
   ]
  },
  {
   "cell_type": "code",
   "execution_count": null,
   "id": "3c3b6157-07dc-42da-a56d-14ffb00d426a",
   "metadata": {},
   "outputs": [],
   "source": [
    "sum([1, 2])"
   ]
  }
 ],
 "metadata": {
  "kernelspec": {
   "display_name": "Python 3 (ipykernel)",
   "language": "python",
   "name": "python3"
  },
  "language_info": {
   "codemirror_mode": {
    "name": "ipython",
    "version": 3
   },
   "file_extension": ".py",
   "mimetype": "text/x-python",
   "name": "python",
   "nbconvert_exporter": "python",
   "pygments_lexer": "ipython3",
   "version": "3.10.11"
  }
 },
 "nbformat": 4,
 "nbformat_minor": 5
}
