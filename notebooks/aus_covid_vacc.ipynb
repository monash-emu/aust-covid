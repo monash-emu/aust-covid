{
 "cells": [
  {
   "cell_type": "code",
   "execution_count": null,
   "id": "82b30bc6",
   "metadata": {},
   "outputs": [],
   "source": [
    "import pandas as pd\n",
    "import numpy as np\n",
    "import plotly.express as px\n",
    "from plotly.subplots import make_subplots\n",
    "import plotly.graph_objects as go\n",
    "from inputs.constants import DATA_PATH"
   ]
  },
  {
   "cell_type": "code",
   "execution_count": null,
   "id": "c10523c1-c482-4c3a-8d49-cd5c15d469a3",
   "metadata": {},
   "outputs": [],
   "source": [
    "df = pd.read_csv(DATA_PATH / 'aus_vax_data.csv', index_col=424)\n",
    "df.index = pd.to_datetime(df.index, infer_datetime_format=True)"
   ]
  },
  {
   "cell_type": "code",
   "execution_count": null,
   "id": "7e4379b2-3ca5-4db5-9a72-3aad0ab38f8b",
   "metadata": {},
   "outputs": [],
   "source": [
    "age_16_3dose = [\n",
    "    col for col in df.columns if \n",
    "    'National' in col and \n",
    "    any([s in col for s in ['who have received 3 doses', 'with 3 or more doses', 'with more than two doses', 'with more than 2 doses']]) and \n",
    "    any([s in col for s in ['16', '18']]) and\n",
    "    not any([s in col for s in ['increase', 'Percentage', 'Indigenous']])\n",
    "]\n",
    "age_16_4dose = [\n",
    "    col for col in df.columns if\n",
    "    'National' in col and\n",
    "    any([s in col for s in ['Winter Boosters number', 'who have received 4 doses', 'Fourth dose number']]) and\n",
    "    not any([s in col for s in ['30', '65', 'increase']])\n",
    "]\n",
    "age_12_15_2dose = [\n",
    "    col for col in df.columns if\n",
    "    '12-15' in col and\n",
    "    any([s in col for s in ['National', 'Age group']]) and\n",
    "    any([s in col for s in ['2 doses', 'fully vaccinated']]) and\n",
    "    not any([s in col for s in ['Indigenous', 'Population', '- F -', '- M -']])\n",
    "]\n",
    "age_5_11_2dose = [\n",
    "    col for col in df.columns if\n",
    "    'National' in col and\n",
    "    '5-11' in col and\n",
    "    any([s in col for s in ['2 doses', 'fully vaccinated']])\n",
    "]\n",
    "col_masks = {\n",
    "    'Ages 16+, at least three doses': age_16_3dose,\n",
    "    'Ages 16+, at least four doses': age_16_4dose,\n",
    "    'Ages 12 to 15, at least two doses': age_12_15_2dose,\n",
    "    'Ages 5 to 11, at least two doses': age_5_11_2dose,\n",
    "}"
   ]
  },
  {
   "cell_type": "code",
   "execution_count": null,
   "id": "ef251276",
   "metadata": {},
   "outputs": [],
   "source": [
    "fig = make_subplots(rows=2, cols=2, subplot_titles =list(col_masks.keys()))\n",
    "for m, mask in enumerate(col_masks):\n",
    "    col = m % 2 + 1\n",
    "    row = int(np.floor(m / 2)) + 1\n",
    "    fig.add_traces(px.line(df[col_masks[mask]]).data, rows=row, cols=col)\n",
    "fig.update_layout(height=600, showlegend=False)"
   ]
  },
  {
   "cell_type": "code",
   "execution_count": null,
   "id": "b092800f",
   "metadata": {},
   "outputs": [],
   "source": [
    "# Create a new dataframe that combines 16+ 3-dose and 4-dose coverage to create a  booster over time\n",
    "df_booster = df[['National - Number of people 16 and over who have received 3 doses',\n",
    "                    'National - 16 and over with 3 or more doses',\n",
    "                    'National - 18 and over with more than 2 doses',\n",
    "                    'National - Number of people 16 and over with more than two doses',\n",
    "                    'National - 16 and over with more than 2 doses',\n",
    "                    'National - Winter Boosters number- daily update',\n",
    "                    'National - Winter Boosters number- weekly update',\n",
    "                    'National - Number of people 16 and over who have received 4 doses',\n",
    "                    'National - Fourth dose number- daily update']]"
   ]
  },
  {
   "cell_type": "code",
   "execution_count": null,
   "id": "b610d20e",
   "metadata": {},
   "outputs": [],
   "source": [
    "df_booster['Adult booster doses'] = df_booster.loc[:,['National - Number of people 16 and over who have received 3 doses',\n",
    "                    'National - 16 and over with 3 or more doses',\n",
    "                    'National - 18 and over with more than 2 doses',\n",
    "                    'National - Number of people 16 and over with more than two doses',\n",
    "                    'National - 16 and over with more than 2 doses',\n",
    "                    'National - Winter Boosters number- daily update',\n",
    "                    'National - Winter Boosters number- weekly update',\n",
    "                    'National - Number of people 16 and over who have received 4 doses',\n",
    "                    'National - Fourth dose number- daily update']].sum(axis=1)"
   ]
  },
  {
   "cell_type": "code",
   "execution_count": null,
   "id": "622d3273",
   "metadata": {},
   "outputs": [],
   "source": [
    "df_booster['Adult booster smooth'] = df_booster.loc[:, 'Adult booster doses'].rolling(14).mean()"
   ]
  },
  {
   "cell_type": "code",
   "execution_count": null,
   "id": "93c55a29",
   "metadata": {},
   "outputs": [],
   "source": [
    "px.line(df_booster['Adult booster smooth'])"
   ]
  },
  {
   "cell_type": "code",
   "execution_count": null,
   "id": "58f97878",
   "metadata": {},
   "outputs": [],
   "source": [
    "# visualise 2-dose coverage\n",
    "px.line(df[[c for c in df.columns if 'Number of people fully vaccinated' in c]].dropna())"
   ]
  }
 ],
 "metadata": {
  "kernelspec": {
   "display_name": "Python 3 (ipykernel)",
   "language": "python",
   "name": "python3"
  },
  "language_info": {
   "codemirror_mode": {
    "name": "ipython",
    "version": 3
   },
   "file_extension": ".py",
   "mimetype": "text/x-python",
   "name": "python",
   "nbconvert_exporter": "python",
   "pygments_lexer": "ipython3",
   "version": "3.10.0"
  }
 },
 "nbformat": 4,
 "nbformat_minor": 5
}
