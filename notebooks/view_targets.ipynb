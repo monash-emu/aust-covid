{
 "cells": [
  {
   "cell_type": "code",
   "execution_count": null,
   "id": "590cef03-86de-4618-a194-aff17ee53a2e",
   "metadata": {},
   "outputs": [],
   "source": [
    "from plotly.graph_objects import Figure\n",
    "import plotly.graph_objects as go\n",
    "\n",
    "from aust_covid.inputs import load_national_data, load_owid_data, load_calibration_targets, load_who_data, load_serosurvey_data\n",
    "from inputs.constants import INPUTS_PATH, SUPPLEMENT_PATH\n",
    "from emutools.tex import DummyTexDoc, StandardTexDoc\n",
    "from aust_covid.calibration import get_targets"
   ]
  },
  {
   "cell_type": "code",
   "execution_count": null,
   "id": "a84553af-76b8-4ed3-95a1-16dcdf7c7384",
   "metadata": {},
   "outputs": [],
   "source": [
    "app_doc = StandardTexDoc(SUPPLEMENT_PATH, 'targets', 'Targets', 'austcovid')\n",
    "national_data = load_national_data(app_doc)\n",
    "owid_data = load_owid_data(app_doc)\n",
    "combined_data = load_calibration_targets(app_doc)\n",
    "targets = get_targets(app_doc)\n",
    "case_targets = next((t.data for t in targets if t.name == 'notifications_ma'))"
   ]
  },
  {
   "cell_type": "code",
   "execution_count": null,
   "id": "b645d318-01a8-4125-91d1-0bc35312e9dd",
   "metadata": {},
   "outputs": [],
   "source": [
    "case_fig = Figure()\n",
    "case_fig.add_trace(go.Scatter(x=national_data.index, y=national_data, name='national'))\n",
    "case_fig.add_trace(go.Scatter(x=owid_data.index, y=owid_data, name='owid'))\n",
    "case_fig.add_trace(go.Scatter(x=combined_data.index, y=combined_data, name='combined'))\n",
    "case_fig.add_trace(go.Scatter(x=case_targets.index, y=case_targets, name='target (smoothed)'))"
   ]
  },
  {
   "cell_type": "code",
   "execution_count": null,
   "id": "dac80c20-ef53-4f96-89f4-2ddd5abd6544",
   "metadata": {},
   "outputs": [],
   "source": [
    "death_data = load_who_data(app_doc)\n",
    "death_targets = next((t.data for t in targets if t.name == 'deaths_ma'))"
   ]
  },
  {
   "cell_type": "code",
   "execution_count": null,
   "id": "5d3d9378-db09-4762-8d5a-7bf801c7f111",
   "metadata": {},
   "outputs": [],
   "source": [
    "death_fig = Figure()\n",
    "death_fig.add_trace(go.Scatter(x=death_data.index, y=death_data, name='who data'))\n",
    "death_fig.add_trace(go.Scatter(x=death_targets.index, y=death_targets, name='target (smoothed)'))"
   ]
  },
  {
   "cell_type": "code",
   "execution_count": null,
   "id": "ccadee00-4667-4e7a-abb3-fad48ab3e10b",
   "metadata": {},
   "outputs": [],
   "source": [
    "serosurvey_data = load_serosurvey_data(app_doc)\n",
    "serosurvey_targets = next((t.data for t in targets if t.name == 'adult_seropos_prop'))"
   ]
  },
  {
   "cell_type": "code",
   "execution_count": null,
   "id": "0cd0cb01-ca6b-4f43-96f4-82444fde66e9",
   "metadata": {},
   "outputs": [],
   "source": [
    "sero_fig = Figure()\n",
    "sero_fig.add_trace(go.Scatter(x=serosurvey_data.index, y=serosurvey_data, name='serosurvey data'))\n",
    "sero_fig.add_trace(go.Scatter(x=serosurvey_targets.index, y=serosurvey_targets, name='target'))"
   ]
  },
  {
   "cell_type": "code",
   "execution_count": null,
   "id": "c4545c9e-a937-442b-9c60-83a9bb16de4b",
   "metadata": {},
   "outputs": [],
   "source": [
    "serosurvey_ceiling = next((t.data for t in targets if t.name == 'seropos_ceiling'))"
   ]
  },
  {
   "cell_type": "code",
   "execution_count": null,
   "id": "7844151f-33c5-45b1-8b0b-935b2fef3c59",
   "metadata": {},
   "outputs": [],
   "source": [
    "new_fig = Figure()\n",
    "new_fig.add_trace(go.Scatter(x=serosurvey_ceiling.index, y=serosurvey_ceiling))"
   ]
  },
  {
   "cell_type": "code",
   "execution_count": null,
   "id": "1bc4c71b-c7f3-4e00-8160-81431d28e7d3",
   "metadata": {},
   "outputs": [],
   "source": [
    "app_doc.write_doc()"
   ]
  }
 ],
 "metadata": {
  "kernelspec": {
   "display_name": "Python 3 (ipykernel)",
   "language": "python",
   "name": "python3"
  },
  "language_info": {
   "codemirror_mode": {
    "name": "ipython",
    "version": 3
   },
   "file_extension": ".py",
   "mimetype": "text/x-python",
   "name": "python",
   "nbconvert_exporter": "python",
   "pygments_lexer": "ipython3",
   "version": "3.10.0"
  }
 },
 "nbformat": 4,
 "nbformat_minor": 5
}
