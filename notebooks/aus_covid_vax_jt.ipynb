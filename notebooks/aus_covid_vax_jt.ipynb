{
 "cells": [
  {
   "cell_type": "code",
   "execution_count": null,
   "id": "82b30bc6",
   "metadata": {},
   "outputs": [],
   "source": [
    "import pandas as pd\n",
    "import numpy as np\n",
    "from datetime import datetime\n",
    "pd.options.plotting.backend = 'plotly'\n",
    "import plotly.express as px\n",
    "from plotly.subplots import make_subplots\n",
    "import plotly.graph_objects as go\n",
    "from inputs.constants import DATA_PATH"
   ]
  },
  {
   "cell_type": "code",
   "execution_count": null,
   "id": "c10523c1-c482-4c3a-8d49-cd5c15d469a3",
   "metadata": {},
   "outputs": [],
   "source": [
    "df = pd.read_csv(DATA_PATH / 'aus_vax_data.csv', index_col=424)\n",
    "df.index = pd.to_datetime(df.index, infer_datetime_format=True)"
   ]
  },
  {
   "cell_type": "code",
   "execution_count": null,
   "id": "7e4379b2-3ca5-4db5-9a72-3aad0ab38f8b",
   "metadata": {},
   "outputs": [],
   "source": [
    "age_16_3dose = [\n",
    "    col for col in df.columns if \n",
    "    'National' in col and \n",
    "    any([s in col for s in ['who have received 3 doses', 'with 3 or more doses', 'with more than two doses', 'with more than 2 doses']]) and \n",
    "    any([s in col for s in ['16', '18']]) and\n",
    "    not any([s in col for s in ['increase', 'Percentage', 'Indigenous']])\n",
    "]\n",
    "age_16_4dose = [\n",
    "    col for col in df.columns if\n",
    "    'National' in col and\n",
    "    any([s in col for s in ['Winter Boosters number', 'who have received 4 doses', 'Fourth dose number']]) and\n",
    "    not any([s in col for s in ['30', '65', 'increase']])\n",
    "]\n",
    "age_12_15_2dose = [\n",
    "    col for col in df.columns if\n",
    "    '12-15' in col and\n",
    "    any([s in col for s in ['National', 'Age group']]) and\n",
    "    any([s in col for s in ['2 doses', 'fully vaccinated']]) and\n",
    "    not any([s in col for s in ['Indigenous', 'Population', '- F -', '- M -']])\n",
    "]\n",
    "age_5_11_2dose = [\n",
    "    col for col in df.columns if\n",
    "    'National' in col and\n",
    "    '5-11' in col and\n",
    "    any([s in col for s in ['2 doses', 'fully vaccinated']])\n",
    "]\n",
    "age_16_booster = [\n",
    "    col for col in df.columns if\n",
    "    'National' in col and\n",
    "    any([s in col for s in ['who have received 3 doses', 'with 3 or more doses', 'with more than two doses', 'with more than 2 doses', '3 or more doses', 'Winter Boosters', 'who have received 4 doses', 'Fourth dose number']]) and\n",
    "    not any([s in col for s in ['Indigenous', 'increase', '30', '65', 'Percentage']])\n",
    "]"
   ]
  },
  {
   "cell_type": "code",
   "execution_count": null,
   "id": "ef251276",
   "metadata": {},
   "outputs": [],
   "source": [
    "col_masks = {\n",
    "    'Ages 16+, at least three doses': age_16_3dose,\n",
    "    'Ages 16+, at least four doses': age_16_4dose,\n",
    "    'Ages 12 to 15, at least two doses': age_12_15_2dose,\n",
    "    'Ages 5 to 11, at least two doses': age_5_11_2dose,\n",
    "}\n",
    "fig = make_subplots(rows=2, cols=2, subplot_titles =list(col_masks.keys()))\n",
    "for m, mask in enumerate(col_masks):\n",
    "    row = m % 2 + 1\n",
    "    col = int(np.floor(m / 2)) + 1\n",
    "    fig.add_traces(px.line(df[col_masks[mask]]).data, rows=row, cols=col)\n",
    "fig.update_layout(height=600, showlegend=False)"
   ]
  },
  {
   "cell_type": "code",
   "execution_count": null,
   "id": "a9ae2f96-eff4-491d-9a33-67bcf462cfb8",
   "metadata": {},
   "outputs": [],
   "source": [
    "booster_df = df[age_16_booster].drop([datetime(2022, 7, 8)])  # If we don't do this, we get a downward spike, which appears to be artefact\n",
    "booster_df['total'] = booster_df.sum(axis=1)\n",
    "booster_df['smoothed_total'] = booster_df.loc[:, 'total'].rolling(14).mean()\n",
    "booster_df.plot()"
   ]
  },
  {
   "cell_type": "code",
   "execution_count": null,
   "id": "58f97878",
   "metadata": {},
   "outputs": [],
   "source": [
    "px.line(df[[c for c in df.columns if 'Number of people fully vaccinated' in c]].dropna(), title='2-dose coverage')"
   ]
  },
  {
   "cell_type": "code",
   "execution_count": null,
   "id": "954909a4",
   "metadata": {},
   "outputs": [],
   "source": [
    "data_cols_5_11 = [c for c in df.columns if '5-11' in c]\n",
    "for c in data_cols_5_11:\n",
    "    print(c)"
   ]
  },
  {
   "cell_type": "code",
   "execution_count": null,
   "id": "9be46882",
   "metadata": {},
   "outputs": [],
   "source": [
    "for name in list(df.columns.values):\n",
    "    if 'booster' in name:\n",
    "        print(name)"
   ]
  }
 ],
 "metadata": {
  "kernelspec": {
   "display_name": "Python 3 (ipykernel)",
   "language": "python",
   "name": "python3"
  },
  "language_info": {
   "codemirror_mode": {
    "name": "ipython",
    "version": 3
   },
   "file_extension": ".py",
   "mimetype": "text/x-python",
   "name": "python",
   "nbconvert_exporter": "python",
   "pygments_lexer": "ipython3",
   "version": "3.10.11"
  }
 },
 "nbformat": 4,
 "nbformat_minor": 5
}
