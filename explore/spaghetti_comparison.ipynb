{
 "cells": [
  {
   "cell_type": "code",
   "execution_count": null,
   "id": "fe5a0780-773f-4ec7-b569-e4e726c01410",
   "metadata": {},
   "outputs": [],
   "source": [
    "import numpy as np\n",
    "import pandas as pd\n",
    "from autumn.infrastructure.remote import springboard\n",
    "from plotly.subplots import make_subplots\n",
    "from plotly import graph_objects as go\n",
    "from emutools.tex import DummyTexDoc, StandardTexDoc\n",
    "from aust_covid.calibration import get_targets\n",
    "pd.options.plotting.backend = 'plotly'\n",
    "from inputs.constants import PLOT_START_DATE, ANALYSIS_END_DATE, RUN_IDS"
   ]
  },
  {
   "cell_type": "code",
   "execution_count": null,
   "id": "295a75fe-c216-46c4-b183-8dbcb3cc6d37",
   "metadata": {},
   "outputs": [],
   "source": [
    "rts = springboard.task.RemoteTaskStore()\n",
    "rts.cd('projects/aust_covid/alternate_analyses')\n",
    "spaghettis = {}\n",
    "for type, id in RUN_IDS.items():\n",
    "    mt = rts.get_managed_task(id)\n",
    "    mt.download_all()\n",
    "    spaghettis[type] = pd.read_hdf(mt.local.path / 'output/results.hdf', 'spaghetti')"
   ]
  },
  {
   "cell_type": "code",
   "execution_count": null,
   "id": "02a9b6ea-1193-466d-abbe-35f547912c15",
   "metadata": {},
   "outputs": [],
   "source": [
    "def plot_multi_spaghetti(output, targets):\n",
    "    target = next(i for i in targets if i.name == output)\n",
    "    fig = make_subplots(rows=2, cols=2, subplot_titles=list(RUN_IDS.keys()), shared_yaxes=True)\n",
    "    for i, analysis in enumerate(RUN_IDS.keys()):\n",
    "        col = i % 2 + 1\n",
    "        row = int(np.floor(i / 2)) + 1\n",
    "        spaghetti = spaghettis[analysis][output]\n",
    "        spaghetti.columns = [f'{str(chain)}, {str(draw)}' for chain, draw in spaghetti.columns]    \n",
    "        fig.add_traces(spaghetti.plot().data, rows=row, cols=col)\n",
    "        fig.add_trace(go.Scatter(x=target.data.index, y=target.data, mode='markers', marker={'color': 'black', 'size': 12}), row=row, col=col)\n",
    "    fig.update_layout(height=1000, title={'text': output})\n",
    "    fig.update_xaxes(range=(PLOT_START_DATE, ANALYSIS_END_DATE))\n",
    "    return fig"
   ]
  },
  {
   "cell_type": "code",
   "execution_count": null,
   "id": "34e3d2d6-e005-4fee-8073-c9e6cfc56204",
   "metadata": {},
   "outputs": [],
   "source": [
    "targets = get_targets(DummyTexDoc())"
   ]
  },
  {
   "cell_type": "code",
   "execution_count": null,
   "id": "86935ad5-bb7c-4ee2-be42-f57ffce8509b",
   "metadata": {},
   "outputs": [],
   "source": [
    "plot_multi_spaghetti('notifications_ma', targets)"
   ]
  },
  {
   "cell_type": "code",
   "execution_count": null,
   "id": "90d64956-19c6-4ee2-ae8b-8552c2d59a56",
   "metadata": {},
   "outputs": [],
   "source": [
    "plot_multi_spaghetti('deaths_ma', targets)"
   ]
  },
  {
   "cell_type": "code",
   "execution_count": null,
   "id": "cf34b3cd-3d46-4513-9e9c-2f388fa87748",
   "metadata": {},
   "outputs": [],
   "source": [
    "plot_multi_spaghetti('adult_seropos_prop', targets)"
   ]
  }
 ],
 "metadata": {
  "kernelspec": {
   "display_name": "Python 3 (ipykernel)",
   "language": "python",
   "name": "python3"
  },
  "language_info": {
   "codemirror_mode": {
    "name": "ipython",
    "version": 3
   },
   "file_extension": ".py",
   "mimetype": "text/x-python",
   "name": "python",
   "nbconvert_exporter": "python",
   "pygments_lexer": "ipython3",
   "version": "3.10.0"
  }
 },
 "nbformat": 4,
 "nbformat_minor": 5
}
