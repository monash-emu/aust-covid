{
 "cells": [
  {
   "cell_type": "code",
   "execution_count": null,
   "id": "fe5a0780-773f-4ec7-b569-e4e726c01410",
   "metadata": {},
   "outputs": [],
   "source": [
    "import numpy as np\n",
    "import pandas as pd\n",
    "from plotly.subplots import make_subplots\n",
    "from plotly import graph_objects as go\n",
    "from emutools.tex import DummyTexDoc, StandardTexDoc\n",
    "from emutools.plotting import get_row_col_for_subplots\n",
    "from aust_covid.calibration import get_targets\n",
    "pd.options.plotting.backend = 'plotly'\n",
    "from inputs.constants import PLOT_START_DATE, ANALYSIS_END_DATE, RUN_IDS, PROJECT_PATH, RUNS_PATH"
   ]
  },
  {
   "cell_type": "code",
   "execution_count": null,
   "id": "e3b63785-df51-4421-97b2-3437d0bccc83",
   "metadata": {},
   "outputs": [],
   "source": [
    "spaghettis = {k: pd.read_hdf(RUNS_PATH / v / 'output/results.hdf', 'spaghetti') for k, v in RUN_IDS.items()}\n",
    "targets = get_targets(DummyTexDoc())"
   ]
  },
  {
   "cell_type": "code",
   "execution_count": null,
   "id": "02a9b6ea-1193-466d-abbe-35f547912c15",
   "metadata": {},
   "outputs": [],
   "source": [
    "def plot_multi_spaghetti(output, targets):\n",
    "    target = next(i for i in targets if i.name == output)\n",
    "    n_cols = 2\n",
    "    fig = make_subplots(rows=2, cols=n_cols, subplot_titles=list(RUN_IDS.keys()), shared_yaxes=True)\n",
    "    for i, analysis in enumerate(RUN_IDS.keys()):\n",
    "        row, col = get_row_col_for_subplots(i, n_cols)\n",
    "        spaghetti = spaghettis[analysis][output]\n",
    "        spaghetti.columns = [f'{str(chain)}, {str(draw)}' for chain, draw in spaghetti.columns]    \n",
    "        fig.add_traces(spaghetti.plot().data, rows=row, cols=col)\n",
    "        fig.add_trace(go.Scatter(x=target.data.index, y=target.data, mode='markers', marker={'color': 'black', 'size': 12}), row=row, col=col)\n",
    "    fig.update_layout(height=1000, title={'text': output})\n",
    "    fig.update_xaxes(range=(PLOT_START_DATE, ANALYSIS_END_DATE))\n",
    "    return fig"
   ]
  },
  {
   "cell_type": "code",
   "execution_count": null,
   "id": "86935ad5-bb7c-4ee2-be42-f57ffce8509b",
   "metadata": {},
   "outputs": [],
   "source": [
    "plot_multi_spaghetti('notifications_ma', targets)"
   ]
  },
  {
   "cell_type": "code",
   "execution_count": null,
   "id": "90d64956-19c6-4ee2-ae8b-8552c2d59a56",
   "metadata": {},
   "outputs": [],
   "source": [
    "plot_multi_spaghetti('deaths_ma', targets)"
   ]
  },
  {
   "cell_type": "code",
   "execution_count": null,
   "id": "cf34b3cd-3d46-4513-9e9c-2f388fa87748",
   "metadata": {},
   "outputs": [],
   "source": [
    "plot_multi_spaghetti('adult_seropos_prop', targets)"
   ]
  }
 ],
 "metadata": {
  "kernelspec": {
   "display_name": "Python 3 (ipykernel)",
   "language": "python",
   "name": "python3"
  },
  "language_info": {
   "codemirror_mode": {
    "name": "ipython",
    "version": 3
   },
   "file_extension": ".py",
   "mimetype": "text/x-python",
   "name": "python",
   "nbconvert_exporter": "python",
   "pygments_lexer": "ipython3",
   "version": "3.10.0"
  }
 },
 "nbformat": 4,
 "nbformat_minor": 5
}
