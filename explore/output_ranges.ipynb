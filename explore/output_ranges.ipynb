{
 "cells": [
  {
   "cell_type": "code",
   "execution_count": null,
   "id": "29e31891-65c3-4c7c-a309-3bc108ee8c15",
   "metadata": {},
   "outputs": [],
   "source": [
    "import pandas as pd\n",
    "import numpy as np\n",
    "import plotly.graph_objects as go\n",
    "from plotly.subplots import make_subplots\n",
    "from autumn.infrastructure.remote import springboard\n",
    "from inputs.constants import PLOT_START_DATE, ANALYSIS_END_DATE, RUN_IDS\n",
    "from estival.sampling import tools as esamp\n",
    "from aust_covid.calibration import get_targets\n",
    "from emutools.tex import DummyTexDoc"
   ]
  },
  {
   "cell_type": "code",
   "execution_count": null,
   "id": "c1c70530-7fe3-4c61-b76d-e83cc85e0e45",
   "metadata": {},
   "outputs": [],
   "source": [
    "def get_row_col_for_subplots(i_panel, n_cols):\n",
    "    return int(np.floor(i_panel / n_cols)) + 1, i_panel % n_cols + 1\n",
    "\n",
    "\n",
    "def plot_output_ranges_by_analysis(quantile_outputs, targets, output, analyses, quantiles, max_alpha=0.7):\n",
    "    \"\"\"\n",
    "    Plot the credible intervals with subplots for each analysis type,\n",
    "    for a single output of interest.\n",
    "    \"\"\"\n",
    "    n_cols = 2\n",
    "    target_names = [t.name for t in targets]\n",
    "    fig = make_subplots(rows=2, cols=n_cols, subplot_titles=list(analyses))\n",
    "    for a, analysis in enumerate(analyses):\n",
    "        row, col = get_row_col_for_subplots(a, n_cols)\n",
    "        analysis_data = quantile_outputs[analysis]\n",
    "        data = analysis_data[output]\n",
    "        for q, quant in enumerate(quantiles):\n",
    "            alpha = min((q, len(quantiles) - q)) / np.floor(len(quantiles) / 2) * max_alpha\n",
    "            fill_colour = f'rgba(0,30,180,{str(alpha)})'\n",
    "            fig.add_traces(go.Scatter(x=data.index, y=data[quant], fill='tonexty', fillcolor=fill_colour, line={'width': 0}, name=quant), rows=row, cols=col)\n",
    "        fig.add_traces(go.Scatter(x=data.index, y=data[0.5], line={'color': 'black'}, name='median'), rows=row, cols=col)\n",
    "        if output in target_names:\n",
    "            target = next((t for t in targets if t.name == output))\n",
    "            marker_format = {'size': 10.0, 'color': 'rgba(250, 135, 206, 0.2)', 'line': {'width': 1.0}}\n",
    "            fig.add_traces(go.Scatter(x=target.data.index, y=target.data, mode='markers', marker=marker_format, name=target.name), rows=row, cols=col)\n",
    "    fig.update_layout(height=700, title=output)\n",
    "    fig.update_xaxes(range=[PLOT_START_DATE, ANALYSIS_END_DATE])\n",
    "    return fig\n",
    "\n",
    "\n",
    "def plot_output_ranges(quantile_outputs, targets, outputs, analysis, quantiles, max_alpha=0.7):\n",
    "    n_cols = 2\n",
    "    target_names = [t.name for t in targets]\n",
    "    fig = make_subplots(rows=2, cols=n_cols, subplot_titles=[o.replace('_ma', '').replace('_', ' ') for o in outputs])\n",
    "    analysis_data = quantile_outputs[analysis]\n",
    "    for i, output in enumerate(outputs):\n",
    "        row, col = get_row_col_for_subplots(i, n_cols)\n",
    "        data = analysis_data[output]\n",
    "        for q, quant in enumerate(quantiles):\n",
    "            alpha = min((q, len(quantiles) - q)) / np.floor(len(quantiles) / 2) * max_alpha\n",
    "            fill_colour = f'rgba(0,30,180,{str(alpha)})'\n",
    "            fig.add_traces(go.Scatter(x=data.index, y=data[quant], fill='tonexty', fillcolor=fill_colour, line={'width': 0}, name=quant), rows=row, cols=col)\n",
    "        fig.add_traces(go.Scatter(x=data.index, y=data[0.5], line={'color': 'black'}, name='median'), rows=row, cols=col)\n",
    "        if output in target_names:\n",
    "            target = next((t for t in targets if t.name == output))\n",
    "            marker_format = {'size': 10.0, 'color': 'rgba(250, 135, 206, 0.2)', 'line': {'width': 1.0}}\n",
    "            fig.add_traces(go.Scatter(x=target.data.index, y=target.data, mode='markers', marker=marker_format, name=target.name), rows=row, cols=col)\n",
    "    fig.update_layout(height=700)\n",
    "    fig.update_xaxes(range=[PLOT_START_DATE, ANALYSIS_END_DATE])\n",
    "    return fig"
   ]
  },
  {
   "cell_type": "code",
   "execution_count": null,
   "id": "9834b6ca-97bb-41ed-8f91-fac6d629b950",
   "metadata": {},
   "outputs": [],
   "source": [
    "rts = springboard.task.RemoteTaskStore()\n",
    "rts.cd('projects/aust_covid/alternate_analyses')\n",
    "spaghettis = {}\n",
    "quantile_outputs = {}\n",
    "quantiles = [0.025, 0.25, 0.5, 0.75, 0.975]\n",
    "for analysis, run_id in RUN_IDS.items():\n",
    "    mt = rts.get_managed_task(run_id)\n",
    "    # mt.download_all()\n",
    "    spaghettis[analysis] = pd.read_hdf(mt.local.path / 'output/results.hdf', 'spaghetti')\n",
    "    quantile_outputs[analysis] = esamp.quantiles_for_results(spaghettis[analysis], quantiles)"
   ]
  },
  {
   "cell_type": "code",
   "execution_count": null,
   "id": "d5c02e54-9ace-44de-944b-66404c90988e",
   "metadata": {},
   "outputs": [],
   "source": [
    "targets = get_targets(DummyTexDoc())\n",
    "outputs = ['notifications_ma', 'deaths_ma', 'adult_seropos_prop', 'reproduction_number']\n",
    "plot_output_ranges(quantile_outputs, targets, outputs, 'mob', quantiles)"
   ]
  },
  {
   "cell_type": "code",
   "execution_count": null,
   "id": "fc5e3bf6-1c9e-42a2-b0c1-b1b911ff1248",
   "metadata": {},
   "outputs": [],
   "source": [
    "plot_output_ranges_by_analysis(quantile_outputs, targets, 'notifications_ma', RUN_IDS.keys(), quantiles)"
   ]
  },
  {
   "cell_type": "code",
   "execution_count": null,
   "id": "2affb2e6-36f7-426b-b211-2e760d6df339",
   "metadata": {},
   "outputs": [],
   "source": [
    "plot_output_ranges_by_analysis(quantile_outputs, targets, 'deaths_ma', RUN_IDS.keys(), quantiles)"
   ]
  },
  {
   "cell_type": "code",
   "execution_count": null,
   "id": "e7600e9b-3772-4710-8bbc-c80dcc850f89",
   "metadata": {},
   "outputs": [],
   "source": [
    "plot_output_ranges_by_analysis(quantile_outputs, targets, 'adult_seropos_prop', RUN_IDS.keys(), quantiles)"
   ]
  }
 ],
 "metadata": {
  "kernelspec": {
   "display_name": "Python 3 (ipykernel)",
   "language": "python",
   "name": "python3"
  },
  "language_info": {
   "codemirror_mode": {
    "name": "ipython",
    "version": 3
   },
   "file_extension": ".py",
   "mimetype": "text/x-python",
   "name": "python",
   "nbconvert_exporter": "python",
   "pygments_lexer": "ipython3",
   "version": "3.10.0"
  }
 },
 "nbformat": 4,
 "nbformat_minor": 5
}
